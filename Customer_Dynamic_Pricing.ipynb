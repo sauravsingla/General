{
  "nbformat": 4,
  "nbformat_minor": 0,
  "metadata": {
    "colab": {
      "name": "Customer_Dynamic_Pricing.ipynb",
      "provenance": [],
      "collapsed_sections": [],
      "include_colab_link": true
    },
    "kernelspec": {
      "name": "python3",
      "display_name": "Python 3"
    },
    "accelerator": "TPU"
  },
  "cells": [
    {
      "cell_type": "markdown",
      "metadata": {
        "id": "view-in-github",
        "colab_type": "text"
      },
      "source": [
        "<a href=\"https://colab.research.google.com/github/sauravsingla/General/blob/master/Customer_Dynamic_Pricing.ipynb\" target=\"_parent\"><img src=\"https://colab.research.google.com/assets/colab-badge.svg\" alt=\"Open In Colab\"/></a>"
      ]
    },
    {
      "cell_type": "code",
      "metadata": {
        "id": "v4fDMtN9bBlX"
      },
      "source": [
        "import gc\n",
        "import time\n",
        "import numpy as np\n",
        "import pandas as pd\n",
        "import matplotlib.pyplot as plt\n",
        "import seaborn as sns\n",
        "from scipy.sparse import csr_matrix, hstack\n",
        "from sklearn.feature_extraction.text import CountVectorizer, TfidfVectorizer\n",
        "from sklearn.preprocessing import LabelBinarizer\n",
        "from sklearn.model_selection import train_test_split, cross_val_score\n",
        "from sklearn.metrics import mean_squared_error\n",
        "import lightgbm as lgb"
      ],
      "execution_count": null,
      "outputs": []
    },
    {
      "cell_type": "code",
      "metadata": {
        "_uuid": "0347168572ec8db00987543c3feeb6d803c337de",
        "_cell_guid": "26af60ec-1904-4b24-9f97-d26bed799e47",
        "id": "tPwmzOHda2dc",
        "outputId": "98dd1fac-aa9b-4f21-aeae-0c199247b8ba",
        "colab": {
          "base_uri": "https://localhost:8080/",
          "height": 136
        }
      },
      "source": [
        "# This Python 3 environment comes with many helpful analytics libraries installed\n",
        "# It is defined by the kaggle/python docker image: https://github.com/kaggle/docker-python\n",
        "# For example, here's several helpful packages to load in \n",
        "\n",
        "import numpy as np # linear algebra\n",
        "import pandas as pd # data processing, CSV file I/O (e.g. pd.read_csv)\n",
        "\n",
        "# Input data files are available in the \"../input/\" directory.\n",
        "# For example, running this (by clicking run or pressing Shift+Enter) will list the files in the input directory\n",
        "\n",
        "from subprocess import check_output\n",
        "print(check_output([\"ls\", \"/content\"]).decode(\"utf8\"))\n",
        "\n",
        "# Any results you write to the current directory are saved as output.\n",
        "\n",
        "train = pd.read_csv(\"train.tsv\", sep='\\t')\n",
        "test = pd.read_csv(\"test.tsv\", sep='\\t')\n",
        "\n",
        "\n"
      ],
      "execution_count": null,
      "outputs": [
        {
          "output_type": "stream",
          "text": [
            "=conda3\n",
            "Data-Science\n",
            "sample_data\n",
            "sample_submission.csv\n",
            "test.tsv\n",
            "train.tsv\n",
            "\n"
          ],
          "name": "stdout"
        }
      ]
    },
    {
      "cell_type": "code",
      "metadata": {
        "_uuid": "5e202ac8d7b130c8446e69e3f64ec60aff42a825",
        "_cell_guid": "a25ed9b1-eb32-4170-b5d1-a2c8e6f1ad5d",
        "id": "Nr9GTaIfa2dq"
      },
      "source": [
        "# new features\n",
        "# len of description\n",
        "\n",
        "train['item_description'] = train['item_description'].astype(str)\n",
        "test['item_description'] = test['item_description'].astype(str)\n",
        "\n",
        "train['des_len'] = train['item_description'].apply(lambda x: len(x))\n",
        "test['des_len'] = test['item_description'].apply(lambda x: len(x))"
      ],
      "execution_count": null,
      "outputs": []
    },
    {
      "cell_type": "code",
      "metadata": {
        "_uuid": "e7d507fc611269b3cbc4cfeca420edbfd441124c",
        "_cell_guid": "b58c3221-1eeb-45ff-8fd5-c25e900e236a",
        "id": "-lD_fJdFa2dv"
      },
      "source": [
        "# words in description\n",
        "train['word_count'] = train['item_description'].apply(lambda x: len(x.split()))\n",
        "test['word_count'] = test['item_description'].apply(lambda x: len(x.split()))"
      ],
      "execution_count": null,
      "outputs": []
    },
    {
      "cell_type": "code",
      "metadata": {
        "_uuid": "72b0939b324697f168c32de65fc4a4faf0711e88",
        "_cell_guid": "8b37a629-9a5a-47ac-91c4-0eb93571bedf",
        "id": "vXmJ9RAua2dy"
      },
      "source": [
        "# men len of words in description inversed and scaled\n",
        "train['mean_des'] = train['item_description'].apply(lambda x: float(len(x.split())) / len(x))  * 10\n",
        "test['mean_des'] = test['item_description'].apply(lambda x: float(len(x.split())) / len(x)) * 10 \n"
      ],
      "execution_count": null,
      "outputs": []
    },
    {
      "cell_type": "code",
      "metadata": {
        "_uuid": "0461a2c3629e369d9bc39793648dfb3f31f26a55",
        "_cell_guid": "f6ed68b7-f1cd-48f9-8b5f-8504aabcf3fe",
        "id": "JkWYsbvVa2d2"
      },
      "source": [
        "# length of name\n",
        "train['name_len'] = train['name'].apply(lambda x: len(x))\n",
        "test['name_len'] = test['name'].apply(lambda x: len(x))"
      ],
      "execution_count": null,
      "outputs": []
    },
    {
      "cell_type": "code",
      "metadata": {
        "_uuid": "4c16298bc03ffa723a632779a84fbafeaefe6039",
        "_cell_guid": "0d42bb32-8657-478a-babf-6e95b59d4489",
        "id": "dOHW6_w0a2d6"
      },
      "source": [
        "# words in name\n",
        "train['word_name'] = train['name'].apply(lambda x: len(x.split()))\n",
        "test['word_name'] = test['name'].apply(lambda x: len(x.split()))"
      ],
      "execution_count": null,
      "outputs": []
    },
    {
      "cell_type": "code",
      "metadata": {
        "_uuid": "098ef233be874e8f6b814ba692e1f18d6a44dec8",
        "_cell_guid": "55829eaf-ae80-4a59-9532-3243f2ab0ee7",
        "id": "lpLJtkkNa2d-"
      },
      "source": [
        "# men len of words in name inversed and scaled\n",
        "train['mean_name'] = train['name'].apply(lambda x: float(len(x.split())) / len(x))  * 10\n",
        "test['mean_name'] = test['name'].apply(lambda x: float(len(x.split())) / len(x)) * 10 "
      ],
      "execution_count": null,
      "outputs": []
    },
    {
      "cell_type": "code",
      "metadata": {
        "_uuid": "57c303b36932105c47a823dcdecab8d0196a82ab",
        "_cell_guid": "6f4f55c4-95f1-4223-9b9a-007ce3f28aa4",
        "id": "H2f85fF1a2eE",
        "outputId": "4c74fef4-081a-4865-9717-444020468796",
        "colab": {
          "base_uri": "https://localhost:8080/",
          "height": 445
        }
      },
      "source": [
        "train.head()"
      ],
      "execution_count": null,
      "outputs": [
        {
          "output_type": "execute_result",
          "data": {
            "text/html": [
              "<div>\n",
              "<style scoped>\n",
              "    .dataframe tbody tr th:only-of-type {\n",
              "        vertical-align: middle;\n",
              "    }\n",
              "\n",
              "    .dataframe tbody tr th {\n",
              "        vertical-align: top;\n",
              "    }\n",
              "\n",
              "    .dataframe thead th {\n",
              "        text-align: right;\n",
              "    }\n",
              "</style>\n",
              "<table border=\"1\" class=\"dataframe\">\n",
              "  <thead>\n",
              "    <tr style=\"text-align: right;\">\n",
              "      <th></th>\n",
              "      <th>train_id</th>\n",
              "      <th>name</th>\n",
              "      <th>item_condition_id</th>\n",
              "      <th>category_name</th>\n",
              "      <th>brand_name</th>\n",
              "      <th>price</th>\n",
              "      <th>shipping</th>\n",
              "      <th>item_description</th>\n",
              "      <th>des_len</th>\n",
              "      <th>word_count</th>\n",
              "      <th>mean_des</th>\n",
              "      <th>name_len</th>\n",
              "      <th>word_name</th>\n",
              "      <th>mean_name</th>\n",
              "    </tr>\n",
              "  </thead>\n",
              "  <tbody>\n",
              "    <tr>\n",
              "      <th>0</th>\n",
              "      <td>0</td>\n",
              "      <td>MLB Cincinnati Reds T Shirt Size XL</td>\n",
              "      <td>3</td>\n",
              "      <td>Men/Tops/T-shirts</td>\n",
              "      <td>NaN</td>\n",
              "      <td>10.0</td>\n",
              "      <td>1</td>\n",
              "      <td>No description yet</td>\n",
              "      <td>18</td>\n",
              "      <td>3</td>\n",
              "      <td>1.666667</td>\n",
              "      <td>35</td>\n",
              "      <td>7</td>\n",
              "      <td>2.000000</td>\n",
              "    </tr>\n",
              "    <tr>\n",
              "      <th>1</th>\n",
              "      <td>1</td>\n",
              "      <td>Razer BlackWidow Chroma Keyboard</td>\n",
              "      <td>3</td>\n",
              "      <td>Electronics/Computers &amp; Tablets/Components &amp; P...</td>\n",
              "      <td>Razer</td>\n",
              "      <td>52.0</td>\n",
              "      <td>0</td>\n",
              "      <td>This keyboard is in great condition and works ...</td>\n",
              "      <td>188</td>\n",
              "      <td>36</td>\n",
              "      <td>1.914894</td>\n",
              "      <td>32</td>\n",
              "      <td>4</td>\n",
              "      <td>1.250000</td>\n",
              "    </tr>\n",
              "    <tr>\n",
              "      <th>2</th>\n",
              "      <td>2</td>\n",
              "      <td>AVA-VIV Blouse</td>\n",
              "      <td>1</td>\n",
              "      <td>Women/Tops &amp; Blouses/Blouse</td>\n",
              "      <td>Target</td>\n",
              "      <td>10.0</td>\n",
              "      <td>1</td>\n",
              "      <td>Adorable top with a hint of lace and a key hol...</td>\n",
              "      <td>124</td>\n",
              "      <td>29</td>\n",
              "      <td>2.338710</td>\n",
              "      <td>14</td>\n",
              "      <td>2</td>\n",
              "      <td>1.428571</td>\n",
              "    </tr>\n",
              "    <tr>\n",
              "      <th>3</th>\n",
              "      <td>3</td>\n",
              "      <td>Leather Horse Statues</td>\n",
              "      <td>1</td>\n",
              "      <td>Home/Home Décor/Home Décor Accents</td>\n",
              "      <td>NaN</td>\n",
              "      <td>35.0</td>\n",
              "      <td>1</td>\n",
              "      <td>New with tags. Leather horses. Retail for [rm]...</td>\n",
              "      <td>173</td>\n",
              "      <td>32</td>\n",
              "      <td>1.849711</td>\n",
              "      <td>21</td>\n",
              "      <td>3</td>\n",
              "      <td>1.428571</td>\n",
              "    </tr>\n",
              "    <tr>\n",
              "      <th>4</th>\n",
              "      <td>4</td>\n",
              "      <td>24K GOLD plated rose</td>\n",
              "      <td>1</td>\n",
              "      <td>Women/Jewelry/Necklaces</td>\n",
              "      <td>NaN</td>\n",
              "      <td>44.0</td>\n",
              "      <td>0</td>\n",
              "      <td>Complete with certificate of authenticity</td>\n",
              "      <td>41</td>\n",
              "      <td>5</td>\n",
              "      <td>1.219512</td>\n",
              "      <td>20</td>\n",
              "      <td>4</td>\n",
              "      <td>2.000000</td>\n",
              "    </tr>\n",
              "  </tbody>\n",
              "</table>\n",
              "</div>"
            ],
            "text/plain": [
              "   train_id                                 name  item_condition_id  \\\n",
              "0         0  MLB Cincinnati Reds T Shirt Size XL                  3   \n",
              "1         1     Razer BlackWidow Chroma Keyboard                  3   \n",
              "2         2                       AVA-VIV Blouse                  1   \n",
              "3         3                Leather Horse Statues                  1   \n",
              "4         4                 24K GOLD plated rose                  1   \n",
              "\n",
              "                                       category_name brand_name  price  \\\n",
              "0                                  Men/Tops/T-shirts        NaN   10.0   \n",
              "1  Electronics/Computers & Tablets/Components & P...      Razer   52.0   \n",
              "2                        Women/Tops & Blouses/Blouse     Target   10.0   \n",
              "3                 Home/Home Décor/Home Décor Accents        NaN   35.0   \n",
              "4                            Women/Jewelry/Necklaces        NaN   44.0   \n",
              "\n",
              "   shipping                                   item_description  des_len  \\\n",
              "0         1                                 No description yet       18   \n",
              "1         0  This keyboard is in great condition and works ...      188   \n",
              "2         1  Adorable top with a hint of lace and a key hol...      124   \n",
              "3         1  New with tags. Leather horses. Retail for [rm]...      173   \n",
              "4         0          Complete with certificate of authenticity       41   \n",
              "\n",
              "   word_count  mean_des  name_len  word_name  mean_name  \n",
              "0           3  1.666667        35          7   2.000000  \n",
              "1          36  1.914894        32          4   1.250000  \n",
              "2          29  2.338710        14          2   1.428571  \n",
              "3          32  1.849711        21          3   1.428571  \n",
              "4           5  1.219512        20          4   2.000000  "
            ]
          },
          "metadata": {
            "tags": []
          },
          "execution_count": 11
        }
      ]
    },
    {
      "cell_type": "code",
      "metadata": {
        "_uuid": "87c4b8d92552c225f6fbbd716f2782a0b41cfaa1",
        "_cell_guid": "b8d5e1a7-e112-42aa-8526-95b50cf9f7e9",
        "id": "0ecICipJa2eI",
        "outputId": "f21a2c11-3715-4c37-948d-5f7dc9a8dbdb",
        "colab": {
          "base_uri": "https://localhost:8080/",
          "height": 272
        }
      },
      "source": [
        "# missing value imputation\n",
        "train.isnull().sum()"
      ],
      "execution_count": null,
      "outputs": [
        {
          "output_type": "execute_result",
          "data": {
            "text/plain": [
              "train_id                  0\n",
              "name                      0\n",
              "item_condition_id         0\n",
              "category_name          6327\n",
              "brand_name           632682\n",
              "price                     0\n",
              "shipping                  0\n",
              "item_description          0\n",
              "des_len                   0\n",
              "word_count                0\n",
              "mean_des                  0\n",
              "name_len                  0\n",
              "word_name                 0\n",
              "mean_name                 0\n",
              "dtype: int64"
            ]
          },
          "metadata": {
            "tags": []
          },
          "execution_count": 12
        }
      ]
    },
    {
      "cell_type": "code",
      "metadata": {
        "_uuid": "1fc89dc98cd3d7378e80f63382ceaa83b7ca7d8a",
        "_cell_guid": "f1e5a573-ebaa-4514-b9b2-31a2655ad2e5",
        "id": "9Fi6oe38a2eL",
        "outputId": "fe6073e5-f107-4a15-ba0c-ccbd62b61571",
        "colab": {
          "base_uri": "https://localhost:8080/",
          "height": 1071
        }
      },
      "source": [
        "train['category_name'].value_counts()"
      ],
      "execution_count": null,
      "outputs": [
        {
          "output_type": "execute_result",
          "data": {
            "text/plain": [
              "Women/Athletic Apparel/Pants, Tights, Leggings                 60177\n",
              "Women/Tops & Blouses/T-Shirts                                  46380\n",
              "Beauty/Makeup/Face                                             34335\n",
              "Beauty/Makeup/Lips                                             29910\n",
              "Electronics/Video Games & Consoles/Games                       26557\n",
              "Beauty/Makeup/Eyes                                             25215\n",
              "Electronics/Cell Phones & Accessories/Cases, Covers & Skins    24676\n",
              "Women/Underwear/Bras                                           21274\n",
              "Women/Tops & Blouses/Blouse                                    20284\n",
              "Women/Tops & Blouses/Tank, Cami                                20284\n",
              "Women/Dresses/Above Knee, Mini                                 20082\n",
              "Women/Jewelry/Necklaces                                        19758\n",
              "Women/Athletic Apparel/Shorts                                  19528\n",
              "Beauty/Makeup/Makeup Palettes                                  19103\n",
              "Women/Shoes/Boots                                              18864\n",
              "Beauty/Fragrance/Women                                         18628\n",
              "Beauty/Skin Care/Face                                          15836\n",
              "Women/Women's Handbags/Shoulder Bag                            15328\n",
              "Men/Tops/T-shirts                                              15108\n",
              "Women/Dresses/Knee-Length                                      14770\n",
              "Women/Athletic Apparel/Shirts & Tops                           14738\n",
              "Women/Shoes/Sandals                                            14662\n",
              "Women/Jewelry/Bracelets                                        14497\n",
              "Men/Shoes/Athletic                                             14257\n",
              "Kids/Toys/Dolls & Accessories                                  13957\n",
              "Women/Women's Accessories/Wallets                              13616\n",
              "Women/Jeans/Slim, Skinny                                       13392\n",
              "Home/Home Décor/Home Décor Accents                             13004\n",
              "Women/Swimwear/Two-Piece                                       12758\n",
              "Women/Shoes/Athletic                                           12662\n",
              "                                                               ...  \n",
              "Men/Suits/One Button                                               1\n",
              "Handmade/Toys/Doll Clothes                                         1\n",
              "Handmade/Art/Aceo                                                  1\n",
              "Handmade/Glass/Vases                                               1\n",
              "Handmade/Books and Zines/Comic                                     1\n",
              "Handmade/Weddings/Frames                                           1\n",
              "Handmade/Quilts/Pillow                                             1\n",
              "Handmade/Woodworking/Accessories                                   1\n",
              "Handmade/Knitting/Scarf                                            1\n",
              "Men/Suits/Four Button                                              1\n",
              "Handmade/Paper Goods/Pad                                           1\n",
              "Other/Pet Supplies/Pet Food                                        1\n",
              "Handmade/Knitting/Doll                                             1\n",
              "Handmade/Ceramics and Pottery/Tiles                                1\n",
              "Vintage & Collectibles/Furniture/Storage                           1\n",
              "Handmade/Pets/Blanket                                              1\n",
              "Handmade/Accessories/Cozy                                          1\n",
              "Handmade/Geekery/Housewares                                        1\n",
              "Vintage & Collectibles/Furniture/Shelf                             1\n",
              "Handmade/Knitting/Cozy                                             1\n",
              "Handmade/Housewares/Bathroom                                       1\n",
              "Vintage & Collectibles/Book/Decorating                             1\n",
              "Handmade/Children/Furniture                                        1\n",
              "Handmade/Knitting/Bags and Purses                                  1\n",
              "Handmade/Dolls and Miniatures/Child Friendly                       1\n",
              "Home/Kids' Home Store/Nursery Furniture                            1\n",
              "Handmade/Furniture/Fixture                                         1\n",
              "Handmade/Woodworking/Sculptures                                    1\n",
              "Vintage & Collectibles/Antique/Furniture                           1\n",
              "Handmade/Bags and Purses/Diaper Bag                                1\n",
              "Name: category_name, Length: 1287, dtype: int64"
            ]
          },
          "metadata": {
            "tags": []
          },
          "execution_count": 13
        }
      ]
    },
    {
      "cell_type": "code",
      "metadata": {
        "_uuid": "1cb75c446b23af90dc92d05114b2814a07692d67",
        "_cell_guid": "a71e05a8-30ba-4be1-9f55-a80436ee4d07",
        "id": "uzeGEKj8a2eP"
      },
      "source": [
        "train['category_name'].fillna('ppp/ppp/ppp', inplace=True)\n",
        "test['category_name'].fillna('ppp/ppp/ppp', inplace=True)"
      ],
      "execution_count": null,
      "outputs": []
    },
    {
      "cell_type": "code",
      "metadata": {
        "_uuid": "d3448fe26cd3bbb2a9cbdbceb9a049bbdc121c81",
        "_cell_guid": "aa824d1f-7375-482c-8618-fffc506739af",
        "id": "XCcQNdvIa2eR"
      },
      "source": [
        "#train[ train['category_name'].str.contains('Electronics') ]['price'].mean()"
      ],
      "execution_count": null,
      "outputs": []
    },
    {
      "cell_type": "code",
      "metadata": {
        "_uuid": "226fe5c9d39d058ed8c1ff72c65292b08c3dfbeb",
        "_cell_guid": "fe1fa074-9149-45e1-b1a9-997e77412ba6",
        "id": "AsiB5epna2eT"
      },
      "source": [
        "train['elec'] = train['category_name'].apply(lambda x : int('electronics' in x.lower()))\n",
        "test['elec'] = test['category_name'].apply(lambda x : int('electronics' in x.lower()))"
      ],
      "execution_count": null,
      "outputs": []
    },
    {
      "cell_type": "code",
      "metadata": {
        "_uuid": "b1b2429238d1af2b3a82781aa04103fe202de2d1",
        "_cell_guid": "3e80cd1b-eb5c-4527-8a77-b631186fa91a",
        "id": "O2C0n84Xa2eV",
        "outputId": "699b36bb-3d1e-4180-9be2-b2d9931358c2",
        "colab": {
          "base_uri": "https://localhost:8080/",
          "height": 1071
        }
      },
      "source": [
        "train['category_name'].value_counts()"
      ],
      "execution_count": null,
      "outputs": [
        {
          "output_type": "execute_result",
          "data": {
            "text/plain": [
              "Women/Athletic Apparel/Pants, Tights, Leggings                 60177\n",
              "Women/Tops & Blouses/T-Shirts                                  46380\n",
              "Beauty/Makeup/Face                                             34335\n",
              "Beauty/Makeup/Lips                                             29910\n",
              "Electronics/Video Games & Consoles/Games                       26557\n",
              "Beauty/Makeup/Eyes                                             25215\n",
              "Electronics/Cell Phones & Accessories/Cases, Covers & Skins    24676\n",
              "Women/Underwear/Bras                                           21274\n",
              "Women/Tops & Blouses/Blouse                                    20284\n",
              "Women/Tops & Blouses/Tank, Cami                                20284\n",
              "Women/Dresses/Above Knee, Mini                                 20082\n",
              "Women/Jewelry/Necklaces                                        19758\n",
              "Women/Athletic Apparel/Shorts                                  19528\n",
              "Beauty/Makeup/Makeup Palettes                                  19103\n",
              "Women/Shoes/Boots                                              18864\n",
              "Beauty/Fragrance/Women                                         18628\n",
              "Beauty/Skin Care/Face                                          15836\n",
              "Women/Women's Handbags/Shoulder Bag                            15328\n",
              "Men/Tops/T-shirts                                              15108\n",
              "Women/Dresses/Knee-Length                                      14770\n",
              "Women/Athletic Apparel/Shirts & Tops                           14738\n",
              "Women/Shoes/Sandals                                            14662\n",
              "Women/Jewelry/Bracelets                                        14497\n",
              "Men/Shoes/Athletic                                             14257\n",
              "Kids/Toys/Dolls & Accessories                                  13957\n",
              "Women/Women's Accessories/Wallets                              13616\n",
              "Women/Jeans/Slim, Skinny                                       13392\n",
              "Home/Home Décor/Home Décor Accents                             13004\n",
              "Women/Swimwear/Two-Piece                                       12758\n",
              "Women/Shoes/Athletic                                           12662\n",
              "                                                               ...  \n",
              "Men/Suits/One Button                                               1\n",
              "Handmade/Toys/Doll Clothes                                         1\n",
              "Handmade/Art/Aceo                                                  1\n",
              "Handmade/Glass/Vases                                               1\n",
              "Handmade/Books and Zines/Comic                                     1\n",
              "Handmade/Weddings/Frames                                           1\n",
              "Handmade/Quilts/Pillow                                             1\n",
              "Handmade/Knitting/Scarf                                            1\n",
              "Handmade/Woodworking/Accessories                                   1\n",
              "Men/Suits/Four Button                                              1\n",
              "Handmade/Paper Goods/Pad                                           1\n",
              "Other/Pet Supplies/Pet Food                                        1\n",
              "Handmade/Knitting/Doll                                             1\n",
              "Handmade/Ceramics and Pottery/Tiles                                1\n",
              "Vintage & Collectibles/Furniture/Storage                           1\n",
              "Handmade/Pets/Blanket                                              1\n",
              "Handmade/Accessories/Cozy                                          1\n",
              "Handmade/Geekery/Housewares                                        1\n",
              "Vintage & Collectibles/Furniture/Shelf                             1\n",
              "Handmade/Knitting/Cozy                                             1\n",
              "Vintage & Collectibles/Book/Decorating                             1\n",
              "Handmade/Housewares/Bathroom                                       1\n",
              "Handmade/Children/Furniture                                        1\n",
              "Handmade/Knitting/Bags and Purses                                  1\n",
              "Handmade/Dolls and Miniatures/Child Friendly                       1\n",
              "Handmade/Furniture/Fixture                                         1\n",
              "Home/Kids' Home Store/Nursery Furniture                            1\n",
              "Handmade/Woodworking/Sculptures                                    1\n",
              "Vintage & Collectibles/Antique/Furniture                           1\n",
              "Handmade/Bags and Purses/Diaper Bag                                1\n",
              "Name: category_name, Length: 1288, dtype: int64"
            ]
          },
          "metadata": {
            "tags": []
          },
          "execution_count": 17
        }
      ]
    },
    {
      "cell_type": "code",
      "metadata": {
        "_uuid": "8148d445c58778c0b9a17062ebd71fa4e7648260",
        "_cell_guid": "b5eb129b-3454-4aee-aea3-672da04c00ad",
        "id": "d8EKXHJUa2eY"
      },
      "source": [
        "train['brand_name'].fillna('ttttttt', inplace=True)\n",
        "test['brand_name'].fillna('ttttttt', inplace=True)"
      ],
      "execution_count": null,
      "outputs": []
    },
    {
      "cell_type": "code",
      "metadata": {
        "_uuid": "a32cbcde742d5df8c59909d8d925dde04282e457",
        "_cell_guid": "2b11546e-7045-4ec3-87a7-c0e61c628107",
        "id": "AkBsCnJIa2ef",
        "outputId": "d8521b75-8cae-4e03-bd78-0ee0b4ae6c09",
        "colab": {
          "base_uri": "https://localhost:8080/",
          "height": 272
        }
      },
      "source": [
        "train.isnull().sum()\n",
        "test.isnull().sum()"
      ],
      "execution_count": null,
      "outputs": [
        {
          "output_type": "execute_result",
          "data": {
            "text/plain": [
              "test_id              0\n",
              "name                 0\n",
              "item_condition_id    0\n",
              "category_name        0\n",
              "brand_name           0\n",
              "shipping             0\n",
              "item_description     0\n",
              "des_len              0\n",
              "word_count           0\n",
              "mean_des             0\n",
              "name_len             0\n",
              "word_name            0\n",
              "mean_name            0\n",
              "elec                 0\n",
              "dtype: int64"
            ]
          },
          "metadata": {
            "tags": []
          },
          "execution_count": 19
        }
      ]
    },
    {
      "cell_type": "code",
      "metadata": {
        "_uuid": "9466403ba46ba8791f1835212075ff4b103fc4ff",
        "_cell_guid": "43bc14c6-a689-4382-bd06-f11d242e95bd",
        "id": "Ed2NlODFa2em"
      },
      "source": [
        "# types of category\n",
        "#train['cat_len'] = train['category_name'].apply(lambda x: len( x.split('/')))\n",
        "#test['cat_len'] = test['category_name'].apply(lambda x: len( x.split('/')))"
      ],
      "execution_count": null,
      "outputs": []
    },
    {
      "cell_type": "code",
      "metadata": {
        "_uuid": "29168589376d189b069dd090f8f8d212d1393fd7",
        "_cell_guid": "8f124d9c-1b81-43cd-9e3d-6685b7b2bec0",
        "id": "rn2jlmNka2es"
      },
      "source": [
        "#length of category words\n",
        "train['cat_lennn'] = train['category_name'].apply(lambda x: len(x))\n",
        "test['cat_lennn'] = test['category_name'].apply(lambda x: len(x))"
      ],
      "execution_count": null,
      "outputs": []
    },
    {
      "cell_type": "code",
      "metadata": {
        "_uuid": "53e7cef5fce8942bd42e3e7fb92a0a044c21de76",
        "_cell_guid": "cae8e88a-79d8-441a-a389-026625e14e35",
        "id": "1I9ZqF-Aa2ev"
      },
      "source": [
        "def was_priced(x):\n",
        "    return int('[rm]' in x)\n",
        "               \n",
        "train['rm'] = train['item_description'].apply( lambda x : was_priced(x))\n",
        "test['rm'] = test['item_description'].apply( lambda x : was_priced(x))\n",
        "               "
      ],
      "execution_count": null,
      "outputs": []
    },
    {
      "cell_type": "code",
      "metadata": {
        "_uuid": "c6f98e71643290e0b285cc340af0537b905bed97",
        "_cell_guid": "0c15f895-9e64-4588-9451-ecd62fc1cd22",
        "id": "wNHGq3r5a2ey"
      },
      "source": [
        "train['was_described'] = 1\n",
        "test['was_described'] = 1\n",
        "\n",
        "train.loc[ train['item_description'] == 'No description yet','was_described'] = 0\n",
        "test.loc[ test['item_description'] == 'No description yet','was_described'] = 0\n"
      ],
      "execution_count": null,
      "outputs": []
    },
    {
      "cell_type": "code",
      "metadata": {
        "_uuid": "ea60f51449ae069e6b4a815e24b82d07bbd12f69",
        "_cell_guid": "f63a4ef0-2627-474e-8137-2efc052b4bc7",
        "id": "zIq9Sp7ta2e1"
      },
      "source": [
        "# description containes 'new' word\n",
        "train['new'] = train['item_description'].apply(lambda x : int('new' in x.lower()))\n",
        "test['new'] = test['item_description'].apply(lambda x : int('new' in x.lower()))"
      ],
      "execution_count": null,
      "outputs": []
    },
    {
      "cell_type": "code",
      "metadata": {
        "_uuid": "4b093b8babfbed94f71213317161392f36472b7a",
        "_cell_guid": "8f5ec151-450a-4a93-9ecf-d84e6e91d086",
        "id": "lCvclp5ua2e3",
        "outputId": "45bd8a0d-a057-425b-a190-5a343240f872",
        "colab": {
          "base_uri": "https://localhost:8080/",
          "height": 474
        }
      },
      "source": [
        "# splitting subcategories of category_name\n",
        "train_cat = pd.DataFrame(train.category_name.str.split('/',2).tolist(),\n",
        "                                   columns = ['sub1','sub2', 'sub3'])\n",
        "train['sub1'] = train_cat['sub1']\n",
        "train['sub2'] = train_cat['sub2']\n",
        "train['sub3'] = train_cat['sub3']\n",
        "\n",
        "test_cat = pd.DataFrame(test.category_name.str.split('/',2).tolist(),\n",
        "                                   columns = ['sub1','sub2', 'sub3'])\n",
        "\n",
        "test['sub1'] = test_cat['sub1']\n",
        "test['sub2'] = test_cat['sub2']\n",
        "test['sub3'] = test_cat['sub3']\n",
        "\n",
        "train.head()"
      ],
      "execution_count": null,
      "outputs": [
        {
          "output_type": "execute_result",
          "data": {
            "text/html": [
              "<div>\n",
              "<style scoped>\n",
              "    .dataframe tbody tr th:only-of-type {\n",
              "        vertical-align: middle;\n",
              "    }\n",
              "\n",
              "    .dataframe tbody tr th {\n",
              "        vertical-align: top;\n",
              "    }\n",
              "\n",
              "    .dataframe thead th {\n",
              "        text-align: right;\n",
              "    }\n",
              "</style>\n",
              "<table border=\"1\" class=\"dataframe\">\n",
              "  <thead>\n",
              "    <tr style=\"text-align: right;\">\n",
              "      <th></th>\n",
              "      <th>train_id</th>\n",
              "      <th>name</th>\n",
              "      <th>item_condition_id</th>\n",
              "      <th>category_name</th>\n",
              "      <th>brand_name</th>\n",
              "      <th>price</th>\n",
              "      <th>shipping</th>\n",
              "      <th>item_description</th>\n",
              "      <th>des_len</th>\n",
              "      <th>word_count</th>\n",
              "      <th>...</th>\n",
              "      <th>word_name</th>\n",
              "      <th>mean_name</th>\n",
              "      <th>elec</th>\n",
              "      <th>cat_lennn</th>\n",
              "      <th>rm</th>\n",
              "      <th>was_described</th>\n",
              "      <th>new</th>\n",
              "      <th>sub1</th>\n",
              "      <th>sub2</th>\n",
              "      <th>sub3</th>\n",
              "    </tr>\n",
              "  </thead>\n",
              "  <tbody>\n",
              "    <tr>\n",
              "      <th>0</th>\n",
              "      <td>0</td>\n",
              "      <td>MLB Cincinnati Reds T Shirt Size XL</td>\n",
              "      <td>3</td>\n",
              "      <td>Men/Tops/T-shirts</td>\n",
              "      <td>ttttttt</td>\n",
              "      <td>10.0</td>\n",
              "      <td>1</td>\n",
              "      <td>No description yet</td>\n",
              "      <td>18</td>\n",
              "      <td>3</td>\n",
              "      <td>...</td>\n",
              "      <td>7</td>\n",
              "      <td>2.000000</td>\n",
              "      <td>0</td>\n",
              "      <td>17</td>\n",
              "      <td>0</td>\n",
              "      <td>0</td>\n",
              "      <td>0</td>\n",
              "      <td>Men</td>\n",
              "      <td>Tops</td>\n",
              "      <td>T-shirts</td>\n",
              "    </tr>\n",
              "    <tr>\n",
              "      <th>1</th>\n",
              "      <td>1</td>\n",
              "      <td>Razer BlackWidow Chroma Keyboard</td>\n",
              "      <td>3</td>\n",
              "      <td>Electronics/Computers &amp; Tablets/Components &amp; P...</td>\n",
              "      <td>Razer</td>\n",
              "      <td>52.0</td>\n",
              "      <td>0</td>\n",
              "      <td>This keyboard is in great condition and works ...</td>\n",
              "      <td>188</td>\n",
              "      <td>36</td>\n",
              "      <td>...</td>\n",
              "      <td>4</td>\n",
              "      <td>1.250000</td>\n",
              "      <td>1</td>\n",
              "      <td>50</td>\n",
              "      <td>0</td>\n",
              "      <td>1</td>\n",
              "      <td>0</td>\n",
              "      <td>Electronics</td>\n",
              "      <td>Computers &amp; Tablets</td>\n",
              "      <td>Components &amp; Parts</td>\n",
              "    </tr>\n",
              "    <tr>\n",
              "      <th>2</th>\n",
              "      <td>2</td>\n",
              "      <td>AVA-VIV Blouse</td>\n",
              "      <td>1</td>\n",
              "      <td>Women/Tops &amp; Blouses/Blouse</td>\n",
              "      <td>Target</td>\n",
              "      <td>10.0</td>\n",
              "      <td>1</td>\n",
              "      <td>Adorable top with a hint of lace and a key hol...</td>\n",
              "      <td>124</td>\n",
              "      <td>29</td>\n",
              "      <td>...</td>\n",
              "      <td>2</td>\n",
              "      <td>1.428571</td>\n",
              "      <td>0</td>\n",
              "      <td>27</td>\n",
              "      <td>0</td>\n",
              "      <td>1</td>\n",
              "      <td>0</td>\n",
              "      <td>Women</td>\n",
              "      <td>Tops &amp; Blouses</td>\n",
              "      <td>Blouse</td>\n",
              "    </tr>\n",
              "    <tr>\n",
              "      <th>3</th>\n",
              "      <td>3</td>\n",
              "      <td>Leather Horse Statues</td>\n",
              "      <td>1</td>\n",
              "      <td>Home/Home Décor/Home Décor Accents</td>\n",
              "      <td>ttttttt</td>\n",
              "      <td>35.0</td>\n",
              "      <td>1</td>\n",
              "      <td>New with tags. Leather horses. Retail for [rm]...</td>\n",
              "      <td>173</td>\n",
              "      <td>32</td>\n",
              "      <td>...</td>\n",
              "      <td>3</td>\n",
              "      <td>1.428571</td>\n",
              "      <td>0</td>\n",
              "      <td>34</td>\n",
              "      <td>1</td>\n",
              "      <td>1</td>\n",
              "      <td>1</td>\n",
              "      <td>Home</td>\n",
              "      <td>Home Décor</td>\n",
              "      <td>Home Décor Accents</td>\n",
              "    </tr>\n",
              "    <tr>\n",
              "      <th>4</th>\n",
              "      <td>4</td>\n",
              "      <td>24K GOLD plated rose</td>\n",
              "      <td>1</td>\n",
              "      <td>Women/Jewelry/Necklaces</td>\n",
              "      <td>ttttttt</td>\n",
              "      <td>44.0</td>\n",
              "      <td>0</td>\n",
              "      <td>Complete with certificate of authenticity</td>\n",
              "      <td>41</td>\n",
              "      <td>5</td>\n",
              "      <td>...</td>\n",
              "      <td>4</td>\n",
              "      <td>2.000000</td>\n",
              "      <td>0</td>\n",
              "      <td>23</td>\n",
              "      <td>0</td>\n",
              "      <td>1</td>\n",
              "      <td>0</td>\n",
              "      <td>Women</td>\n",
              "      <td>Jewelry</td>\n",
              "      <td>Necklaces</td>\n",
              "    </tr>\n",
              "  </tbody>\n",
              "</table>\n",
              "<p>5 rows × 22 columns</p>\n",
              "</div>"
            ],
            "text/plain": [
              "   train_id                                 name  item_condition_id  \\\n",
              "0         0  MLB Cincinnati Reds T Shirt Size XL                  3   \n",
              "1         1     Razer BlackWidow Chroma Keyboard                  3   \n",
              "2         2                       AVA-VIV Blouse                  1   \n",
              "3         3                Leather Horse Statues                  1   \n",
              "4         4                 24K GOLD plated rose                  1   \n",
              "\n",
              "                                       category_name brand_name  price  \\\n",
              "0                                  Men/Tops/T-shirts    ttttttt   10.0   \n",
              "1  Electronics/Computers & Tablets/Components & P...      Razer   52.0   \n",
              "2                        Women/Tops & Blouses/Blouse     Target   10.0   \n",
              "3                 Home/Home Décor/Home Décor Accents    ttttttt   35.0   \n",
              "4                            Women/Jewelry/Necklaces    ttttttt   44.0   \n",
              "\n",
              "   shipping                                   item_description  des_len  \\\n",
              "0         1                                 No description yet       18   \n",
              "1         0  This keyboard is in great condition and works ...      188   \n",
              "2         1  Adorable top with a hint of lace and a key hol...      124   \n",
              "3         1  New with tags. Leather horses. Retail for [rm]...      173   \n",
              "4         0          Complete with certificate of authenticity       41   \n",
              "\n",
              "   word_count         ...          word_name  mean_name  elec  cat_lennn  rm  \\\n",
              "0           3         ...                  7   2.000000     0         17   0   \n",
              "1          36         ...                  4   1.250000     1         50   0   \n",
              "2          29         ...                  2   1.428571     0         27   0   \n",
              "3          32         ...                  3   1.428571     0         34   1   \n",
              "4           5         ...                  4   2.000000     0         23   0   \n",
              "\n",
              "   was_described  new         sub1                 sub2                sub3  \n",
              "0              0    0          Men                 Tops            T-shirts  \n",
              "1              1    0  Electronics  Computers & Tablets  Components & Parts  \n",
              "2              1    0        Women       Tops & Blouses              Blouse  \n",
              "3              1    1         Home           Home Décor  Home Décor Accents  \n",
              "4              1    0        Women              Jewelry           Necklaces  \n",
              "\n",
              "[5 rows x 22 columns]"
            ]
          },
          "metadata": {
            "tags": []
          },
          "execution_count": 25
        }
      ]
    },
    {
      "cell_type": "code",
      "metadata": {
        "_uuid": "84a61dc88ce79c8ae9024c0ca310db4ce367bf16",
        "_cell_guid": "494d250e-d3ee-4035-b327-ce59006eea0d",
        "id": "k6oVHSkOa2e7"
      },
      "source": [
        "train['hand'] = train['category_name'].apply(lambda x : int('handmade' in x.lower()))\n",
        "test['hand'] = test['category_name'].apply(lambda x : int('handmade' in x.lower()))"
      ],
      "execution_count": null,
      "outputs": []
    },
    {
      "cell_type": "code",
      "metadata": {
        "_uuid": "578de2dbf82b5c5a768bc074b785fce21aa8c45e",
        "_cell_guid": "0d0b95f9-a361-4310-a8b9-595c0c0c2bcf",
        "id": "W6VdaNfDa2e_"
      },
      "source": [
        "train['men'] = train['category_name'].apply(lambda x : int('men' in x.lower()))\n",
        "test['men'] = test['category_name'].apply(lambda x : int('men' in x.lower()))"
      ],
      "execution_count": null,
      "outputs": []
    },
    {
      "cell_type": "code",
      "metadata": {
        "_uuid": "6b78b504e808d2fe8aa81d27e4a99fec35516941",
        "_cell_guid": "ce36631f-f4ec-4012-aa2b-7113ec17dbd5",
        "id": "vV6F8Opfa2fB"
      },
      "source": [
        "# int in description\n",
        "import re\n",
        "train['int_desc'] = train['item_description'].apply(lambda x : int(bool(re.search(r'\\d',x))))\n",
        "test['int_desc'] = test['item_description'].apply(lambda x : int(bool(re.search(r'\\d',x))))"
      ],
      "execution_count": null,
      "outputs": []
    },
    {
      "cell_type": "code",
      "metadata": {
        "_uuid": "bc3ba0dc454b06afb8572c321d6d0e51c04e6f19",
        "_cell_guid": "73caea52-bdc0-4953-b247-869f5988a30a",
        "id": "5OO15axFa2fE"
      },
      "source": [
        "# integer was present in name\n",
        "train['int_name'] = train['name'].apply(lambda x : int(bool(re.search(r'\\d',x))))\n",
        "test['int_name'] = test['name'].apply(lambda x : int(bool(re.search(r'\\d',x))))"
      ],
      "execution_count": null,
      "outputs": []
    },
    {
      "cell_type": "code",
      "metadata": {
        "_uuid": "17b07bd3f4abf0f2911ef67849464a8e66e13099",
        "_cell_guid": "c6cf16ea-70f8-4846-b971-0f18c6a76a90",
        "id": "ttl81wTCa2fI"
      },
      "source": [
        "# word condition was present in description\n",
        "train['cond'] = train['item_description'].apply(lambda x : int('condition' in x.lower()))\n",
        "test['cond'] = test['item_description'].apply(lambda x : int('condition' in x.lower()))"
      ],
      "execution_count": null,
      "outputs": []
    },
    {
      "cell_type": "code",
      "metadata": {
        "_uuid": "05c211cbfbff97182e867a5c2d3c7df7f6be4bd2",
        "_cell_guid": "d130bfef-7e90-4041-9d74-5f253dcf71a3",
        "id": "_tsDuPlwa2fO",
        "outputId": "59a668d9-bc4a-4846-b76c-1353beee97e8",
        "colab": {
          "base_uri": "https://localhost:8080/",
          "height": 1071
        }
      },
      "source": [
        "train['category_name'].value_counts()"
      ],
      "execution_count": null,
      "outputs": [
        {
          "output_type": "execute_result",
          "data": {
            "text/plain": [
              "Women/Athletic Apparel/Pants, Tights, Leggings                 60177\n",
              "Women/Tops & Blouses/T-Shirts                                  46380\n",
              "Beauty/Makeup/Face                                             34335\n",
              "Beauty/Makeup/Lips                                             29910\n",
              "Electronics/Video Games & Consoles/Games                       26557\n",
              "Beauty/Makeup/Eyes                                             25215\n",
              "Electronics/Cell Phones & Accessories/Cases, Covers & Skins    24676\n",
              "Women/Underwear/Bras                                           21274\n",
              "Women/Tops & Blouses/Blouse                                    20284\n",
              "Women/Tops & Blouses/Tank, Cami                                20284\n",
              "Women/Dresses/Above Knee, Mini                                 20082\n",
              "Women/Jewelry/Necklaces                                        19758\n",
              "Women/Athletic Apparel/Shorts                                  19528\n",
              "Beauty/Makeup/Makeup Palettes                                  19103\n",
              "Women/Shoes/Boots                                              18864\n",
              "Beauty/Fragrance/Women                                         18628\n",
              "Beauty/Skin Care/Face                                          15836\n",
              "Women/Women's Handbags/Shoulder Bag                            15328\n",
              "Men/Tops/T-shirts                                              15108\n",
              "Women/Dresses/Knee-Length                                      14770\n",
              "Women/Athletic Apparel/Shirts & Tops                           14738\n",
              "Women/Shoes/Sandals                                            14662\n",
              "Women/Jewelry/Bracelets                                        14497\n",
              "Men/Shoes/Athletic                                             14257\n",
              "Kids/Toys/Dolls & Accessories                                  13957\n",
              "Women/Women's Accessories/Wallets                              13616\n",
              "Women/Jeans/Slim, Skinny                                       13392\n",
              "Home/Home Décor/Home Décor Accents                             13004\n",
              "Women/Swimwear/Two-Piece                                       12758\n",
              "Women/Shoes/Athletic                                           12662\n",
              "                                                               ...  \n",
              "Men/Suits/One Button                                               1\n",
              "Handmade/Toys/Doll Clothes                                         1\n",
              "Handmade/Art/Aceo                                                  1\n",
              "Handmade/Glass/Vases                                               1\n",
              "Handmade/Books and Zines/Comic                                     1\n",
              "Handmade/Weddings/Frames                                           1\n",
              "Handmade/Quilts/Pillow                                             1\n",
              "Handmade/Knitting/Scarf                                            1\n",
              "Handmade/Woodworking/Accessories                                   1\n",
              "Men/Suits/Four Button                                              1\n",
              "Handmade/Paper Goods/Pad                                           1\n",
              "Other/Pet Supplies/Pet Food                                        1\n",
              "Handmade/Knitting/Doll                                             1\n",
              "Handmade/Ceramics and Pottery/Tiles                                1\n",
              "Vintage & Collectibles/Furniture/Storage                           1\n",
              "Handmade/Pets/Blanket                                              1\n",
              "Handmade/Accessories/Cozy                                          1\n",
              "Handmade/Geekery/Housewares                                        1\n",
              "Vintage & Collectibles/Furniture/Shelf                             1\n",
              "Handmade/Knitting/Cozy                                             1\n",
              "Vintage & Collectibles/Book/Decorating                             1\n",
              "Handmade/Housewares/Bathroom                                       1\n",
              "Handmade/Children/Furniture                                        1\n",
              "Handmade/Knitting/Bags and Purses                                  1\n",
              "Handmade/Dolls and Miniatures/Child Friendly                       1\n",
              "Handmade/Furniture/Fixture                                         1\n",
              "Home/Kids' Home Store/Nursery Furniture                            1\n",
              "Handmade/Woodworking/Sculptures                                    1\n",
              "Vintage & Collectibles/Antique/Furniture                           1\n",
              "Handmade/Bags and Purses/Diaper Bag                                1\n",
              "Name: category_name, Length: 1288, dtype: int64"
            ]
          },
          "metadata": {
            "tags": []
          },
          "execution_count": 31
        }
      ]
    },
    {
      "cell_type": "code",
      "metadata": {
        "_uuid": "2e0c5aabbc2a76f5781661792b0e319449747265",
        "_cell_guid": "b59b7c73-48d9-426f-8172-87021f8f882f",
        "id": "4ybw4KZ6a2fQ"
      },
      "source": [
        "# converting price to log scale\n",
        "positive = train['price'].values > 0\n",
        "negative = train['price'].values < 0\n",
        "train['price'] = np.piecewise(train['price'], (positive, negative), (np.log, lambda x: -np.log(-x)))\n",
        "\n",
        "features = ['int_name',  'cond','int_desc', 'new', 'was_described', 'men', 'rm', 'item_condition_id','cat_lennn',  'brand_name', 'shipping', 'des_len', 'name_len','mean_des', 'word_count', 'mean_name', 'word_name', 'sub1', 'sub2', 'hand', 'elec', 'category_name']\n",
        "\n",
        "data = train[features]\n",
        "data_sub = test[features]\n",
        "\n",
        "y = train['price']"
      ],
      "execution_count": null,
      "outputs": []
    },
    {
      "cell_type": "code",
      "metadata": {
        "_uuid": "cd62e07eeb98084bd8c40aa9159003292b2bf5f9",
        "_cell_guid": "6472dc5d-3d07-4e27-bb26-f614111dbb71",
        "id": "dy_yELOqa2fU",
        "outputId": "817bde03-81e9-446a-84ca-cd7e11d8a15f",
        "colab": {
          "base_uri": "https://localhost:8080/",
          "height": 321
        }
      },
      "source": [
        "data_sub.head()"
      ],
      "execution_count": null,
      "outputs": [
        {
          "output_type": "execute_result",
          "data": {
            "text/html": [
              "<div>\n",
              "<style scoped>\n",
              "    .dataframe tbody tr th:only-of-type {\n",
              "        vertical-align: middle;\n",
              "    }\n",
              "\n",
              "    .dataframe tbody tr th {\n",
              "        vertical-align: top;\n",
              "    }\n",
              "\n",
              "    .dataframe thead th {\n",
              "        text-align: right;\n",
              "    }\n",
              "</style>\n",
              "<table border=\"1\" class=\"dataframe\">\n",
              "  <thead>\n",
              "    <tr style=\"text-align: right;\">\n",
              "      <th></th>\n",
              "      <th>int_name</th>\n",
              "      <th>cond</th>\n",
              "      <th>int_desc</th>\n",
              "      <th>new</th>\n",
              "      <th>was_described</th>\n",
              "      <th>men</th>\n",
              "      <th>rm</th>\n",
              "      <th>item_condition_id</th>\n",
              "      <th>cat_lennn</th>\n",
              "      <th>brand_name</th>\n",
              "      <th>...</th>\n",
              "      <th>name_len</th>\n",
              "      <th>mean_des</th>\n",
              "      <th>word_count</th>\n",
              "      <th>mean_name</th>\n",
              "      <th>word_name</th>\n",
              "      <th>sub1</th>\n",
              "      <th>sub2</th>\n",
              "      <th>hand</th>\n",
              "      <th>elec</th>\n",
              "      <th>category_name</th>\n",
              "    </tr>\n",
              "  </thead>\n",
              "  <tbody>\n",
              "    <tr>\n",
              "      <th>0</th>\n",
              "      <td>0</td>\n",
              "      <td>0</td>\n",
              "      <td>1</td>\n",
              "      <td>0</td>\n",
              "      <td>1</td>\n",
              "      <td>1</td>\n",
              "      <td>0</td>\n",
              "      <td>1</td>\n",
              "      <td>19</td>\n",
              "      <td>ttttttt</td>\n",
              "      <td>...</td>\n",
              "      <td>40</td>\n",
              "      <td>3.333333</td>\n",
              "      <td>2</td>\n",
              "      <td>2.000000</td>\n",
              "      <td>8</td>\n",
              "      <td>Women</td>\n",
              "      <td>Jewelry</td>\n",
              "      <td>0</td>\n",
              "      <td>0</td>\n",
              "      <td>Women/Jewelry/Rings</td>\n",
              "    </tr>\n",
              "    <tr>\n",
              "      <th>1</th>\n",
              "      <td>1</td>\n",
              "      <td>0</td>\n",
              "      <td>1</td>\n",
              "      <td>1</td>\n",
              "      <td>1</td>\n",
              "      <td>0</td>\n",
              "      <td>0</td>\n",
              "      <td>1</td>\n",
              "      <td>39</td>\n",
              "      <td>ttttttt</td>\n",
              "      <td>...</td>\n",
              "      <td>40</td>\n",
              "      <td>1.513944</td>\n",
              "      <td>38</td>\n",
              "      <td>1.750000</td>\n",
              "      <td>7</td>\n",
              "      <td>Other</td>\n",
              "      <td>Office supplies</td>\n",
              "      <td>0</td>\n",
              "      <td>0</td>\n",
              "      <td>Other/Office supplies/Shipping Supplies</td>\n",
              "    </tr>\n",
              "    <tr>\n",
              "      <th>2</th>\n",
              "      <td>0</td>\n",
              "      <td>0</td>\n",
              "      <td>0</td>\n",
              "      <td>1</td>\n",
              "      <td>1</td>\n",
              "      <td>0</td>\n",
              "      <td>1</td>\n",
              "      <td>1</td>\n",
              "      <td>46</td>\n",
              "      <td>Coach</td>\n",
              "      <td>...</td>\n",
              "      <td>9</td>\n",
              "      <td>2.000000</td>\n",
              "      <td>11</td>\n",
              "      <td>2.222222</td>\n",
              "      <td>2</td>\n",
              "      <td>Vintage &amp; Collectibles</td>\n",
              "      <td>Bags and Purses</td>\n",
              "      <td>0</td>\n",
              "      <td>0</td>\n",
              "      <td>Vintage &amp; Collectibles/Bags and Purses/Handbag</td>\n",
              "    </tr>\n",
              "    <tr>\n",
              "      <th>3</th>\n",
              "      <td>0</td>\n",
              "      <td>0</td>\n",
              "      <td>0</td>\n",
              "      <td>0</td>\n",
              "      <td>1</td>\n",
              "      <td>1</td>\n",
              "      <td>0</td>\n",
              "      <td>2</td>\n",
              "      <td>23</td>\n",
              "      <td>ttttttt</td>\n",
              "      <td>...</td>\n",
              "      <td>13</td>\n",
              "      <td>1.492537</td>\n",
              "      <td>10</td>\n",
              "      <td>1.538462</td>\n",
              "      <td>2</td>\n",
              "      <td>Women</td>\n",
              "      <td>Sweaters</td>\n",
              "      <td>0</td>\n",
              "      <td>0</td>\n",
              "      <td>Women/Sweaters/Cardigan</td>\n",
              "    </tr>\n",
              "    <tr>\n",
              "      <th>4</th>\n",
              "      <td>0</td>\n",
              "      <td>1</td>\n",
              "      <td>1</td>\n",
              "      <td>0</td>\n",
              "      <td>1</td>\n",
              "      <td>0</td>\n",
              "      <td>0</td>\n",
              "      <td>3</td>\n",
              "      <td>35</td>\n",
              "      <td>ttttttt</td>\n",
              "      <td>...</td>\n",
              "      <td>16</td>\n",
              "      <td>1.736527</td>\n",
              "      <td>29</td>\n",
              "      <td>1.875000</td>\n",
              "      <td>3</td>\n",
              "      <td>Other</td>\n",
              "      <td>Books</td>\n",
              "      <td>0</td>\n",
              "      <td>0</td>\n",
              "      <td>Other/Books/Religion &amp; Spirituality</td>\n",
              "    </tr>\n",
              "  </tbody>\n",
              "</table>\n",
              "<p>5 rows × 22 columns</p>\n",
              "</div>"
            ],
            "text/plain": [
              "   int_name  cond  int_desc  new  was_described  men  rm  item_condition_id  \\\n",
              "0         0     0         1    0              1    1   0                  1   \n",
              "1         1     0         1    1              1    0   0                  1   \n",
              "2         0     0         0    1              1    0   1                  1   \n",
              "3         0     0         0    0              1    1   0                  2   \n",
              "4         0     1         1    0              1    0   0                  3   \n",
              "\n",
              "   cat_lennn brand_name                       ...                        \\\n",
              "0         19    ttttttt                       ...                         \n",
              "1         39    ttttttt                       ...                         \n",
              "2         46      Coach                       ...                         \n",
              "3         23    ttttttt                       ...                         \n",
              "4         35    ttttttt                       ...                         \n",
              "\n",
              "   name_len  mean_des  word_count  mean_name  word_name  \\\n",
              "0        40  3.333333           2   2.000000          8   \n",
              "1        40  1.513944          38   1.750000          7   \n",
              "2         9  2.000000          11   2.222222          2   \n",
              "3        13  1.492537          10   1.538462          2   \n",
              "4        16  1.736527          29   1.875000          3   \n",
              "\n",
              "                     sub1             sub2 hand elec  \\\n",
              "0                   Women          Jewelry    0    0   \n",
              "1                   Other  Office supplies    0    0   \n",
              "2  Vintage & Collectibles  Bags and Purses    0    0   \n",
              "3                   Women         Sweaters    0    0   \n",
              "4                   Other            Books    0    0   \n",
              "\n",
              "                                    category_name  \n",
              "0                             Women/Jewelry/Rings  \n",
              "1         Other/Office supplies/Shipping Supplies  \n",
              "2  Vintage & Collectibles/Bags and Purses/Handbag  \n",
              "3                         Women/Sweaters/Cardigan  \n",
              "4             Other/Books/Religion & Spirituality  \n",
              "\n",
              "[5 rows x 22 columns]"
            ]
          },
          "metadata": {
            "tags": []
          },
          "execution_count": 33
        }
      ]
    },
    {
      "cell_type": "code",
      "metadata": {
        "_uuid": "569d1b1340c35fcacf2f6fa5a4ea5d1c10ca60df",
        "_cell_guid": "d17b881a-727b-4992-8f99-686aa1438f2b",
        "id": "LFTwSkXga2fW",
        "outputId": "eb7a934a-c590-4bff-f413-ae801bb671be",
        "colab": {
          "base_uri": "https://localhost:8080/",
          "height": 241
        }
      },
      "source": [
        "#label encoding\n",
        "from sklearn import preprocessing\n",
        "le = preprocessing.LabelEncoder()\n",
        "\n",
        "frames = [ data, data_sub ]\n",
        "xx = pd.concat(frames)\n",
        "\n",
        "\n",
        "l = [ 'brand_name', 'sub1', 'sub2', 'category_name']\n",
        "for x in l :\n",
        "    le.fit(xx[x])\n",
        "    data[x] = le.transform(data[x])\n",
        "    data_sub[x] = le.transform(data_sub[x])\n"
      ],
      "execution_count": null,
      "outputs": [
        {
          "output_type": "stream",
          "text": [
            "/usr/local/lib/python3.6/dist-packages/ipykernel_launcher.py:11: SettingWithCopyWarning: \n",
            "A value is trying to be set on a copy of a slice from a DataFrame.\n",
            "Try using .loc[row_indexer,col_indexer] = value instead\n",
            "\n",
            "See the caveats in the documentation: http://pandas.pydata.org/pandas-docs/stable/indexing.html#indexing-view-versus-copy\n",
            "  # This is added back by InteractiveShellApp.init_path()\n",
            "/usr/local/lib/python3.6/dist-packages/ipykernel_launcher.py:12: SettingWithCopyWarning: \n",
            "A value is trying to be set on a copy of a slice from a DataFrame.\n",
            "Try using .loc[row_indexer,col_indexer] = value instead\n",
            "\n",
            "See the caveats in the documentation: http://pandas.pydata.org/pandas-docs/stable/indexing.html#indexing-view-versus-copy\n",
            "  if sys.path[0] == '':\n"
          ],
          "name": "stderr"
        }
      ]
    },
    {
      "cell_type": "code",
      "metadata": {
        "_uuid": "698c95e036d5ca61da43f908deb49f6b5b62c1a1",
        "_cell_guid": "d03dbc2f-6a72-42a7-b982-5516830ae98d",
        "id": "knLfk6e5a2fZ",
        "outputId": "22e43b26-3087-4c35-e904-096072c20a8f",
        "colab": {
          "base_uri": "https://localhost:8080/",
          "height": 253
        }
      },
      "source": [
        "data.head()"
      ],
      "execution_count": null,
      "outputs": [
        {
          "output_type": "execute_result",
          "data": {
            "text/html": [
              "<div>\n",
              "<style scoped>\n",
              "    .dataframe tbody tr th:only-of-type {\n",
              "        vertical-align: middle;\n",
              "    }\n",
              "\n",
              "    .dataframe tbody tr th {\n",
              "        vertical-align: top;\n",
              "    }\n",
              "\n",
              "    .dataframe thead th {\n",
              "        text-align: right;\n",
              "    }\n",
              "</style>\n",
              "<table border=\"1\" class=\"dataframe\">\n",
              "  <thead>\n",
              "    <tr style=\"text-align: right;\">\n",
              "      <th></th>\n",
              "      <th>int_name</th>\n",
              "      <th>cond</th>\n",
              "      <th>int_desc</th>\n",
              "      <th>new</th>\n",
              "      <th>was_described</th>\n",
              "      <th>men</th>\n",
              "      <th>rm</th>\n",
              "      <th>item_condition_id</th>\n",
              "      <th>cat_lennn</th>\n",
              "      <th>brand_name</th>\n",
              "      <th>...</th>\n",
              "      <th>name_len</th>\n",
              "      <th>mean_des</th>\n",
              "      <th>word_count</th>\n",
              "      <th>mean_name</th>\n",
              "      <th>word_name</th>\n",
              "      <th>sub1</th>\n",
              "      <th>sub2</th>\n",
              "      <th>hand</th>\n",
              "      <th>elec</th>\n",
              "      <th>category_name</th>\n",
              "    </tr>\n",
              "  </thead>\n",
              "  <tbody>\n",
              "    <tr>\n",
              "      <th>0</th>\n",
              "      <td>0</td>\n",
              "      <td>0</td>\n",
              "      <td>0</td>\n",
              "      <td>0</td>\n",
              "      <td>0</td>\n",
              "      <td>1</td>\n",
              "      <td>0</td>\n",
              "      <td>3</td>\n",
              "      <td>17</td>\n",
              "      <td>5287</td>\n",
              "      <td>...</td>\n",
              "      <td>35</td>\n",
              "      <td>1.666667</td>\n",
              "      <td>3</td>\n",
              "      <td>2.000000</td>\n",
              "      <td>7</td>\n",
              "      <td>5</td>\n",
              "      <td>102</td>\n",
              "      <td>0</td>\n",
              "      <td>0</td>\n",
              "      <td>829</td>\n",
              "    </tr>\n",
              "    <tr>\n",
              "      <th>1</th>\n",
              "      <td>0</td>\n",
              "      <td>1</td>\n",
              "      <td>0</td>\n",
              "      <td>0</td>\n",
              "      <td>1</td>\n",
              "      <td>0</td>\n",
              "      <td>0</td>\n",
              "      <td>3</td>\n",
              "      <td>50</td>\n",
              "      <td>3889</td>\n",
              "      <td>...</td>\n",
              "      <td>32</td>\n",
              "      <td>1.914894</td>\n",
              "      <td>36</td>\n",
              "      <td>1.250000</td>\n",
              "      <td>4</td>\n",
              "      <td>1</td>\n",
              "      <td>30</td>\n",
              "      <td>0</td>\n",
              "      <td>1</td>\n",
              "      <td>86</td>\n",
              "    </tr>\n",
              "    <tr>\n",
              "      <th>2</th>\n",
              "      <td>0</td>\n",
              "      <td>0</td>\n",
              "      <td>1</td>\n",
              "      <td>0</td>\n",
              "      <td>1</td>\n",
              "      <td>1</td>\n",
              "      <td>0</td>\n",
              "      <td>1</td>\n",
              "      <td>27</td>\n",
              "      <td>4588</td>\n",
              "      <td>...</td>\n",
              "      <td>14</td>\n",
              "      <td>2.338710</td>\n",
              "      <td>29</td>\n",
              "      <td>1.428571</td>\n",
              "      <td>2</td>\n",
              "      <td>9</td>\n",
              "      <td>103</td>\n",
              "      <td>0</td>\n",
              "      <td>0</td>\n",
              "      <td>1277</td>\n",
              "    </tr>\n",
              "    <tr>\n",
              "      <th>3</th>\n",
              "      <td>0</td>\n",
              "      <td>0</td>\n",
              "      <td>0</td>\n",
              "      <td>1</td>\n",
              "      <td>1</td>\n",
              "      <td>0</td>\n",
              "      <td>1</td>\n",
              "      <td>1</td>\n",
              "      <td>34</td>\n",
              "      <td>5287</td>\n",
              "      <td>...</td>\n",
              "      <td>21</td>\n",
              "      <td>1.849711</td>\n",
              "      <td>32</td>\n",
              "      <td>1.428571</td>\n",
              "      <td>3</td>\n",
              "      <td>3</td>\n",
              "      <td>55</td>\n",
              "      <td>0</td>\n",
              "      <td>0</td>\n",
              "      <td>503</td>\n",
              "    </tr>\n",
              "    <tr>\n",
              "      <th>4</th>\n",
              "      <td>1</td>\n",
              "      <td>0</td>\n",
              "      <td>0</td>\n",
              "      <td>0</td>\n",
              "      <td>1</td>\n",
              "      <td>1</td>\n",
              "      <td>0</td>\n",
              "      <td>1</td>\n",
              "      <td>23</td>\n",
              "      <td>5287</td>\n",
              "      <td>...</td>\n",
              "      <td>20</td>\n",
              "      <td>1.219512</td>\n",
              "      <td>5</td>\n",
              "      <td>2.000000</td>\n",
              "      <td>4</td>\n",
              "      <td>9</td>\n",
              "      <td>58</td>\n",
              "      <td>0</td>\n",
              "      <td>0</td>\n",
              "      <td>1204</td>\n",
              "    </tr>\n",
              "  </tbody>\n",
              "</table>\n",
              "<p>5 rows × 22 columns</p>\n",
              "</div>"
            ],
            "text/plain": [
              "   int_name  cond  int_desc  new  was_described  men  rm  item_condition_id  \\\n",
              "0         0     0         0    0              0    1   0                  3   \n",
              "1         0     1         0    0              1    0   0                  3   \n",
              "2         0     0         1    0              1    1   0                  1   \n",
              "3         0     0         0    1              1    0   1                  1   \n",
              "4         1     0         0    0              1    1   0                  1   \n",
              "\n",
              "   cat_lennn  brand_name      ...        name_len  mean_des  word_count  \\\n",
              "0         17        5287      ...              35  1.666667           3   \n",
              "1         50        3889      ...              32  1.914894          36   \n",
              "2         27        4588      ...              14  2.338710          29   \n",
              "3         34        5287      ...              21  1.849711          32   \n",
              "4         23        5287      ...              20  1.219512           5   \n",
              "\n",
              "   mean_name  word_name  sub1  sub2  hand  elec  category_name  \n",
              "0   2.000000          7     5   102     0     0            829  \n",
              "1   1.250000          4     1    30     0     1             86  \n",
              "2   1.428571          2     9   103     0     0           1277  \n",
              "3   1.428571          3     3    55     0     0            503  \n",
              "4   2.000000          4     9    58     0     0           1204  \n",
              "\n",
              "[5 rows x 22 columns]"
            ]
          },
          "metadata": {
            "tags": []
          },
          "execution_count": 35
        }
      ]
    },
    {
      "cell_type": "code",
      "metadata": {
        "_uuid": "ecb3178755983648cd2f5130ecaf006098d5567e",
        "_cell_guid": "1267de52-63f7-49a6-82b5-4be96aeb032b",
        "id": "S9WvFgooa2fb",
        "outputId": "c02d1b7a-6d0b-4c84-be5b-2a85315a0b30",
        "colab": {
          "base_uri": "https://localhost:8080/",
          "height": 595
        }
      },
      "source": [
        "from sklearn import ensemble\n",
        "clf =  ensemble.GradientBoostingRegressor( learning_rate = 0.7, n_estimators=700, max_depth = 3,warm_start = True, verbose=1, random_state=45, max_features = 0.8)\n",
        "clf.fit(data, y)\n"
      ],
      "execution_count": null,
      "outputs": [
        {
          "output_type": "stream",
          "text": [
            "      Iter       Train Loss   Remaining Time \n",
            "         1           0.5617           39.85m\n",
            "         2           0.5379           33.58m\n",
            "         3           0.5214           35.66m\n",
            "         4           0.5097           36.54m\n",
            "         5           0.5012           36.49m\n",
            "         6           0.4948           35.92m\n",
            "         7           0.4906           36.12m\n",
            "         8           0.4848           35.97m\n",
            "         9           0.4769           36.02m\n",
            "        10           0.4735           35.53m\n",
            "        20           0.4459           34.18m\n",
            "        30           0.4304           34.25m\n",
            "        40           0.4168           33.58m\n",
            "        50           0.4077           32.97m\n",
            "        60           0.4014           32.45m\n",
            "        70           0.3965           32.00m\n",
            "        80           0.3918           31.88m\n",
            "        90           0.3858           31.29m\n",
            "       100           0.3829           30.61m\n",
            "       200           0.3612           25.52m\n",
            "       300           0.3521           20.41m\n",
            "       400           0.3457           15.24m\n",
            "       500           0.3405           10.27m\n",
            "       600           0.3374            5.12m\n",
            "       700           0.3350            0.00s\n"
          ],
          "name": "stdout"
        },
        {
          "output_type": "execute_result",
          "data": {
            "text/plain": [
              "GradientBoostingRegressor(alpha=0.9, criterion='friedman_mse', init=None,\n",
              "             learning_rate=0.7, loss='ls', max_depth=3, max_features=0.8,\n",
              "             max_leaf_nodes=None, min_impurity_decrease=0.0,\n",
              "             min_impurity_split=None, min_samples_leaf=1,\n",
              "             min_samples_split=2, min_weight_fraction_leaf=0.0,\n",
              "             n_estimators=700, n_iter_no_change=None, presort='auto',\n",
              "             random_state=45, subsample=1.0, tol=0.0001,\n",
              "             validation_fraction=0.1, verbose=1, warm_start=True)"
            ]
          },
          "metadata": {
            "tags": []
          },
          "execution_count": 36
        }
      ]
    },
    {
      "cell_type": "code",
      "metadata": {
        "_uuid": "9a0777d5e9b6edaf4e1b52913578c6171c002e66",
        "_cell_guid": "f9eaf848-55b1-4266-82bd-26edffcb0b12",
        "id": "nT2V0yAaa2ff",
        "outputId": "4dd62696-8430-4d80-ad4c-4e2537f0659a",
        "colab": {
          "base_uri": "https://localhost:8080/",
          "height": 156
        }
      },
      "source": [
        "# predicting and saving to output file\n",
        "predicted = clf.predict(data_sub) \n",
        "\n",
        "print(features)\n",
        "print( clf.feature_importances_)"
      ],
      "execution_count": null,
      "outputs": [
        {
          "output_type": "stream",
          "text": [
            "['int_name', 'cond', 'int_desc', 'new', 'was_described', 'men', 'rm', 'item_condition_id', 'cat_lennn', 'brand_name', 'shipping', 'des_len', 'name_len', 'mean_des', 'word_count', 'mean_name', 'word_name', 'sub1', 'sub2', 'hand', 'elec', 'category_name']\n",
            "[1.21425748e-02 1.51071094e-03 9.47084349e-03 2.02006613e-02\n",
            " 9.84158956e-05 4.44973978e-02 4.00737919e-03 3.85779749e-02\n",
            " 1.01997116e-01 2.98555480e-01 1.27958535e-01 1.63569552e-02\n",
            " 7.29400793e-03 3.51337056e-03 3.74266217e-03 4.10779488e-03\n",
            " 2.07102367e-03 1.14642938e-02 9.33911369e-02 4.18536641e-03\n",
            " 1.54286314e-02 1.79427667e-01]\n"
          ],
          "name": "stdout"
        }
      ]
    },
    {
      "cell_type": "code",
      "metadata": {
        "_uuid": "27aff5bcec08d348a76ad05e05afd3b4f0933f47",
        "_cell_guid": "11831fc5-042e-4f35-88e0-df785a5c5021",
        "id": "ah_-f7QEa2fj"
      },
      "source": [
        "out = pd.DataFrame()"
      ],
      "execution_count": null,
      "outputs": []
    },
    {
      "cell_type": "code",
      "metadata": {
        "_uuid": "b2d0a7b7fa513c35596959c08f577de0081c9172",
        "_cell_guid": "e6f5346c-f87f-4576-b275-e33cc730b48c",
        "id": "VpMzdeOXa2fo"
      },
      "source": [
        "#sample = pd.read_csv('../input/sample_submission.csv')"
      ],
      "execution_count": null,
      "outputs": []
    },
    {
      "cell_type": "code",
      "metadata": {
        "_uuid": "7724ad25f13c815522670cdff914f840884cd30b",
        "_cell_guid": "af0cd58f-107d-4721-bc15-85df74e8c604",
        "id": "TQPCP7-9a2fs"
      },
      "source": [
        "out['test_id'] = test['test_id']\n",
        "out['price'] = predicted\n",
        "out['price'] = np.exp(out['price'])"
      ],
      "execution_count": null,
      "outputs": []
    },
    {
      "cell_type": "code",
      "metadata": {
        "_uuid": "39eeedcb2471e1f97e4a457cb3ca863a4440e166",
        "_cell_guid": "c5b42ebe-b0e3-48bf-bb99-5cc43c1b6772",
        "id": "E8XMmBg9a2fw"
      },
      "source": [
        "out.head()\n",
        "out.to_csv(\"output5.csv\",index=False)"
      ],
      "execution_count": null,
      "outputs": []
    }
  ]
}
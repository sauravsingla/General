{
  "nbformat": 4,
  "nbformat_minor": 0,
  "metadata": {
    "colab": {
      "name": "Customer_Email_Campaign_Optimisation.ipynb",
      "provenance": [],
      "collapsed_sections": [],
      "toc_visible": true,
      "include_colab_link": true
    },
    "kernelspec": {
      "name": "python3",
      "display_name": "Python 3"
    },
    "accelerator": "TPU"
  },
  "cells": [
    {
      "cell_type": "markdown",
      "metadata": {
        "id": "view-in-github",
        "colab_type": "text"
      },
      "source": [
        "<a href=\"https://colab.research.google.com/github/sauravsingla/General/blob/master/Customer_Email_Campaign_Optimisation.ipynb\" target=\"_parent\"><img src=\"https://colab.research.google.com/assets/colab-badge.svg\" alt=\"Open In Colab\"/></a>"
      ]
    },
    {
      "cell_type": "code",
      "metadata": {
        "id": "CnB4f59qqwVq",
        "outputId": "eae95e6a-25ef-4532-f59e-9ddaad0eca2b",
        "colab": {
          "base_uri": "https://localhost:8080/",
          "height": 88
        }
      },
      "source": [
        "!pip install -U scikit-learn\n",
        "import pandas as pd\n",
        "from pandas.tools.plotting import scatter_matrix\n",
        "import numpy as np\n",
        "import matplotlib.pyplot as plt\n",
        "%matplotlib inline\n",
        "from sklearn.model_selection import ShuffleSplit\n",
        "from sklearn.model_selection import train_test_split\n",
        "from sklearn import metrics as mt\n",
        "import seaborn as sns\n",
        "\n",
        "from sklearn.datasets import make_classification\n",
        "from sklearn.linear_model import LogisticRegression\n",
        "from sklearn.ensemble import (RandomTreesEmbedding, RandomForestClassifier,\n",
        "                              GradientBoostingClassifier)\n",
        "from sklearn.preprocessing import OneHotEncoder\n",
        "from sklearn.model_selection import train_test_split\n",
        "from sklearn.metrics import roc_curve\n",
        "from sklearn.pipeline import make_pipeline"
      ],
      "execution_count": null,
      "outputs": [
        {
          "output_type": "stream",
          "text": [
            "Requirement already up-to-date: scikit-learn in /usr/local/lib/python3.6/dist-packages (0.20.2)\n",
            "Requirement already satisfied, skipping upgrade: numpy>=1.8.2 in /usr/local/lib/python3.6/dist-packages (from scikit-learn) (1.14.6)\n",
            "Requirement already satisfied, skipping upgrade: scipy>=0.13.3 in /usr/local/lib/python3.6/dist-packages (from scikit-learn) (1.1.0)\n"
          ],
          "name": "stdout"
        }
      ]
    },
    {
      "cell_type": "code",
      "metadata": {
        "id": "DfVg5_5eqwV4"
      },
      "source": [
        "df1=pd.read_csv('email_opened_table.csv')\n",
        "df2=pd.read_csv('link_clicked_table.csv')\n",
        "df3=pd.read_csv('email_table.csv')"
      ],
      "execution_count": null,
      "outputs": []
    },
    {
      "cell_type": "code",
      "metadata": {
        "id": "xmbzFPpaqwV9",
        "outputId": "1cfcc432-c876-42c4-e9c0-813f311be85e",
        "colab": {
          "base_uri": "https://localhost:8080/",
          "height": 68
        }
      },
      "source": [
        "print(df1.shape)\n",
        "print(df2.shape)\n",
        "print(df3.shape)"
      ],
      "execution_count": null,
      "outputs": [
        {
          "output_type": "stream",
          "text": [
            "(10345, 1)\n",
            "(2119, 1)\n",
            "(100000, 7)\n"
          ],
          "name": "stdout"
        }
      ]
    },
    {
      "cell_type": "code",
      "metadata": {
        "id": "kLJNV4qCqwWB",
        "outputId": "bf3d0d59-32ba-42ba-cc4b-e97a38e29c65",
        "colab": {
          "base_uri": "https://localhost:8080/",
          "height": 204
        }
      },
      "source": [
        "df1.head()"
      ],
      "execution_count": null,
      "outputs": [
        {
          "output_type": "execute_result",
          "data": {
            "text/html": [
              "<div>\n",
              "<style scoped>\n",
              "    .dataframe tbody tr th:only-of-type {\n",
              "        vertical-align: middle;\n",
              "    }\n",
              "\n",
              "    .dataframe tbody tr th {\n",
              "        vertical-align: top;\n",
              "    }\n",
              "\n",
              "    .dataframe thead th {\n",
              "        text-align: right;\n",
              "    }\n",
              "</style>\n",
              "<table border=\"1\" class=\"dataframe\">\n",
              "  <thead>\n",
              "    <tr style=\"text-align: right;\">\n",
              "      <th></th>\n",
              "      <th>email_id</th>\n",
              "    </tr>\n",
              "  </thead>\n",
              "  <tbody>\n",
              "    <tr>\n",
              "      <th>0</th>\n",
              "      <td>284534</td>\n",
              "    </tr>\n",
              "    <tr>\n",
              "      <th>1</th>\n",
              "      <td>609056</td>\n",
              "    </tr>\n",
              "    <tr>\n",
              "      <th>2</th>\n",
              "      <td>220820</td>\n",
              "    </tr>\n",
              "    <tr>\n",
              "      <th>3</th>\n",
              "      <td>905936</td>\n",
              "    </tr>\n",
              "    <tr>\n",
              "      <th>4</th>\n",
              "      <td>164034</td>\n",
              "    </tr>\n",
              "  </tbody>\n",
              "</table>\n",
              "</div>"
            ],
            "text/plain": [
              "   email_id\n",
              "0    284534\n",
              "1    609056\n",
              "2    220820\n",
              "3    905936\n",
              "4    164034"
            ]
          },
          "metadata": {
            "tags": []
          },
          "execution_count": 10
        }
      ]
    },
    {
      "cell_type": "code",
      "metadata": {
        "id": "G6gFP77DqwWF",
        "outputId": "0d567a57-7a7d-451a-8e64-cb31bf8687a5",
        "colab": {
          "base_uri": "https://localhost:8080/",
          "height": 204
        }
      },
      "source": [
        "df2.head()"
      ],
      "execution_count": null,
      "outputs": [
        {
          "output_type": "execute_result",
          "data": {
            "text/html": [
              "<div>\n",
              "<style scoped>\n",
              "    .dataframe tbody tr th:only-of-type {\n",
              "        vertical-align: middle;\n",
              "    }\n",
              "\n",
              "    .dataframe tbody tr th {\n",
              "        vertical-align: top;\n",
              "    }\n",
              "\n",
              "    .dataframe thead th {\n",
              "        text-align: right;\n",
              "    }\n",
              "</style>\n",
              "<table border=\"1\" class=\"dataframe\">\n",
              "  <thead>\n",
              "    <tr style=\"text-align: right;\">\n",
              "      <th></th>\n",
              "      <th>email_id</th>\n",
              "    </tr>\n",
              "  </thead>\n",
              "  <tbody>\n",
              "    <tr>\n",
              "      <th>0</th>\n",
              "      <td>609056</td>\n",
              "    </tr>\n",
              "    <tr>\n",
              "      <th>1</th>\n",
              "      <td>870980</td>\n",
              "    </tr>\n",
              "    <tr>\n",
              "      <th>2</th>\n",
              "      <td>935124</td>\n",
              "    </tr>\n",
              "    <tr>\n",
              "      <th>3</th>\n",
              "      <td>158501</td>\n",
              "    </tr>\n",
              "    <tr>\n",
              "      <th>4</th>\n",
              "      <td>177561</td>\n",
              "    </tr>\n",
              "  </tbody>\n",
              "</table>\n",
              "</div>"
            ],
            "text/plain": [
              "   email_id\n",
              "0    609056\n",
              "1    870980\n",
              "2    935124\n",
              "3    158501\n",
              "4    177561"
            ]
          },
          "metadata": {
            "tags": []
          },
          "execution_count": 11
        }
      ]
    },
    {
      "cell_type": "code",
      "metadata": {
        "id": "WAZJLuMAqwWI",
        "outputId": "b5be3666-93ef-46b7-bebf-4ecbe3d7204b",
        "colab": {
          "base_uri": "https://localhost:8080/",
          "height": 204
        }
      },
      "source": [
        "df3.head()"
      ],
      "execution_count": null,
      "outputs": [
        {
          "output_type": "execute_result",
          "data": {
            "text/html": [
              "<div>\n",
              "<style scoped>\n",
              "    .dataframe tbody tr th:only-of-type {\n",
              "        vertical-align: middle;\n",
              "    }\n",
              "\n",
              "    .dataframe tbody tr th {\n",
              "        vertical-align: top;\n",
              "    }\n",
              "\n",
              "    .dataframe thead th {\n",
              "        text-align: right;\n",
              "    }\n",
              "</style>\n",
              "<table border=\"1\" class=\"dataframe\">\n",
              "  <thead>\n",
              "    <tr style=\"text-align: right;\">\n",
              "      <th></th>\n",
              "      <th>email_id</th>\n",
              "      <th>email_text</th>\n",
              "      <th>email_version</th>\n",
              "      <th>hour</th>\n",
              "      <th>weekday</th>\n",
              "      <th>user_country</th>\n",
              "      <th>user_past_purchases</th>\n",
              "    </tr>\n",
              "  </thead>\n",
              "  <tbody>\n",
              "    <tr>\n",
              "      <th>0</th>\n",
              "      <td>85120</td>\n",
              "      <td>short_email</td>\n",
              "      <td>personalized</td>\n",
              "      <td>2</td>\n",
              "      <td>Sunday</td>\n",
              "      <td>US</td>\n",
              "      <td>5</td>\n",
              "    </tr>\n",
              "    <tr>\n",
              "      <th>1</th>\n",
              "      <td>966622</td>\n",
              "      <td>long_email</td>\n",
              "      <td>personalized</td>\n",
              "      <td>12</td>\n",
              "      <td>Sunday</td>\n",
              "      <td>UK</td>\n",
              "      <td>2</td>\n",
              "    </tr>\n",
              "    <tr>\n",
              "      <th>2</th>\n",
              "      <td>777221</td>\n",
              "      <td>long_email</td>\n",
              "      <td>personalized</td>\n",
              "      <td>11</td>\n",
              "      <td>Wednesday</td>\n",
              "      <td>US</td>\n",
              "      <td>2</td>\n",
              "    </tr>\n",
              "    <tr>\n",
              "      <th>3</th>\n",
              "      <td>493711</td>\n",
              "      <td>short_email</td>\n",
              "      <td>generic</td>\n",
              "      <td>6</td>\n",
              "      <td>Monday</td>\n",
              "      <td>UK</td>\n",
              "      <td>1</td>\n",
              "    </tr>\n",
              "    <tr>\n",
              "      <th>4</th>\n",
              "      <td>106887</td>\n",
              "      <td>long_email</td>\n",
              "      <td>generic</td>\n",
              "      <td>14</td>\n",
              "      <td>Monday</td>\n",
              "      <td>US</td>\n",
              "      <td>6</td>\n",
              "    </tr>\n",
              "  </tbody>\n",
              "</table>\n",
              "</div>"
            ],
            "text/plain": [
              "   email_id   email_text email_version  hour    weekday user_country  \\\n",
              "0     85120  short_email  personalized     2     Sunday           US   \n",
              "1    966622   long_email  personalized    12     Sunday           UK   \n",
              "2    777221   long_email  personalized    11  Wednesday           US   \n",
              "3    493711  short_email       generic     6     Monday           UK   \n",
              "4    106887   long_email       generic    14     Monday           US   \n",
              "\n",
              "   user_past_purchases  \n",
              "0                    5  \n",
              "1                    2  \n",
              "2                    2  \n",
              "3                    1  \n",
              "4                    6  "
            ]
          },
          "metadata": {
            "tags": []
          },
          "execution_count": 12
        }
      ]
    },
    {
      "cell_type": "code",
      "metadata": {
        "id": "DpCYQGP6qwWN",
        "outputId": "71e3680f-a9cb-4db1-c4e3-82bdcfce95ea",
        "colab": {
          "base_uri": "https://localhost:8080/",
          "height": 68
        }
      },
      "source": [
        "print(len(df1['email_id'].unique())==len(df1['email_id']))\n",
        "print(len(df2['email_id'].unique())==len(df2['email_id']))\n",
        "print(len(df3['email_id'].unique())==len(df3['email_id']))"
      ],
      "execution_count": null,
      "outputs": [
        {
          "output_type": "stream",
          "text": [
            "True\n",
            "True\n",
            "True\n"
          ],
          "name": "stdout"
        }
      ]
    },
    {
      "cell_type": "markdown",
      "metadata": {
        "id": "5hGDUCYnqwWR"
      },
      "source": [
        "#### Create columns with email opened & link opened"
      ]
    },
    {
      "cell_type": "code",
      "metadata": {
        "id": "-nrZmP54qwWS"
      },
      "source": [
        "df1['email_opened']=1\n",
        "df2['link_clicked']=1"
      ],
      "execution_count": null,
      "outputs": []
    },
    {
      "cell_type": "code",
      "metadata": {
        "id": "lbfRkAU7qwWU"
      },
      "source": [
        "df=df3.merge(df1, how='left', on='email_id')\n",
        "df=df.merge(df2,how='left', on='email_id' )"
      ],
      "execution_count": null,
      "outputs": []
    },
    {
      "cell_type": "code",
      "metadata": {
        "id": "zKrgkvfSqwWY",
        "outputId": "f4acfe67-4ff1-4c07-e534-a5c6bd3ab283",
        "colab": {
          "base_uri": "https://localhost:8080/",
          "height": 187
        }
      },
      "source": [
        "df.dtypes"
      ],
      "execution_count": null,
      "outputs": [
        {
          "output_type": "execute_result",
          "data": {
            "text/plain": [
              "email_id                 int64\n",
              "email_text              object\n",
              "email_version           object\n",
              "hour                     int64\n",
              "weekday                 object\n",
              "user_country            object\n",
              "user_past_purchases      int64\n",
              "email_opened           float64\n",
              "link_clicked           float64\n",
              "dtype: object"
            ]
          },
          "metadata": {
            "tags": []
          },
          "execution_count": 16
        }
      ]
    },
    {
      "cell_type": "code",
      "metadata": {
        "id": "gYGn7UKNqwWc",
        "outputId": "19794736-9f0d-4955-a8b3-18c93de0c581",
        "colab": {
          "base_uri": "https://localhost:8080/",
          "height": 224
        }
      },
      "source": [
        "df.head()"
      ],
      "execution_count": null,
      "outputs": [
        {
          "output_type": "execute_result",
          "data": {
            "text/html": [
              "<div>\n",
              "<style scoped>\n",
              "    .dataframe tbody tr th:only-of-type {\n",
              "        vertical-align: middle;\n",
              "    }\n",
              "\n",
              "    .dataframe tbody tr th {\n",
              "        vertical-align: top;\n",
              "    }\n",
              "\n",
              "    .dataframe thead th {\n",
              "        text-align: right;\n",
              "    }\n",
              "</style>\n",
              "<table border=\"1\" class=\"dataframe\">\n",
              "  <thead>\n",
              "    <tr style=\"text-align: right;\">\n",
              "      <th></th>\n",
              "      <th>email_id</th>\n",
              "      <th>email_text</th>\n",
              "      <th>email_version</th>\n",
              "      <th>hour</th>\n",
              "      <th>weekday</th>\n",
              "      <th>user_country</th>\n",
              "      <th>user_past_purchases</th>\n",
              "      <th>email_opened</th>\n",
              "      <th>link_clicked</th>\n",
              "    </tr>\n",
              "  </thead>\n",
              "  <tbody>\n",
              "    <tr>\n",
              "      <th>0</th>\n",
              "      <td>85120</td>\n",
              "      <td>short_email</td>\n",
              "      <td>personalized</td>\n",
              "      <td>2</td>\n",
              "      <td>Sunday</td>\n",
              "      <td>US</td>\n",
              "      <td>5</td>\n",
              "      <td>NaN</td>\n",
              "      <td>NaN</td>\n",
              "    </tr>\n",
              "    <tr>\n",
              "      <th>1</th>\n",
              "      <td>966622</td>\n",
              "      <td>long_email</td>\n",
              "      <td>personalized</td>\n",
              "      <td>12</td>\n",
              "      <td>Sunday</td>\n",
              "      <td>UK</td>\n",
              "      <td>2</td>\n",
              "      <td>1.0</td>\n",
              "      <td>1.0</td>\n",
              "    </tr>\n",
              "    <tr>\n",
              "      <th>2</th>\n",
              "      <td>777221</td>\n",
              "      <td>long_email</td>\n",
              "      <td>personalized</td>\n",
              "      <td>11</td>\n",
              "      <td>Wednesday</td>\n",
              "      <td>US</td>\n",
              "      <td>2</td>\n",
              "      <td>NaN</td>\n",
              "      <td>NaN</td>\n",
              "    </tr>\n",
              "    <tr>\n",
              "      <th>3</th>\n",
              "      <td>493711</td>\n",
              "      <td>short_email</td>\n",
              "      <td>generic</td>\n",
              "      <td>6</td>\n",
              "      <td>Monday</td>\n",
              "      <td>UK</td>\n",
              "      <td>1</td>\n",
              "      <td>NaN</td>\n",
              "      <td>NaN</td>\n",
              "    </tr>\n",
              "    <tr>\n",
              "      <th>4</th>\n",
              "      <td>106887</td>\n",
              "      <td>long_email</td>\n",
              "      <td>generic</td>\n",
              "      <td>14</td>\n",
              "      <td>Monday</td>\n",
              "      <td>US</td>\n",
              "      <td>6</td>\n",
              "      <td>NaN</td>\n",
              "      <td>NaN</td>\n",
              "    </tr>\n",
              "  </tbody>\n",
              "</table>\n",
              "</div>"
            ],
            "text/plain": [
              "   email_id   email_text email_version  hour    weekday user_country  \\\n",
              "0     85120  short_email  personalized     2     Sunday           US   \n",
              "1    966622   long_email  personalized    12     Sunday           UK   \n",
              "2    777221   long_email  personalized    11  Wednesday           US   \n",
              "3    493711  short_email       generic     6     Monday           UK   \n",
              "4    106887   long_email       generic    14     Monday           US   \n",
              "\n",
              "   user_past_purchases  email_opened  link_clicked  \n",
              "0                    5           NaN           NaN  \n",
              "1                    2           1.0           1.0  \n",
              "2                    2           NaN           NaN  \n",
              "3                    1           NaN           NaN  \n",
              "4                    6           NaN           NaN  "
            ]
          },
          "metadata": {
            "tags": []
          },
          "execution_count": 17
        }
      ]
    },
    {
      "cell_type": "code",
      "metadata": {
        "id": "O5ur054zqwWh",
        "outputId": "2b3e531e-069c-42a3-b4e9-b3cf9d215963",
        "colab": {
          "base_uri": "https://localhost:8080/",
          "height": 224
        }
      },
      "source": [
        "df = df.fillna({'email_opened': 0, 'link_clicked': 0})\n",
        "df.head()"
      ],
      "execution_count": null,
      "outputs": [
        {
          "output_type": "execute_result",
          "data": {
            "text/html": [
              "<div>\n",
              "<style scoped>\n",
              "    .dataframe tbody tr th:only-of-type {\n",
              "        vertical-align: middle;\n",
              "    }\n",
              "\n",
              "    .dataframe tbody tr th {\n",
              "        vertical-align: top;\n",
              "    }\n",
              "\n",
              "    .dataframe thead th {\n",
              "        text-align: right;\n",
              "    }\n",
              "</style>\n",
              "<table border=\"1\" class=\"dataframe\">\n",
              "  <thead>\n",
              "    <tr style=\"text-align: right;\">\n",
              "      <th></th>\n",
              "      <th>email_id</th>\n",
              "      <th>email_text</th>\n",
              "      <th>email_version</th>\n",
              "      <th>hour</th>\n",
              "      <th>weekday</th>\n",
              "      <th>user_country</th>\n",
              "      <th>user_past_purchases</th>\n",
              "      <th>email_opened</th>\n",
              "      <th>link_clicked</th>\n",
              "    </tr>\n",
              "  </thead>\n",
              "  <tbody>\n",
              "    <tr>\n",
              "      <th>0</th>\n",
              "      <td>85120</td>\n",
              "      <td>short_email</td>\n",
              "      <td>personalized</td>\n",
              "      <td>2</td>\n",
              "      <td>Sunday</td>\n",
              "      <td>US</td>\n",
              "      <td>5</td>\n",
              "      <td>0.0</td>\n",
              "      <td>0.0</td>\n",
              "    </tr>\n",
              "    <tr>\n",
              "      <th>1</th>\n",
              "      <td>966622</td>\n",
              "      <td>long_email</td>\n",
              "      <td>personalized</td>\n",
              "      <td>12</td>\n",
              "      <td>Sunday</td>\n",
              "      <td>UK</td>\n",
              "      <td>2</td>\n",
              "      <td>1.0</td>\n",
              "      <td>1.0</td>\n",
              "    </tr>\n",
              "    <tr>\n",
              "      <th>2</th>\n",
              "      <td>777221</td>\n",
              "      <td>long_email</td>\n",
              "      <td>personalized</td>\n",
              "      <td>11</td>\n",
              "      <td>Wednesday</td>\n",
              "      <td>US</td>\n",
              "      <td>2</td>\n",
              "      <td>0.0</td>\n",
              "      <td>0.0</td>\n",
              "    </tr>\n",
              "    <tr>\n",
              "      <th>3</th>\n",
              "      <td>493711</td>\n",
              "      <td>short_email</td>\n",
              "      <td>generic</td>\n",
              "      <td>6</td>\n",
              "      <td>Monday</td>\n",
              "      <td>UK</td>\n",
              "      <td>1</td>\n",
              "      <td>0.0</td>\n",
              "      <td>0.0</td>\n",
              "    </tr>\n",
              "    <tr>\n",
              "      <th>4</th>\n",
              "      <td>106887</td>\n",
              "      <td>long_email</td>\n",
              "      <td>generic</td>\n",
              "      <td>14</td>\n",
              "      <td>Monday</td>\n",
              "      <td>US</td>\n",
              "      <td>6</td>\n",
              "      <td>0.0</td>\n",
              "      <td>0.0</td>\n",
              "    </tr>\n",
              "  </tbody>\n",
              "</table>\n",
              "</div>"
            ],
            "text/plain": [
              "   email_id   email_text email_version  hour    weekday user_country  \\\n",
              "0     85120  short_email  personalized     2     Sunday           US   \n",
              "1    966622   long_email  personalized    12     Sunday           UK   \n",
              "2    777221   long_email  personalized    11  Wednesday           US   \n",
              "3    493711  short_email       generic     6     Monday           UK   \n",
              "4    106887   long_email       generic    14     Monday           US   \n",
              "\n",
              "   user_past_purchases  email_opened  link_clicked  \n",
              "0                    5           0.0           0.0  \n",
              "1                    2           1.0           1.0  \n",
              "2                    2           0.0           0.0  \n",
              "3                    1           0.0           0.0  \n",
              "4                    6           0.0           0.0  "
            ]
          },
          "metadata": {
            "tags": []
          },
          "execution_count": 18
        }
      ]
    },
    {
      "cell_type": "code",
      "metadata": {
        "id": "uNsInY1SqwWl",
        "outputId": "e8f7bcaf-34ef-46cb-ca35-070c13808c6b",
        "colab": {
          "base_uri": "https://localhost:8080/",
          "height": 204
        }
      },
      "source": [
        "df.describe().transpose()"
      ],
      "execution_count": null,
      "outputs": [
        {
          "output_type": "execute_result",
          "data": {
            "text/html": [
              "<div>\n",
              "<style scoped>\n",
              "    .dataframe tbody tr th:only-of-type {\n",
              "        vertical-align: middle;\n",
              "    }\n",
              "\n",
              "    .dataframe tbody tr th {\n",
              "        vertical-align: top;\n",
              "    }\n",
              "\n",
              "    .dataframe thead th {\n",
              "        text-align: right;\n",
              "    }\n",
              "</style>\n",
              "<table border=\"1\" class=\"dataframe\">\n",
              "  <thead>\n",
              "    <tr style=\"text-align: right;\">\n",
              "      <th></th>\n",
              "      <th>count</th>\n",
              "      <th>mean</th>\n",
              "      <th>std</th>\n",
              "      <th>min</th>\n",
              "      <th>25%</th>\n",
              "      <th>50%</th>\n",
              "      <th>75%</th>\n",
              "      <th>max</th>\n",
              "    </tr>\n",
              "  </thead>\n",
              "  <tbody>\n",
              "    <tr>\n",
              "      <th>email_id</th>\n",
              "      <td>100000.0</td>\n",
              "      <td>498690.19616</td>\n",
              "      <td>289230.727534</td>\n",
              "      <td>8.0</td>\n",
              "      <td>246708.25</td>\n",
              "      <td>498447.0</td>\n",
              "      <td>749942.75</td>\n",
              "      <td>999998.0</td>\n",
              "    </tr>\n",
              "    <tr>\n",
              "      <th>hour</th>\n",
              "      <td>100000.0</td>\n",
              "      <td>9.05930</td>\n",
              "      <td>4.439637</td>\n",
              "      <td>1.0</td>\n",
              "      <td>6.00</td>\n",
              "      <td>9.0</td>\n",
              "      <td>12.00</td>\n",
              "      <td>24.0</td>\n",
              "    </tr>\n",
              "    <tr>\n",
              "      <th>user_past_purchases</th>\n",
              "      <td>100000.0</td>\n",
              "      <td>3.87845</td>\n",
              "      <td>3.196110</td>\n",
              "      <td>0.0</td>\n",
              "      <td>1.00</td>\n",
              "      <td>3.0</td>\n",
              "      <td>6.00</td>\n",
              "      <td>22.0</td>\n",
              "    </tr>\n",
              "    <tr>\n",
              "      <th>email_opened</th>\n",
              "      <td>100000.0</td>\n",
              "      <td>0.10345</td>\n",
              "      <td>0.304547</td>\n",
              "      <td>0.0</td>\n",
              "      <td>0.00</td>\n",
              "      <td>0.0</td>\n",
              "      <td>0.00</td>\n",
              "      <td>1.0</td>\n",
              "    </tr>\n",
              "    <tr>\n",
              "      <th>link_clicked</th>\n",
              "      <td>100000.0</td>\n",
              "      <td>0.02119</td>\n",
              "      <td>0.144018</td>\n",
              "      <td>0.0</td>\n",
              "      <td>0.00</td>\n",
              "      <td>0.0</td>\n",
              "      <td>0.00</td>\n",
              "      <td>1.0</td>\n",
              "    </tr>\n",
              "  </tbody>\n",
              "</table>\n",
              "</div>"
            ],
            "text/plain": [
              "                        count          mean            std  min        25%  \\\n",
              "email_id             100000.0  498690.19616  289230.727534  8.0  246708.25   \n",
              "hour                 100000.0       9.05930       4.439637  1.0       6.00   \n",
              "user_past_purchases  100000.0       3.87845       3.196110  0.0       1.00   \n",
              "email_opened         100000.0       0.10345       0.304547  0.0       0.00   \n",
              "link_clicked         100000.0       0.02119       0.144018  0.0       0.00   \n",
              "\n",
              "                          50%        75%       max  \n",
              "email_id             498447.0  749942.75  999998.0  \n",
              "hour                      9.0      12.00      24.0  \n",
              "user_past_purchases       3.0       6.00      22.0  \n",
              "email_opened              0.0       0.00       1.0  \n",
              "link_clicked              0.0       0.00       1.0  "
            ]
          },
          "metadata": {
            "tags": []
          },
          "execution_count": 19
        }
      ]
    },
    {
      "cell_type": "markdown",
      "metadata": {
        "id": "PoThZlA5qwWs"
      },
      "source": [
        "### Percentage of users opened the email and clicked on the link within the email"
      ]
    },
    {
      "cell_type": "code",
      "metadata": {
        "id": "Eo0reHHVqwWu",
        "outputId": "0569324c-ce05-48f9-ee04-2589fd9a7bf7",
        "colab": {
          "base_uri": "https://localhost:8080/",
          "height": 34
        }
      },
      "source": [
        "len(df1)/float(100000)*100 "
      ],
      "execution_count": null,
      "outputs": [
        {
          "output_type": "execute_result",
          "data": {
            "text/plain": [
              "10.345"
            ]
          },
          "metadata": {
            "tags": []
          },
          "execution_count": 20
        }
      ]
    },
    {
      "cell_type": "code",
      "metadata": {
        "id": "hsxRp2IvqwW0",
        "outputId": "ca500062-3955-4909-9d38-4d7d0825fb32",
        "colab": {
          "base_uri": "https://localhost:8080/",
          "height": 34
        }
      },
      "source": [
        "(len(df2)/float(len(df1)))*100 "
      ],
      "execution_count": null,
      "outputs": [
        {
          "output_type": "execute_result",
          "data": {
            "text/plain": [
              "20.483325277912034"
            ]
          },
          "metadata": {
            "tags": []
          },
          "execution_count": 21
        }
      ]
    },
    {
      "cell_type": "markdown",
      "metadata": {
        "id": "r8xWmxqAqwW5"
      },
      "source": [
        "### Build a model to optimize in future email campaigns to maximize the probability of users clicking on the link inside the email?"
      ]
    },
    {
      "cell_type": "code",
      "metadata": {
        "id": "pDJ-CxqNqwW7",
        "outputId": "c7577f91-4830-4697-eb6c-7ed4717fd5c3",
        "colab": {
          "base_uri": "https://localhost:8080/",
          "height": 111
        }
      },
      "source": [
        "df_country=df[['email_opened', 'link_clicked', 'user_country']]\n",
        "df_country1=df_country.groupby('user_country').mean()\n",
        "df_country2=df_country1.transpose()\n",
        "df_country2"
      ],
      "execution_count": null,
      "outputs": [
        {
          "output_type": "execute_result",
          "data": {
            "text/html": [
              "<div>\n",
              "<style scoped>\n",
              "    .dataframe tbody tr th:only-of-type {\n",
              "        vertical-align: middle;\n",
              "    }\n",
              "\n",
              "    .dataframe tbody tr th {\n",
              "        vertical-align: top;\n",
              "    }\n",
              "\n",
              "    .dataframe thead th {\n",
              "        text-align: right;\n",
              "    }\n",
              "</style>\n",
              "<table border=\"1\" class=\"dataframe\">\n",
              "  <thead>\n",
              "    <tr style=\"text-align: right;\">\n",
              "      <th>user_country</th>\n",
              "      <th>ES</th>\n",
              "      <th>FR</th>\n",
              "      <th>UK</th>\n",
              "      <th>US</th>\n",
              "    </tr>\n",
              "  </thead>\n",
              "  <tbody>\n",
              "    <tr>\n",
              "      <th>email_opened</th>\n",
              "      <td>0.039129</td>\n",
              "      <td>0.040620</td>\n",
              "      <td>0.120167</td>\n",
              "      <td>0.11902</td>\n",
              "    </tr>\n",
              "    <tr>\n",
              "      <th>link_clicked</th>\n",
              "      <td>0.008327</td>\n",
              "      <td>0.008004</td>\n",
              "      <td>0.024675</td>\n",
              "      <td>0.02436</td>\n",
              "    </tr>\n",
              "  </tbody>\n",
              "</table>\n",
              "</div>"
            ],
            "text/plain": [
              "user_country        ES        FR        UK       US\n",
              "email_opened  0.039129  0.040620  0.120167  0.11902\n",
              "link_clicked  0.008327  0.008004  0.024675  0.02436"
            ]
          },
          "metadata": {
            "tags": []
          },
          "execution_count": 22
        }
      ]
    },
    {
      "cell_type": "code",
      "metadata": {
        "id": "TvwFegr2qwXA",
        "outputId": "7d48aa18-c4ab-4185-f08b-feff735627fa",
        "colab": {
          "base_uri": "https://localhost:8080/",
          "height": 467
        }
      },
      "source": [
        "plt1=df_country2.plot(kind='bar', title='Email marketing by country', figsize=(8,6), legend=True, fontsize=14)"
      ],
      "execution_count": null,
      "outputs": [
        {
          "output_type": "display_data",
          "data": {
            "image/png": "[encoded data removed]",
            "text/plain": [
              "<matplotlib.figure.Figure at 0x7f2b51413a20>"
            ]
          },
          "metadata": {
            "tags": []
          }
        }
      ]
    },
    {
      "cell_type": "markdown",
      "metadata": {
        "id": "o_3AhCZNqwXE"
      },
      "source": [
        "### Emails opened and links clicked by weekday"
      ]
    },
    {
      "cell_type": "code",
      "metadata": {
        "id": "3-1XquGuqwXF",
        "outputId": "967fbd60-2842-4517-abe1-9d4e009845b6",
        "colab": {
          "base_uri": "https://localhost:8080/",
          "height": 111
        }
      },
      "source": [
        "df_weekday=df[['email_opened', 'link_clicked', 'weekday']]\n",
        "df_weekday1=df_weekday.groupby('weekday').mean()\n",
        "df_weekday2=df_weekday1.transpose()\n",
        "df_weekday2"
      ],
      "execution_count": null,
      "outputs": [
        {
          "output_type": "execute_result",
          "data": {
            "text/html": [
              "<div>\n",
              "<style scoped>\n",
              "    .dataframe tbody tr th:only-of-type {\n",
              "        vertical-align: middle;\n",
              "    }\n",
              "\n",
              "    .dataframe tbody tr th {\n",
              "        vertical-align: top;\n",
              "    }\n",
              "\n",
              "    .dataframe thead th {\n",
              "        text-align: right;\n",
              "    }\n",
              "</style>\n",
              "<table border=\"1\" class=\"dataframe\">\n",
              "  <thead>\n",
              "    <tr style=\"text-align: right;\">\n",
              "      <th>weekday</th>\n",
              "      <th>Friday</th>\n",
              "      <th>Monday</th>\n",
              "      <th>Saturday</th>\n",
              "      <th>Sunday</th>\n",
              "      <th>Thursday</th>\n",
              "      <th>Tuesday</th>\n",
              "      <th>Wednesday</th>\n",
              "    </tr>\n",
              "  </thead>\n",
              "  <tbody>\n",
              "    <tr>\n",
              "      <th>email_opened</th>\n",
              "      <td>0.074134</td>\n",
              "      <td>0.116062</td>\n",
              "      <td>0.087652</td>\n",
              "      <td>0.087649</td>\n",
              "      <td>0.118442</td>\n",
              "      <td>0.120484</td>\n",
              "      <td>0.120278</td>\n",
              "    </tr>\n",
              "    <tr>\n",
              "      <th>link_clicked</th>\n",
              "      <td>0.014037</td>\n",
              "      <td>0.022906</td>\n",
              "      <td>0.017846</td>\n",
              "      <td>0.016751</td>\n",
              "      <td>0.024445</td>\n",
              "      <td>0.024889</td>\n",
              "      <td>0.027620</td>\n",
              "    </tr>\n",
              "  </tbody>\n",
              "</table>\n",
              "</div>"
            ],
            "text/plain": [
              "weekday         Friday    Monday  Saturday    Sunday  Thursday   Tuesday  \\\n",
              "email_opened  0.074134  0.116062  0.087652  0.087649  0.118442  0.120484   \n",
              "link_clicked  0.014037  0.022906  0.017846  0.016751  0.024445  0.024889   \n",
              "\n",
              "weekday       Wednesday  \n",
              "email_opened   0.120278  \n",
              "link_clicked   0.027620  "
            ]
          },
          "metadata": {
            "tags": []
          },
          "execution_count": 24
        }
      ]
    },
    {
      "cell_type": "code",
      "metadata": {
        "id": "82Lmc-dTqwXJ",
        "outputId": "161ae1bd-8e7b-4c0c-85f4-49bc0de1a065",
        "colab": {
          "base_uri": "https://localhost:8080/",
          "height": 480
        }
      },
      "source": [
        "plt2=df_weekday2.plot(kind='bar', title='Email marketing by weekday', figsize=(8,6), legend=True, fontsize=16)"
      ],
      "execution_count": null,
      "outputs": [
        {
          "output_type": "display_data",
          "data": {
            "image/png": "[encoded data removed]",
            "text/plain": [
              "<matplotlib.figure.Figure at 0x7f2b513bd080>"
            ]
          },
          "metadata": {
            "tags": []
          }
        }
      ]
    },
    {
      "cell_type": "markdown",
      "metadata": {
        "id": "L_w2b5VSqwXN"
      },
      "source": [
        "### Emails opened and links clicked by hour"
      ]
    },
    {
      "cell_type": "code",
      "metadata": {
        "scrolled": true,
        "id": "Ekzb1ThBqwXO",
        "outputId": "ab999ce8-0346-4885-dec5-16d85e1eb2b7",
        "colab": {
          "base_uri": "https://localhost:8080/",
          "height": 311
        }
      },
      "source": [
        "import pylab as p\n",
        "\n",
        "df_hour=df[(df['link_clicked']==1)] \n",
        "x, binEdges=np.histogram(df_hour['hour'], bins=24)\n",
        "p.plot(x,'-',label='email_opened')\n",
        "p.title(\"Emails opened and links clicked by hour\")\n",
        "p.xlabel(\"Hour of the day\")\n",
        "\n",
        "\n",
        "df_hour=df[(df['email_opened']==1)]\n",
        "x, binEdges=np.histogram(df_hour['hour'], bins=24)\n",
        "p.plot(x,'-',label='link_clicked')\n",
        "p.title(\"Emails opened and links clicked by hour\")\n",
        "p.xlabel(\"Hour of the day\")\n",
        "\n"
      ],
      "execution_count": null,
      "outputs": [
        {
          "output_type": "execute_result",
          "data": {
            "text/plain": [
              "Text(0.5,0,'Hour of the day')"
            ]
          },
          "metadata": {
            "tags": []
          },
          "execution_count": 26
        },
        {
          "output_type": "display_data",
          "data": {
            "image/png": "[encoded data removed]",
            "text/plain": [
              "<matplotlib.figure.Figure at 0x7f2b4eb06f98>"
            ]
          },
          "metadata": {
            "tags": []
          }
        }
      ]
    },
    {
      "cell_type": "code",
      "metadata": {
        "id": "z5JxE3BcqwXS",
        "outputId": "1a2bf9a8-62e8-4c22-d074-4c2fa10a37ac",
        "colab": {
          "base_uri": "https://localhost:8080/",
          "height": 34
        }
      },
      "source": [
        "pd.unique(df.email_text)"
      ],
      "execution_count": null,
      "outputs": [
        {
          "output_type": "execute_result",
          "data": {
            "text/plain": [
              "array(['short_email', 'long_email'], dtype=object)"
            ]
          },
          "metadata": {
            "tags": []
          },
          "execution_count": 27
        }
      ]
    },
    {
      "cell_type": "markdown",
      "metadata": {
        "collapsed": true,
        "id": "wPJZzHorqwXZ"
      },
      "source": [
        "### EDA for User_past_purchases & email opened and links clicked"
      ]
    },
    {
      "cell_type": "code",
      "metadata": {
        "id": "M7wg7BRBqwXZ",
        "outputId": "79677f3c-5b01-4937-adac-0f499308a5a8",
        "colab": {
          "base_uri": "https://localhost:8080/",
          "height": 323
        }
      },
      "source": [
        "grouped = df.groupby( \"email_opened\")\n",
        "email_opened = grouped[ \"user_past_purchases\"].describe()\n",
        "email_opened = email_opened.unstack( level=-1)\n",
        "email_opened"
      ],
      "execution_count": null,
      "outputs": [
        {
          "output_type": "execute_result",
          "data": {
            "text/plain": [
              "       email_opened\n",
              "count  0.0             89655.000000\n",
              "       1.0             10345.000000\n",
              "mean   0.0                 3.785154\n",
              "       1.0                 4.686999\n",
              "std    0.0                 3.169901\n",
              "       1.0                 3.306502\n",
              "min    0.0                 0.000000\n",
              "       1.0                 0.000000\n",
              "25%    0.0                 1.000000\n",
              "       1.0                 2.000000\n",
              "50%    0.0                 3.000000\n",
              "       1.0                 4.000000\n",
              "75%    0.0                 6.000000\n",
              "       1.0                 7.000000\n",
              "max    0.0                21.000000\n",
              "       1.0                22.000000\n",
              "dtype: float64"
            ]
          },
          "metadata": {
            "tags": []
          },
          "execution_count": 28
        }
      ]
    },
    {
      "cell_type": "code",
      "metadata": {
        "id": "uYU-iEgWqwXd",
        "outputId": "b7d81cfd-bf5b-4682-f962-2f7cbeace32f",
        "colab": {
          "base_uri": "https://localhost:8080/",
          "height": 323
        }
      },
      "source": [
        "grouped = df.groupby( \"link_clicked\")\n",
        "link_clicked = grouped[ \"user_past_purchases\"].describe()\n",
        "link_clicked = link_clicked.unstack( level=-1)\n",
        "link_clicked"
      ],
      "execution_count": null,
      "outputs": [
        {
          "output_type": "execute_result",
          "data": {
            "text/plain": [
              "       link_clicked\n",
              "count  0.0             97881.000000\n",
              "       1.0              2119.000000\n",
              "mean   0.0                 3.828864\n",
              "       1.0                 6.168948\n",
              "std    0.0                 3.168514\n",
              "       1.0                 3.601982\n",
              "min    0.0                 0.000000\n",
              "       1.0                 0.000000\n",
              "25%    0.0                 1.000000\n",
              "       1.0                 3.000000\n",
              "50%    0.0                 3.000000\n",
              "       1.0                 6.000000\n",
              "75%    0.0                 6.000000\n",
              "       1.0                 8.000000\n",
              "max    0.0                21.000000\n",
              "       1.0                22.000000\n",
              "dtype: float64"
            ]
          },
          "metadata": {
            "tags": []
          },
          "execution_count": 29
        }
      ]
    },
    {
      "cell_type": "markdown",
      "metadata": {
        "collapsed": true,
        "id": "KmIzkOxlqwXl"
      },
      "source": [
        "### Model fitting to find most important features"
      ]
    },
    {
      "cell_type": "code",
      "metadata": {
        "id": "wkjpjXNKqwXn",
        "outputId": "270aaf8f-8aef-455d-8002-316f176b53bd",
        "colab": {
          "base_uri": "https://localhost:8080/",
          "height": 253
        }
      },
      "source": [
        "cols =['email_text', 'email_version', 'user_country','weekday']\n",
        "data_1 = df[cols]\n",
        "data_dummies = pd.get_dummies(data_1)\n",
        "result_df = pd.concat([data_dummies, df], axis=1)\n",
        "result_df.head()"
      ],
      "execution_count": null,
      "outputs": [
        {
          "output_type": "execute_result",
          "data": {
            "text/html": [
              "<div>\n",
              "<style scoped>\n",
              "    .dataframe tbody tr th:only-of-type {\n",
              "        vertical-align: middle;\n",
              "    }\n",
              "\n",
              "    .dataframe tbody tr th {\n",
              "        vertical-align: top;\n",
              "    }\n",
              "\n",
              "    .dataframe thead th {\n",
              "        text-align: right;\n",
              "    }\n",
              "</style>\n",
              "<table border=\"1\" class=\"dataframe\">\n",
              "  <thead>\n",
              "    <tr style=\"text-align: right;\">\n",
              "      <th></th>\n",
              "      <th>email_text_long_email</th>\n",
              "      <th>email_text_short_email</th>\n",
              "      <th>email_version_generic</th>\n",
              "      <th>email_version_personalized</th>\n",
              "      <th>user_country_ES</th>\n",
              "      <th>user_country_FR</th>\n",
              "      <th>user_country_UK</th>\n",
              "      <th>user_country_US</th>\n",
              "      <th>weekday_Friday</th>\n",
              "      <th>weekday_Monday</th>\n",
              "      <th>...</th>\n",
              "      <th>weekday_Wednesday</th>\n",
              "      <th>email_id</th>\n",
              "      <th>email_text</th>\n",
              "      <th>email_version</th>\n",
              "      <th>hour</th>\n",
              "      <th>weekday</th>\n",
              "      <th>user_country</th>\n",
              "      <th>user_past_purchases</th>\n",
              "      <th>email_opened</th>\n",
              "      <th>link_clicked</th>\n",
              "    </tr>\n",
              "  </thead>\n",
              "  <tbody>\n",
              "    <tr>\n",
              "      <th>0</th>\n",
              "      <td>0</td>\n",
              "      <td>1</td>\n",
              "      <td>0</td>\n",
              "      <td>1</td>\n",
              "      <td>0</td>\n",
              "      <td>0</td>\n",
              "      <td>0</td>\n",
              "      <td>1</td>\n",
              "      <td>0</td>\n",
              "      <td>0</td>\n",
              "      <td>...</td>\n",
              "      <td>0</td>\n",
              "      <td>85120</td>\n",
              "      <td>short_email</td>\n",
              "      <td>personalized</td>\n",
              "      <td>2</td>\n",
              "      <td>Sunday</td>\n",
              "      <td>US</td>\n",
              "      <td>5</td>\n",
              "      <td>0.0</td>\n",
              "      <td>0.0</td>\n",
              "    </tr>\n",
              "    <tr>\n",
              "      <th>1</th>\n",
              "      <td>1</td>\n",
              "      <td>0</td>\n",
              "      <td>0</td>\n",
              "      <td>1</td>\n",
              "      <td>0</td>\n",
              "      <td>0</td>\n",
              "      <td>1</td>\n",
              "      <td>0</td>\n",
              "      <td>0</td>\n",
              "      <td>0</td>\n",
              "      <td>...</td>\n",
              "      <td>0</td>\n",
              "      <td>966622</td>\n",
              "      <td>long_email</td>\n",
              "      <td>personalized</td>\n",
              "      <td>12</td>\n",
              "      <td>Sunday</td>\n",
              "      <td>UK</td>\n",
              "      <td>2</td>\n",
              "      <td>1.0</td>\n",
              "      <td>1.0</td>\n",
              "    </tr>\n",
              "    <tr>\n",
              "      <th>2</th>\n",
              "      <td>1</td>\n",
              "      <td>0</td>\n",
              "      <td>0</td>\n",
              "      <td>1</td>\n",
              "      <td>0</td>\n",
              "      <td>0</td>\n",
              "      <td>0</td>\n",
              "      <td>1</td>\n",
              "      <td>0</td>\n",
              "      <td>0</td>\n",
              "      <td>...</td>\n",
              "      <td>1</td>\n",
              "      <td>777221</td>\n",
              "      <td>long_email</td>\n",
              "      <td>personalized</td>\n",
              "      <td>11</td>\n",
              "      <td>Wednesday</td>\n",
              "      <td>US</td>\n",
              "      <td>2</td>\n",
              "      <td>0.0</td>\n",
              "      <td>0.0</td>\n",
              "    </tr>\n",
              "    <tr>\n",
              "      <th>3</th>\n",
              "      <td>0</td>\n",
              "      <td>1</td>\n",
              "      <td>1</td>\n",
              "      <td>0</td>\n",
              "      <td>0</td>\n",
              "      <td>0</td>\n",
              "      <td>1</td>\n",
              "      <td>0</td>\n",
              "      <td>0</td>\n",
              "      <td>1</td>\n",
              "      <td>...</td>\n",
              "      <td>0</td>\n",
              "      <td>493711</td>\n",
              "      <td>short_email</td>\n",
              "      <td>generic</td>\n",
              "      <td>6</td>\n",
              "      <td>Monday</td>\n",
              "      <td>UK</td>\n",
              "      <td>1</td>\n",
              "      <td>0.0</td>\n",
              "      <td>0.0</td>\n",
              "    </tr>\n",
              "    <tr>\n",
              "      <th>4</th>\n",
              "      <td>1</td>\n",
              "      <td>0</td>\n",
              "      <td>1</td>\n",
              "      <td>0</td>\n",
              "      <td>0</td>\n",
              "      <td>0</td>\n",
              "      <td>0</td>\n",
              "      <td>1</td>\n",
              "      <td>0</td>\n",
              "      <td>1</td>\n",
              "      <td>...</td>\n",
              "      <td>0</td>\n",
              "      <td>106887</td>\n",
              "      <td>long_email</td>\n",
              "      <td>generic</td>\n",
              "      <td>14</td>\n",
              "      <td>Monday</td>\n",
              "      <td>US</td>\n",
              "      <td>6</td>\n",
              "      <td>0.0</td>\n",
              "      <td>0.0</td>\n",
              "    </tr>\n",
              "  </tbody>\n",
              "</table>\n",
              "<p>5 rows × 24 columns</p>\n",
              "</div>"
            ],
            "text/plain": [
              "   email_text_long_email  email_text_short_email  email_version_generic  \\\n",
              "0                      0                       1                      0   \n",
              "1                      1                       0                      0   \n",
              "2                      1                       0                      0   \n",
              "3                      0                       1                      1   \n",
              "4                      1                       0                      1   \n",
              "\n",
              "   email_version_personalized  user_country_ES  user_country_FR  \\\n",
              "0                           1                0                0   \n",
              "1                           1                0                0   \n",
              "2                           1                0                0   \n",
              "3                           0                0                0   \n",
              "4                           0                0                0   \n",
              "\n",
              "   user_country_UK  user_country_US  weekday_Friday  weekday_Monday  \\\n",
              "0                0                1               0               0   \n",
              "1                1                0               0               0   \n",
              "2                0                1               0               0   \n",
              "3                1                0               0               1   \n",
              "4                0                1               0               1   \n",
              "\n",
              "      ...       weekday_Wednesday  email_id   email_text  email_version  hour  \\\n",
              "0     ...                       0     85120  short_email   personalized     2   \n",
              "1     ...                       0    966622   long_email   personalized    12   \n",
              "2     ...                       1    777221   long_email   personalized    11   \n",
              "3     ...                       0    493711  short_email        generic     6   \n",
              "4     ...                       0    106887   long_email        generic    14   \n",
              "\n",
              "     weekday user_country user_past_purchases  email_opened link_clicked  \n",
              "0     Sunday           US                   5           0.0          0.0  \n",
              "1     Sunday           UK                   2           1.0          1.0  \n",
              "2  Wednesday           US                   2           0.0          0.0  \n",
              "3     Monday           UK                   1           0.0          0.0  \n",
              "4     Monday           US                   6           0.0          0.0  \n",
              "\n",
              "[5 rows x 24 columns]"
            ]
          },
          "metadata": {
            "tags": []
          },
          "execution_count": 30
        }
      ]
    },
    {
      "cell_type": "markdown",
      "metadata": {
        "id": "sqyv-CSfqwXr"
      },
      "source": [
        "### Logistic Regression to find features for emails opened"
      ]
    },
    {
      "cell_type": "code",
      "metadata": {
        "id": "7hfaeeR4qwXs",
        "outputId": "36075914-a747-4c0a-f976-c70350f4c5fd",
        "colab": {
          "base_uri": "https://localhost:8080/",
          "height": 411
        }
      },
      "source": [
        "result_df2 = result_df[['email_text_long_email',\n",
        "       'email_version_personalized',\n",
        "       'user_country_ES', 'user_country_FR', 'user_country_UK',\n",
        "       'user_country_US', 'weekday_Friday', 'weekday_Monday',\n",
        "       'weekday_Saturday', 'weekday_Sunday', 'weekday_Thursday',\n",
        "       'weekday_Tuesday', 'weekday_Wednesday', 'hour','user_past_purchases','email_opened']]\n",
        "y = result_df2['email_opened'].values\n",
        "X = result_df2[['email_text_long_email',\n",
        "       'email_version_personalized',\n",
        "       'user_country_ES', 'user_country_FR', 'user_country_UK',\n",
        "       'user_country_US', 'weekday_Friday', 'weekday_Monday',\n",
        "       'weekday_Saturday', 'weekday_Sunday', 'weekday_Thursday',\n",
        "       'weekday_Tuesday', 'weekday_Wednesday', 'hour','user_past_purchases']].values\n",
        "\n",
        "X_train, X_test, y_train, y_test = train_test_split(X, y, test_size=0.1)\n",
        "\n",
        "from sklearn.preprocessing import StandardScaler\n",
        "\n",
        "# scale attributes by the training set\n",
        "scl_obj = StandardScaler()\n",
        "scl_obj.fit(X_train) \n",
        "X_train_scaled = scl_obj.transform(X_train) \n",
        "X_test_scaled = scl_obj.transform(X_test) \n",
        "\n",
        "lr_clf = LogisticRegression(penalty='l2', C=0.05, class_weight=\"balanced\")  \n",
        "lr_clf.fit(X_train_scaled,y_train)  \n",
        "\n",
        "y_hat = lr_clf.predict(X_test_scaled) \n",
        "\n",
        "\n",
        "acc = mt.accuracy_score(y_test,y_hat)\n",
        "conf = mt.confusion_matrix(y_test,y_hat)\n",
        "print('accuracy:', acc)\n",
        "print(\"Confusion matrix : \")\n",
        "print(conf)\n",
        "\n",
        "\n",
        "print(\"Classification Report..\")\n",
        "from sklearn.metrics import classification_report\n",
        "print(classification_report(y_test, y_hat))\n"
      ],
      "execution_count": null,
      "outputs": [
        {
          "output_type": "stream",
          "text": [
            "/usr/local/lib/python3.6/dist-packages/sklearn/utils/validation.py:595: DataConversionWarning: Data with input dtype int64 was converted to float64 by StandardScaler.\n",
            "  warnings.warn(msg, DataConversionWarning)\n",
            "/usr/local/lib/python3.6/dist-packages/sklearn/utils/validation.py:595: DataConversionWarning: Data with input dtype int64 was converted to float64 by StandardScaler.\n",
            "  warnings.warn(msg, DataConversionWarning)\n",
            "/usr/local/lib/python3.6/dist-packages/sklearn/utils/validation.py:595: DataConversionWarning: Data with input dtype int64 was converted to float64 by StandardScaler.\n",
            "  warnings.warn(msg, DataConversionWarning)\n",
            "/usr/local/lib/python3.6/dist-packages/sklearn/linear_model/logistic.py:433: FutureWarning: Default solver will be changed to 'lbfgs' in 0.22. Specify a solver to silence this warning.\n",
            "  FutureWarning)\n"
          ],
          "name": "stderr"
        },
        {
          "output_type": "stream",
          "text": [
            "accuracy: 0.5869\n",
            "Confusion matrix : \n",
            "[[5158 3764]\n",
            " [ 367  711]]\n",
            "Classification Report..\n",
            "              precision    recall  f1-score   support\n",
            "\n",
            "         0.0       0.93      0.58      0.71      8922\n",
            "         1.0       0.16      0.66      0.26      1078\n",
            "\n",
            "   micro avg       0.59      0.59      0.59     10000\n",
            "   macro avg       0.55      0.62      0.49     10000\n",
            "weighted avg       0.85      0.59      0.66     10000\n",
            "\n"
          ],
          "name": "stdout"
        }
      ]
    },
    {
      "cell_type": "code",
      "metadata": {
        "id": "PJwIpIw0qwXu",
        "outputId": "61e4d0c6-0dbe-4d17-8a78-a44dacae9149",
        "colab": {
          "base_uri": "https://localhost:8080/",
          "height": 311
        }
      },
      "source": [
        "from sklearn.metrics import roc_curve\n",
        "from sklearn.metrics import auc\n",
        "\n",
        "# Compute fpr, tpr, thresholds and roc auc\n",
        "fpr, tpr, thresholds = roc_curve(y_test, lr_clf.predict_proba(X_test)[:,1])\n",
        "roc_auc = auc(fpr, tpr)\n",
        "\n",
        "# Plot ROC curve\n",
        "plt.plot(fpr, tpr, label='ROC curve (area = %0.3f)' % roc_auc)\n",
        "plt.plot([0, 1], [0, 1], 'k--')  \n",
        "plt.xlim([0.0, 1.0])\n",
        "plt.ylim([0.0, 1.0])\n",
        "plt.xlabel('False Positive Rate or (1 - Specifity)')\n",
        "plt.ylabel('True Positive Rate or (Sensitivity)')\n",
        "plt.title('Receiver Operating Characteristic')"
      ],
      "execution_count": null,
      "outputs": [
        {
          "output_type": "execute_result",
          "data": {
            "text/plain": [
              "Text(0.5,1,'Receiver Operating Characteristic')"
            ]
          },
          "metadata": {
            "tags": []
          },
          "execution_count": 32
        },
        {
          "output_type": "display_data",
          "data": {
            "image/png": "[encoded data removed]",
            "text/plain": [
              "<matplotlib.figure.Figure at 0x7f2b5147e9b0>"
            ]
          },
          "metadata": {
            "tags": []
          }
        }
      ]
    },
    {
      "cell_type": "code",
      "metadata": {
        "id": "PpsrYFARqwXx",
        "outputId": "67fb2c00-5b22-4bb1-fd3d-205d83e3e2eb",
        "colab": {
          "base_uri": "https://localhost:8080/",
          "height": 379
        }
      },
      "source": [
        "from matplotlib import pyplot as plt\n",
        "%matplotlib inline\n",
        "plt.style.use('ggplot')\n",
        "\n",
        "weights = pd.Series(lr_clf.coef_[0], index = ['email_text_long_email',\n",
        "       'email_version_personalized',\n",
        "       'user_country_ES', 'user_country_FR', 'user_country_UK',\n",
        "       'user_country_US', 'weekday_Friday', 'weekday_Monday',\n",
        "       'weekday_Saturday', 'weekday_Sunday', 'weekday_Thursday',\n",
        "       'weekday_Tuesday', 'weekday_Wednesday', 'hour','user_past_purchases'])\n",
        "weights.plot(kind='bar')\n",
        "plt.show()"
      ],
      "execution_count": null,
      "outputs": [
        {
          "output_type": "display_data",
          "data": {
            "image/png": "[encoded data removed]",
            "text/plain": [
              "<matplotlib.figure.Figure at 0x7f2b4e99f5c0>"
            ]
          },
          "metadata": {
            "tags": []
          }
        }
      ]
    },
    {
      "cell_type": "markdown",
      "metadata": {
        "id": "rRCS3zBbqwX0"
      },
      "source": [
        "### Logistic Regression for links clicked"
      ]
    },
    {
      "cell_type": "code",
      "metadata": {
        "id": "7I2JTFVDqwX1",
        "outputId": "306727da-5b1c-431f-f518-a37100051f0b",
        "colab": {
          "base_uri": "https://localhost:8080/",
          "height": 173
        }
      },
      "source": [
        "result_df2 = result_df[['email_text_long_email',\n",
        "       'email_version_personalized',\n",
        "       'user_country_ES', 'user_country_FR', 'user_country_UK',\n",
        "       'user_country_US', 'weekday_Friday', 'weekday_Monday',\n",
        "       'weekday_Saturday', 'weekday_Sunday', 'weekday_Thursday',\n",
        "       'weekday_Tuesday', 'weekday_Wednesday', 'hour','user_past_purchases','link_clicked']]\n",
        "y = result_df2['link_clicked'].values\n",
        "X = result_df2[['email_text_long_email',\n",
        "       'email_version_personalized',\n",
        "       'user_country_ES', 'user_country_FR', 'user_country_UK',\n",
        "       'user_country_US', 'weekday_Friday', 'weekday_Monday',\n",
        "       'weekday_Saturday', 'weekday_Sunday', 'weekday_Thursday',\n",
        "       'weekday_Tuesday', 'weekday_Wednesday', 'hour','user_past_purchases']].values\n",
        "\n",
        "X_train, X_test, y_train, y_test = train_test_split(X, y, test_size=0.1)\n",
        "\n",
        "from sklearn.preprocessing import StandardScaler\n",
        "\n",
        "# scale attributes by the training set\n",
        "scl_obj = StandardScaler()\n",
        "scl_obj.fit(X_train) \n",
        "X_train_scaled = scl_obj.transform(X_train) \n",
        "X_test_scaled = scl_obj.transform(X_test) \n",
        "\n",
        "lr_clf = LogisticRegression(penalty='l2', C=0.05, class_weight=\"balanced\") \n",
        "lr_clf.fit(X_train_scaled,y_train)  \n",
        "\n",
        "y_hat = lr_clf.predict(X_test_scaled) "
      ],
      "execution_count": null,
      "outputs": [
        {
          "output_type": "stream",
          "text": [
            "/usr/local/lib/python3.6/dist-packages/sklearn/utils/validation.py:595: DataConversionWarning: Data with input dtype int64 was converted to float64 by StandardScaler.\n",
            "  warnings.warn(msg, DataConversionWarning)\n",
            "/usr/local/lib/python3.6/dist-packages/sklearn/utils/validation.py:595: DataConversionWarning: Data with input dtype int64 was converted to float64 by StandardScaler.\n",
            "  warnings.warn(msg, DataConversionWarning)\n",
            "/usr/local/lib/python3.6/dist-packages/sklearn/utils/validation.py:595: DataConversionWarning: Data with input dtype int64 was converted to float64 by StandardScaler.\n",
            "  warnings.warn(msg, DataConversionWarning)\n",
            "/usr/local/lib/python3.6/dist-packages/sklearn/linear_model/logistic.py:433: FutureWarning: Default solver will be changed to 'lbfgs' in 0.22. Specify a solver to silence this warning.\n",
            "  FutureWarning)\n"
          ],
          "name": "stderr"
        }
      ]
    },
    {
      "cell_type": "code",
      "metadata": {
        "id": "SwRanVdgqwX4",
        "outputId": "35c92acc-3764-4490-9115-af5ed179374a",
        "colab": {
          "base_uri": "https://localhost:8080/",
          "height": 85
        }
      },
      "source": [
        "# The false positive and true positive rates\n",
        "acc = mt.accuracy_score(y_test,y_hat)\n",
        "conf = mt.confusion_matrix(y_test,y_hat)\n",
        "print('accuracy:', acc) \n",
        "print(\"Confusion matrix : \")\n",
        "print(conf)\n"
      ],
      "execution_count": null,
      "outputs": [
        {
          "output_type": "stream",
          "text": [
            "accuracy: 0.6774\n",
            "Confusion matrix : \n",
            "[[6623 3164]\n",
            " [  62  151]]\n"
          ],
          "name": "stdout"
        }
      ]
    },
    {
      "cell_type": "code",
      "metadata": {
        "id": "e2GQKmi9qwX7",
        "outputId": "1c776b56-3304-49ee-de09-cce094c60730",
        "colab": {
          "base_uri": "https://localhost:8080/",
          "height": 315
        }
      },
      "source": [
        "fpr, tpr, _ = roc_curve(y_test, lr_clf.predict_proba(X_test)[:,1])\n",
        "\n",
        "# The AUC\n",
        "roc_auc = auc(fpr, tpr)\n",
        "print('ROC AUC: %0.2f' % roc_auc)\n",
        " \n",
        "# Plot of a ROC curve for a specific class\n",
        "plt.figure()\n",
        "plt.plot(fpr, tpr, label='ROC curve (area = %0.2f)' % roc_auc)\n",
        "plt.plot([0, 1], [0, 1], 'k--')\n",
        "plt.xlim([0.0, 1.0])\n",
        "plt.ylim([0.0, 1.05])\n",
        "plt.xlabel('False Positive Rate')\n",
        "plt.ylabel('True Positive Rate')\n",
        "plt.title('ROC Curve')\n",
        "plt.legend(loc=\"lower right\")\n",
        "plt.show()\n"
      ],
      "execution_count": null,
      "outputs": [
        {
          "output_type": "stream",
          "text": [
            "ROC AUC: 0.72\n"
          ],
          "name": "stdout"
        },
        {
          "output_type": "display_data",
          "data": {
            "image/png": "[encoded data removed]",
            "text/plain": [
              "<matplotlib.figure.Figure at 0x7f2b4e918a58>"
            ]
          },
          "metadata": {
            "tags": []
          }
        }
      ]
    },
    {
      "cell_type": "code",
      "metadata": {
        "id": "p2LbOirEqwX-",
        "outputId": "66eb5ffd-44b0-4867-e245-de42884d2c39",
        "colab": {
          "base_uri": "https://localhost:8080/",
          "height": 532
        }
      },
      "source": [
        "from sklearn.metrics import classification_report\n",
        "print(classification_report(y_test, y_hat))\n",
        "\n",
        "from matplotlib import pyplot as plt\n",
        "%matplotlib inline\n",
        "plt.style.use('ggplot')\n",
        "\n",
        "weights = pd.Series(lr_clf.coef_[0], index = ['email_text_long_email',\n",
        "       'email_version_personalized',\n",
        "       'user_country_ES', 'user_country_FR', 'user_country_UK',\n",
        "       'user_country_US', 'weekday_Friday', 'weekday_Monday',\n",
        "       'weekday_Saturday', 'weekday_Sunday', 'weekday_Thursday',\n",
        "       'weekday_Tuesday', 'weekday_Wednesday', 'hour','user_past_purchases'])\n",
        "weights.plot(kind='bar')\n",
        "plt.show()"
      ],
      "execution_count": null,
      "outputs": [
        {
          "output_type": "stream",
          "text": [
            "              precision    recall  f1-score   support\n",
            "\n",
            "         0.0       0.99      0.68      0.80      9787\n",
            "         1.0       0.05      0.71      0.09       213\n",
            "\n",
            "   micro avg       0.68      0.68      0.68     10000\n",
            "   macro avg       0.52      0.69      0.44     10000\n",
            "weighted avg       0.97      0.68      0.79     10000\n",
            "\n"
          ],
          "name": "stdout"
        },
        {
          "output_type": "display_data",
          "data": {
            "image/png": "[encoded data removed]",
            "text/plain": [
              "<matplotlib.figure.Figure at 0x7f2b4eaaef60>"
            ]
          },
          "metadata": {
            "tags": []
          }
        }
      ]
    }
  ]
}
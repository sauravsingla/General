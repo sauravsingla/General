{
  "nbformat": 4,
  "nbformat_minor": 0,
  "metadata": {
    "colab": {
      "name": "Customer_Propensity_Model.ipynb",
      "provenance": [],
      "collapsed_sections": [],
      "include_colab_link": true
    },
    "kernelspec": {
      "name": "python3",
      "display_name": "Python 3"
    },
    "accelerator": "GPU"
  },
  "cells": [
    {
      "cell_type": "markdown",
      "metadata": {
        "id": "view-in-github",
        "colab_type": "text"
      },
      "source": [
        "<a href=\"https://colab.research.google.com/github/sauravsingla/General/blob/master/Customer_Propensity_Model.ipynb\" target=\"_parent\"><img src=\"https://colab.research.google.com/assets/colab-badge.svg\" alt=\"Open In Colab\"/></a>"
      ]
    },
    {
      "cell_type": "code",
      "metadata": {
        "id": "LkVBg1EqQpsr",
        "outputId": "d2d01c5f-10f2-4599-f81b-42b97a2ce6bb",
        "colab": {
          "base_uri": "https://localhost:8080/",
          "height": 238
        }
      },
      "source": [
        "from pandas import Series, DataFrame\n",
        "import pandas as pd\n",
        "import numpy as np\n",
        "import os\n",
        "import matplotlib.pylab as plt\n",
        "from sklearn.model_selection  import train_test_split\n",
        "from sklearn.tree import DecisionTreeClassifier\n",
        "from sklearn.metrics import classification_report\n",
        "import sklearn.metrics\n",
        "prospect_data = pd.read_csv(\"browsing.csv\")\n",
        "prospect_data.dtypes"
      ],
      "execution_count": null,
      "outputs": [
        {
          "output_type": "execute_result",
          "data": {
            "text/plain": [
              "SESSION_ID         int64\n",
              "IMAGES             int64\n",
              "REVIEWS            int64\n",
              "FAQ                int64\n",
              "SPECS              int64\n",
              "SHIPPING           int64\n",
              "BOUGHT_TOGETHER    int64\n",
              "COMPARE_SIMILAR    int64\n",
              "VIEW_SIMILAR       int64\n",
              "WARRANTY           int64\n",
              "SPONSORED_LINKS    int64\n",
              "BUY                int64\n",
              "dtype: object"
            ]
          },
          "metadata": {
            "tags": []
          },
          "execution_count": 1
        }
      ]
    },
    {
      "cell_type": "code",
      "metadata": {
        "id": "3Q2ZIy9JQ9Ay",
        "outputId": "434ff0b0-c3d5-4c42-8429-e53ec51ff38c",
        "colab": {
          "base_uri": "https://localhost:8080/",
          "height": 224
        }
      },
      "source": [
        "prospect_data.head()"
      ],
      "execution_count": null,
      "outputs": [
        {
          "output_type": "execute_result",
          "data": {
            "text/html": [
              "<div>\n",
              "<style scoped>\n",
              "    .dataframe tbody tr th:only-of-type {\n",
              "        vertical-align: middle;\n",
              "    }\n",
              "\n",
              "    .dataframe tbody tr th {\n",
              "        vertical-align: top;\n",
              "    }\n",
              "\n",
              "    .dataframe thead th {\n",
              "        text-align: right;\n",
              "    }\n",
              "</style>\n",
              "<table border=\"1\" class=\"dataframe\">\n",
              "  <thead>\n",
              "    <tr style=\"text-align: right;\">\n",
              "      <th></th>\n",
              "      <th>SESSION_ID</th>\n",
              "      <th>IMAGES</th>\n",
              "      <th>REVIEWS</th>\n",
              "      <th>FAQ</th>\n",
              "      <th>SPECS</th>\n",
              "      <th>SHIPPING</th>\n",
              "      <th>BOUGHT_TOGETHER</th>\n",
              "      <th>COMPARE_SIMILAR</th>\n",
              "      <th>VIEW_SIMILAR</th>\n",
              "      <th>WARRANTY</th>\n",
              "      <th>SPONSORED_LINKS</th>\n",
              "      <th>BUY</th>\n",
              "    </tr>\n",
              "  </thead>\n",
              "  <tbody>\n",
              "    <tr>\n",
              "      <th>0</th>\n",
              "      <td>1001</td>\n",
              "      <td>0</td>\n",
              "      <td>0</td>\n",
              "      <td>1</td>\n",
              "      <td>0</td>\n",
              "      <td>1</td>\n",
              "      <td>0</td>\n",
              "      <td>0</td>\n",
              "      <td>0</td>\n",
              "      <td>1</td>\n",
              "      <td>0</td>\n",
              "      <td>0</td>\n",
              "    </tr>\n",
              "    <tr>\n",
              "      <th>1</th>\n",
              "      <td>1002</td>\n",
              "      <td>0</td>\n",
              "      <td>1</td>\n",
              "      <td>1</td>\n",
              "      <td>0</td>\n",
              "      <td>0</td>\n",
              "      <td>0</td>\n",
              "      <td>0</td>\n",
              "      <td>0</td>\n",
              "      <td>0</td>\n",
              "      <td>1</td>\n",
              "      <td>0</td>\n",
              "    </tr>\n",
              "    <tr>\n",
              "      <th>2</th>\n",
              "      <td>1003</td>\n",
              "      <td>1</td>\n",
              "      <td>0</td>\n",
              "      <td>1</td>\n",
              "      <td>1</td>\n",
              "      <td>1</td>\n",
              "      <td>0</td>\n",
              "      <td>0</td>\n",
              "      <td>0</td>\n",
              "      <td>1</td>\n",
              "      <td>0</td>\n",
              "      <td>0</td>\n",
              "    </tr>\n",
              "    <tr>\n",
              "      <th>3</th>\n",
              "      <td>1004</td>\n",
              "      <td>1</td>\n",
              "      <td>0</td>\n",
              "      <td>0</td>\n",
              "      <td>0</td>\n",
              "      <td>1</td>\n",
              "      <td>1</td>\n",
              "      <td>1</td>\n",
              "      <td>0</td>\n",
              "      <td>0</td>\n",
              "      <td>0</td>\n",
              "      <td>0</td>\n",
              "    </tr>\n",
              "    <tr>\n",
              "      <th>4</th>\n",
              "      <td>1005</td>\n",
              "      <td>1</td>\n",
              "      <td>1</td>\n",
              "      <td>1</td>\n",
              "      <td>0</td>\n",
              "      <td>1</td>\n",
              "      <td>0</td>\n",
              "      <td>1</td>\n",
              "      <td>0</td>\n",
              "      <td>0</td>\n",
              "      <td>0</td>\n",
              "      <td>0</td>\n",
              "    </tr>\n",
              "  </tbody>\n",
              "</table>\n",
              "</div>"
            ],
            "text/plain": [
              "   SESSION_ID  IMAGES  REVIEWS  FAQ  SPECS  SHIPPING  BOUGHT_TOGETHER  \\\n",
              "0        1001       0        0    1      0         1                0   \n",
              "1        1002       0        1    1      0         0                0   \n",
              "2        1003       1        0    1      1         1                0   \n",
              "3        1004       1        0    0      0         1                1   \n",
              "4        1005       1        1    1      0         1                0   \n",
              "\n",
              "   COMPARE_SIMILAR  VIEW_SIMILAR  WARRANTY  SPONSORED_LINKS  BUY  \n",
              "0                0             0         1                0    0  \n",
              "1                0             0         0                1    0  \n",
              "2                0             0         1                0    0  \n",
              "3                1             0         0                0    0  \n",
              "4                1             0         0                0    0  "
            ]
          },
          "metadata": {
            "tags": []
          },
          "execution_count": 2
        }
      ]
    },
    {
      "cell_type": "code",
      "metadata": {
        "id": "lBcZADPFRC_p",
        "outputId": "5c303671-d287-40cc-98ef-1ac1ddb0d75d",
        "colab": {
          "base_uri": "https://localhost:8080/",
          "height": 317
        }
      },
      "source": [
        "prospect_data.describe()"
      ],
      "execution_count": null,
      "outputs": [
        {
          "output_type": "execute_result",
          "data": {
            "text/html": [
              "<div>\n",
              "<style scoped>\n",
              "    .dataframe tbody tr th:only-of-type {\n",
              "        vertical-align: middle;\n",
              "    }\n",
              "\n",
              "    .dataframe tbody tr th {\n",
              "        vertical-align: top;\n",
              "    }\n",
              "\n",
              "    .dataframe thead th {\n",
              "        text-align: right;\n",
              "    }\n",
              "</style>\n",
              "<table border=\"1\" class=\"dataframe\">\n",
              "  <thead>\n",
              "    <tr style=\"text-align: right;\">\n",
              "      <th></th>\n",
              "      <th>SESSION_ID</th>\n",
              "      <th>IMAGES</th>\n",
              "      <th>REVIEWS</th>\n",
              "      <th>FAQ</th>\n",
              "      <th>SPECS</th>\n",
              "      <th>SHIPPING</th>\n",
              "      <th>BOUGHT_TOGETHER</th>\n",
              "      <th>COMPARE_SIMILAR</th>\n",
              "      <th>VIEW_SIMILAR</th>\n",
              "      <th>WARRANTY</th>\n",
              "      <th>SPONSORED_LINKS</th>\n",
              "      <th>BUY</th>\n",
              "    </tr>\n",
              "  </thead>\n",
              "  <tbody>\n",
              "    <tr>\n",
              "      <th>count</th>\n",
              "      <td>500.000000</td>\n",
              "      <td>500.000000</td>\n",
              "      <td>500.0000</td>\n",
              "      <td>500.000000</td>\n",
              "      <td>500.0000</td>\n",
              "      <td>500.000000</td>\n",
              "      <td>500.000000</td>\n",
              "      <td>500.000000</td>\n",
              "      <td>500.000000</td>\n",
              "      <td>500.000000</td>\n",
              "      <td>500.000000</td>\n",
              "      <td>500.000000</td>\n",
              "    </tr>\n",
              "    <tr>\n",
              "      <th>mean</th>\n",
              "      <td>1250.500000</td>\n",
              "      <td>0.510000</td>\n",
              "      <td>0.5200</td>\n",
              "      <td>0.440000</td>\n",
              "      <td>0.4800</td>\n",
              "      <td>0.528000</td>\n",
              "      <td>0.500000</td>\n",
              "      <td>0.580000</td>\n",
              "      <td>0.468000</td>\n",
              "      <td>0.532000</td>\n",
              "      <td>0.550000</td>\n",
              "      <td>0.370000</td>\n",
              "    </tr>\n",
              "    <tr>\n",
              "      <th>std</th>\n",
              "      <td>144.481833</td>\n",
              "      <td>0.500401</td>\n",
              "      <td>0.5001</td>\n",
              "      <td>0.496884</td>\n",
              "      <td>0.5001</td>\n",
              "      <td>0.499715</td>\n",
              "      <td>0.500501</td>\n",
              "      <td>0.494053</td>\n",
              "      <td>0.499475</td>\n",
              "      <td>0.499475</td>\n",
              "      <td>0.497992</td>\n",
              "      <td>0.483288</td>\n",
              "    </tr>\n",
              "    <tr>\n",
              "      <th>min</th>\n",
              "      <td>1001.000000</td>\n",
              "      <td>0.000000</td>\n",
              "      <td>0.0000</td>\n",
              "      <td>0.000000</td>\n",
              "      <td>0.0000</td>\n",
              "      <td>0.000000</td>\n",
              "      <td>0.000000</td>\n",
              "      <td>0.000000</td>\n",
              "      <td>0.000000</td>\n",
              "      <td>0.000000</td>\n",
              "      <td>0.000000</td>\n",
              "      <td>0.000000</td>\n",
              "    </tr>\n",
              "    <tr>\n",
              "      <th>25%</th>\n",
              "      <td>1125.750000</td>\n",
              "      <td>0.000000</td>\n",
              "      <td>0.0000</td>\n",
              "      <td>0.000000</td>\n",
              "      <td>0.0000</td>\n",
              "      <td>0.000000</td>\n",
              "      <td>0.000000</td>\n",
              "      <td>0.000000</td>\n",
              "      <td>0.000000</td>\n",
              "      <td>0.000000</td>\n",
              "      <td>0.000000</td>\n",
              "      <td>0.000000</td>\n",
              "    </tr>\n",
              "    <tr>\n",
              "      <th>50%</th>\n",
              "      <td>1250.500000</td>\n",
              "      <td>1.000000</td>\n",
              "      <td>1.0000</td>\n",
              "      <td>0.000000</td>\n",
              "      <td>0.0000</td>\n",
              "      <td>1.000000</td>\n",
              "      <td>0.500000</td>\n",
              "      <td>1.000000</td>\n",
              "      <td>0.000000</td>\n",
              "      <td>1.000000</td>\n",
              "      <td>1.000000</td>\n",
              "      <td>0.000000</td>\n",
              "    </tr>\n",
              "    <tr>\n",
              "      <th>75%</th>\n",
              "      <td>1375.250000</td>\n",
              "      <td>1.000000</td>\n",
              "      <td>1.0000</td>\n",
              "      <td>1.000000</td>\n",
              "      <td>1.0000</td>\n",
              "      <td>1.000000</td>\n",
              "      <td>1.000000</td>\n",
              "      <td>1.000000</td>\n",
              "      <td>1.000000</td>\n",
              "      <td>1.000000</td>\n",
              "      <td>1.000000</td>\n",
              "      <td>1.000000</td>\n",
              "    </tr>\n",
              "    <tr>\n",
              "      <th>max</th>\n",
              "      <td>1500.000000</td>\n",
              "      <td>1.000000</td>\n",
              "      <td>1.0000</td>\n",
              "      <td>1.000000</td>\n",
              "      <td>1.0000</td>\n",
              "      <td>1.000000</td>\n",
              "      <td>1.000000</td>\n",
              "      <td>1.000000</td>\n",
              "      <td>1.000000</td>\n",
              "      <td>1.000000</td>\n",
              "      <td>1.000000</td>\n",
              "      <td>1.000000</td>\n",
              "    </tr>\n",
              "  </tbody>\n",
              "</table>\n",
              "</div>"
            ],
            "text/plain": [
              "        SESSION_ID      IMAGES   REVIEWS         FAQ     SPECS    SHIPPING  \\\n",
              "count   500.000000  500.000000  500.0000  500.000000  500.0000  500.000000   \n",
              "mean   1250.500000    0.510000    0.5200    0.440000    0.4800    0.528000   \n",
              "std     144.481833    0.500401    0.5001    0.496884    0.5001    0.499715   \n",
              "min    1001.000000    0.000000    0.0000    0.000000    0.0000    0.000000   \n",
              "25%    1125.750000    0.000000    0.0000    0.000000    0.0000    0.000000   \n",
              "50%    1250.500000    1.000000    1.0000    0.000000    0.0000    1.000000   \n",
              "75%    1375.250000    1.000000    1.0000    1.000000    1.0000    1.000000   \n",
              "max    1500.000000    1.000000    1.0000    1.000000    1.0000    1.000000   \n",
              "\n",
              "       BOUGHT_TOGETHER  COMPARE_SIMILAR  VIEW_SIMILAR    WARRANTY  \\\n",
              "count       500.000000       500.000000    500.000000  500.000000   \n",
              "mean          0.500000         0.580000      0.468000    0.532000   \n",
              "std           0.500501         0.494053      0.499475    0.499475   \n",
              "min           0.000000         0.000000      0.000000    0.000000   \n",
              "25%           0.000000         0.000000      0.000000    0.000000   \n",
              "50%           0.500000         1.000000      0.000000    1.000000   \n",
              "75%           1.000000         1.000000      1.000000    1.000000   \n",
              "max           1.000000         1.000000      1.000000    1.000000   \n",
              "\n",
              "       SPONSORED_LINKS         BUY  \n",
              "count       500.000000  500.000000  \n",
              "mean          0.550000    0.370000  \n",
              "std           0.497992    0.483288  \n",
              "min           0.000000    0.000000  \n",
              "25%           0.000000    0.000000  \n",
              "50%           1.000000    0.000000  \n",
              "75%           1.000000    1.000000  \n",
              "max           1.000000    1.000000  "
            ]
          },
          "metadata": {
            "tags": []
          },
          "execution_count": 3
        }
      ]
    },
    {
      "cell_type": "code",
      "metadata": {
        "id": "7kAKPCepRFC7",
        "outputId": "ebf15281-6eb5-4bf8-c60f-422a5e4db9f6",
        "colab": {
          "base_uri": "https://localhost:8080/",
          "height": 238
        }
      },
      "source": [
        "prospect_data.corr()['BUY']"
      ],
      "execution_count": null,
      "outputs": [
        {
          "output_type": "execute_result",
          "data": {
            "text/plain": [
              "SESSION_ID         0.026677\n",
              "IMAGES             0.046819\n",
              "REVIEWS            0.404628\n",
              "FAQ               -0.095136\n",
              "SPECS              0.009950\n",
              "SHIPPING          -0.022239\n",
              "BOUGHT_TOGETHER   -0.103562\n",
              "COMPARE_SIMILAR    0.190522\n",
              "VIEW_SIMILAR      -0.096137\n",
              "WARRANTY           0.179156\n",
              "SPONSORED_LINKS    0.110328\n",
              "BUY                1.000000\n",
              "Name: BUY, dtype: float64"
            ]
          },
          "metadata": {
            "tags": []
          },
          "execution_count": 5
        }
      ]
    },
    {
      "cell_type": "code",
      "metadata": {
        "id": "UzVZ7GLORShg"
      },
      "source": [
        "predictors = prospect_data[['REVIEWS','BOUGHT_TOGETHER','COMPARE_SIMILAR','WARRANTY','SPONSORED_LINKS']]\n",
        "\n",
        "targets = prospect_data.BUY"
      ],
      "execution_count": null,
      "outputs": []
    },
    {
      "cell_type": "code",
      "metadata": {
        "id": "QaCDiz_KRc4h",
        "outputId": "9125d770-3104-45a7-9a91-72a7b13414f0",
        "colab": {
          "base_uri": "https://localhost:8080/",
          "height": 34
        }
      },
      "source": [
        "pred_train, pred_test, tar_train, tar_test = train_test_split(predictors, targets, test_size=.3)\n",
        "\n",
        "print( \"Predictor — Training : \", pred_train.shape, \"Predictor — Testing : \", pred_test.shape )"
      ],
      "execution_count": null,
      "outputs": [
        {
          "output_type": "stream",
          "text": [
            "Predictor — Training :  (350, 5) Predictor — Testing :  (150, 5)\n"
          ],
          "name": "stdout"
        }
      ]
    },
    {
      "cell_type": "code",
      "metadata": {
        "id": "l5hCcFguSWqJ"
      },
      "source": [
        "from sklearn.naive_bayes import GaussianNB"
      ],
      "execution_count": null,
      "outputs": []
    },
    {
      "cell_type": "code",
      "metadata": {
        "id": "2pE_xaStRqoc",
        "outputId": "e1e461e1-ed24-415d-b23e-ff91e7364b94",
        "colab": {
          "base_uri": "https://localhost:8080/",
          "height": 51
        }
      },
      "source": [
        "classifier=GaussianNB()\n",
        "\n",
        "classifier=classifier.fit(pred_train,tar_train)\n",
        "\n",
        "predictions=classifier.predict(pred_test)\n",
        "\n",
        "#Analyze accuracy of predictions\n",
        "\n",
        "sklearn.metrics.confusion_matrix(tar_test,predictions)"
      ],
      "execution_count": null,
      "outputs": [
        {
          "output_type": "execute_result",
          "data": {
            "text/plain": [
              "array([[79, 18],\n",
              "       [23, 30]])"
            ]
          },
          "metadata": {
            "tags": []
          },
          "execution_count": 12
        }
      ]
    },
    {
      "cell_type": "code",
      "metadata": {
        "id": "Uu7IOW1VSehS",
        "outputId": "a0e8529d-e3cb-4048-9962-1ff465babbc6",
        "colab": {
          "base_uri": "https://localhost:8080/",
          "height": 34
        }
      },
      "source": [
        "sklearn.metrics.accuracy_score(tar_test, predictions)"
      ],
      "execution_count": null,
      "outputs": [
        {
          "output_type": "execute_result",
          "data": {
            "text/plain": [
              "0.7266666666666667"
            ]
          },
          "metadata": {
            "tags": []
          },
          "execution_count": 13
        }
      ]
    },
    {
      "cell_type": "code",
      "metadata": {
        "id": "XG7OkqdcSibz",
        "outputId": "ff4d2877-bfbc-469a-d1e2-c9d63d6f34ad",
        "colab": {
          "base_uri": "https://localhost:8080/",
          "height": 34
        }
      },
      "source": [
        "pred_prob=classifier.predict_proba(pred_test)\n",
        "\n",
        "pred_prob[0,1]"
      ],
      "execution_count": null,
      "outputs": [
        {
          "output_type": "execute_result",
          "data": {
            "text/plain": [
              "0.0823465674910189"
            ]
          },
          "metadata": {
            "tags": []
          },
          "execution_count": 14
        }
      ]
    }
  ]
}
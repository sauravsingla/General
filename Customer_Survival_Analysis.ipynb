{
  "nbformat": 4,
  "nbformat_minor": 0,
  "metadata": {
    "colab": {
      "name": "Customer_Survival_Analysis.ipynb",
      "provenance": [],
      "collapsed_sections": [],
      "include_colab_link": true
    },
    "kernelspec": {
      "name": "python3",
      "display_name": "Python 3"
    },
    "accelerator": "TPU"
  },
  "cells": [
    {
      "cell_type": "markdown",
      "metadata": {
        "id": "view-in-github",
        "colab_type": "text"
      },
      "source": [
        "<a href=\"https://colab.research.google.com/github/sauravsingla/General/blob/master/Customer_Survival_Analysis.ipynb\" target=\"_parent\"><img src=\"https://colab.research.google.com/assets/colab-badge.svg\" alt=\"Open In Colab\"/></a>"
      ]
    },
    {
      "cell_type": "code",
      "metadata": {
        "id": "TjxW443OFI1B",
        "outputId": "e578cd29-db03-429f-e9fc-fc4406efc7ee",
        "colab": {
          "base_uri": "https://localhost:8080/",
          "height": 275
        }
      },
      "source": [
        "!pip install lifelines"
      ],
      "execution_count": null,
      "outputs": [
        {
          "output_type": "stream",
          "text": [
            "Collecting lifelines\n",
            "\u001b[?25l  Downloading https://files.pythonhosted.org/packages/f4/f1/2e12c51aacbc4a04ce626080d2dc3c5dad20e13829b97e984ff1a5598013/lifelines-0.17.0-py3-none-any.whl (245kB)\n",
            "\u001b[K    100% |████████████████████████████████| 245kB 8.8MB/s \n",
            "\u001b[?25hRequirement already satisfied: scipy>=1.0 in /usr/local/lib/python3.6/dist-packages (from lifelines) (1.1.0)\n",
            "Requirement already satisfied: numpy in /usr/local/lib/python3.6/dist-packages (from lifelines) (1.14.6)\n",
            "Requirement already satisfied: matplotlib<3.0,>=2.0 in /usr/local/lib/python3.6/dist-packages (from lifelines) (2.1.2)\n",
            "Requirement already satisfied: pandas>=0.18 in /usr/local/lib/python3.6/dist-packages (from lifelines) (0.22.0)\n",
            "Requirement already satisfied: pyparsing!=2.0.4,!=2.1.2,!=2.1.6,>=2.0.1 in /usr/local/lib/python3.6/dist-packages (from matplotlib<3.0,>=2.0->lifelines) (2.3.0)\n",
            "Requirement already satisfied: pytz in /usr/local/lib/python3.6/dist-packages (from matplotlib<3.0,>=2.0->lifelines) (2018.9)\n",
            "Requirement already satisfied: cycler>=0.10 in /usr/local/lib/python3.6/dist-packages (from matplotlib<3.0,>=2.0->lifelines) (0.10.0)\n",
            "Requirement already satisfied: python-dateutil>=2.1 in /usr/local/lib/python3.6/dist-packages (from matplotlib<3.0,>=2.0->lifelines) (2.5.3)\n",
            "Requirement already satisfied: six>=1.10 in /usr/local/lib/python3.6/dist-packages (from matplotlib<3.0,>=2.0->lifelines) (1.11.0)\n",
            "Installing collected packages: lifelines\n",
            "Successfully installed lifelines-0.17.0\n"
          ],
          "name": "stdout"
        }
      ]
    },
    {
      "cell_type": "code",
      "metadata": {
        "id": "qUeUjsFOFSSd",
        "outputId": "72e5091a-9529-4167-a77f-570aeedd2f9a",
        "colab": {
          "base_uri": "https://localhost:8080/",
          "height": 119
        }
      },
      "source": [
        "from lifelines.datasets import load_waltons\n",
        "df = load_waltons() # returns a Pandas DataFrame\n",
        "\n",
        "print(df.head())"
      ],
      "execution_count": null,
      "outputs": [
        {
          "output_type": "stream",
          "text": [
            "      T  E    group\n",
            "0   6.0  1  miR-137\n",
            "1  13.0  1  miR-137\n",
            "2  13.0  1  miR-137\n",
            "3  13.0  1  miR-137\n",
            "4  19.0  1  miR-137\n"
          ],
          "name": "stdout"
        }
      ]
    },
    {
      "cell_type": "code",
      "metadata": {
        "id": "kZ8PDNESFd-l",
        "outputId": "7db7994c-3d11-4347-bce0-780f0e269261",
        "colab": {
          "base_uri": "https://localhost:8080/",
          "height": 378
        }
      },
      "source": [
        "from lifelines import KaplanMeierFitter\n",
        "\n",
        "durations = [11, 74, 71, 76, 28, 92, 89, 48, 90, 39, 63, 36, 54, 64, 34, 73, 94, 37, 56, 76]\n",
        "event_observed = [True, True, False, True, True, True, True, False, False, True, True,\n",
        "                  True, True, True, True, True, False, True, False, True]\n",
        "\n",
        "kmf = KaplanMeierFitter()\n",
        "kmf.fit(durations, event_observed)\n",
        "kmf.plot()"
      ],
      "execution_count": null,
      "outputs": [
        {
          "output_type": "execute_result",
          "data": {
            "text/plain": [
              "<matplotlib.axes._subplots.AxesSubplot at 0x7fe093c64908>"
            ]
          },
          "metadata": {
            "tags": []
          },
          "execution_count": 4
        },
        {
          "output_type": "display_data",
          "data": {
            "image/png": "[encoded data removed]",
            "text/plain": [
              "<matplotlib.figure.Figure at 0x7fe093ee67b8>"
            ]
          },
          "metadata": {
            "tags": []
          }
        }
      ]
    },
    {
      "cell_type": "code",
      "metadata": {
        "id": "LQp6-SlFHBSj",
        "outputId": "18d04716-2c0a-4bf6-ad4a-38f090c39038",
        "colab": {
          "base_uri": "https://localhost:8080/",
          "height": 34
        }
      },
      "source": [
        "import pandas as pd\n",
        "import numpy as np\n",
        "import matplotlib.pyplot as plt\n",
        "import seaborn as sb\n",
        "\n",
        "from lifelines.plotting import plot_lifetimes      # Lifeline package for the Survival Analysis\n",
        "%pylab inline\n",
        "figsize(12,6)"
      ],
      "execution_count": null,
      "outputs": [
        {
          "output_type": "stream",
          "text": [
            "Populating the interactive namespace from numpy and matplotlib\n"
          ],
          "name": "stdout"
        }
      ]
    },
    {
      "cell_type": "code",
      "metadata": {
        "id": "_CzZmnDoHEUr",
        "outputId": "45829a54-ccfa-47af-b6cf-11ec0458221b",
        "colab": {
          "base_uri": "https://localhost:8080/",
          "height": 405
        }
      },
      "source": [
        "from lifelines import KaplanMeierFitter\n",
        "\n",
        "## Example Data \n",
        "durations = [5,6,6,2.5,4,4]\n",
        "event_observed = [1, 0, 0, 1, 1, 1]\n",
        "\n",
        "## create an kmf object\n",
        "kmf = KaplanMeierFitter() \n",
        "\n",
        "## Fit the data into the model\n",
        "kmf.fit(durations, event_observed,label='Kaplan Meier Estimate')\n",
        "\n",
        "## Create an estimate\n",
        "kmf.plot(ci_show=False) ## ci_show is meant for Confidence interval, since our data set is too tiny, thus i am not showing it."
      ],
      "execution_count": null,
      "outputs": [
        {
          "output_type": "execute_result",
          "data": {
            "text/plain": [
              "<matplotlib.axes._subplots.AxesSubplot at 0x7fe0902df400>"
            ]
          },
          "metadata": {
            "tags": []
          },
          "execution_count": 6
        },
        {
          "output_type": "display_data",
          "data": {
            "image/png": "[encoded data removed]",
            "text/plain": [
              "<matplotlib.figure.Figure at 0x7fe092b67550>"
            ]
          },
          "metadata": {
            "tags": []
          }
        }
      ]
    },
    {
      "cell_type": "code",
      "metadata": {
        "id": "gCyj6iLDHOpk"
      },
      "source": [
        "df = pd.read_excel(\"WA_Fn-UseC_-Telco-Customer-Churn.xlsx\")"
      ],
      "execution_count": null,
      "outputs": []
    },
    {
      "cell_type": "code",
      "metadata": {
        "id": "8rtHNHFzHeHl",
        "outputId": "9e1c2ae2-2047-490c-8722-956c4709129b",
        "colab": {
          "base_uri": "https://localhost:8080/",
          "height": 34
        }
      },
      "source": [
        "!ls"
      ],
      "execution_count": null,
      "outputs": [
        {
          "output_type": "stream",
          "text": [
            "'=conda3'   Data-Science   sample_data\n"
          ],
          "name": "stdout"
        }
      ]
    },
    {
      "cell_type": "code",
      "metadata": {
        "id": "2AGVGEYQHt2r",
        "outputId": "a7509987-2142-4603-ea6c-e95a5ddf6673",
        "colab": {
          "base_uri": "https://localhost:8080/",
          "height": 338
        }
      },
      "source": [
        "df.head()"
      ],
      "execution_count": null,
      "outputs": [
        {
          "output_type": "execute_result",
          "data": {
            "text/html": [
              "<div>\n",
              "<style scoped>\n",
              "    .dataframe tbody tr th:only-of-type {\n",
              "        vertical-align: middle;\n",
              "    }\n",
              "\n",
              "    .dataframe tbody tr th {\n",
              "        vertical-align: top;\n",
              "    }\n",
              "\n",
              "    .dataframe thead th {\n",
              "        text-align: right;\n",
              "    }\n",
              "</style>\n",
              "<table border=\"1\" class=\"dataframe\">\n",
              "  <thead>\n",
              "    <tr style=\"text-align: right;\">\n",
              "      <th></th>\n",
              "      <th>customerID</th>\n",
              "      <th>gender</th>\n",
              "      <th>SeniorCitizen</th>\n",
              "      <th>Partner</th>\n",
              "      <th>Dependents</th>\n",
              "      <th>tenure</th>\n",
              "      <th>PhoneService</th>\n",
              "      <th>MultipleLines</th>\n",
              "      <th>InternetService</th>\n",
              "      <th>OnlineSecurity</th>\n",
              "      <th>...</th>\n",
              "      <th>DeviceProtection</th>\n",
              "      <th>TechSupport</th>\n",
              "      <th>StreamingTV</th>\n",
              "      <th>StreamingMovies</th>\n",
              "      <th>Contract</th>\n",
              "      <th>PaperlessBilling</th>\n",
              "      <th>PaymentMethod</th>\n",
              "      <th>MonthlyCharges</th>\n",
              "      <th>TotalCharges</th>\n",
              "      <th>Churn</th>\n",
              "    </tr>\n",
              "  </thead>\n",
              "  <tbody>\n",
              "    <tr>\n",
              "      <th>0</th>\n",
              "      <td>7590-VHVEG</td>\n",
              "      <td>Female</td>\n",
              "      <td>0</td>\n",
              "      <td>Yes</td>\n",
              "      <td>No</td>\n",
              "      <td>1</td>\n",
              "      <td>No</td>\n",
              "      <td>No phone service</td>\n",
              "      <td>DSL</td>\n",
              "      <td>No</td>\n",
              "      <td>...</td>\n",
              "      <td>No</td>\n",
              "      <td>No</td>\n",
              "      <td>No</td>\n",
              "      <td>No</td>\n",
              "      <td>Month-to-month</td>\n",
              "      <td>Yes</td>\n",
              "      <td>Electronic check</td>\n",
              "      <td>29.85</td>\n",
              "      <td>29.85</td>\n",
              "      <td>No</td>\n",
              "    </tr>\n",
              "    <tr>\n",
              "      <th>1</th>\n",
              "      <td>5575-GNVDE</td>\n",
              "      <td>Male</td>\n",
              "      <td>0</td>\n",
              "      <td>No</td>\n",
              "      <td>No</td>\n",
              "      <td>34</td>\n",
              "      <td>Yes</td>\n",
              "      <td>No</td>\n",
              "      <td>DSL</td>\n",
              "      <td>Yes</td>\n",
              "      <td>...</td>\n",
              "      <td>Yes</td>\n",
              "      <td>No</td>\n",
              "      <td>No</td>\n",
              "      <td>No</td>\n",
              "      <td>One year</td>\n",
              "      <td>No</td>\n",
              "      <td>Mailed check</td>\n",
              "      <td>56.95</td>\n",
              "      <td>1889.5</td>\n",
              "      <td>No</td>\n",
              "    </tr>\n",
              "    <tr>\n",
              "      <th>2</th>\n",
              "      <td>3668-QPYBK</td>\n",
              "      <td>Male</td>\n",
              "      <td>0</td>\n",
              "      <td>No</td>\n",
              "      <td>No</td>\n",
              "      <td>2</td>\n",
              "      <td>Yes</td>\n",
              "      <td>No</td>\n",
              "      <td>DSL</td>\n",
              "      <td>Yes</td>\n",
              "      <td>...</td>\n",
              "      <td>No</td>\n",
              "      <td>No</td>\n",
              "      <td>No</td>\n",
              "      <td>No</td>\n",
              "      <td>Month-to-month</td>\n",
              "      <td>Yes</td>\n",
              "      <td>Mailed check</td>\n",
              "      <td>53.85</td>\n",
              "      <td>108.15</td>\n",
              "      <td>Yes</td>\n",
              "    </tr>\n",
              "    <tr>\n",
              "      <th>3</th>\n",
              "      <td>7795-CFOCW</td>\n",
              "      <td>Male</td>\n",
              "      <td>0</td>\n",
              "      <td>No</td>\n",
              "      <td>No</td>\n",
              "      <td>45</td>\n",
              "      <td>No</td>\n",
              "      <td>No phone service</td>\n",
              "      <td>DSL</td>\n",
              "      <td>Yes</td>\n",
              "      <td>...</td>\n",
              "      <td>Yes</td>\n",
              "      <td>Yes</td>\n",
              "      <td>No</td>\n",
              "      <td>No</td>\n",
              "      <td>One year</td>\n",
              "      <td>No</td>\n",
              "      <td>Bank transfer (automatic)</td>\n",
              "      <td>42.30</td>\n",
              "      <td>1840.75</td>\n",
              "      <td>No</td>\n",
              "    </tr>\n",
              "    <tr>\n",
              "      <th>4</th>\n",
              "      <td>9237-HQITU</td>\n",
              "      <td>Female</td>\n",
              "      <td>0</td>\n",
              "      <td>No</td>\n",
              "      <td>No</td>\n",
              "      <td>2</td>\n",
              "      <td>Yes</td>\n",
              "      <td>No</td>\n",
              "      <td>Fiber optic</td>\n",
              "      <td>No</td>\n",
              "      <td>...</td>\n",
              "      <td>No</td>\n",
              "      <td>No</td>\n",
              "      <td>No</td>\n",
              "      <td>No</td>\n",
              "      <td>Month-to-month</td>\n",
              "      <td>Yes</td>\n",
              "      <td>Electronic check</td>\n",
              "      <td>70.70</td>\n",
              "      <td>151.65</td>\n",
              "      <td>Yes</td>\n",
              "    </tr>\n",
              "  </tbody>\n",
              "</table>\n",
              "<p>5 rows × 21 columns</p>\n",
              "</div>"
            ],
            "text/plain": [
              "   customerID  gender  SeniorCitizen Partner Dependents  tenure PhoneService  \\\n",
              "0  7590-VHVEG  Female              0     Yes         No       1           No   \n",
              "1  5575-GNVDE    Male              0      No         No      34          Yes   \n",
              "2  3668-QPYBK    Male              0      No         No       2          Yes   \n",
              "3  7795-CFOCW    Male              0      No         No      45           No   \n",
              "4  9237-HQITU  Female              0      No         No       2          Yes   \n",
              "\n",
              "      MultipleLines InternetService OnlineSecurity  ...  DeviceProtection  \\\n",
              "0  No phone service             DSL             No  ...                No   \n",
              "1                No             DSL            Yes  ...               Yes   \n",
              "2                No             DSL            Yes  ...                No   \n",
              "3  No phone service             DSL            Yes  ...               Yes   \n",
              "4                No     Fiber optic             No  ...                No   \n",
              "\n",
              "  TechSupport StreamingTV StreamingMovies        Contract PaperlessBilling  \\\n",
              "0          No          No              No  Month-to-month              Yes   \n",
              "1          No          No              No        One year               No   \n",
              "2          No          No              No  Month-to-month              Yes   \n",
              "3         Yes          No              No        One year               No   \n",
              "4          No          No              No  Month-to-month              Yes   \n",
              "\n",
              "               PaymentMethod MonthlyCharges  TotalCharges Churn  \n",
              "0           Electronic check          29.85         29.85    No  \n",
              "1               Mailed check          56.95        1889.5    No  \n",
              "2               Mailed check          53.85        108.15   Yes  \n",
              "3  Bank transfer (automatic)          42.30       1840.75    No  \n",
              "4           Electronic check          70.70        151.65   Yes  \n",
              "\n",
              "[5 rows x 21 columns]"
            ]
          },
          "metadata": {
            "tags": []
          },
          "execution_count": 12
        }
      ]
    },
    {
      "cell_type": "code",
      "metadata": {
        "id": "4lvuvQR7HyLe",
        "outputId": "6472ef87-bc7c-48ab-b582-d1038676b733",
        "colab": {
          "base_uri": "https://localhost:8080/",
          "height": 459
        }
      },
      "source": [
        "df.info()"
      ],
      "execution_count": null,
      "outputs": [
        {
          "output_type": "stream",
          "text": [
            "<class 'pandas.core.frame.DataFrame'>\n",
            "RangeIndex: 7043 entries, 0 to 7042\n",
            "Data columns (total 21 columns):\n",
            "customerID          7043 non-null object\n",
            "gender              7043 non-null object\n",
            "SeniorCitizen       7043 non-null int64\n",
            "Partner             7043 non-null object\n",
            "Dependents          7043 non-null object\n",
            "tenure              7043 non-null int64\n",
            "PhoneService        7043 non-null object\n",
            "MultipleLines       7043 non-null object\n",
            "InternetService     7043 non-null object\n",
            "OnlineSecurity      7043 non-null object\n",
            "OnlineBackup        7043 non-null object\n",
            "DeviceProtection    7043 non-null object\n",
            "TechSupport         7043 non-null object\n",
            "StreamingTV         7043 non-null object\n",
            "StreamingMovies     7043 non-null object\n",
            "Contract            7043 non-null object\n",
            "PaperlessBilling    7043 non-null object\n",
            "PaymentMethod       7043 non-null object\n",
            "MonthlyCharges      7043 non-null float64\n",
            "TotalCharges        7043 non-null object\n",
            "Churn               7043 non-null object\n",
            "dtypes: float64(1), int64(2), object(18)\n",
            "memory usage: 1.1+ MB\n"
          ],
          "name": "stdout"
        }
      ]
    },
    {
      "cell_type": "code",
      "metadata": {
        "id": "6n59ed6AH4YV"
      },
      "source": [
        "## Convert TotalCharges to numeric\n",
        "df['TotalCharges']=pd.to_numeric(df['TotalCharges'],errors='coerce')\n",
        "\n",
        "## Replace yes and No in the Churn column to 1 and 0. 1 for the event and 0 for the censured data.\n",
        "df['Churn']=df['Churn'].apply(lambda x: 1 if x == 'Yes' else 0 )"
      ],
      "execution_count": null,
      "outputs": []
    },
    {
      "cell_type": "code",
      "metadata": {
        "id": "GTHtOjHqH5eU",
        "outputId": "a9308ea7-fd46-4041-b859-60c0aa61cca1",
        "colab": {
          "base_uri": "https://localhost:8080/",
          "height": 459
        }
      },
      "source": [
        "## after converting the column TotalCharges to numeric\n",
        "df.info()  ## Column TotalCharges is having missing values## after converting the column TotalCharges to numeric\n"
      ],
      "execution_count": null,
      "outputs": [
        {
          "output_type": "stream",
          "text": [
            "<class 'pandas.core.frame.DataFrame'>\n",
            "RangeIndex: 7043 entries, 0 to 7042\n",
            "Data columns (total 21 columns):\n",
            "customerID          7043 non-null object\n",
            "gender              7043 non-null object\n",
            "SeniorCitizen       7043 non-null int64\n",
            "Partner             7043 non-null object\n",
            "Dependents          7043 non-null object\n",
            "tenure              7043 non-null int64\n",
            "PhoneService        7043 non-null object\n",
            "MultipleLines       7043 non-null object\n",
            "InternetService     7043 non-null object\n",
            "OnlineSecurity      7043 non-null object\n",
            "OnlineBackup        7043 non-null object\n",
            "DeviceProtection    7043 non-null object\n",
            "TechSupport         7043 non-null object\n",
            "StreamingTV         7043 non-null object\n",
            "StreamingMovies     7043 non-null object\n",
            "Contract            7043 non-null object\n",
            "PaperlessBilling    7043 non-null object\n",
            "PaymentMethod       7043 non-null object\n",
            "MonthlyCharges      7043 non-null float64\n",
            "TotalCharges        7032 non-null float64\n",
            "Churn               7043 non-null int64\n",
            "dtypes: float64(2), int64(3), object(16)\n",
            "memory usage: 1.1+ MB\n"
          ],
          "name": "stdout"
        }
      ]
    },
    {
      "cell_type": "code",
      "metadata": {
        "id": "_Y1ED9LsH_m1"
      },
      "source": [
        "## Impute the null value with the median value\n",
        "\n",
        "df.TotalCharges.fillna(value=df['TotalCharges'].median(),inplace=True)"
      ],
      "execution_count": null,
      "outputs": []
    },
    {
      "cell_type": "code",
      "metadata": {
        "id": "fUOCo_84IAnE"
      },
      "source": [
        "## Create a list of Categorical Columns\n",
        "cat_cols= [i  for i in df.columns if df[i].dtype==object]\n",
        "cat_cols.remove('customerID')  ## customerID has been removed because it is unique for all the rows."
      ],
      "execution_count": null,
      "outputs": []
    },
    {
      "cell_type": "code",
      "metadata": {
        "id": "p7byZE0aICZM",
        "outputId": "c6100a20-5863-47d9-aa53-7350b3b68397",
        "colab": {
          "base_uri": "https://localhost:8080/",
          "height": 1479
        }
      },
      "source": [
        "## lets have a look at the categories and their distribution in all the categorical columns.\n",
        "\n",
        "for i in cat_cols:\n",
        "    print('Column Name: ',i)\n",
        "    print(df[i].value_counts())\n",
        "    print('-----------------------------')"
      ],
      "execution_count": null,
      "outputs": [
        {
          "output_type": "stream",
          "text": [
            "Column Name:  gender\n",
            "Male      3555\n",
            "Female    3488\n",
            "Name: gender, dtype: int64\n",
            "-----------------------------\n",
            "Column Name:  Partner\n",
            "No     3641\n",
            "Yes    3402\n",
            "Name: Partner, dtype: int64\n",
            "-----------------------------\n",
            "Column Name:  Dependents\n",
            "No     4933\n",
            "Yes    2110\n",
            "Name: Dependents, dtype: int64\n",
            "-----------------------------\n",
            "Column Name:  PhoneService\n",
            "Yes    6361\n",
            "No      682\n",
            "Name: PhoneService, dtype: int64\n",
            "-----------------------------\n",
            "Column Name:  MultipleLines\n",
            "No                  3390\n",
            "Yes                 2971\n",
            "No phone service     682\n",
            "Name: MultipleLines, dtype: int64\n",
            "-----------------------------\n",
            "Column Name:  InternetService\n",
            "Fiber optic    3096\n",
            "DSL            2421\n",
            "No             1526\n",
            "Name: InternetService, dtype: int64\n",
            "-----------------------------\n",
            "Column Name:  OnlineSecurity\n",
            "No                     3498\n",
            "Yes                    2019\n",
            "No internet service    1526\n",
            "Name: OnlineSecurity, dtype: int64\n",
            "-----------------------------\n",
            "Column Name:  OnlineBackup\n",
            "No                     3088\n",
            "Yes                    2429\n",
            "No internet service    1526\n",
            "Name: OnlineBackup, dtype: int64\n",
            "-----------------------------\n",
            "Column Name:  DeviceProtection\n",
            "No                     3095\n",
            "Yes                    2422\n",
            "No internet service    1526\n",
            "Name: DeviceProtection, dtype: int64\n",
            "-----------------------------\n",
            "Column Name:  TechSupport\n",
            "No                     3473\n",
            "Yes                    2044\n",
            "No internet service    1526\n",
            "Name: TechSupport, dtype: int64\n",
            "-----------------------------\n",
            "Column Name:  StreamingTV\n",
            "No                     2810\n",
            "Yes                    2707\n",
            "No internet service    1526\n",
            "Name: StreamingTV, dtype: int64\n",
            "-----------------------------\n",
            "Column Name:  StreamingMovies\n",
            "No                     2785\n",
            "Yes                    2732\n",
            "No internet service    1526\n",
            "Name: StreamingMovies, dtype: int64\n",
            "-----------------------------\n",
            "Column Name:  Contract\n",
            "Month-to-month    3875\n",
            "Two year          1695\n",
            "One year          1473\n",
            "Name: Contract, dtype: int64\n",
            "-----------------------------\n",
            "Column Name:  PaperlessBilling\n",
            "Yes    4171\n",
            "No     2872\n",
            "Name: PaperlessBilling, dtype: int64\n",
            "-----------------------------\n",
            "Column Name:  PaymentMethod\n",
            "Electronic check             2365\n",
            "Mailed check                 1612\n",
            "Bank transfer (automatic)    1544\n",
            "Credit card (automatic)      1522\n",
            "Name: PaymentMethod, dtype: int64\n",
            "-----------------------------\n"
          ],
          "name": "stdout"
        }
      ]
    },
    {
      "cell_type": "code",
      "metadata": {
        "id": "8dO0hunmIOCs",
        "outputId": "713deb6b-5fe3-41cc-9db9-bbf5566d73a0",
        "colab": {
          "base_uri": "https://localhost:8080/",
          "height": 405
        }
      },
      "source": [
        "## Lets create an overall KaplanMeier curve, without breaking it into groups of covariates.\n",
        "\n",
        "## Import the library\n",
        "from lifelines import KaplanMeierFitter\n",
        "\n",
        "\n",
        "durations = df['tenure'] ## Time to event data of censored and event data\n",
        "event_observed = df['Churn']  ## It has the churned (1) and censored is (0)\n",
        "\n",
        "## create a kmf object as km\n",
        "km = KaplanMeierFitter() ## instantiate the class to create an object\n",
        "\n",
        "## Fit the data into the model\n",
        "km.fit(durations, event_observed,label='Kaplan Meier Estimate')\n",
        "\n",
        "## Create an estimate\n",
        "km.plot()"
      ],
      "execution_count": null,
      "outputs": [
        {
          "output_type": "execute_result",
          "data": {
            "text/plain": [
              "<matplotlib.axes._subplots.AxesSubplot at 0x7fe08fb7b5f8>"
            ]
          },
          "metadata": {
            "tags": []
          },
          "execution_count": 20
        },
        {
          "output_type": "display_data",
          "data": {
            "image/png": "[encoded data removed]",
            "text/plain": [
              "<matplotlib.figure.Figure at 0x7fe08f86e2b0>"
            ]
          },
          "metadata": {
            "tags": []
          }
        }
      ]
    },
    {
      "cell_type": "code",
      "metadata": {
        "id": "XyBKcSj8IhCM",
        "outputId": "9a6b0c44-9358-46bd-e01e-b6411ba84f2b",
        "colab": {
          "base_uri": "https://localhost:8080/",
          "height": 405
        }
      },
      "source": [
        "kmf = KaplanMeierFitter() \n",
        "\n",
        "\n",
        "T = df['tenure']     ## time to event\n",
        "E = df['Churn']      ## event occurred or censored\n",
        "\n",
        "\n",
        "groups = df['Contract']             ## Create the cohorts from the 'Contract' column\n",
        "ix1 = (groups == 'Month-to-month')   ## Cohort 1\n",
        "ix2 = (groups == 'Two year')         ## Cohort 2\n",
        "ix3 = (groups == 'One year')         ## Cohort 3\n",
        "\n",
        "\n",
        "kmf.fit(T[ix1], E[ix1], label='Month-to-month')    ## fit the cohort 1 data\n",
        "ax = kmf.plot()\n",
        "\n",
        "\n",
        "kmf.fit(T[ix2], E[ix2], label='Two year')         ## fit the cohort 2 data\n",
        "ax1 = kmf.plot(ax=ax)\n",
        "\n",
        "\n",
        "kmf.fit(T[ix3], E[ix3], label='One year')        ## fit the cohort 3 data\n",
        "kmf.plot(ax=ax1)                                 ## Plot the KM curve for three cohort on same x and y axis"
      ],
      "execution_count": null,
      "outputs": [
        {
          "output_type": "execute_result",
          "data": {
            "text/plain": [
              "<matplotlib.axes._subplots.AxesSubplot at 0x7fe08fbe94a8>"
            ]
          },
          "metadata": {
            "tags": []
          },
          "execution_count": 21
        },
        {
          "output_type": "display_data",
          "data": {
            "image/png": "[encoded data removed]",
            "text/plain": [
              "<matplotlib.figure.Figure at 0x7fe08f85ad30>"
            ]
          },
          "metadata": {
            "tags": []
          }
        }
      ]
    },
    {
      "cell_type": "code",
      "metadata": {
        "id": "3g6SLAqbIqYc",
        "outputId": "5ae5ba25-63ee-4b4d-9baa-9f955b4bd01c",
        "colab": {
          "base_uri": "https://localhost:8080/",
          "height": 405
        }
      },
      "source": [
        "kmf1 = KaplanMeierFitter() ## instantiate the class to create an object\n",
        "\n",
        "## Two Cohorts are compared. 1. Streaming TV Not Subsribed by Users, 2. Streaming TV subscribed by the users.\n",
        "groups = df['StreamingTV']   \n",
        "i1 = (groups == 'No')      ## group i1 , having the pandas series for the 1st cohort\n",
        "i2 = (groups == 'Yes')     ## group i2 , having the pandas series for the 2nd cohort\n",
        "\n",
        "\n",
        "## fit the model for 1st cohort\n",
        "kmf1.fit(T[i1], E[i1], label='Not Subscribed StreamingTV')\n",
        "a1 = kmf1.plot()\n",
        "\n",
        "## fit the model for 2nd cohort\n",
        "kmf1.fit(T[i2], E[i2], label='Subscribed StreamingTV')\n",
        "kmf1.plot(ax=a1)"
      ],
      "execution_count": null,
      "outputs": [
        {
          "output_type": "execute_result",
          "data": {
            "text/plain": [
              "<matplotlib.axes._subplots.AxesSubplot at 0x7fe08fd49828>"
            ]
          },
          "metadata": {
            "tags": []
          },
          "execution_count": 22
        },
        {
          "output_type": "display_data",
          "data": {
            "image/png": "[encoded data removed]",
            "text/plain": [
              "<matplotlib.figure.Figure at 0x7fe08fe31668>"
            ]
          },
          "metadata": {
            "tags": []
          }
        }
      ]
    },
    {
      "cell_type": "code",
      "metadata": {
        "id": "siLMC7bEIzqb"
      },
      "source": [
        "from lifelines import CoxPHFitter"
      ],
      "execution_count": null,
      "outputs": []
    },
    {
      "cell_type": "code",
      "metadata": {
        "id": "1gyVR9exI2jW",
        "outputId": "2f59e63c-2fff-4389-c1da-74b9353d970b",
        "colab": {
          "base_uri": "https://localhost:8080/",
          "height": 204
        }
      },
      "source": [
        "## My objective here is to introduce you to the implementation of the model.Thus taking subset of the columns to train the model.\n",
        "## Only using the subset of the columns present in the original data\n",
        "df_r= df.loc[:,['tenure','Churn','gender','Partner','Dependents','PhoneService','MonthlyCharges','SeniorCitizen','StreamingTV']]\n",
        "df_r.head() ## have a look at the data"
      ],
      "execution_count": null,
      "outputs": [
        {
          "output_type": "execute_result",
          "data": {
            "text/html": [
              "<div>\n",
              "<style scoped>\n",
              "    .dataframe tbody tr th:only-of-type {\n",
              "        vertical-align: middle;\n",
              "    }\n",
              "\n",
              "    .dataframe tbody tr th {\n",
              "        vertical-align: top;\n",
              "    }\n",
              "\n",
              "    .dataframe thead th {\n",
              "        text-align: right;\n",
              "    }\n",
              "</style>\n",
              "<table border=\"1\" class=\"dataframe\">\n",
              "  <thead>\n",
              "    <tr style=\"text-align: right;\">\n",
              "      <th></th>\n",
              "      <th>tenure</th>\n",
              "      <th>Churn</th>\n",
              "      <th>gender</th>\n",
              "      <th>Partner</th>\n",
              "      <th>Dependents</th>\n",
              "      <th>PhoneService</th>\n",
              "      <th>MonthlyCharges</th>\n",
              "      <th>SeniorCitizen</th>\n",
              "      <th>StreamingTV</th>\n",
              "    </tr>\n",
              "  </thead>\n",
              "  <tbody>\n",
              "    <tr>\n",
              "      <th>0</th>\n",
              "      <td>1</td>\n",
              "      <td>0</td>\n",
              "      <td>Female</td>\n",
              "      <td>Yes</td>\n",
              "      <td>No</td>\n",
              "      <td>No</td>\n",
              "      <td>29.85</td>\n",
              "      <td>0</td>\n",
              "      <td>No</td>\n",
              "    </tr>\n",
              "    <tr>\n",
              "      <th>1</th>\n",
              "      <td>34</td>\n",
              "      <td>0</td>\n",
              "      <td>Male</td>\n",
              "      <td>No</td>\n",
              "      <td>No</td>\n",
              "      <td>Yes</td>\n",
              "      <td>56.95</td>\n",
              "      <td>0</td>\n",
              "      <td>No</td>\n",
              "    </tr>\n",
              "    <tr>\n",
              "      <th>2</th>\n",
              "      <td>2</td>\n",
              "      <td>1</td>\n",
              "      <td>Male</td>\n",
              "      <td>No</td>\n",
              "      <td>No</td>\n",
              "      <td>Yes</td>\n",
              "      <td>53.85</td>\n",
              "      <td>0</td>\n",
              "      <td>No</td>\n",
              "    </tr>\n",
              "    <tr>\n",
              "      <th>3</th>\n",
              "      <td>45</td>\n",
              "      <td>0</td>\n",
              "      <td>Male</td>\n",
              "      <td>No</td>\n",
              "      <td>No</td>\n",
              "      <td>No</td>\n",
              "      <td>42.30</td>\n",
              "      <td>0</td>\n",
              "      <td>No</td>\n",
              "    </tr>\n",
              "    <tr>\n",
              "      <th>4</th>\n",
              "      <td>2</td>\n",
              "      <td>1</td>\n",
              "      <td>Female</td>\n",
              "      <td>No</td>\n",
              "      <td>No</td>\n",
              "      <td>Yes</td>\n",
              "      <td>70.70</td>\n",
              "      <td>0</td>\n",
              "      <td>No</td>\n",
              "    </tr>\n",
              "  </tbody>\n",
              "</table>\n",
              "</div>"
            ],
            "text/plain": [
              "   tenure  Churn  gender Partner Dependents PhoneService  MonthlyCharges  \\\n",
              "0       1      0  Female     Yes         No           No           29.85   \n",
              "1      34      0    Male      No         No          Yes           56.95   \n",
              "2       2      1    Male      No         No          Yes           53.85   \n",
              "3      45      0    Male      No         No           No           42.30   \n",
              "4       2      1  Female      No         No          Yes           70.70   \n",
              "\n",
              "   SeniorCitizen StreamingTV  \n",
              "0              0          No  \n",
              "1              0          No  \n",
              "2              0          No  \n",
              "3              0          No  \n",
              "4              0          No  "
            ]
          },
          "metadata": {
            "tags": []
          },
          "execution_count": 24
        }
      ]
    },
    {
      "cell_type": "code",
      "metadata": {
        "id": "lIofs8ivI_rU",
        "outputId": "2ad252e9-794d-4014-ffcf-5c24a8781520",
        "colab": {
          "base_uri": "https://localhost:8080/",
          "height": 258
        }
      },
      "source": [
        "## Create dummy variables\n",
        "df_dummy = pd.get_dummies(df_r, drop_first=True)\n",
        "df_dummy.head()"
      ],
      "execution_count": null,
      "outputs": [
        {
          "output_type": "execute_result",
          "data": {
            "text/html": [
              "<div>\n",
              "<style scoped>\n",
              "    .dataframe tbody tr th:only-of-type {\n",
              "        vertical-align: middle;\n",
              "    }\n",
              "\n",
              "    .dataframe tbody tr th {\n",
              "        vertical-align: top;\n",
              "    }\n",
              "\n",
              "    .dataframe thead th {\n",
              "        text-align: right;\n",
              "    }\n",
              "</style>\n",
              "<table border=\"1\" class=\"dataframe\">\n",
              "  <thead>\n",
              "    <tr style=\"text-align: right;\">\n",
              "      <th></th>\n",
              "      <th>tenure</th>\n",
              "      <th>Churn</th>\n",
              "      <th>MonthlyCharges</th>\n",
              "      <th>SeniorCitizen</th>\n",
              "      <th>gender_Male</th>\n",
              "      <th>Partner_Yes</th>\n",
              "      <th>Dependents_Yes</th>\n",
              "      <th>PhoneService_Yes</th>\n",
              "      <th>StreamingTV_No internet service</th>\n",
              "      <th>StreamingTV_Yes</th>\n",
              "    </tr>\n",
              "  </thead>\n",
              "  <tbody>\n",
              "    <tr>\n",
              "      <th>0</th>\n",
              "      <td>1</td>\n",
              "      <td>0</td>\n",
              "      <td>29.85</td>\n",
              "      <td>0</td>\n",
              "      <td>0</td>\n",
              "      <td>1</td>\n",
              "      <td>0</td>\n",
              "      <td>0</td>\n",
              "      <td>0</td>\n",
              "      <td>0</td>\n",
              "    </tr>\n",
              "    <tr>\n",
              "      <th>1</th>\n",
              "      <td>34</td>\n",
              "      <td>0</td>\n",
              "      <td>56.95</td>\n",
              "      <td>0</td>\n",
              "      <td>1</td>\n",
              "      <td>0</td>\n",
              "      <td>0</td>\n",
              "      <td>1</td>\n",
              "      <td>0</td>\n",
              "      <td>0</td>\n",
              "    </tr>\n",
              "    <tr>\n",
              "      <th>2</th>\n",
              "      <td>2</td>\n",
              "      <td>1</td>\n",
              "      <td>53.85</td>\n",
              "      <td>0</td>\n",
              "      <td>1</td>\n",
              "      <td>0</td>\n",
              "      <td>0</td>\n",
              "      <td>1</td>\n",
              "      <td>0</td>\n",
              "      <td>0</td>\n",
              "    </tr>\n",
              "    <tr>\n",
              "      <th>3</th>\n",
              "      <td>45</td>\n",
              "      <td>0</td>\n",
              "      <td>42.30</td>\n",
              "      <td>0</td>\n",
              "      <td>1</td>\n",
              "      <td>0</td>\n",
              "      <td>0</td>\n",
              "      <td>0</td>\n",
              "      <td>0</td>\n",
              "      <td>0</td>\n",
              "    </tr>\n",
              "    <tr>\n",
              "      <th>4</th>\n",
              "      <td>2</td>\n",
              "      <td>1</td>\n",
              "      <td>70.70</td>\n",
              "      <td>0</td>\n",
              "      <td>0</td>\n",
              "      <td>0</td>\n",
              "      <td>0</td>\n",
              "      <td>1</td>\n",
              "      <td>0</td>\n",
              "      <td>0</td>\n",
              "    </tr>\n",
              "  </tbody>\n",
              "</table>\n",
              "</div>"
            ],
            "text/plain": [
              "   tenure  Churn  MonthlyCharges  SeniorCitizen  gender_Male  Partner_Yes  \\\n",
              "0       1      0           29.85              0            0            1   \n",
              "1      34      0           56.95              0            1            0   \n",
              "2       2      1           53.85              0            1            0   \n",
              "3      45      0           42.30              0            1            0   \n",
              "4       2      1           70.70              0            0            0   \n",
              "\n",
              "   Dependents_Yes  PhoneService_Yes  StreamingTV_No internet service  \\\n",
              "0               0                 0                                0   \n",
              "1               0                 1                                0   \n",
              "2               0                 1                                0   \n",
              "3               0                 0                                0   \n",
              "4               0                 1                                0   \n",
              "\n",
              "   StreamingTV_Yes  \n",
              "0                0  \n",
              "1                0  \n",
              "2                0  \n",
              "3                0  \n",
              "4                0  "
            ]
          },
          "metadata": {
            "tags": []
          },
          "execution_count": 25
        }
      ]
    },
    {
      "cell_type": "code",
      "metadata": {
        "id": "ZObn5JcdJJO0",
        "outputId": "92890f7c-1af7-4f9c-8cf5-076557de2899",
        "colab": {
          "base_uri": "https://localhost:8080/",
          "height": 408
        }
      },
      "source": [
        "# Using Cox Proportional Hazards model\n",
        "cph = CoxPHFitter()   ## Instantiate the class to create a cph object\n",
        "cph.fit(df_dummy, 'tenure', event_col='Churn')   ## Fit the data to train the model\n",
        "cph.print_summary()    ## HAve a look at the significance of the features"
      ],
      "execution_count": null,
      "outputs": [
        {
          "output_type": "stream",
          "text": [
            "<lifelines.CoxPHFitter: fitted with 7043 observations, 5174 censored>\n",
            "      duration col = 'tenure'\n",
            "         event col = 'Churn'\n",
            "number of subjects = 7043\n",
            "  number of events = 1869\n",
            "    log-likelihood = -15182.39\n",
            "  time fit was run = 2019-01-14 20:54:08 UTC\n",
            "\n",
            "---\n",
            "                                 coef  exp(coef)  se(coef)      z      p  log(p)  lower 0.95  upper 0.95     \n",
            "MonthlyCharges                  -0.01       0.99      0.00  -6.13 <0.005  -20.84       -0.01       -0.01  ***\n",
            "SeniorCitizen                    0.40       1.49      0.06   7.16 <0.005  -27.83        0.29        0.50  ***\n",
            "gender_Male                     -0.01       0.99      0.05  -0.23   0.82   -0.20       -0.10        0.08     \n",
            "Partner_Yes                     -0.81       0.45      0.05 -14.93 <0.005 -114.36       -0.92       -0.70  ***\n",
            "Dependents_Yes                  -0.36       0.70      0.07  -5.21 <0.005  -15.51       -0.49       -0.22  ***\n",
            "PhoneService_Yes                 0.69       2.00      0.10   6.65 <0.005  -24.23        0.49        0.90  ***\n",
            "StreamingTV_No internet service -2.10       0.12      0.13 -15.79 <0.005 -127.60       -2.36       -1.84  ***\n",
            "StreamingTV_Yes                 -0.19       0.83      0.06  -3.10 <0.005   -6.26       -0.31       -0.07    *\n",
            "---\n",
            "Signif. codes: 0 '***' 0.0001 '**' 0.001 '*' 0.01 '.' 0.05 ' ' 1\n",
            "\n",
            "Concordance = 0.71\n",
            "Likelihood ratio test = 941.30 on 8 df, log(p)=-453.97\n"
          ],
          "name": "stdout"
        }
      ]
    },
    {
      "cell_type": "code",
      "metadata": {
        "id": "H_EnzMCQJOOw",
        "outputId": "3cdf7761-c5d0-4f00-c267-5b100d38a558",
        "colab": {
          "base_uri": "https://localhost:8080/",
          "height": 405
        }
      },
      "source": [
        "cph.plot()"
      ],
      "execution_count": null,
      "outputs": [
        {
          "output_type": "execute_result",
          "data": {
            "text/plain": [
              "<matplotlib.axes._subplots.AxesSubplot at 0x7fe08fa1d630>"
            ]
          },
          "metadata": {
            "tags": []
          },
          "execution_count": 27
        },
        {
          "output_type": "display_data",
          "data": {
            "image/png": "[encoded data removed]",
            "text/plain": [
              "<matplotlib.figure.Figure at 0x7fe08fda2ac8>"
            ]
          },
          "metadata": {
            "tags": []
          }
        }
      ]
    },
    {
      "cell_type": "code",
      "metadata": {
        "id": "9MCLmPgfJSsE",
        "outputId": "64b778d7-afa7-497f-b988-d0d7b984068d",
        "colab": {
          "base_uri": "https://localhost:8080/",
          "height": 1649
        }
      },
      "source": [
        "## Check all the methods and attributes associated with the cph object.\n",
        "dir(cph)"
      ],
      "execution_count": null,
      "outputs": [
        {
          "output_type": "execute_result",
          "data": {
            "text/plain": [
              "['__class__',\n",
              " '__delattr__',\n",
              " '__dict__',\n",
              " '__dir__',\n",
              " '__doc__',\n",
              " '__eq__',\n",
              " '__format__',\n",
              " '__ge__',\n",
              " '__getattribute__',\n",
              " '__gt__',\n",
              " '__hash__',\n",
              " '__init__',\n",
              " '__init_subclass__',\n",
              " '__le__',\n",
              " '__lt__',\n",
              " '__module__',\n",
              " '__ne__',\n",
              " '__new__',\n",
              " '__reduce__',\n",
              " '__reduce_ex__',\n",
              " '__repr__',\n",
              " '__setattr__',\n",
              " '__sizeof__',\n",
              " '__str__',\n",
              " '__subclasshook__',\n",
              " '__weakref__',\n",
              " '_batch_mode',\n",
              " '_check_values',\n",
              " '_clusters',\n",
              " '_compute_baseline_cumulative_hazard',\n",
              " '_compute_baseline_hazard',\n",
              " '_compute_baseline_hazards',\n",
              " '_compute_baseline_survival',\n",
              " '_compute_confidence_intervals',\n",
              " '_compute_delta_beta',\n",
              " '_compute_deviance',\n",
              " '_compute_likelihood_ratio_test',\n",
              " '_compute_martingale',\n",
              " '_compute_p_values',\n",
              " '_compute_sandwich_estimator',\n",
              " '_compute_scaled_schoenfeld',\n",
              " '_compute_schoenfeld',\n",
              " '_compute_schoenfeld_within_strata',\n",
              " '_compute_score',\n",
              " '_compute_score_within_strata',\n",
              " '_compute_standard_errors',\n",
              " '_compute_z_values',\n",
              " '_concordance_score_',\n",
              " '_get_efron_values_batch',\n",
              " '_get_efron_values_single',\n",
              " '_hessian_',\n",
              " '_log_likelihood',\n",
              " '_n_examples',\n",
              " '_newton_rhaphson',\n",
              " '_norm_mean',\n",
              " '_norm_std',\n",
              " '_partition_by_strata',\n",
              " '_partition_by_strata_and_apply',\n",
              " '_preprocess_dataframe',\n",
              " '_score_',\n",
              " '_time_fit_was_called',\n",
              " 'alpha',\n",
              " 'baseline_cumulative_hazard_',\n",
              " 'baseline_hazard_',\n",
              " 'baseline_survival_',\n",
              " 'check_assumptions',\n",
              " 'cluster_col',\n",
              " 'compute_residuals',\n",
              " 'confidence_intervals_',\n",
              " 'duration_col',\n",
              " 'durations',\n",
              " 'event_col',\n",
              " 'event_observed',\n",
              " 'fit',\n",
              " 'hazards_',\n",
              " 'path',\n",
              " 'penalizer',\n",
              " 'plot',\n",
              " 'plot_covariate_groups',\n",
              " 'predict_cumulative_hazard',\n",
              " 'predict_expectation',\n",
              " 'predict_log_partial_hazard',\n",
              " 'predict_median',\n",
              " 'predict_partial_hazard',\n",
              " 'predict_percentile',\n",
              " 'predict_survival_function',\n",
              " 'print_summary',\n",
              " 'robust',\n",
              " 'score_',\n",
              " 'standard_errors_',\n",
              " 'strata',\n",
              " 'summary',\n",
              " 'tie_method',\n",
              " 'variance_matrix_',\n",
              " 'weights',\n",
              " 'weights_col']"
            ]
          },
          "metadata": {
            "tags": []
          },
          "execution_count": 28
        }
      ]
    },
    {
      "cell_type": "code",
      "metadata": {
        "id": "WTFa7ewsJYNF",
        "outputId": "9b367b1a-46ba-41bb-f2e4-45804df091cb",
        "colab": {
          "base_uri": "https://localhost:8080/",
          "height": 258
        }
      },
      "source": [
        "## We want to see the Survival curve at the customer level. Therefore, we have selected 6 customers (rows 5 till 9).\n",
        "\n",
        "tr_rows = df_dummy.iloc[5:10, 2:]\n",
        "tr_rows"
      ],
      "execution_count": null,
      "outputs": [
        {
          "output_type": "execute_result",
          "data": {
            "text/html": [
              "<div>\n",
              "<style scoped>\n",
              "    .dataframe tbody tr th:only-of-type {\n",
              "        vertical-align: middle;\n",
              "    }\n",
              "\n",
              "    .dataframe tbody tr th {\n",
              "        vertical-align: top;\n",
              "    }\n",
              "\n",
              "    .dataframe thead th {\n",
              "        text-align: right;\n",
              "    }\n",
              "</style>\n",
              "<table border=\"1\" class=\"dataframe\">\n",
              "  <thead>\n",
              "    <tr style=\"text-align: right;\">\n",
              "      <th></th>\n",
              "      <th>MonthlyCharges</th>\n",
              "      <th>SeniorCitizen</th>\n",
              "      <th>gender_Male</th>\n",
              "      <th>Partner_Yes</th>\n",
              "      <th>Dependents_Yes</th>\n",
              "      <th>PhoneService_Yes</th>\n",
              "      <th>StreamingTV_No internet service</th>\n",
              "      <th>StreamingTV_Yes</th>\n",
              "    </tr>\n",
              "  </thead>\n",
              "  <tbody>\n",
              "    <tr>\n",
              "      <th>5</th>\n",
              "      <td>99.65</td>\n",
              "      <td>0</td>\n",
              "      <td>0</td>\n",
              "      <td>0</td>\n",
              "      <td>0</td>\n",
              "      <td>1</td>\n",
              "      <td>0</td>\n",
              "      <td>1</td>\n",
              "    </tr>\n",
              "    <tr>\n",
              "      <th>6</th>\n",
              "      <td>89.10</td>\n",
              "      <td>0</td>\n",
              "      <td>1</td>\n",
              "      <td>0</td>\n",
              "      <td>1</td>\n",
              "      <td>1</td>\n",
              "      <td>0</td>\n",
              "      <td>1</td>\n",
              "    </tr>\n",
              "    <tr>\n",
              "      <th>7</th>\n",
              "      <td>29.75</td>\n",
              "      <td>0</td>\n",
              "      <td>0</td>\n",
              "      <td>0</td>\n",
              "      <td>0</td>\n",
              "      <td>0</td>\n",
              "      <td>0</td>\n",
              "      <td>0</td>\n",
              "    </tr>\n",
              "    <tr>\n",
              "      <th>8</th>\n",
              "      <td>104.80</td>\n",
              "      <td>0</td>\n",
              "      <td>0</td>\n",
              "      <td>1</td>\n",
              "      <td>0</td>\n",
              "      <td>1</td>\n",
              "      <td>0</td>\n",
              "      <td>1</td>\n",
              "    </tr>\n",
              "    <tr>\n",
              "      <th>9</th>\n",
              "      <td>56.15</td>\n",
              "      <td>0</td>\n",
              "      <td>1</td>\n",
              "      <td>0</td>\n",
              "      <td>1</td>\n",
              "      <td>1</td>\n",
              "      <td>0</td>\n",
              "      <td>0</td>\n",
              "    </tr>\n",
              "  </tbody>\n",
              "</table>\n",
              "</div>"
            ],
            "text/plain": [
              "   MonthlyCharges  SeniorCitizen  gender_Male  Partner_Yes  Dependents_Yes  \\\n",
              "5           99.65              0            0            0               0   \n",
              "6           89.10              0            1            0               1   \n",
              "7           29.75              0            0            0               0   \n",
              "8          104.80              0            0            1               0   \n",
              "9           56.15              0            1            0               1   \n",
              "\n",
              "   PhoneService_Yes  StreamingTV_No internet service  StreamingTV_Yes  \n",
              "5                 1                                0                1  \n",
              "6                 1                                0                1  \n",
              "7                 0                                0                0  \n",
              "8                 1                                0                1  \n",
              "9                 1                                0                0  "
            ]
          },
          "metadata": {
            "tags": []
          },
          "execution_count": 29
        }
      ]
    },
    {
      "cell_type": "code",
      "metadata": {
        "id": "ZeT1d6czJg9m",
        "outputId": "fbcfccb9-a078-4237-f83d-fece43ab3c31",
        "colab": {
          "base_uri": "https://localhost:8080/",
          "height": 405
        }
      },
      "source": [
        "## Lets predict the survival curve for the selected customers. \n",
        "## Customers can be identified with the help of the number mentioned against each curve.\n",
        "cph.predict_survival_function(tr_rows).plot()"
      ],
      "execution_count": null,
      "outputs": [
        {
          "output_type": "execute_result",
          "data": {
            "text/plain": [
              "<matplotlib.axes._subplots.AxesSubplot at 0x7fe08f998940>"
            ]
          },
          "metadata": {
            "tags": []
          },
          "execution_count": 30
        },
        {
          "output_type": "display_data",
          "data": {
            "image/png": "[encoded data removed]",
            "text/plain": [
              "<matplotlib.figure.Figure at 0x7fe08f805898>"
            ]
          },
          "metadata": {
            "tags": []
          }
        }
      ]
    }
  ]
}
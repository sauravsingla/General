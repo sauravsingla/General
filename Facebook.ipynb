{
  "nbformat": 4,
  "nbformat_minor": 0,
  "metadata": {
    "colab": {
      "name": "Facebook.ipynb",
      "provenance": [],
      "collapsed_sections": [],
      "include_colab_link": true
    },
    "kernelspec": {
      "name": "python3",
      "display_name": "Python 3"
    },
    "accelerator": "GPU"
  },
  "cells": [
    {
      "cell_type": "markdown",
      "metadata": {
        "id": "view-in-github",
        "colab_type": "text"
      },
      "source": [
        "<a href=\"https://colab.research.google.com/github/sauravsingla/General/blob/master/Facebook.ipynb\" target=\"_parent\"><img src=\"https://colab.research.google.com/assets/colab-badge.svg\" alt=\"Open In Colab\"/></a>"
      ]
    },
    {
      "cell_type": "code",
      "metadata": {
        "id": "EbY4f-K3FRDF"
      },
      "source": [
        "import matplotlib.pyplot as plt\n",
        "import numpy as np\n",
        "import math\n",
        "import seaborn as sns\n",
        "from scipy.integrate import simps\n",
        "import pandas as pd\n",
        "import datetime as dt\n",
        "\n",
        "\n",
        "%matplotlib inline\n",
        "import matplotlib.pyplot as plt\n",
        "import matplotlib.dates as mdates\n",
        "import matplotlib as mpl\n",
        "\n",
        "\n",
        "pd.set_option('max_columns', 50)\n",
        "mpl.rcParams['lines.linewidth'] = 2\n",
        "\n",
        "\n",
        "from sklearn import linear_model\n",
        "from sklearn.model_selection import train_test_split\n",
        "from sklearn.metrics import r2_score\n",
        "from sklearn.preprocessing import StandardScaler\n",
        "\n"
      ],
      "execution_count": null,
      "outputs": []
    },
    {
      "cell_type": "code",
      "metadata": {
        "id": "RBtSgTyeFr2D",
        "outputId": "8b095b18-d66b-494c-e662-b945c6da5663",
        "colab": {
          "base_uri": "https://localhost:8080/",
          "height": 346
        }
      },
      "source": [
        "data = pd.read_csv('dataset_Facebook.csv', delimiter=';')\n",
        "data.head(4)"
      ],
      "execution_count": null,
      "outputs": [
        {
          "output_type": "execute_result",
          "data": {
            "text/html": [
              "<div>\n",
              "<style scoped>\n",
              "    .dataframe tbody tr th:only-of-type {\n",
              "        vertical-align: middle;\n",
              "    }\n",
              "\n",
              "    .dataframe tbody tr th {\n",
              "        vertical-align: top;\n",
              "    }\n",
              "\n",
              "    .dataframe thead th {\n",
              "        text-align: right;\n",
              "    }\n",
              "</style>\n",
              "<table border=\"1\" class=\"dataframe\">\n",
              "  <thead>\n",
              "    <tr style=\"text-align: right;\">\n",
              "      <th></th>\n",
              "      <th>Page total likes</th>\n",
              "      <th>Type</th>\n",
              "      <th>Category</th>\n",
              "      <th>Post Month</th>\n",
              "      <th>Post Weekday</th>\n",
              "      <th>Post Hour</th>\n",
              "      <th>Paid</th>\n",
              "      <th>Lifetime Post Total Reach</th>\n",
              "      <th>Lifetime Post Total Impressions</th>\n",
              "      <th>Lifetime Engaged Users</th>\n",
              "      <th>Lifetime Post Consumers</th>\n",
              "      <th>Lifetime Post Consumptions</th>\n",
              "      <th>Lifetime Post Impressions by people who have liked your Page</th>\n",
              "      <th>Lifetime Post reach by people who like your Page</th>\n",
              "      <th>Lifetime People who have liked your Page and engaged with your post</th>\n",
              "      <th>comment</th>\n",
              "      <th>like</th>\n",
              "      <th>share</th>\n",
              "      <th>Total Interactions</th>\n",
              "    </tr>\n",
              "  </thead>\n",
              "  <tbody>\n",
              "    <tr>\n",
              "      <th>0</th>\n",
              "      <td>139441</td>\n",
              "      <td>Photo</td>\n",
              "      <td>2</td>\n",
              "      <td>12</td>\n",
              "      <td>4</td>\n",
              "      <td>3</td>\n",
              "      <td>0.0</td>\n",
              "      <td>2752</td>\n",
              "      <td>5091</td>\n",
              "      <td>178</td>\n",
              "      <td>109</td>\n",
              "      <td>159</td>\n",
              "      <td>3078</td>\n",
              "      <td>1640</td>\n",
              "      <td>119</td>\n",
              "      <td>4</td>\n",
              "      <td>79.0</td>\n",
              "      <td>17.0</td>\n",
              "      <td>100</td>\n",
              "    </tr>\n",
              "    <tr>\n",
              "      <th>1</th>\n",
              "      <td>139441</td>\n",
              "      <td>Status</td>\n",
              "      <td>2</td>\n",
              "      <td>12</td>\n",
              "      <td>3</td>\n",
              "      <td>10</td>\n",
              "      <td>0.0</td>\n",
              "      <td>10460</td>\n",
              "      <td>19057</td>\n",
              "      <td>1457</td>\n",
              "      <td>1361</td>\n",
              "      <td>1674</td>\n",
              "      <td>11710</td>\n",
              "      <td>6112</td>\n",
              "      <td>1108</td>\n",
              "      <td>5</td>\n",
              "      <td>130.0</td>\n",
              "      <td>29.0</td>\n",
              "      <td>164</td>\n",
              "    </tr>\n",
              "    <tr>\n",
              "      <th>2</th>\n",
              "      <td>139441</td>\n",
              "      <td>Photo</td>\n",
              "      <td>3</td>\n",
              "      <td>12</td>\n",
              "      <td>3</td>\n",
              "      <td>3</td>\n",
              "      <td>0.0</td>\n",
              "      <td>2413</td>\n",
              "      <td>4373</td>\n",
              "      <td>177</td>\n",
              "      <td>113</td>\n",
              "      <td>154</td>\n",
              "      <td>2812</td>\n",
              "      <td>1503</td>\n",
              "      <td>132</td>\n",
              "      <td>0</td>\n",
              "      <td>66.0</td>\n",
              "      <td>14.0</td>\n",
              "      <td>80</td>\n",
              "    </tr>\n",
              "    <tr>\n",
              "      <th>3</th>\n",
              "      <td>139441</td>\n",
              "      <td>Photo</td>\n",
              "      <td>2</td>\n",
              "      <td>12</td>\n",
              "      <td>2</td>\n",
              "      <td>10</td>\n",
              "      <td>1.0</td>\n",
              "      <td>50128</td>\n",
              "      <td>87991</td>\n",
              "      <td>2211</td>\n",
              "      <td>790</td>\n",
              "      <td>1119</td>\n",
              "      <td>61027</td>\n",
              "      <td>32048</td>\n",
              "      <td>1386</td>\n",
              "      <td>58</td>\n",
              "      <td>1572.0</td>\n",
              "      <td>147.0</td>\n",
              "      <td>1777</td>\n",
              "    </tr>\n",
              "  </tbody>\n",
              "</table>\n",
              "</div>"
            ],
            "text/plain": [
              "   Page total likes    Type  Category  Post Month  Post Weekday  Post Hour  \\\n",
              "0            139441   Photo         2          12             4          3   \n",
              "1            139441  Status         2          12             3         10   \n",
              "2            139441   Photo         3          12             3          3   \n",
              "3            139441   Photo         2          12             2         10   \n",
              "\n",
              "   Paid  Lifetime Post Total Reach  Lifetime Post Total Impressions  \\\n",
              "0   0.0                       2752                             5091   \n",
              "1   0.0                      10460                            19057   \n",
              "2   0.0                       2413                             4373   \n",
              "3   1.0                      50128                            87991   \n",
              "\n",
              "   Lifetime Engaged Users  Lifetime Post Consumers  \\\n",
              "0                     178                      109   \n",
              "1                    1457                     1361   \n",
              "2                     177                      113   \n",
              "3                    2211                      790   \n",
              "\n",
              "   Lifetime Post Consumptions  \\\n",
              "0                         159   \n",
              "1                        1674   \n",
              "2                         154   \n",
              "3                        1119   \n",
              "\n",
              "   Lifetime Post Impressions by people who have liked your Page  \\\n",
              "0                                               3078              \n",
              "1                                              11710              \n",
              "2                                               2812              \n",
              "3                                              61027              \n",
              "\n",
              "   Lifetime Post reach by people who like your Page  \\\n",
              "0                                              1640   \n",
              "1                                              6112   \n",
              "2                                              1503   \n",
              "3                                             32048   \n",
              "\n",
              "   Lifetime People who have liked your Page and engaged with your post  \\\n",
              "0                                                119                     \n",
              "1                                               1108                     \n",
              "2                                                132                     \n",
              "3                                               1386                     \n",
              "\n",
              "   comment    like  share  Total Interactions  \n",
              "0        4    79.0   17.0                 100  \n",
              "1        5   130.0   29.0                 164  \n",
              "2        0    66.0   14.0                  80  \n",
              "3       58  1572.0  147.0                1777  "
            ]
          },
          "metadata": {
            "tags": []
          },
          "execution_count": 13
        }
      ]
    },
    {
      "cell_type": "code",
      "metadata": {
        "id": "T09IWDzpymhH"
      },
      "source": [
        "data.to_csv('updated_dataset_Facebook.csv')"
      ],
      "execution_count": null,
      "outputs": []
    },
    {
      "cell_type": "code",
      "metadata": {
        "id": "wd-rSpPyG4I8",
        "outputId": "4768938c-198e-4b9a-f082-8b96e7882295",
        "colab": {
          "base_uri": "https://localhost:8080/",
          "height": 425
        }
      },
      "source": [
        "data.info()"
      ],
      "execution_count": null,
      "outputs": [
        {
          "output_type": "stream",
          "text": [
            "<class 'pandas.core.frame.DataFrame'>\n",
            "RangeIndex: 500 entries, 0 to 499\n",
            "Data columns (total 19 columns):\n",
            "Page total likes                                                       500 non-null int64\n",
            "Type                                                                   500 non-null object\n",
            "Category                                                               500 non-null int64\n",
            "Post Month                                                             500 non-null int64\n",
            "Post Weekday                                                           500 non-null int64\n",
            "Post Hour                                                              500 non-null int64\n",
            "Paid                                                                   499 non-null float64\n",
            "Lifetime Post Total Reach                                              500 non-null int64\n",
            "Lifetime Post Total Impressions                                        500 non-null int64\n",
            "Lifetime Engaged Users                                                 500 non-null int64\n",
            "Lifetime Post Consumers                                                500 non-null int64\n",
            "Lifetime Post Consumptions                                             500 non-null int64\n",
            "Lifetime Post Impressions by people who have liked your Page           500 non-null int64\n",
            "Lifetime Post reach by people who like your Page                       500 non-null int64\n",
            "Lifetime People who have liked your Page and engaged with your post    500 non-null int64\n",
            "comment                                                                500 non-null int64\n",
            "like                                                                   499 non-null float64\n",
            "share                                                                  496 non-null float64\n",
            "Total Interactions                                                     500 non-null int64\n",
            "dtypes: float64(3), int64(15), object(1)\n",
            "memory usage: 74.3+ KB\n"
          ],
          "name": "stdout"
        }
      ]
    },
    {
      "cell_type": "code",
      "metadata": {
        "id": "k_QIlmO3Otgx",
        "outputId": "0317cd1e-a917-4f84-8103-a951f10b260c",
        "colab": {
          "base_uri": "https://localhost:8080/",
          "height": 34
        }
      },
      "source": [
        "data.shape"
      ],
      "execution_count": null,
      "outputs": [
        {
          "output_type": "execute_result",
          "data": {
            "text/plain": [
              "(500, 19)"
            ]
          },
          "metadata": {
            "tags": []
          },
          "execution_count": 16
        }
      ]
    },
    {
      "cell_type": "code",
      "metadata": {
        "id": "svH9E5TtSkZQ",
        "outputId": "6c1defbe-0d4e-45cd-9abc-94823785d3d9",
        "colab": {
          "base_uri": "https://localhost:8080/",
          "height": 436
        }
      },
      "source": [
        "display(data.describe())"
      ],
      "execution_count": null,
      "outputs": [
        {
          "output_type": "display_data",
          "data": {
            "text/html": [
              "<div>\n",
              "<style scoped>\n",
              "    .dataframe tbody tr th:only-of-type {\n",
              "        vertical-align: middle;\n",
              "    }\n",
              "\n",
              "    .dataframe tbody tr th {\n",
              "        vertical-align: top;\n",
              "    }\n",
              "\n",
              "    .dataframe thead th {\n",
              "        text-align: right;\n",
              "    }\n",
              "</style>\n",
              "<table border=\"1\" class=\"dataframe\">\n",
              "  <thead>\n",
              "    <tr style=\"text-align: right;\">\n",
              "      <th></th>\n",
              "      <th>Page total likes</th>\n",
              "      <th>Category</th>\n",
              "      <th>Post Month</th>\n",
              "      <th>Post Weekday</th>\n",
              "      <th>Post Hour</th>\n",
              "      <th>Paid</th>\n",
              "      <th>Lifetime Post Total Reach</th>\n",
              "      <th>Lifetime Post Total Impressions</th>\n",
              "      <th>Lifetime Engaged Users</th>\n",
              "      <th>Lifetime Post Consumers</th>\n",
              "      <th>Lifetime Post Consumptions</th>\n",
              "      <th>Lifetime Post Impressions by people who have liked your Page</th>\n",
              "      <th>Lifetime Post reach by people who like your Page</th>\n",
              "      <th>Lifetime People who have liked your Page and engaged with your post</th>\n",
              "      <th>comment</th>\n",
              "      <th>like</th>\n",
              "      <th>share</th>\n",
              "      <th>Total Interactions</th>\n",
              "    </tr>\n",
              "  </thead>\n",
              "  <tbody>\n",
              "    <tr>\n",
              "      <th>count</th>\n",
              "      <td>500.000000</td>\n",
              "      <td>500.000000</td>\n",
              "      <td>500.000000</td>\n",
              "      <td>500.000000</td>\n",
              "      <td>500.000000</td>\n",
              "      <td>499.000000</td>\n",
              "      <td>500.00000</td>\n",
              "      <td>5.000000e+02</td>\n",
              "      <td>500.000000</td>\n",
              "      <td>500.000000</td>\n",
              "      <td>500.000000</td>\n",
              "      <td>5.000000e+02</td>\n",
              "      <td>500.000000</td>\n",
              "      <td>500.000000</td>\n",
              "      <td>500.00000</td>\n",
              "      <td>499.000000</td>\n",
              "      <td>496.000000</td>\n",
              "      <td>500.000000</td>\n",
              "    </tr>\n",
              "    <tr>\n",
              "      <th>mean</th>\n",
              "      <td>123194.176000</td>\n",
              "      <td>1.880000</td>\n",
              "      <td>7.038000</td>\n",
              "      <td>4.150000</td>\n",
              "      <td>7.840000</td>\n",
              "      <td>0.278557</td>\n",
              "      <td>13903.36000</td>\n",
              "      <td>2.958595e+04</td>\n",
              "      <td>920.344000</td>\n",
              "      <td>798.772000</td>\n",
              "      <td>1415.130000</td>\n",
              "      <td>1.676638e+04</td>\n",
              "      <td>6585.488000</td>\n",
              "      <td>609.986000</td>\n",
              "      <td>7.48200</td>\n",
              "      <td>177.945892</td>\n",
              "      <td>27.266129</td>\n",
              "      <td>212.120000</td>\n",
              "    </tr>\n",
              "    <tr>\n",
              "      <th>std</th>\n",
              "      <td>16272.813214</td>\n",
              "      <td>0.852675</td>\n",
              "      <td>3.307936</td>\n",
              "      <td>2.030701</td>\n",
              "      <td>4.368589</td>\n",
              "      <td>0.448739</td>\n",
              "      <td>22740.78789</td>\n",
              "      <td>7.680325e+04</td>\n",
              "      <td>985.016636</td>\n",
              "      <td>882.505013</td>\n",
              "      <td>2000.594118</td>\n",
              "      <td>5.979102e+04</td>\n",
              "      <td>7682.009405</td>\n",
              "      <td>612.725618</td>\n",
              "      <td>21.18091</td>\n",
              "      <td>323.398742</td>\n",
              "      <td>42.613292</td>\n",
              "      <td>380.233118</td>\n",
              "    </tr>\n",
              "    <tr>\n",
              "      <th>min</th>\n",
              "      <td>81370.000000</td>\n",
              "      <td>1.000000</td>\n",
              "      <td>1.000000</td>\n",
              "      <td>1.000000</td>\n",
              "      <td>1.000000</td>\n",
              "      <td>0.000000</td>\n",
              "      <td>238.00000</td>\n",
              "      <td>5.700000e+02</td>\n",
              "      <td>9.000000</td>\n",
              "      <td>9.000000</td>\n",
              "      <td>9.000000</td>\n",
              "      <td>5.670000e+02</td>\n",
              "      <td>236.000000</td>\n",
              "      <td>9.000000</td>\n",
              "      <td>0.00000</td>\n",
              "      <td>0.000000</td>\n",
              "      <td>0.000000</td>\n",
              "      <td>0.000000</td>\n",
              "    </tr>\n",
              "    <tr>\n",
              "      <th>25%</th>\n",
              "      <td>112676.000000</td>\n",
              "      <td>1.000000</td>\n",
              "      <td>4.000000</td>\n",
              "      <td>2.000000</td>\n",
              "      <td>3.000000</td>\n",
              "      <td>0.000000</td>\n",
              "      <td>3315.00000</td>\n",
              "      <td>5.694750e+03</td>\n",
              "      <td>393.750000</td>\n",
              "      <td>332.500000</td>\n",
              "      <td>509.250000</td>\n",
              "      <td>3.969750e+03</td>\n",
              "      <td>2181.500000</td>\n",
              "      <td>291.000000</td>\n",
              "      <td>1.00000</td>\n",
              "      <td>56.500000</td>\n",
              "      <td>10.000000</td>\n",
              "      <td>71.000000</td>\n",
              "    </tr>\n",
              "    <tr>\n",
              "      <th>50%</th>\n",
              "      <td>129600.000000</td>\n",
              "      <td>2.000000</td>\n",
              "      <td>7.000000</td>\n",
              "      <td>4.000000</td>\n",
              "      <td>9.000000</td>\n",
              "      <td>0.000000</td>\n",
              "      <td>5281.00000</td>\n",
              "      <td>9.051000e+03</td>\n",
              "      <td>625.500000</td>\n",
              "      <td>551.500000</td>\n",
              "      <td>851.000000</td>\n",
              "      <td>6.255500e+03</td>\n",
              "      <td>3417.000000</td>\n",
              "      <td>412.000000</td>\n",
              "      <td>3.00000</td>\n",
              "      <td>101.000000</td>\n",
              "      <td>19.000000</td>\n",
              "      <td>123.500000</td>\n",
              "    </tr>\n",
              "    <tr>\n",
              "      <th>75%</th>\n",
              "      <td>136393.000000</td>\n",
              "      <td>3.000000</td>\n",
              "      <td>10.000000</td>\n",
              "      <td>6.000000</td>\n",
              "      <td>11.000000</td>\n",
              "      <td>1.000000</td>\n",
              "      <td>13168.00000</td>\n",
              "      <td>2.208550e+04</td>\n",
              "      <td>1062.000000</td>\n",
              "      <td>955.500000</td>\n",
              "      <td>1463.000000</td>\n",
              "      <td>1.486050e+04</td>\n",
              "      <td>7989.000000</td>\n",
              "      <td>656.250000</td>\n",
              "      <td>7.00000</td>\n",
              "      <td>187.500000</td>\n",
              "      <td>32.250000</td>\n",
              "      <td>228.500000</td>\n",
              "    </tr>\n",
              "    <tr>\n",
              "      <th>max</th>\n",
              "      <td>139441.000000</td>\n",
              "      <td>3.000000</td>\n",
              "      <td>12.000000</td>\n",
              "      <td>7.000000</td>\n",
              "      <td>23.000000</td>\n",
              "      <td>1.000000</td>\n",
              "      <td>180480.00000</td>\n",
              "      <td>1.110282e+06</td>\n",
              "      <td>11452.000000</td>\n",
              "      <td>11328.000000</td>\n",
              "      <td>19779.000000</td>\n",
              "      <td>1.107833e+06</td>\n",
              "      <td>51456.000000</td>\n",
              "      <td>4376.000000</td>\n",
              "      <td>372.00000</td>\n",
              "      <td>5172.000000</td>\n",
              "      <td>790.000000</td>\n",
              "      <td>6334.000000</td>\n",
              "    </tr>\n",
              "  </tbody>\n",
              "</table>\n",
              "</div>"
            ],
            "text/plain": [
              "       Page total likes    Category  Post Month  Post Weekday   Post Hour  \\\n",
              "count        500.000000  500.000000  500.000000    500.000000  500.000000   \n",
              "mean      123194.176000    1.880000    7.038000      4.150000    7.840000   \n",
              "std        16272.813214    0.852675    3.307936      2.030701    4.368589   \n",
              "min        81370.000000    1.000000    1.000000      1.000000    1.000000   \n",
              "25%       112676.000000    1.000000    4.000000      2.000000    3.000000   \n",
              "50%       129600.000000    2.000000    7.000000      4.000000    9.000000   \n",
              "75%       136393.000000    3.000000   10.000000      6.000000   11.000000   \n",
              "max       139441.000000    3.000000   12.000000      7.000000   23.000000   \n",
              "\n",
              "             Paid  Lifetime Post Total Reach  Lifetime Post Total Impressions  \\\n",
              "count  499.000000                  500.00000                     5.000000e+02   \n",
              "mean     0.278557                13903.36000                     2.958595e+04   \n",
              "std      0.448739                22740.78789                     7.680325e+04   \n",
              "min      0.000000                  238.00000                     5.700000e+02   \n",
              "25%      0.000000                 3315.00000                     5.694750e+03   \n",
              "50%      0.000000                 5281.00000                     9.051000e+03   \n",
              "75%      1.000000                13168.00000                     2.208550e+04   \n",
              "max      1.000000               180480.00000                     1.110282e+06   \n",
              "\n",
              "       Lifetime Engaged Users  Lifetime Post Consumers  \\\n",
              "count              500.000000               500.000000   \n",
              "mean               920.344000               798.772000   \n",
              "std                985.016636               882.505013   \n",
              "min                  9.000000                 9.000000   \n",
              "25%                393.750000               332.500000   \n",
              "50%                625.500000               551.500000   \n",
              "75%               1062.000000               955.500000   \n",
              "max              11452.000000             11328.000000   \n",
              "\n",
              "       Lifetime Post Consumptions  \\\n",
              "count                  500.000000   \n",
              "mean                  1415.130000   \n",
              "std                   2000.594118   \n",
              "min                      9.000000   \n",
              "25%                    509.250000   \n",
              "50%                    851.000000   \n",
              "75%                   1463.000000   \n",
              "max                  19779.000000   \n",
              "\n",
              "       Lifetime Post Impressions by people who have liked your Page  \\\n",
              "count                                       5.000000e+02              \n",
              "mean                                        1.676638e+04              \n",
              "std                                         5.979102e+04              \n",
              "min                                         5.670000e+02              \n",
              "25%                                         3.969750e+03              \n",
              "50%                                         6.255500e+03              \n",
              "75%                                         1.486050e+04              \n",
              "max                                         1.107833e+06              \n",
              "\n",
              "       Lifetime Post reach by people who like your Page  \\\n",
              "count                                        500.000000   \n",
              "mean                                        6585.488000   \n",
              "std                                         7682.009405   \n",
              "min                                          236.000000   \n",
              "25%                                         2181.500000   \n",
              "50%                                         3417.000000   \n",
              "75%                                         7989.000000   \n",
              "max                                        51456.000000   \n",
              "\n",
              "       Lifetime People who have liked your Page and engaged with your post  \\\n",
              "count                                         500.000000                     \n",
              "mean                                          609.986000                     \n",
              "std                                           612.725618                     \n",
              "min                                             9.000000                     \n",
              "25%                                           291.000000                     \n",
              "50%                                           412.000000                     \n",
              "75%                                           656.250000                     \n",
              "max                                          4376.000000                     \n",
              "\n",
              "         comment         like       share  Total Interactions  \n",
              "count  500.00000   499.000000  496.000000          500.000000  \n",
              "mean     7.48200   177.945892   27.266129          212.120000  \n",
              "std     21.18091   323.398742   42.613292          380.233118  \n",
              "min      0.00000     0.000000    0.000000            0.000000  \n",
              "25%      1.00000    56.500000   10.000000           71.000000  \n",
              "50%      3.00000   101.000000   19.000000          123.500000  \n",
              "75%      7.00000   187.500000   32.250000          228.500000  \n",
              "max    372.00000  5172.000000  790.000000         6334.000000  "
            ]
          },
          "metadata": {
            "tags": []
          }
        }
      ]
    },
    {
      "cell_type": "code",
      "metadata": {
        "id": "eXopCwYdMOUR",
        "outputId": "177ba017-a25f-44d2-9a8e-9279ba544cdd",
        "colab": {
          "base_uri": "https://localhost:8080/",
          "height": 683
        }
      },
      "source": [
        "for attr in data.columns.values.tolist()[0:]:\n",
        "  print(\"Unique values in \"+attr+\":\")\n",
        "  print(np.unique(data[attr]).tolist())"
      ],
      "execution_count": null,
      "outputs": [
        {
          "output_type": "stream",
          "text": [
            "Unique values in Page total likes:\n",
            "[81370, 85093, 85979, 86491, 86909, 91009, 91116, 91223, 91330, 91437, 91544, 91651, 91758, 91865, 91972, 92079, 92186, 92293, 92400, 92507, 92614, 92721, 92828, 92935, 93042, 93149, 93256, 93363, 93470, 93577, 93684, 96749, 98195, 100732, 102112, 104070, 106928, 107907, 109670, 111620, 113028, 115368, 115893, 116091, 116435, 117764, 119198, 120050, 121540, 123047, 124940, 125612, 126141, 126345, 126424, 127082, 128032, 129600, 130791, 131300, 131630, 131728, 131808, 131956, 132201, 132817, 133451, 133594, 133679, 134879, 135195, 135428, 135617, 135700, 135713, 136013, 136393, 136642, 136736, 137020, 137059, 137177, 137893, 138185, 138329, 138353, 138414, 138458, 138895, 139441]\n",
            "Unique values in Type:\n",
            "['Link', 'Photo', 'Status', 'Video']\n",
            "Unique values in Category:\n",
            "[1, 2, 3]\n",
            "Unique values in Post Month:\n",
            "[1, 2, 3, 4, 5, 6, 7, 8, 9, 10, 11, 12]\n",
            "Unique values in Post Weekday:\n",
            "[1, 2, 3, 4, 5, 6, 7]\n",
            "Unique values in Post Hour:\n",
            "[1, 2, 3, 4, 5, 6, 7, 8, 9, 10, 11, 12, 13, 14, 15, 16, 17, 18, 19, 20, 22, 23]\n",
            "Unique values in Paid:\n",
            "[0.0, 1.0, nan]\n",
            "Unique values in Lifetime Post Total Reach:\n",
            "[238, 391, 452, 584, 617, 619, 645, 652, 659, 677, 729, 747, 754, 786, 813, 834, 861, 910, 1006, 1060, 1080, 1101, 1228, 1261, 1330, 1357, 1384, 1388, 1445, 1531, 1536, 1543, 1591, 1592, 1659, 1673, 1683, 1685, 1711, 1722, 1728, 1729, 1804, 1809, 1845, 1874, 1920, 1925, 1954, 2055, 2149, 2168, 2219, 2225, 2227, 2232, 2257, 2291, 2295, 2316, 2351, 2352, 2360, 2363, 2402, 2413, 2425, 2426, 2428, 2431, 2478, 2522, 2540, 2545, 2549, 2566, 2585, 2594, 2602, 2626, 2628, 2645, 2656, 2690, 2718, 2723, 2752, 2763, 2772, 2790, 2812, 2819, 2822, 2823, 2847, 2848, 2881, 2933, 2935, 2938, 2970, 2973, 3002, 3024, 3028, 3046, 3090, 3100, 3102, 3110, 3112, 3130, 3144, 3176, 3212, 3234, 3254, 3272, 3286, 3290, 3294, 3322, 3330, 3332, 3334, 3358, 3366, 3376, 3384, 3406, 3414, 3416, 3418, 3454, 3460, 3480, 3504, 3528, 3544, 3558, 3576, 3582, 3594, 3600, 3616, 3662, 3674, 3690, 3696, 3706, 3714, 3726, 3734, 3754, 3756, 3766, 3772, 3776, 3778, 3786, 3796, 3806, 3824, 3884, 3906, 3930, 3934, 3992, 4010, 4012, 4018, 4022, 4032, 4048, 4068, 4094, 4096, 4118, 4122, 4132, 4156, 4188, 4202, 4204, 4220, 4240, 4248, 4260, 4274, 4280, 4284, 4320, 4324, 4336, 4344, 4362, 4390, 4398, 4406, 4412, 4452, 4458, 4480, 4484, 4512, 4518, 4552, 4582, 4592, 4644, 4664, 4666, 4684, 4694, 4708, 4732, 4762, 4770, 4800, 4840, 4892, 4894, 4898, 4908, 4910, 4938, 4940, 4986, 5016, 5034, 5040, 5046, 5080, 5086, 5132, 5168, 5206, 5212, 5240, 5280, 5282, 5290, 5292, 5298, 5302, 5312, 5324, 5338, 5400, 5402, 5458, 5490, 5526, 5536, 5560, 5568, 5582, 5594, 5704, 5728, 5730, 5746, 5754, 5786, 5812, 5848, 5854, 5878, 5880, 5976, 5990, 5994, 6000, 6030, 6056, 6150, 6172, 6184, 6208, 6360, 6400, 6408, 6416, 6444, 6460, 6484, 6564, 6596, 6668, 6692, 6768, 6876, 6880, 6952, 6984, 7132, 7192, 7220, 7228, 7232, 7244, 7268, 7492, 7512, 7732, 7968, 7980, 8260, 8284, 8324, 8412, 8488, 8500, 8612, 8628, 8728, 8896, 9056, 9084, 9120, 9124, 9232, 9236, 9356, 9384, 9504, 9528, 9560, 9604, 9652, 9700, 9880, 10040, 10060, 10152, 10188, 10460, 10472, 10744, 10748, 10824, 10844, 10888, 10940, 10956, 11096, 11304, 11336, 11420, 11444, 11484, 11608, 11620, 11692, 11844, 12044, 12468, 12540, 12728, 12776, 12824, 13152, 13216, 13280, 13544, 13720, 13856, 13872, 14152, 14200, 14320, 14424, 14824, 15288, 15296, 15576, 15816, 15880, 16416, 16576, 16776, 17360, 17576, 17912, 18056, 18120, 18320, 18480, 18552, 19552, 19648, 19800, 19968, 20168, 20528, 20560, 20896, 20920, 21176, 21248, 21256, 21744, 21872, 21928, 22120, 22304, 22464, 22784, 22984, 23832, 24264, 24720, 25248, 26944, 27056, 27072, 27216, 28112, 28128, 28208, 28352, 28752, 28880, 30624, 31136, 31904, 32208, 33536, 34192, 34480, 34512, 35008, 35360, 36208, 37088, 37376, 38576, 38960, 39040, 39344, 39568, 39600, 39984, 40336, 41984, 44288, 44464, 45920, 46192, 47376, 49632, 50128, 50640, 50736, 50912, 52736, 53056, 53264, 53456, 54256, 55520, 56672, 58304, 63840, 66784, 66976, 68896, 68992, 70144, 70912, 71360, 72864, 76096, 81856, 95424, 98816, 100768, 105632, 109056, 122944, 128064, 139008, 153536, 158208, 180480]\n",
            "Unique values in Lifetime Post Total Impressions:\n",
            "[570, 726, 746, 1029, 1071, 1096, 1117, 1158, 1240, 1285, 1331, 1374, 1443, 1510, 1565, 1568, 1570, 1573, 1594, 1673, 2004, 2158, 2327, 2392, 2427, 2453, 2467, 2474, 2544, 2548, 2670, 2749, 2774, 2825, 2838, 2845, 2874, 2929, 2968, 2981, 2999, 3094, 3124, 3130, 3155, 3174, 3289, 3481, 3530, 3611, 3655, 3721, 3772, 3891, 3915, 3960, 4004, 4005, 4028, 4070, 4072, 4120, 4180, 4220, 4223, 4239, 4264, 4270, 4306, 4349, 4372, 4373, 4388, 4410, 4462, 4469, 4510, 4545, 4583, 4628, 4642, 4649, 4698, 4794, 4846, 4862, 4879, 4888, 4896, 4908, 4909, 4943, 4954, 4955, 5058, 5063, 5066, 5067, 5091, 5113, 5133, 5144, 5188, 5230, 5234, 5244, 5278, 5313, 5318, 5388, 5396, 5405, 5439, 5461, 5472, 5499, 5525, 5553, 5590, 5630, 5644, 5656, 5659, 5682, 5699, 5744, 5797, 5799, 5807, 5808, 5824, 5900, 5918, 5939, 5953, 5969, 6050, 6056, 6079, 6085, 6156, 6166, 6167, 6181, 6194, 6218, 6229, 6276, 6295, 6316, 6330, 6333, 6369, 6372, 6385, 6406, 6476, 6486, 6503, 6518, 6557, 6647, 6691, 6736, 6737, 6769, 6853, 6887, 6971, 7004, 7057, 7073, 7094, 7127, 7149, 7165, 7191, 7200, 7216, 7217, 7221, 7241, 7253, 7255, 7278, 7292, 7329, 7333, 7355, 7378, 7444, 7466, 7469, 7491, 7509, 7536, 7564, 7594, 7633, 7659, 7705, 7716, 7753, 7754, 7774, 7808, 7829, 7910, 7927, 7948, 7955, 7960, 7989, 7998, 8025, 8030, 8039, 8070, 8090, 8105, 8132, 8178, 8198, 8238, 8239, 8303, 8360, 8367, 8371, 8387, 8499, 8533, 8617, 8668, 8703, 8730, 8745, 8769, 8779, 8875, 8891, 8893, 8899, 8962, 9035, 9067, 9068, 9084, 9098, 9100, 9193, 9209, 9218, 9238, 9301, 9303, 9321, 9390, 9411, 9456, 9463, 9493, 9518, 9578, 9579, 9586, 9835, 9874, 9903, 9940, 9970, 10083, 10115, 10164, 10217, 10228, 10282, 10300, 10325, 10417, 10441, 10465, 10508, 10510, 10634, 10701, 10830, 10832, 10885, 10966, 11040, 11079, 11123, 11373, 11459, 11469, 11509, 11525, 11736, 11854, 11859, 11881, 11941, 12060, 12066, 12097, 12414, 12627, 12695, 12735, 12811, 12978, 13023, 13092, 13264, 13594, 13633, 13960, 13989, 14157, 14305, 14480, 14759, 14847, 14948, 14986, 15104, 15194, 15294, 15323, 15350, 16054, 16362, 16535, 16557, 16779, 16811, 16968, 16978, 17029, 17099, 17202, 17442, 17776, 17827, 18264, 18474, 18929, 19057, 19279, 19301, 19479, 19556, 19680, 19724, 19744, 20151, 20327, 20573, 20647, 20691, 20696, 20849, 21080, 21564, 21685, 21863, 21893, 21958, 22468, 22538, 23855, 24112, 24137, 24198, 24738, 24917, 25269, 25542, 25666, 26000, 26026, 26728, 27468, 27513, 27951, 28438, 28663, 29062, 29650, 30235, 30514, 30612, 31448, 31467, 31950, 32576, 33000, 33058, 33613, 33643, 34095, 34143, 34774, 35161, 35904, 37159, 37240, 37716, 38806, 39549, 39641, 39941, 40125, 40413, 41650, 41906, 42092, 42313, 42334, 42940, 43464, 44940, 45260, 45508, 46054, 47128, 47358, 47721, 50539, 51571, 51899, 54734, 54779, 55202, 55398, 55633, 55696, 56950, 57472, 59040, 59964, 60918, 61262, 64746, 64850, 65149, 65260, 65309, 66824, 68290, 68610, 70212, 73584, 76659, 80227, 80871, 81908, 82011, 84885, 87991, 93790, 94172, 94644, 102620, 103050, 104952, 104966, 110172, 111502, 111745, 111785, 112830, 121234, 124753, 125026, 140432, 147918, 162816, 164528, 191207, 191324, 205934, 220447, 229733, 251269, 252207, 277100, 319133, 453213, 457509, 497910, 665792, 1110282]\n",
            "Unique values in Lifetime Engaged Users:\n",
            "[9, 15, 17, 24, 25, 37, 66, 84, 97, 103, 108, 111, 118, 121, 128, 130, 131, 134, 135, 143, 144, 163, 165, 170, 176, 177, 178, 186, 192, 193, 195, 197, 199, 200, 204, 206, 207, 208, 210, 211, 212, 214, 217, 224, 226, 229, 230, 232, 236, 237, 249, 251, 252, 257, 260, 263, 266, 268, 273, 277, 280, 282, 287, 288, 298, 303, 304, 306, 310, 311, 316, 318, 320, 321, 322, 323, 324, 330, 338, 339, 343, 344, 345, 346, 347, 355, 356, 357, 360, 363, 365, 368, 369, 370, 371, 372, 374, 376, 377, 384, 385, 389, 390, 391, 392, 393, 394, 398, 399, 417, 421, 423, 424, 428, 435, 436, 438, 444, 448, 451, 452, 454, 455, 459, 463, 466, 469, 470, 471, 473, 474, 477, 479, 481, 484, 487, 491, 494, 498, 504, 509, 512, 513, 515, 517, 518, 519, 522, 523, 524, 526, 528, 529, 536, 537, 538, 541, 544, 545, 546, 548, 550, 552, 555, 560, 562, 564, 565, 566, 569, 571, 572, 574, 577, 579, 581, 583, 584, 587, 588, 589, 596, 598, 601, 602, 603, 604, 607, 610, 612, 621, 622, 624, 625, 626, 630, 631, 642, 644, 647, 657, 658, 662, 664, 666, 669, 671, 676, 678, 679, 684, 685, 689, 691, 692, 699, 700, 701, 702, 703, 705, 708, 711, 714, 715, 718, 722, 724, 726, 729, 732, 733, 734, 735, 736, 739, 741, 746, 750, 753, 756, 757, 758, 759, 768, 769, 780, 785, 791, 802, 806, 810, 813, 823, 830, 838, 840, 842, 844, 845, 857, 863, 868, 870, 877, 884, 887, 892, 895, 905, 908, 909, 913, 936, 946, 949, 951, 956, 957, 962, 964, 973, 975, 979, 985, 997, 1004, 1005, 1006, 1007, 1016, 1020, 1029, 1032, 1043, 1049, 1052, 1053, 1061, 1062, 1066, 1095, 1096, 1117, 1132, 1141, 1150, 1151, 1160, 1166, 1179, 1188, 1191, 1215, 1237, 1239, 1245, 1264, 1291, 1341, 1355, 1359, 1362, 1364, 1373, 1374, 1382, 1383, 1393, 1400, 1407, 1409, 1411, 1418, 1429, 1457, 1462, 1473, 1476, 1480, 1512, 1521, 1530, 1539, 1557, 1573, 1576, 1591, 1599, 1620, 1631, 1635, 1636, 1653, 1666, 1684, 1701, 1706, 1713, 1762, 1779, 1784, 1805, 1810, 1843, 1850, 1876, 1933, 1954, 1967, 2003, 2055, 2080, 2087, 2101, 2105, 2143, 2211, 2240, 2283, 2295, 2298, 2299, 2348, 2417, 2482, 2543, 2552, 2573, 2579, 2624, 2664, 2675, 2728, 2733, 2750, 2806, 2827, 2889, 2969, 3000, 3216, 3370, 3572, 3742, 3872, 3984, 4258, 4544, 4840, 5352, 6164, 8072, 11452]\n",
            "Unique values in Lifetime Post Consumers:\n",
            "[9, 15, 17, 23, 25, 37, 59, 63, 65, 71, 76, 83, 86, 88, 90, 104, 108, 109, 113, 115, 118, 119, 123, 124, 126, 127, 130, 131, 134, 142, 144, 145, 156, 158, 167, 168, 171, 173, 181, 182, 183, 184, 185, 189, 192, 194, 201, 203, 204, 205, 206, 213, 216, 218, 219, 220, 223, 228, 232, 237, 238, 243, 245, 246, 251, 254, 257, 260, 265, 268, 271, 280, 282, 283, 284, 286, 287, 288, 289, 295, 297, 298, 304, 306, 309, 314, 315, 316, 319, 321, 322, 323, 324, 325, 330, 331, 333, 334, 335, 337, 342, 344, 345, 348, 351, 352, 354, 356, 359, 360, 361, 365, 366, 370, 374, 381, 383, 388, 390, 392, 395, 398, 405, 406, 408, 409, 410, 411, 415, 418, 422, 424, 430, 431, 432, 433, 434, 435, 437, 440, 444, 446, 447, 450, 452, 453, 455, 458, 460, 461, 467, 473, 474, 477, 478, 479, 481, 482, 483, 484, 485, 488, 492, 493, 495, 496, 497, 498, 503, 505, 507, 508, 509, 512, 513, 522, 523, 524, 526, 528, 529, 530, 539, 542, 544, 545, 546, 547, 548, 549, 554, 555, 556, 559, 560, 561, 564, 565, 566, 568, 569, 570, 572, 574, 575, 582, 586, 587, 591, 592, 594, 597, 602, 607, 614, 616, 618, 620, 623, 625, 626, 627, 631, 632, 633, 638, 639, 640, 642, 646, 648, 652, 654, 655, 656, 658, 659, 670, 671, 672, 676, 678, 681, 683, 684, 695, 700, 705, 706, 708, 712, 713, 715, 716, 720, 724, 725, 726, 727, 730, 733, 740, 742, 756, 759, 770, 779, 783, 790, 808, 827, 834, 837, 838, 843, 847, 860, 861, 863, 872, 875, 884, 890, 901, 906, 911, 916, 918, 923, 930, 933, 934, 937, 938, 940, 944, 947, 953, 963, 975, 984, 991, 993, 994, 995, 1002, 1016, 1023, 1029, 1032, 1037, 1038, 1054, 1058, 1065, 1068, 1071, 1073, 1078, 1087, 1096, 1099, 1103, 1105, 1106, 1111, 1115, 1130, 1138, 1143, 1156, 1175, 1183, 1189, 1209, 1218, 1229, 1242, 1264, 1268, 1270, 1271, 1288, 1313, 1326, 1330, 1333, 1334, 1339, 1342, 1346, 1354, 1361, 1367, 1381, 1397, 1401, 1407, 1408, 1412, 1426, 1441, 1450, 1462, 1479, 1480, 1485, 1490, 1537, 1570, 1577, 1599, 1622, 1633, 1635, 1637, 1643, 1702, 1724, 1732, 1735, 1800, 1819, 1877, 1912, 1921, 1956, 1966, 2079, 2127, 2190, 2193, 2235, 2254, 2288, 2300, 2319, 2327, 2420, 2438, 2448, 2457, 2495, 2531, 2567, 2570, 2584, 2628, 2654, 2781, 2833, 3244, 3464, 3586, 3682, 3822, 4010, 4100, 4754, 5202, 5934, 11328]\n",
            "Unique values in Lifetime Post Consumptions:\n",
            "[9, 19, 20, 26, 31, 49, 55, 70, 71, 95, 97, 99, 111, 112, 118, 126, 130, 133, 141, 143, 145, 148, 149, 153, 154, 159, 167, 168, 170, 184, 202, 211, 219, 221, 223, 224, 226, 239, 247, 249, 250, 251, 252, 258, 264, 265, 286, 287, 289, 292, 297, 299, 301, 303, 305, 308, 318, 323, 325, 327, 329, 331, 337, 339, 345, 352, 354, 360, 364, 379, 383, 387, 389, 392, 396, 401, 402, 412, 414, 415, 417, 423, 424, 428, 430, 431, 433, 440, 443, 445, 450, 458, 460, 463, 469, 476, 477, 482, 483, 486, 487, 494, 495, 497, 501, 505, 507, 510, 512, 513, 518, 521, 523, 525, 529, 530, 534, 539, 540, 542, 544, 547, 552, 561, 569, 571, 577, 580, 581, 583, 588, 591, 596, 597, 599, 602, 604, 609, 613, 616, 622, 629, 631, 632, 633, 641, 644, 645, 650, 652, 653, 658, 663, 667, 669, 672, 675, 676, 677, 678, 683, 687, 688, 695, 701, 710, 713, 715, 717, 719, 720, 721, 723, 724, 727, 729, 730, 731, 735, 740, 742, 743, 757, 763, 766, 767, 768, 770, 771, 772, 775, 781, 785, 787, 788, 794, 795, 805, 822, 832, 833, 834, 836, 838, 842, 847, 848, 850, 852, 857, 861, 862, 863, 864, 867, 869, 870, 872, 874, 878, 880, 881, 882, 885, 886, 889, 892, 897, 906, 909, 913, 920, 923, 926, 930, 931, 934, 937, 940, 943, 948, 951, 952, 957, 966, 969, 979, 984, 985, 990, 995, 1000, 1003, 1005, 1014, 1020, 1021, 1028, 1033, 1034, 1048, 1049, 1063, 1072, 1078, 1082, 1097, 1106, 1116, 1119, 1126, 1140, 1147, 1153, 1157, 1158, 1165, 1173, 1181, 1192, 1197, 1211, 1226, 1229, 1236, 1237, 1243, 1254, 1267, 1268, 1274, 1278, 1290, 1326, 1328, 1336, 1341, 1345, 1348, 1359, 1370, 1380, 1388, 1389, 1390, 1399, 1408, 1410, 1419, 1420, 1422, 1425, 1427, 1438, 1441, 1448, 1452, 1461, 1469, 1489, 1512, 1526, 1560, 1571, 1612, 1618, 1619, 1632, 1641, 1652, 1655, 1674, 1678, 1690, 1692, 1697, 1711, 1725, 1728, 1746, 1751, 1797, 1834, 1837, 1850, 1871, 1874, 1878, 1897, 1926, 1932, 1952, 1967, 1971, 1977, 1990, 2007, 2022, 2042, 2048, 2051, 2085, 2089, 2106, 2110, 2123, 2136, 2170, 2201, 2251, 2286, 2331, 2356, 2418, 2438, 2493, 2506, 2567, 2576, 2632, 2654, 2718, 2720, 2737, 2741, 2755, 2779, 2801, 2824, 2828, 2838, 2895, 2969, 3000, 3098, 3153, 3179, 3183, 3214, 3253, 3289, 3311, 3383, 3391, 3395, 3400, 3412, 3420, 3599, 3627, 3645, 3932, 3941, 4074, 4540, 4550, 4596, 4782, 4802, 4906, 5106, 5906, 6017, 6242, 6547, 6591, 6624, 7327, 7854, 7980, 8049, 8308, 8415, 9237, 9614, 11064, 12074, 14974, 18115, 19779]\n",
            "Unique values in Lifetime Post Impressions by people who have liked your Page:\n",
            "[567, 721, 723, 935, 943, 951, 989, 1041, 1055, 1098, 1210, 1249, 1252, 1284, 1351, 1390, 1401, 1402, 1430, 1475, 1483, 1503, 1585, 1604, 1614, 1705, 1794, 1868, 1911, 1924, 2116, 2154, 2161, 2195, 2196, 2205, 2226, 2289, 2293, 2307, 2313, 2330, 2373, 2392, 2541, 2545, 2551, 2570, 2598, 2612, 2757, 2812, 2873, 2888, 2903, 2964, 2970, 3017, 3020, 3031, 3039, 3047, 3052, 3078, 3086, 3112, 3120, 3121, 3128, 3147, 3180, 3188, 3189, 3227, 3238, 3247, 3273, 3295, 3302, 3332, 3342, 3346, 3351, 3353, 3382, 3399, 3418, 3476, 3484, 3501, 3519, 3521, 3537, 3559, 3561, 3574, 3579, 3586, 3601, 3631, 3655, 3668, 3675, 3681, 3691, 3708, 3764, 3779, 3802, 3821, 3832, 3834, 3840, 3857, 3861, 3887, 3901, 3927, 3961, 3963, 3972, 3993, 4010, 4046, 4101, 4111, 4114, 4166, 4200, 4208, 4215, 4229, 4249, 4263, 4309, 4319, 4343, 4347, 4371, 4401, 4404, 4406, 4428, 4440, 4441, 4446, 4447, 4480, 4485, 4487, 4491, 4509, 4518, 4530, 4534, 4550, 4569, 4578, 4605, 4606, 4607, 4625, 4632, 4642, 4650, 4658, 4664, 4700, 4708, 4742, 4747, 4750, 4760, 4799, 4831, 4846, 4908, 4911, 4914, 4930, 4932, 4935, 4954, 4955, 4972, 4976, 4986, 5005, 5009, 5010, 5011, 5014, 5026, 5040, 5057, 5063, 5069, 5079, 5123, 5156, 5161, 5183, 5187, 5225, 5249, 5307, 5340, 5362, 5416, 5485, 5493, 5503, 5640, 5648, 5651, 5654, 5681, 5685, 5696, 5700, 5732, 5757, 5768, 5782, 5827, 5860, 5867, 5901, 5904, 5914, 5936, 6021, 6032, 6085, 6086, 6101, 6173, 6200, 6201, 6228, 6253, 6258, 6279, 6282, 6285, 6315, 6336, 6338, 6380, 6423, 6461, 6549, 6600, 6625, 6630, 6651, 6661, 6677, 6733, 6734, 6823, 6838, 6866, 6890, 6896, 6932, 6937, 6951, 6956, 7034, 7037, 7041, 7048, 7055, 7072, 7196, 7243, 7283, 7316, 7326, 7389, 7407, 7420, 7431, 7451, 7549, 7682, 7692, 7723, 7736, 7886, 7910, 7956, 8146, 8149, 8188, 8242, 8294, 8391, 8419, 8452, 8471, 8536, 8627, 8632, 8753, 8774, 8855, 8872, 8907, 8964, 9065, 9103, 9105, 9122, 9183, 9217, 9342, 9348, 9376, 9389, 9403, 9562, 9579, 9670, 9684, 9781, 9837, 10266, 10987, 11148, 11276, 11280, 11519, 11710, 11744, 11853, 11860, 11885, 11970, 12078, 12522, 12716, 12905, 12996, 13246, 13272, 13498, 13544, 13546, 13618, 13674, 13737, 13786, 13838, 13858, 13876, 13887, 13919, 14014, 14091, 14425, 14450, 14475, 14636, 14792, 15066, 15220, 15382, 15418, 15432, 15678, 15766, 15779, 15850, 15917, 15973, 16018, 16034, 16095, 16132, 16634, 16682, 16890, 16914, 17272, 17365, 17502, 17627, 17717, 17748, 17809, 17842, 18035, 18310, 18580, 18838, 19078, 19409, 19599, 19728, 19738, 20024, 20030, 20198, 20270, 20547, 21009, 21436, 22022, 22100, 22103, 22130, 22710, 22864, 22904, 22907, 23135, 23338, 23584, 23679, 24010, 24034, 24363, 24667, 25539, 25584, 25610, 26514, 26622, 26701, 26832, 26869, 26881, 27771, 28247, 30131, 31096, 32021, 32033, 32470, 32646, 32842, 34415, 34802, 35455, 35637, 35707, 35977, 37816, 37849, 39304, 40181, 40203, 41207, 42128, 42338, 43671, 43980, 46252, 46700, 47899, 47976, 47977, 48466, 48575, 48765, 50076, 52477, 54653, 54860, 56149, 57722, 59658, 61027, 66311, 70249, 72846, 78287, 78678, 81938, 84046, 92348, 92512, 107502, 108752, 122474, 160270, 184270, 648611, 1107833]\n",
            "Unique values in Lifetime Post reach by people who like your Page:\n",
            "[236, 380, 450, 511, 516, 521, 554, 576, 580, 588, 615, 632, 650, 651, 660, 690, 695, 704, 717, 782, 827, 858, 870, 915, 934, 953, 1005, 1008, 1050, 1062, 1077, 1118, 1120, 1161, 1172, 1180, 1214, 1228, 1232, 1306, 1354, 1377, 1389, 1406, 1407, 1408, 1435, 1443, 1454, 1469, 1495, 1503, 1507, 1510, 1519, 1529, 1539, 1557, 1560, 1603, 1605, 1621, 1622, 1640, 1674, 1676, 1684, 1702, 1722, 1723, 1727, 1740, 1761, 1772, 1780, 1788, 1791, 1794, 1796, 1806, 1846, 1848, 1853, 1882, 1890, 1901, 1917, 1943, 1946, 1963, 1966, 1968, 1992, 1999, 2012, 2020, 2040, 2044, 2063, 2067, 2072, 2078, 2098, 2100, 2101, 2104, 2110, 2112, 2124, 2126, 2138, 2144, 2148, 2162, 2174, 2184, 2196, 2200, 2208, 2218, 2236, 2254, 2260, 2274, 2280, 2301, 2324, 2326, 2330, 2352, 2362, 2388, 2390, 2392, 2410, 2412, 2420, 2422, 2426, 2432, 2452, 2468, 2508, 2512, 2528, 2530, 2540, 2556, 2584, 2590, 2598, 2604, 2614, 2616, 2620, 2628, 2644, 2650, 2660, 2664, 2672, 2686, 2690, 2694, 2704, 2710, 2712, 2726, 2730, 2746, 2752, 2754, 2764, 2772, 2782, 2800, 2806, 2812, 2818, 2820, 2826, 2830, 2842, 2846, 2852, 2862, 2868, 2876, 2894, 2930, 2938, 2954, 2974, 2992, 3008, 3068, 3082, 3094, 3098, 3100, 3106, 3114, 3136, 3144, 3162, 3164, 3198, 3200, 3204, 3206, 3216, 3224, 3230, 3244, 3256, 3260, 3290, 3298, 3300, 3302, 3312, 3322, 3324, 3336, 3370, 3404, 3412, 3422, 3466, 3478, 3492, 3494, 3502, 3546, 3578, 3588, 3606, 3608, 3612, 3634, 3672, 3708, 3714, 3716, 3730, 3742, 3758, 3768, 3788, 3794, 3804, 3856, 3864, 3892, 3916, 3920, 3992, 3996, 3998, 4012, 4016, 4024, 4040, 4046, 4054, 4088, 4120, 4136, 4184, 4206, 4212, 4232, 4234, 4280, 4288, 4292, 4320, 4418, 4454, 4528, 4560, 4664, 4692, 4696, 4712, 4716, 4732, 4736, 4748, 4764, 4776, 4830, 4864, 4876, 4880, 4884, 4968, 5024, 5100, 5124, 5132, 5180, 5232, 5244, 5248, 5296, 5348, 5352, 5372, 5388, 5472, 5640, 5696, 5752, 5840, 5916, 6112, 6200, 6260, 6616, 6632, 6664, 6672, 6752, 6796, 6864, 6964, 7020, 7024, 7092, 7096, 7200, 7208, 7344, 7360, 7456, 7616, 7624, 7632, 7636, 7736, 7760, 7800, 7852, 7880, 7912, 7984, 8004, 8032, 8048, 8120, 8176, 8460, 8536, 8548, 8560, 8608, 8844, 8848, 8964, 8972, 8980, 9064, 9328, 9344, 9568, 9712, 9768, 9824, 10144, 10160, 10208, 10232, 10280, 10336, 10384, 10400, 10432, 10564, 10568, 10584, 10720, 10840, 10880, 10968, 11008, 11056, 11120, 11328, 11392, 11408, 11760, 11792, 11800, 11912, 12624, 12704, 12888, 12920, 12992, 13184, 13296, 13304, 13312, 13344, 13376, 13528, 13560, 13656, 14056, 14080, 14112, 14224, 14728, 14792, 14848, 14912, 14920, 15056, 15552, 15744, 15808, 16096, 16464, 16480, 16960, 17104, 17528, 17592, 18048, 18880, 18952, 19312, 19712, 19744, 19840, 19968, 20608, 20928, 21328, 21352, 21928, 22016, 22816, 23440, 24224, 24448, 24512, 24720, 25024, 25424, 25888, 27232, 27328, 27392, 30720, 30912, 31648, 32048, 32384, 34352, 34368, 34880, 37408, 38720, 39776, 47488, 48368, 51456]\n",
            "Unique values in Lifetime People who have liked your Page and engaged with your post:\n",
            "[9, 15, 17, 19, 32, 33, 58, 59, 76, 77, 92, 93, 99, 100, 101, 106, 114, 119, 123, 126, 131, 132, 134, 137, 138, 140, 143, 152, 154, 156, 157, 161, 165, 166, 167, 168, 169, 171, 172, 173, 175, 176, 180, 181, 182, 183, 184, 185, 187, 191, 194, 196, 199, 200, 201, 204, 205, 211, 217, 220, 221, 222, 230, 232, 233, 234, 236, 237, 239, 240, 244, 246, 247, 248, 251, 252, 253, 257, 259, 262, 263, 265, 266, 267, 268, 269, 271, 273, 275, 277, 278, 279, 280, 283, 287, 288, 289, 291, 293, 297, 298, 300, 301, 305, 306, 307, 309, 314, 315, 316, 319, 322, 323, 327, 328, 331, 333, 335, 336, 340, 341, 342, 344, 345, 346, 347, 348, 349, 351, 354, 355, 357, 360, 361, 363, 365, 367, 368, 370, 371, 372, 375, 376, 377, 379, 382, 383, 384, 385, 387, 389, 390, 391, 392, 393, 395, 396, 397, 398, 399, 401, 402, 403, 404, 407, 408, 411, 413, 414, 416, 417, 420, 421, 422, 423, 428, 429, 431, 432, 435, 436, 437, 438, 439, 440, 441, 445, 446, 447, 448, 451, 453, 454, 456, 459, 460, 461, 462, 463, 465, 466, 467, 469, 470, 471, 472, 475, 476, 477, 482, 483, 484, 487, 488, 489, 490, 492, 493, 495, 497, 501, 504, 505, 506, 508, 512, 514, 516, 519, 530, 536, 537, 538, 546, 555, 556, 557, 559, 563, 569, 570, 572, 575, 576, 583, 584, 590, 593, 594, 597, 598, 604, 606, 621, 628, 630, 635, 636, 642, 646, 650, 656, 657, 660, 662, 670, 676, 677, 683, 684, 697, 699, 701, 704, 705, 706, 708, 722, 724, 729, 732, 737, 740, 742, 757, 758, 760, 762, 774, 788, 796, 801, 814, 827, 843, 865, 876, 884, 885, 907, 920, 924, 956, 975, 977, 981, 985, 995, 998, 1008, 1016, 1020, 1034, 1035, 1052, 1075, 1086, 1101, 1103, 1108, 1146, 1162, 1185, 1200, 1225, 1233, 1250, 1275, 1276, 1278, 1292, 1307, 1331, 1349, 1353, 1354, 1356, 1376, 1386, 1392, 1395, 1513, 1542, 1564, 1568, 1578, 1604, 1609, 1613, 1661, 1716, 1724, 1756, 1779, 1790, 1831, 1834, 1839, 1905, 1936, 1975, 1978, 2021, 2099, 2119, 2126, 2218, 2252, 2256, 2278, 2342, 2361, 2602, 2806, 3014, 3300, 3316, 3430, 3798, 4104, 4318, 4376]\n",
            "Unique values in comment:\n",
            "[0, 1, 2, 3, 4, 5, 6, 7, 8, 9, 10, 11, 12, 13, 14, 15, 16, 17, 18, 19, 20, 21, 22, 23, 24, 25, 26, 29, 30, 33, 36, 37, 38, 41, 42, 45, 47, 51, 56, 58, 60, 64, 103, 144, 146, 372]\n",
            "Unique values in like:\n",
            "[0.0, 1.0, 2.0, 3.0, 4.0, 5.0, 6.0, 7.0, 8.0, 9.0, 11.0, 12.0, 13.0, 14.0, 15.0, 16.0, 17.0, 18.0, 19.0, 22.0, 23.0, 24.0, 25.0, 26.0, 27.0, 28.0, 29.0, 30.0, 32.0, 33.0, 34.0, 35.0, 36.0, 37.0, 38.0, 39.0, 40.0, 41.0, 42.0, 43.0, 44.0, 46.0, 47.0, 48.0, 49.0, 50.0, 51.0, 52.0, 53.0, 54.0, 55.0, 56.0, 57.0, 58.0, 59.0, 60.0, 61.0, 62.0, 63.0, 64.0, 65.0, 66.0, 67.0, 68.0, 69.0, 71.0, 72.0, 73.0, 74.0, 75.0, 76.0, 77.0, 78.0, 79.0, 80.0, 81.0, 82.0, 84.0, 85.0, 86.0, 87.0, 88.0, 89.0, 90.0, 91.0, 92.0, 93.0, 94.0, 95.0, 96.0, 97.0, 98.0, 99.0, 100.0, 101.0, 102.0, 104.0, 105.0, 107.0, 109.0, 111.0, 112.0, 113.0, 114.0, 115.0, 117.0, 118.0, 124.0, 125.0, 126.0, 127.0, 128.0, 129.0, 130.0, 134.0, 136.0, 137.0, 138.0, 139.0, 140.0, 141.0, 142.0, 143.0, 144.0, 145.0, 146.0, 148.0, 150.0, 152.0, 153.0, 154.0, 155.0, 156.0, 159.0, 160.0, 161.0, 162.0, 163.0, 164.0, 165.0, 166.0, 167.0, 168.0, 172.0, 174.0, 176.0, 179.0, 180.0, 181.0, 185.0, 186.0, 187.0, 188.0, 189.0, 190.0, 193.0, 194.0, 197.0, 198.0, 199.0, 200.0, 202.0, 204.0, 208.0, 210.0, 211.0, 212.0, 213.0, 214.0, 215.0, 216.0, 217.0, 219.0, 220.0, 223.0, 226.0, 227.0, 231.0, 233.0, 234.0, 235.0, 236.0, 237.0, 238.0, 243.0, 244.0, 249.0, 250.0, 256.0, 264.0, 267.0, 268.0, 270.0, 277.0, 278.0, 285.0, 286.0, 290.0, 301.0, 302.0, 304.0, 307.0, 310.0, 315.0, 319.0, 325.0, 328.0, 329.0, 330.0, 331.0, 332.0, 345.0, 358.0, 360.0, 363.0, 367.0, 370.0, 377.0, 379.0, 400.0, 407.0, 411.0, 412.0, 431.0, 435.0, 442.0, 447.0, 449.0, 469.0, 484.0, 485.0, 523.0, 529.0, 534.0, 535.0, 577.0, 579.0, 617.0, 664.0, 678.0, 696.0, 697.0, 755.0, 766.0, 821.0, 859.0, 955.0, 1047.0, 1155.0, 1372.0, 1505.0, 1546.0, 1572.0, 1622.0, 1639.0, 1998.0, 5172.0, nan]\n",
            "Unique values in share:\n",
            "[0.0, 1.0, 2.0, 3.0, 4.0, 5.0, 6.0, 7.0, 8.0, 9.0, 10.0, 11.0, 12.0, 13.0, 14.0, 15.0, 16.0, 17.0, 18.0, 19.0, 20.0, 21.0, 22.0, 23.0, 24.0, 25.0, 26.0, 27.0, 28.0, 29.0, 30.0, 31.0, 32.0, 33.0, 34.0, 35.0, 36.0, 37.0, 38.0, 39.0, 40.0, 41.0, 42.0, 43.0, 44.0, 45.0, 46.0, 47.0, 49.0, 50.0, 51.0, 52.0, 53.0, 54.0, 55.0, 57.0, 58.0, 60.0, 61.0, 63.0, 64.0, 68.0, 70.0, 72.0, 74.0, 76.0, 77.0, 78.0, 79.0, 80.0, 83.0, 84.0, 90.0, 95.0, 97.0, 98.0, 99.0, 102.0, 109.0, 121.0, 122.0, 123.0, 128.0, 139.0, 147.0, 181.0, 208.0, 790.0, nan, nan, nan, nan]\n",
            "Unique values in Total Interactions:\n",
            "[0, 2, 3, 4, 5, 6, 7, 8, 9, 10, 12, 14, 15, 17, 18, 21, 24, 25, 28, 29, 30, 32, 34, 35, 36, 38, 39, 40, 41, 42, 44, 45, 46, 48, 49, 50, 53, 54, 55, 56, 57, 58, 59, 60, 61, 62, 63, 64, 65, 66, 67, 68, 69, 70, 71, 72, 73, 74, 75, 77, 79, 80, 81, 82, 83, 84, 85, 86, 87, 88, 89, 90, 91, 92, 93, 94, 95, 96, 97, 98, 99, 100, 101, 103, 104, 105, 106, 107, 108, 110, 113, 114, 115, 117, 118, 119, 120, 121, 122, 123, 124, 125, 126, 127, 128, 129, 130, 131, 132, 133, 134, 135, 136, 137, 138, 139, 142, 143, 144, 148, 149, 152, 154, 155, 157, 158, 160, 162, 163, 164, 165, 166, 167, 168, 170, 171, 172, 173, 174, 176, 178, 179, 180, 182, 183, 184, 185, 186, 188, 189, 190, 192, 193, 194, 195, 199, 200, 202, 203, 204, 208, 210, 211, 212, 214, 217, 218, 220, 222, 224, 225, 226, 228, 230, 232, 233, 234, 235, 236, 237, 238, 242, 243, 245, 249, 251, 252, 254, 255, 257, 262, 263, 264, 265, 266, 269, 271, 273, 274, 276, 279, 280, 282, 285, 287, 288, 290, 294, 295, 299, 300, 305, 309, 311, 313, 316, 330, 335, 337, 339, 342, 355, 363, 367, 376, 378, 387, 390, 393, 404, 409, 410, 420, 421, 429, 430, 441, 447, 454, 456, 458, 470, 472, 490, 494, 505, 515, 528, 550, 557, 572, 587, 596, 599, 605, 622, 624, 633, 691, 713, 730, 771, 787, 818, 823, 881, 931, 948, 1009, 1136, 1174, 1290, 1439, 1626, 1777, 1806, 1873, 1974, 2177, 6334]\n"
          ],
          "name": "stdout"
        }
      ]
    },
    {
      "cell_type": "code",
      "metadata": {
        "id": "M8CR2NsNM9al",
        "outputId": "f3adf011-adcf-413e-c0d3-3b448c4fd98a",
        "colab": {
          "base_uri": "https://localhost:8080/",
          "height": 102
        }
      },
      "source": [
        "data['Type'].value_counts()"
      ],
      "execution_count": null,
      "outputs": [
        {
          "output_type": "execute_result",
          "data": {
            "text/plain": [
              "Photo     426\n",
              "Status     45\n",
              "Link       22\n",
              "Video       7\n",
              "Name: Type, dtype: int64"
            ]
          },
          "metadata": {
            "tags": []
          },
          "execution_count": 19
        }
      ]
    },
    {
      "cell_type": "code",
      "metadata": {
        "id": "LzTjUgM870eA",
        "outputId": "73414e8c-2a7e-470e-d20f-d1d0739a6068",
        "colab": {
          "base_uri": "https://localhost:8080/",
          "height": 238
        }
      },
      "source": [
        "data['Post Month'].value_counts()"
      ],
      "execution_count": null,
      "outputs": [
        {
          "output_type": "execute_result",
          "data": {
            "text/plain": [
              "10    60\n",
              "7     52\n",
              "12    50\n",
              "4     50\n",
              "6     49\n",
              "11    45\n",
              "5     37\n",
              "9     36\n",
              "3     36\n",
              "8     34\n",
              "2     26\n",
              "1     25\n",
              "Name: Post Month, dtype: int64"
            ]
          },
          "metadata": {
            "tags": []
          },
          "execution_count": 20
        }
      ]
    },
    {
      "cell_type": "code",
      "metadata": {
        "id": "nqrccSOi9pMy"
      },
      "source": [
        "data['Paid'].value_counts()\n",
        "data['like'].fillna(0,inplace=True)\n",
        "data['share'].fillna(0,inplace=True)\n",
        "data['Paid'].fillna(0,inplace=True)"
      ],
      "execution_count": null,
      "outputs": []
    },
    {
      "cell_type": "code",
      "metadata": {
        "id": "ocak6jYK97_P",
        "outputId": "6433446f-8d13-4c7f-9aae-a949fd613801",
        "colab": {
          "base_uri": "https://localhost:8080/",
          "height": 425
        }
      },
      "source": [
        "data.info()"
      ],
      "execution_count": null,
      "outputs": [
        {
          "output_type": "stream",
          "text": [
            "<class 'pandas.core.frame.DataFrame'>\n",
            "RangeIndex: 500 entries, 0 to 499\n",
            "Data columns (total 19 columns):\n",
            "Page total likes                                                       500 non-null int64\n",
            "Type                                                                   500 non-null object\n",
            "Category                                                               500 non-null int64\n",
            "Post Month                                                             500 non-null int64\n",
            "Post Weekday                                                           500 non-null int64\n",
            "Post Hour                                                              500 non-null int64\n",
            "Paid                                                                   500 non-null float64\n",
            "Lifetime Post Total Reach                                              500 non-null int64\n",
            "Lifetime Post Total Impressions                                        500 non-null int64\n",
            "Lifetime Engaged Users                                                 500 non-null int64\n",
            "Lifetime Post Consumers                                                500 non-null int64\n",
            "Lifetime Post Consumptions                                             500 non-null int64\n",
            "Lifetime Post Impressions by people who have liked your Page           500 non-null int64\n",
            "Lifetime Post reach by people who like your Page                       500 non-null int64\n",
            "Lifetime People who have liked your Page and engaged with your post    500 non-null int64\n",
            "comment                                                                500 non-null int64\n",
            "like                                                                   500 non-null float64\n",
            "share                                                                  500 non-null float64\n",
            "Total Interactions                                                     500 non-null int64\n",
            "dtypes: float64(3), int64(15), object(1)\n",
            "memory usage: 74.3+ KB\n"
          ],
          "name": "stdout"
        }
      ]
    },
    {
      "cell_type": "code",
      "metadata": {
        "id": "aXmB5vbPb198",
        "outputId": "740f4d99-f501-4baa-aade-456c750d6f14",
        "colab": {
          "base_uri": "https://localhost:8080/",
          "height": 515
        }
      },
      "source": [
        "sns.distplot(data['Page total likes'],bins=20)\n",
        "plt.title(\"Distribution of Total Page Likes\")\n",
        "print(data['Page total likes'].describe())\n",
        "print(sum(data['Page total likes'] == 0)/float(len(data)))"
      ],
      "execution_count": null,
      "outputs": [
        {
          "output_type": "stream",
          "text": [
            "count       500.000000\n",
            "mean     123194.176000\n",
            "std       16272.813214\n",
            "min       81370.000000\n",
            "25%      112676.000000\n",
            "50%      129600.000000\n",
            "75%      136393.000000\n",
            "max      139441.000000\n",
            "Name: Page total likes, dtype: float64\n",
            "0.0\n"
          ],
          "name": "stdout"
        },
        {
          "output_type": "stream",
          "text": [
            "/usr/local/lib/python3.6/dist-packages/matplotlib/axes/_axes.py:6521: MatplotlibDeprecationWarning: \n",
            "The 'normed' kwarg was deprecated in Matplotlib 2.1 and will be removed in 3.1. Use 'density' instead.\n",
            "  alternative=\"'density'\", removal=\"3.1\")\n"
          ],
          "name": "stderr"
        },
        {
          "output_type": "display_data",
          "data": {
            "image/png": "[encoded data removed]",
            "text/plain": [
              "<Figure size 432x288 with 1 Axes>"
            ]
          },
          "metadata": {
            "tags": []
          }
        }
      ]
    },
    {
      "cell_type": "code",
      "metadata": {
        "id": "by_r0TdDK3Sz",
        "outputId": "abd8e51a-ebfd-4104-ed96-e9e937e09ad0",
        "colab": {
          "base_uri": "https://localhost:8080/",
          "height": 503
        }
      },
      "source": [
        "sns.countplot(data['Post Month'],palette='viridis')\n",
        "print(data['Post Month'].describe())\n",
        "print(sum(data['Post Month'] == 0)/float(len(data)))"
      ],
      "execution_count": null,
      "outputs": [
        {
          "output_type": "stream",
          "text": [
            "/usr/local/lib/python3.6/dist-packages/seaborn/categorical.py:1428: FutureWarning: remove_na is deprecated and is a private function. Do not use.\n",
            "  stat_data = remove_na(group_data)\n"
          ],
          "name": "stderr"
        },
        {
          "output_type": "stream",
          "text": [
            "count    500.000000\n",
            "mean       7.038000\n",
            "std        3.307936\n",
            "min        1.000000\n",
            "25%        4.000000\n",
            "50%        7.000000\n",
            "75%       10.000000\n",
            "max       12.000000\n",
            "Name: Post Month, dtype: float64\n",
            "0.0\n"
          ],
          "name": "stdout"
        },
        {
          "output_type": "display_data",
          "data": {
            "image/png": "[encoded data removed]",
            "text/plain": [
              "<Figure size 432x288 with 1 Axes>"
            ]
          },
          "metadata": {
            "tags": []
          }
        }
      ]
    },
    {
      "cell_type": "code",
      "metadata": {
        "id": "0GuhZOwfUShp",
        "outputId": "abe08a76-9101-4aad-e21f-7cea5f702ca0",
        "colab": {
          "base_uri": "https://localhost:8080/",
          "height": 503
        }
      },
      "source": [
        "sns.countplot(data['Category'],palette='viridis')\n",
        "print(data['Category'].describe())\n",
        "print(sum(data['Category'] == 0)/float(len(data)))"
      ],
      "execution_count": null,
      "outputs": [
        {
          "output_type": "stream",
          "text": [
            "count    500.000000\n",
            "mean       1.880000\n",
            "std        0.852675\n",
            "min        1.000000\n",
            "25%        1.000000\n",
            "50%        2.000000\n",
            "75%        3.000000\n",
            "max        3.000000\n",
            "Name: Category, dtype: float64\n",
            "0.0\n"
          ],
          "name": "stdout"
        },
        {
          "output_type": "stream",
          "text": [
            "/usr/local/lib/python3.6/dist-packages/seaborn/categorical.py:1428: FutureWarning: remove_na is deprecated and is a private function. Do not use.\n",
            "  stat_data = remove_na(group_data)\n"
          ],
          "name": "stderr"
        },
        {
          "output_type": "display_data",
          "data": {
            "image/png": "[encoded data removed]",
            "text/plain": [
              "<Figure size 432x288 with 1 Axes>"
            ]
          },
          "metadata": {
            "tags": []
          }
        }
      ]
    },
    {
      "cell_type": "code",
      "metadata": {
        "id": "StEUr6E7dD3V",
        "outputId": "481b3092-b86e-4366-defa-4404e3231df3",
        "colab": {
          "base_uri": "https://localhost:8080/",
          "height": 370
        }
      },
      "source": [
        "from collections import OrderedDict\n",
        "sns.set_style(\"whitegrid\")\n",
        "\n",
        "f, ax = plt.subplots()\n",
        "sns.countplot(data['Post Weekday'],palette='viridis')\n",
        "handles = [\"Su\", \"M\", \"Tu\", \"W\", \"Th\", \"F\",'Sa']\n",
        "labels = [0,1,2,3,4,5,6]\n",
        "plt.xticks(labels, handles)\n",
        "ax.set_ylabel(\"Frequency\")\n",
        "sns.despine(offset = 5, trim = True)\n",
        "plt.title(\"Frequency of Posts by Weekday\")"
      ],
      "execution_count": null,
      "outputs": [
        {
          "output_type": "stream",
          "text": [
            "/usr/local/lib/python3.6/dist-packages/seaborn/categorical.py:1428: FutureWarning: remove_na is deprecated and is a private function. Do not use.\n",
            "  stat_data = remove_na(group_data)\n"
          ],
          "name": "stderr"
        },
        {
          "output_type": "execute_result",
          "data": {
            "text/plain": [
              "Text(0.5, 1.0, 'Frequency of Posts by Weekday')"
            ]
          },
          "metadata": {
            "tags": []
          },
          "execution_count": 26
        },
        {
          "output_type": "display_data",
          "data": {
            "image/png": "[encoded data removed]",
            "text/plain": [
              "<Figure size 432x288 with 1 Axes>"
            ]
          },
          "metadata": {
            "tags": []
          }
        }
      ]
    },
    {
      "cell_type": "code",
      "metadata": {
        "id": "LAm5nGIUdKZ9",
        "outputId": "fbb75c72-043f-4a42-e464-aa4ff872e753",
        "colab": {
          "base_uri": "https://localhost:8080/",
          "height": 370
        }
      },
      "source": [
        "sns.set_style(\"whitegrid\")\n",
        "\n",
        "f, ax = plt.subplots()\n",
        "sns.countplot(data['Post Hour'],palette='viridis',)\n",
        "#handles = [\"Su\", \"M\", \"Tu\", \"W\", \"Th\", \"F\",'Sa']\n",
        "#labels = [0,1,2,3,4,5,6]\n",
        "#plt.xticks(labels, handles)\n",
        "ax.set_ylabel(\"Frequency\")\n",
        "sns.despine(offset = 5, trim = True)\n",
        "plt.title(\"Frequency of Posts by Hour\")"
      ],
      "execution_count": null,
      "outputs": [
        {
          "output_type": "stream",
          "text": [
            "/usr/local/lib/python3.6/dist-packages/seaborn/categorical.py:1428: FutureWarning: remove_na is deprecated and is a private function. Do not use.\n",
            "  stat_data = remove_na(group_data)\n"
          ],
          "name": "stderr"
        },
        {
          "output_type": "execute_result",
          "data": {
            "text/plain": [
              "Text(0.5, 1.0, 'Frequency of Posts by Hour')"
            ]
          },
          "metadata": {
            "tags": []
          },
          "execution_count": 27
        },
        {
          "output_type": "display_data",
          "data": {
            "image/png": "[encoded data removed]",
            "text/plain": [
              "<Figure size 432x288 with 1 Axes>"
            ]
          },
          "metadata": {
            "tags": []
          }
        }
      ]
    },
    {
      "cell_type": "code",
      "metadata": {
        "id": "cYQxPRk2dXNj",
        "outputId": "f055d246-4cc6-4f90-e43a-7e9d7b467ef5",
        "colab": {
          "base_uri": "https://localhost:8080/",
          "height": 474
        }
      },
      "source": [
        "plt.figure(figsize=(8,6))\n",
        "sns.boxplot(x='Post Weekday',y='like',data=data,palette='viridis')\n",
        "plt.ylim(0,750)\n",
        "plt.title(\"Distribution of Likes/Post by Weekday Posted\")\n",
        "plt.ylabel(\"# of Likes\")"
      ],
      "execution_count": null,
      "outputs": [
        {
          "output_type": "stream",
          "text": [
            "/usr/local/lib/python3.6/dist-packages/seaborn/categorical.py:454: FutureWarning: remove_na is deprecated and is a private function. Do not use.\n",
            "  box_data = remove_na(group_data)\n"
          ],
          "name": "stderr"
        },
        {
          "output_type": "execute_result",
          "data": {
            "text/plain": [
              "Text(0, 0.5, '# of Likes')"
            ]
          },
          "metadata": {
            "tags": []
          },
          "execution_count": 28
        },
        {
          "output_type": "display_data",
          "data": {
            "image/png": "[encoded data removed]",
            "text/plain": [
              "<Figure size 576x432 with 1 Axes>"
            ]
          },
          "metadata": {
            "tags": []
          }
        }
      ]
    },
    {
      "cell_type": "code",
      "metadata": {
        "id": "ZMIWLfI4-Y82",
        "outputId": "1f45f37c-4fdd-46ed-b085-da5fe13f9e1f",
        "colab": {
          "base_uri": "https://localhost:8080/",
          "height": 503
        }
      },
      "source": [
        "sns.countplot(data['Paid'],palette='viridis')\n",
        "print(data['Paid'].describe())\n",
        "print(sum(data['Paid'] == 0)/float(len(data)))"
      ],
      "execution_count": null,
      "outputs": [
        {
          "output_type": "stream",
          "text": [
            "/usr/local/lib/python3.6/dist-packages/seaborn/categorical.py:1428: FutureWarning: remove_na is deprecated and is a private function. Do not use.\n",
            "  stat_data = remove_na(group_data)\n"
          ],
          "name": "stderr"
        },
        {
          "output_type": "stream",
          "text": [
            "count    500.000000\n",
            "mean       0.278000\n",
            "std        0.448462\n",
            "min        0.000000\n",
            "25%        0.000000\n",
            "50%        0.000000\n",
            "75%        1.000000\n",
            "max        1.000000\n",
            "Name: Paid, dtype: float64\n",
            "0.722\n"
          ],
          "name": "stdout"
        },
        {
          "output_type": "display_data",
          "data": {
            "image/png": "[encoded data removed]",
            "text/plain": [
              "<Figure size 432x288 with 1 Axes>"
            ]
          },
          "metadata": {
            "tags": []
          }
        }
      ]
    },
    {
      "cell_type": "code",
      "metadata": {
        "id": "Q-WS21-bdjIc",
        "outputId": "8d6ef830-d50c-472f-e7c0-ecdb7f02137b",
        "colab": {
          "base_uri": "https://localhost:8080/",
          "height": 474
        }
      },
      "source": [
        "plt.figure(figsize=(8,6))\n",
        "sns.boxplot(x='Post Weekday',y='like',hue='Paid',data=data,palette='viridis')\n",
        "plt.ylim(0,2200)\n",
        "plt.title(\"Distribution of Post Likes by Weekday Posted\")\n",
        "plt.ylabel(\"# of Likes\")"
      ],
      "execution_count": null,
      "outputs": [
        {
          "output_type": "stream",
          "text": [
            "/usr/local/lib/python3.6/dist-packages/seaborn/categorical.py:482: FutureWarning: remove_na is deprecated and is a private function. Do not use.\n",
            "  box_data = remove_na(group_data[hue_mask])\n"
          ],
          "name": "stderr"
        },
        {
          "output_type": "execute_result",
          "data": {
            "text/plain": [
              "Text(0, 0.5, '# of Likes')"
            ]
          },
          "metadata": {
            "tags": []
          },
          "execution_count": 30
        },
        {
          "output_type": "display_data",
          "data": {
            "image/png": "[encoded data removed]",
            "text/plain": [
              "<Figure size 576x432 with 1 Axes>"
            ]
          },
          "metadata": {
            "tags": []
          }
        }
      ]
    },
    {
      "cell_type": "code",
      "metadata": {
        "id": "jNQszJWkdrf9",
        "outputId": "0eea0f5b-1d76-4cbf-c3d8-5d73c53e9524",
        "colab": {
          "base_uri": "https://localhost:8080/",
          "height": 474
        }
      },
      "source": [
        "plt.figure(figsize=(8,6))\n",
        "sns.countplot(x='Post Weekday',hue='Paid',data=data,palette='viridis')\n",
        "plt.title(\"Distribution of Total Interactions by Weekday Posted\")"
      ],
      "execution_count": null,
      "outputs": [
        {
          "output_type": "stream",
          "text": [
            "/usr/local/lib/python3.6/dist-packages/seaborn/categorical.py:1468: FutureWarning: remove_na is deprecated and is a private function. Do not use.\n",
            "  stat_data = remove_na(group_data[hue_mask])\n"
          ],
          "name": "stderr"
        },
        {
          "output_type": "execute_result",
          "data": {
            "text/plain": [
              "Text(0.5, 1.0, 'Distribution of Total Interactions by Weekday Posted')"
            ]
          },
          "metadata": {
            "tags": []
          },
          "execution_count": 31
        },
        {
          "output_type": "display_data",
          "data": {
            "image/png": "[encoded data removed]",
            "text/plain": [
              "<Figure size 576x432 with 1 Axes>"
            ]
          },
          "metadata": {
            "tags": []
          }
        }
      ]
    },
    {
      "cell_type": "code",
      "metadata": {
        "id": "hOx75mm1d0gL",
        "outputId": "10b41957-f5c8-43c4-e730-3d1fdbe8466d",
        "colab": {
          "base_uri": "https://localhost:8080/",
          "height": 474
        }
      },
      "source": [
        "plt.figure(figsize=(8,6))\n",
        "sns.boxplot(x='Post Hour',y='like',data=data,palette='viridis')\n",
        "plt.ylim(0,750)\n",
        "plt.title(\"Distribution of Post Likes by Hour Posted\")\n",
        "plt.ylabel(\"# of Likes\")\n"
      ],
      "execution_count": null,
      "outputs": [
        {
          "output_type": "stream",
          "text": [
            "/usr/local/lib/python3.6/dist-packages/seaborn/categorical.py:454: FutureWarning: remove_na is deprecated and is a private function. Do not use.\n",
            "  box_data = remove_na(group_data)\n"
          ],
          "name": "stderr"
        },
        {
          "output_type": "execute_result",
          "data": {
            "text/plain": [
              "Text(0, 0.5, '# of Likes')"
            ]
          },
          "metadata": {
            "tags": []
          },
          "execution_count": 32
        },
        {
          "output_type": "display_data",
          "data": {
            "image/png": "[encoded data removed]",
            "text/plain": [
              "<Figure size 576x432 with 1 Axes>"
            ]
          },
          "metadata": {
            "tags": []
          }
        }
      ]
    },
    {
      "cell_type": "code",
      "metadata": {
        "id": "u-_QqfL0d9Cj",
        "outputId": "04f6aa21-d60d-4fda-84a5-77414e2799d1",
        "colab": {
          "base_uri": "https://localhost:8080/",
          "height": 420
        }
      },
      "source": [
        "plt.figure(figsize=(8,6))\n",
        "sns.stripplot(x='Post Hour',y='like',data=data,palette='viridis')\n",
        "plt.ylim(0,2200)\n",
        "plt.title(\"Distribution of Total Interactions by Hour Posted\")\n",
        "plt.ylabel(\"# of Likes\")"
      ],
      "execution_count": null,
      "outputs": [
        {
          "output_type": "execute_result",
          "data": {
            "text/plain": [
              "Text(0, 0.5, '# of Likes')"
            ]
          },
          "metadata": {
            "tags": []
          },
          "execution_count": 33
        },
        {
          "output_type": "display_data",
          "data": {
            "image/png": "[encoded data removed]",
            "text/plain": [
              "<Figure size 576x432 with 1 Axes>"
            ]
          },
          "metadata": {
            "tags": []
          }
        }
      ]
    },
    {
      "cell_type": "code",
      "metadata": {
        "id": "8x8mlh57eJh0",
        "outputId": "372cc77a-b517-4dee-9f09-b52cd76fd640",
        "colab": {
          "base_uri": "https://localhost:8080/",
          "height": 473
        }
      },
      "source": [
        "sns.lmplot(x='Page total likes',y='like',\n",
        "           hue='Paid',data=data,fit_reg=True,\n",
        "          scatter_kws={'alpha':0.6},size=(6))\n",
        "plt.legend()\n",
        "plt.ylim(0,1000)\n",
        "plt.ylabel(\"# of Likes\")\n",
        "plt.title('# Page Likes vs. # Post Likes')\n"
      ],
      "execution_count": null,
      "outputs": [
        {
          "output_type": "execute_result",
          "data": {
            "text/plain": [
              "Text(0.5, 1.0, '# Page Likes vs. # Post Likes')"
            ]
          },
          "metadata": {
            "tags": []
          },
          "execution_count": 34
        },
        {
          "output_type": "display_data",
          "data": {
            "image/png": "[encoded data removed]",
            "text/plain": [
              "<Figure size 482x432 with 1 Axes>"
            ]
          },
          "metadata": {
            "tags": []
          }
        }
      ]
    },
    {
      "cell_type": "code",
      "metadata": {
        "id": "Or-VXLSOeW4C",
        "outputId": "059bf0e6-59b0-49ed-8265-b3b915a8349b",
        "colab": {
          "base_uri": "https://localhost:8080/",
          "height": 474
        }
      },
      "source": [
        "plt.figure(figsize=(8,6))\n",
        "sns.countplot(x='Category',data=data,palette='viridis')\n",
        "plt.ylabel(\"# of Likes\")\n",
        "plt.title(\"Number of Likes vs. Post Category\")"
      ],
      "execution_count": null,
      "outputs": [
        {
          "output_type": "stream",
          "text": [
            "/usr/local/lib/python3.6/dist-packages/seaborn/categorical.py:1428: FutureWarning: remove_na is deprecated and is a private function. Do not use.\n",
            "  stat_data = remove_na(group_data)\n"
          ],
          "name": "stderr"
        },
        {
          "output_type": "execute_result",
          "data": {
            "text/plain": [
              "Text(0.5, 1.0, 'Number of Likes vs. Post Category')"
            ]
          },
          "metadata": {
            "tags": []
          },
          "execution_count": 35
        },
        {
          "output_type": "display_data",
          "data": {
            "image/png": "[encoded data removed]",
            "text/plain": [
              "<Figure size 576x432 with 1 Axes>"
            ]
          },
          "metadata": {
            "tags": []
          }
        }
      ]
    },
    {
      "cell_type": "code",
      "metadata": {
        "id": "szKroZkXekdb",
        "outputId": "2cfc97df-4608-40bb-c2fe-33124aa17d20",
        "colab": {
          "base_uri": "https://localhost:8080/",
          "height": 474
        }
      },
      "source": [
        "plt.figure(figsize=(10,6))\n",
        "sns.boxplot(x='Type',y='like',hue='Paid',data=data,palette='viridis')\n",
        "plt.ylim(0,750)\n",
        "#sns.despine(offset=4,bottom=True)\n",
        "plt.title(\"Total Interactions by Post Type\")\n",
        "plt.ylabel(\"# of likes\")"
      ],
      "execution_count": null,
      "outputs": [
        {
          "output_type": "stream",
          "text": [
            "/usr/local/lib/python3.6/dist-packages/seaborn/categorical.py:482: FutureWarning: remove_na is deprecated and is a private function. Do not use.\n",
            "  box_data = remove_na(group_data[hue_mask])\n"
          ],
          "name": "stderr"
        },
        {
          "output_type": "execute_result",
          "data": {
            "text/plain": [
              "Text(0, 0.5, '# of likes')"
            ]
          },
          "metadata": {
            "tags": []
          },
          "execution_count": 36
        },
        {
          "output_type": "display_data",
          "data": {
            "image/png": "[encoded data removed]",
            "text/plain": [
              "<Figure size 720x432 with 1 Axes>"
            ]
          },
          "metadata": {
            "tags": []
          }
        }
      ]
    },
    {
      "cell_type": "code",
      "metadata": {
        "id": "IiHbcbFQezDS",
        "outputId": "cd1c22cb-800a-4797-8447-f62ccd4d2545",
        "colab": {
          "base_uri": "https://localhost:8080/",
          "height": 474
        }
      },
      "source": [
        "plt.figure(figsize=(10,6))\n",
        "sns.countplot(x='Type',hue='Paid',data=data,palette='viridis')\n",
        "plt.ylim(0,320)\n",
        "#sns.despine(offset=4,bottom=True)\n",
        "plt.title(\"Frequency of Post Type by Paid\")\n",
        "plt.ylabel(\"Frequency\")\n"
      ],
      "execution_count": null,
      "outputs": [
        {
          "output_type": "stream",
          "text": [
            "/usr/local/lib/python3.6/dist-packages/seaborn/categorical.py:1468: FutureWarning: remove_na is deprecated and is a private function. Do not use.\n",
            "  stat_data = remove_na(group_data[hue_mask])\n"
          ],
          "name": "stderr"
        },
        {
          "output_type": "execute_result",
          "data": {
            "text/plain": [
              "Text(0, 0.5, 'Frequency')"
            ]
          },
          "metadata": {
            "tags": []
          },
          "execution_count": 37
        },
        {
          "output_type": "display_data",
          "data": {
            "image/png": "[encoded data removed]",
            "text/plain": [
              "<Figure size 720x432 with 1 Axes>"
            ]
          },
          "metadata": {
            "tags": []
          }
        }
      ]
    },
    {
      "cell_type": "code",
      "metadata": {
        "id": "8qeDTvLsfHo2"
      },
      "source": [
        "timePivot = pd.pivot_table(data,aggfunc='median',\n",
        "                           columns='Post Hour',\n",
        "                           index='Post Weekday',\n",
        "                           values='like')\n",
        "timePivot = timePivot[[1,2,3,4,5,6,7,8,9,10,11,12,13,14,15,16,17,18]]"
      ],
      "execution_count": null,
      "outputs": []
    },
    {
      "cell_type": "code",
      "metadata": {
        "id": "ROnBu7MhfNjg",
        "outputId": "d39b9f66-1b3c-4464-bfbc-fd25e1b740cc",
        "colab": {
          "base_uri": "https://localhost:8080/",
          "height": 676
        }
      },
      "source": [
        "plt.figure(figsize=(18,10))\n",
        "cmap= sns.cubehelix_palette(8, start=.5, rot=-.75,as_cmap=True)\n",
        "sns.heatmap(timePivot,cbar=False,cmap=cmap,annot=True, fmt='g')\n",
        "#plt.pcolor(lnch_pivot,cmap=plt.cm.Blues, alpha=0.8)\n",
        "plt.yticks(np.arange(7),['Sa','F','Th','W','Tu','M','Su'],fontsize=10)\n",
        "plt.xticks(fontsize=15)\n",
        "plt.ylabel('Post Weekay',fontsize=20)\n",
        "plt.xlabel('Post Hour',fontsize=20)\n",
        "plt.title('Median Likes Per Post by Post Weekday and Hour',fontsize=20)\n"
      ],
      "execution_count": null,
      "outputs": [
        {
          "output_type": "execute_result",
          "data": {
            "text/plain": [
              "Text(0.5, 1.0, 'Median Likes Per Post by Post Weekday and Hour')"
            ]
          },
          "metadata": {
            "tags": []
          },
          "execution_count": 39
        },
        {
          "output_type": "display_data",
          "data": {
            "image/png": "[encoded data removed]",
            "text/plain": [
              "<Figure size 1296x720 with 1 Axes>"
            ]
          },
          "metadata": {
            "tags": []
          }
        }
      ]
    },
    {
      "cell_type": "code",
      "metadata": {
        "id": "FWb_amxoFyps",
        "outputId": "4451a2a0-dcf7-41ac-c666-51f70f2b5212",
        "colab": {
          "base_uri": "https://localhost:8080/",
          "height": 288
        }
      },
      "source": [
        "unpaid_likes = data[data['Paid']==0]['like']\n",
        "unpaid_likes = unpaid_likes.dropna()\n",
        "sns.set(font_scale=1.65)\n",
        "fig = plt.figure(figsize=(10,3))\n",
        "ax=unpaid_likes.hist(range=(0, 1500),bins=30)\n",
        "ax.set_xlim(0,1500)\n",
        "\n",
        "plt.xlabel('Likes (Paid)')\n",
        "plt.ylabel('Frequency')\n",
        "plt.show()\n",
        "\n",
        "print('sample_size: {}'.format(unpaid_likes.shape[0]))\n",
        "print('sample_mean: {}'.format(unpaid_likes.mean()))\n",
        "print('sample_variance: {}'.format(unpaid_likes.var()))"
      ],
      "execution_count": null,
      "outputs": [
        {
          "output_type": "display_data",
          "data": {
            "image/png": "[encoded data removed]",
            "text/plain": [
              "<Figure size 720x216 with 1 Axes>"
            ]
          },
          "metadata": {
            "tags": []
          }
        },
        {
          "output_type": "stream",
          "text": [
            "sample_size: 361\n",
            "sample_mean: 155.23545706371192\n",
            "sample_variance: 48213.102739304406\n"
          ],
          "name": "stdout"
        }
      ]
    },
    {
      "cell_type": "code",
      "metadata": {
        "id": "3DVwR7SzF2nk",
        "outputId": "5b4411e6-9015-44f6-897a-8a1d305acfbb",
        "colab": {
          "base_uri": "https://localhost:8080/",
          "height": 288
        }
      },
      "source": [
        "paid_likes = data[data['Paid']==1]['like']\n",
        "fig = plt.figure(figsize=(10,3))\n",
        "ax=paid_likes.hist(range=(0, 1500),bins=30)\n",
        "ax.set_xlim(0,1500)\n",
        "\n",
        "plt.xlabel('Likes (Unpaid)')\n",
        "plt.ylabel('Frequency')\n",
        "plt.show()\n",
        "\n",
        "print('sample_size: {}'.format(paid_likes.shape[0]))\n",
        "print('sample_mean: {}'.format(paid_likes.mean()))\n",
        "print('sample_variance: {}'.format(paid_likes.var()))"
      ],
      "execution_count": null,
      "outputs": [
        {
          "output_type": "display_data",
          "data": {
            "image/png": "[encoded data removed]",
            "text/plain": [
              "<Figure size 720x216 with 1 Axes>"
            ]
          },
          "metadata": {
            "tags": []
          }
        },
        {
          "output_type": "stream",
          "text": [
            "sample_size: 139\n",
            "sample_mean: 235.6474820143885\n",
            "sample_variance: 247175.07048274425\n"
          ],
          "name": "stdout"
        }
      ]
    },
    {
      "cell_type": "code",
      "metadata": {
        "id": "AksdG7dkF6N0",
        "outputId": "152bf484-0d44-4a4c-adbf-d8258794f730",
        "colab": {
          "base_uri": "https://localhost:8080/",
          "height": 439
        }
      },
      "source": [
        "paid_err = 1.96*(paid_likes.std())/(np.sqrt(paid_likes.shape[0]))\n",
        "unpaid_err = 1.96*(unpaid_likes.std())/(np.sqrt(unpaid_likes.shape[0]))\n",
        "\n",
        "x = ['Paid Posts', 'Unpaid Posts']\n",
        "y = [paid_likes.mean(), unpaid_likes.mean()]\n",
        "fig = plt.figure(figsize=(10, 6))\n",
        "ax = sns.barplot(x=x, y=y, yerr=[paid_err, unpaid_err])\n",
        "ax.set_ylim(0, 400)\n",
        "plt.ylabel('Likes')\n",
        "plt.show()"
      ],
      "execution_count": null,
      "outputs": [
        {
          "output_type": "stream",
          "text": [
            "/usr/local/lib/python3.6/dist-packages/seaborn/categorical.py:1428: FutureWarning: remove_na is deprecated and is a private function. Do not use.\n",
            "  stat_data = remove_na(group_data)\n"
          ],
          "name": "stderr"
        },
        {
          "output_type": "display_data",
          "data": {
            "image/png": "[encoded data removed]",
            "text/plain": [
              "<Figure size 720x432 with 1 Axes>"
            ]
          },
          "metadata": {
            "tags": []
          }
        }
      ]
    },
    {
      "cell_type": "code",
      "metadata": {
        "id": "nhUR60XriJw7"
      },
      "source": [
        "data.drop(data.columns[7:15], axis=1,inplace=True)"
      ],
      "execution_count": null,
      "outputs": []
    },
    {
      "cell_type": "code",
      "metadata": {
        "id": "vmJq6BBGVBMO",
        "outputId": "27299a9d-882f-4219-e649-fbc0f52d292d",
        "colab": {
          "base_uri": "https://localhost:8080/",
          "height": 491
        }
      },
      "source": [
        "# Display the correlation heatmap\n",
        "corr = data.corr()\n",
        "plt.figure(figsize = (15,5))\n",
        "ax = sns.heatmap(corr, annot=True)\n",
        "ax.legend(loc=0, prop={'size': 2})"
      ],
      "execution_count": null,
      "outputs": [
        {
          "output_type": "stream",
          "text": [
            "No handles with labels found to put in legend.\n"
          ],
          "name": "stderr"
        },
        {
          "output_type": "execute_result",
          "data": {
            "text/plain": [
              "<matplotlib.legend.Legend at 0x7f42e455a7f0>"
            ]
          },
          "metadata": {
            "tags": []
          },
          "execution_count": 44
        },
        {
          "output_type": "display_data",
          "data": {
            "image/png": "[encoded data removed]",
            "text/plain": [
              "<Figure size 1080x360 with 2 Axes>"
            ]
          },
          "metadata": {
            "tags": []
          }
        }
      ]
    },
    {
      "cell_type": "code",
      "metadata": {
        "id": "ZF-sVIymk32E"
      },
      "source": [
        "from sklearn import linear_model\n",
        "from sklearn.model_selection import train_test_split\n",
        "from sklearn.metrics import r2_score\n",
        "from sklearn.preprocessing import StandardScaler, MinMaxScaler\n",
        "from sklearn.feature_selection import SelectKBest"
      ],
      "execution_count": null,
      "outputs": []
    },
    {
      "cell_type": "code",
      "metadata": {
        "id": "d7pvo2cgi3kG"
      },
      "source": [
        "data = pd.read_csv('dataset_Facebook.csv', delimiter=';')\n"
      ],
      "execution_count": null,
      "outputs": []
    },
    {
      "cell_type": "code",
      "metadata": {
        "id": "ECL9305cppRQ"
      },
      "source": [
        "data['Paid'].value_counts()\n",
        "data['like'].fillna(0,inplace=True)\n",
        "data['share'].fillna(0,inplace=True)\n",
        "data['Paid'].fillna(0,inplace=True)"
      ],
      "execution_count": null,
      "outputs": []
    },
    {
      "cell_type": "code",
      "metadata": {
        "id": "a8_0fIYvp2Jh",
        "outputId": "0ec6b208-d7e3-45ba-dbd1-c897416c1b80",
        "colab": {
          "base_uri": "https://localhost:8080/",
          "height": 683
        }
      },
      "source": [
        "for attr in data.columns.values.tolist()[0:]:\n",
        "  print(\"Unique values in \"+attr+\":\")\n",
        "  print(np.unique(data[attr]).tolist())"
      ],
      "execution_count": null,
      "outputs": [
        {
          "output_type": "stream",
          "text": [
            "Unique values in Page total likes:\n",
            "[81370, 85093, 85979, 86491, 86909, 91009, 91116, 91223, 91330, 91437, 91544, 91651, 91758, 91865, 91972, 92079, 92186, 92293, 92400, 92507, 92614, 92721, 92828, 92935, 93042, 93149, 93256, 93363, 93470, 93577, 93684, 96749, 98195, 100732, 102112, 104070, 106928, 107907, 109670, 111620, 113028, 115368, 115893, 116091, 116435, 117764, 119198, 120050, 121540, 123047, 124940, 125612, 126141, 126345, 126424, 127082, 128032, 129600, 130791, 131300, 131630, 131728, 131808, 131956, 132201, 132817, 133451, 133594, 133679, 134879, 135195, 135428, 135617, 135700, 135713, 136013, 136393, 136642, 136736, 137020, 137059, 137177, 137893, 138185, 138329, 138353, 138414, 138458, 138895, 139441]\n",
            "Unique values in Type:\n",
            "['Link', 'Photo', 'Status', 'Video']\n",
            "Unique values in Category:\n",
            "[1, 2, 3]\n",
            "Unique values in Post Month:\n",
            "[1, 2, 3, 4, 5, 6, 7, 8, 9, 10, 11, 12]\n",
            "Unique values in Post Weekday:\n",
            "[1, 2, 3, 4, 5, 6, 7]\n",
            "Unique values in Post Hour:\n",
            "[1, 2, 3, 4, 5, 6, 7, 8, 9, 10, 11, 12, 13, 14, 15, 16, 17, 18, 19, 20, 22, 23]\n",
            "Unique values in Paid:\n",
            "[0.0, 1.0]\n",
            "Unique values in Lifetime Post Total Reach:\n",
            "[238, 391, 452, 584, 617, 619, 645, 652, 659, 677, 729, 747, 754, 786, 813, 834, 861, 910, 1006, 1060, 1080, 1101, 1228, 1261, 1330, 1357, 1384, 1388, 1445, 1531, 1536, 1543, 1591, 1592, 1659, 1673, 1683, 1685, 1711, 1722, 1728, 1729, 1804, 1809, 1845, 1874, 1920, 1925, 1954, 2055, 2149, 2168, 2219, 2225, 2227, 2232, 2257, 2291, 2295, 2316, 2351, 2352, 2360, 2363, 2402, 2413, 2425, 2426, 2428, 2431, 2478, 2522, 2540, 2545, 2549, 2566, 2585, 2594, 2602, 2626, 2628, 2645, 2656, 2690, 2718, 2723, 2752, 2763, 2772, 2790, 2812, 2819, 2822, 2823, 2847, 2848, 2881, 2933, 2935, 2938, 2970, 2973, 3002, 3024, 3028, 3046, 3090, 3100, 3102, 3110, 3112, 3130, 3144, 3176, 3212, 3234, 3254, 3272, 3286, 3290, 3294, 3322, 3330, 3332, 3334, 3358, 3366, 3376, 3384, 3406, 3414, 3416, 3418, 3454, 3460, 3480, 3504, 3528, 3544, 3558, 3576, 3582, 3594, 3600, 3616, 3662, 3674, 3690, 3696, 3706, 3714, 3726, 3734, 3754, 3756, 3766, 3772, 3776, 3778, 3786, 3796, 3806, 3824, 3884, 3906, 3930, 3934, 3992, 4010, 4012, 4018, 4022, 4032, 4048, 4068, 4094, 4096, 4118, 4122, 4132, 4156, 4188, 4202, 4204, 4220, 4240, 4248, 4260, 4274, 4280, 4284, 4320, 4324, 4336, 4344, 4362, 4390, 4398, 4406, 4412, 4452, 4458, 4480, 4484, 4512, 4518, 4552, 4582, 4592, 4644, 4664, 4666, 4684, 4694, 4708, 4732, 4762, 4770, 4800, 4840, 4892, 4894, 4898, 4908, 4910, 4938, 4940, 4986, 5016, 5034, 5040, 5046, 5080, 5086, 5132, 5168, 5206, 5212, 5240, 5280, 5282, 5290, 5292, 5298, 5302, 5312, 5324, 5338, 5400, 5402, 5458, 5490, 5526, 5536, 5560, 5568, 5582, 5594, 5704, 5728, 5730, 5746, 5754, 5786, 5812, 5848, 5854, 5878, 5880, 5976, 5990, 5994, 6000, 6030, 6056, 6150, 6172, 6184, 6208, 6360, 6400, 6408, 6416, 6444, 6460, 6484, 6564, 6596, 6668, 6692, 6768, 6876, 6880, 6952, 6984, 7132, 7192, 7220, 7228, 7232, 7244, 7268, 7492, 7512, 7732, 7968, 7980, 8260, 8284, 8324, 8412, 8488, 8500, 8612, 8628, 8728, 8896, 9056, 9084, 9120, 9124, 9232, 9236, 9356, 9384, 9504, 9528, 9560, 9604, 9652, 9700, 9880, 10040, 10060, 10152, 10188, 10460, 10472, 10744, 10748, 10824, 10844, 10888, 10940, 10956, 11096, 11304, 11336, 11420, 11444, 11484, 11608, 11620, 11692, 11844, 12044, 12468, 12540, 12728, 12776, 12824, 13152, 13216, 13280, 13544, 13720, 13856, 13872, 14152, 14200, 14320, 14424, 14824, 15288, 15296, 15576, 15816, 15880, 16416, 16576, 16776, 17360, 17576, 17912, 18056, 18120, 18320, 18480, 18552, 19552, 19648, 19800, 19968, 20168, 20528, 20560, 20896, 20920, 21176, 21248, 21256, 21744, 21872, 21928, 22120, 22304, 22464, 22784, 22984, 23832, 24264, 24720, 25248, 26944, 27056, 27072, 27216, 28112, 28128, 28208, 28352, 28752, 28880, 30624, 31136, 31904, 32208, 33536, 34192, 34480, 34512, 35008, 35360, 36208, 37088, 37376, 38576, 38960, 39040, 39344, 39568, 39600, 39984, 40336, 41984, 44288, 44464, 45920, 46192, 47376, 49632, 50128, 50640, 50736, 50912, 52736, 53056, 53264, 53456, 54256, 55520, 56672, 58304, 63840, 66784, 66976, 68896, 68992, 70144, 70912, 71360, 72864, 76096, 81856, 95424, 98816, 100768, 105632, 109056, 122944, 128064, 139008, 153536, 158208, 180480]\n",
            "Unique values in Lifetime Post Total Impressions:\n",
            "[570, 726, 746, 1029, 1071, 1096, 1117, 1158, 1240, 1285, 1331, 1374, 1443, 1510, 1565, 1568, 1570, 1573, 1594, 1673, 2004, 2158, 2327, 2392, 2427, 2453, 2467, 2474, 2544, 2548, 2670, 2749, 2774, 2825, 2838, 2845, 2874, 2929, 2968, 2981, 2999, 3094, 3124, 3130, 3155, 3174, 3289, 3481, 3530, 3611, 3655, 3721, 3772, 3891, 3915, 3960, 4004, 4005, 4028, 4070, 4072, 4120, 4180, 4220, 4223, 4239, 4264, 4270, 4306, 4349, 4372, 4373, 4388, 4410, 4462, 4469, 4510, 4545, 4583, 4628, 4642, 4649, 4698, 4794, 4846, 4862, 4879, 4888, 4896, 4908, 4909, 4943, 4954, 4955, 5058, 5063, 5066, 5067, 5091, 5113, 5133, 5144, 5188, 5230, 5234, 5244, 5278, 5313, 5318, 5388, 5396, 5405, 5439, 5461, 5472, 5499, 5525, 5553, 5590, 5630, 5644, 5656, 5659, 5682, 5699, 5744, 5797, 5799, 5807, 5808, 5824, 5900, 5918, 5939, 5953, 5969, 6050, 6056, 6079, 6085, 6156, 6166, 6167, 6181, 6194, 6218, 6229, 6276, 6295, 6316, 6330, 6333, 6369, 6372, 6385, 6406, 6476, 6486, 6503, 6518, 6557, 6647, 6691, 6736, 6737, 6769, 6853, 6887, 6971, 7004, 7057, 7073, 7094, 7127, 7149, 7165, 7191, 7200, 7216, 7217, 7221, 7241, 7253, 7255, 7278, 7292, 7329, 7333, 7355, 7378, 7444, 7466, 7469, 7491, 7509, 7536, 7564, 7594, 7633, 7659, 7705, 7716, 7753, 7754, 7774, 7808, 7829, 7910, 7927, 7948, 7955, 7960, 7989, 7998, 8025, 8030, 8039, 8070, 8090, 8105, 8132, 8178, 8198, 8238, 8239, 8303, 8360, 8367, 8371, 8387, 8499, 8533, 8617, 8668, 8703, 8730, 8745, 8769, 8779, 8875, 8891, 8893, 8899, 8962, 9035, 9067, 9068, 9084, 9098, 9100, 9193, 9209, 9218, 9238, 9301, 9303, 9321, 9390, 9411, 9456, 9463, 9493, 9518, 9578, 9579, 9586, 9835, 9874, 9903, 9940, 9970, 10083, 10115, 10164, 10217, 10228, 10282, 10300, 10325, 10417, 10441, 10465, 10508, 10510, 10634, 10701, 10830, 10832, 10885, 10966, 11040, 11079, 11123, 11373, 11459, 11469, 11509, 11525, 11736, 11854, 11859, 11881, 11941, 12060, 12066, 12097, 12414, 12627, 12695, 12735, 12811, 12978, 13023, 13092, 13264, 13594, 13633, 13960, 13989, 14157, 14305, 14480, 14759, 14847, 14948, 14986, 15104, 15194, 15294, 15323, 15350, 16054, 16362, 16535, 16557, 16779, 16811, 16968, 16978, 17029, 17099, 17202, 17442, 17776, 17827, 18264, 18474, 18929, 19057, 19279, 19301, 19479, 19556, 19680, 19724, 19744, 20151, 20327, 20573, 20647, 20691, 20696, 20849, 21080, 21564, 21685, 21863, 21893, 21958, 22468, 22538, 23855, 24112, 24137, 24198, 24738, 24917, 25269, 25542, 25666, 26000, 26026, 26728, 27468, 27513, 27951, 28438, 28663, 29062, 29650, 30235, 30514, 30612, 31448, 31467, 31950, 32576, 33000, 33058, 33613, 33643, 34095, 34143, 34774, 35161, 35904, 37159, 37240, 37716, 38806, 39549, 39641, 39941, 40125, 40413, 41650, 41906, 42092, 42313, 42334, 42940, 43464, 44940, 45260, 45508, 46054, 47128, 47358, 47721, 50539, 51571, 51899, 54734, 54779, 55202, 55398, 55633, 55696, 56950, 57472, 59040, 59964, 60918, 61262, 64746, 64850, 65149, 65260, 65309, 66824, 68290, 68610, 70212, 73584, 76659, 80227, 80871, 81908, 82011, 84885, 87991, 93790, 94172, 94644, 102620, 103050, 104952, 104966, 110172, 111502, 111745, 111785, 112830, 121234, 124753, 125026, 140432, 147918, 162816, 164528, 191207, 191324, 205934, 220447, 229733, 251269, 252207, 277100, 319133, 453213, 457509, 497910, 665792, 1110282]\n",
            "Unique values in Lifetime Engaged Users:\n",
            "[9, 15, 17, 24, 25, 37, 66, 84, 97, 103, 108, 111, 118, 121, 128, 130, 131, 134, 135, 143, 144, 163, 165, 170, 176, 177, 178, 186, 192, 193, 195, 197, 199, 200, 204, 206, 207, 208, 210, 211, 212, 214, 217, 224, 226, 229, 230, 232, 236, 237, 249, 251, 252, 257, 260, 263, 266, 268, 273, 277, 280, 282, 287, 288, 298, 303, 304, 306, 310, 311, 316, 318, 320, 321, 322, 323, 324, 330, 338, 339, 343, 344, 345, 346, 347, 355, 356, 357, 360, 363, 365, 368, 369, 370, 371, 372, 374, 376, 377, 384, 385, 389, 390, 391, 392, 393, 394, 398, 399, 417, 421, 423, 424, 428, 435, 436, 438, 444, 448, 451, 452, 454, 455, 459, 463, 466, 469, 470, 471, 473, 474, 477, 479, 481, 484, 487, 491, 494, 498, 504, 509, 512, 513, 515, 517, 518, 519, 522, 523, 524, 526, 528, 529, 536, 537, 538, 541, 544, 545, 546, 548, 550, 552, 555, 560, 562, 564, 565, 566, 569, 571, 572, 574, 577, 579, 581, 583, 584, 587, 588, 589, 596, 598, 601, 602, 603, 604, 607, 610, 612, 621, 622, 624, 625, 626, 630, 631, 642, 644, 647, 657, 658, 662, 664, 666, 669, 671, 676, 678, 679, 684, 685, 689, 691, 692, 699, 700, 701, 702, 703, 705, 708, 711, 714, 715, 718, 722, 724, 726, 729, 732, 733, 734, 735, 736, 739, 741, 746, 750, 753, 756, 757, 758, 759, 768, 769, 780, 785, 791, 802, 806, 810, 813, 823, 830, 838, 840, 842, 844, 845, 857, 863, 868, 870, 877, 884, 887, 892, 895, 905, 908, 909, 913, 936, 946, 949, 951, 956, 957, 962, 964, 973, 975, 979, 985, 997, 1004, 1005, 1006, 1007, 1016, 1020, 1029, 1032, 1043, 1049, 1052, 1053, 1061, 1062, 1066, 1095, 1096, 1117, 1132, 1141, 1150, 1151, 1160, 1166, 1179, 1188, 1191, 1215, 1237, 1239, 1245, 1264, 1291, 1341, 1355, 1359, 1362, 1364, 1373, 1374, 1382, 1383, 1393, 1400, 1407, 1409, 1411, 1418, 1429, 1457, 1462, 1473, 1476, 1480, 1512, 1521, 1530, 1539, 1557, 1573, 1576, 1591, 1599, 1620, 1631, 1635, 1636, 1653, 1666, 1684, 1701, 1706, 1713, 1762, 1779, 1784, 1805, 1810, 1843, 1850, 1876, 1933, 1954, 1967, 2003, 2055, 2080, 2087, 2101, 2105, 2143, 2211, 2240, 2283, 2295, 2298, 2299, 2348, 2417, 2482, 2543, 2552, 2573, 2579, 2624, 2664, 2675, 2728, 2733, 2750, 2806, 2827, 2889, 2969, 3000, 3216, 3370, 3572, 3742, 3872, 3984, 4258, 4544, 4840, 5352, 6164, 8072, 11452]\n",
            "Unique values in Lifetime Post Consumers:\n",
            "[9, 15, 17, 23, 25, 37, 59, 63, 65, 71, 76, 83, 86, 88, 90, 104, 108, 109, 113, 115, 118, 119, 123, 124, 126, 127, 130, 131, 134, 142, 144, 145, 156, 158, 167, 168, 171, 173, 181, 182, 183, 184, 185, 189, 192, 194, 201, 203, 204, 205, 206, 213, 216, 218, 219, 220, 223, 228, 232, 237, 238, 243, 245, 246, 251, 254, 257, 260, 265, 268, 271, 280, 282, 283, 284, 286, 287, 288, 289, 295, 297, 298, 304, 306, 309, 314, 315, 316, 319, 321, 322, 323, 324, 325, 330, 331, 333, 334, 335, 337, 342, 344, 345, 348, 351, 352, 354, 356, 359, 360, 361, 365, 366, 370, 374, 381, 383, 388, 390, 392, 395, 398, 405, 406, 408, 409, 410, 411, 415, 418, 422, 424, 430, 431, 432, 433, 434, 435, 437, 440, 444, 446, 447, 450, 452, 453, 455, 458, 460, 461, 467, 473, 474, 477, 478, 479, 481, 482, 483, 484, 485, 488, 492, 493, 495, 496, 497, 498, 503, 505, 507, 508, 509, 512, 513, 522, 523, 524, 526, 528, 529, 530, 539, 542, 544, 545, 546, 547, 548, 549, 554, 555, 556, 559, 560, 561, 564, 565, 566, 568, 569, 570, 572, 574, 575, 582, 586, 587, 591, 592, 594, 597, 602, 607, 614, 616, 618, 620, 623, 625, 626, 627, 631, 632, 633, 638, 639, 640, 642, 646, 648, 652, 654, 655, 656, 658, 659, 670, 671, 672, 676, 678, 681, 683, 684, 695, 700, 705, 706, 708, 712, 713, 715, 716, 720, 724, 725, 726, 727, 730, 733, 740, 742, 756, 759, 770, 779, 783, 790, 808, 827, 834, 837, 838, 843, 847, 860, 861, 863, 872, 875, 884, 890, 901, 906, 911, 916, 918, 923, 930, 933, 934, 937, 938, 940, 944, 947, 953, 963, 975, 984, 991, 993, 994, 995, 1002, 1016, 1023, 1029, 1032, 1037, 1038, 1054, 1058, 1065, 1068, 1071, 1073, 1078, 1087, 1096, 1099, 1103, 1105, 1106, 1111, 1115, 1130, 1138, 1143, 1156, 1175, 1183, 1189, 1209, 1218, 1229, 1242, 1264, 1268, 1270, 1271, 1288, 1313, 1326, 1330, 1333, 1334, 1339, 1342, 1346, 1354, 1361, 1367, 1381, 1397, 1401, 1407, 1408, 1412, 1426, 1441, 1450, 1462, 1479, 1480, 1485, 1490, 1537, 1570, 1577, 1599, 1622, 1633, 1635, 1637, 1643, 1702, 1724, 1732, 1735, 1800, 1819, 1877, 1912, 1921, 1956, 1966, 2079, 2127, 2190, 2193, 2235, 2254, 2288, 2300, 2319, 2327, 2420, 2438, 2448, 2457, 2495, 2531, 2567, 2570, 2584, 2628, 2654, 2781, 2833, 3244, 3464, 3586, 3682, 3822, 4010, 4100, 4754, 5202, 5934, 11328]\n",
            "Unique values in Lifetime Post Consumptions:\n",
            "[9, 19, 20, 26, 31, 49, 55, 70, 71, 95, 97, 99, 111, 112, 118, 126, 130, 133, 141, 143, 145, 148, 149, 153, 154, 159, 167, 168, 170, 184, 202, 211, 219, 221, 223, 224, 226, 239, 247, 249, 250, 251, 252, 258, 264, 265, 286, 287, 289, 292, 297, 299, 301, 303, 305, 308, 318, 323, 325, 327, 329, 331, 337, 339, 345, 352, 354, 360, 364, 379, 383, 387, 389, 392, 396, 401, 402, 412, 414, 415, 417, 423, 424, 428, 430, 431, 433, 440, 443, 445, 450, 458, 460, 463, 469, 476, 477, 482, 483, 486, 487, 494, 495, 497, 501, 505, 507, 510, 512, 513, 518, 521, 523, 525, 529, 530, 534, 539, 540, 542, 544, 547, 552, 561, 569, 571, 577, 580, 581, 583, 588, 591, 596, 597, 599, 602, 604, 609, 613, 616, 622, 629, 631, 632, 633, 641, 644, 645, 650, 652, 653, 658, 663, 667, 669, 672, 675, 676, 677, 678, 683, 687, 688, 695, 701, 710, 713, 715, 717, 719, 720, 721, 723, 724, 727, 729, 730, 731, 735, 740, 742, 743, 757, 763, 766, 767, 768, 770, 771, 772, 775, 781, 785, 787, 788, 794, 795, 805, 822, 832, 833, 834, 836, 838, 842, 847, 848, 850, 852, 857, 861, 862, 863, 864, 867, 869, 870, 872, 874, 878, 880, 881, 882, 885, 886, 889, 892, 897, 906, 909, 913, 920, 923, 926, 930, 931, 934, 937, 940, 943, 948, 951, 952, 957, 966, 969, 979, 984, 985, 990, 995, 1000, 1003, 1005, 1014, 1020, 1021, 1028, 1033, 1034, 1048, 1049, 1063, 1072, 1078, 1082, 1097, 1106, 1116, 1119, 1126, 1140, 1147, 1153, 1157, 1158, 1165, 1173, 1181, 1192, 1197, 1211, 1226, 1229, 1236, 1237, 1243, 1254, 1267, 1268, 1274, 1278, 1290, 1326, 1328, 1336, 1341, 1345, 1348, 1359, 1370, 1380, 1388, 1389, 1390, 1399, 1408, 1410, 1419, 1420, 1422, 1425, 1427, 1438, 1441, 1448, 1452, 1461, 1469, 1489, 1512, 1526, 1560, 1571, 1612, 1618, 1619, 1632, 1641, 1652, 1655, 1674, 1678, 1690, 1692, 1697, 1711, 1725, 1728, 1746, 1751, 1797, 1834, 1837, 1850, 1871, 1874, 1878, 1897, 1926, 1932, 1952, 1967, 1971, 1977, 1990, 2007, 2022, 2042, 2048, 2051, 2085, 2089, 2106, 2110, 2123, 2136, 2170, 2201, 2251, 2286, 2331, 2356, 2418, 2438, 2493, 2506, 2567, 2576, 2632, 2654, 2718, 2720, 2737, 2741, 2755, 2779, 2801, 2824, 2828, 2838, 2895, 2969, 3000, 3098, 3153, 3179, 3183, 3214, 3253, 3289, 3311, 3383, 3391, 3395, 3400, 3412, 3420, 3599, 3627, 3645, 3932, 3941, 4074, 4540, 4550, 4596, 4782, 4802, 4906, 5106, 5906, 6017, 6242, 6547, 6591, 6624, 7327, 7854, 7980, 8049, 8308, 8415, 9237, 9614, 11064, 12074, 14974, 18115, 19779]\n",
            "Unique values in Lifetime Post Impressions by people who have liked your Page:\n",
            "[567, 721, 723, 935, 943, 951, 989, 1041, 1055, 1098, 1210, 1249, 1252, 1284, 1351, 1390, 1401, 1402, 1430, 1475, 1483, 1503, 1585, 1604, 1614, 1705, 1794, 1868, 1911, 1924, 2116, 2154, 2161, 2195, 2196, 2205, 2226, 2289, 2293, 2307, 2313, 2330, 2373, 2392, 2541, 2545, 2551, 2570, 2598, 2612, 2757, 2812, 2873, 2888, 2903, 2964, 2970, 3017, 3020, 3031, 3039, 3047, 3052, 3078, 3086, 3112, 3120, 3121, 3128, 3147, 3180, 3188, 3189, 3227, 3238, 3247, 3273, 3295, 3302, 3332, 3342, 3346, 3351, 3353, 3382, 3399, 3418, 3476, 3484, 3501, 3519, 3521, 3537, 3559, 3561, 3574, 3579, 3586, 3601, 3631, 3655, 3668, 3675, 3681, 3691, 3708, 3764, 3779, 3802, 3821, 3832, 3834, 3840, 3857, 3861, 3887, 3901, 3927, 3961, 3963, 3972, 3993, 4010, 4046, 4101, 4111, 4114, 4166, 4200, 4208, 4215, 4229, 4249, 4263, 4309, 4319, 4343, 4347, 4371, 4401, 4404, 4406, 4428, 4440, 4441, 4446, 4447, 4480, 4485, 4487, 4491, 4509, 4518, 4530, 4534, 4550, 4569, 4578, 4605, 4606, 4607, 4625, 4632, 4642, 4650, 4658, 4664, 4700, 4708, 4742, 4747, 4750, 4760, 4799, 4831, 4846, 4908, 4911, 4914, 4930, 4932, 4935, 4954, 4955, 4972, 4976, 4986, 5005, 5009, 5010, 5011, 5014, 5026, 5040, 5057, 5063, 5069, 5079, 5123, 5156, 5161, 5183, 5187, 5225, 5249, 5307, 5340, 5362, 5416, 5485, 5493, 5503, 5640, 5648, 5651, 5654, 5681, 5685, 5696, 5700, 5732, 5757, 5768, 5782, 5827, 5860, 5867, 5901, 5904, 5914, 5936, 6021, 6032, 6085, 6086, 6101, 6173, 6200, 6201, 6228, 6253, 6258, 6279, 6282, 6285, 6315, 6336, 6338, 6380, 6423, 6461, 6549, 6600, 6625, 6630, 6651, 6661, 6677, 6733, 6734, 6823, 6838, 6866, 6890, 6896, 6932, 6937, 6951, 6956, 7034, 7037, 7041, 7048, 7055, 7072, 7196, 7243, 7283, 7316, 7326, 7389, 7407, 7420, 7431, 7451, 7549, 7682, 7692, 7723, 7736, 7886, 7910, 7956, 8146, 8149, 8188, 8242, 8294, 8391, 8419, 8452, 8471, 8536, 8627, 8632, 8753, 8774, 8855, 8872, 8907, 8964, 9065, 9103, 9105, 9122, 9183, 9217, 9342, 9348, 9376, 9389, 9403, 9562, 9579, 9670, 9684, 9781, 9837, 10266, 10987, 11148, 11276, 11280, 11519, 11710, 11744, 11853, 11860, 11885, 11970, 12078, 12522, 12716, 12905, 12996, 13246, 13272, 13498, 13544, 13546, 13618, 13674, 13737, 13786, 13838, 13858, 13876, 13887, 13919, 14014, 14091, 14425, 14450, 14475, 14636, 14792, 15066, 15220, 15382, 15418, 15432, 15678, 15766, 15779, 15850, 15917, 15973, 16018, 16034, 16095, 16132, 16634, 16682, 16890, 16914, 17272, 17365, 17502, 17627, 17717, 17748, 17809, 17842, 18035, 18310, 18580, 18838, 19078, 19409, 19599, 19728, 19738, 20024, 20030, 20198, 20270, 20547, 21009, 21436, 22022, 22100, 22103, 22130, 22710, 22864, 22904, 22907, 23135, 23338, 23584, 23679, 24010, 24034, 24363, 24667, 25539, 25584, 25610, 26514, 26622, 26701, 26832, 26869, 26881, 27771, 28247, 30131, 31096, 32021, 32033, 32470, 32646, 32842, 34415, 34802, 35455, 35637, 35707, 35977, 37816, 37849, 39304, 40181, 40203, 41207, 42128, 42338, 43671, 43980, 46252, 46700, 47899, 47976, 47977, 48466, 48575, 48765, 50076, 52477, 54653, 54860, 56149, 57722, 59658, 61027, 66311, 70249, 72846, 78287, 78678, 81938, 84046, 92348, 92512, 107502, 108752, 122474, 160270, 184270, 648611, 1107833]\n",
            "Unique values in Lifetime Post reach by people who like your Page:\n",
            "[236, 380, 450, 511, 516, 521, 554, 576, 580, 588, 615, 632, 650, 651, 660, 690, 695, 704, 717, 782, 827, 858, 870, 915, 934, 953, 1005, 1008, 1050, 1062, 1077, 1118, 1120, 1161, 1172, 1180, 1214, 1228, 1232, 1306, 1354, 1377, 1389, 1406, 1407, 1408, 1435, 1443, 1454, 1469, 1495, 1503, 1507, 1510, 1519, 1529, 1539, 1557, 1560, 1603, 1605, 1621, 1622, 1640, 1674, 1676, 1684, 1702, 1722, 1723, 1727, 1740, 1761, 1772, 1780, 1788, 1791, 1794, 1796, 1806, 1846, 1848, 1853, 1882, 1890, 1901, 1917, 1943, 1946, 1963, 1966, 1968, 1992, 1999, 2012, 2020, 2040, 2044, 2063, 2067, 2072, 2078, 2098, 2100, 2101, 2104, 2110, 2112, 2124, 2126, 2138, 2144, 2148, 2162, 2174, 2184, 2196, 2200, 2208, 2218, 2236, 2254, 2260, 2274, 2280, 2301, 2324, 2326, 2330, 2352, 2362, 2388, 2390, 2392, 2410, 2412, 2420, 2422, 2426, 2432, 2452, 2468, 2508, 2512, 2528, 2530, 2540, 2556, 2584, 2590, 2598, 2604, 2614, 2616, 2620, 2628, 2644, 2650, 2660, 2664, 2672, 2686, 2690, 2694, 2704, 2710, 2712, 2726, 2730, 2746, 2752, 2754, 2764, 2772, 2782, 2800, 2806, 2812, 2818, 2820, 2826, 2830, 2842, 2846, 2852, 2862, 2868, 2876, 2894, 2930, 2938, 2954, 2974, 2992, 3008, 3068, 3082, 3094, 3098, 3100, 3106, 3114, 3136, 3144, 3162, 3164, 3198, 3200, 3204, 3206, 3216, 3224, 3230, 3244, 3256, 3260, 3290, 3298, 3300, 3302, 3312, 3322, 3324, 3336, 3370, 3404, 3412, 3422, 3466, 3478, 3492, 3494, 3502, 3546, 3578, 3588, 3606, 3608, 3612, 3634, 3672, 3708, 3714, 3716, 3730, 3742, 3758, 3768, 3788, 3794, 3804, 3856, 3864, 3892, 3916, 3920, 3992, 3996, 3998, 4012, 4016, 4024, 4040, 4046, 4054, 4088, 4120, 4136, 4184, 4206, 4212, 4232, 4234, 4280, 4288, 4292, 4320, 4418, 4454, 4528, 4560, 4664, 4692, 4696, 4712, 4716, 4732, 4736, 4748, 4764, 4776, 4830, 4864, 4876, 4880, 4884, 4968, 5024, 5100, 5124, 5132, 5180, 5232, 5244, 5248, 5296, 5348, 5352, 5372, 5388, 5472, 5640, 5696, 5752, 5840, 5916, 6112, 6200, 6260, 6616, 6632, 6664, 6672, 6752, 6796, 6864, 6964, 7020, 7024, 7092, 7096, 7200, 7208, 7344, 7360, 7456, 7616, 7624, 7632, 7636, 7736, 7760, 7800, 7852, 7880, 7912, 7984, 8004, 8032, 8048, 8120, 8176, 8460, 8536, 8548, 8560, 8608, 8844, 8848, 8964, 8972, 8980, 9064, 9328, 9344, 9568, 9712, 9768, 9824, 10144, 10160, 10208, 10232, 10280, 10336, 10384, 10400, 10432, 10564, 10568, 10584, 10720, 10840, 10880, 10968, 11008, 11056, 11120, 11328, 11392, 11408, 11760, 11792, 11800, 11912, 12624, 12704, 12888, 12920, 12992, 13184, 13296, 13304, 13312, 13344, 13376, 13528, 13560, 13656, 14056, 14080, 14112, 14224, 14728, 14792, 14848, 14912, 14920, 15056, 15552, 15744, 15808, 16096, 16464, 16480, 16960, 17104, 17528, 17592, 18048, 18880, 18952, 19312, 19712, 19744, 19840, 19968, 20608, 20928, 21328, 21352, 21928, 22016, 22816, 23440, 24224, 24448, 24512, 24720, 25024, 25424, 25888, 27232, 27328, 27392, 30720, 30912, 31648, 32048, 32384, 34352, 34368, 34880, 37408, 38720, 39776, 47488, 48368, 51456]\n",
            "Unique values in Lifetime People who have liked your Page and engaged with your post:\n",
            "[9, 15, 17, 19, 32, 33, 58, 59, 76, 77, 92, 93, 99, 100, 101, 106, 114, 119, 123, 126, 131, 132, 134, 137, 138, 140, 143, 152, 154, 156, 157, 161, 165, 166, 167, 168, 169, 171, 172, 173, 175, 176, 180, 181, 182, 183, 184, 185, 187, 191, 194, 196, 199, 200, 201, 204, 205, 211, 217, 220, 221, 222, 230, 232, 233, 234, 236, 237, 239, 240, 244, 246, 247, 248, 251, 252, 253, 257, 259, 262, 263, 265, 266, 267, 268, 269, 271, 273, 275, 277, 278, 279, 280, 283, 287, 288, 289, 291, 293, 297, 298, 300, 301, 305, 306, 307, 309, 314, 315, 316, 319, 322, 323, 327, 328, 331, 333, 335, 336, 340, 341, 342, 344, 345, 346, 347, 348, 349, 351, 354, 355, 357, 360, 361, 363, 365, 367, 368, 370, 371, 372, 375, 376, 377, 379, 382, 383, 384, 385, 387, 389, 390, 391, 392, 393, 395, 396, 397, 398, 399, 401, 402, 403, 404, 407, 408, 411, 413, 414, 416, 417, 420, 421, 422, 423, 428, 429, 431, 432, 435, 436, 437, 438, 439, 440, 441, 445, 446, 447, 448, 451, 453, 454, 456, 459, 460, 461, 462, 463, 465, 466, 467, 469, 470, 471, 472, 475, 476, 477, 482, 483, 484, 487, 488, 489, 490, 492, 493, 495, 497, 501, 504, 505, 506, 508, 512, 514, 516, 519, 530, 536, 537, 538, 546, 555, 556, 557, 559, 563, 569, 570, 572, 575, 576, 583, 584, 590, 593, 594, 597, 598, 604, 606, 621, 628, 630, 635, 636, 642, 646, 650, 656, 657, 660, 662, 670, 676, 677, 683, 684, 697, 699, 701, 704, 705, 706, 708, 722, 724, 729, 732, 737, 740, 742, 757, 758, 760, 762, 774, 788, 796, 801, 814, 827, 843, 865, 876, 884, 885, 907, 920, 924, 956, 975, 977, 981, 985, 995, 998, 1008, 1016, 1020, 1034, 1035, 1052, 1075, 1086, 1101, 1103, 1108, 1146, 1162, 1185, 1200, 1225, 1233, 1250, 1275, 1276, 1278, 1292, 1307, 1331, 1349, 1353, 1354, 1356, 1376, 1386, 1392, 1395, 1513, 1542, 1564, 1568, 1578, 1604, 1609, 1613, 1661, 1716, 1724, 1756, 1779, 1790, 1831, 1834, 1839, 1905, 1936, 1975, 1978, 2021, 2099, 2119, 2126, 2218, 2252, 2256, 2278, 2342, 2361, 2602, 2806, 3014, 3300, 3316, 3430, 3798, 4104, 4318, 4376]\n",
            "Unique values in comment:\n",
            "[0, 1, 2, 3, 4, 5, 6, 7, 8, 9, 10, 11, 12, 13, 14, 15, 16, 17, 18, 19, 20, 21, 22, 23, 24, 25, 26, 29, 30, 33, 36, 37, 38, 41, 42, 45, 47, 51, 56, 58, 60, 64, 103, 144, 146, 372]\n",
            "Unique values in like:\n",
            "[0.0, 1.0, 2.0, 3.0, 4.0, 5.0, 6.0, 7.0, 8.0, 9.0, 11.0, 12.0, 13.0, 14.0, 15.0, 16.0, 17.0, 18.0, 19.0, 22.0, 23.0, 24.0, 25.0, 26.0, 27.0, 28.0, 29.0, 30.0, 32.0, 33.0, 34.0, 35.0, 36.0, 37.0, 38.0, 39.0, 40.0, 41.0, 42.0, 43.0, 44.0, 46.0, 47.0, 48.0, 49.0, 50.0, 51.0, 52.0, 53.0, 54.0, 55.0, 56.0, 57.0, 58.0, 59.0, 60.0, 61.0, 62.0, 63.0, 64.0, 65.0, 66.0, 67.0, 68.0, 69.0, 71.0, 72.0, 73.0, 74.0, 75.0, 76.0, 77.0, 78.0, 79.0, 80.0, 81.0, 82.0, 84.0, 85.0, 86.0, 87.0, 88.0, 89.0, 90.0, 91.0, 92.0, 93.0, 94.0, 95.0, 96.0, 97.0, 98.0, 99.0, 100.0, 101.0, 102.0, 104.0, 105.0, 107.0, 109.0, 111.0, 112.0, 113.0, 114.0, 115.0, 117.0, 118.0, 124.0, 125.0, 126.0, 127.0, 128.0, 129.0, 130.0, 134.0, 136.0, 137.0, 138.0, 139.0, 140.0, 141.0, 142.0, 143.0, 144.0, 145.0, 146.0, 148.0, 150.0, 152.0, 153.0, 154.0, 155.0, 156.0, 159.0, 160.0, 161.0, 162.0, 163.0, 164.0, 165.0, 166.0, 167.0, 168.0, 172.0, 174.0, 176.0, 179.0, 180.0, 181.0, 185.0, 186.0, 187.0, 188.0, 189.0, 190.0, 193.0, 194.0, 197.0, 198.0, 199.0, 200.0, 202.0, 204.0, 208.0, 210.0, 211.0, 212.0, 213.0, 214.0, 215.0, 216.0, 217.0, 219.0, 220.0, 223.0, 226.0, 227.0, 231.0, 233.0, 234.0, 235.0, 236.0, 237.0, 238.0, 243.0, 244.0, 249.0, 250.0, 256.0, 264.0, 267.0, 268.0, 270.0, 277.0, 278.0, 285.0, 286.0, 290.0, 301.0, 302.0, 304.0, 307.0, 310.0, 315.0, 319.0, 325.0, 328.0, 329.0, 330.0, 331.0, 332.0, 345.0, 358.0, 360.0, 363.0, 367.0, 370.0, 377.0, 379.0, 400.0, 407.0, 411.0, 412.0, 431.0, 435.0, 442.0, 447.0, 449.0, 469.0, 484.0, 485.0, 523.0, 529.0, 534.0, 535.0, 577.0, 579.0, 617.0, 664.0, 678.0, 696.0, 697.0, 755.0, 766.0, 821.0, 859.0, 955.0, 1047.0, 1155.0, 1372.0, 1505.0, 1546.0, 1572.0, 1622.0, 1639.0, 1998.0, 5172.0]\n",
            "Unique values in share:\n",
            "[0.0, 1.0, 2.0, 3.0, 4.0, 5.0, 6.0, 7.0, 8.0, 9.0, 10.0, 11.0, 12.0, 13.0, 14.0, 15.0, 16.0, 17.0, 18.0, 19.0, 20.0, 21.0, 22.0, 23.0, 24.0, 25.0, 26.0, 27.0, 28.0, 29.0, 30.0, 31.0, 32.0, 33.0, 34.0, 35.0, 36.0, 37.0, 38.0, 39.0, 40.0, 41.0, 42.0, 43.0, 44.0, 45.0, 46.0, 47.0, 49.0, 50.0, 51.0, 52.0, 53.0, 54.0, 55.0, 57.0, 58.0, 60.0, 61.0, 63.0, 64.0, 68.0, 70.0, 72.0, 74.0, 76.0, 77.0, 78.0, 79.0, 80.0, 83.0, 84.0, 90.0, 95.0, 97.0, 98.0, 99.0, 102.0, 109.0, 121.0, 122.0, 123.0, 128.0, 139.0, 147.0, 181.0, 208.0, 790.0]\n",
            "Unique values in Total Interactions:\n",
            "[0, 2, 3, 4, 5, 6, 7, 8, 9, 10, 12, 14, 15, 17, 18, 21, 24, 25, 28, 29, 30, 32, 34, 35, 36, 38, 39, 40, 41, 42, 44, 45, 46, 48, 49, 50, 53, 54, 55, 56, 57, 58, 59, 60, 61, 62, 63, 64, 65, 66, 67, 68, 69, 70, 71, 72, 73, 74, 75, 77, 79, 80, 81, 82, 83, 84, 85, 86, 87, 88, 89, 90, 91, 92, 93, 94, 95, 96, 97, 98, 99, 100, 101, 103, 104, 105, 106, 107, 108, 110, 113, 114, 115, 117, 118, 119, 120, 121, 122, 123, 124, 125, 126, 127, 128, 129, 130, 131, 132, 133, 134, 135, 136, 137, 138, 139, 142, 143, 144, 148, 149, 152, 154, 155, 157, 158, 160, 162, 163, 164, 165, 166, 167, 168, 170, 171, 172, 173, 174, 176, 178, 179, 180, 182, 183, 184, 185, 186, 188, 189, 190, 192, 193, 194, 195, 199, 200, 202, 203, 204, 208, 210, 211, 212, 214, 217, 218, 220, 222, 224, 225, 226, 228, 230, 232, 233, 234, 235, 236, 237, 238, 242, 243, 245, 249, 251, 252, 254, 255, 257, 262, 263, 264, 265, 266, 269, 271, 273, 274, 276, 279, 280, 282, 285, 287, 288, 290, 294, 295, 299, 300, 305, 309, 311, 313, 316, 330, 335, 337, 339, 342, 355, 363, 367, 376, 378, 387, 390, 393, 404, 409, 410, 420, 421, 429, 430, 441, 447, 454, 456, 458, 470, 472, 490, 494, 505, 515, 528, 550, 557, 572, 587, 596, 599, 605, 622, 624, 633, 691, 713, 730, 771, 787, 818, 823, 881, 931, 948, 1009, 1136, 1174, 1290, 1439, 1626, 1777, 1806, 1873, 1974, 2177, 6334]\n"
          ],
          "name": "stdout"
        }
      ]
    },
    {
      "cell_type": "code",
      "metadata": {
        "id": "XEiu7hqPlAsU",
        "outputId": "f29e20ee-6a84-410e-a6ab-4c0503347efe",
        "colab": {
          "base_uri": "https://localhost:8080/",
          "height": 34
        }
      },
      "source": [
        "outlierCut = np.percentile(data['like'],90)\n",
        "outlierCut"
      ],
      "execution_count": null,
      "outputs": [
        {
          "output_type": "execute_result",
          "data": {
            "text/plain": [
              "330.1"
            ]
          },
          "metadata": {
            "tags": []
          },
          "execution_count": 49
        }
      ]
    },
    {
      "cell_type": "code",
      "metadata": {
        "id": "mWQE6IlUlGAJ"
      },
      "source": [
        "data = data[data['like']<outlierCut]"
      ],
      "execution_count": null,
      "outputs": []
    },
    {
      "cell_type": "code",
      "metadata": {
        "id": "gf5zMSyUiu2S"
      },
      "source": [
        "def Weekday(x):\n",
        "    if x == 1:\n",
        "        return 'Su'\n",
        "    elif x== 2:\n",
        "        return 'Mo'\n",
        "    elif x == 3:\n",
        "        return 'Tu'\n",
        "    elif x == 4:\n",
        "        return 'We'\n",
        "    elif x == 5:\n",
        "        return 'Th'\n",
        "    elif x ==6:\n",
        "        return 'Fr'\n",
        "    elif x == 7:\n",
        "        return \"Sa\"\n",
        "\n",
        "data['Weekday'] = data['Post Weekday'].apply(lambda x: Weekday(x))"
      ],
      "execution_count": null,
      "outputs": []
    },
    {
      "cell_type": "code",
      "metadata": {
        "id": "Hro7QpnhjNNl"
      },
      "source": [
        "dayDf = pd.get_dummies(data['Weekday'])"
      ],
      "execution_count": null,
      "outputs": []
    },
    {
      "cell_type": "code",
      "metadata": {
        "id": "dokNP6RSjQHt"
      },
      "source": [
        "data = pd.concat([data,dayDf],axis=1)"
      ],
      "execution_count": null,
      "outputs": []
    },
    {
      "cell_type": "code",
      "metadata": {
        "id": "iPXlPz_GjWNl"
      },
      "source": [
        "hours = list(range(0,18))\n",
        "#hours\n",
        "for i in hours:\n",
        "    hours[i] = str(hours[i])\n",
        "    hours[i]='hr_'+ hours[i]\n",
        "    #print str(hours[i])"
      ],
      "execution_count": null,
      "outputs": []
    },
    {
      "cell_type": "code",
      "metadata": {
        "id": "NzHbdet0jX5v"
      },
      "source": [
        "hourDf = pd.get_dummies(data['Post Hour'],prefix='hr_')\n",
        "data = pd.concat([data,hourDf],axis=1)\n",
        "monthDf = pd.get_dummies(data['Post Month'],prefix='Mo')\n",
        "data = pd.concat([data,monthDf],axis=1)\n",
        "data['Video'] = pd.get_dummies(data['Type'])['Video']\n",
        "data['Status'] = pd.get_dummies(data['Type'])['Status']\n",
        "data['Photo'] = pd.get_dummies(data['Type'])['Photo']\n",
        "data['Cat_1'] = pd.get_dummies(data['Category'])[1]\n",
        "data['Cat_2'] = pd.get_dummies(data['Category'])[2]\n"
      ],
      "execution_count": null,
      "outputs": []
    },
    {
      "cell_type": "code",
      "metadata": {
        "id": "FAPlDps9j0ud",
        "outputId": "61d318c1-854b-4cc0-ad1d-cf9f72b8acfc",
        "colab": {
          "base_uri": "https://localhost:8080/",
          "height": 406
        }
      },
      "source": [
        "\n",
        "data.head()"
      ],
      "execution_count": null,
      "outputs": [
        {
          "output_type": "execute_result",
          "data": {
            "text/html": [
              "<div>\n",
              "<style scoped>\n",
              "    .dataframe tbody tr th:only-of-type {\n",
              "        vertical-align: middle;\n",
              "    }\n",
              "\n",
              "    .dataframe tbody tr th {\n",
              "        vertical-align: top;\n",
              "    }\n",
              "\n",
              "    .dataframe thead th {\n",
              "        text-align: right;\n",
              "    }\n",
              "</style>\n",
              "<table border=\"1\" class=\"dataframe\">\n",
              "  <thead>\n",
              "    <tr style=\"text-align: right;\">\n",
              "      <th></th>\n",
              "      <th>Page total likes</th>\n",
              "      <th>Type</th>\n",
              "      <th>Category</th>\n",
              "      <th>Post Month</th>\n",
              "      <th>Post Weekday</th>\n",
              "      <th>Post Hour</th>\n",
              "      <th>Paid</th>\n",
              "      <th>Lifetime Post Total Reach</th>\n",
              "      <th>Lifetime Post Total Impressions</th>\n",
              "      <th>Lifetime Engaged Users</th>\n",
              "      <th>Lifetime Post Consumers</th>\n",
              "      <th>Lifetime Post Consumptions</th>\n",
              "      <th>Lifetime Post Impressions by people who have liked your Page</th>\n",
              "      <th>Lifetime Post reach by people who like your Page</th>\n",
              "      <th>Lifetime People who have liked your Page and engaged with your post</th>\n",
              "      <th>comment</th>\n",
              "      <th>like</th>\n",
              "      <th>share</th>\n",
              "      <th>Total Interactions</th>\n",
              "      <th>Weekday</th>\n",
              "      <th>Fr</th>\n",
              "      <th>Mo</th>\n",
              "      <th>Sa</th>\n",
              "      <th>Su</th>\n",
              "      <th>Th</th>\n",
              "      <th>...</th>\n",
              "      <th>hr__15</th>\n",
              "      <th>hr__16</th>\n",
              "      <th>hr__17</th>\n",
              "      <th>hr__18</th>\n",
              "      <th>hr__19</th>\n",
              "      <th>hr__20</th>\n",
              "      <th>hr__22</th>\n",
              "      <th>hr__23</th>\n",
              "      <th>Mo_1</th>\n",
              "      <th>Mo_2</th>\n",
              "      <th>Mo_3</th>\n",
              "      <th>Mo_4</th>\n",
              "      <th>Mo_5</th>\n",
              "      <th>Mo_6</th>\n",
              "      <th>Mo_7</th>\n",
              "      <th>Mo_8</th>\n",
              "      <th>Mo_9</th>\n",
              "      <th>Mo_10</th>\n",
              "      <th>Mo_11</th>\n",
              "      <th>Mo_12</th>\n",
              "      <th>Video</th>\n",
              "      <th>Status</th>\n",
              "      <th>Photo</th>\n",
              "      <th>Cat_1</th>\n",
              "      <th>Cat_2</th>\n",
              "    </tr>\n",
              "  </thead>\n",
              "  <tbody>\n",
              "    <tr>\n",
              "      <th>0</th>\n",
              "      <td>139441</td>\n",
              "      <td>Photo</td>\n",
              "      <td>2</td>\n",
              "      <td>12</td>\n",
              "      <td>4</td>\n",
              "      <td>3</td>\n",
              "      <td>0.0</td>\n",
              "      <td>2752</td>\n",
              "      <td>5091</td>\n",
              "      <td>178</td>\n",
              "      <td>109</td>\n",
              "      <td>159</td>\n",
              "      <td>3078</td>\n",
              "      <td>1640</td>\n",
              "      <td>119</td>\n",
              "      <td>4</td>\n",
              "      <td>79.0</td>\n",
              "      <td>17.0</td>\n",
              "      <td>100</td>\n",
              "      <td>We</td>\n",
              "      <td>0</td>\n",
              "      <td>0</td>\n",
              "      <td>0</td>\n",
              "      <td>0</td>\n",
              "      <td>0</td>\n",
              "      <td>...</td>\n",
              "      <td>0</td>\n",
              "      <td>0</td>\n",
              "      <td>0</td>\n",
              "      <td>0</td>\n",
              "      <td>0</td>\n",
              "      <td>0</td>\n",
              "      <td>0</td>\n",
              "      <td>0</td>\n",
              "      <td>0</td>\n",
              "      <td>0</td>\n",
              "      <td>0</td>\n",
              "      <td>0</td>\n",
              "      <td>0</td>\n",
              "      <td>0</td>\n",
              "      <td>0</td>\n",
              "      <td>0</td>\n",
              "      <td>0</td>\n",
              "      <td>0</td>\n",
              "      <td>0</td>\n",
              "      <td>1</td>\n",
              "      <td>0</td>\n",
              "      <td>0</td>\n",
              "      <td>1</td>\n",
              "      <td>0</td>\n",
              "      <td>1</td>\n",
              "    </tr>\n",
              "    <tr>\n",
              "      <th>1</th>\n",
              "      <td>139441</td>\n",
              "      <td>Status</td>\n",
              "      <td>2</td>\n",
              "      <td>12</td>\n",
              "      <td>3</td>\n",
              "      <td>10</td>\n",
              "      <td>0.0</td>\n",
              "      <td>10460</td>\n",
              "      <td>19057</td>\n",
              "      <td>1457</td>\n",
              "      <td>1361</td>\n",
              "      <td>1674</td>\n",
              "      <td>11710</td>\n",
              "      <td>6112</td>\n",
              "      <td>1108</td>\n",
              "      <td>5</td>\n",
              "      <td>130.0</td>\n",
              "      <td>29.0</td>\n",
              "      <td>164</td>\n",
              "      <td>Tu</td>\n",
              "      <td>0</td>\n",
              "      <td>0</td>\n",
              "      <td>0</td>\n",
              "      <td>0</td>\n",
              "      <td>0</td>\n",
              "      <td>...</td>\n",
              "      <td>0</td>\n",
              "      <td>0</td>\n",
              "      <td>0</td>\n",
              "      <td>0</td>\n",
              "      <td>0</td>\n",
              "      <td>0</td>\n",
              "      <td>0</td>\n",
              "      <td>0</td>\n",
              "      <td>0</td>\n",
              "      <td>0</td>\n",
              "      <td>0</td>\n",
              "      <td>0</td>\n",
              "      <td>0</td>\n",
              "      <td>0</td>\n",
              "      <td>0</td>\n",
              "      <td>0</td>\n",
              "      <td>0</td>\n",
              "      <td>0</td>\n",
              "      <td>0</td>\n",
              "      <td>1</td>\n",
              "      <td>0</td>\n",
              "      <td>1</td>\n",
              "      <td>0</td>\n",
              "      <td>0</td>\n",
              "      <td>1</td>\n",
              "    </tr>\n",
              "    <tr>\n",
              "      <th>2</th>\n",
              "      <td>139441</td>\n",
              "      <td>Photo</td>\n",
              "      <td>3</td>\n",
              "      <td>12</td>\n",
              "      <td>3</td>\n",
              "      <td>3</td>\n",
              "      <td>0.0</td>\n",
              "      <td>2413</td>\n",
              "      <td>4373</td>\n",
              "      <td>177</td>\n",
              "      <td>113</td>\n",
              "      <td>154</td>\n",
              "      <td>2812</td>\n",
              "      <td>1503</td>\n",
              "      <td>132</td>\n",
              "      <td>0</td>\n",
              "      <td>66.0</td>\n",
              "      <td>14.0</td>\n",
              "      <td>80</td>\n",
              "      <td>Tu</td>\n",
              "      <td>0</td>\n",
              "      <td>0</td>\n",
              "      <td>0</td>\n",
              "      <td>0</td>\n",
              "      <td>0</td>\n",
              "      <td>...</td>\n",
              "      <td>0</td>\n",
              "      <td>0</td>\n",
              "      <td>0</td>\n",
              "      <td>0</td>\n",
              "      <td>0</td>\n",
              "      <td>0</td>\n",
              "      <td>0</td>\n",
              "      <td>0</td>\n",
              "      <td>0</td>\n",
              "      <td>0</td>\n",
              "      <td>0</td>\n",
              "      <td>0</td>\n",
              "      <td>0</td>\n",
              "      <td>0</td>\n",
              "      <td>0</td>\n",
              "      <td>0</td>\n",
              "      <td>0</td>\n",
              "      <td>0</td>\n",
              "      <td>0</td>\n",
              "      <td>1</td>\n",
              "      <td>0</td>\n",
              "      <td>0</td>\n",
              "      <td>1</td>\n",
              "      <td>0</td>\n",
              "      <td>0</td>\n",
              "    </tr>\n",
              "    <tr>\n",
              "      <th>4</th>\n",
              "      <td>139441</td>\n",
              "      <td>Photo</td>\n",
              "      <td>2</td>\n",
              "      <td>12</td>\n",
              "      <td>2</td>\n",
              "      <td>3</td>\n",
              "      <td>0.0</td>\n",
              "      <td>7244</td>\n",
              "      <td>13594</td>\n",
              "      <td>671</td>\n",
              "      <td>410</td>\n",
              "      <td>580</td>\n",
              "      <td>6228</td>\n",
              "      <td>3200</td>\n",
              "      <td>396</td>\n",
              "      <td>19</td>\n",
              "      <td>325.0</td>\n",
              "      <td>49.0</td>\n",
              "      <td>393</td>\n",
              "      <td>Mo</td>\n",
              "      <td>0</td>\n",
              "      <td>1</td>\n",
              "      <td>0</td>\n",
              "      <td>0</td>\n",
              "      <td>0</td>\n",
              "      <td>...</td>\n",
              "      <td>0</td>\n",
              "      <td>0</td>\n",
              "      <td>0</td>\n",
              "      <td>0</td>\n",
              "      <td>0</td>\n",
              "      <td>0</td>\n",
              "      <td>0</td>\n",
              "      <td>0</td>\n",
              "      <td>0</td>\n",
              "      <td>0</td>\n",
              "      <td>0</td>\n",
              "      <td>0</td>\n",
              "      <td>0</td>\n",
              "      <td>0</td>\n",
              "      <td>0</td>\n",
              "      <td>0</td>\n",
              "      <td>0</td>\n",
              "      <td>0</td>\n",
              "      <td>0</td>\n",
              "      <td>1</td>\n",
              "      <td>0</td>\n",
              "      <td>0</td>\n",
              "      <td>1</td>\n",
              "      <td>0</td>\n",
              "      <td>1</td>\n",
              "    </tr>\n",
              "    <tr>\n",
              "      <th>5</th>\n",
              "      <td>139441</td>\n",
              "      <td>Status</td>\n",
              "      <td>2</td>\n",
              "      <td>12</td>\n",
              "      <td>1</td>\n",
              "      <td>9</td>\n",
              "      <td>0.0</td>\n",
              "      <td>10472</td>\n",
              "      <td>20849</td>\n",
              "      <td>1191</td>\n",
              "      <td>1073</td>\n",
              "      <td>1389</td>\n",
              "      <td>16034</td>\n",
              "      <td>7852</td>\n",
              "      <td>1016</td>\n",
              "      <td>1</td>\n",
              "      <td>152.0</td>\n",
              "      <td>33.0</td>\n",
              "      <td>186</td>\n",
              "      <td>Su</td>\n",
              "      <td>0</td>\n",
              "      <td>0</td>\n",
              "      <td>0</td>\n",
              "      <td>1</td>\n",
              "      <td>0</td>\n",
              "      <td>...</td>\n",
              "      <td>0</td>\n",
              "      <td>0</td>\n",
              "      <td>0</td>\n",
              "      <td>0</td>\n",
              "      <td>0</td>\n",
              "      <td>0</td>\n",
              "      <td>0</td>\n",
              "      <td>0</td>\n",
              "      <td>0</td>\n",
              "      <td>0</td>\n",
              "      <td>0</td>\n",
              "      <td>0</td>\n",
              "      <td>0</td>\n",
              "      <td>0</td>\n",
              "      <td>0</td>\n",
              "      <td>0</td>\n",
              "      <td>0</td>\n",
              "      <td>0</td>\n",
              "      <td>0</td>\n",
              "      <td>1</td>\n",
              "      <td>0</td>\n",
              "      <td>1</td>\n",
              "      <td>0</td>\n",
              "      <td>0</td>\n",
              "      <td>1</td>\n",
              "    </tr>\n",
              "  </tbody>\n",
              "</table>\n",
              "<p>5 rows × 66 columns</p>\n",
              "</div>"
            ],
            "text/plain": [
              "   Page total likes    Type  Category  Post Month  Post Weekday  Post Hour  \\\n",
              "0            139441   Photo         2          12             4          3   \n",
              "1            139441  Status         2          12             3         10   \n",
              "2            139441   Photo         3          12             3          3   \n",
              "4            139441   Photo         2          12             2          3   \n",
              "5            139441  Status         2          12             1          9   \n",
              "\n",
              "   Paid  Lifetime Post Total Reach  Lifetime Post Total Impressions  \\\n",
              "0   0.0                       2752                             5091   \n",
              "1   0.0                      10460                            19057   \n",
              "2   0.0                       2413                             4373   \n",
              "4   0.0                       7244                            13594   \n",
              "5   0.0                      10472                            20849   \n",
              "\n",
              "   Lifetime Engaged Users  Lifetime Post Consumers  \\\n",
              "0                     178                      109   \n",
              "1                    1457                     1361   \n",
              "2                     177                      113   \n",
              "4                     671                      410   \n",
              "5                    1191                     1073   \n",
              "\n",
              "   Lifetime Post Consumptions  \\\n",
              "0                         159   \n",
              "1                        1674   \n",
              "2                         154   \n",
              "4                         580   \n",
              "5                        1389   \n",
              "\n",
              "   Lifetime Post Impressions by people who have liked your Page  \\\n",
              "0                                               3078              \n",
              "1                                              11710              \n",
              "2                                               2812              \n",
              "4                                               6228              \n",
              "5                                              16034              \n",
              "\n",
              "   Lifetime Post reach by people who like your Page  \\\n",
              "0                                              1640   \n",
              "1                                              6112   \n",
              "2                                              1503   \n",
              "4                                              3200   \n",
              "5                                              7852   \n",
              "\n",
              "   Lifetime People who have liked your Page and engaged with your post  \\\n",
              "0                                                119                     \n",
              "1                                               1108                     \n",
              "2                                                132                     \n",
              "4                                                396                     \n",
              "5                                               1016                     \n",
              "\n",
              "   comment   like  share  Total Interactions Weekday  Fr  Mo  Sa  Su  Th  \\\n",
              "0        4   79.0   17.0                 100      We   0   0   0   0   0   \n",
              "1        5  130.0   29.0                 164      Tu   0   0   0   0   0   \n",
              "2        0   66.0   14.0                  80      Tu   0   0   0   0   0   \n",
              "4       19  325.0   49.0                 393      Mo   0   1   0   0   0   \n",
              "5        1  152.0   33.0                 186      Su   0   0   0   1   0   \n",
              "\n",
              "   ...    hr__15  hr__16  hr__17  hr__18  hr__19  hr__20  hr__22  hr__23  \\\n",
              "0  ...         0       0       0       0       0       0       0       0   \n",
              "1  ...         0       0       0       0       0       0       0       0   \n",
              "2  ...         0       0       0       0       0       0       0       0   \n",
              "4  ...         0       0       0       0       0       0       0       0   \n",
              "5  ...         0       0       0       0       0       0       0       0   \n",
              "\n",
              "   Mo_1  Mo_2  Mo_3  Mo_4  Mo_5  Mo_6  Mo_7  Mo_8  Mo_9  Mo_10  Mo_11  Mo_12  \\\n",
              "0     0     0     0     0     0     0     0     0     0      0      0      1   \n",
              "1     0     0     0     0     0     0     0     0     0      0      0      1   \n",
              "2     0     0     0     0     0     0     0     0     0      0      0      1   \n",
              "4     0     0     0     0     0     0     0     0     0      0      0      1   \n",
              "5     0     0     0     0     0     0     0     0     0      0      0      1   \n",
              "\n",
              "   Video  Status  Photo  Cat_1  Cat_2  \n",
              "0      0       0      1      0      1  \n",
              "1      0       1      0      0      1  \n",
              "2      0       0      1      0      0  \n",
              "4      0       0      1      0      1  \n",
              "5      0       1      0      0      1  \n",
              "\n",
              "[5 rows x 66 columns]"
            ]
          },
          "metadata": {
            "tags": []
          },
          "execution_count": 56
        }
      ]
    },
    {
      "cell_type": "markdown",
      "metadata": {
        "id": "n6Twd53m-p5v"
      },
      "source": [
        ""
      ]
    },
    {
      "cell_type": "code",
      "metadata": {
        "id": "RjNxp35okDpk"
      },
      "source": [
        "x = data[['Page total likes','Paid','Video','Status','Photo',\n",
        "    'Cat_1','Cat_2','Mo','Tu','Sa',\"We\",'Th','Fr',\n",
        "       'hr__17','hr__1','hr__2','hr__3','hr__4','hr__5', 'hr__6','hr__7','hr__8',\n",
        "        'hr__9','hr__10','hr__11','hr__12','hr__13','hr__14','hr__15','hr__16','Mo_1',\n",
        "       'Mo_2','Mo_12','Mo_4','Mo_5','Mo_6','Mo_7','Mo_8','Mo_9','Mo_11','Mo_10']]\n",
        "y = data['Total Interactions']"
      ],
      "execution_count": null,
      "outputs": []
    },
    {
      "cell_type": "code",
      "metadata": {
        "id": "4ZRrIRF8kIdD"
      },
      "source": [
        "\n",
        "x_train,x_test,y_train, y_test = train_test_split(x,\n",
        "                                                  y, test_size=0.1,\n",
        "                                                  random_state=42)"
      ],
      "execution_count": null,
      "outputs": []
    },
    {
      "cell_type": "code",
      "metadata": {
        "id": "oWokDCBQuHgv",
        "outputId": "2d3aa844-f487-406f-8f92-d5a30ee51448",
        "colab": {
          "base_uri": "https://localhost:8080/",
          "height": 34
        }
      },
      "source": [
        "y_test.count()"
      ],
      "execution_count": null,
      "outputs": [
        {
          "output_type": "execute_result",
          "data": {
            "text/plain": [
              "45"
            ]
          },
          "metadata": {
            "tags": []
          },
          "execution_count": 59
        }
      ]
    },
    {
      "cell_type": "code",
      "metadata": {
        "id": "4lbNsy26uKsK",
        "outputId": "e639d363-b0ef-4cd0-f79b-d1c930be197a",
        "colab": {
          "base_uri": "https://localhost:8080/",
          "height": 136
        }
      },
      "source": [
        "x_test.columns"
      ],
      "execution_count": null,
      "outputs": [
        {
          "output_type": "execute_result",
          "data": {
            "text/plain": [
              "Index(['Page total likes', 'Paid', 'Video', 'Status', 'Photo', 'Cat_1',\n",
              "       'Cat_2', 'Mo', 'Tu', 'Sa', 'We', 'Th', 'Fr', 'hr__17', 'hr__1', 'hr__2',\n",
              "       'hr__3', 'hr__4', 'hr__5', 'hr__6', 'hr__7', 'hr__8', 'hr__9', 'hr__10',\n",
              "       'hr__11', 'hr__12', 'hr__13', 'hr__14', 'hr__15', 'hr__16', 'Mo_1',\n",
              "       'Mo_2', 'Mo_12', 'Mo_4', 'Mo_5', 'Mo_6', 'Mo_7', 'Mo_8', 'Mo_9',\n",
              "       'Mo_11', 'Mo_10'],\n",
              "      dtype='object')"
            ]
          },
          "metadata": {
            "tags": []
          },
          "execution_count": 60
        }
      ]
    },
    {
      "cell_type": "code",
      "metadata": {
        "id": "euro9BzHuNsI",
        "outputId": "b7158012-24b4-4b17-f10d-17c65bbd8d00",
        "colab": {
          "base_uri": "https://localhost:8080/",
          "height": 68
        }
      },
      "source": [
        "reg = linear_model.LinearRegression(normalize=True)\n",
        "lasso = linear_model.Lasso(normalize=True)\n",
        "reg.fit(x_train,y_train)\n",
        "lasso.fit(x_train,y_train)"
      ],
      "execution_count": null,
      "outputs": [
        {
          "output_type": "execute_result",
          "data": {
            "text/plain": [
              "Lasso(alpha=1.0, copy_X=True, fit_intercept=True, max_iter=1000,\n",
              "   normalize=True, positive=False, precompute=False, random_state=None,\n",
              "   selection='cyclic', tol=0.0001, warm_start=False)"
            ]
          },
          "metadata": {
            "tags": []
          },
          "execution_count": 61
        }
      ]
    },
    {
      "cell_type": "code",
      "metadata": {
        "id": "J40iJNgyuQud",
        "outputId": "88a12e37-cb6d-4639-b71b-47aa1aa0f996",
        "colab": {
          "base_uri": "https://localhost:8080/",
          "height": 204
        }
      },
      "source": [
        "reg.coef_"
      ],
      "execution_count": null,
      "outputs": [
        {
          "output_type": "execute_result",
          "data": {
            "text/plain": [
              "array([ 6.88696089e-03,  1.18091461e+01,  1.31327991e+02,  7.46400495e+01,\n",
              "        3.59053197e+01, -5.02819786e+01, -1.77362313e+01,  6.18762265e-01,\n",
              "       -3.49520065e+00, -1.71012797e+00,  4.10109769e+01,  1.38506788e+01,\n",
              "        1.39747700e+01,  8.84621310e+01,  4.57016239e+01, -6.34197423e+00,\n",
              "        1.36706333e+01,  6.05586248e+00,  7.61091406e+00, -1.71706314e+01,\n",
              "       -7.98758446e+00, -2.26107368e+01,  8.19424516e-01,  1.76718075e+01,\n",
              "        3.14777138e+00, -2.04208043e+01,  2.05359203e+01, -1.22084344e+01,\n",
              "       -3.96543813e+01, -9.25362168e+01,  1.35544051e+02,  1.34423441e+02,\n",
              "       -2.47654046e+02, -3.70949069e+01, -6.96275330e+01, -1.55218755e+02,\n",
              "       -1.65678726e+02, -2.13547323e+02, -1.78841980e+02, -2.14750881e+02,\n",
              "       -2.33982237e+02])"
            ]
          },
          "metadata": {
            "tags": []
          },
          "execution_count": 62
        }
      ]
    },
    {
      "cell_type": "code",
      "metadata": {
        "id": "3cI_zsW-uS6E",
        "outputId": "f6b1f55c-12ba-46e4-a52e-aa9c5cabf738",
        "colab": {
          "base_uri": "https://localhost:8080/",
          "height": 204
        }
      },
      "source": [
        "\n",
        "lasso.coef_"
      ],
      "execution_count": null,
      "outputs": [
        {
          "output_type": "execute_result",
          "data": {
            "text/plain": [
              "array([  0.        ,   0.        ,   0.        ,   0.        ,\n",
              "        -0.        , -10.67184397,   0.        ,  -0.        ,\n",
              "        -0.        ,  -0.        ,   0.        ,   0.        ,\n",
              "        -0.        ,   0.        ,   0.        ,  -0.        ,\n",
              "         0.        ,   0.        ,  -0.        ,  -0.        ,\n",
              "        -0.        ,  -0.        ,  -0.        ,   0.        ,\n",
              "         0.        ,  -0.        ,   0.        ,  -0.        ,\n",
              "        -0.        ,  -0.        ,  -0.        ,   0.        ,\n",
              "        -0.        ,  -0.        ,   0.        ,  -0.        ,\n",
              "         0.        ,  -0.        ,   0.        ,   0.        ,\n",
              "        -0.        ])"
            ]
          },
          "metadata": {
            "tags": []
          },
          "execution_count": 63
        }
      ]
    },
    {
      "cell_type": "code",
      "metadata": {
        "id": "nSQLq9SruV7R"
      },
      "source": [
        "pred = reg.predict(x_test)\n",
        "pred_train = reg.predict(x_train)\n",
        "\n",
        "lpred = lasso.predict(x_test)\n",
        "lpred_train = lasso.predict(x_train)"
      ],
      "execution_count": null,
      "outputs": []
    },
    {
      "cell_type": "code",
      "metadata": {
        "id": "wS3g60UquY3F",
        "outputId": "a1c1acec-db98-4213-9395-98922dc7ee46",
        "colab": {
          "base_uri": "https://localhost:8080/",
          "height": 371
        }
      },
      "source": [
        "LRerror = y_test - pred\n",
        "plt.scatter(y_test, LRerror)\n",
        "#plt.ylim(-400,400)\n",
        "#plt.xlim(0,450)"
      ],
      "execution_count": null,
      "outputs": [
        {
          "output_type": "execute_result",
          "data": {
            "text/plain": [
              "<matplotlib.collections.PathCollection at 0x7f42e2c0a4a8>"
            ]
          },
          "metadata": {
            "tags": []
          },
          "execution_count": 65
        },
        {
          "output_type": "display_data",
          "data": {
            "image/png": "[encoded data removed]",
            "text/plain": [
              "<Figure size 576x396 with 1 Axes>"
            ]
          },
          "metadata": {
            "tags": []
          }
        }
      ]
    },
    {
      "cell_type": "code",
      "metadata": {
        "id": "YiojamJ6ucF5",
        "outputId": "523d1c58-0c90-4013-853d-f696ee0546de",
        "colab": {
          "base_uri": "https://localhost:8080/",
          "height": 375
        }
      },
      "source": [
        "LSerror = y_test - lpred\n",
        "plt.scatter(y_test, LSerror)\n",
        "plt.ylim(-400,400)\n",
        "plt.xlim(0,450)"
      ],
      "execution_count": null,
      "outputs": [
        {
          "output_type": "execute_result",
          "data": {
            "text/plain": [
              "(0, 450)"
            ]
          },
          "metadata": {
            "tags": []
          },
          "execution_count": 66
        },
        {
          "output_type": "display_data",
          "data": {
            "image/png": "[encoded data removed]",
            "text/plain": [
              "<Figure size 576x396 with 1 Axes>"
            ]
          },
          "metadata": {
            "tags": []
          }
        }
      ]
    },
    {
      "cell_type": "code",
      "metadata": {
        "id": "5Cd70tiIufCr"
      },
      "source": [
        "testScore = r2_score(y_pred=pred,y_true=y_test)\n",
        "trainScore = r2_score(y_pred=pred_train,y_true=y_train)\n",
        "\n",
        "ltestScore = r2_score(y_pred=lpred,y_true=y_test)\n",
        "ltrainScore = r2_score(y_pred=lpred_train,y_true=y_train)"
      ],
      "execution_count": null,
      "outputs": []
    },
    {
      "cell_type": "code",
      "metadata": {
        "id": "OJDdpjmwuhhy",
        "outputId": "5e5a15f5-d724-4df1-a760-8615ca3974b9",
        "colab": {
          "base_uri": "https://localhost:8080/",
          "height": 111
        }
      },
      "source": [
        "lrResults = pd.DataFrame()\n",
        "lrResults['Score'] = [trainScore,testScore]\n",
        "lrResults['Step'] = ['train','test']\n",
        "\n",
        "lrResults"
      ],
      "execution_count": null,
      "outputs": [
        {
          "output_type": "execute_result",
          "data": {
            "text/html": [
              "<div>\n",
              "<style scoped>\n",
              "    .dataframe tbody tr th:only-of-type {\n",
              "        vertical-align: middle;\n",
              "    }\n",
              "\n",
              "    .dataframe tbody tr th {\n",
              "        vertical-align: top;\n",
              "    }\n",
              "\n",
              "    .dataframe thead th {\n",
              "        text-align: right;\n",
              "    }\n",
              "</style>\n",
              "<table border=\"1\" class=\"dataframe\">\n",
              "  <thead>\n",
              "    <tr style=\"text-align: right;\">\n",
              "      <th></th>\n",
              "      <th>Score</th>\n",
              "      <th>Step</th>\n",
              "    </tr>\n",
              "  </thead>\n",
              "  <tbody>\n",
              "    <tr>\n",
              "      <th>0</th>\n",
              "      <td>0.225103</td>\n",
              "      <td>train</td>\n",
              "    </tr>\n",
              "    <tr>\n",
              "      <th>1</th>\n",
              "      <td>0.214642</td>\n",
              "      <td>test</td>\n",
              "    </tr>\n",
              "  </tbody>\n",
              "</table>\n",
              "</div>"
            ],
            "text/plain": [
              "      Score   Step\n",
              "0  0.225103  train\n",
              "1  0.214642   test"
            ]
          },
          "metadata": {
            "tags": []
          },
          "execution_count": 68
        }
      ]
    },
    {
      "cell_type": "code",
      "metadata": {
        "id": "1bejrlh9ulBs",
        "outputId": "ac41dfe2-265e-47c7-d3c6-af88df1265e0",
        "colab": {
          "base_uri": "https://localhost:8080/",
          "height": 111
        }
      },
      "source": [
        "lassoResults = pd.DataFrame()\n",
        "lassoResults['Score'] = [ltrainScore,ltestScore]\n",
        "lassoResults['Step'] = ['train','test']\n",
        "\n",
        "lassoResults"
      ],
      "execution_count": null,
      "outputs": [
        {
          "output_type": "execute_result",
          "data": {
            "text/html": [
              "<div>\n",
              "<style scoped>\n",
              "    .dataframe tbody tr th:only-of-type {\n",
              "        vertical-align: middle;\n",
              "    }\n",
              "\n",
              "    .dataframe tbody tr th {\n",
              "        vertical-align: top;\n",
              "    }\n",
              "\n",
              "    .dataframe thead th {\n",
              "        text-align: right;\n",
              "    }\n",
              "</style>\n",
              "<table border=\"1\" class=\"dataframe\">\n",
              "  <thead>\n",
              "    <tr style=\"text-align: right;\">\n",
              "      <th></th>\n",
              "      <th>Score</th>\n",
              "      <th>Step</th>\n",
              "    </tr>\n",
              "  </thead>\n",
              "  <tbody>\n",
              "    <tr>\n",
              "      <th>0</th>\n",
              "      <td>0.028822</td>\n",
              "      <td>train</td>\n",
              "    </tr>\n",
              "    <tr>\n",
              "      <th>1</th>\n",
              "      <td>-0.046579</td>\n",
              "      <td>test</td>\n",
              "    </tr>\n",
              "  </tbody>\n",
              "</table>\n",
              "</div>"
            ],
            "text/plain": [
              "      Score   Step\n",
              "0  0.028822  train\n",
              "1 -0.046579   test"
            ]
          },
          "metadata": {
            "tags": []
          },
          "execution_count": 69
        }
      ]
    },
    {
      "cell_type": "code",
      "metadata": {
        "id": "aBwgfYv8uovp",
        "outputId": "c704cec4-951d-4f3e-ceab-606495ca3ac2",
        "colab": {
          "base_uri": "https://localhost:8080/",
          "height": 465
        }
      },
      "source": [
        "sns.pointplot(y=lrResults['Score'],x=lrResults['Step'])\n",
        "plt.ylim([-.1,1])\n",
        "plt.title('R^2 Scores')\n"
      ],
      "execution_count": null,
      "outputs": [
        {
          "output_type": "stream",
          "text": [
            "/usr/local/lib/python3.6/dist-packages/seaborn/categorical.py:1428: FutureWarning: remove_na is deprecated and is a private function. Do not use.\n",
            "  stat_data = remove_na(group_data)\n"
          ],
          "name": "stderr"
        },
        {
          "output_type": "execute_result",
          "data": {
            "text/plain": [
              "Text(0.5, 1.0, 'R^2 Scores')"
            ]
          },
          "metadata": {
            "tags": []
          },
          "execution_count": 70
        },
        {
          "output_type": "display_data",
          "data": {
            "image/png": "[encoded data removed]",
            "text/plain": [
              "<Figure size 576x396 with 1 Axes>"
            ]
          },
          "metadata": {
            "tags": []
          }
        }
      ]
    },
    {
      "cell_type": "code",
      "metadata": {
        "id": "hlrE4NxGAafT",
        "outputId": "890d4db7-0843-4626-8ffa-b0de1480d642",
        "colab": {
          "base_uri": "https://localhost:8080/",
          "height": 68
        }
      },
      "source": [
        "from sklearn.ensemble import RandomForestRegressor\n",
        "rf = RandomForestRegressor(n_estimators=500,min_samples_split=10)\n",
        "rf.fit(x_train,y_train)\n",
        "RandomForestRegressor(bootstrap=True, criterion='mse', max_depth=None,\n",
        "           max_features='auto', max_leaf_nodes=None,\n",
        "           min_impurity_split=1e-07, min_samples_leaf=1,\n",
        "           min_samples_split=10, min_weight_fraction_leaf=0.0,\n",
        "           n_estimators=500, n_jobs=1, oob_score=False, random_state=None,\n",
        "           verbose=0, warm_start=False)\n",
        "from sklearn.metrics import r2_score\n",
        "from scipy.stats import spearmanr, pearsonr\n",
        "predicted_train = rf.predict(x_train)\n",
        "predicted_test = rf.predict(x_test)\n",
        "test_score = r2_score(y_test, predicted_test)\n",
        "spearman = spearmanr(y_test, predicted_test)\n",
        "pearson = pearsonr(y_test, predicted_test)\n",
        "\n",
        "print(\"Test data R-2 score: {}\".format(test_score))\n",
        "print(\"Test data Spearman correlation: {}\".format(spearman[0]))\n",
        "print(\"Test data Pearson correlation: {}\".format(pearson[0]))"
      ],
      "execution_count": null,
      "outputs": [
        {
          "output_type": "stream",
          "text": [
            "Test data R-2 score: -0.004704344860006149\n",
            "Test data Spearman correlation: 0.2637456797433316\n",
            "Test data Pearson correlation: 0.2753723076995445\n"
          ],
          "name": "stdout"
        }
      ]
    },
    {
      "cell_type": "code",
      "metadata": {
        "id": "gwffEquqBW7L",
        "outputId": "eed41ae1-f57d-46c7-d8c3-a0af9ab0c252",
        "colab": {
          "base_uri": "https://localhost:8080/",
          "height": 85
        }
      },
      "source": [
        "train_score = r2_score(y_train, predicted_train)\n",
        "spearmanTrain = spearmanr(y_train, predicted_train)\n",
        "pearsonTrain = pearsonr(y_train, predicted_train)\n",
        "\n",
        "print(' ')\n",
        "\n",
        "print(\"Train data R-2 score: {}\".format(train_score))\n",
        "print(\"Train data Spearman correlation: {}\".format(spearmanTrain[0]))\n",
        "print(\"Train data Pearson correlation: {}\".format(pearsonTrain[0]))"
      ],
      "execution_count": null,
      "outputs": [
        {
          "output_type": "stream",
          "text": [
            " \n",
            "Train data R-2 score: 0.6036014403691878\n",
            "Train data Spearman correlation: 0.8434703577788362\n",
            "Train data Pearson correlation: 0.8154562028747553\n"
          ],
          "name": "stdout"
        }
      ]
    },
    {
      "cell_type": "code",
      "metadata": {
        "id": "5jTam6SwBl_L",
        "outputId": "3a2a9d3b-cfa7-4097-bac5-42cd7250f46b",
        "colab": {
          "base_uri": "https://localhost:8080/",
          "height": 111
        }
      },
      "source": [
        "RFperf = pd.DataFrame()\n",
        "RFperf['Score'] = [train_score,test_score]\n",
        "RFperf['Step'] = ['train','test']\n",
        "RFperf"
      ],
      "execution_count": null,
      "outputs": [
        {
          "output_type": "execute_result",
          "data": {
            "text/html": [
              "<div>\n",
              "<style scoped>\n",
              "    .dataframe tbody tr th:only-of-type {\n",
              "        vertical-align: middle;\n",
              "    }\n",
              "\n",
              "    .dataframe tbody tr th {\n",
              "        vertical-align: top;\n",
              "    }\n",
              "\n",
              "    .dataframe thead th {\n",
              "        text-align: right;\n",
              "    }\n",
              "</style>\n",
              "<table border=\"1\" class=\"dataframe\">\n",
              "  <thead>\n",
              "    <tr style=\"text-align: right;\">\n",
              "      <th></th>\n",
              "      <th>Score</th>\n",
              "      <th>Step</th>\n",
              "    </tr>\n",
              "  </thead>\n",
              "  <tbody>\n",
              "    <tr>\n",
              "      <th>0</th>\n",
              "      <td>0.603601</td>\n",
              "      <td>train</td>\n",
              "    </tr>\n",
              "    <tr>\n",
              "      <th>1</th>\n",
              "      <td>-0.004704</td>\n",
              "      <td>test</td>\n",
              "    </tr>\n",
              "  </tbody>\n",
              "</table>\n",
              "</div>"
            ],
            "text/plain": [
              "      Score   Step\n",
              "0  0.603601  train\n",
              "1 -0.004704   test"
            ]
          },
          "metadata": {
            "tags": []
          },
          "execution_count": 73
        }
      ]
    },
    {
      "cell_type": "code",
      "metadata": {
        "id": "wf1yhN8-BpRx",
        "outputId": "d0823ac3-0a3a-471b-abf4-e7f1055a782c",
        "colab": {
          "base_uri": "https://localhost:8080/",
          "height": 448
        }
      },
      "source": [
        "sns.pointplot(y=RFperf['Score'],x=RFperf['Step'],color='Red')\n",
        "plt.ylim([-.1,1])\n",
        "plt.title('R^2 Scores')\n",
        "plt.savefig('RFScores.png',bbox_inches='tight')"
      ],
      "execution_count": null,
      "outputs": [
        {
          "output_type": "stream",
          "text": [
            "/usr/local/lib/python3.6/dist-packages/seaborn/categorical.py:1428: FutureWarning: remove_na is deprecated and is a private function. Do not use.\n",
            "  stat_data = remove_na(group_data)\n"
          ],
          "name": "stderr"
        },
        {
          "output_type": "display_data",
          "data": {
            "image/png": "[encoded data removed]",
            "text/plain": [
              "<Figure size 576x396 with 1 Axes>"
            ]
          },
          "metadata": {
            "tags": []
          }
        }
      ]
    },
    {
      "cell_type": "code",
      "metadata": {
        "id": "3HKo54rYBtUL",
        "outputId": "6c2ad521-54f6-4b0e-8195-3c389f3c4cd0",
        "colab": {
          "base_uri": "https://localhost:8080/",
          "height": 514
        }
      },
      "source": [
        "predicted_test = rf.predict(x_test)\n",
        "\n",
        "fI = pd.DataFrame()\n",
        "fI['Variable'] = list(x_train.columns)\n",
        "fI['Importance'] = rf.feature_importances_\n",
        "fI.sort_values(by='Importance',ascending=False)[0:15]"
      ],
      "execution_count": null,
      "outputs": [
        {
          "output_type": "execute_result",
          "data": {
            "text/html": [
              "<div>\n",
              "<style scoped>\n",
              "    .dataframe tbody tr th:only-of-type {\n",
              "        vertical-align: middle;\n",
              "    }\n",
              "\n",
              "    .dataframe tbody tr th {\n",
              "        vertical-align: top;\n",
              "    }\n",
              "\n",
              "    .dataframe thead th {\n",
              "        text-align: right;\n",
              "    }\n",
              "</style>\n",
              "<table border=\"1\" class=\"dataframe\">\n",
              "  <thead>\n",
              "    <tr style=\"text-align: right;\">\n",
              "      <th></th>\n",
              "      <th>Variable</th>\n",
              "      <th>Importance</th>\n",
              "    </tr>\n",
              "  </thead>\n",
              "  <tbody>\n",
              "    <tr>\n",
              "      <th>0</th>\n",
              "      <td>Page total likes</td>\n",
              "      <td>0.193093</td>\n",
              "    </tr>\n",
              "    <tr>\n",
              "      <th>5</th>\n",
              "      <td>Cat_1</td>\n",
              "      <td>0.121230</td>\n",
              "    </tr>\n",
              "    <tr>\n",
              "      <th>1</th>\n",
              "      <td>Paid</td>\n",
              "      <td>0.055972</td>\n",
              "    </tr>\n",
              "    <tr>\n",
              "      <th>10</th>\n",
              "      <td>We</td>\n",
              "      <td>0.046954</td>\n",
              "    </tr>\n",
              "    <tr>\n",
              "      <th>40</th>\n",
              "      <td>Mo_10</td>\n",
              "      <td>0.046190</td>\n",
              "    </tr>\n",
              "    <tr>\n",
              "      <th>9</th>\n",
              "      <td>Sa</td>\n",
              "      <td>0.037328</td>\n",
              "    </tr>\n",
              "    <tr>\n",
              "      <th>36</th>\n",
              "      <td>Mo_7</td>\n",
              "      <td>0.032831</td>\n",
              "    </tr>\n",
              "    <tr>\n",
              "      <th>26</th>\n",
              "      <td>hr__13</td>\n",
              "      <td>0.032268</td>\n",
              "    </tr>\n",
              "    <tr>\n",
              "      <th>23</th>\n",
              "      <td>hr__10</td>\n",
              "      <td>0.028633</td>\n",
              "    </tr>\n",
              "    <tr>\n",
              "      <th>34</th>\n",
              "      <td>Mo_5</td>\n",
              "      <td>0.026796</td>\n",
              "    </tr>\n",
              "    <tr>\n",
              "      <th>31</th>\n",
              "      <td>Mo_2</td>\n",
              "      <td>0.022926</td>\n",
              "    </tr>\n",
              "    <tr>\n",
              "      <th>12</th>\n",
              "      <td>Fr</td>\n",
              "      <td>0.022452</td>\n",
              "    </tr>\n",
              "    <tr>\n",
              "      <th>39</th>\n",
              "      <td>Mo_11</td>\n",
              "      <td>0.021378</td>\n",
              "    </tr>\n",
              "    <tr>\n",
              "      <th>17</th>\n",
              "      <td>hr__4</td>\n",
              "      <td>0.021058</td>\n",
              "    </tr>\n",
              "    <tr>\n",
              "      <th>8</th>\n",
              "      <td>Tu</td>\n",
              "      <td>0.020789</td>\n",
              "    </tr>\n",
              "  </tbody>\n",
              "</table>\n",
              "</div>"
            ],
            "text/plain": [
              "            Variable  Importance\n",
              "0   Page total likes    0.193093\n",
              "5              Cat_1    0.121230\n",
              "1               Paid    0.055972\n",
              "10                We    0.046954\n",
              "40             Mo_10    0.046190\n",
              "9                 Sa    0.037328\n",
              "36              Mo_7    0.032831\n",
              "26            hr__13    0.032268\n",
              "23            hr__10    0.028633\n",
              "34              Mo_5    0.026796\n",
              "31              Mo_2    0.022926\n",
              "12                Fr    0.022452\n",
              "39             Mo_11    0.021378\n",
              "17             hr__4    0.021058\n",
              "8                 Tu    0.020789"
            ]
          },
          "metadata": {
            "tags": []
          },
          "execution_count": 75
        }
      ]
    },
    {
      "cell_type": "code",
      "metadata": {
        "id": "l8_KQJECBxi0",
        "outputId": "ec9f60e7-04e3-4a7d-d967-a0a1fd10799d",
        "colab": {
          "base_uri": "https://localhost:8080/",
          "height": 272
        }
      },
      "source": [
        "topVars= list(fI.sort_values(by='Importance',ascending=False)[0:15]['Variable'])\n",
        "topVars"
      ],
      "execution_count": null,
      "outputs": [
        {
          "output_type": "execute_result",
          "data": {
            "text/plain": [
              "['Page total likes',\n",
              " 'Cat_1',\n",
              " 'Paid',\n",
              " 'We',\n",
              " 'Mo_10',\n",
              " 'Sa',\n",
              " 'Mo_7',\n",
              " 'hr__13',\n",
              " 'hr__10',\n",
              " 'Mo_5',\n",
              " 'Mo_2',\n",
              " 'Fr',\n",
              " 'Mo_11',\n",
              " 'hr__4',\n",
              " 'Tu']"
            ]
          },
          "metadata": {
            "tags": []
          },
          "execution_count": 76
        }
      ]
    },
    {
      "cell_type": "code",
      "metadata": {
        "id": "qGCzXa4pB83g"
      },
      "source": [
        "x = data[topVars]\n",
        "x_train,x_test,y_train, y_test = train_test_split(x,\n",
        "                                                  y, test_size=0.3,\n",
        "                                                  random_state=50)"
      ],
      "execution_count": null,
      "outputs": []
    },
    {
      "cell_type": "code",
      "metadata": {
        "id": "Gfm_OivXCTII",
        "outputId": "2d95af29-e98c-4533-88f2-8a9d963e0d89",
        "colab": {
          "base_uri": "https://localhost:8080/",
          "height": 119
        }
      },
      "source": [
        "rf = RandomForestRegressor(n_estimators=500,min_samples_split=15)\n",
        "rf.fit(x_train,y_train)\n",
        "RandomForestRegressor(bootstrap=True, criterion='mse', max_depth=None,\n",
        "           max_features='auto', max_leaf_nodes=None,\n",
        "           min_impurity_split=1e-07, min_samples_leaf=1,\n",
        "           min_samples_split=15, min_weight_fraction_leaf=0.0,\n",
        "           n_estimators=500, n_jobs=1, oob_score=False, random_state=None,\n",
        "           verbose=0, warm_start=False)"
      ],
      "execution_count": null,
      "outputs": [
        {
          "output_type": "execute_result",
          "data": {
            "text/plain": [
              "RandomForestRegressor(bootstrap=True, criterion='mse', max_depth=None,\n",
              "           max_features='auto', max_leaf_nodes=None,\n",
              "           min_impurity_decrease=0.0, min_impurity_split=1e-07,\n",
              "           min_samples_leaf=1, min_samples_split=15,\n",
              "           min_weight_fraction_leaf=0.0, n_estimators=500, n_jobs=1,\n",
              "           oob_score=False, random_state=None, verbose=0, warm_start=False)"
            ]
          },
          "metadata": {
            "tags": []
          },
          "execution_count": 78
        }
      ]
    },
    {
      "cell_type": "code",
      "metadata": {
        "id": "zd_NVJ6hCXLz",
        "outputId": "ff603794-056e-4102-8373-15d001086d58",
        "colab": {
          "base_uri": "https://localhost:8080/",
          "height": 136
        }
      },
      "source": [
        "from sklearn.metrics import r2_score\n",
        "from scipy.stats import spearmanr, pearsonr\n",
        "predicted_train = rf.predict(x_train)\n",
        "predicted_test = rf.predict(x_test)\n",
        "test_score = r2_score(y_test, predicted_test)\n",
        "spearman = spearmanr(y_test, predicted_test)\n",
        "pearson = pearsonr(y_test, predicted_test)\n",
        "\n",
        "\n",
        "print(\"Test data R-2 score: {}\".format(test_score))\n",
        "print(\"Test data Spearman correlation: {}\".format(spearman[0]))\n",
        "print(\"Test data Pearson correlation: {}\".format(pearson[0]))\n",
        "\n",
        "train_score = r2_score(y_train, predicted_train)\n",
        "spearmanTrain = spearmanr(y_train, predicted_train)\n",
        "pearsonTrain = pearsonr(y_train, predicted_train)\n",
        "\n",
        "print(' ')\n",
        "\n",
        "print(\"Train data R-2 score: {}\".format(train_score))\n",
        "print(\"Train data Spearman correlation: {}\".format(spearmanTrain[0]))\n",
        "print(\"Train data Pearson correlation: {}\".format(pearsonTrain[0]))"
      ],
      "execution_count": null,
      "outputs": [
        {
          "output_type": "stream",
          "text": [
            "Test data R-2 score: 0.14855688870124362\n",
            "Test data Spearman correlation: 0.4618690372512185\n",
            "Test data Pearson correlation: 0.39429661028721824\n",
            " \n",
            "Train data R-2 score: 0.44422685564016606\n",
            "Train data Spearman correlation: 0.7151420062381756\n",
            "Train data Pearson correlation: 0.6935730527303576\n"
          ],
          "name": "stdout"
        }
      ]
    },
    {
      "cell_type": "code",
      "metadata": {
        "id": "m04AHB7RQWO3",
        "outputId": "74a540ea-dc26-4848-e1db-4440b2181bb5",
        "colab": {
          "base_uri": "https://localhost:8080/",
          "height": 496
        }
      },
      "source": [
        "! apt-get install default-jre\n",
        "!java -version\n",
        "! pip install h2o"
      ],
      "execution_count": null,
      "outputs": [
        {
          "output_type": "stream",
          "text": [
            "Reading package lists... Done\n",
            "Building dependency tree       \n",
            "Reading state information... Done\n",
            "default-jre is already the newest version (2:1.10-63ubuntu1~02).\n",
            "default-jre set to manually installed.\n",
            "0 upgraded, 0 newly installed, 0 to remove and 13 not upgraded.\n",
            "openjdk version \"10.0.2\" 2018-07-17\n",
            "OpenJDK Runtime Environment (build 10.0.2+13-Ubuntu-1ubuntu0.18.04.4)\n",
            "OpenJDK 64-Bit Server VM (build 10.0.2+13-Ubuntu-1ubuntu0.18.04.4, mixed mode)\n",
            "Collecting h2o\n",
            "\u001b[?25l  Downloading https://files.pythonhosted.org/packages/87/ba/b7d97adfde225e4297cd014a41e76fbd16c96f2127c40faa10674fa89e04/h2o-3.22.1.2.tar.gz (120.9MB)\n",
            "\u001b[K    100% |████████████████████████████████| 120.9MB 184kB/s \n",
            "\u001b[?25hRequirement already satisfied: requests in /usr/local/lib/python3.6/dist-packages (from h2o) (2.18.4)\n",
            "Requirement already satisfied: tabulate in /usr/local/lib/python3.6/dist-packages (from h2o) (0.8.2)\n",
            "Requirement already satisfied: future in /usr/local/lib/python3.6/dist-packages (from h2o) (0.16.0)\n",
            "Collecting colorama>=0.3.8 (from h2o)\n",
            "  Downloading https://files.pythonhosted.org/packages/4f/a6/728666f39bfff1719fc94c481890b2106837da9318031f71a8424b662e12/colorama-0.4.1-py2.py3-none-any.whl\n",
            "Requirement already satisfied: urllib3<1.23,>=1.21.1 in /usr/local/lib/python3.6/dist-packages (from requests->h2o) (1.22)\n",
            "Requirement already satisfied: idna<2.7,>=2.5 in /usr/local/lib/python3.6/dist-packages (from requests->h2o) (2.6)\n",
            "Requirement already satisfied: chardet<3.1.0,>=3.0.2 in /usr/local/lib/python3.6/dist-packages (from requests->h2o) (3.0.4)\n",
            "Requirement already satisfied: certifi>=2017.4.17 in /usr/local/lib/python3.6/dist-packages (from requests->h2o) (2018.11.29)\n",
            "Building wheels for collected packages: h2o\n",
            "  Running setup.py bdist_wheel for h2o ... \u001b[?25l-\b \b\\\b \b|\b \b/\b \b-\b \b\\\b \b|\b \bdone\n",
            "\u001b[?25h  Stored in directory: /root/.cache/pip/wheels/18/21/61/70df74d01217493f8eeb0bc2f65a25d341ae4f2d412eb29ad6\n",
            "Successfully built h2o\n",
            "Installing collected packages: colorama, h2o\n",
            "Successfully installed colorama-0.4.1 h2o-3.22.1.2\n"
          ],
          "name": "stdout"
        }
      ]
    },
    {
      "cell_type": "code",
      "metadata": {
        "id": "4FvQb545QKPp",
        "outputId": "434531a9-943a-4612-d21e-1fe39706b78e",
        "colab": {
          "base_uri": "https://localhost:8080/",
          "height": 406
        }
      },
      "source": [
        "import h2o\n",
        "from h2o.automl import H2OAutoML\n",
        "h2o.init()"
      ],
      "execution_count": null,
      "outputs": [
        {
          "output_type": "stream",
          "text": [
            "Checking whether there is an H2O instance running at http://localhost:54321. connected.\n"
          ],
          "name": "stdout"
        },
        {
          "output_type": "display_data",
          "data": {
            "text/html": [
              "<div style=\"overflow:auto\"><table style=\"width:50%\"><tr><td>H2O cluster uptime:</td>\n",
              "<td>6 mins 28 secs</td></tr>\n",
              "<tr><td>H2O cluster timezone:</td>\n",
              "<td>Etc/UTC</td></tr>\n",
              "<tr><td>H2O data parsing timezone:</td>\n",
              "<td>UTC</td></tr>\n",
              "<tr><td>H2O cluster version:</td>\n",
              "<td>3.22.1.2</td></tr>\n",
              "<tr><td>H2O cluster version age:</td>\n",
              "<td>6 days </td></tr>\n",
              "<tr><td>H2O cluster name:</td>\n",
              "<td>H2O_from_python_unknownUser_eble0n</td></tr>\n",
              "<tr><td>H2O cluster total nodes:</td>\n",
              "<td>1</td></tr>\n",
              "<tr><td>H2O cluster free memory:</td>\n",
              "<td>2.937 Gb</td></tr>\n",
              "<tr><td>H2O cluster total cores:</td>\n",
              "<td>2</td></tr>\n",
              "<tr><td>H2O cluster allowed cores:</td>\n",
              "<td>2</td></tr>\n",
              "<tr><td>H2O cluster status:</td>\n",
              "<td>locked, healthy</td></tr>\n",
              "<tr><td>H2O connection url:</td>\n",
              "<td>http://localhost:54321</td></tr>\n",
              "<tr><td>H2O connection proxy:</td>\n",
              "<td>None</td></tr>\n",
              "<tr><td>H2O internal security:</td>\n",
              "<td>False</td></tr>\n",
              "<tr><td>H2O API Extensions:</td>\n",
              "<td>XGBoost, Algos, AutoML, Core V3, Core V4</td></tr>\n",
              "<tr><td>Python version:</td>\n",
              "<td>3.6.7 final</td></tr></table></div>"
            ],
            "text/plain": [
              "--------------------------  ----------------------------------------\n",
              "H2O cluster uptime:         6 mins 28 secs\n",
              "H2O cluster timezone:       Etc/UTC\n",
              "H2O data parsing timezone:  UTC\n",
              "H2O cluster version:        3.22.1.2\n",
              "H2O cluster version age:    6 days\n",
              "H2O cluster name:           H2O_from_python_unknownUser_eble0n\n",
              "H2O cluster total nodes:    1\n",
              "H2O cluster free memory:    2.937 Gb\n",
              "H2O cluster total cores:    2\n",
              "H2O cluster allowed cores:  2\n",
              "H2O cluster status:         locked, healthy\n",
              "H2O connection url:         http://localhost:54321\n",
              "H2O connection proxy:\n",
              "H2O internal security:      False\n",
              "H2O API Extensions:         XGBoost, Algos, AutoML, Core V3, Core V4\n",
              "Python version:             3.6.7 final\n",
              "--------------------------  ----------------------------------------"
            ]
          },
          "metadata": {
            "tags": []
          }
        }
      ]
    },
    {
      "cell_type": "code",
      "metadata": {
        "id": "x__LhsA8QKc8",
        "outputId": "29637f73-5979-4a0c-ad2a-72d24d9b32ab",
        "colab": {
          "base_uri": "https://localhost:8080/",
          "height": 34
        }
      },
      "source": [
        "df = h2o.import_file('updated_dataset_Facebook.csv')\n"
      ],
      "execution_count": null,
      "outputs": [
        {
          "output_type": "stream",
          "text": [
            "Parse progress: |█████████████████████████████████████████████████████████| 100%\n"
          ],
          "name": "stdout"
        }
      ]
    },
    {
      "cell_type": "code",
      "metadata": {
        "id": "RPgHdnvQFLqE",
        "outputId": "834fd9af-a9d1-4730-e664-dff4bb7eaa86",
        "colab": {
          "base_uri": "https://localhost:8080/",
          "height": 250
        }
      },
      "source": [
        "df = df.fillna(method=\"forward\",axis=0,maxlen=1)\n",
        "df"
      ],
      "execution_count": null,
      "outputs": [
        {
          "output_type": "display_data",
          "data": {
            "text/html": [
              "<table>\n",
              "<thead>\n",
              "<tr><th style=\"text-align: right;\">  C1</th><th style=\"text-align: right;\">    C2</th><th style=\"text-align: right;\">  C3</th><th style=\"text-align: right;\">  C4</th><th style=\"text-align: right;\">  C5</th><th style=\"text-align: right;\">  C6</th><th style=\"text-align: right;\">  C7</th><th style=\"text-align: right;\">  C8</th><th style=\"text-align: right;\">   C9</th><th style=\"text-align: right;\">  C10</th><th style=\"text-align: right;\">  C11</th><th style=\"text-align: right;\">  C12</th><th style=\"text-align: right;\">  C13</th><th style=\"text-align: right;\">  C14</th><th style=\"text-align: right;\">  C15</th><th style=\"text-align: right;\">  C16</th><th style=\"text-align: right;\">  C17</th><th style=\"text-align: right;\">  C18</th><th style=\"text-align: right;\">  C19</th><th style=\"text-align: right;\">  C20</th></tr>\n",
              "</thead>\n",
              "<tbody>\n",
              "<tr><td style=\"text-align: right;\">   0</td><td style=\"text-align: right;\">139441</td><td style=\"text-align: right;\">   1</td><td style=\"text-align: right;\">   2</td><td style=\"text-align: right;\">  12</td><td style=\"text-align: right;\">   4</td><td style=\"text-align: right;\">   3</td><td style=\"text-align: right;\">   0</td><td style=\"text-align: right;\"> 2752</td><td style=\"text-align: right;\"> 5091</td><td style=\"text-align: right;\">  178</td><td style=\"text-align: right;\">  109</td><td style=\"text-align: right;\">  159</td><td style=\"text-align: right;\"> 3078</td><td style=\"text-align: right;\"> 1640</td><td style=\"text-align: right;\">  119</td><td style=\"text-align: right;\">    4</td><td style=\"text-align: right;\">   79</td><td style=\"text-align: right;\">   17</td><td style=\"text-align: right;\">  100</td></tr>\n",
              "<tr><td style=\"text-align: right;\">   1</td><td style=\"text-align: right;\">139441</td><td style=\"text-align: right;\">   2</td><td style=\"text-align: right;\">   2</td><td style=\"text-align: right;\">  12</td><td style=\"text-align: right;\">   3</td><td style=\"text-align: right;\">  10</td><td style=\"text-align: right;\">   0</td><td style=\"text-align: right;\">10460</td><td style=\"text-align: right;\">19057</td><td style=\"text-align: right;\"> 1457</td><td style=\"text-align: right;\"> 1361</td><td style=\"text-align: right;\"> 1674</td><td style=\"text-align: right;\">11710</td><td style=\"text-align: right;\"> 6112</td><td style=\"text-align: right;\"> 1108</td><td style=\"text-align: right;\">    5</td><td style=\"text-align: right;\">  130</td><td style=\"text-align: right;\">   29</td><td style=\"text-align: right;\">  164</td></tr>\n",
              "<tr><td style=\"text-align: right;\">   2</td><td style=\"text-align: right;\">139441</td><td style=\"text-align: right;\">   1</td><td style=\"text-align: right;\">   3</td><td style=\"text-align: right;\">  12</td><td style=\"text-align: right;\">   3</td><td style=\"text-align: right;\">   3</td><td style=\"text-align: right;\">   0</td><td style=\"text-align: right;\"> 2413</td><td style=\"text-align: right;\"> 4373</td><td style=\"text-align: right;\">  177</td><td style=\"text-align: right;\">  113</td><td style=\"text-align: right;\">  154</td><td style=\"text-align: right;\"> 2812</td><td style=\"text-align: right;\"> 1503</td><td style=\"text-align: right;\">  132</td><td style=\"text-align: right;\">    0</td><td style=\"text-align: right;\">   66</td><td style=\"text-align: right;\">   14</td><td style=\"text-align: right;\">   80</td></tr>\n",
              "<tr><td style=\"text-align: right;\">   3</td><td style=\"text-align: right;\">139441</td><td style=\"text-align: right;\">   1</td><td style=\"text-align: right;\">   2</td><td style=\"text-align: right;\">  12</td><td style=\"text-align: right;\">   2</td><td style=\"text-align: right;\">  10</td><td style=\"text-align: right;\">   1</td><td style=\"text-align: right;\">50128</td><td style=\"text-align: right;\">87991</td><td style=\"text-align: right;\"> 2211</td><td style=\"text-align: right;\">  790</td><td style=\"text-align: right;\"> 1119</td><td style=\"text-align: right;\">61027</td><td style=\"text-align: right;\">32048</td><td style=\"text-align: right;\"> 1386</td><td style=\"text-align: right;\">   58</td><td style=\"text-align: right;\"> 1572</td><td style=\"text-align: right;\">  147</td><td style=\"text-align: right;\"> 1777</td></tr>\n",
              "<tr><td style=\"text-align: right;\">   4</td><td style=\"text-align: right;\">139441</td><td style=\"text-align: right;\">   1</td><td style=\"text-align: right;\">   2</td><td style=\"text-align: right;\">  12</td><td style=\"text-align: right;\">   2</td><td style=\"text-align: right;\">   3</td><td style=\"text-align: right;\">   0</td><td style=\"text-align: right;\"> 7244</td><td style=\"text-align: right;\">13594</td><td style=\"text-align: right;\">  671</td><td style=\"text-align: right;\">  410</td><td style=\"text-align: right;\">  580</td><td style=\"text-align: right;\"> 6228</td><td style=\"text-align: right;\"> 3200</td><td style=\"text-align: right;\">  396</td><td style=\"text-align: right;\">   19</td><td style=\"text-align: right;\">  325</td><td style=\"text-align: right;\">   49</td><td style=\"text-align: right;\">  393</td></tr>\n",
              "<tr><td style=\"text-align: right;\">   5</td><td style=\"text-align: right;\">139441</td><td style=\"text-align: right;\">   2</td><td style=\"text-align: right;\">   2</td><td style=\"text-align: right;\">  12</td><td style=\"text-align: right;\">   1</td><td style=\"text-align: right;\">   9</td><td style=\"text-align: right;\">   0</td><td style=\"text-align: right;\">10472</td><td style=\"text-align: right;\">20849</td><td style=\"text-align: right;\"> 1191</td><td style=\"text-align: right;\"> 1073</td><td style=\"text-align: right;\"> 1389</td><td style=\"text-align: right;\">16034</td><td style=\"text-align: right;\"> 7852</td><td style=\"text-align: right;\"> 1016</td><td style=\"text-align: right;\">    1</td><td style=\"text-align: right;\">  152</td><td style=\"text-align: right;\">   33</td><td style=\"text-align: right;\">  186</td></tr>\n",
              "<tr><td style=\"text-align: right;\">   6</td><td style=\"text-align: right;\">139441</td><td style=\"text-align: right;\">   1</td><td style=\"text-align: right;\">   3</td><td style=\"text-align: right;\">  12</td><td style=\"text-align: right;\">   1</td><td style=\"text-align: right;\">   3</td><td style=\"text-align: right;\">   1</td><td style=\"text-align: right;\">11692</td><td style=\"text-align: right;\">19479</td><td style=\"text-align: right;\">  481</td><td style=\"text-align: right;\">  265</td><td style=\"text-align: right;\">  364</td><td style=\"text-align: right;\">15432</td><td style=\"text-align: right;\"> 9328</td><td style=\"text-align: right;\">  379</td><td style=\"text-align: right;\">    3</td><td style=\"text-align: right;\">  249</td><td style=\"text-align: right;\">   27</td><td style=\"text-align: right;\">  279</td></tr>\n",
              "<tr><td style=\"text-align: right;\">   7</td><td style=\"text-align: right;\">139441</td><td style=\"text-align: right;\">   1</td><td style=\"text-align: right;\">   3</td><td style=\"text-align: right;\">  12</td><td style=\"text-align: right;\">   7</td><td style=\"text-align: right;\">   9</td><td style=\"text-align: right;\">   1</td><td style=\"text-align: right;\">13720</td><td style=\"text-align: right;\">24137</td><td style=\"text-align: right;\">  537</td><td style=\"text-align: right;\">  232</td><td style=\"text-align: right;\">  305</td><td style=\"text-align: right;\">19728</td><td style=\"text-align: right;\">11056</td><td style=\"text-align: right;\">  422</td><td style=\"text-align: right;\">    0</td><td style=\"text-align: right;\">  325</td><td style=\"text-align: right;\">   14</td><td style=\"text-align: right;\">  339</td></tr>\n",
              "<tr><td style=\"text-align: right;\">   8</td><td style=\"text-align: right;\">139441</td><td style=\"text-align: right;\">   2</td><td style=\"text-align: right;\">   2</td><td style=\"text-align: right;\">  12</td><td style=\"text-align: right;\">   7</td><td style=\"text-align: right;\">   3</td><td style=\"text-align: right;\">   0</td><td style=\"text-align: right;\">11844</td><td style=\"text-align: right;\">22538</td><td style=\"text-align: right;\"> 1530</td><td style=\"text-align: right;\"> 1407</td><td style=\"text-align: right;\"> 1692</td><td style=\"text-align: right;\">15220</td><td style=\"text-align: right;\"> 7912</td><td style=\"text-align: right;\"> 1250</td><td style=\"text-align: right;\">    0</td><td style=\"text-align: right;\">  161</td><td style=\"text-align: right;\">   31</td><td style=\"text-align: right;\">  192</td></tr>\n",
              "<tr><td style=\"text-align: right;\">   9</td><td style=\"text-align: right;\">139441</td><td style=\"text-align: right;\">   1</td><td style=\"text-align: right;\">   3</td><td style=\"text-align: right;\">  12</td><td style=\"text-align: right;\">   6</td><td style=\"text-align: right;\">  10</td><td style=\"text-align: right;\">   0</td><td style=\"text-align: right;\"> 4694</td><td style=\"text-align: right;\"> 8668</td><td style=\"text-align: right;\">  280</td><td style=\"text-align: right;\">  183</td><td style=\"text-align: right;\">  250</td><td style=\"text-align: right;\"> 4309</td><td style=\"text-align: right;\"> 2324</td><td style=\"text-align: right;\">  199</td><td style=\"text-align: right;\">    3</td><td style=\"text-align: right;\">  113</td><td style=\"text-align: right;\">   26</td><td style=\"text-align: right;\">  142</td></tr>\n",
              "</tbody>\n",
              "</table>"
            ]
          },
          "metadata": {
            "tags": []
          }
        },
        {
          "output_type": "execute_result",
          "data": {
            "text/plain": [
              ""
            ]
          },
          "metadata": {
            "tags": []
          },
          "execution_count": 89
        }
      ]
    },
    {
      "cell_type": "code",
      "metadata": {
        "id": "ZDbImwEcYBhu",
        "outputId": "b8a98ad3-861f-49af-dd8c-6a5a9a85f55f",
        "colab": {
          "base_uri": "https://localhost:8080/",
          "height": 250
        }
      },
      "source": [
        "df=df[:,[\"Page total likes\",\t\"Type\",\t\"Category\", \"Post Month\",\t\"Post Weekday\",\t\"Post Hour\", \"Paid\",\"like\"]]\n",
        "df"
      ],
      "execution_count": null,
      "outputs": [
        {
          "output_type": "display_data",
          "data": {
            "text/html": [
              "<table>\n",
              "<thead>\n",
              "<tr><th style=\"text-align: right;\">  Page total likes</th><th>Type  </th><th style=\"text-align: right;\">  Category</th><th style=\"text-align: right;\">  Post Month</th><th style=\"text-align: right;\">  Post Weekday</th><th style=\"text-align: right;\">  Post Hour</th><th style=\"text-align: right;\">  Paid</th><th style=\"text-align: right;\">  like</th></tr>\n",
              "</thead>\n",
              "<tbody>\n",
              "<tr><td style=\"text-align: right;\">            139441</td><td>Photo </td><td style=\"text-align: right;\">         2</td><td style=\"text-align: right;\">          12</td><td style=\"text-align: right;\">             4</td><td style=\"text-align: right;\">          3</td><td style=\"text-align: right;\">     0</td><td style=\"text-align: right;\">    79</td></tr>\n",
              "<tr><td style=\"text-align: right;\">            139441</td><td>Status</td><td style=\"text-align: right;\">         2</td><td style=\"text-align: right;\">          12</td><td style=\"text-align: right;\">             3</td><td style=\"text-align: right;\">         10</td><td style=\"text-align: right;\">     0</td><td style=\"text-align: right;\">   130</td></tr>\n",
              "<tr><td style=\"text-align: right;\">            139441</td><td>Photo </td><td style=\"text-align: right;\">         3</td><td style=\"text-align: right;\">          12</td><td style=\"text-align: right;\">             3</td><td style=\"text-align: right;\">          3</td><td style=\"text-align: right;\">     0</td><td style=\"text-align: right;\">    66</td></tr>\n",
              "<tr><td style=\"text-align: right;\">            139441</td><td>Photo </td><td style=\"text-align: right;\">         2</td><td style=\"text-align: right;\">          12</td><td style=\"text-align: right;\">             2</td><td style=\"text-align: right;\">         10</td><td style=\"text-align: right;\">     1</td><td style=\"text-align: right;\">  1572</td></tr>\n",
              "<tr><td style=\"text-align: right;\">            139441</td><td>Photo </td><td style=\"text-align: right;\">         2</td><td style=\"text-align: right;\">          12</td><td style=\"text-align: right;\">             2</td><td style=\"text-align: right;\">          3</td><td style=\"text-align: right;\">     0</td><td style=\"text-align: right;\">   325</td></tr>\n",
              "<tr><td style=\"text-align: right;\">            139441</td><td>Status</td><td style=\"text-align: right;\">         2</td><td style=\"text-align: right;\">          12</td><td style=\"text-align: right;\">             1</td><td style=\"text-align: right;\">          9</td><td style=\"text-align: right;\">     0</td><td style=\"text-align: right;\">   152</td></tr>\n",
              "<tr><td style=\"text-align: right;\">            139441</td><td>Photo </td><td style=\"text-align: right;\">         3</td><td style=\"text-align: right;\">          12</td><td style=\"text-align: right;\">             1</td><td style=\"text-align: right;\">          3</td><td style=\"text-align: right;\">     1</td><td style=\"text-align: right;\">   249</td></tr>\n",
              "<tr><td style=\"text-align: right;\">            139441</td><td>Photo </td><td style=\"text-align: right;\">         3</td><td style=\"text-align: right;\">          12</td><td style=\"text-align: right;\">             7</td><td style=\"text-align: right;\">          9</td><td style=\"text-align: right;\">     1</td><td style=\"text-align: right;\">   325</td></tr>\n",
              "<tr><td style=\"text-align: right;\">            139441</td><td>Status</td><td style=\"text-align: right;\">         2</td><td style=\"text-align: right;\">          12</td><td style=\"text-align: right;\">             7</td><td style=\"text-align: right;\">          3</td><td style=\"text-align: right;\">     0</td><td style=\"text-align: right;\">   161</td></tr>\n",
              "<tr><td style=\"text-align: right;\">            139441</td><td>Photo </td><td style=\"text-align: right;\">         3</td><td style=\"text-align: right;\">          12</td><td style=\"text-align: right;\">             6</td><td style=\"text-align: right;\">         10</td><td style=\"text-align: right;\">     0</td><td style=\"text-align: right;\">   113</td></tr>\n",
              "</tbody>\n",
              "</table>"
            ]
          },
          "metadata": {
            "tags": []
          }
        },
        {
          "output_type": "execute_result",
          "data": {
            "text/plain": [
              ""
            ]
          },
          "metadata": {
            "tags": []
          },
          "execution_count": 92
        }
      ]
    },
    {
      "cell_type": "code",
      "metadata": {
        "id": "1Ff6DtXjQ1Q3"
      },
      "source": [
        "train, test = df.split_frame(ratios=[.9])\n",
        "# Identify predictors and response\n",
        "x = train.columns\n",
        "y = \"like\"\n",
        "x.remove(y)"
      ],
      "execution_count": null,
      "outputs": []
    },
    {
      "cell_type": "code",
      "metadata": {
        "id": "Bi7ANjUvRNzn",
        "outputId": "1aa4c3b8-3d6d-4e71-9d52-e4153505cffc",
        "colab": {
          "base_uri": "https://localhost:8080/",
          "height": 34
        }
      },
      "source": [
        "# Run AutoML \n",
        "aml = H2OAutoML(max_runtime_secs = 60)\n",
        "aml.train(x = x, y = y, training_frame = train, leaderboard_frame = test)"
      ],
      "execution_count": null,
      "outputs": [
        {
          "output_type": "stream",
          "text": [
            "AutoML progress: |████████████████████████████████████████████████████████| 100%\n"
          ],
          "name": "stdout"
        }
      ]
    },
    {
      "cell_type": "code",
      "metadata": {
        "id": "BcmoL7XTRdrK",
        "outputId": "0301fc09-afe7-46ef-b2c9-897429eced97",
        "colab": {
          "base_uri": "https://localhost:8080/",
          "height": 1241
        }
      },
      "source": [
        "aml.leader"
      ],
      "execution_count": null,
      "outputs": [
        {
          "output_type": "stream",
          "text": [
            "Model Details\n",
            "=============\n",
            "H2OGradientBoostingEstimator :  Gradient Boosting Machine\n",
            "Model Key:  GBM_4_AutoML_20190125_124135\n",
            "\n",
            "\n",
            "ModelMetricsRegression: gbm\n",
            "** Reported on train data. **\n",
            "\n",
            "MSE: 68309.09808546996\n",
            "RMSE: 261.36009275608615\n",
            "MAE: 107.38519278594426\n",
            "RMSLE: 0.9906932047689141\n",
            "Mean Residual Deviance: 68309.09808546996\n",
            "\n",
            "ModelMetricsRegression: gbm\n",
            "** Reported on cross-validation data. **\n",
            "\n",
            "MSE: 103198.00742369633\n",
            "RMSE: 321.2444667596569\n",
            "MAE: 135.9415930719753\n",
            "RMSLE: 1.1762891964639135\n",
            "Mean Residual Deviance: 103198.00742369633\n",
            "Cross-Validation Metrics Summary: \n"
          ],
          "name": "stdout"
        },
        {
          "output_type": "display_data",
          "data": {
            "text/html": [
              "<div style=\"overflow:auto\"><table style=\"width:50%\"><tr><td><b></b></td>\n",
              "<td><b>mean</b></td>\n",
              "<td><b>sd</b></td>\n",
              "<td><b>cv_1_valid</b></td>\n",
              "<td><b>cv_2_valid</b></td>\n",
              "<td><b>cv_3_valid</b></td>\n",
              "<td><b>cv_4_valid</b></td>\n",
              "<td><b>cv_5_valid</b></td></tr>\n",
              "<tr><td>mae</td>\n",
              "<td>135.89345</td>\n",
              "<td>14.647488</td>\n",
              "<td>173.25166</td>\n",
              "<td>136.22644</td>\n",
              "<td>136.52402</td>\n",
              "<td>119.4769740</td>\n",
              "<td>113.98811</td></tr>\n",
              "<tr><td>mean_residual_deviance</td>\n",
              "<td>102926.2660000</td>\n",
              "<td>77791.54</td>\n",
              "<td>320166.2</td>\n",
              "<td>60948.645</td>\n",
              "<td>73033.984</td>\n",
              "<td>37317.875</td>\n",
              "<td>23164.646</td></tr>\n",
              "<tr><td>mse</td>\n",
              "<td>102926.2660000</td>\n",
              "<td>77791.54</td>\n",
              "<td>320166.2</td>\n",
              "<td>60948.645</td>\n",
              "<td>73033.984</td>\n",
              "<td>37317.875</td>\n",
              "<td>23164.646</td></tr>\n",
              "<tr><td>r2</td>\n",
              "<td>-0.1356223</td>\n",
              "<td>0.1544659</td>\n",
              "<td>-0.0037466</td>\n",
              "<td>-0.0668243</td>\n",
              "<td>-0.0648670</td>\n",
              "<td>0.0241540</td>\n",
              "<td>-0.5668275</td></tr>\n",
              "<tr><td>residual_deviance</td>\n",
              "<td>102926.2660000</td>\n",
              "<td>77791.54</td>\n",
              "<td>320166.2</td>\n",
              "<td>60948.645</td>\n",
              "<td>73033.984</td>\n",
              "<td>37317.875</td>\n",
              "<td>23164.646</td></tr>\n",
              "<tr><td>rmse</td>\n",
              "<td>285.66718</td>\n",
              "<td>103.24859</td>\n",
              "<td>565.8323</td>\n",
              "<td>246.87779</td>\n",
              "<td>270.24802</td>\n",
              "<td>193.17834</td>\n",
              "<td>152.19936</td></tr>\n",
              "<tr><td>rmsle</td>\n",
              "<td>1.1756177</td>\n",
              "<td>0.0242150</td>\n",
              "<td>1.2078621</td>\n",
              "<td>1.1202377</td>\n",
              "<td>1.2085143</td>\n",
              "<td>1.1884458</td>\n",
              "<td>1.1530287</td></tr></table></div>"
            ],
            "text/plain": [
              "                        mean       sd        cv_1_valid    cv_2_valid    cv_3_valid    cv_4_valid    cv_5_valid\n",
              "----------------------  ---------  --------  ------------  ------------  ------------  ------------  ------------\n",
              "mae                     135.893    14.6475   173.252       136.226       136.524       119.477       113.988\n",
              "mean_residual_deviance  102926     77791.5   320166        60948.6       73034         37317.9       23164.6\n",
              "mse                     102926     77791.5   320166        60948.6       73034         37317.9       23164.6\n",
              "r2                      -0.135622  0.154466  -0.00374659   -0.0668243    -0.064867     0.024154      -0.566828\n",
              "residual_deviance       102926     77791.5   320166        60948.6       73034         37317.9       23164.6\n",
              "rmse                    285.667    103.249   565.832       246.878       270.248       193.178       152.199\n",
              "rmsle                   1.17562    0.024215  1.20786       1.12024       1.20851       1.18845       1.15303"
            ]
          },
          "metadata": {
            "tags": []
          }
        },
        {
          "output_type": "stream",
          "text": [
            "Scoring History: \n"
          ],
          "name": "stdout"
        },
        {
          "output_type": "display_data",
          "data": {
            "text/html": [
              "<div style=\"overflow:auto\"><table style=\"width:50%\"><tr><td><b></b></td>\n",
              "<td><b>timestamp</b></td>\n",
              "<td><b>duration</b></td>\n",
              "<td><b>number_of_trees</b></td>\n",
              "<td><b>training_rmse</b></td>\n",
              "<td><b>training_mae</b></td>\n",
              "<td><b>training_deviance</b></td></tr>\n",
              "<tr><td></td>\n",
              "<td>2019-01-25 12:41:47</td>\n",
              "<td> 0.641 sec</td>\n",
              "<td>0.0</td>\n",
              "<td>317.1934833</td>\n",
              "<td>135.7248585</td>\n",
              "<td>100611.7058703</td></tr>\n",
              "<tr><td></td>\n",
              "<td>2019-01-25 12:41:47</td>\n",
              "<td> 0.663 sec</td>\n",
              "<td>5.0</td>\n",
              "<td>300.5927843</td>\n",
              "<td>125.8850264</td>\n",
              "<td>90356.0219504</td></tr>\n",
              "<tr><td></td>\n",
              "<td>2019-01-25 12:41:47</td>\n",
              "<td> 0.678 sec</td>\n",
              "<td>10.0</td>\n",
              "<td>292.9814815</td>\n",
              "<td>118.3621194</td>\n",
              "<td>85838.1484905</td></tr>\n",
              "<tr><td></td>\n",
              "<td>2019-01-25 12:41:47</td>\n",
              "<td> 0.696 sec</td>\n",
              "<td>15.0</td>\n",
              "<td>283.2678499</td>\n",
              "<td>115.6616782</td>\n",
              "<td>80240.6748041</td></tr>\n",
              "<tr><td></td>\n",
              "<td>2019-01-25 12:41:47</td>\n",
              "<td> 0.711 sec</td>\n",
              "<td>20.0</td>\n",
              "<td>274.9997201</td>\n",
              "<td>113.3210328</td>\n",
              "<td>75624.8460610</td></tr>\n",
              "<tr><td></td>\n",
              "<td>2019-01-25 12:41:47</td>\n",
              "<td> 0.725 sec</td>\n",
              "<td>25.0</td>\n",
              "<td>268.4415059</td>\n",
              "<td>110.1114654</td>\n",
              "<td>72060.8421065</td></tr>\n",
              "<tr><td></td>\n",
              "<td>2019-01-25 12:41:47</td>\n",
              "<td> 0.740 sec</td>\n",
              "<td>30.0</td>\n",
              "<td>261.3600928</td>\n",
              "<td>107.3851928</td>\n",
              "<td>68309.0980855</td></tr></table></div>"
            ],
            "text/plain": [
              "    timestamp            duration    number_of_trees    training_rmse    training_mae    training_deviance\n",
              "--  -------------------  ----------  -----------------  ---------------  --------------  -------------------\n",
              "    2019-01-25 12:41:47  0.641 sec   0                  317.193          135.725         100612\n",
              "    2019-01-25 12:41:47  0.663 sec   5                  300.593          125.885         90356\n",
              "    2019-01-25 12:41:47  0.678 sec   10                 292.981          118.362         85838.1\n",
              "    2019-01-25 12:41:47  0.696 sec   15                 283.268          115.662         80240.7\n",
              "    2019-01-25 12:41:47  0.711 sec   20                 275              113.321         75624.8\n",
              "    2019-01-25 12:41:47  0.725 sec   25                 268.442          110.111         72060.8\n",
              "    2019-01-25 12:41:47  0.740 sec   30                 261.36           107.385         68309.1"
            ]
          },
          "metadata": {
            "tags": []
          }
        },
        {
          "output_type": "stream",
          "text": [
            "Variable Importances: \n"
          ],
          "name": "stdout"
        },
        {
          "output_type": "display_data",
          "data": {
            "text/html": [
              "<div style=\"overflow:auto\"><table style=\"width:50%\"><tr><td><b>variable</b></td>\n",
              "<td><b>relative_importance</b></td>\n",
              "<td><b>scaled_importance</b></td>\n",
              "<td><b>percentage</b></td></tr>\n",
              "<tr><td>Page total likes</td>\n",
              "<td>28888268.0000000</td>\n",
              "<td>1.0</td>\n",
              "<td>0.3448416</td></tr>\n",
              "<tr><td>Post Hour</td>\n",
              "<td>23287964.0000000</td>\n",
              "<td>0.8061392</td>\n",
              "<td>0.2779903</td></tr>\n",
              "<tr><td>Post Weekday</td>\n",
              "<td>13953418.0000000</td>\n",
              "<td>0.4830133</td>\n",
              "<td>0.1665631</td></tr>\n",
              "<tr><td>Category</td>\n",
              "<td>6963440.0</td>\n",
              "<td>0.2410473</td>\n",
              "<td>0.0831232</td></tr>\n",
              "<tr><td>Post Month</td>\n",
              "<td>5401339.5</td>\n",
              "<td>0.1869735</td>\n",
              "<td>0.0644762</td></tr>\n",
              "<tr><td>Paid</td>\n",
              "<td>4780639.0</td>\n",
              "<td>0.1654872</td>\n",
              "<td>0.0570669</td></tr>\n",
              "<tr><td>Type</td>\n",
              "<td>497497.8125000</td>\n",
              "<td>0.0172214</td>\n",
              "<td>0.0059387</td></tr></table></div>"
            ],
            "text/plain": [
              "variable          relative_importance    scaled_importance    percentage\n",
              "----------------  ---------------------  -------------------  ------------\n",
              "Page total likes  2.88883e+07            1                    0.344842\n",
              "Post Hour         2.3288e+07             0.806139             0.27799\n",
              "Post Weekday      1.39534e+07            0.483013             0.166563\n",
              "Category          6.96344e+06            0.241047             0.0831232\n",
              "Post Month        5.40134e+06            0.186973             0.0644762\n",
              "Paid              4.78064e+06            0.165487             0.0570669\n",
              "Type              497498                 0.0172214            0.00593867"
            ]
          },
          "metadata": {
            "tags": []
          }
        },
        {
          "output_type": "execute_result",
          "data": {
            "text/plain": [
              ""
            ]
          },
          "metadata": {
            "tags": []
          },
          "execution_count": 95
        }
      ]
    },
    {
      "cell_type": "code",
      "metadata": {
        "id": "SL3nzhn2Sh7J",
        "outputId": "0deafd53-43e8-44ff-cb83-2cb60aedfaea",
        "colab": {
          "base_uri": "https://localhost:8080/",
          "height": 250
        }
      },
      "source": [
        "aml.leaderboard"
      ],
      "execution_count": null,
      "outputs": [
        {
          "output_type": "display_data",
          "data": {
            "text/html": [
              "<table>\n",
              "<thead>\n",
              "<tr><th>model_id                                           </th><th style=\"text-align: right;\">  mean_residual_deviance</th><th style=\"text-align: right;\">   rmse</th><th style=\"text-align: right;\">   mse</th><th style=\"text-align: right;\">    mae</th><th style=\"text-align: right;\">  rmsle</th></tr>\n",
              "</thead>\n",
              "<tbody>\n",
              "<tr><td>GBM_4_AutoML_20190125_124135                       </td><td style=\"text-align: right;\">                  125463</td><td style=\"text-align: right;\">354.207</td><td style=\"text-align: right;\">125463</td><td style=\"text-align: right;\">186.708</td><td style=\"text-align: right;\">1.52622</td></tr>\n",
              "<tr><td>GBM_3_AutoML_20190125_124135                       </td><td style=\"text-align: right;\">                  127945</td><td style=\"text-align: right;\">357.694</td><td style=\"text-align: right;\">127945</td><td style=\"text-align: right;\">182.926</td><td style=\"text-align: right;\">1.4761 </td></tr>\n",
              "<tr><td>StackedEnsemble_AllModels_AutoML_20190125_124135   </td><td style=\"text-align: right;\">                  128148</td><td style=\"text-align: right;\">357.977</td><td style=\"text-align: right;\">128148</td><td style=\"text-align: right;\">188.124</td><td style=\"text-align: right;\">1.6464 </td></tr>\n",
              "<tr><td>StackedEnsemble_BestOfFamily_AutoML_20190125_124135</td><td style=\"text-align: right;\">                  128447</td><td style=\"text-align: right;\">358.395</td><td style=\"text-align: right;\">128447</td><td style=\"text-align: right;\">189.669</td><td style=\"text-align: right;\">1.6722 </td></tr>\n",
              "<tr><td>DeepLearning_grid_1_AutoML_20190125_124135_model_2 </td><td style=\"text-align: right;\">                  130208</td><td style=\"text-align: right;\">360.843</td><td style=\"text-align: right;\">130208</td><td style=\"text-align: right;\">179.042</td><td style=\"text-align: right;\">1.60358</td></tr>\n",
              "<tr><td>GBM_2_AutoML_20190125_124135                       </td><td style=\"text-align: right;\">                  130526</td><td style=\"text-align: right;\">361.284</td><td style=\"text-align: right;\">130526</td><td style=\"text-align: right;\">191.391</td><td style=\"text-align: right;\">1.52148</td></tr>\n",
              "<tr><td>GBM_5_AutoML_20190125_124135                       </td><td style=\"text-align: right;\">                  132380</td><td style=\"text-align: right;\">363.84 </td><td style=\"text-align: right;\">132380</td><td style=\"text-align: right;\">188.229</td><td style=\"text-align: right;\">1.64404</td></tr>\n",
              "<tr><td>GBM_grid_1_AutoML_20190125_124135_model_3          </td><td style=\"text-align: right;\">                  133252</td><td style=\"text-align: right;\">365.037</td><td style=\"text-align: right;\">133252</td><td style=\"text-align: right;\">189.26 </td><td style=\"text-align: right;\">1.70958</td></tr>\n",
              "<tr><td>DeepLearning_grid_1_AutoML_20190125_124135_model_1 </td><td style=\"text-align: right;\">                  134498</td><td style=\"text-align: right;\">366.739</td><td style=\"text-align: right;\">134498</td><td style=\"text-align: right;\">178.185</td><td style=\"text-align: right;\">1.61988</td></tr>\n",
              "<tr><td>DeepLearning_1_AutoML_20190125_124135              </td><td style=\"text-align: right;\">                  134645</td><td style=\"text-align: right;\">366.94 </td><td style=\"text-align: right;\">134645</td><td style=\"text-align: right;\">189.324</td><td style=\"text-align: right;\">1.58596</td></tr>\n",
              "</tbody>\n",
              "</table>"
            ]
          },
          "metadata": {
            "tags": []
          }
        },
        {
          "output_type": "execute_result",
          "data": {
            "text/plain": [
              ""
            ]
          },
          "metadata": {
            "tags": []
          },
          "execution_count": 96
        }
      ]
    },
    {
      "cell_type": "code",
      "metadata": {
        "id": "qqsYcIUYRtwO",
        "outputId": "b30dc3e9-0f98-42a8-bd21-0d9e228b1eee",
        "colab": {
          "base_uri": "https://localhost:8080/",
          "height": 267
        }
      },
      "source": [
        "# To generate predictions on a test set, use `\"H2OAutoML\"` object, or on the leader model object directly as below:\n",
        "pred = aml.predict(test)\n",
        "pred.head()"
      ],
      "execution_count": null,
      "outputs": [
        {
          "output_type": "stream",
          "text": [
            "gbm prediction progress: |████████████████████████████████████████████████| 100%\n"
          ],
          "name": "stdout"
        },
        {
          "output_type": "display_data",
          "data": {
            "text/html": [
              "<table>\n",
              "<thead>\n",
              "<tr><th style=\"text-align: right;\">  predict</th></tr>\n",
              "</thead>\n",
              "<tbody>\n",
              "<tr><td style=\"text-align: right;\"> 564.29  </td></tr>\n",
              "<tr><td style=\"text-align: right;\">  65.771 </td></tr>\n",
              "<tr><td style=\"text-align: right;\"> 150.101 </td></tr>\n",
              "<tr><td style=\"text-align: right;\"> 103.513 </td></tr>\n",
              "<tr><td style=\"text-align: right;\"> 106.142 </td></tr>\n",
              "<tr><td style=\"text-align: right;\">  98.7681</td></tr>\n",
              "<tr><td style=\"text-align: right;\"> 160.59  </td></tr>\n",
              "<tr><td style=\"text-align: right;\"> 248.27  </td></tr>\n",
              "<tr><td style=\"text-align: right;\"> 120.909 </td></tr>\n",
              "<tr><td style=\"text-align: right;\"> 128.278 </td></tr>\n",
              "</tbody>\n",
              "</table>"
            ]
          },
          "metadata": {
            "tags": []
          }
        },
        {
          "output_type": "execute_result",
          "data": {
            "text/plain": [
              ""
            ]
          },
          "metadata": {
            "tags": []
          },
          "execution_count": 97
        }
      ]
    },
    {
      "cell_type": "code",
      "metadata": {
        "id": "Xwpnrp5UcJoD",
        "outputId": "5291e961-b604-4c24-b648-a8834ef1dd2c",
        "colab": {
          "base_uri": "https://localhost:8080/",
          "height": 187
        }
      },
      "source": [
        "perf = aml.leader.model_performance(test)\n",
        "perf.auc"
      ],
      "execution_count": null,
      "outputs": [
        {
          "output_type": "stream",
          "text": [
            "\n",
            "ModelMetricsRegression: gbm\n",
            "** Reported on test data. **\n",
            "\n",
            "MSE: 125462.56981817554\n",
            "RMSE: 354.2069590199712\n",
            "MAE: 186.70775922234955\n",
            "RMSLE: 1.5262209276045322\n",
            "Mean Residual Deviance: 125462.56981817554\n"
          ],
          "name": "stdout"
        },
        {
          "output_type": "execute_result",
          "data": {
            "text/plain": [
              "<bound method MetricsBase.auc of >"
            ]
          },
          "metadata": {
            "tags": []
          },
          "execution_count": 98
        }
      ]
    },
    {
      "cell_type": "code",
      "metadata": {
        "id": "6XX-Y3tsVfkK"
      },
      "source": [
        "model_path = h2o.save_model(model=aml.leader, path=\"/content/\", force=True)"
      ],
      "execution_count": null,
      "outputs": []
    },
    {
      "cell_type": "code",
      "metadata": {
        "id": "e_3kdeSvWF-_",
        "outputId": "daaf307b-2939-47ed-ff71-a9365256941d",
        "colab": {
          "base_uri": "https://localhost:8080/",
          "height": 34
        }
      },
      "source": [
        "print(model_path)"
      ],
      "execution_count": null,
      "outputs": [
        {
          "output_type": "stream",
          "text": [
            "/content/GBM_4_AutoML_20190125_124135\n"
          ],
          "name": "stdout"
        }
      ]
    },
    {
      "cell_type": "code",
      "metadata": {
        "id": "-7N1qRrjWPBT"
      },
      "source": [
        "saved_model = h2o.load_model(model_path)"
      ],
      "execution_count": null,
      "outputs": []
    },
    {
      "cell_type": "code",
      "metadata": {
        "id": "gpJiRAGaWVZN",
        "outputId": "9b689d30-44e3-4913-df83-b16fa6f9bf32",
        "colab": {
          "base_uri": "https://localhost:8080/",
          "height": 1258
        }
      },
      "source": [
        "saved_model.r2"
      ],
      "execution_count": null,
      "outputs": [
        {
          "output_type": "stream",
          "text": [
            "Model Details\n",
            "=============\n",
            "H2OGradientBoostingEstimator :  Gradient Boosting Machine\n",
            "Model Key:  GBM_4_AutoML_20190125_124135\n",
            "\n",
            "\n",
            "ModelMetricsRegression: gbm\n",
            "** Reported on train data. **\n",
            "\n",
            "MSE: 68309.09808546996\n",
            "RMSE: 261.36009275608615\n",
            "MAE: 107.38519278594426\n",
            "RMSLE: 0.9906932047689141\n",
            "Mean Residual Deviance: 68309.09808546996\n",
            "\n",
            "ModelMetricsRegression: gbm\n",
            "** Reported on cross-validation data. **\n",
            "\n",
            "MSE: 103198.00742369633\n",
            "RMSE: 321.2444667596569\n",
            "MAE: 135.9415930719753\n",
            "RMSLE: 1.1762891964639135\n",
            "Mean Residual Deviance: 103198.00742369633\n",
            "Cross-Validation Metrics Summary: \n"
          ],
          "name": "stdout"
        },
        {
          "output_type": "display_data",
          "data": {
            "text/html": [
              "<div style=\"overflow:auto\"><table style=\"width:50%\"><tr><td><b></b></td>\n",
              "<td><b>mean</b></td>\n",
              "<td><b>sd</b></td>\n",
              "<td><b>cv_1_valid</b></td>\n",
              "<td><b>cv_2_valid</b></td>\n",
              "<td><b>cv_3_valid</b></td>\n",
              "<td><b>cv_4_valid</b></td>\n",
              "<td><b>cv_5_valid</b></td></tr>\n",
              "<tr><td>mae</td>\n",
              "<td>135.89345</td>\n",
              "<td>14.647488</td>\n",
              "<td>173.25166</td>\n",
              "<td>136.22644</td>\n",
              "<td>136.52402</td>\n",
              "<td>119.4769740</td>\n",
              "<td>113.98811</td></tr>\n",
              "<tr><td>mean_residual_deviance</td>\n",
              "<td>102926.2660000</td>\n",
              "<td>77791.54</td>\n",
              "<td>320166.2</td>\n",
              "<td>60948.645</td>\n",
              "<td>73033.984</td>\n",
              "<td>37317.875</td>\n",
              "<td>23164.646</td></tr>\n",
              "<tr><td>mse</td>\n",
              "<td>102926.2660000</td>\n",
              "<td>77791.54</td>\n",
              "<td>320166.2</td>\n",
              "<td>60948.645</td>\n",
              "<td>73033.984</td>\n",
              "<td>37317.875</td>\n",
              "<td>23164.646</td></tr>\n",
              "<tr><td>r2</td>\n",
              "<td>-0.1356223</td>\n",
              "<td>0.1544659</td>\n",
              "<td>-0.0037466</td>\n",
              "<td>-0.0668243</td>\n",
              "<td>-0.0648670</td>\n",
              "<td>0.0241540</td>\n",
              "<td>-0.5668275</td></tr>\n",
              "<tr><td>residual_deviance</td>\n",
              "<td>102926.2660000</td>\n",
              "<td>77791.54</td>\n",
              "<td>320166.2</td>\n",
              "<td>60948.645</td>\n",
              "<td>73033.984</td>\n",
              "<td>37317.875</td>\n",
              "<td>23164.646</td></tr>\n",
              "<tr><td>rmse</td>\n",
              "<td>285.66718</td>\n",
              "<td>103.24859</td>\n",
              "<td>565.8323</td>\n",
              "<td>246.87779</td>\n",
              "<td>270.24802</td>\n",
              "<td>193.17834</td>\n",
              "<td>152.19936</td></tr>\n",
              "<tr><td>rmsle</td>\n",
              "<td>1.1756177</td>\n",
              "<td>0.0242150</td>\n",
              "<td>1.2078621</td>\n",
              "<td>1.1202377</td>\n",
              "<td>1.2085143</td>\n",
              "<td>1.1884458</td>\n",
              "<td>1.1530287</td></tr></table></div>"
            ],
            "text/plain": [
              "                        mean       sd        cv_1_valid    cv_2_valid    cv_3_valid    cv_4_valid    cv_5_valid\n",
              "----------------------  ---------  --------  ------------  ------------  ------------  ------------  ------------\n",
              "mae                     135.893    14.6475   173.252       136.226       136.524       119.477       113.988\n",
              "mean_residual_deviance  102926     77791.5   320166        60948.6       73034         37317.9       23164.6\n",
              "mse                     102926     77791.5   320166        60948.6       73034         37317.9       23164.6\n",
              "r2                      -0.135622  0.154466  -0.00374659   -0.0668243    -0.064867     0.024154      -0.566828\n",
              "residual_deviance       102926     77791.5   320166        60948.6       73034         37317.9       23164.6\n",
              "rmse                    285.667    103.249   565.832       246.878       270.248       193.178       152.199\n",
              "rmsle                   1.17562    0.024215  1.20786       1.12024       1.20851       1.18845       1.15303"
            ]
          },
          "metadata": {
            "tags": []
          }
        },
        {
          "output_type": "stream",
          "text": [
            "Scoring History: \n"
          ],
          "name": "stdout"
        },
        {
          "output_type": "display_data",
          "data": {
            "text/html": [
              "<div style=\"overflow:auto\"><table style=\"width:50%\"><tr><td><b></b></td>\n",
              "<td><b>timestamp</b></td>\n",
              "<td><b>duration</b></td>\n",
              "<td><b>number_of_trees</b></td>\n",
              "<td><b>training_rmse</b></td>\n",
              "<td><b>training_mae</b></td>\n",
              "<td><b>training_deviance</b></td></tr>\n",
              "<tr><td></td>\n",
              "<td>2019-01-25 12:41:47</td>\n",
              "<td> 0.641 sec</td>\n",
              "<td>0.0</td>\n",
              "<td>317.1934833</td>\n",
              "<td>135.7248585</td>\n",
              "<td>100611.7058703</td></tr>\n",
              "<tr><td></td>\n",
              "<td>2019-01-25 12:41:47</td>\n",
              "<td> 0.663 sec</td>\n",
              "<td>5.0</td>\n",
              "<td>300.5927843</td>\n",
              "<td>125.8850264</td>\n",
              "<td>90356.0219504</td></tr>\n",
              "<tr><td></td>\n",
              "<td>2019-01-25 12:41:47</td>\n",
              "<td> 0.678 sec</td>\n",
              "<td>10.0</td>\n",
              "<td>292.9814815</td>\n",
              "<td>118.3621194</td>\n",
              "<td>85838.1484905</td></tr>\n",
              "<tr><td></td>\n",
              "<td>2019-01-25 12:41:47</td>\n",
              "<td> 0.696 sec</td>\n",
              "<td>15.0</td>\n",
              "<td>283.2678499</td>\n",
              "<td>115.6616782</td>\n",
              "<td>80240.6748041</td></tr>\n",
              "<tr><td></td>\n",
              "<td>2019-01-25 12:41:47</td>\n",
              "<td> 0.711 sec</td>\n",
              "<td>20.0</td>\n",
              "<td>274.9997201</td>\n",
              "<td>113.3210328</td>\n",
              "<td>75624.8460610</td></tr>\n",
              "<tr><td></td>\n",
              "<td>2019-01-25 12:41:47</td>\n",
              "<td> 0.725 sec</td>\n",
              "<td>25.0</td>\n",
              "<td>268.4415059</td>\n",
              "<td>110.1114654</td>\n",
              "<td>72060.8421065</td></tr>\n",
              "<tr><td></td>\n",
              "<td>2019-01-25 12:41:47</td>\n",
              "<td> 0.740 sec</td>\n",
              "<td>30.0</td>\n",
              "<td>261.3600928</td>\n",
              "<td>107.3851928</td>\n",
              "<td>68309.0980855</td></tr></table></div>"
            ],
            "text/plain": [
              "    timestamp            duration    number_of_trees    training_rmse    training_mae    training_deviance\n",
              "--  -------------------  ----------  -----------------  ---------------  --------------  -------------------\n",
              "    2019-01-25 12:41:47  0.641 sec   0                  317.193          135.725         100612\n",
              "    2019-01-25 12:41:47  0.663 sec   5                  300.593          125.885         90356\n",
              "    2019-01-25 12:41:47  0.678 sec   10                 292.981          118.362         85838.1\n",
              "    2019-01-25 12:41:47  0.696 sec   15                 283.268          115.662         80240.7\n",
              "    2019-01-25 12:41:47  0.711 sec   20                 275              113.321         75624.8\n",
              "    2019-01-25 12:41:47  0.725 sec   25                 268.442          110.111         72060.8\n",
              "    2019-01-25 12:41:47  0.740 sec   30                 261.36           107.385         68309.1"
            ]
          },
          "metadata": {
            "tags": []
          }
        },
        {
          "output_type": "stream",
          "text": [
            "Variable Importances: \n"
          ],
          "name": "stdout"
        },
        {
          "output_type": "display_data",
          "data": {
            "text/html": [
              "<div style=\"overflow:auto\"><table style=\"width:50%\"><tr><td><b>variable</b></td>\n",
              "<td><b>relative_importance</b></td>\n",
              "<td><b>scaled_importance</b></td>\n",
              "<td><b>percentage</b></td></tr>\n",
              "<tr><td>Page total likes</td>\n",
              "<td>28888268.0000000</td>\n",
              "<td>1.0</td>\n",
              "<td>0.3448416</td></tr>\n",
              "<tr><td>Post Hour</td>\n",
              "<td>23287964.0000000</td>\n",
              "<td>0.8061392</td>\n",
              "<td>0.2779903</td></tr>\n",
              "<tr><td>Post Weekday</td>\n",
              "<td>13953418.0000000</td>\n",
              "<td>0.4830133</td>\n",
              "<td>0.1665631</td></tr>\n",
              "<tr><td>Category</td>\n",
              "<td>6963440.0</td>\n",
              "<td>0.2410473</td>\n",
              "<td>0.0831232</td></tr>\n",
              "<tr><td>Post Month</td>\n",
              "<td>5401339.5</td>\n",
              "<td>0.1869735</td>\n",
              "<td>0.0644762</td></tr>\n",
              "<tr><td>Paid</td>\n",
              "<td>4780639.0</td>\n",
              "<td>0.1654872</td>\n",
              "<td>0.0570669</td></tr>\n",
              "<tr><td>Type</td>\n",
              "<td>497497.8125000</td>\n",
              "<td>0.0172214</td>\n",
              "<td>0.0059387</td></tr></table></div>"
            ],
            "text/plain": [
              "variable          relative_importance    scaled_importance    percentage\n",
              "----------------  ---------------------  -------------------  ------------\n",
              "Page total likes  2.88883e+07            1                    0.344842\n",
              "Post Hour         2.3288e+07             0.806139             0.27799\n",
              "Post Weekday      1.39534e+07            0.483013             0.166563\n",
              "Category          6.96344e+06            0.241047             0.0831232\n",
              "Post Month        5.40134e+06            0.186973             0.0644762\n",
              "Paid              4.78064e+06            0.165487             0.0570669\n",
              "Type              497498                 0.0172214            0.00593867"
            ]
          },
          "metadata": {
            "tags": []
          }
        },
        {
          "output_type": "execute_result",
          "data": {
            "text/plain": [
              "<bound method ModelBase.r2 of >"
            ]
          },
          "metadata": {
            "tags": []
          },
          "execution_count": 102
        }
      ]
    },
    {
      "cell_type": "code",
      "metadata": {
        "id": "WR3DE_BZehNB"
      },
      "source": [
        "lb = aml.leaderboard\n",
        "lb\n",
        "m = h2o.get_model(lb[0,\"model_id\"])"
      ],
      "execution_count": null,
      "outputs": []
    },
    {
      "cell_type": "code",
      "metadata": {
        "id": "UrQuz8Flexbt",
        "outputId": "6db5cf53-68ac-467a-ab19-1cf5afa4d590",
        "colab": {
          "base_uri": "https://localhost:8080/",
          "height": 266
        }
      },
      "source": [
        "m.varimp(use_pandas=True)"
      ],
      "execution_count": null,
      "outputs": [
        {
          "output_type": "execute_result",
          "data": {
            "text/html": [
              "<div>\n",
              "<style scoped>\n",
              "    .dataframe tbody tr th:only-of-type {\n",
              "        vertical-align: middle;\n",
              "    }\n",
              "\n",
              "    .dataframe tbody tr th {\n",
              "        vertical-align: top;\n",
              "    }\n",
              "\n",
              "    .dataframe thead th {\n",
              "        text-align: right;\n",
              "    }\n",
              "</style>\n",
              "<table border=\"1\" class=\"dataframe\">\n",
              "  <thead>\n",
              "    <tr style=\"text-align: right;\">\n",
              "      <th></th>\n",
              "      <th>variable</th>\n",
              "      <th>relative_importance</th>\n",
              "      <th>scaled_importance</th>\n",
              "      <th>percentage</th>\n",
              "    </tr>\n",
              "  </thead>\n",
              "  <tbody>\n",
              "    <tr>\n",
              "      <th>0</th>\n",
              "      <td>Page total likes</td>\n",
              "      <td>2.888827e+07</td>\n",
              "      <td>1.000000</td>\n",
              "      <td>0.344842</td>\n",
              "    </tr>\n",
              "    <tr>\n",
              "      <th>1</th>\n",
              "      <td>Post Hour</td>\n",
              "      <td>2.328796e+07</td>\n",
              "      <td>0.806139</td>\n",
              "      <td>0.277990</td>\n",
              "    </tr>\n",
              "    <tr>\n",
              "      <th>2</th>\n",
              "      <td>Post Weekday</td>\n",
              "      <td>1.395342e+07</td>\n",
              "      <td>0.483013</td>\n",
              "      <td>0.166563</td>\n",
              "    </tr>\n",
              "    <tr>\n",
              "      <th>3</th>\n",
              "      <td>Category</td>\n",
              "      <td>6.963440e+06</td>\n",
              "      <td>0.241047</td>\n",
              "      <td>0.083123</td>\n",
              "    </tr>\n",
              "    <tr>\n",
              "      <th>4</th>\n",
              "      <td>Post Month</td>\n",
              "      <td>5.401340e+06</td>\n",
              "      <td>0.186973</td>\n",
              "      <td>0.064476</td>\n",
              "    </tr>\n",
              "    <tr>\n",
              "      <th>5</th>\n",
              "      <td>Paid</td>\n",
              "      <td>4.780639e+06</td>\n",
              "      <td>0.165487</td>\n",
              "      <td>0.057067</td>\n",
              "    </tr>\n",
              "    <tr>\n",
              "      <th>6</th>\n",
              "      <td>Type</td>\n",
              "      <td>4.974978e+05</td>\n",
              "      <td>0.017221</td>\n",
              "      <td>0.005939</td>\n",
              "    </tr>\n",
              "  </tbody>\n",
              "</table>\n",
              "</div>"
            ],
            "text/plain": [
              "           variable  relative_importance  scaled_importance  percentage\n",
              "0  Page total likes         2.888827e+07           1.000000    0.344842\n",
              "1         Post Hour         2.328796e+07           0.806139    0.277990\n",
              "2      Post Weekday         1.395342e+07           0.483013    0.166563\n",
              "3          Category         6.963440e+06           0.241047    0.083123\n",
              "4        Post Month         5.401340e+06           0.186973    0.064476\n",
              "5              Paid         4.780639e+06           0.165487    0.057067\n",
              "6              Type         4.974978e+05           0.017221    0.005939"
            ]
          },
          "metadata": {
            "tags": []
          },
          "execution_count": 104
        }
      ]
    },
    {
      "cell_type": "code",
      "metadata": {
        "id": "NTP1aQw1e1-m",
        "outputId": "dd442b65-05e1-4ce6-82ed-a1a1d5d1f805",
        "colab": {
          "base_uri": "https://localhost:8080/",
          "height": 638
        }
      },
      "source": [
        "m.varimp_plot()"
      ],
      "execution_count": null,
      "outputs": [
        {
          "output_type": "display_data",
          "data": {
            "image/png": "[encoded data removed]",
            "text/plain": [
              "<Figure size 1008x720 with 1 Axes>"
            ]
          },
          "metadata": {
            "tags": []
          }
        }
      ]
    }
  ]
}
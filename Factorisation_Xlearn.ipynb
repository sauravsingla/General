{
  "nbformat": 4,
  "nbformat_minor": 0,
  "metadata": {
    "colab": {
      "name": "Factorisation_Xlearn.ipynb",
      "provenance": [],
      "collapsed_sections": [],
      "include_colab_link": true
    },
    "kernelspec": {
      "name": "python3",
      "display_name": "Python 3"
    },
    "accelerator": "GPU"
  },
  "cells": [
    {
      "cell_type": "markdown",
      "metadata": {
        "id": "view-in-github",
        "colab_type": "text"
      },
      "source": [
        "<a href=\"https://colab.research.google.com/github/sauravsingla/General/blob/master/Factorisation_Xlearn.ipynb\" target=\"_parent\"><img src=\"https://colab.research.google.com/assets/colab-badge.svg\" alt=\"Open In Colab\"/></a>"
      ]
    },
    {
      "cell_type": "code",
      "metadata": {
        "id": "A-CT2kdCo6bh",
        "outputId": "1e726b0b-6aaf-4dd2-b0f0-a1acab68479e",
        "colab": {
          "base_uri": "https://localhost:8080/",
          "height": 196
        }
      },
      "source": [
        "!pip install xlearn"
      ],
      "execution_count": null,
      "outputs": [
        {
          "output_type": "stream",
          "text": [
            "Collecting xlearn\n",
            "\u001b[?25l  Downloading https://files.pythonhosted.org/packages/ab/1b/9ad0093cac05d6f95d3d768bc855804b18723c72120ce45cd930bd303587/xlearn-0.40a1.tar.gz (4.9MB)\n",
            "\u001b[K    100% |████████████████████████████████| 4.9MB 6.6MB/s \n",
            "\u001b[?25hBuilding wheels for collected packages: xlearn\n",
            "  Building wheel for xlearn (setup.py) ... \u001b[?25ldone\n",
            "\u001b[?25h  Stored in directory: /root/.cache/pip/wheels/59/7d/71/699578f3cb69f16a2e5f648d978259dba959c92a5a6eca9451\n",
            "Successfully built xlearn\n",
            "Installing collected packages: xlearn\n",
            "Successfully installed xlearn-0.40a1\n"
          ],
          "name": "stdout"
        }
      ]
    },
    {
      "cell_type": "code",
      "metadata": {
        "id": "W_N8GgxIoUZn"
      },
      "source": [
        "import pandas as pd\n",
        "import xlearn as xl\n",
        "train = pd.read_csv('train_u6lujuX_CVtuZ9i.csv')\n",
        "import warnings\n",
        "warnings.filterwarnings('ignore')"
      ],
      "execution_count": null,
      "outputs": []
    },
    {
      "cell_type": "code",
      "metadata": {
        "id": "Fs7PCiYepNCv"
      },
      "source": [
        "cols = ['Education','ApplicantIncome','Loan_Status','Credit_History']\n",
        "train_sub = train[cols]\n",
        "train_sub['Credit_History'].fillna(0, inplace = True)\n",
        "dict_ls = {'Y':1, 'N':0}\n",
        "train_sub['Loan_Status'].replace(dict_ls, inplace = True)"
      ],
      "execution_count": null,
      "outputs": []
    },
    {
      "cell_type": "code",
      "metadata": {
        "id": "4XdWxsG4pPVI"
      },
      "source": [
        "from sklearn.model_selection import train_test_split\n",
        "X_train, X_test = train_test_split(train_sub, test_size = 0.3, random_state = 5)"
      ],
      "execution_count": null,
      "outputs": []
    },
    {
      "cell_type": "code",
      "metadata": {
        "id": "ATGVDbP5paZq"
      },
      "source": [
        "def convert_to_ffm(df,type,numerics,categories,features):\n",
        "    currentcode = len(numerics)\n",
        "    catdict = {}\n",
        "    catcodes = {}\n",
        "    \n",
        "    # Flagging categorical and numerical fields\n",
        "    for x in numerics:\n",
        "         catdict[x] = 0\n",
        "    for x in categories:\n",
        "         catdict[x] = 1\n",
        "    \n",
        "    nrows = df.shape[0]\n",
        "    ncolumns = len(features)\n",
        "    with open(str(type) + \"_ffm.txt\", \"w\") as text_file:\n",
        "    \n",
        "    # Looping over rows to convert each row to libffm format\n",
        "        for n, r in enumerate(range(nrows)):\n",
        "             datastring = \"\"\n",
        "             datarow = df.iloc[r].to_dict()\n",
        "             datastring += str(int(datarow['Loan_Status'])) # Set Target Variable here\n",
        "             \n",
        "            # For numerical fields, we are creating a dummy field here\n",
        "             for i, x in enumerate(catdict.keys()):\n",
        "                 if(catdict[x]==0):\n",
        "                     datastring = datastring + \" \"+str(i)+\":\"+ str(i)+\":\"+ str(datarow[x])\n",
        "                 else:\n",
        "            \n",
        "            # For a new field appearing in a training example\n",
        "                     if(x not in catcodes):\n",
        "                         catcodes[x] = {}\n",
        "                         currentcode +=1\n",
        "                         catcodes[x][datarow[x]] = currentcode #encoding the feature\n",
        "             \n",
        "            # For already encoded fields\n",
        "                     elif(datarow[x] not in catcodes[x]):\n",
        "                         currentcode +=1\n",
        "                         catcodes[x][datarow[x]] = currentcode #encoding the feature\n",
        "                     \n",
        "                     code = catcodes[x][datarow[x]]\n",
        "                     datastring = datastring + \" \"+str(i)+\":\"+ str(int(code))+\":1\"\n",
        "\n",
        "             datastring += '\\n'\n",
        "             text_file.write(datastring)"
      ],
      "execution_count": null,
      "outputs": []
    },
    {
      "cell_type": "code",
      "metadata": {
        "id": "7zae2e4opc_o"
      },
      "source": [
        "ffm_model = xl.create_ffm()\n",
        "\n",
        "ffm_model.setTrain(\"train_ffm.txt\")\n",
        "\n",
        "param = {'task':'binary', \n",
        "         'lr':0.2,\n",
        "         'lambda':0.002, \n",
        "         'metric':'acc'}\n",
        "\n",
        "# Start to train\n",
        "# The trained model will be stored in model.out\n",
        "ffm_model.fit(param, './model.out')\n"
      ],
      "execution_count": null,
      "outputs": []
    },
    {
      "cell_type": "code",
      "metadata": {
        "id": "EMX-wL6iqek7"
      },
      "source": [
        "ffm_model.cv(param)"
      ],
      "execution_count": null,
      "outputs": []
    },
    {
      "cell_type": "code",
      "metadata": {
        "id": "VrKfHTE9qhBT"
      },
      "source": [
        "# Prediction task\n",
        "ffm_model.setTest(\"test_ffm.txt\") # Test data\n",
        "ffm_model.setSigmoid() # Convert output to 0-1\n",
        "\n",
        "# Start to predict\n",
        "# The output result will be stored in output.txt\n",
        "ffm_model.predict(\"./model.out\", \"./output.txt\")"
      ],
      "execution_count": null,
      "outputs": []
    }
  ]
}
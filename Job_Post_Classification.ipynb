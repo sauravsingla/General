{
  "nbformat": 4,
  "nbformat_minor": 0,
  "metadata": {
    "colab": {
      "name": "Job_Post_Classification.ipynb",
      "provenance": [],
      "collapsed_sections": [],
      "toc_visible": true,
      "include_colab_link": true
    },
    "language_info": {
      "codemirror_mode": {
        "name": "ipython",
        "version": 3
      },
      "file_extension": ".py",
      "mimetype": "text/x-python",
      "name": "python",
      "nbconvert_exporter": "python",
      "pygments_lexer": "ipython3",
      "version": "3.6.4"
    },
    "kernelspec": {
      "name": "python3",
      "display_name": "Python 3"
    },
    "accelerator": "GPU"
  },
  "cells": [
    {
      "cell_type": "markdown",
      "metadata": {
        "id": "view-in-github",
        "colab_type": "text"
      },
      "source": [
        "<a href=\"https://colab.research.google.com/github/sauravsingla/General/blob/master/Job_Post_Classification.ipynb\" target=\"_parent\"><img src=\"https://colab.research.google.com/assets/colab-badge.svg\" alt=\"Open In Colab\"/></a>"
      ]
    },
    {
      "cell_type": "markdown",
      "metadata": {
        "id": "GtRYybvg1DnP",
        "colab_type": "text"
      },
      "source": [
        "Given a dataset of job descriptions want to classify the sentences extracted from the text into the following classes:\n",
        "- BENEFITS\n",
        "- REQUIREMENTS\n",
        "- RESPONSABILITIES\n",
        "- OTHER\n",
        "\n"
      ]
    },
    {
      "cell_type": "code",
      "metadata": {
        "id": "LWeBrwIeTiZ0",
        "colab_type": "code",
        "colab": {
          "base_uri": "https://localhost:8080/",
          "height": 125
        },
        "outputId": "7791ccce-60fa-44ba-d11b-9430afc777e6"
      },
      "source": [
        "from google.colab import drive\n",
        "drive.mount('/content/drive')"
      ],
      "execution_count": null,
      "outputs": [
        {
          "output_type": "stream",
          "text": [
            "Go to this URL in a browser: https://accounts.google.com/o/oauth2/auth?client_id=947318989803-6bn6qk8qdgf4n4g3pfee6491hc0brc4i.apps.googleusercontent.com&redirect_uri=urn%3Aietf%3Awg%3Aoauth%3A2.0%3Aoob&scope=email%20https%3A%2F%2Fwww.googleapis.com%2Fauth%2Fdocs.test%20https%3A%2F%2Fwww.googleapis.com%2Fauth%2Fdrive%20https%3A%2F%2Fwww.googleapis.com%2Fauth%2Fdrive.photos.readonly%20https%3A%2F%2Fwww.googleapis.com%2Fauth%2Fpeopleapi.readonly&response_type=code\n",
            "\n",
            "Enter your authorization code:\n",
            "··········\n",
            "Mounted at /content/drive\n"
          ],
          "name": "stdout"
        }
      ]
    },
    {
      "cell_type": "code",
      "metadata": {
        "id": "kZIIXd-9vYjN",
        "colab_type": "code",
        "colab": {
          "base_uri": "https://localhost:8080/",
          "height": 105
        },
        "outputId": "4ed74093-b28c-483d-9dfa-b20304a99b46"
      },
      "source": [
        "# installing pandas\n",
        "!pip3 install pandas==0.24.1"
      ],
      "execution_count": null,
      "outputs": [
        {
          "output_type": "stream",
          "text": [
            "Requirement already satisfied: pandas==0.24.1 in /usr/local/lib/python3.6/dist-packages (0.24.1)\n",
            "Requirement already satisfied: pytz>=2011k in /usr/local/lib/python3.6/dist-packages (from pandas==0.24.1) (2018.9)\n",
            "Requirement already satisfied: numpy>=1.12.0 in /usr/local/lib/python3.6/dist-packages (from pandas==0.24.1) (1.16.2)\n",
            "Requirement already satisfied: python-dateutil>=2.5.0 in /usr/local/lib/python3.6/dist-packages (from pandas==0.24.1) (2.5.3)\n",
            "Requirement already satisfied: six>=1.5 in /usr/local/lib/python3.6/dist-packages (from python-dateutil>=2.5.0->pandas==0.24.1) (1.11.0)\n"
          ],
          "name": "stdout"
        }
      ]
    },
    {
      "cell_type": "code",
      "metadata": {
        "id": "ZuZJE69o1DnS",
        "colab_type": "code",
        "colab": {}
      },
      "source": [
        "# importing library\n",
        "import joblib\n",
        "import pandas as pd\n",
        "import numpy as np"
      ],
      "execution_count": null,
      "outputs": []
    },
    {
      "cell_type": "code",
      "metadata": {
        "id": "4Vdi1Por1Dnf",
        "colab_type": "code",
        "colab": {}
      },
      "source": [
        "# loading Dictionary\n",
        "sourceDictionary = joblib.load('/content/drive/My Drive/dataset')"
      ],
      "execution_count": null,
      "outputs": []
    },
    {
      "cell_type": "code",
      "metadata": {
        "id": "dLMn84jb4p8u",
        "colab_type": "code",
        "colab": {
          "base_uri": "https://localhost:8080/",
          "height": 34
        },
        "outputId": "2efb3233-649a-4c35-ca52-ef2a3a5f773f"
      },
      "source": [
        "# class of the dataset\n",
        "print(type(sourceDictionary))"
      ],
      "execution_count": null,
      "outputs": [
        {
          "output_type": "stream",
          "text": [
            "<class 'dict'>\n"
          ],
          "name": "stdout"
        }
      ]
    },
    {
      "cell_type": "code",
      "metadata": {
        "id": "_LG3XPsH4Mzv",
        "colab_type": "code",
        "colab": {
          "base_uri": "https://localhost:8080/",
          "height": 34
        },
        "outputId": "b1e46f64-aacb-4831-fe92-efe5cb6cf14d"
      },
      "source": [
        "# length of the dictionary \n",
        "len(sourceDictionary.items())"
      ],
      "execution_count": null,
      "outputs": [
        {
          "output_type": "execute_result",
          "data": {
            "text/plain": [
              "4200"
            ]
          },
          "metadata": {
            "tags": []
          },
          "execution_count": 4
        }
      ]
    },
    {
      "cell_type": "code",
      "metadata": {
        "id": "ZRGhpyOYxc4P",
        "colab_type": "code",
        "colab": {}
      },
      "source": [
        "# naming data frame columns\n",
        "resultDF = pd.DataFrame(columns = {'job_id', 'job_description', 'target_label'})"
      ],
      "execution_count": null,
      "outputs": []
    },
    {
      "cell_type": "code",
      "metadata": {
        "id": "jPiurRrbxr8f",
        "colab_type": "code",
        "colab": {}
      },
      "source": [
        "# coverting into data frame\n",
        "for adId in sourceDictionary:\n",
        "  for taggedText in sourceDictionary[adId]:\n",
        "        resultDF = resultDF.append({resultDF.columns[0]: adId, resultDF.columns[1]: taggedText[0], resultDF.columns[2]: taggedText[1]}, ignore_index=True)"
      ],
      "execution_count": null,
      "outputs": []
    },
    {
      "cell_type": "code",
      "metadata": {
        "id": "OtQ5VMusAmqA",
        "colab_type": "code",
        "colab": {}
      },
      "source": [
        "# naming data frame columns\n",
        "resultDF.columns = ['job_id', 'job_description','target_label']"
      ],
      "execution_count": null,
      "outputs": []
    },
    {
      "cell_type": "code",
      "metadata": {
        "id": "MEsmw7V6yNYL",
        "colab_type": "code",
        "colab": {
          "base_uri": "https://localhost:8080/",
          "height": 197
        },
        "outputId": "3e0ce412-5d67-4bc6-d5b5-02fdabd63351"
      },
      "source": [
        "# top 5 rows of the dataset\n",
        "resultDF.head(5)"
      ],
      "execution_count": null,
      "outputs": [
        {
          "output_type": "execute_result",
          "data": {
            "text/html": [
              "<div>\n",
              "<style scoped>\n",
              "    .dataframe tbody tr th:only-of-type {\n",
              "        vertical-align: middle;\n",
              "    }\n",
              "\n",
              "    .dataframe tbody tr th {\n",
              "        vertical-align: top;\n",
              "    }\n",
              "\n",
              "    .dataframe thead th {\n",
              "        text-align: right;\n",
              "    }\n",
              "</style>\n",
              "<table border=\"1\" class=\"dataframe\">\n",
              "  <thead>\n",
              "    <tr style=\"text-align: right;\">\n",
              "      <th></th>\n",
              "      <th>job_id</th>\n",
              "      <th>job_description</th>\n",
              "      <th>target_label</th>\n",
              "    </tr>\n",
              "  </thead>\n",
              "  <tbody>\n",
              "    <tr>\n",
              "      <th>0</th>\n",
              "      <td>14233229</td>\n",
              "      <td>linsco recruitment are currently working on be...</td>\n",
              "      <td>OTHER</td>\n",
              "    </tr>\n",
              "    <tr>\n",
              "      <th>1</th>\n",
              "      <td>14233229</td>\n",
              "      <td>the client has a current requirement for a tel...</td>\n",
              "      <td>REQUIREMENTS</td>\n",
              "    </tr>\n",
              "    <tr>\n",
              "      <th>2</th>\n",
              "      <td>14233229</td>\n",
              "      <td>the right candidate will be required to build ...</td>\n",
              "      <td>RESPONSABILITIES</td>\n",
              "    </tr>\n",
              "    <tr>\n",
              "      <th>3</th>\n",
              "      <td>14233229</td>\n",
              "      <td>emphasis is very much on the provision of qual...</td>\n",
              "      <td>OTHER</td>\n",
              "    </tr>\n",
              "    <tr>\n",
              "      <th>4</th>\n",
              "      <td>14233229</td>\n",
              "      <td>for this role you must have superb communicati...</td>\n",
              "      <td>RESPONSABILITIES</td>\n",
              "    </tr>\n",
              "  </tbody>\n",
              "</table>\n",
              "</div>"
            ],
            "text/plain": [
              "     job_id                                    job_description  \\\n",
              "0  14233229  linsco recruitment are currently working on be...   \n",
              "1  14233229  the client has a current requirement for a tel...   \n",
              "2  14233229  the right candidate will be required to build ...   \n",
              "3  14233229  emphasis is very much on the provision of qual...   \n",
              "4  14233229  for this role you must have superb communicati...   \n",
              "\n",
              "       target_label  \n",
              "0             OTHER  \n",
              "1      REQUIREMENTS  \n",
              "2  RESPONSABILITIES  \n",
              "3             OTHER  \n",
              "4  RESPONSABILITIES  "
            ]
          },
          "metadata": {
            "tags": []
          },
          "execution_count": 90
        }
      ]
    },
    {
      "cell_type": "code",
      "metadata": {
        "id": "msE3CSxGKHWz",
        "colab_type": "code",
        "colab": {}
      },
      "source": [
        "# training dataset into the CSV file\n",
        "resultDF.to_csv('dataset.csv', sep=\",\", float_format='%.2f',index=False, line_terminator='\\n',encoding='utf-8')"
      ],
      "execution_count": null,
      "outputs": []
    },
    {
      "cell_type": "code",
      "metadata": {
        "id": "nNFDdxaf3-Ae",
        "colab_type": "code",
        "colab": {
          "base_uri": "https://localhost:8080/",
          "height": 286
        },
        "outputId": "c7797da8-9e1e-402a-f348-cc945370deb5"
      },
      "source": [
        "# distribution of the text data\n",
        "lens = resultDF.job_description.str.len()\n",
        "lens.hist(bins = np.arange(0,500,50))"
      ],
      "execution_count": null,
      "outputs": [
        {
          "output_type": "execute_result",
          "data": {
            "text/plain": [
              "<matplotlib.axes._subplots.AxesSubplot at 0x7f6f14c466a0>"
            ]
          },
          "metadata": {
            "tags": []
          },
          "execution_count": 9
        },
        {
          "output_type": "display_data",
          "data": {
            "image/png": "[encoded data removed]",
            "text/plain": [
              "<Figure size 432x288 with 1 Axes>"
            ]
          },
          "metadata": {
            "tags": []
          }
        }
      ]
    },
    {
      "cell_type": "code",
      "metadata": {
        "id": "pbDBOUSd-rwo",
        "colab_type": "code",
        "colab": {
          "base_uri": "https://localhost:8080/",
          "height": 34
        },
        "outputId": "3697a2d5-caa7-4ec8-e456-ca0ada562ed4"
      },
      "source": [
        "# number of oberservations in the dataset\n",
        "len(resultDF)"
      ],
      "execution_count": null,
      "outputs": [
        {
          "output_type": "execute_result",
          "data": {
            "text/plain": [
              "62627"
            ]
          },
          "metadata": {
            "tags": []
          },
          "execution_count": 10
        }
      ]
    },
    {
      "cell_type": "code",
      "metadata": {
        "id": "KbfkweDk_Aop",
        "colab_type": "code",
        "colab": {
          "base_uri": "https://localhost:8080/",
          "height": 34
        },
        "outputId": "bb3b6084-62ec-42f3-e06f-7577b4cc2059"
      },
      "source": [
        "# checking the class\n",
        "print(type(resultDF))"
      ],
      "execution_count": null,
      "outputs": [
        {
          "output_type": "stream",
          "text": [
            "<class 'pandas.core.frame.DataFrame'>\n"
          ],
          "name": "stdout"
        }
      ]
    },
    {
      "cell_type": "code",
      "metadata": {
        "id": "2_8hLf8yAFP7",
        "colab_type": "code",
        "colab": {
          "base_uri": "https://localhost:8080/",
          "height": 158
        },
        "outputId": "e3854e0d-bc1f-4161-e49e-f8b3f4a42178"
      },
      "source": [
        "# checking any missing values\n",
        "resultDF.info()"
      ],
      "execution_count": null,
      "outputs": [
        {
          "output_type": "stream",
          "text": [
            "<class 'pandas.core.frame.DataFrame'>\n",
            "RangeIndex: 62627 entries, 0 to 62626\n",
            "Data columns (total 3 columns):\n",
            "job_id             62627 non-null object\n",
            "job_description    62627 non-null object\n",
            "target_label       62627 non-null object\n",
            "dtypes: object(3)\n",
            "memory usage: 1.4+ MB\n"
          ],
          "name": "stdout"
        }
      ]
    },
    {
      "cell_type": "code",
      "metadata": {
        "id": "wNcrcLh4AJM0",
        "colab_type": "code",
        "colab": {
          "base_uri": "https://localhost:8080/",
          "height": 34
        },
        "outputId": "7aa8be12-168e-4eec-aeec-102b41fbca72"
      },
      "source": [
        "# dimension of the dataset\n",
        "resultDF.shape"
      ],
      "execution_count": null,
      "outputs": [
        {
          "output_type": "execute_result",
          "data": {
            "text/plain": [
              "(62627, 3)"
            ]
          },
          "metadata": {
            "tags": []
          },
          "execution_count": 13
        }
      ]
    },
    {
      "cell_type": "code",
      "metadata": {
        "id": "-TJhfC3xVTz3",
        "colab_type": "code",
        "colab": {
          "base_uri": "https://localhost:8080/",
          "height": 197
        },
        "outputId": "65bbc921-8bbd-4caa-db0b-40021c64552b"
      },
      "source": [
        "from io import StringIO\n",
        "col = ['job_description', 'target_label']\n",
        "resultDF = resultDF[col]\n",
        "resultDF = resultDF[pd.notnull(resultDF['job_description'])]\n",
        "resultDF.columns = ['job_description', 'target_label']\n",
        "resultDF['target_id'] = resultDF['target_label'].factorize()[0]\n",
        "category_id_df = resultDF[['target_label', 'target_id']].drop_duplicates().sort_values('target_id')\n",
        "category_to_id = dict(category_id_df.values)\n",
        "id_to_category = dict(category_id_df[['target_id', 'target_label']].values)\n",
        "\n",
        "resultDF.head()"
      ],
      "execution_count": null,
      "outputs": [
        {
          "output_type": "execute_result",
          "data": {
            "text/html": [
              "<div>\n",
              "<style scoped>\n",
              "    .dataframe tbody tr th:only-of-type {\n",
              "        vertical-align: middle;\n",
              "    }\n",
              "\n",
              "    .dataframe tbody tr th {\n",
              "        vertical-align: top;\n",
              "    }\n",
              "\n",
              "    .dataframe thead th {\n",
              "        text-align: right;\n",
              "    }\n",
              "</style>\n",
              "<table border=\"1\" class=\"dataframe\">\n",
              "  <thead>\n",
              "    <tr style=\"text-align: right;\">\n",
              "      <th></th>\n",
              "      <th>job_description</th>\n",
              "      <th>target_label</th>\n",
              "      <th>target_id</th>\n",
              "    </tr>\n",
              "  </thead>\n",
              "  <tbody>\n",
              "    <tr>\n",
              "      <th>0</th>\n",
              "      <td>linsco recruitment are currently working on be...</td>\n",
              "      <td>OTHER</td>\n",
              "      <td>0</td>\n",
              "    </tr>\n",
              "    <tr>\n",
              "      <th>1</th>\n",
              "      <td>the client has a current requirement for a tel...</td>\n",
              "      <td>REQUIREMENTS</td>\n",
              "      <td>1</td>\n",
              "    </tr>\n",
              "    <tr>\n",
              "      <th>2</th>\n",
              "      <td>the right candidate will be required to build ...</td>\n",
              "      <td>RESPONSABILITIES</td>\n",
              "      <td>2</td>\n",
              "    </tr>\n",
              "    <tr>\n",
              "      <th>3</th>\n",
              "      <td>emphasis is very much on the provision of qual...</td>\n",
              "      <td>OTHER</td>\n",
              "      <td>0</td>\n",
              "    </tr>\n",
              "    <tr>\n",
              "      <th>4</th>\n",
              "      <td>for this role you must have superb communicati...</td>\n",
              "      <td>RESPONSABILITIES</td>\n",
              "      <td>2</td>\n",
              "    </tr>\n",
              "  </tbody>\n",
              "</table>\n",
              "</div>"
            ],
            "text/plain": [
              "                                     job_description      target_label  \\\n",
              "0  linsco recruitment are currently working on be...             OTHER   \n",
              "1  the client has a current requirement for a tel...      REQUIREMENTS   \n",
              "2  the right candidate will be required to build ...  RESPONSABILITIES   \n",
              "3  emphasis is very much on the provision of qual...             OTHER   \n",
              "4  for this role you must have superb communicati...  RESPONSABILITIES   \n",
              "\n",
              "   target_id  \n",
              "0          0  \n",
              "1          1  \n",
              "2          2  \n",
              "3          0  \n",
              "4          2  "
            ]
          },
          "metadata": {
            "tags": []
          },
          "execution_count": 142
        }
      ]
    },
    {
      "cell_type": "code",
      "metadata": {
        "id": "Z1U5FeKQAVZ8",
        "colab_type": "code",
        "colab": {
          "base_uri": "https://localhost:8080/",
          "height": 105
        },
        "outputId": "d7fde1fa-6d2e-49b3-d5ed-23f3519e461b"
      },
      "source": [
        "# counting number of classes in the target label\n",
        "resultDF['target_label'].value_counts()"
      ],
      "execution_count": null,
      "outputs": [
        {
          "output_type": "execute_result",
          "data": {
            "text/plain": [
              "OTHER               29757\n",
              "REQUIREMENTS        17248\n",
              "RESPONSABILITIES    12484\n",
              "BENEFITS             3138\n",
              "Name: target_label, dtype: int64"
            ]
          },
          "metadata": {
            "tags": []
          },
          "execution_count": 15
        }
      ]
    },
    {
      "cell_type": "code",
      "metadata": {
        "id": "yqYiGCOGUzS8",
        "colab_type": "code",
        "colab": {
          "base_uri": "https://localhost:8080/",
          "height": 475
        },
        "outputId": "706ff843-929c-4b76-ba6b-0e89532116a1"
      },
      "source": [
        "# benefit is the minority class in the dataset\n",
        "import matplotlib.pyplot as plt\n",
        "fig = plt.figure(figsize=(8,6))\n",
        "resultDF.groupby('target_label').job_description.count().plot.bar(ylim=0)\n",
        "\n",
        "plt.show()"
      ],
      "execution_count": null,
      "outputs": [
        {
          "output_type": "display_data",
          "data": {
            "image/png": "[encoded data removed]",
            "text/plain": [
              "<Figure size 576x432 with 1 Axes>"
            ]
          },
          "metadata": {
            "tags": []
          }
        }
      ]
    },
    {
      "cell_type": "code",
      "metadata": {
        "id": "xfvryyUl5lYp",
        "colab_type": "code",
        "colab": {
          "base_uri": "https://localhost:8080/",
          "height": 54
        },
        "outputId": "278eab92-1171-4755-cf87-93ebb442d38c"
      },
      "source": [
        "# checking the value\n",
        "resultDF['job_description'][2]"
      ],
      "execution_count": null,
      "outputs": [
        {
          "output_type": "execute_result",
          "data": {
            "text/plain": [
              "'the right candidate will be required to build relationships with prospects by telephone with the aim of securing an appointment for the client'"
            ]
          },
          "metadata": {
            "tags": []
          },
          "execution_count": 17
        }
      ]
    },
    {
      "cell_type": "code",
      "metadata": {
        "id": "yudMiKLJ5wMH",
        "colab_type": "code",
        "colab": {}
      },
      "source": [
        "# text normalisation function\n",
        "import re\n",
        "def clean_text(text):\n",
        "    text = text.lower()\n",
        "    text = re.sub(r\"what's\", \"what is \", text)\n",
        "    text = re.sub(r\"\\'s\", \" \", text)\n",
        "    text = re.sub(r\"\\'ve\", \" have \", text)\n",
        "    text = re.sub(r\"can't\", \"can not \", text)\n",
        "    text = re.sub(r\"n't\", \" not \", text)\n",
        "    text = re.sub(r\"i'm\", \"i am \", text)\n",
        "    text = re.sub(r\"\\'re\", \" are \", text)\n",
        "    text = re.sub(r\"\\'d\", \" would \", text)\n",
        "    text = re.sub(r\"\\'ll\", \" will \", text)\n",
        "    text = re.sub(r\"\\'scuse\", \" excuse \", text)\n",
        "    text = re.sub('\\W', ' ', text)\n",
        "    text = re.sub('\\s+', ' ', text)\n",
        "    text = text.strip(' ')\n",
        "    return text"
      ],
      "execution_count": null,
      "outputs": []
    },
    {
      "cell_type": "code",
      "metadata": {
        "id": "DJcucujx5xS5",
        "colab_type": "code",
        "colab": {
          "base_uri": "https://localhost:8080/",
          "height": 54
        },
        "outputId": "136fcb09-1748-4bc1-b3b4-6a2cce6abbe7"
      },
      "source": [
        "# normalising job description column\n",
        "resultDF['job_description'] = resultDF['job_description'].map(lambda com : clean_text(com))\n",
        "resultDF['job_description'][2]"
      ],
      "execution_count": null,
      "outputs": [
        {
          "output_type": "execute_result",
          "data": {
            "text/plain": [
              "'the right candidate will be required to build relationships with prospects by telephone with the aim of securing an appointment for the client'"
            ]
          },
          "metadata": {
            "tags": []
          },
          "execution_count": 144
        }
      ]
    },
    {
      "cell_type": "code",
      "metadata": {
        "id": "20qGH1PxvGqz",
        "colab_type": "code",
        "colab": {}
      },
      "source": [
        "# reading Pickle/Pandas DataFrame\n",
        "testset=joblib.load('/content/drive/My Drive/testset')"
      ],
      "execution_count": null,
      "outputs": []
    },
    {
      "cell_type": "code",
      "metadata": {
        "id": "1mIF1c48wPcc",
        "colab_type": "code",
        "colab": {
          "base_uri": "https://localhost:8080/",
          "height": 34
        },
        "outputId": "3410c36c-f0cc-4c66-9c57-43e6fd10d1fb"
      },
      "source": [
        "# checking the class\n",
        "print(type(testset))"
      ],
      "execution_count": null,
      "outputs": [
        {
          "output_type": "stream",
          "text": [
            "<class 'pandas.core.frame.DataFrame'>\n"
          ],
          "name": "stdout"
        }
      ]
    },
    {
      "cell_type": "code",
      "metadata": {
        "id": "hkznflWF4td1",
        "colab_type": "code",
        "colab": {
          "base_uri": "https://localhost:8080/",
          "height": 34
        },
        "outputId": "0eccada3-8978-4090-ad2c-7e506767a049"
      },
      "source": [
        "# no of oberservations in the test dataset\n",
        "len(testset)"
      ],
      "execution_count": null,
      "outputs": [
        {
          "output_type": "execute_result",
          "data": {
            "text/plain": [
              "1800"
            ]
          },
          "metadata": {
            "tags": []
          },
          "execution_count": 23
        }
      ]
    },
    {
      "cell_type": "code",
      "metadata": {
        "id": "sL6fjI3yAO-F",
        "colab_type": "code",
        "colab": {
          "base_uri": "https://localhost:8080/",
          "height": 34
        },
        "outputId": "4b80c0cc-7703-4cb6-a05b-78e164a852dd"
      },
      "source": [
        "# dimension of the test dataset\n",
        "testset.shape"
      ],
      "execution_count": null,
      "outputs": [
        {
          "output_type": "execute_result",
          "data": {
            "text/plain": [
              "(1800, 2)"
            ]
          },
          "metadata": {
            "tags": []
          },
          "execution_count": 24
        }
      ]
    },
    {
      "cell_type": "code",
      "metadata": {
        "id": "hV_p9GMcw3mc",
        "colab_type": "code",
        "colab": {
          "base_uri": "https://localhost:8080/",
          "height": 197
        },
        "outputId": "69bbf2f2-8b8c-4ff8-801a-c73387f7d88b"
      },
      "source": [
        "# top 5 rows of the test dataset\n",
        "testset.head(5)"
      ],
      "execution_count": null,
      "outputs": [
        {
          "output_type": "execute_result",
          "data": {
            "text/html": [
              "<div>\n",
              "<style scoped>\n",
              "    .dataframe tbody tr th:only-of-type {\n",
              "        vertical-align: middle;\n",
              "    }\n",
              "\n",
              "    .dataframe tbody tr th {\n",
              "        vertical-align: top;\n",
              "    }\n",
              "\n",
              "    .dataframe thead th {\n",
              "        text-align: right;\n",
              "    }\n",
              "</style>\n",
              "<table border=\"1\" class=\"dataframe\">\n",
              "  <thead>\n",
              "    <tr style=\"text-align: right;\">\n",
              "      <th></th>\n",
              "      <th>job_id</th>\n",
              "      <th>job_description</th>\n",
              "    </tr>\n",
              "  </thead>\n",
              "  <tbody>\n",
              "    <tr>\n",
              "      <th>1782</th>\n",
              "      <td>26817970</td>\n",
              "      <td>&lt;p&gt;Our client is looking for a Mechanical Tec...</td>\n",
              "    </tr>\n",
              "    <tr>\n",
              "      <th>3917</th>\n",
              "      <td>9402535</td>\n",
              "      <td>Do you enjoy being a Legal Secretary and want ...</td>\n",
              "    </tr>\n",
              "    <tr>\n",
              "      <th>221</th>\n",
              "      <td>7760647</td>\n",
              "      <td>A welcoming school on the Greenwich peninsula ...</td>\n",
              "    </tr>\n",
              "    <tr>\n",
              "      <th>2135</th>\n",
              "      <td>5776807</td>\n",
              "      <td>Analyse requirements  code and test Windows CE...</td>\n",
              "    </tr>\n",
              "    <tr>\n",
              "      <th>5224</th>\n",
              "      <td>25474847</td>\n",
              "      <td>&lt;p&gt;We are currently recruiting for 7.5t (C1) ...</td>\n",
              "    </tr>\n",
              "  </tbody>\n",
              "</table>\n",
              "</div>"
            ],
            "text/plain": [
              "        job_id                                    job_description\n",
              "1782  26817970   <p>Our client is looking for a Mechanical Tec...\n",
              "3917   9402535  Do you enjoy being a Legal Secretary and want ...\n",
              "221    7760647  A welcoming school on the Greenwich peninsula ...\n",
              "2135   5776807  Analyse requirements  code and test Windows CE...\n",
              "5224  25474847   <p>We are currently recruiting for 7.5t (C1) ..."
            ]
          },
          "metadata": {
            "tags": []
          },
          "execution_count": 25
        }
      ]
    },
    {
      "cell_type": "code",
      "metadata": {
        "id": "NIvX2PdYCHuV",
        "colab_type": "code",
        "colab": {}
      },
      "source": [
        "# Taking subset of the sample from the training data\n",
        "resultDF = resultDF.sample(frac=0.3, replace=True, random_state=1)"
      ],
      "execution_count": null,
      "outputs": []
    },
    {
      "cell_type": "code",
      "metadata": {
        "id": "ezMyd-waDajx",
        "colab_type": "code",
        "colab": {
          "base_uri": "https://localhost:8080/",
          "height": 34
        },
        "outputId": "56fda3cc-dcaf-493f-e7cf-12ca82358d0a"
      },
      "source": [
        "# length of the training data\n",
        "len(resultDF)"
      ],
      "execution_count": null,
      "outputs": [
        {
          "output_type": "execute_result",
          "data": {
            "text/plain": [
              "18788"
            ]
          },
          "metadata": {
            "tags": []
          },
          "execution_count": 146
        }
      ]
    },
    {
      "cell_type": "code",
      "metadata": {
        "id": "FUBRtM0IXcHN",
        "colab_type": "code",
        "colab": {
          "base_uri": "https://localhost:8080/",
          "height": 34
        },
        "outputId": "1eba9dce-6dd1-41c9-bdc8-6f49a298e431"
      },
      "source": [
        "# Bag-of-words\n",
        "from sklearn.feature_extraction.text import TfidfVectorizer\n",
        "\n",
        "tfidf = TfidfVectorizer(sublinear_tf=True, min_df=5, norm='l2', encoding='latin-1', ngram_range=(1, 2), stop_words='english')\n",
        "features = tfidf.fit_transform(resultDF.job_description).toarray()\n",
        "labels = resultDF.target_id\n",
        "\n",
        "features.shape"
      ],
      "execution_count": null,
      "outputs": [
        {
          "output_type": "execute_result",
          "data": {
            "text/plain": [
              "(18788, 6921)"
            ]
          },
          "metadata": {
            "tags": []
          },
          "execution_count": 147
        }
      ]
    },
    {
      "cell_type": "code",
      "metadata": {
        "id": "VEYSREDqX5qA",
        "colab_type": "code",
        "colab": {
          "base_uri": "https://localhost:8080/",
          "height": 514
        },
        "outputId": "d8c293f7-6724-4346-c99b-9b9ea0a3c468"
      },
      "source": [
        "# Use 'sklearn.feature_selection.chi2' to find the terms that are the most correlated with each of the job description\n",
        "from sklearn.feature_selection import chi2\n",
        "import numpy as np\n",
        "\n",
        "N = 2\n",
        "\n",
        "for Product, category_id in sorted(category_to_id.items()):\n",
        "  features_chi2 = chi2(features, labels == category_id)\n",
        "  indices = np.argsort(features_chi2[0])\n",
        "  feature_names = np.array(tfidf.get_feature_names())[indices]\n",
        "  unigrams = [v for v in feature_names if len(v.split(' ')) == 1]\n",
        "  bigrams = [v for v in feature_names if len(v.split(' ')) == 2]\n",
        "  print(\"--> '{}':\".format(Product))\n",
        "  print(\"  . Most Correlated Unigrams are :\\n. {}\".format('\\n. '.join(unigrams[-N:])))\n",
        "  print(\"  . Most Correlated Bigrams are :\\n. {}\".format('\\n. '.join(bigrams[-N:])))"
      ],
      "execution_count": null,
      "outputs": [
        {
          "output_type": "stream",
          "text": [
            "--> 'BENEFITS':\n",
            "  . Most Correlated Unigrams are :\n",
            ". scheme\n",
            ". pension\n",
            "  . Most Correlated Bigrams are :\n",
            ". competitive salary\n",
            ". days holiday\n",
            "--> 'OTHER':\n",
            "  . Most Correlated Unigrams are :\n",
            ". ability\n",
            ". apply\n",
            "  . Most Correlated Bigrams are :\n",
            ". experience working\n",
            ". communication skills\n",
            "--> 'REQUIREMENTS':\n",
            "  . Most Correlated Unigrams are :\n",
            ". ability\n",
            ". experience\n",
            "  . Most Correlated Bigrams are :\n",
            ". communication skills\n",
            ". experience working\n",
            "--> 'RESPONSABILITIES':\n",
            "  . Most Correlated Unigrams are :\n",
            ". ensuring\n",
            ". ensure\n",
            "  . Most Correlated Bigrams are :\n",
            ". assessed merit\n",
            ". individual assessed\n"
          ],
          "name": "stdout"
        }
      ]
    },
    {
      "cell_type": "code",
      "metadata": {
        "id": "aaAPc6ih8g2o",
        "colab_type": "code",
        "colab": {}
      },
      "source": [
        "# splitting training dataset for validation purpose\n",
        "from sklearn.model_selection import train_test_split\n",
        "X_train, X_test, y_train, y_test = train_test_split(resultDF['job_description'], resultDF['target_label'], random_state = 0)"
      ],
      "execution_count": null,
      "outputs": []
    },
    {
      "cell_type": "code",
      "metadata": {
        "id": "6Ua2m4aaAG-x",
        "colab_type": "code",
        "colab": {
          "base_uri": "https://localhost:8080/",
          "height": 658
        },
        "outputId": "adde9bf0-51e3-489f-8d1f-5bfef832b7df"
      },
      "source": [
        "# different models applied\n",
        "from sklearn.linear_model import LogisticRegression\n",
        "from sklearn.ensemble import RandomForestClassifier\n",
        "from sklearn.svm import LinearSVC\n",
        "from sklearn.naive_bayes import MultinomialNB\n",
        "from sklearn.model_selection import cross_val_score\n",
        "import seaborn as sns\n",
        "\n",
        "models = [\n",
        "    RandomForestClassifier(n_estimators=200, max_depth=3, random_state=0),\n",
        "    LinearSVC(),\n",
        "    MultinomialNB(),\n",
        "    LogisticRegression(random_state=0),\n",
        "]\n",
        "\n",
        "CV = 5\n",
        "cv_df = pd.DataFrame(index=range(CV * len(models)))\n",
        "entries = []\n",
        "\n",
        "for model in models:\n",
        "  model_name = model.__class__.__name__\n",
        "  accuracies = cross_val_score(model, features, labels, scoring='accuracy', cv=CV)\n",
        "  for fold_idx, accuracy in enumerate(accuracies):\n",
        "    entries.append((model_name, fold_idx, accuracy))\n",
        "cv_df = pd.DataFrame(entries, columns=['model_name', 'fold_idx', 'accuracy'])\n",
        "\n",
        "sns.boxplot(x='model_name', y='accuracy', data=cv_df)\n",
        "sns.stripplot(x='model_name', y='accuracy', data=cv_df, \n",
        "              size=8, jitter=True, edgecolor=\"gray\", linewidth=2)\n",
        "\n",
        "plt.show()"
      ],
      "execution_count": null,
      "outputs": [
        {
          "output_type": "stream",
          "text": [
            "/usr/local/lib/python3.6/dist-packages/sklearn/linear_model/logistic.py:433: FutureWarning: Default solver will be changed to 'lbfgs' in 0.22. Specify a solver to silence this warning.\n",
            "  FutureWarning)\n",
            "/usr/local/lib/python3.6/dist-packages/sklearn/linear_model/logistic.py:460: FutureWarning: Default multi_class will be changed to 'auto' in 0.22. Specify the multi_class option to silence this warning.\n",
            "  \"this warning.\", FutureWarning)\n",
            "/usr/local/lib/python3.6/dist-packages/sklearn/linear_model/logistic.py:433: FutureWarning: Default solver will be changed to 'lbfgs' in 0.22. Specify a solver to silence this warning.\n",
            "  FutureWarning)\n",
            "/usr/local/lib/python3.6/dist-packages/sklearn/linear_model/logistic.py:460: FutureWarning: Default multi_class will be changed to 'auto' in 0.22. Specify the multi_class option to silence this warning.\n",
            "  \"this warning.\", FutureWarning)\n",
            "/usr/local/lib/python3.6/dist-packages/sklearn/linear_model/logistic.py:433: FutureWarning: Default solver will be changed to 'lbfgs' in 0.22. Specify a solver to silence this warning.\n",
            "  FutureWarning)\n",
            "/usr/local/lib/python3.6/dist-packages/sklearn/linear_model/logistic.py:460: FutureWarning: Default multi_class will be changed to 'auto' in 0.22. Specify the multi_class option to silence this warning.\n",
            "  \"this warning.\", FutureWarning)\n",
            "/usr/local/lib/python3.6/dist-packages/sklearn/linear_model/logistic.py:433: FutureWarning: Default solver will be changed to 'lbfgs' in 0.22. Specify a solver to silence this warning.\n",
            "  FutureWarning)\n",
            "/usr/local/lib/python3.6/dist-packages/sklearn/linear_model/logistic.py:460: FutureWarning: Default multi_class will be changed to 'auto' in 0.22. Specify the multi_class option to silence this warning.\n",
            "  \"this warning.\", FutureWarning)\n",
            "/usr/local/lib/python3.6/dist-packages/sklearn/linear_model/logistic.py:433: FutureWarning: Default solver will be changed to 'lbfgs' in 0.22. Specify a solver to silence this warning.\n",
            "  FutureWarning)\n",
            "/usr/local/lib/python3.6/dist-packages/sklearn/linear_model/logistic.py:460: FutureWarning: Default multi_class will be changed to 'auto' in 0.22. Specify the multi_class option to silence this warning.\n",
            "  \"this warning.\", FutureWarning)\n"
          ],
          "name": "stderr"
        },
        {
          "output_type": "display_data",
          "data": {
            "image/png": "[encoded data removed]",
            "text/plain": [
              "<Figure size 432x288 with 1 Axes>"
            ]
          },
          "metadata": {
            "tags": []
          }
        }
      ]
    },
    {
      "cell_type": "code",
      "metadata": {
        "id": "ZMlnZyx0Bovg",
        "colab_type": "code",
        "colab": {
          "base_uri": "https://localhost:8080/",
          "height": 123
        },
        "outputId": "21d3f076-d4c4-4d7a-d84e-955bf83ea4f1"
      },
      "source": [
        "# accuracy of different model\n",
        "cv_df.groupby('model_name').accuracy.mean()"
      ],
      "execution_count": null,
      "outputs": [
        {
          "output_type": "execute_result",
          "data": {
            "text/plain": [
              "model_name\n",
              "LinearSVC                 0.882534\n",
              "LogisticRegression        0.860550\n",
              "MultinomialNB             0.856985\n",
              "RandomForestClassifier    0.474931\n",
              "Name: accuracy, dtype: float64"
            ]
          },
          "metadata": {
            "tags": []
          },
          "execution_count": 151
        }
      ]
    },
    {
      "cell_type": "code",
      "metadata": {
        "id": "aOpxJyLkEBu1",
        "colab_type": "code",
        "colab": {
          "base_uri": "https://localhost:8080/",
          "height": 608
        },
        "outputId": "28b1cdae-3fb6-432b-c2d5-df0609c89657"
      },
      "source": [
        "# confusion matrix\n",
        "model = LinearSVC()\n",
        "X_train, X_test, y_train, y_test, indices_train, indices_test = train_test_split(features, labels, resultDF.index, test_size=0.33, random_state=0)\n",
        "model.fit(X_train, y_train)\n",
        "y_pred = model.predict(X_test)\n",
        "from sklearn.metrics import confusion_matrix\n",
        "conf_mat = confusion_matrix(y_test, y_pred)\n",
        "fig, ax = plt.subplots(figsize=(10,10))\n",
        "sns.heatmap(conf_mat, annot=True, fmt='d',\n",
        "            xticklabels=category_id_df.target_label.values, yticklabels=category_id_df.target_label.values)\n",
        "plt.ylabel('Actual')\n",
        "plt.xlabel('Predicted')\n",
        "plt.show()"
      ],
      "execution_count": null,
      "outputs": [
        {
          "output_type": "display_data",
          "data": {
            "image/png": "[encoded data removed]",
            "text/plain": [
              "<Figure size 720x720 with 2 Axes>"
            ]
          },
          "metadata": {
            "tags": []
          }
        }
      ]
    },
    {
      "cell_type": "code",
      "metadata": {
        "id": "Y2qH6qH_FJc8",
        "colab_type": "code",
        "colab": {
          "base_uri": "https://localhost:8080/",
          "height": 14678
        },
        "outputId": "86343dc8-743b-41d3-8e0f-2e375f700a65"
      },
      "source": [
        "# predicted result\n",
        "from IPython.display import display\n",
        "for predicted in category_id_df.target_id:\n",
        "  for actual in category_id_df.target_id:\n",
        "    if predicted != actual and conf_mat[actual, predicted] >= 10:\n",
        "      print(\"'{}' predicted as '{}' : {} examples.\".format(id_to_category[actual], id_to_category[predicted], conf_mat[actual, predicted]))\n",
        "      display(resultDF.loc[indices_test[(y_test == actual) & (y_pred == predicted)]][['target_label', 'job_description']])\n",
        "      print('')"
      ],
      "execution_count": null,
      "outputs": [
        {
          "output_type": "stream",
          "text": [
            "'REQUIREMENTS' predicted as 'OTHER' : 178 examples.\n"
          ],
          "name": "stdout"
        },
        {
          "output_type": "display_data",
          "data": {
            "text/html": [
              "<div>\n",
              "<style scoped>\n",
              "    .dataframe tbody tr th:only-of-type {\n",
              "        vertical-align: middle;\n",
              "    }\n",
              "\n",
              "    .dataframe tbody tr th {\n",
              "        vertical-align: top;\n",
              "    }\n",
              "\n",
              "    .dataframe thead th {\n",
              "        text-align: right;\n",
              "    }\n",
              "</style>\n",
              "<table border=\"1\" class=\"dataframe\">\n",
              "  <thead>\n",
              "    <tr style=\"text-align: right;\">\n",
              "      <th></th>\n",
              "      <th>target_label</th>\n",
              "      <th>job_description</th>\n",
              "    </tr>\n",
              "  </thead>\n",
              "  <tbody>\n",
              "    <tr>\n",
              "      <th>43294</th>\n",
              "      <td>REQUIREMENTS</td>\n",
              "      <td>an interest in the ongoing development of lega...</td>\n",
              "    </tr>\n",
              "    <tr>\n",
              "      <th>52348</th>\n",
              "      <td>REQUIREMENTS</td>\n",
              "      <td>high customer focus</td>\n",
              "    </tr>\n",
              "    <tr>\n",
              "      <th>21311</th>\n",
              "      <td>REQUIREMENTS</td>\n",
              "      <td>evidence of coaching skills</td>\n",
              "    </tr>\n",
              "    <tr>\n",
              "      <th>9122</th>\n",
              "      <td>REQUIREMENTS</td>\n",
              "      <td>current 7 5t experience</td>\n",
              "    </tr>\n",
              "    <tr>\n",
              "      <th>62581</th>\n",
              "      <td>REQUIREMENTS</td>\n",
              "      <td>must come from a warehouse background have exp...</td>\n",
              "    </tr>\n",
              "    <tr>\n",
              "      <th>25730</th>\n",
              "      <td>REQUIREMENTS</td>\n",
              "      <td>customer focus</td>\n",
              "    </tr>\n",
              "    <tr>\n",
              "      <th>29414</th>\n",
              "      <td>REQUIREMENTS</td>\n",
              "      <td>technical expertise in eias to support existin...</td>\n",
              "    </tr>\n",
              "    <tr>\n",
              "      <th>29414</th>\n",
              "      <td>REQUIREMENTS</td>\n",
              "      <td>technical expertise in eias to support existin...</td>\n",
              "    </tr>\n",
              "    <tr>\n",
              "      <th>56896</th>\n",
              "      <td>REQUIREMENTS</td>\n",
              "      <td>jenkins automated build pipelines</td>\n",
              "    </tr>\n",
              "    <tr>\n",
              "      <th>27364</th>\n",
              "      <td>REQUIREMENTS</td>\n",
              "      <td>you must be committed to safeguarding and prom...</td>\n",
              "    </tr>\n",
              "    <tr>\n",
              "      <th>27364</th>\n",
              "      <td>REQUIREMENTS</td>\n",
              "      <td>you must be committed to safeguarding and prom...</td>\n",
              "    </tr>\n",
              "    <tr>\n",
              "      <th>12732</th>\n",
              "      <td>REQUIREMENTS</td>\n",
              "      <td>hgv c driver with counter balance forklift</td>\n",
              "    </tr>\n",
              "    <tr>\n",
              "      <th>14549</th>\n",
              "      <td>REQUIREMENTS</td>\n",
              "      <td>l2 application of number</td>\n",
              "    </tr>\n",
              "    <tr>\n",
              "      <th>14549</th>\n",
              "      <td>REQUIREMENTS</td>\n",
              "      <td>l2 application of number</td>\n",
              "    </tr>\n",
              "    <tr>\n",
              "      <th>49225</th>\n",
              "      <td>REQUIREMENTS</td>\n",
              "      <td>experience of working within the preschool roo...</td>\n",
              "    </tr>\n",
              "    <tr>\n",
              "      <th>46205</th>\n",
              "      <td>REQUIREMENTS</td>\n",
              "      <td>most importantly this person must be an extrem...</td>\n",
              "    </tr>\n",
              "    <tr>\n",
              "      <th>5812</th>\n",
              "      <td>REQUIREMENTS</td>\n",
              "      <td>ruby on rails</td>\n",
              "    </tr>\n",
              "    <tr>\n",
              "      <th>40691</th>\n",
              "      <td>REQUIREMENTS</td>\n",
              "      <td>net</td>\n",
              "    </tr>\n",
              "    <tr>\n",
              "      <th>19065</th>\n",
              "      <td>REQUIREMENTS</td>\n",
              "      <td>be a qualified teaching assistant</td>\n",
              "    </tr>\n",
              "    <tr>\n",
              "      <th>59492</th>\n",
              "      <td>REQUIREMENTS</td>\n",
              "      <td>the school are looking for an excellent practi...</td>\n",
              "    </tr>\n",
              "    <tr>\n",
              "      <th>7241</th>\n",
              "      <td>REQUIREMENTS</td>\n",
              "      <td>tenacity</td>\n",
              "    </tr>\n",
              "    <tr>\n",
              "      <th>16048</th>\n",
              "      <td>REQUIREMENTS</td>\n",
              "      <td>a desire for a long term rewarding career in s...</td>\n",
              "    </tr>\n",
              "    <tr>\n",
              "      <th>30215</th>\n",
              "      <td>REQUIREMENTS</td>\n",
              "      <td>as a primary knowledge champion for meta data ...</td>\n",
              "    </tr>\n",
              "    <tr>\n",
              "      <th>39266</th>\n",
              "      <td>REQUIREMENTS</td>\n",
              "      <td>our consultants come from a range of backgroun...</td>\n",
              "    </tr>\n",
              "    <tr>\n",
              "      <th>36705</th>\n",
              "      <td>REQUIREMENTS</td>\n",
              "      <td>this position would suit someone with a social...</td>\n",
              "    </tr>\n",
              "    <tr>\n",
              "      <th>40993</th>\n",
              "      <td>REQUIREMENTS</td>\n",
              "      <td>desirable java certification data warehousing ...</td>\n",
              "    </tr>\n",
              "    <tr>\n",
              "      <th>34428</th>\n",
              "      <td>REQUIREMENTS</td>\n",
              "      <td>reliability</td>\n",
              "    </tr>\n",
              "    <tr>\n",
              "      <th>22181</th>\n",
              "      <td>REQUIREMENTS</td>\n",
              "      <td>you must have a moffett licence must be from o...</td>\n",
              "    </tr>\n",
              "    <tr>\n",
              "      <th>22181</th>\n",
              "      <td>REQUIREMENTS</td>\n",
              "      <td>you must have a moffett licence must be from o...</td>\n",
              "    </tr>\n",
              "    <tr>\n",
              "      <th>6081</th>\n",
              "      <td>REQUIREMENTS</td>\n",
              "      <td>java</td>\n",
              "    </tr>\n",
              "    <tr>\n",
              "      <th>...</th>\n",
              "      <td>...</td>\n",
              "      <td>...</td>\n",
              "    </tr>\n",
              "    <tr>\n",
              "      <th>40005</th>\n",
              "      <td>REQUIREMENTS</td>\n",
              "      <td>design</td>\n",
              "    </tr>\n",
              "    <tr>\n",
              "      <th>7672</th>\n",
              "      <td>REQUIREMENTS</td>\n",
              "      <td>java c c</td>\n",
              "    </tr>\n",
              "    <tr>\n",
              "      <th>45844</th>\n",
              "      <td>REQUIREMENTS</td>\n",
              "      <td>impact and influence</td>\n",
              "    </tr>\n",
              "    <tr>\n",
              "      <th>21300</th>\n",
              "      <td>REQUIREMENTS</td>\n",
              "      <td>organisation and efficient prioritising of wor...</td>\n",
              "    </tr>\n",
              "    <tr>\n",
              "      <th>33401</th>\n",
              "      <td>REQUIREMENTS</td>\n",
              "      <td>ultimately it s about being a team player</td>\n",
              "    </tr>\n",
              "    <tr>\n",
              "      <th>23009</th>\n",
              "      <td>REQUIREMENTS</td>\n",
              "      <td>has high expectations</td>\n",
              "    </tr>\n",
              "    <tr>\n",
              "      <th>34074</th>\n",
              "      <td>REQUIREMENTS</td>\n",
              "      <td>you will need steel toe cap boots</td>\n",
              "    </tr>\n",
              "    <tr>\n",
              "      <th>25923</th>\n",
              "      <td>REQUIREMENTS</td>\n",
              "      <td>exceptionally friendly colleagues</td>\n",
              "    </tr>\n",
              "    <tr>\n",
              "      <th>15026</th>\n",
              "      <td>REQUIREMENTS</td>\n",
              "      <td>confidently objection handle any customer obje...</td>\n",
              "    </tr>\n",
              "    <tr>\n",
              "      <th>10314</th>\n",
              "      <td>REQUIREMENTS</td>\n",
              "      <td>prioritisation and organisation of communications</td>\n",
              "    </tr>\n",
              "    <tr>\n",
              "      <th>42984</th>\n",
              "      <td>REQUIREMENTS</td>\n",
              "      <td>information technology skills</td>\n",
              "    </tr>\n",
              "    <tr>\n",
              "      <th>42749</th>\n",
              "      <td>REQUIREMENTS</td>\n",
              "      <td>overseas trained teachers are more than welcom...</td>\n",
              "    </tr>\n",
              "    <tr>\n",
              "      <th>43056</th>\n",
              "      <td>REQUIREMENTS</td>\n",
              "      <td>404229 or email</td>\n",
              "    </tr>\n",
              "    <tr>\n",
              "      <th>43056</th>\n",
              "      <td>REQUIREMENTS</td>\n",
              "      <td>404229 or email</td>\n",
              "    </tr>\n",
              "    <tr>\n",
              "      <th>54520</th>\n",
              "      <td>REQUIREMENTS</td>\n",
              "      <td>have continuous work experience in primary sch...</td>\n",
              "    </tr>\n",
              "    <tr>\n",
              "      <th>31427</th>\n",
              "      <td>REQUIREMENTS</td>\n",
              "      <td>must be fully conversant with the working time...</td>\n",
              "    </tr>\n",
              "    <tr>\n",
              "      <th>25821</th>\n",
              "      <td>REQUIREMENTS</td>\n",
              "      <td>they are seeking people with the unique mix of...</td>\n",
              "    </tr>\n",
              "    <tr>\n",
              "      <th>24535</th>\n",
              "      <td>REQUIREMENTS</td>\n",
              "      <td>to apply you will ideally have a solid groundi...</td>\n",
              "    </tr>\n",
              "    <tr>\n",
              "      <th>15208</th>\n",
              "      <td>REQUIREMENTS</td>\n",
              "      <td>the head of the school is looking for someone ...</td>\n",
              "    </tr>\n",
              "    <tr>\n",
              "      <th>23118</th>\n",
              "      <td>REQUIREMENTS</td>\n",
              "      <td>candidates should be within commuting distance...</td>\n",
              "    </tr>\n",
              "    <tr>\n",
              "      <th>24145</th>\n",
              "      <td>REQUIREMENTS</td>\n",
              "      <td>cad skills</td>\n",
              "    </tr>\n",
              "    <tr>\n",
              "      <th>12223</th>\n",
              "      <td>REQUIREMENTS</td>\n",
              "      <td>will be a good role model</td>\n",
              "    </tr>\n",
              "    <tr>\n",
              "      <th>36586</th>\n",
              "      <td>REQUIREMENTS</td>\n",
              "      <td>you will need to be money hungry and looking f...</td>\n",
              "    </tr>\n",
              "    <tr>\n",
              "      <th>25361</th>\n",
              "      <td>REQUIREMENTS</td>\n",
              "      <td>friendly and dedicated team</td>\n",
              "    </tr>\n",
              "    <tr>\n",
              "      <th>36338</th>\n",
              "      <td>REQUIREMENTS</td>\n",
              "      <td>the ideal candidate will have loads of enthusi...</td>\n",
              "    </tr>\n",
              "    <tr>\n",
              "      <th>9610</th>\n",
              "      <td>REQUIREMENTS</td>\n",
              "      <td>you will have excellent academics 2 1 minimum ...</td>\n",
              "    </tr>\n",
              "    <tr>\n",
              "      <th>9610</th>\n",
              "      <td>REQUIREMENTS</td>\n",
              "      <td>you will have excellent academics 2 1 minimum ...</td>\n",
              "    </tr>\n",
              "    <tr>\n",
              "      <th>21436</th>\n",
              "      <td>REQUIREMENTS</td>\n",
              "      <td>net 4 c</td>\n",
              "    </tr>\n",
              "    <tr>\n",
              "      <th>12683</th>\n",
              "      <td>REQUIREMENTS</td>\n",
              "      <td>we regret we can only accept applications from...</td>\n",
              "    </tr>\n",
              "    <tr>\n",
              "      <th>29983</th>\n",
              "      <td>REQUIREMENTS</td>\n",
              "      <td>prince2 foundation desirable</td>\n",
              "    </tr>\n",
              "  </tbody>\n",
              "</table>\n",
              "<p>198 rows × 2 columns</p>\n",
              "</div>"
            ],
            "text/plain": [
              "       target_label                                    job_description\n",
              "43294  REQUIREMENTS  an interest in the ongoing development of lega...\n",
              "52348  REQUIREMENTS                                high customer focus\n",
              "21311  REQUIREMENTS                        evidence of coaching skills\n",
              "9122   REQUIREMENTS                            current 7 5t experience\n",
              "62581  REQUIREMENTS  must come from a warehouse background have exp...\n",
              "25730  REQUIREMENTS                                     customer focus\n",
              "29414  REQUIREMENTS  technical expertise in eias to support existin...\n",
              "29414  REQUIREMENTS  technical expertise in eias to support existin...\n",
              "56896  REQUIREMENTS                  jenkins automated build pipelines\n",
              "27364  REQUIREMENTS  you must be committed to safeguarding and prom...\n",
              "27364  REQUIREMENTS  you must be committed to safeguarding and prom...\n",
              "12732  REQUIREMENTS         hgv c driver with counter balance forklift\n",
              "14549  REQUIREMENTS                           l2 application of number\n",
              "14549  REQUIREMENTS                           l2 application of number\n",
              "49225  REQUIREMENTS  experience of working within the preschool roo...\n",
              "46205  REQUIREMENTS  most importantly this person must be an extrem...\n",
              "5812   REQUIREMENTS                                      ruby on rails\n",
              "40691  REQUIREMENTS                                                net\n",
              "19065  REQUIREMENTS                  be a qualified teaching assistant\n",
              "59492  REQUIREMENTS  the school are looking for an excellent practi...\n",
              "7241   REQUIREMENTS                                           tenacity\n",
              "16048  REQUIREMENTS  a desire for a long term rewarding career in s...\n",
              "30215  REQUIREMENTS  as a primary knowledge champion for meta data ...\n",
              "39266  REQUIREMENTS  our consultants come from a range of backgroun...\n",
              "36705  REQUIREMENTS  this position would suit someone with a social...\n",
              "40993  REQUIREMENTS  desirable java certification data warehousing ...\n",
              "34428  REQUIREMENTS                                        reliability\n",
              "22181  REQUIREMENTS  you must have a moffett licence must be from o...\n",
              "22181  REQUIREMENTS  you must have a moffett licence must be from o...\n",
              "6081   REQUIREMENTS                                               java\n",
              "...             ...                                                ...\n",
              "40005  REQUIREMENTS                                             design\n",
              "7672   REQUIREMENTS                                           java c c\n",
              "45844  REQUIREMENTS                               impact and influence\n",
              "21300  REQUIREMENTS  organisation and efficient prioritising of wor...\n",
              "33401  REQUIREMENTS          ultimately it s about being a team player\n",
              "23009  REQUIREMENTS                              has high expectations\n",
              "34074  REQUIREMENTS                  you will need steel toe cap boots\n",
              "25923  REQUIREMENTS                  exceptionally friendly colleagues\n",
              "15026  REQUIREMENTS  confidently objection handle any customer obje...\n",
              "10314  REQUIREMENTS  prioritisation and organisation of communications\n",
              "42984  REQUIREMENTS                      information technology skills\n",
              "42749  REQUIREMENTS  overseas trained teachers are more than welcom...\n",
              "43056  REQUIREMENTS                                    404229 or email\n",
              "43056  REQUIREMENTS                                    404229 or email\n",
              "54520  REQUIREMENTS  have continuous work experience in primary sch...\n",
              "31427  REQUIREMENTS  must be fully conversant with the working time...\n",
              "25821  REQUIREMENTS  they are seeking people with the unique mix of...\n",
              "24535  REQUIREMENTS  to apply you will ideally have a solid groundi...\n",
              "15208  REQUIREMENTS  the head of the school is looking for someone ...\n",
              "23118  REQUIREMENTS  candidates should be within commuting distance...\n",
              "24145  REQUIREMENTS                                         cad skills\n",
              "12223  REQUIREMENTS                          will be a good role model\n",
              "36586  REQUIREMENTS  you will need to be money hungry and looking f...\n",
              "25361  REQUIREMENTS                        friendly and dedicated team\n",
              "36338  REQUIREMENTS  the ideal candidate will have loads of enthusi...\n",
              "9610   REQUIREMENTS  you will have excellent academics 2 1 minimum ...\n",
              "9610   REQUIREMENTS  you will have excellent academics 2 1 minimum ...\n",
              "21436  REQUIREMENTS                                            net 4 c\n",
              "12683  REQUIREMENTS  we regret we can only accept applications from...\n",
              "29983  REQUIREMENTS                       prince2 foundation desirable\n",
              "\n",
              "[198 rows x 2 columns]"
            ]
          },
          "metadata": {
            "tags": []
          }
        },
        {
          "output_type": "stream",
          "text": [
            "\n",
            "'RESPONSABILITIES' predicted as 'OTHER' : 144 examples.\n"
          ],
          "name": "stdout"
        },
        {
          "output_type": "display_data",
          "data": {
            "text/html": [
              "<div>\n",
              "<style scoped>\n",
              "    .dataframe tbody tr th:only-of-type {\n",
              "        vertical-align: middle;\n",
              "    }\n",
              "\n",
              "    .dataframe tbody tr th {\n",
              "        vertical-align: top;\n",
              "    }\n",
              "\n",
              "    .dataframe thead th {\n",
              "        text-align: right;\n",
              "    }\n",
              "</style>\n",
              "<table border=\"1\" class=\"dataframe\">\n",
              "  <thead>\n",
              "    <tr style=\"text-align: right;\">\n",
              "      <th></th>\n",
              "      <th>target_label</th>\n",
              "      <th>job_description</th>\n",
              "    </tr>\n",
              "  </thead>\n",
              "  <tbody>\n",
              "    <tr>\n",
              "      <th>17875</th>\n",
              "      <td>RESPONSABILITIES</td>\n",
              "      <td>project is to provide a disaster recovery set ...</td>\n",
              "    </tr>\n",
              "    <tr>\n",
              "      <th>41957</th>\n",
              "      <td>RESPONSABILITIES</td>\n",
              "      <td>guides and motivates others to provide excelle...</td>\n",
              "    </tr>\n",
              "    <tr>\n",
              "      <th>17878</th>\n",
              "      <td>RESPONSABILITIES</td>\n",
              "      <td>develop business continuity plan disaster reco...</td>\n",
              "    </tr>\n",
              "    <tr>\n",
              "      <th>8017</th>\n",
              "      <td>RESPONSABILITIES</td>\n",
              "      <td>the service delivery manager ensures that the ...</td>\n",
              "    </tr>\n",
              "    <tr>\n",
              "      <th>45228</th>\n",
              "      <td>RESPONSABILITIES</td>\n",
              "      <td>structuring trusts</td>\n",
              "    </tr>\n",
              "    <tr>\n",
              "      <th>19531</th>\n",
              "      <td>RESPONSABILITIES</td>\n",
              "      <td>you will join our clients quantitative researc...</td>\n",
              "    </tr>\n",
              "    <tr>\n",
              "      <th>35506</th>\n",
              "      <td>RESPONSABILITIES</td>\n",
              "      <td>this role will involve cold calling</td>\n",
              "    </tr>\n",
              "    <tr>\n",
              "      <th>45932</th>\n",
              "      <td>RESPONSABILITIES</td>\n",
              "      <td>provide a professional service to all accounts...</td>\n",
              "    </tr>\n",
              "    <tr>\n",
              "      <th>42350</th>\n",
              "      <td>RESPONSABILITIES</td>\n",
              "      <td>whilst most designs will be focussed on emails...</td>\n",
              "    </tr>\n",
              "    <tr>\n",
              "      <th>29036</th>\n",
              "      <td>RESPONSABILITIES</td>\n",
              "      <td>submission of overflight landing and diplomati...</td>\n",
              "    </tr>\n",
              "    <tr>\n",
              "      <th>49757</th>\n",
              "      <td>RESPONSABILITIES</td>\n",
              "      <td>resource management balancing bau and project ...</td>\n",
              "    </tr>\n",
              "    <tr>\n",
              "      <th>1002</th>\n",
              "      <td>RESPONSABILITIES</td>\n",
              "      <td>7 to be responsible for own personal developme...</td>\n",
              "    </tr>\n",
              "    <tr>\n",
              "      <th>43922</th>\n",
              "      <td>RESPONSABILITIES</td>\n",
              "      <td>the role is to provide paralegal support to th...</td>\n",
              "    </tr>\n",
              "    <tr>\n",
              "      <th>50040</th>\n",
              "      <td>RESPONSABILITIES</td>\n",
              "      <td>offer consultative approach to clients to ensu...</td>\n",
              "    </tr>\n",
              "    <tr>\n",
              "      <th>10248</th>\n",
              "      <td>RESPONSABILITIES</td>\n",
              "      <td>this role is heavily focusing on retaining and...</td>\n",
              "    </tr>\n",
              "    <tr>\n",
              "      <th>55647</th>\n",
              "      <td>RESPONSABILITIES</td>\n",
              "      <td>a once in a lifetime opportunity for you to re...</td>\n",
              "    </tr>\n",
              "    <tr>\n",
              "      <th>15802</th>\n",
              "      <td>RESPONSABILITIES</td>\n",
              "      <td>meeting with potential customers to discuss th...</td>\n",
              "    </tr>\n",
              "    <tr>\n",
              "      <th>51973</th>\n",
              "      <td>RESPONSABILITIES</td>\n",
              "      <td>number of parcels to different locations</td>\n",
              "    </tr>\n",
              "    <tr>\n",
              "      <th>4605</th>\n",
              "      <td>RESPONSABILITIES</td>\n",
              "      <td>lead teams consisting of is and partner staff ...</td>\n",
              "    </tr>\n",
              "    <tr>\n",
              "      <th>39085</th>\n",
              "      <td>RESPONSABILITIES</td>\n",
              "      <td>keep in close contact with customers shipping ...</td>\n",
              "    </tr>\n",
              "    <tr>\n",
              "      <th>7866</th>\n",
              "      <td>RESPONSABILITIES</td>\n",
              "      <td>your role will be to contact local employers t...</td>\n",
              "    </tr>\n",
              "    <tr>\n",
              "      <th>40606</th>\n",
              "      <td>RESPONSABILITIES</td>\n",
              "      <td>respond to billing questions from external fre...</td>\n",
              "    </tr>\n",
              "    <tr>\n",
              "      <th>47529</th>\n",
              "      <td>RESPONSABILITIES</td>\n",
              "      <td>reduce eliminate reliance on out of date unsup...</td>\n",
              "    </tr>\n",
              "    <tr>\n",
              "      <th>57966</th>\n",
              "      <td>RESPONSABILITIES</td>\n",
              "      <td>as the design engineer you will also construct...</td>\n",
              "    </tr>\n",
              "    <tr>\n",
              "      <th>52778</th>\n",
              "      <td>RESPONSABILITIES</td>\n",
              "      <td>provides continuous support in helping the fir...</td>\n",
              "    </tr>\n",
              "    <tr>\n",
              "      <th>13896</th>\n",
              "      <td>RESPONSABILITIES</td>\n",
              "      <td>project reporting to single aisle epm and wide...</td>\n",
              "    </tr>\n",
              "    <tr>\n",
              "      <th>62534</th>\n",
              "      <td>RESPONSABILITIES</td>\n",
              "      <td>provides holiday sickness cover for warehouse ...</td>\n",
              "    </tr>\n",
              "    <tr>\n",
              "      <th>2849</th>\n",
              "      <td>RESPONSABILITIES</td>\n",
              "      <td>looking after and completing paperwork accurately</td>\n",
              "    </tr>\n",
              "    <tr>\n",
              "      <th>46138</th>\n",
              "      <td>RESPONSABILITIES</td>\n",
              "      <td>shipping</td>\n",
              "    </tr>\n",
              "    <tr>\n",
              "      <th>1076</th>\n",
              "      <td>RESPONSABILITIES</td>\n",
              "      <td>this role will specialise in sales via the spe...</td>\n",
              "    </tr>\n",
              "    <tr>\n",
              "      <th>...</th>\n",
              "      <td>...</td>\n",
              "      <td>...</td>\n",
              "    </tr>\n",
              "    <tr>\n",
              "      <th>9353</th>\n",
              "      <td>RESPONSABILITIES</td>\n",
              "      <td>the role of the secretary is a key to ensuring...</td>\n",
              "    </tr>\n",
              "    <tr>\n",
              "      <th>13414</th>\n",
              "      <td>RESPONSABILITIES</td>\n",
              "      <td>to perform any other duties not defined in the...</td>\n",
              "    </tr>\n",
              "    <tr>\n",
              "      <th>17012</th>\n",
              "      <td>RESPONSABILITIES</td>\n",
              "      <td>producing robust dealer visit reports and work...</td>\n",
              "    </tr>\n",
              "    <tr>\n",
              "      <th>41952</th>\n",
              "      <td>RESPONSABILITIES</td>\n",
              "      <td>delivery through people</td>\n",
              "    </tr>\n",
              "    <tr>\n",
              "      <th>41952</th>\n",
              "      <td>RESPONSABILITIES</td>\n",
              "      <td>delivery through people</td>\n",
              "    </tr>\n",
              "    <tr>\n",
              "      <th>51374</th>\n",
              "      <td>RESPONSABILITIES</td>\n",
              "      <td>delta consultants applying the art of recruitm...</td>\n",
              "    </tr>\n",
              "    <tr>\n",
              "      <th>54726</th>\n",
              "      <td>RESPONSABILITIES</td>\n",
              "      <td>to provide initial advice and guidance to pris...</td>\n",
              "    </tr>\n",
              "    <tr>\n",
              "      <th>25941</th>\n",
              "      <td>RESPONSABILITIES</td>\n",
              "      <td>main duties and responsibilities are to be res...</td>\n",
              "    </tr>\n",
              "    <tr>\n",
              "      <th>2335</th>\n",
              "      <td>RESPONSABILITIES</td>\n",
              "      <td>secure online profile where you can access tim...</td>\n",
              "    </tr>\n",
              "    <tr>\n",
              "      <th>7363</th>\n",
              "      <td>RESPONSABILITIES</td>\n",
              "      <td>driving shuttle buses on half and 1 mile round...</td>\n",
              "    </tr>\n",
              "    <tr>\n",
              "      <th>14382</th>\n",
              "      <td>RESPONSABILITIES</td>\n",
              "      <td>run through to trial</td>\n",
              "    </tr>\n",
              "    <tr>\n",
              "      <th>23019</th>\n",
              "      <td>RESPONSABILITIES</td>\n",
              "      <td>identification of new applications opportuniti...</td>\n",
              "    </tr>\n",
              "    <tr>\n",
              "      <th>14152</th>\n",
              "      <td>RESPONSABILITIES</td>\n",
              "      <td>to add weight to their field sales engineers</td>\n",
              "    </tr>\n",
              "    <tr>\n",
              "      <th>56757</th>\n",
              "      <td>RESPONSABILITIES</td>\n",
              "      <td>to monitor competitor titles for potential adv...</td>\n",
              "    </tr>\n",
              "    <tr>\n",
              "      <th>1750</th>\n",
              "      <td>RESPONSABILITIES</td>\n",
              "      <td>the role itself requires regular direct client...</td>\n",
              "    </tr>\n",
              "    <tr>\n",
              "      <th>45813</th>\n",
              "      <td>RESPONSABILITIES</td>\n",
              "      <td>presenting to the customer</td>\n",
              "    </tr>\n",
              "    <tr>\n",
              "      <th>6996</th>\n",
              "      <td>RESPONSABILITIES</td>\n",
              "      <td>the role will focus upon property exchanges la...</td>\n",
              "    </tr>\n",
              "    <tr>\n",
              "      <th>21105</th>\n",
              "      <td>RESPONSABILITIES</td>\n",
              "      <td>assemble furniture when required</td>\n",
              "    </tr>\n",
              "    <tr>\n",
              "      <th>56116</th>\n",
              "      <td>RESPONSABILITIES</td>\n",
              "      <td>multi drop around the surrounding area</td>\n",
              "    </tr>\n",
              "    <tr>\n",
              "      <th>7867</th>\n",
              "      <td>RESPONSABILITIES</td>\n",
              "      <td>the role also includes working with a caseload...</td>\n",
              "    </tr>\n",
              "    <tr>\n",
              "      <th>60707</th>\n",
              "      <td>RESPONSABILITIES</td>\n",
              "      <td>maintains billing forecast spreadsheet</td>\n",
              "    </tr>\n",
              "    <tr>\n",
              "      <th>937</th>\n",
              "      <td>RESPONSABILITIES</td>\n",
              "      <td>as a year 2 teacher you will help to develop t...</td>\n",
              "    </tr>\n",
              "    <tr>\n",
              "      <th>23694</th>\n",
              "      <td>RESPONSABILITIES</td>\n",
              "      <td>to investigate customer product returns reason...</td>\n",
              "    </tr>\n",
              "    <tr>\n",
              "      <th>45816</th>\n",
              "      <td>RESPONSABILITIES</td>\n",
              "      <td>keep up to date with the companys and competit...</td>\n",
              "    </tr>\n",
              "    <tr>\n",
              "      <th>28935</th>\n",
              "      <td>RESPONSABILITIES</td>\n",
              "      <td>files include divorce injunctions ancillary re...</td>\n",
              "    </tr>\n",
              "    <tr>\n",
              "      <th>25064</th>\n",
              "      <td>RESPONSABILITIES</td>\n",
              "      <td>clients come both from the existing client ban...</td>\n",
              "    </tr>\n",
              "    <tr>\n",
              "      <th>14243</th>\n",
              "      <td>RESPONSABILITIES</td>\n",
              "      <td>position and drive sales portfolio to improve ...</td>\n",
              "    </tr>\n",
              "    <tr>\n",
              "      <th>46744</th>\n",
              "      <td>RESPONSABILITIES</td>\n",
              "      <td>the role is supporting pupils throughout the s...</td>\n",
              "    </tr>\n",
              "    <tr>\n",
              "      <th>41949</th>\n",
              "      <td>RESPONSABILITIES</td>\n",
              "      <td>achieving and doing</td>\n",
              "    </tr>\n",
              "    <tr>\n",
              "      <th>21084</th>\n",
              "      <td>RESPONSABILITIES</td>\n",
              "      <td>the position of business development manager w...</td>\n",
              "    </tr>\n",
              "  </tbody>\n",
              "</table>\n",
              "<p>151 rows × 2 columns</p>\n",
              "</div>"
            ],
            "text/plain": [
              "           target_label                                    job_description\n",
              "17875  RESPONSABILITIES  project is to provide a disaster recovery set ...\n",
              "41957  RESPONSABILITIES  guides and motivates others to provide excelle...\n",
              "17878  RESPONSABILITIES  develop business continuity plan disaster reco...\n",
              "8017   RESPONSABILITIES  the service delivery manager ensures that the ...\n",
              "45228  RESPONSABILITIES                                 structuring trusts\n",
              "19531  RESPONSABILITIES  you will join our clients quantitative researc...\n",
              "35506  RESPONSABILITIES                this role will involve cold calling\n",
              "45932  RESPONSABILITIES  provide a professional service to all accounts...\n",
              "42350  RESPONSABILITIES  whilst most designs will be focussed on emails...\n",
              "29036  RESPONSABILITIES  submission of overflight landing and diplomati...\n",
              "49757  RESPONSABILITIES  resource management balancing bau and project ...\n",
              "1002   RESPONSABILITIES  7 to be responsible for own personal developme...\n",
              "43922  RESPONSABILITIES  the role is to provide paralegal support to th...\n",
              "50040  RESPONSABILITIES  offer consultative approach to clients to ensu...\n",
              "10248  RESPONSABILITIES  this role is heavily focusing on retaining and...\n",
              "55647  RESPONSABILITIES  a once in a lifetime opportunity for you to re...\n",
              "15802  RESPONSABILITIES  meeting with potential customers to discuss th...\n",
              "51973  RESPONSABILITIES           number of parcels to different locations\n",
              "4605   RESPONSABILITIES  lead teams consisting of is and partner staff ...\n",
              "39085  RESPONSABILITIES  keep in close contact with customers shipping ...\n",
              "7866   RESPONSABILITIES  your role will be to contact local employers t...\n",
              "40606  RESPONSABILITIES  respond to billing questions from external fre...\n",
              "47529  RESPONSABILITIES  reduce eliminate reliance on out of date unsup...\n",
              "57966  RESPONSABILITIES  as the design engineer you will also construct...\n",
              "52778  RESPONSABILITIES  provides continuous support in helping the fir...\n",
              "13896  RESPONSABILITIES  project reporting to single aisle epm and wide...\n",
              "62534  RESPONSABILITIES  provides holiday sickness cover for warehouse ...\n",
              "2849   RESPONSABILITIES  looking after and completing paperwork accurately\n",
              "46138  RESPONSABILITIES                                           shipping\n",
              "1076   RESPONSABILITIES  this role will specialise in sales via the spe...\n",
              "...                 ...                                                ...\n",
              "9353   RESPONSABILITIES  the role of the secretary is a key to ensuring...\n",
              "13414  RESPONSABILITIES  to perform any other duties not defined in the...\n",
              "17012  RESPONSABILITIES  producing robust dealer visit reports and work...\n",
              "41952  RESPONSABILITIES                            delivery through people\n",
              "41952  RESPONSABILITIES                            delivery through people\n",
              "51374  RESPONSABILITIES  delta consultants applying the art of recruitm...\n",
              "54726  RESPONSABILITIES  to provide initial advice and guidance to pris...\n",
              "25941  RESPONSABILITIES  main duties and responsibilities are to be res...\n",
              "2335   RESPONSABILITIES  secure online profile where you can access tim...\n",
              "7363   RESPONSABILITIES  driving shuttle buses on half and 1 mile round...\n",
              "14382  RESPONSABILITIES                               run through to trial\n",
              "23019  RESPONSABILITIES  identification of new applications opportuniti...\n",
              "14152  RESPONSABILITIES       to add weight to their field sales engineers\n",
              "56757  RESPONSABILITIES  to monitor competitor titles for potential adv...\n",
              "1750   RESPONSABILITIES  the role itself requires regular direct client...\n",
              "45813  RESPONSABILITIES                         presenting to the customer\n",
              "6996   RESPONSABILITIES  the role will focus upon property exchanges la...\n",
              "21105  RESPONSABILITIES                   assemble furniture when required\n",
              "56116  RESPONSABILITIES             multi drop around the surrounding area\n",
              "7867   RESPONSABILITIES  the role also includes working with a caseload...\n",
              "60707  RESPONSABILITIES             maintains billing forecast spreadsheet\n",
              "937    RESPONSABILITIES  as a year 2 teacher you will help to develop t...\n",
              "23694  RESPONSABILITIES  to investigate customer product returns reason...\n",
              "45816  RESPONSABILITIES  keep up to date with the companys and competit...\n",
              "28935  RESPONSABILITIES  files include divorce injunctions ancillary re...\n",
              "25064  RESPONSABILITIES  clients come both from the existing client ban...\n",
              "14243  RESPONSABILITIES  position and drive sales portfolio to improve ...\n",
              "46744  RESPONSABILITIES  the role is supporting pupils throughout the s...\n",
              "41949  RESPONSABILITIES                                achieving and doing\n",
              "21084  RESPONSABILITIES  the position of business development manager w...\n",
              "\n",
              "[151 rows x 2 columns]"
            ]
          },
          "metadata": {
            "tags": []
          }
        },
        {
          "output_type": "stream",
          "text": [
            "\n",
            "'BENEFITS' predicted as 'OTHER' : 68 examples.\n"
          ],
          "name": "stdout"
        },
        {
          "output_type": "display_data",
          "data": {
            "text/html": [
              "<div>\n",
              "<style scoped>\n",
              "    .dataframe tbody tr th:only-of-type {\n",
              "        vertical-align: middle;\n",
              "    }\n",
              "\n",
              "    .dataframe tbody tr th {\n",
              "        vertical-align: top;\n",
              "    }\n",
              "\n",
              "    .dataframe thead th {\n",
              "        text-align: right;\n",
              "    }\n",
              "</style>\n",
              "<table border=\"1\" class=\"dataframe\">\n",
              "  <thead>\n",
              "    <tr style=\"text-align: right;\">\n",
              "      <th></th>\n",
              "      <th>target_label</th>\n",
              "      <th>job_description</th>\n",
              "    </tr>\n",
              "  </thead>\n",
              "  <tbody>\n",
              "    <tr>\n",
              "      <th>15947</th>\n",
              "      <td>BENEFITS</td>\n",
              "      <td>with modern facilities and excellent results t...</td>\n",
              "    </tr>\n",
              "    <tr>\n",
              "      <th>19266</th>\n",
              "      <td>BENEFITS</td>\n",
              "      <td>cpd will be provided by the school and local a...</td>\n",
              "    </tr>\n",
              "    <tr>\n",
              "      <th>25514</th>\n",
              "      <td>BENEFITS</td>\n",
              "      <td>stay in touch with us to hear more about our o...</td>\n",
              "    </tr>\n",
              "    <tr>\n",
              "      <th>1563</th>\n",
              "      <td>BENEFITS</td>\n",
              "      <td>an established training provider</td>\n",
              "    </tr>\n",
              "    <tr>\n",
              "      <th>3295</th>\n",
              "      <td>BENEFITS</td>\n",
              "      <td>salary will be â 30 â 35k basic with â 60 â 90...</td>\n",
              "    </tr>\n",
              "    <tr>\n",
              "      <th>36900</th>\n",
              "      <td>BENEFITS</td>\n",
              "      <td>a generous salary and benefits package is on o...</td>\n",
              "    </tr>\n",
              "    <tr>\n",
              "      <th>27714</th>\n",
              "      <td>BENEFITS</td>\n",
              "      <td>all breaks are paid</td>\n",
              "    </tr>\n",
              "    <tr>\n",
              "      <th>18279</th>\n",
              "      <td>BENEFITS</td>\n",
              "      <td>weekend premiums</td>\n",
              "    </tr>\n",
              "    <tr>\n",
              "      <th>16355</th>\n",
              "      <td>BENEFITS</td>\n",
              "      <td>ismm accredited sales and marketing training</td>\n",
              "    </tr>\n",
              "    <tr>\n",
              "      <th>16355</th>\n",
              "      <td>BENEFITS</td>\n",
              "      <td>ismm accredited sales and marketing training</td>\n",
              "    </tr>\n",
              "    <tr>\n",
              "      <th>34702</th>\n",
              "      <td>BENEFITS</td>\n",
              "      <td>overtime rate for all hour over 39 worked per ...</td>\n",
              "    </tr>\n",
              "    <tr>\n",
              "      <th>55171</th>\n",
              "      <td>BENEFITS</td>\n",
              "      <td>pension employee puts in 5 basic salary our cl...</td>\n",
              "    </tr>\n",
              "    <tr>\n",
              "      <th>16380</th>\n",
              "      <td>BENEFITS</td>\n",
              "      <td>remuneration would be 40k pa with a profit rel...</td>\n",
              "    </tr>\n",
              "    <tr>\n",
              "      <th>963</th>\n",
              "      <td>BENEFITS</td>\n",
              "      <td>recommend a friend you could be rewarded with 100</td>\n",
              "    </tr>\n",
              "    <tr>\n",
              "      <th>16355</th>\n",
              "      <td>BENEFITS</td>\n",
              "      <td>ismm accredited sales and marketing training</td>\n",
              "    </tr>\n",
              "    <tr>\n",
              "      <th>16355</th>\n",
              "      <td>BENEFITS</td>\n",
              "      <td>ismm accredited sales and marketing training</td>\n",
              "    </tr>\n",
              "    <tr>\n",
              "      <th>3063</th>\n",
              "      <td>BENEFITS</td>\n",
              "      <td>the firm prides itself on having a progressive...</td>\n",
              "    </tr>\n",
              "    <tr>\n",
              "      <th>56702</th>\n",
              "      <td>BENEFITS</td>\n",
              "      <td>promotes from within and offers the best train...</td>\n",
              "    </tr>\n",
              "    <tr>\n",
              "      <th>57487</th>\n",
              "      <td>BENEFITS</td>\n",
              "      <td>on call standby approx 1 in 6</td>\n",
              "    </tr>\n",
              "    <tr>\n",
              "      <th>38749</th>\n",
              "      <td>BENEFITS</td>\n",
              "      <td>salary negotiable doe benefits</td>\n",
              "    </tr>\n",
              "    <tr>\n",
              "      <th>47857</th>\n",
              "      <td>BENEFITS</td>\n",
              "      <td>great hourly rate</td>\n",
              "    </tr>\n",
              "    <tr>\n",
              "      <th>47857</th>\n",
              "      <td>BENEFITS</td>\n",
              "      <td>great hourly rate</td>\n",
              "    </tr>\n",
              "    <tr>\n",
              "      <th>50182</th>\n",
              "      <td>BENEFITS</td>\n",
              "      <td>on top of basic ote 32 5k</td>\n",
              "    </tr>\n",
              "    <tr>\n",
              "      <th>40338</th>\n",
              "      <td>BENEFITS</td>\n",
              "      <td>attractive salary</td>\n",
              "    </tr>\n",
              "    <tr>\n",
              "      <th>46643</th>\n",
              "      <td>BENEFITS</td>\n",
              "      <td>fantastic team environment</td>\n",
              "    </tr>\n",
              "    <tr>\n",
              "      <th>28846</th>\n",
              "      <td>BENEFITS</td>\n",
              "      <td>maintenance engineer leicester to c 31 700 inc...</td>\n",
              "    </tr>\n",
              "    <tr>\n",
              "      <th>13968</th>\n",
              "      <td>BENEFITS</td>\n",
              "      <td>24 hours 7 days a week personal support</td>\n",
              "    </tr>\n",
              "    <tr>\n",
              "      <th>55556</th>\n",
              "      <td>BENEFITS</td>\n",
              "      <td>7 days initial training in a 4 star london hotel</td>\n",
              "    </tr>\n",
              "    <tr>\n",
              "      <th>55556</th>\n",
              "      <td>BENEFITS</td>\n",
              "      <td>7 days initial training in a 4 star london hotel</td>\n",
              "    </tr>\n",
              "    <tr>\n",
              "      <th>22840</th>\n",
              "      <td>BENEFITS</td>\n",
              "      <td>an on site canteen</td>\n",
              "    </tr>\n",
              "    <tr>\n",
              "      <th>...</th>\n",
              "      <td>...</td>\n",
              "      <td>...</td>\n",
              "    </tr>\n",
              "    <tr>\n",
              "      <th>41005</th>\n",
              "      <td>BENEFITS</td>\n",
              "      <td>travel organisation</td>\n",
              "    </tr>\n",
              "    <tr>\n",
              "      <th>32058</th>\n",
              "      <td>BENEFITS</td>\n",
              "      <td>company vehicle</td>\n",
              "    </tr>\n",
              "    <tr>\n",
              "      <th>57653</th>\n",
              "      <td>BENEFITS</td>\n",
              "      <td>students enjoy a wide range of competitive spo...</td>\n",
              "    </tr>\n",
              "    <tr>\n",
              "      <th>56466</th>\n",
              "      <td>BENEFITS</td>\n",
              "      <td>blackberry pearl company laptop</td>\n",
              "    </tr>\n",
              "    <tr>\n",
              "      <th>39981</th>\n",
              "      <td>BENEFITS</td>\n",
              "      <td>fun and entertainment tea time tuesdays ice co...</td>\n",
              "    </tr>\n",
              "    <tr>\n",
              "      <th>17397</th>\n",
              "      <td>BENEFITS</td>\n",
              "      <td>public sector working environments</td>\n",
              "    </tr>\n",
              "    <tr>\n",
              "      <th>28641</th>\n",
              "      <td>BENEFITS</td>\n",
              "      <td>hot food in canteen</td>\n",
              "    </tr>\n",
              "    <tr>\n",
              "      <th>14699</th>\n",
              "      <td>BENEFITS</td>\n",
              "      <td>we offer up to 500 referral reward so if you k...</td>\n",
              "    </tr>\n",
              "    <tr>\n",
              "      <th>2313</th>\n",
              "      <td>BENEFITS</td>\n",
              "      <td>just 10 000 could secure you an exclusive terr...</td>\n",
              "    </tr>\n",
              "    <tr>\n",
              "      <th>47724</th>\n",
              "      <td>BENEFITS</td>\n",
              "      <td>100 guenuine uk registered company no experien...</td>\n",
              "    </tr>\n",
              "    <tr>\n",
              "      <th>31172</th>\n",
              "      <td>BENEFITS</td>\n",
              "      <td>great career prospects and a fantastic team to...</td>\n",
              "    </tr>\n",
              "    <tr>\n",
              "      <th>39511</th>\n",
              "      <td>BENEFITS</td>\n",
              "      <td>a competitive basic</td>\n",
              "    </tr>\n",
              "    <tr>\n",
              "      <th>19141</th>\n",
              "      <td>BENEFITS</td>\n",
              "      <td>company specific perks and benefits</td>\n",
              "    </tr>\n",
              "    <tr>\n",
              "      <th>11706</th>\n",
              "      <td>BENEFITS</td>\n",
              "      <td>you will be given a company vehicle and have t...</td>\n",
              "    </tr>\n",
              "    <tr>\n",
              "      <th>61746</th>\n",
              "      <td>BENEFITS</td>\n",
              "      <td>upto â 30k plus good benefits</td>\n",
              "    </tr>\n",
              "    <tr>\n",
              "      <th>39513</th>\n",
              "      <td>BENEFITS</td>\n",
              "      <td>great stability and support</td>\n",
              "    </tr>\n",
              "    <tr>\n",
              "      <th>55556</th>\n",
              "      <td>BENEFITS</td>\n",
              "      <td>7 days initial training in a 4 star london hotel</td>\n",
              "    </tr>\n",
              "    <tr>\n",
              "      <th>55556</th>\n",
              "      <td>BENEFITS</td>\n",
              "      <td>7 days initial training in a 4 star london hotel</td>\n",
              "    </tr>\n",
              "    <tr>\n",
              "      <th>38394</th>\n",
              "      <td>BENEFITS</td>\n",
              "      <td>better pay rates than most other agencies</td>\n",
              "    </tr>\n",
              "    <tr>\n",
              "      <th>15202</th>\n",
              "      <td>BENEFITS</td>\n",
              "      <td>great transport links</td>\n",
              "    </tr>\n",
              "    <tr>\n",
              "      <th>41035</th>\n",
              "      <td>BENEFITS</td>\n",
              "      <td>ofree parking</td>\n",
              "    </tr>\n",
              "    <tr>\n",
              "      <th>38233</th>\n",
              "      <td>BENEFITS</td>\n",
              "      <td>as well as earning industry leading rates teac...</td>\n",
              "    </tr>\n",
              "    <tr>\n",
              "      <th>35451</th>\n",
              "      <td>BENEFITS</td>\n",
              "      <td>a permanent opportunity with the full suite of...</td>\n",
              "    </tr>\n",
              "    <tr>\n",
              "      <th>52000</th>\n",
              "      <td>BENEFITS</td>\n",
              "      <td>14 500 basic plus 6k commission plan</td>\n",
              "    </tr>\n",
              "    <tr>\n",
              "      <th>52000</th>\n",
              "      <td>BENEFITS</td>\n",
              "      <td>14 500 basic plus 6k commission plan</td>\n",
              "    </tr>\n",
              "    <tr>\n",
              "      <th>12916</th>\n",
              "      <td>BENEFITS</td>\n",
              "      <td>we offer many benefits including excellent rat...</td>\n",
              "    </tr>\n",
              "    <tr>\n",
              "      <th>51787</th>\n",
              "      <td>BENEFITS</td>\n",
              "      <td>18k basic 35k ote car</td>\n",
              "    </tr>\n",
              "    <tr>\n",
              "      <th>55468</th>\n",
              "      <td>BENEFITS</td>\n",
              "      <td>fantastic opportunity to join an award winning...</td>\n",
              "    </tr>\n",
              "    <tr>\n",
              "      <th>4334</th>\n",
              "      <td>BENEFITS</td>\n",
              "      <td>annual cost of living award subject to afforda...</td>\n",
              "    </tr>\n",
              "    <tr>\n",
              "      <th>55363</th>\n",
              "      <td>BENEFITS</td>\n",
              "      <td>salary 18 26k benefits</td>\n",
              "    </tr>\n",
              "  </tbody>\n",
              "</table>\n",
              "<p>76 rows × 2 columns</p>\n",
              "</div>"
            ],
            "text/plain": [
              "      target_label                                    job_description\n",
              "15947     BENEFITS  with modern facilities and excellent results t...\n",
              "19266     BENEFITS  cpd will be provided by the school and local a...\n",
              "25514     BENEFITS  stay in touch with us to hear more about our o...\n",
              "1563      BENEFITS                   an established training provider\n",
              "3295      BENEFITS  salary will be â 30 â 35k basic with â 60 â 90...\n",
              "36900     BENEFITS  a generous salary and benefits package is on o...\n",
              "27714     BENEFITS                                all breaks are paid\n",
              "18279     BENEFITS                                   weekend premiums\n",
              "16355     BENEFITS       ismm accredited sales and marketing training\n",
              "16355     BENEFITS       ismm accredited sales and marketing training\n",
              "34702     BENEFITS  overtime rate for all hour over 39 worked per ...\n",
              "55171     BENEFITS  pension employee puts in 5 basic salary our cl...\n",
              "16380     BENEFITS  remuneration would be 40k pa with a profit rel...\n",
              "963       BENEFITS  recommend a friend you could be rewarded with 100\n",
              "16355     BENEFITS       ismm accredited sales and marketing training\n",
              "16355     BENEFITS       ismm accredited sales and marketing training\n",
              "3063      BENEFITS  the firm prides itself on having a progressive...\n",
              "56702     BENEFITS  promotes from within and offers the best train...\n",
              "57487     BENEFITS                      on call standby approx 1 in 6\n",
              "38749     BENEFITS                     salary negotiable doe benefits\n",
              "47857     BENEFITS                                  great hourly rate\n",
              "47857     BENEFITS                                  great hourly rate\n",
              "50182     BENEFITS                          on top of basic ote 32 5k\n",
              "40338     BENEFITS                                  attractive salary\n",
              "46643     BENEFITS                         fantastic team environment\n",
              "28846     BENEFITS  maintenance engineer leicester to c 31 700 inc...\n",
              "13968     BENEFITS            24 hours 7 days a week personal support\n",
              "55556     BENEFITS   7 days initial training in a 4 star london hotel\n",
              "55556     BENEFITS   7 days initial training in a 4 star london hotel\n",
              "22840     BENEFITS                                 an on site canteen\n",
              "...            ...                                                ...\n",
              "41005     BENEFITS                                travel organisation\n",
              "32058     BENEFITS                                    company vehicle\n",
              "57653     BENEFITS  students enjoy a wide range of competitive spo...\n",
              "56466     BENEFITS                    blackberry pearl company laptop\n",
              "39981     BENEFITS  fun and entertainment tea time tuesdays ice co...\n",
              "17397     BENEFITS                 public sector working environments\n",
              "28641     BENEFITS                                hot food in canteen\n",
              "14699     BENEFITS  we offer up to 500 referral reward so if you k...\n",
              "2313      BENEFITS  just 10 000 could secure you an exclusive terr...\n",
              "47724     BENEFITS  100 guenuine uk registered company no experien...\n",
              "31172     BENEFITS  great career prospects and a fantastic team to...\n",
              "39511     BENEFITS                                a competitive basic\n",
              "19141     BENEFITS                company specific perks and benefits\n",
              "11706     BENEFITS  you will be given a company vehicle and have t...\n",
              "61746     BENEFITS                      upto â 30k plus good benefits\n",
              "39513     BENEFITS                        great stability and support\n",
              "55556     BENEFITS   7 days initial training in a 4 star london hotel\n",
              "55556     BENEFITS   7 days initial training in a 4 star london hotel\n",
              "38394     BENEFITS          better pay rates than most other agencies\n",
              "15202     BENEFITS                              great transport links\n",
              "41035     BENEFITS                                      ofree parking\n",
              "38233     BENEFITS  as well as earning industry leading rates teac...\n",
              "35451     BENEFITS  a permanent opportunity with the full suite of...\n",
              "52000     BENEFITS               14 500 basic plus 6k commission plan\n",
              "52000     BENEFITS               14 500 basic plus 6k commission plan\n",
              "12916     BENEFITS  we offer many benefits including excellent rat...\n",
              "51787     BENEFITS                              18k basic 35k ote car\n",
              "55468     BENEFITS  fantastic opportunity to join an award winning...\n",
              "4334      BENEFITS  annual cost of living award subject to afforda...\n",
              "55363     BENEFITS                             salary 18 26k benefits\n",
              "\n",
              "[76 rows x 2 columns]"
            ]
          },
          "metadata": {
            "tags": []
          }
        },
        {
          "output_type": "stream",
          "text": [
            "\n",
            "'OTHER' predicted as 'REQUIREMENTS' : 111 examples.\n"
          ],
          "name": "stdout"
        },
        {
          "output_type": "display_data",
          "data": {
            "text/html": [
              "<div>\n",
              "<style scoped>\n",
              "    .dataframe tbody tr th:only-of-type {\n",
              "        vertical-align: middle;\n",
              "    }\n",
              "\n",
              "    .dataframe tbody tr th {\n",
              "        vertical-align: top;\n",
              "    }\n",
              "\n",
              "    .dataframe thead th {\n",
              "        text-align: right;\n",
              "    }\n",
              "</style>\n",
              "<table border=\"1\" class=\"dataframe\">\n",
              "  <thead>\n",
              "    <tr style=\"text-align: right;\">\n",
              "      <th></th>\n",
              "      <th>target_label</th>\n",
              "      <th>job_description</th>\n",
              "    </tr>\n",
              "  </thead>\n",
              "  <tbody>\n",
              "    <tr>\n",
              "      <th>2424</th>\n",
              "      <td>OTHER</td>\n",
              "      <td>you will be working out of the distribution ce...</td>\n",
              "    </tr>\n",
              "    <tr>\n",
              "      <th>47940</th>\n",
              "      <td>OTHER</td>\n",
              "      <td>you will be expected to pass our clients asses...</td>\n",
              "    </tr>\n",
              "    <tr>\n",
              "      <th>43269</th>\n",
              "      <td>OTHER</td>\n",
              "      <td>qualifications knowledge and experience</td>\n",
              "    </tr>\n",
              "    <tr>\n",
              "      <th>49168</th>\n",
              "      <td>OTHER</td>\n",
              "      <td>will be contracted to work 8 hours but should ...</td>\n",
              "    </tr>\n",
              "    <tr>\n",
              "      <th>27614</th>\n",
              "      <td>OTHER</td>\n",
              "      <td>i am regularly requested back into schools and...</td>\n",
              "    </tr>\n",
              "    <tr>\n",
              "      <th>42759</th>\n",
              "      <td>OTHER</td>\n",
              "      <td>a fit able to lift 20kls boxes person is neede...</td>\n",
              "    </tr>\n",
              "    <tr>\n",
              "      <th>13237</th>\n",
              "      <td>OTHER</td>\n",
              "      <td>recruitment is a highly targeted sales environ...</td>\n",
              "    </tr>\n",
              "    <tr>\n",
              "      <th>13237</th>\n",
              "      <td>OTHER</td>\n",
              "      <td>recruitment is a highly targeted sales environ...</td>\n",
              "    </tr>\n",
              "    <tr>\n",
              "      <th>1979</th>\n",
              "      <td>OTHER</td>\n",
              "      <td>the company prides itself on its authoritative...</td>\n",
              "    </tr>\n",
              "    <tr>\n",
              "      <th>10151</th>\n",
              "      <td>OTHER</td>\n",
              "      <td>your current availability and notice period if...</td>\n",
              "    </tr>\n",
              "    <tr>\n",
              "      <th>48798</th>\n",
              "      <td>OTHER</td>\n",
              "      <td>experience and knowledge</td>\n",
              "    </tr>\n",
              "    <tr>\n",
              "      <th>10648</th>\n",
              "      <td>OTHER</td>\n",
              "      <td>they maintain improve and upgrade every aspect...</td>\n",
              "    </tr>\n",
              "    <tr>\n",
              "      <th>226</th>\n",
              "      <td>OTHER</td>\n",
              "      <td>our client is looking for a build and configur...</td>\n",
              "    </tr>\n",
              "    <tr>\n",
              "      <th>40922</th>\n",
              "      <td>OTHER</td>\n",
              "      <td>have you worked with library management system...</td>\n",
              "    </tr>\n",
              "    <tr>\n",
              "      <th>40922</th>\n",
              "      <td>OTHER</td>\n",
              "      <td>have you worked with library management system...</td>\n",
              "    </tr>\n",
              "    <tr>\n",
              "      <th>8813</th>\n",
              "      <td>OTHER</td>\n",
              "      <td>the company work solely with sap business one ...</td>\n",
              "    </tr>\n",
              "    <tr>\n",
              "      <th>47043</th>\n",
              "      <td>OTHER</td>\n",
              "      <td>reliable</td>\n",
              "    </tr>\n",
              "    <tr>\n",
              "      <th>40332</th>\n",
              "      <td>OTHER</td>\n",
              "      <td>hungry</td>\n",
              "    </tr>\n",
              "    <tr>\n",
              "      <th>55252</th>\n",
              "      <td>OTHER</td>\n",
              "      <td>senior structural engineer tidal power structu...</td>\n",
              "    </tr>\n",
              "    <tr>\n",
              "      <th>56281</th>\n",
              "      <td>OTHER</td>\n",
              "      <td>do you have a qualification such as a pgce b e...</td>\n",
              "    </tr>\n",
              "    <tr>\n",
              "      <th>43946</th>\n",
              "      <td>OTHER</td>\n",
              "      <td>we have a highly regarded accredited training ...</td>\n",
              "    </tr>\n",
              "    <tr>\n",
              "      <th>30123</th>\n",
              "      <td>OTHER</td>\n",
              "      <td>we are looking for pro active and results orie...</td>\n",
              "    </tr>\n",
              "    <tr>\n",
              "      <th>50149</th>\n",
              "      <td>OTHER</td>\n",
              "      <td>digital card holder</td>\n",
              "    </tr>\n",
              "    <tr>\n",
              "      <th>62146</th>\n",
              "      <td>OTHER</td>\n",
              "      <td>matrimonial solicitor 7yrs pqe matrimonial 7 y...</td>\n",
              "    </tr>\n",
              "    <tr>\n",
              "      <th>62146</th>\n",
              "      <td>OTHER</td>\n",
              "      <td>matrimonial solicitor 7yrs pqe matrimonial 7 y...</td>\n",
              "    </tr>\n",
              "    <tr>\n",
              "      <th>10909</th>\n",
              "      <td>OTHER</td>\n",
              "      <td>the content management system that is being cr...</td>\n",
              "    </tr>\n",
              "    <tr>\n",
              "      <th>1400</th>\n",
              "      <td>OTHER</td>\n",
              "      <td>work around the uk</td>\n",
              "    </tr>\n",
              "    <tr>\n",
              "      <th>12178</th>\n",
              "      <td>OTHER</td>\n",
              "      <td>do you have excellent classroom management sub...</td>\n",
              "    </tr>\n",
              "    <tr>\n",
              "      <th>54311</th>\n",
              "      <td>OTHER</td>\n",
              "      <td>java sql oracle xml developers needed</td>\n",
              "    </tr>\n",
              "    <tr>\n",
              "      <th>47019</th>\n",
              "      <td>OTHER</td>\n",
              "      <td>their vision is to enrich life through communi...</td>\n",
              "    </tr>\n",
              "    <tr>\n",
              "      <th>...</th>\n",
              "      <td>...</td>\n",
              "      <td>...</td>\n",
              "    </tr>\n",
              "    <tr>\n",
              "      <th>34825</th>\n",
              "      <td>OTHER</td>\n",
              "      <td>the company is well known for its strong compl...</td>\n",
              "    </tr>\n",
              "    <tr>\n",
              "      <th>39617</th>\n",
              "      <td>OTHER</td>\n",
              "      <td>advantageous</td>\n",
              "    </tr>\n",
              "    <tr>\n",
              "      <th>32352</th>\n",
              "      <td>OTHER</td>\n",
              "      <td>experience</td>\n",
              "    </tr>\n",
              "    <tr>\n",
              "      <th>49480</th>\n",
              "      <td>OTHER</td>\n",
              "      <td>our client is a rapidly expanding retailer who...</td>\n",
              "    </tr>\n",
              "    <tr>\n",
              "      <th>13278</th>\n",
              "      <td>OTHER</td>\n",
              "      <td>a great environment with intelligent driven an...</td>\n",
              "    </tr>\n",
              "    <tr>\n",
              "      <th>25060</th>\n",
              "      <td>OTHER</td>\n",
              "      <td>the regional manager is prepared to consider s...</td>\n",
              "    </tr>\n",
              "    <tr>\n",
              "      <th>26314</th>\n",
              "      <td>OTHER</td>\n",
              "      <td>teaching is improving quickly due to the stron...</td>\n",
              "    </tr>\n",
              "    <tr>\n",
              "      <th>20339</th>\n",
              "      <td>OTHER</td>\n",
              "      <td>experience</td>\n",
              "    </tr>\n",
              "    <tr>\n",
              "      <th>24156</th>\n",
              "      <td>OTHER</td>\n",
              "      <td>a crb check will be required</td>\n",
              "    </tr>\n",
              "    <tr>\n",
              "      <th>51607</th>\n",
              "      <td>OTHER</td>\n",
              "      <td>they have strong and ambitious forecasts for 2...</td>\n",
              "    </tr>\n",
              "    <tr>\n",
              "      <th>46590</th>\n",
              "      <td>OTHER</td>\n",
              "      <td>can you confidently use a crm or erp system</td>\n",
              "    </tr>\n",
              "    <tr>\n",
              "      <th>17234</th>\n",
              "      <td>OTHER</td>\n",
              "      <td>knowledge experience</td>\n",
              "    </tr>\n",
              "    <tr>\n",
              "      <th>45302</th>\n",
              "      <td>OTHER</td>\n",
              "      <td>no experience necessary</td>\n",
              "    </tr>\n",
              "    <tr>\n",
              "      <th>45302</th>\n",
              "      <td>OTHER</td>\n",
              "      <td>no experience necessary</td>\n",
              "    </tr>\n",
              "    <tr>\n",
              "      <th>59845</th>\n",
              "      <td>OTHER</td>\n",
              "      <td>applications are welcomed from all suitably qu...</td>\n",
              "    </tr>\n",
              "    <tr>\n",
              "      <th>58512</th>\n",
              "      <td>OTHER</td>\n",
              "      <td>this card is fastest growing card product in t...</td>\n",
              "    </tr>\n",
              "    <tr>\n",
              "      <th>49993</th>\n",
              "      <td>OTHER</td>\n",
              "      <td>they have expanded rapidly over the last 2 yea...</td>\n",
              "    </tr>\n",
              "    <tr>\n",
              "      <th>13237</th>\n",
              "      <td>OTHER</td>\n",
              "      <td>recruitment is a highly targeted sales environ...</td>\n",
              "    </tr>\n",
              "    <tr>\n",
              "      <th>13237</th>\n",
              "      <td>OTHER</td>\n",
              "      <td>recruitment is a highly targeted sales environ...</td>\n",
              "    </tr>\n",
              "    <tr>\n",
              "      <th>48893</th>\n",
              "      <td>OTHER</td>\n",
              "      <td>health safety awareness</td>\n",
              "    </tr>\n",
              "    <tr>\n",
              "      <th>56726</th>\n",
              "      <td>OTHER</td>\n",
              "      <td>with clear expansion plans and an already stro...</td>\n",
              "    </tr>\n",
              "    <tr>\n",
              "      <th>20924</th>\n",
              "      <td>OTHER</td>\n",
              "      <td>they re leaders in design manufacture installa...</td>\n",
              "    </tr>\n",
              "    <tr>\n",
              "      <th>53459</th>\n",
              "      <td>OTHER</td>\n",
              "      <td>100 of the maths gcse students picked up at le...</td>\n",
              "    </tr>\n",
              "    <tr>\n",
              "      <th>30192</th>\n",
              "      <td>OTHER</td>\n",
              "      <td>we help people everyday with or without sales ...</td>\n",
              "    </tr>\n",
              "    <tr>\n",
              "      <th>13691</th>\n",
              "      <td>OTHER</td>\n",
              "      <td>ideally you will have</td>\n",
              "    </tr>\n",
              "    <tr>\n",
              "      <th>27964</th>\n",
              "      <td>OTHER</td>\n",
              "      <td>training advisor nvq assessor</td>\n",
              "    </tr>\n",
              "    <tr>\n",
              "      <th>2828</th>\n",
              "      <td>OTHER</td>\n",
              "      <td>senior technical engineer experience in electr...</td>\n",
              "    </tr>\n",
              "    <tr>\n",
              "      <th>58771</th>\n",
              "      <td>OTHER</td>\n",
              "      <td>look and act professionally in terms of appear...</td>\n",
              "    </tr>\n",
              "    <tr>\n",
              "      <th>38599</th>\n",
              "      <td>OTHER</td>\n",
              "      <td>15 3founded in 1994 our client is a leading pa...</td>\n",
              "    </tr>\n",
              "    <tr>\n",
              "      <th>9888</th>\n",
              "      <td>OTHER</td>\n",
              "      <td>and are you a strong communicator with the abi...</td>\n",
              "    </tr>\n",
              "  </tbody>\n",
              "</table>\n",
              "<p>117 rows × 2 columns</p>\n",
              "</div>"
            ],
            "text/plain": [
              "      target_label                                    job_description\n",
              "2424         OTHER  you will be working out of the distribution ce...\n",
              "47940        OTHER  you will be expected to pass our clients asses...\n",
              "43269        OTHER            qualifications knowledge and experience\n",
              "49168        OTHER  will be contracted to work 8 hours but should ...\n",
              "27614        OTHER  i am regularly requested back into schools and...\n",
              "42759        OTHER  a fit able to lift 20kls boxes person is neede...\n",
              "13237        OTHER  recruitment is a highly targeted sales environ...\n",
              "13237        OTHER  recruitment is a highly targeted sales environ...\n",
              "1979         OTHER  the company prides itself on its authoritative...\n",
              "10151        OTHER  your current availability and notice period if...\n",
              "48798        OTHER                           experience and knowledge\n",
              "10648        OTHER  they maintain improve and upgrade every aspect...\n",
              "226          OTHER  our client is looking for a build and configur...\n",
              "40922        OTHER  have you worked with library management system...\n",
              "40922        OTHER  have you worked with library management system...\n",
              "8813         OTHER  the company work solely with sap business one ...\n",
              "47043        OTHER                                           reliable\n",
              "40332        OTHER                                             hungry\n",
              "55252        OTHER  senior structural engineer tidal power structu...\n",
              "56281        OTHER  do you have a qualification such as a pgce b e...\n",
              "43946        OTHER  we have a highly regarded accredited training ...\n",
              "30123        OTHER  we are looking for pro active and results orie...\n",
              "50149        OTHER                                digital card holder\n",
              "62146        OTHER  matrimonial solicitor 7yrs pqe matrimonial 7 y...\n",
              "62146        OTHER  matrimonial solicitor 7yrs pqe matrimonial 7 y...\n",
              "10909        OTHER  the content management system that is being cr...\n",
              "1400         OTHER                                 work around the uk\n",
              "12178        OTHER  do you have excellent classroom management sub...\n",
              "54311        OTHER              java sql oracle xml developers needed\n",
              "47019        OTHER  their vision is to enrich life through communi...\n",
              "...            ...                                                ...\n",
              "34825        OTHER  the company is well known for its strong compl...\n",
              "39617        OTHER                                       advantageous\n",
              "32352        OTHER                                         experience\n",
              "49480        OTHER  our client is a rapidly expanding retailer who...\n",
              "13278        OTHER  a great environment with intelligent driven an...\n",
              "25060        OTHER  the regional manager is prepared to consider s...\n",
              "26314        OTHER  teaching is improving quickly due to the stron...\n",
              "20339        OTHER                                         experience\n",
              "24156        OTHER                       a crb check will be required\n",
              "51607        OTHER  they have strong and ambitious forecasts for 2...\n",
              "46590        OTHER        can you confidently use a crm or erp system\n",
              "17234        OTHER                               knowledge experience\n",
              "45302        OTHER                            no experience necessary\n",
              "45302        OTHER                            no experience necessary\n",
              "59845        OTHER  applications are welcomed from all suitably qu...\n",
              "58512        OTHER  this card is fastest growing card product in t...\n",
              "49993        OTHER  they have expanded rapidly over the last 2 yea...\n",
              "13237        OTHER  recruitment is a highly targeted sales environ...\n",
              "13237        OTHER  recruitment is a highly targeted sales environ...\n",
              "48893        OTHER                            health safety awareness\n",
              "56726        OTHER  with clear expansion plans and an already stro...\n",
              "20924        OTHER  they re leaders in design manufacture installa...\n",
              "53459        OTHER  100 of the maths gcse students picked up at le...\n",
              "30192        OTHER  we help people everyday with or without sales ...\n",
              "13691        OTHER                              ideally you will have\n",
              "27964        OTHER                      training advisor nvq assessor\n",
              "2828         OTHER  senior technical engineer experience in electr...\n",
              "58771        OTHER  look and act professionally in terms of appear...\n",
              "38599        OTHER  15 3founded in 1994 our client is a leading pa...\n",
              "9888         OTHER  and are you a strong communicator with the abi...\n",
              "\n",
              "[117 rows x 2 columns]"
            ]
          },
          "metadata": {
            "tags": []
          }
        },
        {
          "output_type": "stream",
          "text": [
            "\n",
            "'RESPONSABILITIES' predicted as 'REQUIREMENTS' : 44 examples.\n"
          ],
          "name": "stdout"
        },
        {
          "output_type": "display_data",
          "data": {
            "text/html": [
              "<div>\n",
              "<style scoped>\n",
              "    .dataframe tbody tr th:only-of-type {\n",
              "        vertical-align: middle;\n",
              "    }\n",
              "\n",
              "    .dataframe tbody tr th {\n",
              "        vertical-align: top;\n",
              "    }\n",
              "\n",
              "    .dataframe thead th {\n",
              "        text-align: right;\n",
              "    }\n",
              "</style>\n",
              "<table border=\"1\" class=\"dataframe\">\n",
              "  <thead>\n",
              "    <tr style=\"text-align: right;\">\n",
              "      <th></th>\n",
              "      <th>target_label</th>\n",
              "      <th>job_description</th>\n",
              "    </tr>\n",
              "  </thead>\n",
              "  <tbody>\n",
              "    <tr>\n",
              "      <th>30252</th>\n",
              "      <td>RESPONSABILITIES</td>\n",
              "      <td>management of cloud and traditional infrastruc...</td>\n",
              "    </tr>\n",
              "    <tr>\n",
              "      <th>34772</th>\n",
              "      <td>RESPONSABILITIES</td>\n",
              "      <td>the role will be focused around the provision ...</td>\n",
              "    </tr>\n",
              "    <tr>\n",
              "      <th>25031</th>\n",
              "      <td>RESPONSABILITIES</td>\n",
              "      <td>work as part of a team within a fast paced dyn...</td>\n",
              "    </tr>\n",
              "    <tr>\n",
              "      <th>19370</th>\n",
              "      <td>RESPONSABILITIES</td>\n",
              "      <td>applying a practical and commercially effectiv...</td>\n",
              "    </tr>\n",
              "    <tr>\n",
              "      <th>20585</th>\n",
              "      <td>RESPONSABILITIES</td>\n",
              "      <td>understanding the cost impact of engineering c...</td>\n",
              "    </tr>\n",
              "    <tr>\n",
              "      <th>16737</th>\n",
              "      <td>RESPONSABILITIES</td>\n",
              "      <td>investigation of ports of call</td>\n",
              "    </tr>\n",
              "    <tr>\n",
              "      <th>42681</th>\n",
              "      <td>RESPONSABILITIES</td>\n",
              "      <td>using your skills to maximise the sales opport...</td>\n",
              "    </tr>\n",
              "    <tr>\n",
              "      <th>45438</th>\n",
              "      <td>RESPONSABILITIES</td>\n",
              "      <td>operating and cleaning high powered pumps and ...</td>\n",
              "    </tr>\n",
              "    <tr>\n",
              "      <th>45438</th>\n",
              "      <td>RESPONSABILITIES</td>\n",
              "      <td>operating and cleaning high powered pumps and ...</td>\n",
              "    </tr>\n",
              "    <tr>\n",
              "      <th>6657</th>\n",
              "      <td>RESPONSABILITIES</td>\n",
              "      <td>share newly developed techniques document temp...</td>\n",
              "    </tr>\n",
              "    <tr>\n",
              "      <th>9456</th>\n",
              "      <td>RESPONSABILITIES</td>\n",
              "      <td>mod aircraft engineering procedures</td>\n",
              "    </tr>\n",
              "    <tr>\n",
              "      <th>48149</th>\n",
              "      <td>RESPONSABILITIES</td>\n",
              "      <td>work with automation tools sql python and bash...</td>\n",
              "    </tr>\n",
              "    <tr>\n",
              "      <th>19736</th>\n",
              "      <td>RESPONSABILITIES</td>\n",
              "      <td>measure and evaluate features and system metri...</td>\n",
              "    </tr>\n",
              "    <tr>\n",
              "      <th>41828</th>\n",
              "      <td>RESPONSABILITIES</td>\n",
              "      <td>email routing spam archiving</td>\n",
              "    </tr>\n",
              "    <tr>\n",
              "      <th>45438</th>\n",
              "      <td>RESPONSABILITIES</td>\n",
              "      <td>operating and cleaning high powered pumps and ...</td>\n",
              "    </tr>\n",
              "    <tr>\n",
              "      <th>45438</th>\n",
              "      <td>RESPONSABILITIES</td>\n",
              "      <td>operating and cleaning high powered pumps and ...</td>\n",
              "    </tr>\n",
              "    <tr>\n",
              "      <th>15916</th>\n",
              "      <td>RESPONSABILITIES</td>\n",
              "      <td>o all draughting work will be done in autodesk...</td>\n",
              "    </tr>\n",
              "    <tr>\n",
              "      <th>29942</th>\n",
              "      <td>RESPONSABILITIES</td>\n",
              "      <td>mastery of development test environments simul...</td>\n",
              "    </tr>\n",
              "    <tr>\n",
              "      <th>23111</th>\n",
              "      <td>RESPONSABILITIES</td>\n",
              "      <td>the upgrade and modification of production hig...</td>\n",
              "    </tr>\n",
              "    <tr>\n",
              "      <th>29042</th>\n",
              "      <td>RESPONSABILITIES</td>\n",
              "      <td>use of cfmu aftn arinc internet and outlook sy...</td>\n",
              "    </tr>\n",
              "    <tr>\n",
              "      <th>947</th>\n",
              "      <td>RESPONSABILITIES</td>\n",
              "      <td>assisting with the development of children s p...</td>\n",
              "    </tr>\n",
              "    <tr>\n",
              "      <th>15025</th>\n",
              "      <td>RESPONSABILITIES</td>\n",
              "      <td>close the sale using proven closing techniques</td>\n",
              "    </tr>\n",
              "    <tr>\n",
              "      <th>15146</th>\n",
              "      <td>RESPONSABILITIES</td>\n",
              "      <td>carry out driving licence adr certificate cpc ...</td>\n",
              "    </tr>\n",
              "    <tr>\n",
              "      <th>25556</th>\n",
              "      <td>RESPONSABILITIES</td>\n",
              "      <td>dealing wherever appropriate professionally an...</td>\n",
              "    </tr>\n",
              "    <tr>\n",
              "      <th>31986</th>\n",
              "      <td>RESPONSABILITIES</td>\n",
              "      <td>implementation of best practice warehousing te...</td>\n",
              "    </tr>\n",
              "    <tr>\n",
              "      <th>14508</th>\n",
              "      <td>RESPONSABILITIES</td>\n",
              "      <td>sharing knowledge best practice and innovation...</td>\n",
              "    </tr>\n",
              "    <tr>\n",
              "      <th>49729</th>\n",
              "      <td>RESPONSABILITIES</td>\n",
              "      <td>assess all units of the retail qualification</td>\n",
              "    </tr>\n",
              "    <tr>\n",
              "      <th>54330</th>\n",
              "      <td>RESPONSABILITIES</td>\n",
              "      <td>taking part in collaborative research projects...</td>\n",
              "    </tr>\n",
              "    <tr>\n",
              "      <th>49273</th>\n",
              "      <td>RESPONSABILITIES</td>\n",
              "      <td>you will be able to keep in constant contact w...</td>\n",
              "    </tr>\n",
              "    <tr>\n",
              "      <th>25098</th>\n",
              "      <td>RESPONSABILITIES</td>\n",
              "      <td>employees will receive constant personal devel...</td>\n",
              "    </tr>\n",
              "    <tr>\n",
              "      <th>28434</th>\n",
              "      <td>RESPONSABILITIES</td>\n",
              "      <td>working within a friendly team orientated envi...</td>\n",
              "    </tr>\n",
              "    <tr>\n",
              "      <th>17319</th>\n",
              "      <td>RESPONSABILITIES</td>\n",
              "      <td>driving single decker buses</td>\n",
              "    </tr>\n",
              "    <tr>\n",
              "      <th>13532</th>\n",
              "      <td>RESPONSABILITIES</td>\n",
              "      <td>customer orientated proactive and with excelle...</td>\n",
              "    </tr>\n",
              "    <tr>\n",
              "      <th>5575</th>\n",
              "      <td>RESPONSABILITIES</td>\n",
              "      <td>collaborate with the group r d team and effect...</td>\n",
              "    </tr>\n",
              "    <tr>\n",
              "      <th>17428</th>\n",
              "      <td>RESPONSABILITIES</td>\n",
              "      <td>prepares bills including bill narratives with ...</td>\n",
              "    </tr>\n",
              "    <tr>\n",
              "      <th>32617</th>\n",
              "      <td>RESPONSABILITIES</td>\n",
              "      <td>the transport planner is required to react qui...</td>\n",
              "    </tr>\n",
              "    <tr>\n",
              "      <th>6239</th>\n",
              "      <td>RESPONSABILITIES</td>\n",
              "      <td>to work in partnership with the parents and pr...</td>\n",
              "    </tr>\n",
              "    <tr>\n",
              "      <th>55487</th>\n",
              "      <td>RESPONSABILITIES</td>\n",
              "      <td>analysis</td>\n",
              "    </tr>\n",
              "    <tr>\n",
              "      <th>18541</th>\n",
              "      <td>RESPONSABILITIES</td>\n",
              "      <td>estimate prices of new equipment in a solid an...</td>\n",
              "    </tr>\n",
              "    <tr>\n",
              "      <th>40687</th>\n",
              "      <td>RESPONSABILITIES</td>\n",
              "      <td>you will also create sql relational databases ...</td>\n",
              "    </tr>\n",
              "    <tr>\n",
              "      <th>11692</th>\n",
              "      <td>RESPONSABILITIES</td>\n",
              "      <td>accurate reporting of defects orally and written</td>\n",
              "    </tr>\n",
              "    <tr>\n",
              "      <th>30896</th>\n",
              "      <td>RESPONSABILITIES</td>\n",
              "      <td>track record in developing secure and highly p...</td>\n",
              "    </tr>\n",
              "    <tr>\n",
              "      <th>58224</th>\n",
              "      <td>RESPONSABILITIES</td>\n",
              "      <td>understanding the documentation requirements o...</td>\n",
              "    </tr>\n",
              "    <tr>\n",
              "      <th>36482</th>\n",
              "      <td>RESPONSABILITIES</td>\n",
              "      <td>development of products in regulated environme...</td>\n",
              "    </tr>\n",
              "    <tr>\n",
              "      <th>60361</th>\n",
              "      <td>RESPONSABILITIES</td>\n",
              "      <td>developing a clear understanding of the custom...</td>\n",
              "    </tr>\n",
              "    <tr>\n",
              "      <th>20890</th>\n",
              "      <td>RESPONSABILITIES</td>\n",
              "      <td>you are interested in the scaling of high perf...</td>\n",
              "    </tr>\n",
              "  </tbody>\n",
              "</table>\n",
              "</div>"
            ],
            "text/plain": [
              "           target_label                                    job_description\n",
              "30252  RESPONSABILITIES  management of cloud and traditional infrastruc...\n",
              "34772  RESPONSABILITIES  the role will be focused around the provision ...\n",
              "25031  RESPONSABILITIES  work as part of a team within a fast paced dyn...\n",
              "19370  RESPONSABILITIES  applying a practical and commercially effectiv...\n",
              "20585  RESPONSABILITIES  understanding the cost impact of engineering c...\n",
              "16737  RESPONSABILITIES                     investigation of ports of call\n",
              "42681  RESPONSABILITIES  using your skills to maximise the sales opport...\n",
              "45438  RESPONSABILITIES  operating and cleaning high powered pumps and ...\n",
              "45438  RESPONSABILITIES  operating and cleaning high powered pumps and ...\n",
              "6657   RESPONSABILITIES  share newly developed techniques document temp...\n",
              "9456   RESPONSABILITIES                mod aircraft engineering procedures\n",
              "48149  RESPONSABILITIES  work with automation tools sql python and bash...\n",
              "19736  RESPONSABILITIES  measure and evaluate features and system metri...\n",
              "41828  RESPONSABILITIES                       email routing spam archiving\n",
              "45438  RESPONSABILITIES  operating and cleaning high powered pumps and ...\n",
              "45438  RESPONSABILITIES  operating and cleaning high powered pumps and ...\n",
              "15916  RESPONSABILITIES  o all draughting work will be done in autodesk...\n",
              "29942  RESPONSABILITIES  mastery of development test environments simul...\n",
              "23111  RESPONSABILITIES  the upgrade and modification of production hig...\n",
              "29042  RESPONSABILITIES  use of cfmu aftn arinc internet and outlook sy...\n",
              "947    RESPONSABILITIES  assisting with the development of children s p...\n",
              "15025  RESPONSABILITIES     close the sale using proven closing techniques\n",
              "15146  RESPONSABILITIES  carry out driving licence adr certificate cpc ...\n",
              "25556  RESPONSABILITIES  dealing wherever appropriate professionally an...\n",
              "31986  RESPONSABILITIES  implementation of best practice warehousing te...\n",
              "14508  RESPONSABILITIES  sharing knowledge best practice and innovation...\n",
              "49729  RESPONSABILITIES       assess all units of the retail qualification\n",
              "54330  RESPONSABILITIES  taking part in collaborative research projects...\n",
              "49273  RESPONSABILITIES  you will be able to keep in constant contact w...\n",
              "25098  RESPONSABILITIES  employees will receive constant personal devel...\n",
              "28434  RESPONSABILITIES  working within a friendly team orientated envi...\n",
              "17319  RESPONSABILITIES                        driving single decker buses\n",
              "13532  RESPONSABILITIES  customer orientated proactive and with excelle...\n",
              "5575   RESPONSABILITIES  collaborate with the group r d team and effect...\n",
              "17428  RESPONSABILITIES  prepares bills including bill narratives with ...\n",
              "32617  RESPONSABILITIES  the transport planner is required to react qui...\n",
              "6239   RESPONSABILITIES  to work in partnership with the parents and pr...\n",
              "55487  RESPONSABILITIES                                           analysis\n",
              "18541  RESPONSABILITIES  estimate prices of new equipment in a solid an...\n",
              "40687  RESPONSABILITIES  you will also create sql relational databases ...\n",
              "11692  RESPONSABILITIES   accurate reporting of defects orally and written\n",
              "30896  RESPONSABILITIES  track record in developing secure and highly p...\n",
              "58224  RESPONSABILITIES  understanding the documentation requirements o...\n",
              "36482  RESPONSABILITIES  development of products in regulated environme...\n",
              "60361  RESPONSABILITIES  developing a clear understanding of the custom...\n",
              "20890  RESPONSABILITIES  you are interested in the scaling of high perf..."
            ]
          },
          "metadata": {
            "tags": []
          }
        },
        {
          "output_type": "stream",
          "text": [
            "\n",
            "'OTHER' predicted as 'RESPONSABILITIES' : 107 examples.\n"
          ],
          "name": "stdout"
        },
        {
          "output_type": "display_data",
          "data": {
            "text/html": [
              "<div>\n",
              "<style scoped>\n",
              "    .dataframe tbody tr th:only-of-type {\n",
              "        vertical-align: middle;\n",
              "    }\n",
              "\n",
              "    .dataframe tbody tr th {\n",
              "        vertical-align: top;\n",
              "    }\n",
              "\n",
              "    .dataframe thead th {\n",
              "        text-align: right;\n",
              "    }\n",
              "</style>\n",
              "<table border=\"1\" class=\"dataframe\">\n",
              "  <thead>\n",
              "    <tr style=\"text-align: right;\">\n",
              "      <th></th>\n",
              "      <th>target_label</th>\n",
              "      <th>job_description</th>\n",
              "    </tr>\n",
              "  </thead>\n",
              "  <tbody>\n",
              "    <tr>\n",
              "      <th>11306</th>\n",
              "      <td>OTHER</td>\n",
              "      <td>based in london some travel will be required p...</td>\n",
              "    </tr>\n",
              "    <tr>\n",
              "      <th>19843</th>\n",
              "      <td>OTHER</td>\n",
              "      <td>we provide honest feedback and manage the recr...</td>\n",
              "    </tr>\n",
              "    <tr>\n",
              "      <th>10347</th>\n",
              "      <td>OTHER</td>\n",
              "      <td>with the support and guidance of the design ma...</td>\n",
              "    </tr>\n",
              "    <tr>\n",
              "      <th>10347</th>\n",
              "      <td>OTHER</td>\n",
              "      <td>with the support and guidance of the design ma...</td>\n",
              "    </tr>\n",
              "    <tr>\n",
              "      <th>48597</th>\n",
              "      <td>OTHER</td>\n",
              "      <td>there agents sign up more new customers every ...</td>\n",
              "    </tr>\n",
              "    <tr>\n",
              "      <th>12184</th>\n",
              "      <td>OTHER</td>\n",
              "      <td>the technical lead will become a technical foc...</td>\n",
              "    </tr>\n",
              "    <tr>\n",
              "      <th>39214</th>\n",
              "      <td>OTHER</td>\n",
              "      <td>the adopted attitude is that no idea is a bad ...</td>\n",
              "    </tr>\n",
              "    <tr>\n",
              "      <th>39990</th>\n",
              "      <td>OTHER</td>\n",
              "      <td>you will be managing the following</td>\n",
              "    </tr>\n",
              "    <tr>\n",
              "      <th>42862</th>\n",
              "      <td>OTHER</td>\n",
              "      <td>they are also integrally involved in the prese...</td>\n",
              "    </tr>\n",
              "    <tr>\n",
              "      <th>42862</th>\n",
              "      <td>OTHER</td>\n",
              "      <td>they are also integrally involved in the prese...</td>\n",
              "    </tr>\n",
              "    <tr>\n",
              "      <th>45226</th>\n",
              "      <td>OTHER</td>\n",
              "      <td>for example</td>\n",
              "    </tr>\n",
              "    <tr>\n",
              "      <th>34294</th>\n",
              "      <td>OTHER</td>\n",
              "      <td>we offer thorough feedback and support during ...</td>\n",
              "    </tr>\n",
              "    <tr>\n",
              "      <th>34294</th>\n",
              "      <td>OTHER</td>\n",
              "      <td>we offer thorough feedback and support during ...</td>\n",
              "    </tr>\n",
              "    <tr>\n",
              "      <th>7292</th>\n",
              "      <td>OTHER</td>\n",
              "      <td>the department and faculty are well equipped a...</td>\n",
              "    </tr>\n",
              "    <tr>\n",
              "      <th>58307</th>\n",
              "      <td>OTHER</td>\n",
              "      <td>as maintenance engineer you will be working as...</td>\n",
              "    </tr>\n",
              "    <tr>\n",
              "      <th>18201</th>\n",
              "      <td>OTHER</td>\n",
              "      <td>we therefore send all the equipment to sites f...</td>\n",
              "    </tr>\n",
              "    <tr>\n",
              "      <th>42862</th>\n",
              "      <td>OTHER</td>\n",
              "      <td>they are also integrally involved in the prese...</td>\n",
              "    </tr>\n",
              "    <tr>\n",
              "      <th>42862</th>\n",
              "      <td>OTHER</td>\n",
              "      <td>they are also integrally involved in the prese...</td>\n",
              "    </tr>\n",
              "    <tr>\n",
              "      <th>53750</th>\n",
              "      <td>OTHER</td>\n",
              "      <td>we have innovative solutions to ensure high le...</td>\n",
              "    </tr>\n",
              "    <tr>\n",
              "      <th>1985</th>\n",
              "      <td>OTHER</td>\n",
              "      <td>closing business over the telephone</td>\n",
              "    </tr>\n",
              "    <tr>\n",
              "      <th>30783</th>\n",
              "      <td>OTHER</td>\n",
              "      <td>the company are a market leader in the manufac...</td>\n",
              "    </tr>\n",
              "    <tr>\n",
              "      <th>41352</th>\n",
              "      <td>OTHER</td>\n",
              "      <td>we help our customers maintain and support com...</td>\n",
              "    </tr>\n",
              "    <tr>\n",
              "      <th>8184</th>\n",
              "      <td>OTHER</td>\n",
              "      <td>this is a senior position within an expanding ...</td>\n",
              "    </tr>\n",
              "    <tr>\n",
              "      <th>8810</th>\n",
              "      <td>OTHER</td>\n",
              "      <td>sap business one sap b1 consultant home based ...</td>\n",
              "    </tr>\n",
              "    <tr>\n",
              "      <th>4609</th>\n",
              "      <td>OTHER</td>\n",
              "      <td>supplier management</td>\n",
              "    </tr>\n",
              "    <tr>\n",
              "      <th>9263</th>\n",
              "      <td>OTHER</td>\n",
              "      <td>introduce team leader and sales specialists to...</td>\n",
              "    </tr>\n",
              "    <tr>\n",
              "      <th>28583</th>\n",
              "      <td>OTHER</td>\n",
              "      <td>cover supervisors required in bury area</td>\n",
              "    </tr>\n",
              "    <tr>\n",
              "      <th>12987</th>\n",
              "      <td>OTHER</td>\n",
              "      <td>the company distribute technical solutions to ...</td>\n",
              "    </tr>\n",
              "    <tr>\n",
              "      <th>34591</th>\n",
              "      <td>OTHER</td>\n",
              "      <td>the management information team is making a tr...</td>\n",
              "    </tr>\n",
              "    <tr>\n",
              "      <th>35367</th>\n",
              "      <td>OTHER</td>\n",
              "      <td>project planning support roles</td>\n",
              "    </tr>\n",
              "    <tr>\n",
              "      <th>...</th>\n",
              "      <td>...</td>\n",
              "      <td>...</td>\n",
              "    </tr>\n",
              "    <tr>\n",
              "      <th>46041</th>\n",
              "      <td>OTHER</td>\n",
              "      <td>do you thrive on working to sales targets and ...</td>\n",
              "    </tr>\n",
              "    <tr>\n",
              "      <th>56472</th>\n",
              "      <td>OTHER</td>\n",
              "      <td>we currently have a requirement for new busine...</td>\n",
              "    </tr>\n",
              "    <tr>\n",
              "      <th>41609</th>\n",
              "      <td>OTHER</td>\n",
              "      <td>partners</td>\n",
              "    </tr>\n",
              "    <tr>\n",
              "      <th>11238</th>\n",
              "      <td>OTHER</td>\n",
              "      <td>marketing</td>\n",
              "    </tr>\n",
              "    <tr>\n",
              "      <th>31124</th>\n",
              "      <td>OTHER</td>\n",
              "      <td>we are looking for a business development mana...</td>\n",
              "    </tr>\n",
              "    <tr>\n",
              "      <th>52198</th>\n",
              "      <td>OTHER</td>\n",
              "      <td>within the remit of the role you will be respo...</td>\n",
              "    </tr>\n",
              "    <tr>\n",
              "      <th>52198</th>\n",
              "      <td>OTHER</td>\n",
              "      <td>within the remit of the role you will be respo...</td>\n",
              "    </tr>\n",
              "    <tr>\n",
              "      <th>48618</th>\n",
              "      <td>OTHER</td>\n",
              "      <td>technical account manager tam</td>\n",
              "    </tr>\n",
              "    <tr>\n",
              "      <th>12588</th>\n",
              "      <td>OTHER</td>\n",
              "      <td>cctv</td>\n",
              "    </tr>\n",
              "    <tr>\n",
              "      <th>19466</th>\n",
              "      <td>OTHER</td>\n",
              "      <td>to meet our growth ambitions we are seeking se...</td>\n",
              "    </tr>\n",
              "    <tr>\n",
              "      <th>2994</th>\n",
              "      <td>OTHER</td>\n",
              "      <td>we are looking for 2 people to work on their p...</td>\n",
              "    </tr>\n",
              "    <tr>\n",
              "      <th>9244</th>\n",
              "      <td>OTHER</td>\n",
              "      <td>our client is growing fast and needs ambitious...</td>\n",
              "    </tr>\n",
              "    <tr>\n",
              "      <th>33044</th>\n",
              "      <td>OTHER</td>\n",
              "      <td>trainee territory managers field sales executi...</td>\n",
              "    </tr>\n",
              "    <tr>\n",
              "      <th>8653</th>\n",
              "      <td>OTHER</td>\n",
              "      <td>our client a renewable energy process plant or...</td>\n",
              "    </tr>\n",
              "    <tr>\n",
              "      <th>48607</th>\n",
              "      <td>OTHER</td>\n",
              "      <td>no desk all your work will be out in the field</td>\n",
              "    </tr>\n",
              "    <tr>\n",
              "      <th>26456</th>\n",
              "      <td>OTHER</td>\n",
              "      <td>1st line 2nd line support</td>\n",
              "    </tr>\n",
              "    <tr>\n",
              "      <th>44636</th>\n",
              "      <td>OTHER</td>\n",
              "      <td>iptv technical project manager london 48k 58k ...</td>\n",
              "    </tr>\n",
              "    <tr>\n",
              "      <th>44838</th>\n",
              "      <td>OTHER</td>\n",
              "      <td>you ll get full training and all the support y...</td>\n",
              "    </tr>\n",
              "    <tr>\n",
              "      <th>37493</th>\n",
              "      <td>OTHER</td>\n",
              "      <td>a diversified service and utilities organisati...</td>\n",
              "    </tr>\n",
              "    <tr>\n",
              "      <th>37493</th>\n",
              "      <td>OTHER</td>\n",
              "      <td>a diversified service and utilities organisati...</td>\n",
              "    </tr>\n",
              "    <tr>\n",
              "      <th>40403</th>\n",
              "      <td>OTHER</td>\n",
              "      <td>working day to day supply for capita allows yo...</td>\n",
              "    </tr>\n",
              "    <tr>\n",
              "      <th>16194</th>\n",
              "      <td>OTHER</td>\n",
              "      <td>they will work on a broad range of transaction...</td>\n",
              "    </tr>\n",
              "    <tr>\n",
              "      <th>47310</th>\n",
              "      <td>OTHER</td>\n",
              "      <td>if you are emailing your cv to us please ensur...</td>\n",
              "    </tr>\n",
              "    <tr>\n",
              "      <th>46414</th>\n",
              "      <td>OTHER</td>\n",
              "      <td>enjoy working and training with some of the be...</td>\n",
              "    </tr>\n",
              "    <tr>\n",
              "      <th>53802</th>\n",
              "      <td>OTHER</td>\n",
              "      <td>you will be working for a solicitors and a tea...</td>\n",
              "    </tr>\n",
              "    <tr>\n",
              "      <th>53802</th>\n",
              "      <td>OTHER</td>\n",
              "      <td>you will be working for a solicitors and a tea...</td>\n",
              "    </tr>\n",
              "    <tr>\n",
              "      <th>40497</th>\n",
              "      <td>OTHER</td>\n",
              "      <td>time for the scheduled lesson</td>\n",
              "    </tr>\n",
              "    <tr>\n",
              "      <th>1724</th>\n",
              "      <td>OTHER</td>\n",
              "      <td>please ensure your application shows evidence of</td>\n",
              "    </tr>\n",
              "    <tr>\n",
              "      <th>36406</th>\n",
              "      <td>OTHER</td>\n",
              "      <td>reporting to sales administration manager</td>\n",
              "    </tr>\n",
              "    <tr>\n",
              "      <th>42209</th>\n",
              "      <td>OTHER</td>\n",
              "      <td>we have a new position available for a leading...</td>\n",
              "    </tr>\n",
              "  </tbody>\n",
              "</table>\n",
              "<p>121 rows × 2 columns</p>\n",
              "</div>"
            ],
            "text/plain": [
              "      target_label                                    job_description\n",
              "11306        OTHER  based in london some travel will be required p...\n",
              "19843        OTHER  we provide honest feedback and manage the recr...\n",
              "10347        OTHER  with the support and guidance of the design ma...\n",
              "10347        OTHER  with the support and guidance of the design ma...\n",
              "48597        OTHER  there agents sign up more new customers every ...\n",
              "12184        OTHER  the technical lead will become a technical foc...\n",
              "39214        OTHER  the adopted attitude is that no idea is a bad ...\n",
              "39990        OTHER                 you will be managing the following\n",
              "42862        OTHER  they are also integrally involved in the prese...\n",
              "42862        OTHER  they are also integrally involved in the prese...\n",
              "45226        OTHER                                        for example\n",
              "34294        OTHER  we offer thorough feedback and support during ...\n",
              "34294        OTHER  we offer thorough feedback and support during ...\n",
              "7292         OTHER  the department and faculty are well equipped a...\n",
              "58307        OTHER  as maintenance engineer you will be working as...\n",
              "18201        OTHER  we therefore send all the equipment to sites f...\n",
              "42862        OTHER  they are also integrally involved in the prese...\n",
              "42862        OTHER  they are also integrally involved in the prese...\n",
              "53750        OTHER  we have innovative solutions to ensure high le...\n",
              "1985         OTHER                closing business over the telephone\n",
              "30783        OTHER  the company are a market leader in the manufac...\n",
              "41352        OTHER  we help our customers maintain and support com...\n",
              "8184         OTHER  this is a senior position within an expanding ...\n",
              "8810         OTHER  sap business one sap b1 consultant home based ...\n",
              "4609         OTHER                                supplier management\n",
              "9263         OTHER  introduce team leader and sales specialists to...\n",
              "28583        OTHER            cover supervisors required in bury area\n",
              "12987        OTHER  the company distribute technical solutions to ...\n",
              "34591        OTHER  the management information team is making a tr...\n",
              "35367        OTHER                     project planning support roles\n",
              "...            ...                                                ...\n",
              "46041        OTHER  do you thrive on working to sales targets and ...\n",
              "56472        OTHER  we currently have a requirement for new busine...\n",
              "41609        OTHER                                           partners\n",
              "11238        OTHER                                          marketing\n",
              "31124        OTHER  we are looking for a business development mana...\n",
              "52198        OTHER  within the remit of the role you will be respo...\n",
              "52198        OTHER  within the remit of the role you will be respo...\n",
              "48618        OTHER                      technical account manager tam\n",
              "12588        OTHER                                               cctv\n",
              "19466        OTHER  to meet our growth ambitions we are seeking se...\n",
              "2994         OTHER  we are looking for 2 people to work on their p...\n",
              "9244         OTHER  our client is growing fast and needs ambitious...\n",
              "33044        OTHER  trainee territory managers field sales executi...\n",
              "8653         OTHER  our client a renewable energy process plant or...\n",
              "48607        OTHER     no desk all your work will be out in the field\n",
              "26456        OTHER                          1st line 2nd line support\n",
              "44636        OTHER  iptv technical project manager london 48k 58k ...\n",
              "44838        OTHER  you ll get full training and all the support y...\n",
              "37493        OTHER  a diversified service and utilities organisati...\n",
              "37493        OTHER  a diversified service and utilities organisati...\n",
              "40403        OTHER  working day to day supply for capita allows yo...\n",
              "16194        OTHER  they will work on a broad range of transaction...\n",
              "47310        OTHER  if you are emailing your cv to us please ensur...\n",
              "46414        OTHER  enjoy working and training with some of the be...\n",
              "53802        OTHER  you will be working for a solicitors and a tea...\n",
              "53802        OTHER  you will be working for a solicitors and a tea...\n",
              "40497        OTHER                      time for the scheduled lesson\n",
              "1724         OTHER   please ensure your application shows evidence of\n",
              "36406        OTHER          reporting to sales administration manager\n",
              "42209        OTHER  we have a new position available for a leading...\n",
              "\n",
              "[121 rows x 2 columns]"
            ]
          },
          "metadata": {
            "tags": []
          }
        },
        {
          "output_type": "stream",
          "text": [
            "\n",
            "'REQUIREMENTS' predicted as 'RESPONSABILITIES' : 61 examples.\n"
          ],
          "name": "stdout"
        },
        {
          "output_type": "display_data",
          "data": {
            "text/html": [
              "<div>\n",
              "<style scoped>\n",
              "    .dataframe tbody tr th:only-of-type {\n",
              "        vertical-align: middle;\n",
              "    }\n",
              "\n",
              "    .dataframe tbody tr th {\n",
              "        vertical-align: top;\n",
              "    }\n",
              "\n",
              "    .dataframe thead th {\n",
              "        text-align: right;\n",
              "    }\n",
              "</style>\n",
              "<table border=\"1\" class=\"dataframe\">\n",
              "  <thead>\n",
              "    <tr style=\"text-align: right;\">\n",
              "      <th></th>\n",
              "      <th>target_label</th>\n",
              "      <th>job_description</th>\n",
              "    </tr>\n",
              "  </thead>\n",
              "  <tbody>\n",
              "    <tr>\n",
              "      <th>57903</th>\n",
              "      <td>REQUIREMENTS</td>\n",
              "      <td>the role demands a highly numerate individual ...</td>\n",
              "    </tr>\n",
              "    <tr>\n",
              "      <th>29933</th>\n",
              "      <td>REQUIREMENTS</td>\n",
              "      <td>results oriented strives for team individual g...</td>\n",
              "    </tr>\n",
              "    <tr>\n",
              "      <th>49775</th>\n",
              "      <td>REQUIREMENTS</td>\n",
              "      <td>complex lan wan firewall deployments</td>\n",
              "    </tr>\n",
              "    <tr>\n",
              "      <th>55946</th>\n",
              "      <td>REQUIREMENTS</td>\n",
              "      <td>confident working alone mechanically i e help ...</td>\n",
              "    </tr>\n",
              "    <tr>\n",
              "      <th>55946</th>\n",
              "      <td>REQUIREMENTS</td>\n",
              "      <td>confident working alone mechanically i e help ...</td>\n",
              "    </tr>\n",
              "    <tr>\n",
              "      <th>58652</th>\n",
              "      <td>REQUIREMENTS</td>\n",
              "      <td>territory knowledge of key buyers promotional ...</td>\n",
              "    </tr>\n",
              "    <tr>\n",
              "      <th>46723</th>\n",
              "      <td>REQUIREMENTS</td>\n",
              "      <td>project leadership</td>\n",
              "    </tr>\n",
              "    <tr>\n",
              "      <th>46723</th>\n",
              "      <td>REQUIREMENTS</td>\n",
              "      <td>project leadership</td>\n",
              "    </tr>\n",
              "    <tr>\n",
              "      <th>55946</th>\n",
              "      <td>REQUIREMENTS</td>\n",
              "      <td>confident working alone mechanically i e help ...</td>\n",
              "    </tr>\n",
              "    <tr>\n",
              "      <th>55946</th>\n",
              "      <td>REQUIREMENTS</td>\n",
              "      <td>confident working alone mechanically i e help ...</td>\n",
              "    </tr>\n",
              "    <tr>\n",
              "      <th>33426</th>\n",
              "      <td>REQUIREMENTS</td>\n",
              "      <td>effective administrative communication decisio...</td>\n",
              "    </tr>\n",
              "    <tr>\n",
              "      <th>22138</th>\n",
              "      <td>REQUIREMENTS</td>\n",
              "      <td>the applicant should be committed to work as p...</td>\n",
              "    </tr>\n",
              "    <tr>\n",
              "      <th>47678</th>\n",
              "      <td>REQUIREMENTS</td>\n",
              "      <td>experience of creation and execution of test s...</td>\n",
              "    </tr>\n",
              "    <tr>\n",
              "      <th>61871</th>\n",
              "      <td>REQUIREMENTS</td>\n",
              "      <td>promote continuous improvement</td>\n",
              "    </tr>\n",
              "    <tr>\n",
              "      <th>61871</th>\n",
              "      <td>REQUIREMENTS</td>\n",
              "      <td>promote continuous improvement</td>\n",
              "    </tr>\n",
              "    <tr>\n",
              "      <th>9320</th>\n",
              "      <td>REQUIREMENTS</td>\n",
              "      <td>expansion means we need a jnr web designer dev...</td>\n",
              "    </tr>\n",
              "    <tr>\n",
              "      <th>32823</th>\n",
              "      <td>REQUIREMENTS</td>\n",
              "      <td>you will be dealing with large workloads so mu...</td>\n",
              "    </tr>\n",
              "    <tr>\n",
              "      <th>35080</th>\n",
              "      <td>REQUIREMENTS</td>\n",
              "      <td>we are looking for an outstanding hlta to main...</td>\n",
              "    </tr>\n",
              "    <tr>\n",
              "      <th>40490</th>\n",
              "      <td>REQUIREMENTS</td>\n",
              "      <td>any bespoke software installation and respecti...</td>\n",
              "    </tr>\n",
              "    <tr>\n",
              "      <th>30956</th>\n",
              "      <td>REQUIREMENTS</td>\n",
              "      <td>the right candidate will have personal charism...</td>\n",
              "    </tr>\n",
              "    <tr>\n",
              "      <th>46723</th>\n",
              "      <td>REQUIREMENTS</td>\n",
              "      <td>project leadership</td>\n",
              "    </tr>\n",
              "    <tr>\n",
              "      <th>46723</th>\n",
              "      <td>REQUIREMENTS</td>\n",
              "      <td>project leadership</td>\n",
              "    </tr>\n",
              "    <tr>\n",
              "      <th>52960</th>\n",
              "      <td>REQUIREMENTS</td>\n",
              "      <td>overwhelmingly positive client feedback</td>\n",
              "    </tr>\n",
              "    <tr>\n",
              "      <th>28195</th>\n",
              "      <td>REQUIREMENTS</td>\n",
              "      <td>a genuine interest in all technical aspects of...</td>\n",
              "    </tr>\n",
              "    <tr>\n",
              "      <th>13186</th>\n",
              "      <td>REQUIREMENTS</td>\n",
              "      <td>knowledge of legal issues drafting of agreemen...</td>\n",
              "    </tr>\n",
              "    <tr>\n",
              "      <th>21984</th>\n",
              "      <td>REQUIREMENTS</td>\n",
              "      <td>aat qualification or working towards will be o...</td>\n",
              "    </tr>\n",
              "    <tr>\n",
              "      <th>62269</th>\n",
              "      <td>REQUIREMENTS</td>\n",
              "      <td>willingness to provide outstanding support for...</td>\n",
              "    </tr>\n",
              "    <tr>\n",
              "      <th>62269</th>\n",
              "      <td>REQUIREMENTS</td>\n",
              "      <td>willingness to provide outstanding support for...</td>\n",
              "    </tr>\n",
              "    <tr>\n",
              "      <th>54808</th>\n",
              "      <td>REQUIREMENTS</td>\n",
              "      <td>ability to identify customer requirements to p...</td>\n",
              "    </tr>\n",
              "    <tr>\n",
              "      <th>30490</th>\n",
              "      <td>REQUIREMENTS</td>\n",
              "      <td>continually strive to identify and drive throu...</td>\n",
              "    </tr>\n",
              "    <tr>\n",
              "      <th>...</th>\n",
              "      <td>...</td>\n",
              "      <td>...</td>\n",
              "    </tr>\n",
              "    <tr>\n",
              "      <th>54261</th>\n",
              "      <td>REQUIREMENTS</td>\n",
              "      <td>good at building customer relationships</td>\n",
              "    </tr>\n",
              "    <tr>\n",
              "      <th>10304</th>\n",
              "      <td>REQUIREMENTS</td>\n",
              "      <td>a fully experienced setter operator of edward ...</td>\n",
              "    </tr>\n",
              "    <tr>\n",
              "      <th>14925</th>\n",
              "      <td>REQUIREMENTS</td>\n",
              "      <td>capable of working alone or in a team to deliv...</td>\n",
              "    </tr>\n",
              "    <tr>\n",
              "      <th>59279</th>\n",
              "      <td>REQUIREMENTS</td>\n",
              "      <td>team work required</td>\n",
              "    </tr>\n",
              "    <tr>\n",
              "      <th>41822</th>\n",
              "      <td>REQUIREMENTS</td>\n",
              "      <td>desktop laptop server hardware</td>\n",
              "    </tr>\n",
              "    <tr>\n",
              "      <th>29156</th>\n",
              "      <td>REQUIREMENTS</td>\n",
              "      <td>this sen science teacher post requires a sen s...</td>\n",
              "    </tr>\n",
              "    <tr>\n",
              "      <th>43782</th>\n",
              "      <td>REQUIREMENTS</td>\n",
              "      <td>involvement in customer or quality audits is a...</td>\n",
              "    </tr>\n",
              "    <tr>\n",
              "      <th>50460</th>\n",
              "      <td>REQUIREMENTS</td>\n",
              "      <td>pleasant and positive manner in dealing with c...</td>\n",
              "    </tr>\n",
              "    <tr>\n",
              "      <th>62057</th>\n",
              "      <td>REQUIREMENTS</td>\n",
              "      <td>understanding of complex electro mechanical as...</td>\n",
              "    </tr>\n",
              "    <tr>\n",
              "      <th>30990</th>\n",
              "      <td>REQUIREMENTS</td>\n",
              "      <td>proven competence in managing sub contractors ...</td>\n",
              "    </tr>\n",
              "    <tr>\n",
              "      <th>14620</th>\n",
              "      <td>REQUIREMENTS</td>\n",
              "      <td>you must be methodical and thorough as complet...</td>\n",
              "    </tr>\n",
              "    <tr>\n",
              "      <th>19433</th>\n",
              "      <td>REQUIREMENTS</td>\n",
              "      <td>key competencies sap mes ie electronic batch r...</td>\n",
              "    </tr>\n",
              "    <tr>\n",
              "      <th>1171</th>\n",
              "      <td>REQUIREMENTS</td>\n",
              "      <td>they must have a knowledge of the wirral regio...</td>\n",
              "    </tr>\n",
              "    <tr>\n",
              "      <th>4261</th>\n",
              "      <td>REQUIREMENTS</td>\n",
              "      <td>you will have proven skills in planning and th...</td>\n",
              "    </tr>\n",
              "    <tr>\n",
              "      <th>46217</th>\n",
              "      <td>REQUIREMENTS</td>\n",
              "      <td>to do this efficiently and effectively you nee...</td>\n",
              "    </tr>\n",
              "    <tr>\n",
              "      <th>46198</th>\n",
              "      <td>REQUIREMENTS</td>\n",
              "      <td>stress analysis fea</td>\n",
              "    </tr>\n",
              "    <tr>\n",
              "      <th>18259</th>\n",
              "      <td>REQUIREMENTS</td>\n",
              "      <td>can demonstrate the successful leadership of a...</td>\n",
              "    </tr>\n",
              "    <tr>\n",
              "      <th>47340</th>\n",
              "      <td>REQUIREMENTS</td>\n",
              "      <td>you would ideally have some experience of mana...</td>\n",
              "    </tr>\n",
              "    <tr>\n",
              "      <th>47340</th>\n",
              "      <td>REQUIREMENTS</td>\n",
              "      <td>you would ideally have some experience of mana...</td>\n",
              "    </tr>\n",
              "    <tr>\n",
              "      <th>60601</th>\n",
              "      <td>REQUIREMENTS</td>\n",
              "      <td>clear and defined internal progression to arch...</td>\n",
              "    </tr>\n",
              "    <tr>\n",
              "      <th>25825</th>\n",
              "      <td>REQUIREMENTS</td>\n",
              "      <td>an individual with drive and enthusiasm</td>\n",
              "    </tr>\n",
              "    <tr>\n",
              "      <th>62269</th>\n",
              "      <td>REQUIREMENTS</td>\n",
              "      <td>willingness to provide outstanding support for...</td>\n",
              "    </tr>\n",
              "    <tr>\n",
              "      <th>62269</th>\n",
              "      <td>REQUIREMENTS</td>\n",
              "      <td>willingness to provide outstanding support for...</td>\n",
              "    </tr>\n",
              "    <tr>\n",
              "      <th>30643</th>\n",
              "      <td>REQUIREMENTS</td>\n",
              "      <td>you will have experience of running your own c...</td>\n",
              "    </tr>\n",
              "    <tr>\n",
              "      <th>25900</th>\n",
              "      <td>REQUIREMENTS</td>\n",
              "      <td>you have an unhealthy interest in travel</td>\n",
              "    </tr>\n",
              "    <tr>\n",
              "      <th>25900</th>\n",
              "      <td>REQUIREMENTS</td>\n",
              "      <td>you have an unhealthy interest in travel</td>\n",
              "    </tr>\n",
              "    <tr>\n",
              "      <th>18397</th>\n",
              "      <td>REQUIREMENTS</td>\n",
              "      <td>keen to progress and develop</td>\n",
              "    </tr>\n",
              "    <tr>\n",
              "      <th>51531</th>\n",
              "      <td>REQUIREMENTS</td>\n",
              "      <td>ks3 and 4 perhaps ks5</td>\n",
              "    </tr>\n",
              "    <tr>\n",
              "      <th>42426</th>\n",
              "      <td>REQUIREMENTS</td>\n",
              "      <td>design documentation</td>\n",
              "    </tr>\n",
              "    <tr>\n",
              "      <th>18011</th>\n",
              "      <td>REQUIREMENTS</td>\n",
              "      <td>you must also have the ability to analyze comp...</td>\n",
              "    </tr>\n",
              "  </tbody>\n",
              "</table>\n",
              "<p>72 rows × 2 columns</p>\n",
              "</div>"
            ],
            "text/plain": [
              "       target_label                                    job_description\n",
              "57903  REQUIREMENTS  the role demands a highly numerate individual ...\n",
              "29933  REQUIREMENTS  results oriented strives for team individual g...\n",
              "49775  REQUIREMENTS               complex lan wan firewall deployments\n",
              "55946  REQUIREMENTS  confident working alone mechanically i e help ...\n",
              "55946  REQUIREMENTS  confident working alone mechanically i e help ...\n",
              "58652  REQUIREMENTS  territory knowledge of key buyers promotional ...\n",
              "46723  REQUIREMENTS                                 project leadership\n",
              "46723  REQUIREMENTS                                 project leadership\n",
              "55946  REQUIREMENTS  confident working alone mechanically i e help ...\n",
              "55946  REQUIREMENTS  confident working alone mechanically i e help ...\n",
              "33426  REQUIREMENTS  effective administrative communication decisio...\n",
              "22138  REQUIREMENTS  the applicant should be committed to work as p...\n",
              "47678  REQUIREMENTS  experience of creation and execution of test s...\n",
              "61871  REQUIREMENTS                     promote continuous improvement\n",
              "61871  REQUIREMENTS                     promote continuous improvement\n",
              "9320   REQUIREMENTS  expansion means we need a jnr web designer dev...\n",
              "32823  REQUIREMENTS  you will be dealing with large workloads so mu...\n",
              "35080  REQUIREMENTS  we are looking for an outstanding hlta to main...\n",
              "40490  REQUIREMENTS  any bespoke software installation and respecti...\n",
              "30956  REQUIREMENTS  the right candidate will have personal charism...\n",
              "46723  REQUIREMENTS                                 project leadership\n",
              "46723  REQUIREMENTS                                 project leadership\n",
              "52960  REQUIREMENTS            overwhelmingly positive client feedback\n",
              "28195  REQUIREMENTS  a genuine interest in all technical aspects of...\n",
              "13186  REQUIREMENTS  knowledge of legal issues drafting of agreemen...\n",
              "21984  REQUIREMENTS  aat qualification or working towards will be o...\n",
              "62269  REQUIREMENTS  willingness to provide outstanding support for...\n",
              "62269  REQUIREMENTS  willingness to provide outstanding support for...\n",
              "54808  REQUIREMENTS  ability to identify customer requirements to p...\n",
              "30490  REQUIREMENTS  continually strive to identify and drive throu...\n",
              "...             ...                                                ...\n",
              "54261  REQUIREMENTS            good at building customer relationships\n",
              "10304  REQUIREMENTS  a fully experienced setter operator of edward ...\n",
              "14925  REQUIREMENTS  capable of working alone or in a team to deliv...\n",
              "59279  REQUIREMENTS                                 team work required\n",
              "41822  REQUIREMENTS                     desktop laptop server hardware\n",
              "29156  REQUIREMENTS  this sen science teacher post requires a sen s...\n",
              "43782  REQUIREMENTS  involvement in customer or quality audits is a...\n",
              "50460  REQUIREMENTS  pleasant and positive manner in dealing with c...\n",
              "62057  REQUIREMENTS  understanding of complex electro mechanical as...\n",
              "30990  REQUIREMENTS  proven competence in managing sub contractors ...\n",
              "14620  REQUIREMENTS  you must be methodical and thorough as complet...\n",
              "19433  REQUIREMENTS  key competencies sap mes ie electronic batch r...\n",
              "1171   REQUIREMENTS  they must have a knowledge of the wirral regio...\n",
              "4261   REQUIREMENTS  you will have proven skills in planning and th...\n",
              "46217  REQUIREMENTS  to do this efficiently and effectively you nee...\n",
              "46198  REQUIREMENTS                                stress analysis fea\n",
              "18259  REQUIREMENTS  can demonstrate the successful leadership of a...\n",
              "47340  REQUIREMENTS  you would ideally have some experience of mana...\n",
              "47340  REQUIREMENTS  you would ideally have some experience of mana...\n",
              "60601  REQUIREMENTS  clear and defined internal progression to arch...\n",
              "25825  REQUIREMENTS            an individual with drive and enthusiasm\n",
              "62269  REQUIREMENTS  willingness to provide outstanding support for...\n",
              "62269  REQUIREMENTS  willingness to provide outstanding support for...\n",
              "30643  REQUIREMENTS  you will have experience of running your own c...\n",
              "25900  REQUIREMENTS           you have an unhealthy interest in travel\n",
              "25900  REQUIREMENTS           you have an unhealthy interest in travel\n",
              "18397  REQUIREMENTS                       keen to progress and develop\n",
              "51531  REQUIREMENTS                              ks3 and 4 perhaps ks5\n",
              "42426  REQUIREMENTS                               design documentation\n",
              "18011  REQUIREMENTS  you must also have the ability to analyze comp...\n",
              "\n",
              "[72 rows x 2 columns]"
            ]
          },
          "metadata": {
            "tags": []
          }
        },
        {
          "output_type": "stream",
          "text": [
            "\n",
            "'BENEFITS' predicted as 'RESPONSABILITIES' : 13 examples.\n"
          ],
          "name": "stdout"
        },
        {
          "output_type": "display_data",
          "data": {
            "text/html": [
              "<div>\n",
              "<style scoped>\n",
              "    .dataframe tbody tr th:only-of-type {\n",
              "        vertical-align: middle;\n",
              "    }\n",
              "\n",
              "    .dataframe tbody tr th {\n",
              "        vertical-align: top;\n",
              "    }\n",
              "\n",
              "    .dataframe thead th {\n",
              "        text-align: right;\n",
              "    }\n",
              "</style>\n",
              "<table border=\"1\" class=\"dataframe\">\n",
              "  <thead>\n",
              "    <tr style=\"text-align: right;\">\n",
              "      <th></th>\n",
              "      <th>target_label</th>\n",
              "      <th>job_description</th>\n",
              "    </tr>\n",
              "  </thead>\n",
              "  <tbody>\n",
              "    <tr>\n",
              "      <th>37502</th>\n",
              "      <td>BENEFITS</td>\n",
              "      <td>it s a totally free employability course with ...</td>\n",
              "    </tr>\n",
              "    <tr>\n",
              "      <th>16035</th>\n",
              "      <td>BENEFITS</td>\n",
              "      <td>you will be fully supported with a very compre...</td>\n",
              "    </tr>\n",
              "    <tr>\n",
              "      <th>16035</th>\n",
              "      <td>BENEFITS</td>\n",
              "      <td>you will be fully supported with a very compre...</td>\n",
              "    </tr>\n",
              "    <tr>\n",
              "      <th>33440</th>\n",
              "      <td>BENEFITS</td>\n",
              "      <td>thriving social engagement including 2 employe...</td>\n",
              "    </tr>\n",
              "    <tr>\n",
              "      <th>56686</th>\n",
              "      <td>BENEFITS</td>\n",
              "      <td>regular social evenings</td>\n",
              "    </tr>\n",
              "    <tr>\n",
              "      <th>56686</th>\n",
              "      <td>BENEFITS</td>\n",
              "      <td>regular social evenings</td>\n",
              "    </tr>\n",
              "    <tr>\n",
              "      <th>39539</th>\n",
              "      <td>BENEFITS</td>\n",
              "      <td>regular networking and social events</td>\n",
              "    </tr>\n",
              "    <tr>\n",
              "      <th>50675</th>\n",
              "      <td>BENEFITS</td>\n",
              "      <td>they also run monthly book club lunches and di...</td>\n",
              "    </tr>\n",
              "    <tr>\n",
              "      <th>41825</th>\n",
              "      <td>BENEFITS</td>\n",
              "      <td>mobile smart phones tablets</td>\n",
              "    </tr>\n",
              "    <tr>\n",
              "      <th>44018</th>\n",
              "      <td>BENEFITS</td>\n",
              "      <td>company corporate law company law issues compa...</td>\n",
              "    </tr>\n",
              "    <tr>\n",
              "      <th>61008</th>\n",
              "      <td>BENEFITS</td>\n",
              "      <td>they also run monthly book club lunches and di...</td>\n",
              "    </tr>\n",
              "    <tr>\n",
              "      <th>16035</th>\n",
              "      <td>BENEFITS</td>\n",
              "      <td>you will be fully supported with a very compre...</td>\n",
              "    </tr>\n",
              "    <tr>\n",
              "      <th>16035</th>\n",
              "      <td>BENEFITS</td>\n",
              "      <td>you will be fully supported with a very compre...</td>\n",
              "    </tr>\n",
              "    <tr>\n",
              "      <th>14291</th>\n",
              "      <td>BENEFITS</td>\n",
              "      <td>sales stand uniform ipad marketing materials a...</td>\n",
              "    </tr>\n",
              "    <tr>\n",
              "      <th>56686</th>\n",
              "      <td>BENEFITS</td>\n",
              "      <td>regular social evenings</td>\n",
              "    </tr>\n",
              "    <tr>\n",
              "      <th>56686</th>\n",
              "      <td>BENEFITS</td>\n",
              "      <td>regular social evenings</td>\n",
              "    </tr>\n",
              "    <tr>\n",
              "      <th>52714</th>\n",
              "      <td>BENEFITS</td>\n",
              "      <td>8attend staff meetings outside of working hours</td>\n",
              "    </tr>\n",
              "  </tbody>\n",
              "</table>\n",
              "</div>"
            ],
            "text/plain": [
              "      target_label                                    job_description\n",
              "37502     BENEFITS  it s a totally free employability course with ...\n",
              "16035     BENEFITS  you will be fully supported with a very compre...\n",
              "16035     BENEFITS  you will be fully supported with a very compre...\n",
              "33440     BENEFITS  thriving social engagement including 2 employe...\n",
              "56686     BENEFITS                            regular social evenings\n",
              "56686     BENEFITS                            regular social evenings\n",
              "39539     BENEFITS               regular networking and social events\n",
              "50675     BENEFITS  they also run monthly book club lunches and di...\n",
              "41825     BENEFITS                        mobile smart phones tablets\n",
              "44018     BENEFITS  company corporate law company law issues compa...\n",
              "61008     BENEFITS  they also run monthly book club lunches and di...\n",
              "16035     BENEFITS  you will be fully supported with a very compre...\n",
              "16035     BENEFITS  you will be fully supported with a very compre...\n",
              "14291     BENEFITS  sales stand uniform ipad marketing materials a...\n",
              "56686     BENEFITS                            regular social evenings\n",
              "56686     BENEFITS                            regular social evenings\n",
              "52714     BENEFITS    8attend staff meetings outside of working hours"
            ]
          },
          "metadata": {
            "tags": []
          }
        },
        {
          "output_type": "stream",
          "text": [
            "\n",
            "'OTHER' predicted as 'BENEFITS' : 30 examples.\n"
          ],
          "name": "stdout"
        },
        {
          "output_type": "display_data",
          "data": {
            "text/html": [
              "<div>\n",
              "<style scoped>\n",
              "    .dataframe tbody tr th:only-of-type {\n",
              "        vertical-align: middle;\n",
              "    }\n",
              "\n",
              "    .dataframe tbody tr th {\n",
              "        vertical-align: top;\n",
              "    }\n",
              "\n",
              "    .dataframe thead th {\n",
              "        text-align: right;\n",
              "    }\n",
              "</style>\n",
              "<table border=\"1\" class=\"dataframe\">\n",
              "  <thead>\n",
              "    <tr style=\"text-align: right;\">\n",
              "      <th></th>\n",
              "      <th>target_label</th>\n",
              "      <th>job_description</th>\n",
              "    </tr>\n",
              "  </thead>\n",
              "  <tbody>\n",
              "    <tr>\n",
              "      <th>31463</th>\n",
              "      <td>OTHER</td>\n",
              "      <td>aircraft de icer 8 50 to 9 50 bonus payable fo...</td>\n",
              "    </tr>\n",
              "    <tr>\n",
              "      <th>11608</th>\n",
              "      <td>OTHER</td>\n",
              "      <td>they are looking for their next batch of train...</td>\n",
              "    </tr>\n",
              "    <tr>\n",
              "      <th>57010</th>\n",
              "      <td>OTHER</td>\n",
              "      <td>the school is in the midst of excellent public...</td>\n",
              "    </tr>\n",
              "    <tr>\n",
              "      <th>486</th>\n",
              "      <td>OTHER</td>\n",
              "      <td>sunday overtime 17 48ph</td>\n",
              "    </tr>\n",
              "    <tr>\n",
              "      <th>486</th>\n",
              "      <td>OTHER</td>\n",
              "      <td>sunday overtime 17 48ph</td>\n",
              "    </tr>\n",
              "    <tr>\n",
              "      <th>486</th>\n",
              "      <td>OTHER</td>\n",
              "      <td>sunday overtime 17 48ph</td>\n",
              "    </tr>\n",
              "    <tr>\n",
              "      <th>486</th>\n",
              "      <td>OTHER</td>\n",
              "      <td>sunday overtime 17 48ph</td>\n",
              "    </tr>\n",
              "    <tr>\n",
              "      <th>15869</th>\n",
              "      <td>OTHER</td>\n",
              "      <td>benefits package</td>\n",
              "    </tr>\n",
              "    <tr>\n",
              "      <th>30573</th>\n",
              "      <td>OTHER</td>\n",
              "      <td>your evenings and weekends can be free and you...</td>\n",
              "    </tr>\n",
              "    <tr>\n",
              "      <th>34353</th>\n",
              "      <td>OTHER</td>\n",
              "      <td>training</td>\n",
              "    </tr>\n",
              "    <tr>\n",
              "      <th>33768</th>\n",
              "      <td>OTHER</td>\n",
              "      <td>9 08 per hour with attractive overtime rates</td>\n",
              "    </tr>\n",
              "    <tr>\n",
              "      <th>44623</th>\n",
              "      <td>OTHER</td>\n",
              "      <td>my clients business is dedicated to providing ...</td>\n",
              "    </tr>\n",
              "    <tr>\n",
              "      <th>6255</th>\n",
              "      <td>OTHER</td>\n",
              "      <td>arsenal football club is one of the leading cl...</td>\n",
              "    </tr>\n",
              "    <tr>\n",
              "      <th>62578</th>\n",
              "      <td>OTHER</td>\n",
              "      <td>opportunities to progress</td>\n",
              "    </tr>\n",
              "    <tr>\n",
              "      <th>20085</th>\n",
              "      <td>OTHER</td>\n",
              "      <td>the successful depot manager or director will ...</td>\n",
              "    </tr>\n",
              "    <tr>\n",
              "      <th>45282</th>\n",
              "      <td>OTHER</td>\n",
              "      <td>c 37k to 39k base plus car or car allowance bo...</td>\n",
              "    </tr>\n",
              "    <tr>\n",
              "      <th>45282</th>\n",
              "      <td>OTHER</td>\n",
              "      <td>c 37k to 39k base plus car or car allowance bo...</td>\n",
              "    </tr>\n",
              "    <tr>\n",
              "      <th>42781</th>\n",
              "      <td>OTHER</td>\n",
              "      <td>pay 8 per hour with shift allowance</td>\n",
              "    </tr>\n",
              "    <tr>\n",
              "      <th>50202</th>\n",
              "      <td>OTHER</td>\n",
              "      <td>a solid career progression in front of house m...</td>\n",
              "    </tr>\n",
              "    <tr>\n",
              "      <th>27341</th>\n",
              "      <td>OTHER</td>\n",
              "      <td>this role will pay up to 40 000</td>\n",
              "    </tr>\n",
              "    <tr>\n",
              "      <th>57296</th>\n",
              "      <td>OTHER</td>\n",
              "      <td>on going and full time</td>\n",
              "    </tr>\n",
              "    <tr>\n",
              "      <th>2778</th>\n",
              "      <td>OTHER</td>\n",
              "      <td>our client offers an excellent working environ...</td>\n",
              "    </tr>\n",
              "    <tr>\n",
              "      <th>34673</th>\n",
              "      <td>OTHER</td>\n",
              "      <td>career wise the firm are highly supportive and...</td>\n",
              "    </tr>\n",
              "    <tr>\n",
              "      <th>9866</th>\n",
              "      <td>OTHER</td>\n",
              "      <td>110 per day 25 tax free night out allowance</td>\n",
              "    </tr>\n",
              "    <tr>\n",
              "      <th>9866</th>\n",
              "      <td>OTHER</td>\n",
              "      <td>110 per day 25 tax free night out allowance</td>\n",
              "    </tr>\n",
              "    <tr>\n",
              "      <th>29984</th>\n",
              "      <td>OTHER</td>\n",
              "      <td>the salary for this role will be between 30 00...</td>\n",
              "    </tr>\n",
              "    <tr>\n",
              "      <th>49584</th>\n",
              "      <td>OTHER</td>\n",
              "      <td>in return you will receive a basic salary of 3...</td>\n",
              "    </tr>\n",
              "    <tr>\n",
              "      <th>2184</th>\n",
              "      <td>OTHER</td>\n",
              "      <td>overtime can be offered</td>\n",
              "    </tr>\n",
              "    <tr>\n",
              "      <th>9268</th>\n",
              "      <td>OTHER</td>\n",
              "      <td>uncapped commission scheme and a basic of 18 2...</td>\n",
              "    </tr>\n",
              "    <tr>\n",
              "      <th>22140</th>\n",
              "      <td>OTHER</td>\n",
              "      <td>the centres offer flexible sessions to parents...</td>\n",
              "    </tr>\n",
              "    <tr>\n",
              "      <th>23760</th>\n",
              "      <td>OTHER</td>\n",
              "      <td>paying 18k to 20k basic plus commission 30k ot...</td>\n",
              "    </tr>\n",
              "    <tr>\n",
              "      <th>57300</th>\n",
              "      <td>OTHER</td>\n",
              "      <td>we offer a flexible honest and reliable recrui...</td>\n",
              "    </tr>\n",
              "    <tr>\n",
              "      <th>15194</th>\n",
              "      <td>OTHER</td>\n",
              "      <td>pension</td>\n",
              "    </tr>\n",
              "    <tr>\n",
              "      <th>35888</th>\n",
              "      <td>OTHER</td>\n",
              "      <td>benefits package</td>\n",
              "    </tr>\n",
              "  </tbody>\n",
              "</table>\n",
              "</div>"
            ],
            "text/plain": [
              "      target_label                                    job_description\n",
              "31463        OTHER  aircraft de icer 8 50 to 9 50 bonus payable fo...\n",
              "11608        OTHER  they are looking for their next batch of train...\n",
              "57010        OTHER  the school is in the midst of excellent public...\n",
              "486          OTHER                            sunday overtime 17 48ph\n",
              "486          OTHER                            sunday overtime 17 48ph\n",
              "486          OTHER                            sunday overtime 17 48ph\n",
              "486          OTHER                            sunday overtime 17 48ph\n",
              "15869        OTHER                                   benefits package\n",
              "30573        OTHER  your evenings and weekends can be free and you...\n",
              "34353        OTHER                                           training\n",
              "33768        OTHER       9 08 per hour with attractive overtime rates\n",
              "44623        OTHER  my clients business is dedicated to providing ...\n",
              "6255         OTHER  arsenal football club is one of the leading cl...\n",
              "62578        OTHER                          opportunities to progress\n",
              "20085        OTHER  the successful depot manager or director will ...\n",
              "45282        OTHER  c 37k to 39k base plus car or car allowance bo...\n",
              "45282        OTHER  c 37k to 39k base plus car or car allowance bo...\n",
              "42781        OTHER                pay 8 per hour with shift allowance\n",
              "50202        OTHER  a solid career progression in front of house m...\n",
              "27341        OTHER                    this role will pay up to 40 000\n",
              "57296        OTHER                             on going and full time\n",
              "2778         OTHER  our client offers an excellent working environ...\n",
              "34673        OTHER  career wise the firm are highly supportive and...\n",
              "9866         OTHER        110 per day 25 tax free night out allowance\n",
              "9866         OTHER        110 per day 25 tax free night out allowance\n",
              "29984        OTHER  the salary for this role will be between 30 00...\n",
              "49584        OTHER  in return you will receive a basic salary of 3...\n",
              "2184         OTHER                            overtime can be offered\n",
              "9268         OTHER  uncapped commission scheme and a basic of 18 2...\n",
              "22140        OTHER  the centres offer flexible sessions to parents...\n",
              "23760        OTHER  paying 18k to 20k basic plus commission 30k ot...\n",
              "57300        OTHER  we offer a flexible honest and reliable recrui...\n",
              "15194        OTHER                                            pension\n",
              "35888        OTHER                                   benefits package"
            ]
          },
          "metadata": {
            "tags": []
          }
        },
        {
          "output_type": "stream",
          "text": [
            "\n"
          ],
          "name": "stdout"
        }
      ]
    },
    {
      "cell_type": "code",
      "metadata": {
        "id": "n4G-pE-zGF29",
        "colab_type": "code",
        "colab": {
          "base_uri": "https://localhost:8080/",
          "height": 514
        },
        "outputId": "f2524d7a-1cc9-436a-9fd6-ea7571fa2858"
      },
      "source": [
        "# correlated words\n",
        "model.fit(features, labels)\n",
        "N = 2\n",
        "for Product, category_id in sorted(category_to_id.items()):\n",
        "  indices = np.argsort(model.coef_[category_id])\n",
        "  feature_names = np.array(tfidf.get_feature_names())[indices]\n",
        "  unigrams = [v for v in reversed(feature_names) if len(v.split(' ')) == 1][:N]\n",
        "  bigrams = [v for v in reversed(feature_names) if len(v.split(' ')) == 2][:N]\n",
        "  print(\"# '{}':\".format(Product))\n",
        "  print(\"  . Top unigrams:\\n       . {}\".format('\\n       . '.join(unigrams)))\n",
        "  print(\"  . Top bigrams:\\n       . {}\".format('\\n       . '.join(bigrams)))"
      ],
      "execution_count": null,
      "outputs": [
        {
          "output_type": "stream",
          "text": [
            "# 'BENEFITS':\n",
            "  . Top unigrams:\n",
            "       . scheme\n",
            "       . free\n",
            "  . Top bigrams:\n",
            "       . 000 benefits\n",
            "       . competitive salary\n",
            "# 'OTHER':\n",
            "  . Top unigrams:\n",
            "       . opportunity\n",
            "       . join\n",
            "  . Top bigrams:\n",
            "       . working targets\n",
            "       . warehouse distribution\n",
            "# 'REQUIREMENTS':\n",
            "  . Top unigrams:\n",
            "       . ability\n",
            "       . able\n",
            "  . Top bigrams:\n",
            "       . experience working\n",
            "       . experience managing\n",
            "# 'RESPONSABILITIES':\n",
            "  . Top unigrams:\n",
            "       . ensure\n",
            "       . ensuring\n",
            "  . Top bigrams:\n",
            "       . professional manner\n",
            "       . work team\n"
          ],
          "name": "stdout"
        }
      ]
    },
    {
      "cell_type": "code",
      "metadata": {
        "id": "LL2Mk0bNGhkN",
        "colab_type": "code",
        "colab": {
          "base_uri": "https://localhost:8080/",
          "height": 212
        },
        "outputId": "371e72fa-a303-48c5-ee4a-0f687fc57097"
      },
      "source": [
        "# final results of the classes of the target variable\n",
        "from sklearn import metrics\n",
        "print(metrics.classification_report(y_test, y_pred, target_names=resultDF['target_label'].unique()))"
      ],
      "execution_count": null,
      "outputs": [
        {
          "output_type": "stream",
          "text": [
            "                  precision    recall  f1-score   support\n",
            "\n",
            "           OTHER       0.87      0.91      0.89      2904\n",
            "    REQUIREMENTS       0.90      0.86      0.88      1737\n",
            "RESPONSABILITIES       0.85      0.84      0.85      1217\n",
            "        BENEFITS       0.87      0.75      0.81       343\n",
            "\n",
            "       micro avg       0.88      0.88      0.88      6201\n",
            "       macro avg       0.87      0.84      0.86      6201\n",
            "    weighted avg       0.88      0.88      0.88      6201\n",
            "\n"
          ],
          "name": "stdout"
        }
      ]
    },
    {
      "cell_type": "code",
      "metadata": {
        "id": "xSkgXZBgBLuE",
        "colab_type": "code",
        "colab": {
          "base_uri": "https://localhost:8080/",
          "height": 34
        },
        "outputId": "192cd089-42a8-47b1-ac48-da3756fbfe05"
      },
      "source": [
        "# text preprocessing, tokenizing and filtering of stopwords are all included in CountVectorizer,\n",
        "# which builds a dictionary of features and transforms documents to feature vectors\n",
        "# text preprocessing, tokenizing and filtering of stopwords are all included in CountVectorizer\n",
        "# dictionary of features and transforms documents to feature vectors\n",
        "from sklearn.feature_extraction.text import CountVectorizer\n",
        "count_vect = CountVectorizer()\n",
        "X_train_counts = count_vect.fit_transform(resultDF.job_description)\n",
        "X_train_counts.shape"
      ],
      "execution_count": null,
      "outputs": [
        {
          "output_type": "execute_result",
          "data": {
            "text/plain": [
              "(18788, 10455)"
            ]
          },
          "metadata": {
            "tags": []
          },
          "execution_count": 33
        }
      ]
    },
    {
      "cell_type": "code",
      "metadata": {
        "id": "yMdjYyWWBX0L",
        "colab_type": "code",
        "colab": {
          "base_uri": "https://localhost:8080/",
          "height": 34
        },
        "outputId": "7a84de20-43e9-4d6a-c82a-0c5acac79ac5"
      },
      "source": [
        "# converting vector to TFIDF\n",
        "# downscale weights for words through TFIDF\n",
        "from sklearn.feature_extraction.text import TfidfTransformer\n",
        "tfidf_transformer = TfidfTransformer()\n",
        "X_train_tfidf = tfidf_transformer.fit_transform(X_train_counts)\n",
        "X_train_tfidf.shape"
      ],
      "execution_count": null,
      "outputs": [
        {
          "output_type": "execute_result",
          "data": {
            "text/plain": [
              "(18788, 10455)"
            ]
          },
          "metadata": {
            "tags": []
          },
          "execution_count": 34
        }
      ]
    },
    {
      "cell_type": "markdown",
      "metadata": {
        "id": "NuYMnPhFF29h",
        "colab_type": "text"
      },
      "source": [
        "***Classifier used Naive bayes***"
      ]
    },
    {
      "cell_type": "code",
      "metadata": {
        "id": "eojf_k-vBcmp",
        "colab_type": "code",
        "colab": {}
      },
      "source": [
        "from sklearn.naive_bayes import MultinomialNB\n",
        "clf = MultinomialNB().fit(X_train_tfidf, resultDF.target_label)"
      ],
      "execution_count": null,
      "outputs": []
    },
    {
      "cell_type": "code",
      "metadata": {
        "id": "KldKymFlByXc",
        "colab_type": "code",
        "colab": {}
      },
      "source": [
        "from sklearn.pipeline import Pipeline\n",
        "\n",
        "# building a pipeline \n",
        "text_clf = Pipeline([('vect', CountVectorizer()), ('tfidf', TfidfTransformer()), ('clf', MultinomialNB()),])\n",
        "\n",
        "# fit the training dataset on the classifier\n",
        "text_clf = text_clf.fit(resultDF.job_description, resultDF.target_label)\n",
        "\n",
        "# predict the labels on testing dataset\n",
        "predicted = text_clf.predict(testset.job_description)"
      ],
      "execution_count": null,
      "outputs": []
    },
    {
      "cell_type": "code",
      "metadata": {
        "id": "dnfBqCWVYvPg",
        "colab_type": "code",
        "colab": {}
      },
      "source": [
        "# predicted labels on testing dataset and its CSV file\n",
        "testset['predicted']=predicted\n",
        "testset.to_csv('NB_test_data.csv')"
      ],
      "execution_count": null,
      "outputs": []
    },
    {
      "cell_type": "markdown",
      "metadata": {
        "id": "hZ2Xafs2F9S9",
        "colab_type": "text"
      },
      "source": [
        "***Classifier used SVM***"
      ]
    },
    {
      "cell_type": "code",
      "metadata": {
        "id": "Gz8PqzBZGF0P",
        "colab_type": "code",
        "colab": {
          "base_uri": "https://localhost:8080/",
          "height": 72
        },
        "outputId": "1ecf7d3b-8f99-4e66-c29e-5b61cf1a4139"
      },
      "source": [
        "from sklearn.linear_model import SGDClassifier\n",
        "\n",
        "# building a pipeline \n",
        "text_clf_svm = Pipeline([('vect', CountVectorizer()), ('tfidf', TfidfTransformer()), ('clf-svm', SGDClassifier(loss='hinge', penalty='l2', alpha=1e-3, n_iter=5, random_state=42)),])\n",
        "\n",
        "# fit the training dataset on the classifier\n",
        "text_clf_svm= text_clf_svm.fit(resultDF.job_description, resultDF.target_label)\n",
        "\n",
        "# predict the labels on testing dataset\n",
        "predicted_svm = text_clf_svm.predict(testset.job_description)"
      ],
      "execution_count": null,
      "outputs": [
        {
          "output_type": "stream",
          "text": [
            "/usr/local/lib/python3.6/dist-packages/sklearn/linear_model/stochastic_gradient.py:152: DeprecationWarning: n_iter parameter is deprecated in 0.19 and will be removed in 0.21. Use max_iter and tol instead.\n",
            "  DeprecationWarning)\n"
          ],
          "name": "stderr"
        }
      ]
    },
    {
      "cell_type": "code",
      "metadata": {
        "id": "jh0yQgSJHrUr",
        "colab_type": "code",
        "colab": {
          "base_uri": "https://localhost:8080/",
          "height": 72
        },
        "outputId": "3425df83-96c3-459a-ec6e-433340077c13"
      },
      "source": [
        "from sklearn.linear_model import SGDClassifier\n",
        "\n",
        "# building a pipeline \n",
        "text_clf_svm = Pipeline([('vect', CountVectorizer(stop_words='english')), ('tfidf', TfidfTransformer()), ('clf-svm', SGDClassifier(loss='hinge', penalty='l2', alpha=1e-3, n_iter=5, random_state=42)),])\n",
        "\n",
        "# fit the training dataset on the classifier\n",
        "text_clf_svm= text_clf_svm.fit(resultDF.job_description, resultDF.target_label)\n",
        "\n",
        "# predict the labels on testing dataset\n",
        "predicted_svm = text_clf_svm.predict(testset.job_description)"
      ],
      "execution_count": null,
      "outputs": [
        {
          "output_type": "stream",
          "text": [
            "/usr/local/lib/python3.6/dist-packages/sklearn/linear_model/stochastic_gradient.py:152: DeprecationWarning: n_iter parameter is deprecated in 0.19 and will be removed in 0.21. Use max_iter and tol instead.\n",
            "  DeprecationWarning)\n"
          ],
          "name": "stderr"
        }
      ]
    },
    {
      "cell_type": "code",
      "metadata": {
        "id": "zoW_wzXLnqAL",
        "colab_type": "code",
        "colab": {
          "base_uri": "https://localhost:8080/",
          "height": 72
        },
        "outputId": "d64c66ee-461a-40f7-cc3d-95849699df77"
      },
      "source": [
        "from nltk.stem.snowball import SnowballStemmer\n",
        "\n",
        "# stemmer is the process of reducing inflected words to their word stem\n",
        "stemmer = SnowballStemmer(\"english\", ignore_stopwords=True)\n",
        "\n",
        "# stemmer\n",
        "class StemmedCountVectorizer(CountVectorizer):\n",
        "    def build_analyzer(self):\n",
        "        analyzer = super(StemmedCountVectorizer, self).build_analyzer()\n",
        "        return lambda doc: ([stemmer.stem(w) for w in analyzer(doc)])\n",
        "stemmed_count_vect = StemmedCountVectorizer(stop_words='english')\n",
        "\n",
        "# building pipeline\n",
        "text_mnb_stemmed = Pipeline([('vect', stemmed_count_vect), ('tfidf', TfidfTransformer()), ('clf-svm', SGDClassifier(loss='hinge', penalty='l2', alpha=1e-3, n_iter=5, random_state=42)), ])\n",
        "\n",
        "# fit the training dataset on the classifier\n",
        "text_mnb_stemmed = text_mnb_stemmed.fit(resultDF.job_description, resultDF.target_label)\n",
        "\n",
        "# predict the labels on testing dataset\n",
        "predicted_mnb_stemmed = text_mnb_stemmed.predict(testset.job_description)"
      ],
      "execution_count": null,
      "outputs": [
        {
          "output_type": "stream",
          "text": [
            "/usr/local/lib/python3.6/dist-packages/sklearn/linear_model/stochastic_gradient.py:152: DeprecationWarning: n_iter parameter is deprecated in 0.19 and will be removed in 0.21. Use max_iter and tol instead.\n",
            "  DeprecationWarning)\n"
          ],
          "name": "stderr"
        }
      ]
    },
    {
      "cell_type": "code",
      "metadata": {
        "id": "yi6cJpgjaLfh",
        "colab_type": "code",
        "colab": {}
      },
      "source": [
        "# predicted labels on testing dataset and its CSV file\n",
        "testset['predicted_svm']=predicted_svm\n",
        "testset.to_csv('SVM_test_data.csv')"
      ],
      "execution_count": null,
      "outputs": []
    },
    {
      "cell_type": "markdown",
      "metadata": {
        "id": "EifkD4gCMBq1",
        "colab_type": "text"
      },
      "source": [
        "***Using Glove embedding with CNN for text classification***"
      ]
    },
    {
      "cell_type": "code",
      "metadata": {
        "id": "Z_RZL1UzMATk",
        "colab_type": "code",
        "colab": {
          "base_uri": "https://localhost:8080/",
          "height": 2435
        },
        "outputId": "f21a590c-f42e-40ea-cae2-3608329d30b5"
      },
      "source": [
        "# installing deep learning library\n",
        "!pip3 install deeppavlov"
      ],
      "execution_count": null,
      "outputs": [
        {
          "output_type": "stream",
          "text": [
            "Collecting deeppavlov\n",
            "  Using cached https://files.pythonhosted.org/packages/ab/92/33166dcd4fd87b171d5d37a87e19fc936e97f0a7ddbe2e7c0cdae7ceabb6/deeppavlov-0.2.0-py3-none-any.whl\n",
            "Collecting Cython==0.28.5 (from deeppavlov)\n",
            "\u001b[?25l  Downloading https://files.pythonhosted.org/packages/19/8e/32b280abb0947a96cdbb8329fb2014851a21fc1d099009f946ea8a8202c3/Cython-0.28.5-cp36-cp36m-manylinux1_x86_64.whl (3.4MB)\n",
            "\u001b[K    100% |████████████████████████████████| 3.4MB 12.8MB/s \n",
            "\u001b[?25hCollecting requests==2.19.1 (from deeppavlov)\n",
            "\u001b[?25l  Downloading https://files.pythonhosted.org/packages/65/47/7e02164a2a3db50ed6d8a6ab1d6d60b69c4c3fdf57a284257925dfc12bda/requests-2.19.1-py2.py3-none-any.whl (91kB)\n",
            "\u001b[K    100% |████████████████████████████████| 92kB 34.5MB/s \n",
            "\u001b[?25hCollecting pandas==0.23.1 (from deeppavlov)\n",
            "  Using cached https://files.pythonhosted.org/packages/57/eb/6ab533ea8e35e7dd159af6922ac1123d4565d89f3926ad9a6aa46530978f/pandas-0.23.1-cp36-cp36m-manylinux1_x86_64.whl\n",
            "Collecting scipy==1.1.0 (from deeppavlov)\n",
            "\u001b[?25l  Downloading https://files.pythonhosted.org/packages/a8/0b/f163da98d3a01b3e0ef1cab8dd2123c34aee2bafbb1c5bffa354cc8a1730/scipy-1.1.0-cp36-cp36m-manylinux1_x86_64.whl (31.2MB)\n",
            "\u001b[K    100% |████████████████████████████████| 31.2MB 1.5MB/s \n",
            "\u001b[?25hRequirement already satisfied: nltk==3.2.5 in /usr/local/lib/python3.6/dist-packages (from deeppavlov) (3.2.5)\n",
            "Collecting flasgger==0.9.1 (from deeppavlov)\n",
            "\u001b[?25l  Downloading https://files.pythonhosted.org/packages/f7/4c/8735be27bebb88b0acbdc9db1d522583db10821aec3d3fb6112df0f41701/flasgger-0.9.1-py2.py3-none-any.whl (4.1MB)\n",
            "\u001b[K    100% |████████████████████████████████| 4.1MB 11.0MB/s \n",
            "\u001b[?25hCollecting keras==2.2.0 (from deeppavlov)\n",
            "\u001b[?25l  Downloading https://files.pythonhosted.org/packages/68/12/4cabc5c01451eb3b413d19ea151f36e33026fc0efb932bf51bcaf54acbf5/Keras-2.2.0-py2.py3-none-any.whl (300kB)\n",
            "\u001b[K    100% |████████████████████████████████| 307kB 29.8MB/s \n",
            "\u001b[?25hCollecting scikit-learn==0.19.1 (from deeppavlov)\n",
            "  Using cached https://files.pythonhosted.org/packages/3d/2d/9fbc7baa5f44bc9e88ffb7ed32721b879bfa416573e85031e16f52569bc9/scikit_learn-0.19.1-cp36-cp36m-manylinux1_x86_64.whl\n",
            "Requirement already satisfied: flask==1.0.2 in /usr/local/lib/python3.6/dist-packages (from deeppavlov) (1.0.2)\n",
            "Collecting numpy==1.14.5 (from deeppavlov)\n",
            "\u001b[?25l  Downloading https://files.pythonhosted.org/packages/68/1e/116ad560de97694e2d0c1843a7a0075cc9f49e922454d32f49a80eb6f1f2/numpy-1.14.5-cp36-cp36m-manylinux1_x86_64.whl (12.2MB)\n",
            "\u001b[K    100% |████████████████████████████████| 12.2MB 4.9MB/s \n",
            "\u001b[?25hCollecting flask-cors==3.0.6 (from deeppavlov)\n",
            "  Downloading https://files.pythonhosted.org/packages/d1/db/f3495569d5c3e2bdb9fb8a66c54503364abb6f35a9da2227cf5c9c50dc42/Flask_Cors-3.0.6-py2.py3-none-any.whl\n",
            "Collecting pytelegrambotapi==3.5.2 (from deeppavlov)\n",
            "  Using cached https://files.pythonhosted.org/packages/a4/5a/7aab147b253f19e5ef007316f39cf693a63d5cd7f654c3805c76f6bde979/pyTelegramBotAPI-3.5.2.tar.gz\n",
            "Collecting tqdm==4.23.4 (from deeppavlov)\n",
            "  Using cached https://files.pythonhosted.org/packages/93/24/6ab1df969db228aed36a648a8959d1027099ce45fad67532b9673d533318/tqdm-4.23.4-py2.py3-none-any.whl\n",
            "Collecting pyopenssl==18.0.0 (from deeppavlov)\n",
            "\u001b[?25l  Downloading https://files.pythonhosted.org/packages/96/af/9d29e6bd40823061aea2e0574ccb2fcf72bfd6130ce53d32773ec375458c/pyOpenSSL-18.0.0-py2.py3-none-any.whl (53kB)\n",
            "\u001b[K    100% |████████████████████████████████| 61kB 30.8MB/s \n",
            "\u001b[?25hRequirement already satisfied: h5py==2.8.0 in /usr/local/lib/python3.6/dist-packages (from deeppavlov) (2.8.0)\n",
            "Collecting fuzzywuzzy==0.16.0 (from deeppavlov)\n",
            "  Downloading https://files.pythonhosted.org/packages/3b/36/be990a35c7e8ed9dc176c43b5699cd971cec0b6f9ef858843374171df4f2/fuzzywuzzy-0.16.0-py2.py3-none-any.whl\n",
            "Collecting overrides==1.9 (from deeppavlov)\n",
            "  Using cached https://files.pythonhosted.org/packages/de/55/3100c6d14c1ed177492fcf8f07c4a7d2d6c996c0a7fc6a9a0a41308e7eec/overrides-1.9.tar.gz\n",
            "Collecting pymorphy2-dicts-ru (from deeppavlov)\n",
            "\u001b[?25l  Downloading https://files.pythonhosted.org/packages/7c/9b/358faaff410f65a4ad159275e897b5956dcb20576c5b8e764b971c1634d7/pymorphy2_dicts_ru-2.4.404381.4453942-py2.py3-none-any.whl (8.0MB)\n",
            "\u001b[K    100% |████████████████████████████████| 8.0MB 6.2MB/s \n",
            "\u001b[?25hCollecting rusenttokenize==0.0.4 (from deeppavlov)\n",
            "  Downloading https://files.pythonhosted.org/packages/f8/4c/e2aeee9cdcc266303289ad8c4acfdcf401781646bcc311ee2bf18f84d663/rusenttokenize-0.0.4-py3-none-any.whl\n",
            "Collecting pymorphy2==0.8 (from deeppavlov)\n",
            "\u001b[?25l  Downloading https://files.pythonhosted.org/packages/a3/33/fff9675c68b5f6c63ec8c6e6ff57827dda28a1fa5b2c2d727dffff92dd47/pymorphy2-0.8-py2.py3-none-any.whl (46kB)\n",
            "\u001b[K    100% |████████████████████████████████| 51kB 25.0MB/s \n",
            "\u001b[?25hRequirement already satisfied: urllib3<1.24,>=1.21.1 in /usr/local/lib/python3.6/dist-packages (from requests==2.19.1->deeppavlov) (1.22)\n",
            "Requirement already satisfied: idna<2.8,>=2.5 in /usr/local/lib/python3.6/dist-packages (from requests==2.19.1->deeppavlov) (2.6)\n",
            "Requirement already satisfied: chardet<3.1.0,>=3.0.2 in /usr/local/lib/python3.6/dist-packages (from requests==2.19.1->deeppavlov) (3.0.4)\n",
            "Requirement already satisfied: certifi>=2017.4.17 in /usr/local/lib/python3.6/dist-packages (from requests==2.19.1->deeppavlov) (2019.3.9)\n",
            "Requirement already satisfied: python-dateutil>=2.5.0 in /usr/local/lib/python3.6/dist-packages (from pandas==0.23.1->deeppavlov) (2.5.3)\n",
            "Requirement already satisfied: pytz>=2011k in /usr/local/lib/python3.6/dist-packages (from pandas==0.23.1->deeppavlov) (2018.9)\n",
            "Requirement already satisfied: six in /usr/local/lib/python3.6/dist-packages (from nltk==3.2.5->deeppavlov) (1.11.0)\n",
            "Requirement already satisfied: PyYAML>=3.0 in /usr/local/lib/python3.6/dist-packages (from flasgger==0.9.1->deeppavlov) (3.13)\n",
            "Requirement already satisfied: mistune in /usr/local/lib/python3.6/dist-packages (from flasgger==0.9.1->deeppavlov) (0.8.4)\n",
            "Requirement already satisfied: jsonschema>=2.5.1 in /usr/local/lib/python3.6/dist-packages (from flasgger==0.9.1->deeppavlov) (2.6.0)\n",
            "Collecting keras-preprocessing==1.0.1 (from keras==2.2.0->deeppavlov)\n",
            "  Downloading https://files.pythonhosted.org/packages/f8/33/275506afe1d96b221f66f95adba94d1b73f6b6087cfb6132a5655b6fe338/Keras_Preprocessing-1.0.1-py2.py3-none-any.whl\n",
            "Collecting keras-applications==1.0.2 (from keras==2.2.0->deeppavlov)\n",
            "\u001b[?25l  Downloading https://files.pythonhosted.org/packages/e2/60/c557075e586e968d7a9c314aa38c236b37cb3ee6b37e8d57152b1a5e0b47/Keras_Applications-1.0.2-py2.py3-none-any.whl (43kB)\n",
            "\u001b[K    100% |████████████████████████████████| 51kB 30.1MB/s \n",
            "\u001b[?25hRequirement already satisfied: itsdangerous>=0.24 in /usr/local/lib/python3.6/dist-packages (from flask==1.0.2->deeppavlov) (1.1.0)\n",
            "Requirement already satisfied: Werkzeug>=0.14 in /usr/local/lib/python3.6/dist-packages (from flask==1.0.2->deeppavlov) (0.15.2)\n",
            "Requirement already satisfied: Jinja2>=2.10 in /usr/local/lib/python3.6/dist-packages (from flask==1.0.2->deeppavlov) (2.10.1)\n",
            "Requirement already satisfied: click>=5.1 in /usr/local/lib/python3.6/dist-packages (from flask==1.0.2->deeppavlov) (7.0)\n",
            "Collecting cryptography>=2.2.1 (from pyopenssl==18.0.0->deeppavlov)\n",
            "\u001b[?25l  Downloading https://files.pythonhosted.org/packages/5b/12/b0409a94dad366d98a8eee2a77678c7a73aafd8c0e4b835abea634ea3896/cryptography-2.6.1-cp34-abi3-manylinux1_x86_64.whl (2.3MB)\n",
            "\u001b[K    100% |████████████████████████████████| 2.3MB 16.0MB/s \n",
            "\u001b[?25hRequirement already satisfied: docopt>=0.6 in /usr/local/lib/python3.6/dist-packages (from pymorphy2==0.8->deeppavlov) (0.6.2)\n",
            "Collecting pymorphy2-dicts<3.0,>=2.4 (from pymorphy2==0.8->deeppavlov)\n",
            "\u001b[?25l  Downloading https://files.pythonhosted.org/packages/02/51/2465fd4f72328ab50877b54777764d928da8cb15b74e2680fc1bd8cb3173/pymorphy2_dicts-2.4.393442.3710985-py2.py3-none-any.whl (7.1MB)\n",
            "\u001b[K    100% |████████████████████████████████| 7.1MB 6.8MB/s \n",
            "\u001b[?25hCollecting dawg-python>=0.7 (from pymorphy2==0.8->deeppavlov)\n",
            "  Downloading https://files.pythonhosted.org/packages/6a/84/ff1ce2071d4c650ec85745766c0047ccc3b5036f1d03559fd46bb38b5eeb/DAWG_Python-0.7.2-py2.py3-none-any.whl\n",
            "Requirement already satisfied: MarkupSafe>=0.23 in /usr/local/lib/python3.6/dist-packages (from Jinja2>=2.10->flask==1.0.2->deeppavlov) (1.1.1)\n",
            "Collecting asn1crypto>=0.21.0 (from cryptography>=2.2.1->pyopenssl==18.0.0->deeppavlov)\n",
            "\u001b[?25l  Downloading https://files.pythonhosted.org/packages/ea/cd/35485615f45f30a510576f1a56d1e0a7ad7bd8ab5ed7cdc600ef7cd06222/asn1crypto-0.24.0-py2.py3-none-any.whl (101kB)\n",
            "\u001b[K    100% |████████████████████████████████| 102kB 33.9MB/s \n",
            "\u001b[?25hRequirement already satisfied: cffi!=1.11.3,>=1.8 in /usr/local/lib/python3.6/dist-packages (from cryptography>=2.2.1->pyopenssl==18.0.0->deeppavlov) (1.12.2)\n",
            "Requirement already satisfied: pycparser in /usr/local/lib/python3.6/dist-packages (from cffi!=1.11.3,>=1.8->cryptography>=2.2.1->pyopenssl==18.0.0->deeppavlov) (2.19)\n",
            "Building wheels for collected packages: pytelegrambotapi, overrides\n",
            "  Building wheel for pytelegrambotapi (setup.py) ... \u001b[?25ldone\n",
            "\u001b[?25h  Stored in directory: /root/.cache/pip/wheels/b0/a0/fa/c3539fd47aa9f834230d64039c4bc620463bc7afc39b0f3f35\n",
            "  Building wheel for overrides (setup.py) ... \u001b[?25ldone\n",
            "\u001b[?25h  Stored in directory: /root/.cache/pip/wheels/8d/52/86/e5a83b1797e7d263b458d2334edd2704c78508b3eea9323718\n",
            "Successfully built pytelegrambotapi overrides\n",
            "\u001b[31myellowbrick 0.9.1 has requirement scikit-learn>=0.20, but you'll have scikit-learn 0.19.1 which is incompatible.\u001b[0m\n",
            "\u001b[31mtensorflow 1.13.1 has requirement keras-applications>=1.0.6, but you'll have keras-applications 1.0.2 which is incompatible.\u001b[0m\n",
            "\u001b[31mtensorflow 1.13.1 has requirement keras-preprocessing>=1.0.5, but you'll have keras-preprocessing 1.0.1 which is incompatible.\u001b[0m\n",
            "\u001b[31mspacy 2.0.18 has requirement numpy>=1.15.0, but you'll have numpy 1.14.5 which is incompatible.\u001b[0m\n",
            "\u001b[31mimgaug 0.2.8 has requirement numpy>=1.15.0, but you'll have numpy 1.14.5 which is incompatible.\u001b[0m\n",
            "\u001b[31mimbalanced-learn 0.4.3 has requirement scikit-learn>=0.20, but you'll have scikit-learn 0.19.1 which is incompatible.\u001b[0m\n",
            "\u001b[31mgoogle-colab 1.0.0 has requirement requests~=2.18.0, but you'll have requests 2.19.1 which is incompatible.\u001b[0m\n",
            "\u001b[31mfastai 1.0.51 has requirement numpy>=1.15, but you'll have numpy 1.14.5 which is incompatible.\u001b[0m\n",
            "\u001b[31mdatascience 0.10.6 has requirement folium==0.2.1, but you'll have folium 0.8.3 which is incompatible.\u001b[0m\n",
            "\u001b[31malbumentations 0.1.12 has requirement imgaug<0.2.7,>=0.2.5, but you'll have imgaug 0.2.8 which is incompatible.\u001b[0m\n",
            "Installing collected packages: Cython, requests, numpy, pandas, scipy, flasgger, keras-preprocessing, keras-applications, keras, scikit-learn, flask-cors, pytelegrambotapi, tqdm, asn1crypto, cryptography, pyopenssl, fuzzywuzzy, overrides, pymorphy2-dicts-ru, rusenttokenize, pymorphy2-dicts, dawg-python, pymorphy2, deeppavlov\n",
            "  Found existing installation: Cython 0.29.6\n",
            "    Uninstalling Cython-0.29.6:\n",
            "      Successfully uninstalled Cython-0.29.6\n",
            "  Found existing installation: requests 2.18.4\n",
            "    Uninstalling requests-2.18.4:\n",
            "      Successfully uninstalled requests-2.18.4\n",
            "  Found existing installation: numpy 1.16.2\n",
            "    Uninstalling numpy-1.16.2:\n",
            "      Successfully uninstalled numpy-1.16.2\n",
            "  Found existing installation: pandas 0.24.1\n",
            "    Uninstalling pandas-0.24.1:\n",
            "      Successfully uninstalled pandas-0.24.1\n",
            "  Found existing installation: scipy 1.2.1\n",
            "    Uninstalling scipy-1.2.1:\n",
            "      Successfully uninstalled scipy-1.2.1\n",
            "  Found existing installation: Keras-Preprocessing 1.0.9\n",
            "    Uninstalling Keras-Preprocessing-1.0.9:\n",
            "      Successfully uninstalled Keras-Preprocessing-1.0.9\n",
            "  Found existing installation: Keras-Applications 1.0.7\n",
            "    Uninstalling Keras-Applications-1.0.7:\n",
            "      Successfully uninstalled Keras-Applications-1.0.7\n",
            "  Found existing installation: Keras 2.2.4\n",
            "    Uninstalling Keras-2.2.4:\n",
            "      Successfully uninstalled Keras-2.2.4\n",
            "  Found existing installation: scikit-learn 0.20.3\n",
            "    Uninstalling scikit-learn-0.20.3:\n",
            "      Successfully uninstalled scikit-learn-0.20.3\n",
            "  Found existing installation: tqdm 4.28.1\n",
            "    Uninstalling tqdm-4.28.1:\n",
            "      Successfully uninstalled tqdm-4.28.1\n",
            "Successfully installed Cython-0.28.5 asn1crypto-0.24.0 cryptography-2.6.1 dawg-python-0.7.2 deeppavlov-0.2.0 flasgger-0.9.1 flask-cors-3.0.6 fuzzywuzzy-0.16.0 keras-2.2.0 keras-applications-1.0.2 keras-preprocessing-1.0.1 numpy-1.14.5 overrides-1.9 pandas-0.23.1 pymorphy2-0.8 pymorphy2-dicts-2.4.393442.3710985 pymorphy2-dicts-ru-2.4.404381.4453942 pyopenssl-18.0.0 pytelegrambotapi-3.5.2 requests-2.19.1 rusenttokenize-0.0.4 scikit-learn-0.19.1 scipy-1.1.0 tqdm-4.23.4\n"
          ],
          "name": "stdout"
        },
        {
          "output_type": "display_data",
          "data": {
            "application/vnd.colab-display-data+json": {
              "pip_warning": {
                "packages": [
                  "numpy",
                  "pandas",
                  "requests",
                  "scipy",
                  "sklearn"
                ]
              }
            }
          },
          "metadata": {
            "tags": []
          }
        }
      ]
    },
    {
      "cell_type": "code",
      "metadata": {
        "id": "UxfyoBRGN-J5",
        "colab_type": "code",
        "colab": {}
      },
      "source": [
        "# importing the file\n",
        "from deeppavlov.dataset_readers.basic_classification_reader import BasicClassificationDatasetReader"
      ],
      "execution_count": null,
      "outputs": []
    },
    {
      "cell_type": "code",
      "metadata": {
        "id": "9UnOcM4mOAFd",
        "colab_type": "code",
        "colab": {
          "base_uri": "https://localhost:8080/",
          "height": 72
        },
        "outputId": "11f90378-3f75-468b-83e1-2db53921c5fb"
      },
      "source": [
        "# reading the test dataset \n",
        "dr = BasicClassificationDatasetReader().read(\n",
        "    data_path='/content/',\n",
        "    train='dataset.csv',\n",
        "    x = 'job_description',\n",
        "    y = 'target_label'\n",
        ")"
      ],
      "execution_count": null,
      "outputs": [
        {
          "output_type": "stream",
          "text": [
            "2019-04-22 13:08:03.230 WARNING in 'deeppavlov.dataset_readers.basic_classification_reader'['basic_classification_reader'] at line 95: Cannot find /content/valid.csv file\n",
            "2019-04-22 13:08:03.231 WARNING in 'deeppavlov.dataset_readers.basic_classification_reader'['basic_classification_reader'] at line 95: Cannot find /content/test.csv file\n"
          ],
          "name": "stderr"
        }
      ]
    },
    {
      "cell_type": "code",
      "metadata": {
        "id": "68h6j6YnORc_",
        "colab_type": "code",
        "colab": {
          "base_uri": "https://localhost:8080/",
          "height": 34
        },
        "outputId": "79a2f0ad-77a5-4883-c99f-b2fd882b3308"
      },
      "source": [
        "# checking train/valid/test sizes\n",
        "[(k, len(dr[k])) for k in dr.keys()]"
      ],
      "execution_count": null,
      "outputs": [
        {
          "output_type": "execute_result",
          "data": {
            "text/plain": [
              "[('train', 62627), ('valid', 0), ('test', 0)]"
            ]
          },
          "metadata": {
            "tags": []
          },
          "execution_count": 94
        }
      ]
    },
    {
      "cell_type": "markdown",
      "metadata": {
        "id": "TzyHoTcX7Xmk",
        "colab_type": "text"
      },
      "source": [
        "***Use BasicClassificationDatasetIterator to split train on train and valid and to generate batches of samples***"
      ]
    },
    {
      "cell_type": "code",
      "metadata": {
        "id": "goLj0nW3OVBt",
        "colab_type": "code",
        "colab": {}
      },
      "source": [
        "# importing library\n",
        "from deeppavlov.dataset_iterators.basic_classification_iterator import BasicClassificationDatasetIterator"
      ],
      "execution_count": null,
      "outputs": []
    },
    {
      "cell_type": "code",
      "metadata": {
        "id": "sF7A4YVsOXzh",
        "colab_type": "code",
        "colab": {
          "base_uri": "https://localhost:8080/",
          "height": 54
        },
        "outputId": "f3676c4a-7658-4dd5-a93e-468f38f6e858"
      },
      "source": [
        "# data iterator splitting train  and valid in proportion 0.8/0.2\n",
        "train_iterator = BasicClassificationDatasetIterator(\n",
        "    data=dr,\n",
        "    field_to_split='train',  # field that will be splitted\n",
        "    split_fields=['train', 'valid'],   # fields to which the field above will be splitted\n",
        "    split_proportions=[0.8, 0.2],  #proportions for splitting\n",
        "    split_seed=23,  # seed for splitting dataset\n",
        "    seed=42)  # seed for iteration over dataset"
      ],
      "execution_count": null,
      "outputs": [
        {
          "output_type": "stream",
          "text": [
            "2019-04-22 13:08:03.266 INFO in 'deeppavlov.dataset_iterators.basic_classification_iterator'['basic_classification_iterator'] at line 73: Splitting field <<train>> to new fields <<['train', 'valid']>>\n"
          ],
          "name": "stderr"
        }
      ]
    },
    {
      "cell_type": "code",
      "metadata": {
        "id": "xe1Y2qzHOaeW",
        "colab_type": "code",
        "colab": {
          "base_uri": "https://localhost:8080/",
          "height": 303
        },
        "outputId": "d55768d3-0716-4854-9fa3-a71f371067d2"
      },
      "source": [
        "# checking train instances \n",
        "x_train, y_train = train_iterator.get_instances(data_type='train')\n",
        "for x, y in list(zip(x_train, y_train))[:5]:\n",
        "    print('x:', x)\n",
        "    print('y:', y)\n",
        "    print('=================')"
      ],
      "execution_count": null,
      "outputs": [
        {
          "output_type": "stream",
          "text": [
            "x: our mission is to build long-term relationships and help clients and candidates find the perfect match\n",
            "y: ['OTHER']\n",
            "=================\n",
            "x: previous work in a manufacturing assembly environment using a variety of hand tools\n",
            "y: ['REQUIREMENTS']\n",
            "=================\n",
            "x: the firm welcome applications with strong organisational skills who are able to demonstrate their ability to manage and prioritise large workloads\n",
            "y: ['REQUIREMENTS']\n",
            "=================\n",
            "x: you must have experience in working with 0-5 years hold a childcare qualification and a current crb\n",
            "y: ['REQUIREMENTS']\n",
            "=================\n",
            "x: regard recruitment is an employment agency and is committed to equal opportunities\n",
            "y: ['OTHER']\n",
            "=================\n"
          ],
          "name": "stdout"
        }
      ]
    },
    {
      "cell_type": "code",
      "metadata": {
        "id": "vkqAx9NfOgbz",
        "colab_type": "code",
        "colab": {}
      },
      "source": [
        "# importing library\n",
        "from deeppavlov.models.preprocessors.str_lower import StrLower"
      ],
      "execution_count": null,
      "outputs": []
    },
    {
      "cell_type": "code",
      "metadata": {
        "id": "QkMN6RBoPRlu",
        "colab_type": "code",
        "colab": {}
      },
      "source": [
        "# lowercase the text\n",
        "str_lower = StrLower()"
      ],
      "execution_count": null,
      "outputs": []
    },
    {
      "cell_type": "code",
      "metadata": {
        "id": "OUkIdPcwPVRN",
        "colab_type": "code",
        "colab": {}
      },
      "source": [
        "# importing the library\n",
        "# NLTKTokenizer can split string to tokens\n",
        "from deeppavlov.models.tokenizers.nltk_moses_tokenizer import NLTKMosesTokenizer"
      ],
      "execution_count": null,
      "outputs": []
    },
    {
      "cell_type": "code",
      "metadata": {
        "id": "I8S97lzkPXJx",
        "colab_type": "code",
        "colab": {}
      },
      "source": [
        "# generating token\n",
        "tokenizer = NLTKMosesTokenizer()"
      ],
      "execution_count": null,
      "outputs": []
    },
    {
      "cell_type": "code",
      "metadata": {
        "id": "TiYY7Pz5PZ5o",
        "colab_type": "code",
        "colab": {}
      },
      "source": [
        "# generating token on the training dataset-independent variable\n",
        "# Let's preprocess all train part of the dataset\n",
        "train_x_lower_tokenized = str_lower(tokenizer(train_iterator.get_instances(data_type='train')[0]))"
      ],
      "execution_count": null,
      "outputs": []
    },
    {
      "cell_type": "markdown",
      "metadata": {
        "id": "iPk2Syyb6jyE",
        "colab_type": "text"
      },
      "source": [
        "**extracting class labels and converting labels to indices and building of characters or tokens vocabularies **\n",
        "\n"
      ]
    },
    {
      "cell_type": "code",
      "metadata": {
        "id": "tV37PA9NPf9H",
        "colab_type": "code",
        "colab": {}
      },
      "source": [
        "# importing library\n",
        "from deeppavlov.core.data.simple_vocab import SimpleVocabulary"
      ],
      "execution_count": null,
      "outputs": []
    },
    {
      "cell_type": "code",
      "metadata": {
        "id": "wZpv4cQCPiuv",
        "colab_type": "code",
        "colab": {
          "base_uri": "https://localhost:8080/",
          "height": 54
        },
        "outputId": "2110896a-c82e-4cb0-d512-3225a5979d5a"
      },
      "source": [
        "# initialize vocabulary to collect all appeared in the dataset classes\n",
        "classes_vocab = SimpleVocabulary(\n",
        "    save_path='./snips/classes.dict',\n",
        "    load_path='./snips/classes.dict')"
      ],
      "execution_count": null,
      "outputs": [
        {
          "output_type": "stream",
          "text": [
            "2019-04-22 13:08:09.50 INFO in 'deeppavlov.core.data.simple_vocab'['simple_vocab'] at line 103: [loading vocabulary from /content/snips/classes.dict]\n"
          ],
          "name": "stderr"
        }
      ]
    },
    {
      "cell_type": "code",
      "metadata": {
        "id": "bLs87lJjPlDK",
        "colab_type": "code",
        "colab": {
          "base_uri": "https://localhost:8080/",
          "height": 54
        },
        "outputId": "fff297dc-54a7-4f2f-a55a-7484dbc7e138"
      },
      "source": [
        "# saving instances of the dataset classes\n",
        "classes_vocab.fit((train_iterator.get_instances(data_type='train')[1]))\n",
        "classes_vocab.save()"
      ],
      "execution_count": null,
      "outputs": [
        {
          "output_type": "stream",
          "text": [
            "2019-04-22 13:08:09.434 INFO in 'deeppavlov.core.data.simple_vocab'['simple_vocab'] at line 89: [saving vocabulary to /content/snips/classes.dict]\n"
          ],
          "name": "stderr"
        }
      ]
    },
    {
      "cell_type": "code",
      "metadata": {
        "id": "sYEbLnvDPnSG",
        "colab_type": "code",
        "colab": {
          "base_uri": "https://localhost:8080/",
          "height": 34
        },
        "outputId": "896d0632-b913-481c-cc7e-8ed95829beb5"
      },
      "source": [
        "# there are 4 classes of the target variable\n",
        "list(classes_vocab.items())"
      ],
      "execution_count": null,
      "outputs": [
        {
          "output_type": "execute_result",
          "data": {
            "text/plain": [
              "[('OTHER', 0), ('REQUIREMENTS', 1), ('RESPONSABILITIES', 2), ('BENEFITS', 3)]"
            ]
          },
          "metadata": {
            "tags": []
          },
          "execution_count": 106
        }
      ]
    },
    {
      "cell_type": "code",
      "metadata": {
        "id": "zKnQSTBEPpT6",
        "colab_type": "code",
        "colab": {
          "base_uri": "https://localhost:8080/",
          "height": 54
        },
        "outputId": "5374769f-58f1-428b-99ef-ce5fb19e85b5"
      },
      "source": [
        "# vocabulary of textual tokens appeared 2 and more times in the dataset\n",
        "token_vocab = SimpleVocabulary(\n",
        "    save_path='./snips/tokens.dict',\n",
        "    load_path='./snips/tokens.dict',\n",
        "    min_freq=2,\n",
        "    special_tokens=('<PAD>', '<UNK>',),\n",
        "    unk_token='<UNK>')"
      ],
      "execution_count": null,
      "outputs": [
        {
          "output_type": "stream",
          "text": [
            "2019-04-22 13:08:09.455 INFO in 'deeppavlov.core.data.simple_vocab'['simple_vocab'] at line 103: [loading vocabulary from /content/snips/tokens.dict]\n"
          ],
          "name": "stderr"
        }
      ]
    },
    {
      "cell_type": "code",
      "metadata": {
        "id": "B59ZWhrjPwsP",
        "colab_type": "code",
        "colab": {
          "base_uri": "https://localhost:8080/",
          "height": 54
        },
        "outputId": "e06cc3d9-4b60-449a-e33c-bf22e6112570"
      },
      "source": [
        "# saving the vocabulary\n",
        "token_vocab.fit(train_x_lower_tokenized)\n",
        "token_vocab.save()"
      ],
      "execution_count": null,
      "outputs": [
        {
          "output_type": "stream",
          "text": [
            "2019-04-22 13:08:10.950 INFO in 'deeppavlov.core.data.simple_vocab'['simple_vocab'] at line 89: [saving vocabulary to /content/snips/tokens.dict]\n"
          ],
          "name": "stderr"
        }
      ]
    },
    {
      "cell_type": "code",
      "metadata": {
        "id": "k_23hRs4PzpO",
        "colab_type": "code",
        "colab": {
          "base_uri": "https://localhost:8080/",
          "height": 34
        },
        "outputId": "f2dee545-bbec-4d72-b210-62f376bb613e"
      },
      "source": [
        "# number of tokens in dictionary\n",
        "len(token_vocab)"
      ],
      "execution_count": null,
      "outputs": [
        {
          "output_type": "execute_result",
          "data": {
            "text/plain": [
              "10807"
            ]
          },
          "metadata": {
            "tags": []
          },
          "execution_count": 109
        }
      ]
    },
    {
      "cell_type": "code",
      "metadata": {
        "id": "G4Fh_AYsP2dW",
        "colab_type": "code",
        "colab": {
          "base_uri": "https://localhost:8080/",
          "height": 194
        },
        "outputId": "b71d568e-0e99-4e5e-a95a-8c712f007f16"
      },
      "source": [
        "# 10 most common words and number of times their appeared\n",
        "token_vocab.freqs.most_common()[:10]"
      ],
      "execution_count": null,
      "outputs": [
        {
          "output_type": "execute_result",
          "data": {
            "text/plain": [
              "[('and', 30246),\n",
              " ('to', 23538),\n",
              " ('the', 22467),\n",
              " ('a', 18228),\n",
              " ('of', 16416),\n",
              " ('in', 11932),\n",
              " ('for', 9641),\n",
              " ('with', 8710),\n",
              " ('you', 8475),\n",
              " ('will', 7746)]"
            ]
          },
          "metadata": {
            "tags": []
          },
          "execution_count": 110
        }
      ]
    },
    {
      "cell_type": "code",
      "metadata": {
        "id": "oiiq9rSEP34e",
        "colab_type": "code",
        "colab": {
          "base_uri": "https://localhost:8080/",
          "height": 34
        },
        "outputId": "fd3ad180-dcc5-43e7-fb72-ed6b2ca56e2d"
      },
      "source": [
        "# token id on the example sentence\n",
        "token_ids = token_vocab(str_lower(tokenizer(['how are you'])))\n",
        "token_ids"
      ],
      "execution_count": null,
      "outputs": [
        {
          "output_type": "execute_result",
          "data": {
            "text/plain": [
              "[[792, 15, 10]]"
            ]
          },
          "metadata": {
            "tags": []
          },
          "execution_count": 111
        }
      ]
    },
    {
      "cell_type": "code",
      "metadata": {
        "id": "Fgs3rIIzP7ew",
        "colab_type": "code",
        "colab": {
          "base_uri": "https://localhost:8080/",
          "height": 34
        },
        "outputId": "2796bab6-efab-4bca-9dec-7eb82a790215"
      },
      "source": [
        "# generating the original text\n",
        "tokenizer(token_vocab(token_ids))"
      ],
      "execution_count": null,
      "outputs": [
        {
          "output_type": "execute_result",
          "data": {
            "text/plain": [
              "['how are you']"
            ]
          },
          "metadata": {
            "tags": []
          },
          "execution_count": 112
        }
      ]
    },
    {
      "cell_type": "markdown",
      "metadata": {
        "id": "UjJwAN9v78B7",
        "colab_type": "text"
      },
      "source": [
        "***Bag-of-words (BoW) and TF-IDF vectorizers converts text samples to vectors (one vector per sample) while fastText, GloVe, fastText weighted by TF-IDF embedders either produce an embedding vector per token or an embedding vector per text sample (if mean set to True)***"
      ]
    },
    {
      "cell_type": "code",
      "metadata": {
        "id": "7Q6imaH4P9hu",
        "colab_type": "code",
        "colab": {}
      },
      "source": [
        "# import library\n",
        "import numpy as np\n",
        "from deeppavlov.models.embedders.bow_embedder import BoWEmbedder"
      ],
      "execution_count": null,
      "outputs": []
    },
    {
      "cell_type": "code",
      "metadata": {
        "id": "DT33eUpEQALs",
        "colab_type": "code",
        "colab": {
          "base_uri": "https://localhost:8080/",
          "height": 34
        },
        "outputId": "0d2309f3-14c7-411b-a03e-defa8eedaa2d"
      },
      "source": [
        "# initialize bag-of-words embedder giving total number of tokens\n",
        "bow = BoWEmbedder(depth=token_vocab.len)\n",
        "\n",
        "# indexed tokenized samples\n",
        "bow(token_vocab(str_lower(tokenizer(['how are you']))))"
      ],
      "execution_count": null,
      "outputs": [
        {
          "output_type": "execute_result",
          "data": {
            "text/plain": [
              "[array([0, 0, 0, ..., 0, 0, 0], dtype=int32)]"
            ]
          },
          "metadata": {
            "tags": []
          },
          "execution_count": 114
        }
      ]
    },
    {
      "cell_type": "code",
      "metadata": {
        "id": "Oqg6-mJ3QBcM",
        "colab_type": "code",
        "colab": {
          "base_uri": "https://localhost:8080/",
          "height": 34
        },
        "outputId": "e4451db1-9da1-4bfe-8018-6b15cc14fe3d"
      },
      "source": [
        "# all 3 tokens are in the vocabulary\n",
        "sum(bow(token_vocab(str_lower(tokenizer(['how are you']))))[0])"
      ],
      "execution_count": null,
      "outputs": [
        {
          "output_type": "execute_result",
          "data": {
            "text/plain": [
              "3"
            ]
          },
          "metadata": {
            "tags": []
          },
          "execution_count": 115
        }
      ]
    },
    {
      "cell_type": "code",
      "metadata": {
        "id": "sAEuryP4QDj8",
        "colab_type": "code",
        "colab": {}
      },
      "source": [
        "# import library\n",
        "from deeppavlov.models.sklearn import SklearnComponent"
      ],
      "execution_count": null,
      "outputs": []
    },
    {
      "cell_type": "code",
      "metadata": {
        "id": "FsEDBz_KQNJh",
        "colab_type": "code",
        "colab": {
          "base_uri": "https://localhost:8080/",
          "height": 72
        },
        "outputId": "8839bb4d-7852-409e-ccc1-4b0e59366317"
      },
      "source": [
        "# initialize TF-IDF vectorizer sklearn component with `transform` as infer method\n",
        "tfidf = SklearnComponent(\n",
        "    model_class=\"sklearn.feature_extraction.text:TfidfVectorizer\",\n",
        "    infer_method=\"transform\",\n",
        "    save_path='./tfidf_v0.pkl',\n",
        "    load_path='./tfidf_v0.pkl',\n",
        "    mode='train')"
      ],
      "execution_count": null,
      "outputs": [
        {
          "output_type": "stream",
          "text": [
            "2019-04-22 13:08:11.57 WARNING in 'deeppavlov.models.sklearn.sklearn_component'['sklearn_component'] at line 218: Cannot load model from /content/tfidf_v0.pkl\n",
            "2019-04-22 13:08:11.59 INFO in 'deeppavlov.models.sklearn.sklearn_component'['sklearn_component'] at line 165: Initializing model sklearn.feature_extraction.text:TfidfVectorizer from scratch\n"
          ],
          "name": "stderr"
        }
      ]
    },
    {
      "cell_type": "code",
      "metadata": {
        "id": "4O3Bi9FrQOQ4",
        "colab_type": "code",
        "colab": {
          "base_uri": "https://localhost:8080/",
          "height": 72
        },
        "outputId": "a5c4a833-c7b7-4554-aae5-1e20994dcd1c"
      },
      "source": [
        "# fit on textual train instances and save it\n",
        "tfidf.fit(str_lower(train_iterator.get_instances(data_type='train')[0]))\n",
        "tfidf.save()"
      ],
      "execution_count": null,
      "outputs": [
        {
          "output_type": "stream",
          "text": [
            "2019-04-22 13:08:12.315 INFO in 'deeppavlov.models.sklearn.sklearn_component'['sklearn_component'] at line 108: Fitting model sklearn.feature_extraction.text:TfidfVectorizer\n",
            "2019-04-22 13:08:13.505 INFO in 'deeppavlov.models.sklearn.sklearn_component'['sklearn_component'] at line 240: Saving model to /content/tfidf_v0.pkl\n"
          ],
          "name": "stderr"
        }
      ]
    },
    {
      "cell_type": "code",
      "metadata": {
        "id": "RDwi88pZQRvw",
        "colab_type": "code",
        "colab": {
          "base_uri": "https://localhost:8080/",
          "height": 34
        },
        "outputId": "85d6f0e6-3486-4eec-b7db-0dc177fcbb15"
      },
      "source": [
        "# number of tokens in the TF-IDF vocabulary\n",
        "len(tfidf.model.vocabulary_)"
      ],
      "execution_count": null,
      "outputs": [
        {
          "output_type": "execute_result",
          "data": {
            "text/plain": [
              "16733"
            ]
          },
          "metadata": {
            "tags": []
          },
          "execution_count": 119
        }
      ]
    },
    {
      "cell_type": "markdown",
      "metadata": {
        "id": "6P5sayOS8JYe",
        "colab_type": "text"
      },
      "source": [
        "***Glove Embedder nsupervised learning algorithm for obtaining vector representations for words. Training is performed on aggregated global word-word co-occurrence statistics from a corpus, and the resulting representations showcase interesting linear substructures of the word vector space***"
      ]
    },
    {
      "cell_type": "code",
      "metadata": {
        "id": "yXDYfvDnQVbB",
        "colab_type": "code",
        "colab": {}
      },
      "source": [
        "# import gloveembedder\n",
        "from deeppavlov.models.embedders.glove_embedder import GloVeEmbedder"
      ],
      "execution_count": null,
      "outputs": []
    },
    {
      "cell_type": "code",
      "metadata": {
        "id": "OjRZqlE2QYIe",
        "colab_type": "code",
        "colab": {}
      },
      "source": [
        "# import library\n",
        "from deeppavlov.core.data.utils import simple_download"
      ],
      "execution_count": null,
      "outputs": []
    },
    {
      "cell_type": "code",
      "metadata": {
        "id": "F1RWhjRVQZK9",
        "colab_type": "code",
        "colab": {
          "base_uri": "https://localhost:8080/",
          "height": 72
        },
        "outputId": "1270c3ed-7f5f-487b-cf8d-0de6c809e34b"
      },
      "source": [
        "# downloading pretrained embedding Glove\n",
        "simple_download(url=\"http://files.deeppavlov.ai/embeddings/glove.6B.100d.txt\",destination=\"./glove.6B.100d.txt\")"
      ],
      "execution_count": null,
      "outputs": [
        {
          "output_type": "stream",
          "text": [
            "2019-04-22 13:08:13.884 INFO in 'deeppavlov.core.data.utils'['utils'] at line 63: Downloading from http://files.deeppavlov.ai/embeddings/glove.6B.100d.txt to glove.6B.100d.txt\n",
            "347MB [00:27, 12.5MB/s]\n"
          ],
          "name": "stderr"
        }
      ]
    },
    {
      "cell_type": "code",
      "metadata": {
        "id": "Ua73BKuaQhqq",
        "colab_type": "code",
        "colab": {
          "base_uri": "https://localhost:8080/",
          "height": 54
        },
        "outputId": "c2a16f80-ebb5-486f-f909-835a5d43f264"
      },
      "source": [
        "# loading glove embedder\n",
        "embedder = GloVeEmbedder(load_path='./glove.6B.100d.txt', dim=100, pad_zero=True)"
      ],
      "execution_count": null,
      "outputs": [
        {
          "output_type": "stream",
          "text": [
            "2019-04-22 13:08:41.638 INFO in 'deeppavlov.models.embedders.glove_embedder'['glove_embedder'] at line 52: [loading GloVe embeddings from `/content/glove.6B.100d.txt`]\n"
          ],
          "name": "stderr"
        }
      ]
    },
    {
      "cell_type": "code",
      "metadata": {
        "id": "IBEDdBRgQlMT",
        "colab_type": "code",
        "colab": {
          "base_uri": "https://localhost:8080/",
          "height": 34
        },
        "outputId": "c83b1ed2-3efc-450e-e8f8-73e4ad10c86a"
      },
      "source": [
        "# output shape is (batch_size x max_num_tokens_in_the_batch x embedding_dim)\n",
        "embedded_batch = embedder(str_lower(tokenizer(['how are you']))) \n",
        "len(embedded_batch), len(embedded_batch[0]), embedded_batch[0][0].shape"
      ],
      "execution_count": null,
      "outputs": [
        {
          "output_type": "execute_result",
          "data": {
            "text/plain": [
              "(1, 3, (100,))"
            ]
          },
          "metadata": {
            "tags": []
          },
          "execution_count": 124
        }
      ]
    },
    {
      "cell_type": "markdown",
      "metadata": {
        "id": "gxyWjfCI8i2X",
        "colab_type": "text"
      },
      "source": [
        "***Mean Glove Embedder  returns a vector per token while we want to get a vector per text sample. Therefore, let's calculate mean vector of embeddings of tokens. For that we can either init GloVeEmbedder with mean=True parameter (mean=false by default), or pass mean=true while calling function (this way mean value is assigned only for this call)***"
      ]
    },
    {
      "cell_type": "code",
      "metadata": {
        "id": "5TecXzrAQnHn",
        "colab_type": "code",
        "colab": {
          "base_uri": "https://localhost:8080/",
          "height": 34
        },
        "outputId": "eb9324de-2523-434f-d68a-80d204bd9185"
      },
      "source": [
        "# output shape is (batch_size x embedding_dim)\n",
        "embedded_batch = embedder(str_lower(tokenizer(['how are you'])), mean=True) \n",
        "len(embedded_batch), embedded_batch[0].shape"
      ],
      "execution_count": null,
      "outputs": [
        {
          "output_type": "execute_result",
          "data": {
            "text/plain": [
              "(1, (100,))"
            ]
          },
          "metadata": {
            "tags": []
          },
          "execution_count": 125
        }
      ]
    },
    {
      "cell_type": "markdown",
      "metadata": {
        "id": "ADBfZmA18sz8",
        "colab_type": "text"
      },
      "source": [
        "***One of the possible ways to combine TF-IDF vectorizer and any token embedder is to weigh token embeddings by TF-IDF coefficients (therefore, mean set to True is obligatory to obtain embeddings of interest while it still by default returns embeddings of tokens***"
      ]
    },
    {
      "cell_type": "code",
      "metadata": {
        "id": "qTFh7BI_Qui3",
        "colab_type": "code",
        "colab": {}
      },
      "source": [
        "# import library\n",
        "from deeppavlov.models.embedders.tfidf_weighted_embedder import TfidfWeightedEmbedder"
      ],
      "execution_count": null,
      "outputs": []
    },
    {
      "cell_type": "code",
      "metadata": {
        "id": "S-I5VeL1QzPn",
        "colab_type": "code",
        "colab": {}
      },
      "source": [
        "# weighted embedder\n",
        "weighted_embedder = TfidfWeightedEmbedder(\n",
        "    embedder=embedder,  # our GloVe embedder instance\n",
        "    tokenizer=tokenizer,  # our tokenizer instance\n",
        "    mean=True,  # to return one vector per sample\n",
        "    vectorizer=tfidf  # our TF-IDF vectorizer\n",
        ")"
      ],
      "execution_count": null,
      "outputs": []
    },
    {
      "cell_type": "code",
      "metadata": {
        "id": "OTrrEqBpQ18s",
        "colab_type": "code",
        "colab": {
          "base_uri": "https://localhost:8080/",
          "height": 34
        },
        "outputId": "0a0feb07-9266-43d3-816e-28f0dbce6ffb"
      },
      "source": [
        "# output shape is (batch_size x  embedding_dim)\n",
        "embedded_batch = weighted_embedder(str_lower(tokenizer(['how are you']))) \n",
        "len(embedded_batch), embedded_batch[0].shape"
      ],
      "execution_count": null,
      "outputs": [
        {
          "output_type": "execute_result",
          "data": {
            "text/plain": [
              "(1, (100,))"
            ]
          },
          "metadata": {
            "tags": []
          },
          "execution_count": 128
        }
      ]
    },
    {
      "cell_type": "code",
      "metadata": {
        "id": "ahNUzYNZQ6Wu",
        "colab_type": "code",
        "colab": {
          "base_uri": "https://localhost:8080/",
          "height": 34
        },
        "outputId": "d790e761-b3fa-4450-cf7a-ccf167805757"
      },
      "source": [
        "# importing library\n",
        "from deeppavlov.models.classifiers.keras_classification_model import KerasClassificationModel\n",
        "from deeppavlov.models.preprocessors.one_hotter import OneHotter\n",
        "from deeppavlov.models.classifiers.proba2labels import Proba2Labels"
      ],
      "execution_count": null,
      "outputs": [
        {
          "output_type": "stream",
          "text": [
            "Using TensorFlow backend.\n"
          ],
          "name": "stderr"
        }
      ]
    },
    {
      "cell_type": "code",
      "metadata": {
        "id": "ZleViVWDQ-FK",
        "colab_type": "code",
        "colab": {
          "base_uri": "https://localhost:8080/",
          "height": 1085
        },
        "outputId": "f6467239-1f12-4453-e9f4-3d4f99eb8fd7"
      },
      "source": [
        "# intialize `KerasClassificationModel` that composes CNN shallow-and-wide network (name here as`cnn_model`)\n",
        "cls = KerasClassificationModel(save_path=\"./cnn_model_v0\", \n",
        "                               load_path=\"./cnn_model_v0\", \n",
        "                               embedding_size=embedder.dim,\n",
        "                               n_classes=classes_vocab.len,\n",
        "                               model_name=\"cnn_model\",\n",
        "                               text_size=100, # number of tokens\n",
        "                               kernel_sizes_cnn=[3, 5, 7],\n",
        "                               filters_cnn=128,\n",
        "                               dense_size=100,\n",
        "                               optimizer=\"Adam\",\n",
        "                               learning_rate=0.1,\n",
        "                               learning_rate_decay=0.01,\n",
        "                               loss=\"categorical_crossentropy\")"
      ],
      "execution_count": null,
      "outputs": [
        {
          "output_type": "stream",
          "text": [
            "2019-04-22 13:09:22.718 INFO in 'deeppavlov.models.classifiers.keras_classification_model'['keras_classification_model'] at line 244: [initializing `KerasClassificationModel` from scratch as cnn_model]\n"
          ],
          "name": "stderr"
        },
        {
          "output_type": "stream",
          "text": [
            "WARNING:tensorflow:From /usr/local/lib/python3.6/dist-packages/tensorflow/python/framework/op_def_library.py:263: colocate_with (from tensorflow.python.framework.ops) is deprecated and will be removed in a future version.\n",
            "Instructions for updating:\n",
            "Colocations handled automatically by placer.\n"
          ],
          "name": "stdout"
        },
        {
          "output_type": "stream",
          "text": [
            "2019-04-22 13:09:23.684 INFO in 'deeppavlov.models.classifiers.keras_classification_model'['keras_classification_model'] at line 134: Model was successfully initialized!\n",
            "Model summary:\n",
            "__________________________________________________________________________________________________\n",
            "Layer (type)                    Output Shape         Param #     Connected to                     \n",
            "==================================================================================================\n",
            "input_1 (InputLayer)            (None, 100, 100)     0                                            \n",
            "__________________________________________________________________________________________________\n",
            "conv1d_1 (Conv1D)               (None, 100, 128)     38528       input_1[0][0]                    \n",
            "__________________________________________________________________________________________________\n",
            "conv1d_2 (Conv1D)               (None, 100, 128)     64128       input_1[0][0]                    \n",
            "__________________________________________________________________________________________________\n",
            "conv1d_3 (Conv1D)               (None, 100, 128)     89728       input_1[0][0]                    \n",
            "__________________________________________________________________________________________________\n",
            "batch_normalization_1 (BatchNor (None, 100, 128)     512         conv1d_1[0][0]                   \n",
            "__________________________________________________________________________________________________\n",
            "batch_normalization_2 (BatchNor (None, 100, 128)     512         conv1d_2[0][0]                   \n",
            "__________________________________________________________________________________________________\n",
            "batch_normalization_3 (BatchNor (None, 100, 128)     512         conv1d_3[0][0]                   \n",
            "__________________________________________________________________________________________________\n",
            "activation_1 (Activation)       (None, 100, 128)     0           batch_normalization_1[0][0]      \n",
            "__________________________________________________________________________________________________\n",
            "activation_2 (Activation)       (None, 100, 128)     0           batch_normalization_2[0][0]      \n",
            "__________________________________________________________________________________________________\n",
            "activation_3 (Activation)       (None, 100, 128)     0           batch_normalization_3[0][0]      \n",
            "__________________________________________________________________________________________________\n",
            "global_max_pooling1d_1 (GlobalM (None, 128)          0           activation_1[0][0]               \n",
            "__________________________________________________________________________________________________\n",
            "global_max_pooling1d_2 (GlobalM (None, 128)          0           activation_2[0][0]               \n",
            "__________________________________________________________________________________________________\n",
            "global_max_pooling1d_3 (GlobalM (None, 128)          0           activation_3[0][0]               \n",
            "__________________________________________________________________________________________________\n",
            "concatenate_1 (Concatenate)     (None, 384)          0           global_max_pooling1d_1[0][0]     \n",
            "                                                                 global_max_pooling1d_2[0][0]     \n",
            "                                                                 global_max_pooling1d_3[0][0]     \n",
            "__________________________________________________________________________________________________\n",
            "dropout_1 (Dropout)             (None, 384)          0           concatenate_1[0][0]              \n",
            "__________________________________________________________________________________________________\n",
            "dense_1 (Dense)                 (None, 100)          38500       dropout_1[0][0]                  \n",
            "__________________________________________________________________________________________________\n",
            "batch_normalization_4 (BatchNor (None, 100)          400         dense_1[0][0]                    \n",
            "__________________________________________________________________________________________________\n",
            "activation_4 (Activation)       (None, 100)          0           batch_normalization_4[0][0]      \n",
            "__________________________________________________________________________________________________\n",
            "dropout_2 (Dropout)             (None, 100)          0           activation_4[0][0]               \n",
            "__________________________________________________________________________________________________\n",
            "dense_2 (Dense)                 (None, 4)            404         dropout_2[0][0]                  \n",
            "__________________________________________________________________________________________________\n",
            "batch_normalization_5 (BatchNor (None, 4)            16          dense_2[0][0]                    \n",
            "__________________________________________________________________________________________________\n",
            "activation_5 (Activation)       (None, 4)            0           batch_normalization_5[0][0]      \n",
            "==================================================================================================\n",
            "Total params: 233,240\n",
            "Trainable params: 232,264\n",
            "Non-trainable params: 976\n",
            "__________________________________________________________________________________________________\n"
          ],
          "name": "stderr"
        }
      ]
    },
    {
      "cell_type": "code",
      "metadata": {
        "id": "VEgh6TdzRALN",
        "colab_type": "code",
        "colab": {}
      },
      "source": [
        "# KerasClassificationModel assumes one-hotted distribution of classes per sample.\n",
        "# OneHotter converts indices to one-hot vectors representation.\n",
        "# to obtain indices we can use our `classes_vocab` intialized and fitted above\n",
        "# feature Engineering\n",
        "onehotter = OneHotter(depth=classes_vocab.len, single_vector=True)"
      ],
      "execution_count": null,
      "outputs": []
    },
    {
      "cell_type": "code",
      "metadata": {
        "id": "8pIQgZfJRDQu",
        "colab_type": "code",
        "colab": {
          "base_uri": "https://localhost:8080/",
          "height": 143
        },
        "outputId": "089b2fa7-20c1-41e9-e982-fe14564b000f"
      },
      "source": [
        "# train for 10 epochs\n",
        "for ep in range(10):\n",
        "    for x, y in train_iterator.gen_batches(batch_size=64, \n",
        "                                           data_type=\"train\"):\n",
        "        x_embed = embedder(tokenizer(str_lower(x)))\n",
        "        y_onehot = onehotter(classes_vocab(y))\n",
        "        cls.train_on_batch(x_embed, y_onehot)"
      ],
      "execution_count": null,
      "outputs": [
        {
          "output_type": "stream",
          "text": [
            "WARNING:tensorflow:From /usr/local/lib/python3.6/dist-packages/tensorflow/python/ops/math_ops.py:3066: to_int32 (from tensorflow.python.ops.math_ops) is deprecated and will be removed in a future version.\n",
            "Instructions for updating:\n",
            "Use tf.cast instead.\n",
            "WARNING:tensorflow:From /usr/local/lib/python3.6/dist-packages/tensorflow/python/ops/math_grad.py:102: div (from tensorflow.python.ops.math_ops) is deprecated and will be removed in a future version.\n",
            "Instructions for updating:\n",
            "Deprecated in favor of operator or tf.math.divide.\n"
          ],
          "name": "stdout"
        }
      ]
    },
    {
      "cell_type": "code",
      "metadata": {
        "id": "qAiGom42RFqb",
        "colab_type": "code",
        "colab": {
          "base_uri": "https://localhost:8080/",
          "height": 54
        },
        "outputId": "b671a73a-9fb6-42c7-b04b-055e3780c27a"
      },
      "source": [
        "# save model weights and parameters\n",
        "cls.save()"
      ],
      "execution_count": null,
      "outputs": [
        {
          "output_type": "stream",
          "text": [
            "2019-04-22 13:13:03.563 INFO in 'deeppavlov.models.classifiers.keras_classification_model'['keras_classification_model'] at line 373: [saving model to /content/cnn_model_v0_opt.json]\n"
          ],
          "name": "stderr"
        }
      ]
    },
    {
      "cell_type": "code",
      "metadata": {
        "id": "o86XLtXrRKOK",
        "colab_type": "code",
        "colab": {}
      },
      "source": [
        "# importing library\n",
        "from deeppavlov.metrics.accuracy import sets_accuracy"
      ],
      "execution_count": null,
      "outputs": []
    },
    {
      "cell_type": "code",
      "metadata": {
        "id": "9hcsUYoQRMVv",
        "colab_type": "code",
        "colab": {}
      },
      "source": [
        "# get all train and valid data from iterator\n",
        "x_train, y_train = train_iterator.get_instances(data_type=\"train\")\n",
        "x_valid, y_valid = train_iterator.get_instances(data_type=\"valid\")"
      ],
      "execution_count": null,
      "outputs": []
    },
    {
      "cell_type": "code",
      "metadata": {
        "id": "HKMU8J7RRPnx",
        "colab_type": "code",
        "colab": {}
      },
      "source": [
        "# infering on validation data we get probability distribution on given data.\n",
        "y_valid_pred = cls(embedder(tokenizer(str_lower(x_valid))))"
      ],
      "execution_count": null,
      "outputs": []
    },
    {
      "cell_type": "code",
      "metadata": {
        "id": "5RIDRangRQPq",
        "colab_type": "code",
        "colab": {}
      },
      "source": [
        "# to convert probability distribution to labels, \n",
        "# we first need to convert probabilities to indices,\n",
        "# and then using vocabulary `classes_vocab` convert indices to labels.\n",
        "# Proba2Labels` converts probabilities to indices and supports three different modes:\n",
        "# if `max_proba` is true, returns indices of the highest probabilities\n",
        "# if `confident_threshold` is given, returns indices with probabiltiies higher than threshold\n",
        "# if `top_n` is given, returns `top_n` indices with highest probabilities\n",
        "prob2labels = Proba2Labels(max_proba=True)"
      ],
      "execution_count": null,
      "outputs": []
    },
    {
      "cell_type": "markdown",
      "metadata": {
        "id": "wTOUpr8sReI8",
        "colab_type": "text"
      },
      "source": [
        "***The accuracy of the model is 90% on the dataset ***"
      ]
    },
    {
      "cell_type": "code",
      "metadata": {
        "id": "TjdFXIjsRSI2",
        "colab_type": "code",
        "colab": {
          "base_uri": "https://localhost:8080/",
          "height": 107
        },
        "outputId": "04785339-dbe1-42da-f6c3-f9f7ed1a2460"
      },
      "source": [
        "# looking into obtained result\n",
        "print(\"Text sample: {}\".format(x_valid[0]))\n",
        "print(\"True label: {}\".format(y_valid[0]))\n",
        "print(\"Predicted probability distribution: {}\".format(dict(zip(classes_vocab.keys(), \n",
        "                                                               y_valid_pred[0]))))\n",
        "print(\"Predicted label: {}\".format(classes_vocab(prob2labels(y_valid_pred))[0]))"
      ],
      "execution_count": null,
      "outputs": [
        {
          "output_type": "stream",
          "text": [
            "Text sample: mcsd preferred\n",
            "True label: ['OTHER']\n",
            "Predicted probability distribution: {'OTHER': 0.5519142150878906, 'REQUIREMENTS': 0.09270602464675903, 'RESPONSABILITIES': 0.0036564767360687256, 'BENEFITS': 0.00043654441833496094}\n",
            "Predicted label: ['OTHER']\n"
          ],
          "name": "stdout"
        }
      ]
    },
    {
      "cell_type": "code",
      "metadata": {
        "id": "zSAezSfMRVAU",
        "colab_type": "code",
        "colab": {
          "base_uri": "https://localhost:8080/",
          "height": 34
        },
        "outputId": "2982b7ea-dac7-4776-a6a6-a1714676d7d7"
      },
      "source": [
        "#Calculate sets accuracy\n",
        "sets_accuracy(y_valid, classes_vocab(prob2labels(y_valid_pred)))"
      ],
      "execution_count": null,
      "outputs": [
        {
          "output_type": "execute_result",
          "data": {
            "text/plain": [
              "0.9093884719782852"
            ]
          },
          "metadata": {
            "tags": []
          },
          "execution_count": 139
        }
      ]
    }
  ]
}
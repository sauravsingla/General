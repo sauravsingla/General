{
  "nbformat": 4,
  "nbformat_minor": 0,
  "metadata": {
    "colab": {
      "name": "LightGBM_XGBoost.ipynb",
      "provenance": [],
      "collapsed_sections": [],
      "include_colab_link": true
    },
    "kernelspec": {
      "name": "python3",
      "display_name": "Python 3"
    },
    "accelerator": "GPU"
  },
  "cells": [
    {
      "cell_type": "markdown",
      "metadata": {
        "id": "view-in-github",
        "colab_type": "text"
      },
      "source": [
        "<a href=\"https://colab.research.google.com/github/sauravsingla/General/blob/master/LightGBM_XGBoost.ipynb\" target=\"_parent\"><img src=\"https://colab.research.google.com/assets/colab-badge.svg\" alt=\"Open In Colab\"/></a>"
      ]
    },
    {
      "cell_type": "code",
      "metadata": {
        "id": "E93knFj_B9E9",
        "outputId": "7f5e4fd2-f441-4609-a09b-945ef1ed112a",
        "colab": {
          "base_uri": "https://localhost:8080/",
          "height": 141
        }
      },
      "source": [
        "!pip install lightgbm \n",
        "!pip install xgboost "
      ],
      "execution_count": null,
      "outputs": [
        {
          "output_type": "stream",
          "text": [
            "Requirement already satisfied: lightgbm in /usr/local/lib/python3.6/dist-packages (2.2.3)\n",
            "Requirement already satisfied: scikit-learn in /usr/local/lib/python3.6/dist-packages (from lightgbm) (0.20.2)\n",
            "Requirement already satisfied: scipy in /usr/local/lib/python3.6/dist-packages (from lightgbm) (1.1.0)\n",
            "Requirement already satisfied: numpy in /usr/local/lib/python3.6/dist-packages (from lightgbm) (1.14.6)\n",
            "Requirement already satisfied: xgboost in /usr/local/lib/python3.6/dist-packages (0.7.post4)\n",
            "Requirement already satisfied: numpy in /usr/local/lib/python3.6/dist-packages (from xgboost) (1.14.6)\n",
            "Requirement already satisfied: scipy in /usr/local/lib/python3.6/dist-packages (from xgboost) (1.1.0)\n"
          ],
          "name": "stdout"
        }
      ]
    },
    {
      "cell_type": "code",
      "metadata": {
        "id": "WtsOkRuDBzCC",
        "outputId": "9a8fea66-b93b-4ccc-c8e4-fc2135b0cfcb",
        "colab": {
          "base_uri": "https://localhost:8080/",
          "height": 70
        }
      },
      "source": [
        "#importing standard libraries \n",
        "import numpy as np \n",
        "import pandas as pd \n",
        "from pandas import Series, DataFrame \n",
        "\n",
        "#import lightgbm and xgboost \n",
        "import lightgbm as lgb \n",
        "import xgboost as xgb \n",
        "\n",
        "#loading our training dataset 'adult.csv' with name 'data' using pandas \n",
        "data=pd.read_csv('adult.data',header=None, delimiter=r\"\\s+\",) \n",
        "\n",
        "#Assigning names to the columns \n",
        "data.columns=['age','workclass','fnlwgt','education','education-num','marital_Status','occupation','relationship','race','sex','capital_gain','capital_loss','hours_per_week','native_country','Income'] \n",
        "\n",
        "#glimpse of the dataset \n",
        "data.head() \n",
        "\n",
        "# Label Encoding our target variable \n",
        "from sklearn.preprocessing import LabelEncoder,OneHotEncoder\n",
        "l=LabelEncoder() \n",
        "l.fit(data.Income) \n",
        "\n",
        "l.classes_ \n",
        "data.Income=Series(l.transform(data.Income))  #label encoding our target variable \n",
        "data.Income.value_counts() "
      ],
      "execution_count": null,
      "outputs": [
        {
          "output_type": "execute_result",
          "data": {
            "text/plain": [
              "0    24720\n",
              "1     7841\n",
              "Name: Income, dtype: int64"
            ]
          },
          "metadata": {
            "tags": []
          },
          "execution_count": 22
        }
      ]
    },
    {
      "cell_type": "code",
      "metadata": {
        "id": "KaxQoG3tDM4F"
      },
      "source": [
        "#One Hot Encoding of the Categorical features \n",
        "one_hot_workclass=pd.get_dummies(data.workclass) \n",
        "one_hot_education=pd.get_dummies(data.education) \n",
        "one_hot_marital_Status=pd.get_dummies(data.marital_Status) \n",
        "one_hot_occupation=pd.get_dummies(data.occupation)\n",
        "one_hot_relationship=pd.get_dummies(data.relationship) \n",
        "one_hot_race=pd.get_dummies(data.race) \n",
        "one_hot_sex=pd.get_dummies(data.sex) \n",
        "one_hot_native_country=pd.get_dummies(data.native_country) \n",
        "\n",
        "#removing categorical features \n",
        "data.drop(['workclass','education','marital_Status','occupation','relationship','race','sex','native_country'],axis=1,inplace=True) \n"
      ],
      "execution_count": null,
      "outputs": []
    },
    {
      "cell_type": "code",
      "metadata": {
        "id": "1qgglWikDSkF"
      },
      "source": [
        "#Merging one hot encoded features with our dataset 'data' \n",
        "data=pd.concat([data,one_hot_workclass,one_hot_education,one_hot_marital_Status,one_hot_occupation,one_hot_relationship,one_hot_race,one_hot_sex,one_hot_native_country],axis=1) \n",
        "\n",
        "#removing dulpicate columns \n",
        "_, i = np.unique(data.columns, return_index=True) \n",
        "data=data.iloc[:, i] \n",
        "\n",
        "#Here our target variable is 'Income' with values as 1 or 0.  \n",
        "#Separating our data into features dataset x and our target dataset y \n",
        "x=data.drop('Income',axis=1) \n",
        "y=data.Income \n",
        "\n",
        " \n",
        "\n",
        "#Imputing missing values in our target variable \n",
        "y.fillna(y.mode()[0],inplace=True) \n",
        "\n",
        "#Now splitting our dataset into test and train \n",
        "from sklearn.model_selection import train_test_split \n",
        "x_train,x_test,y_train,y_test=train_test_split(x,y,test_size=.3)"
      ],
      "execution_count": null,
      "outputs": []
    },
    {
      "cell_type": "code",
      "metadata": {
        "id": "LX46ngiCHU2f",
        "outputId": "1d053d25-d140-443d-8ef0-1739f41c19b3",
        "colab": {
          "base_uri": "https://localhost:8080/",
          "height": 370
        }
      },
      "source": [
        "data.describe()"
      ],
      "execution_count": null,
      "outputs": [
        {
          "output_type": "execute_result",
          "data": {
            "text/html": [
              "<div>\n",
              "<style scoped>\n",
              "    .dataframe tbody tr th:only-of-type {\n",
              "        vertical-align: middle;\n",
              "    }\n",
              "\n",
              "    .dataframe tbody tr th {\n",
              "        vertical-align: top;\n",
              "    }\n",
              "\n",
              "    .dataframe thead th {\n",
              "        text-align: right;\n",
              "    }\n",
              "</style>\n",
              "<table border=\"1\" class=\"dataframe\">\n",
              "  <thead>\n",
              "    <tr style=\"text-align: right;\">\n",
              "      <th></th>\n",
              "      <th>10th,</th>\n",
              "      <th>11th,</th>\n",
              "      <th>12th,</th>\n",
              "      <th>1st-4th,</th>\n",
              "      <th>5th-6th,</th>\n",
              "      <th>7th-8th,</th>\n",
              "      <th>9th,</th>\n",
              "      <th>?,</th>\n",
              "      <th>Adm-clerical,</th>\n",
              "      <th>Amer-Indian-Eskimo,</th>\n",
              "      <th>...</th>\n",
              "      <th>Transport-moving,</th>\n",
              "      <th>Trinadad&amp;Tobago,</th>\n",
              "      <th>United-States,</th>\n",
              "      <th>Unmarried,</th>\n",
              "      <th>Vietnam,</th>\n",
              "      <th>White,</th>\n",
              "      <th>Widowed,</th>\n",
              "      <th>Wife,</th>\n",
              "      <th>Without-pay,</th>\n",
              "      <th>Yugoslavia,</th>\n",
              "    </tr>\n",
              "  </thead>\n",
              "  <tbody>\n",
              "    <tr>\n",
              "      <th>count</th>\n",
              "      <td>32561.000000</td>\n",
              "      <td>32561.000000</td>\n",
              "      <td>32561.000000</td>\n",
              "      <td>32561.000000</td>\n",
              "      <td>32561.000000</td>\n",
              "      <td>32561.000000</td>\n",
              "      <td>32561.000000</td>\n",
              "      <td>32561.000000</td>\n",
              "      <td>32561.000000</td>\n",
              "      <td>32561.000000</td>\n",
              "      <td>...</td>\n",
              "      <td>32561.000000</td>\n",
              "      <td>32561.000000</td>\n",
              "      <td>32561.000000</td>\n",
              "      <td>32561.000000</td>\n",
              "      <td>32561.000000</td>\n",
              "      <td>32561.000000</td>\n",
              "      <td>32561.000000</td>\n",
              "      <td>32561.000000</td>\n",
              "      <td>32561.000000</td>\n",
              "      <td>32561.000000</td>\n",
              "    </tr>\n",
              "    <tr>\n",
              "      <th>mean</th>\n",
              "      <td>0.028654</td>\n",
              "      <td>0.036086</td>\n",
              "      <td>0.013298</td>\n",
              "      <td>0.005160</td>\n",
              "      <td>0.010227</td>\n",
              "      <td>0.019840</td>\n",
              "      <td>0.015786</td>\n",
              "      <td>0.056386</td>\n",
              "      <td>0.115783</td>\n",
              "      <td>0.009551</td>\n",
              "      <td>...</td>\n",
              "      <td>0.049046</td>\n",
              "      <td>0.000584</td>\n",
              "      <td>0.895857</td>\n",
              "      <td>0.105832</td>\n",
              "      <td>0.002058</td>\n",
              "      <td>0.854274</td>\n",
              "      <td>0.030497</td>\n",
              "      <td>0.048156</td>\n",
              "      <td>0.000430</td>\n",
              "      <td>0.000491</td>\n",
              "    </tr>\n",
              "    <tr>\n",
              "      <th>std</th>\n",
              "      <td>0.166834</td>\n",
              "      <td>0.186507</td>\n",
              "      <td>0.114550</td>\n",
              "      <td>0.071646</td>\n",
              "      <td>0.100612</td>\n",
              "      <td>0.139451</td>\n",
              "      <td>0.124648</td>\n",
              "      <td>0.230670</td>\n",
              "      <td>0.319969</td>\n",
              "      <td>0.097264</td>\n",
              "      <td>...</td>\n",
              "      <td>0.215968</td>\n",
              "      <td>0.024149</td>\n",
              "      <td>0.305451</td>\n",
              "      <td>0.307627</td>\n",
              "      <td>0.045316</td>\n",
              "      <td>0.352837</td>\n",
              "      <td>0.171952</td>\n",
              "      <td>0.214099</td>\n",
              "      <td>0.020731</td>\n",
              "      <td>0.022162</td>\n",
              "    </tr>\n",
              "    <tr>\n",
              "      <th>min</th>\n",
              "      <td>0.000000</td>\n",
              "      <td>0.000000</td>\n",
              "      <td>0.000000</td>\n",
              "      <td>0.000000</td>\n",
              "      <td>0.000000</td>\n",
              "      <td>0.000000</td>\n",
              "      <td>0.000000</td>\n",
              "      <td>0.000000</td>\n",
              "      <td>0.000000</td>\n",
              "      <td>0.000000</td>\n",
              "      <td>...</td>\n",
              "      <td>0.000000</td>\n",
              "      <td>0.000000</td>\n",
              "      <td>0.000000</td>\n",
              "      <td>0.000000</td>\n",
              "      <td>0.000000</td>\n",
              "      <td>0.000000</td>\n",
              "      <td>0.000000</td>\n",
              "      <td>0.000000</td>\n",
              "      <td>0.000000</td>\n",
              "      <td>0.000000</td>\n",
              "    </tr>\n",
              "    <tr>\n",
              "      <th>25%</th>\n",
              "      <td>0.000000</td>\n",
              "      <td>0.000000</td>\n",
              "      <td>0.000000</td>\n",
              "      <td>0.000000</td>\n",
              "      <td>0.000000</td>\n",
              "      <td>0.000000</td>\n",
              "      <td>0.000000</td>\n",
              "      <td>0.000000</td>\n",
              "      <td>0.000000</td>\n",
              "      <td>0.000000</td>\n",
              "      <td>...</td>\n",
              "      <td>0.000000</td>\n",
              "      <td>0.000000</td>\n",
              "      <td>1.000000</td>\n",
              "      <td>0.000000</td>\n",
              "      <td>0.000000</td>\n",
              "      <td>1.000000</td>\n",
              "      <td>0.000000</td>\n",
              "      <td>0.000000</td>\n",
              "      <td>0.000000</td>\n",
              "      <td>0.000000</td>\n",
              "    </tr>\n",
              "    <tr>\n",
              "      <th>50%</th>\n",
              "      <td>0.000000</td>\n",
              "      <td>0.000000</td>\n",
              "      <td>0.000000</td>\n",
              "      <td>0.000000</td>\n",
              "      <td>0.000000</td>\n",
              "      <td>0.000000</td>\n",
              "      <td>0.000000</td>\n",
              "      <td>0.000000</td>\n",
              "      <td>0.000000</td>\n",
              "      <td>0.000000</td>\n",
              "      <td>...</td>\n",
              "      <td>0.000000</td>\n",
              "      <td>0.000000</td>\n",
              "      <td>1.000000</td>\n",
              "      <td>0.000000</td>\n",
              "      <td>0.000000</td>\n",
              "      <td>1.000000</td>\n",
              "      <td>0.000000</td>\n",
              "      <td>0.000000</td>\n",
              "      <td>0.000000</td>\n",
              "      <td>0.000000</td>\n",
              "    </tr>\n",
              "    <tr>\n",
              "      <th>75%</th>\n",
              "      <td>0.000000</td>\n",
              "      <td>0.000000</td>\n",
              "      <td>0.000000</td>\n",
              "      <td>0.000000</td>\n",
              "      <td>0.000000</td>\n",
              "      <td>0.000000</td>\n",
              "      <td>0.000000</td>\n",
              "      <td>0.000000</td>\n",
              "      <td>0.000000</td>\n",
              "      <td>0.000000</td>\n",
              "      <td>...</td>\n",
              "      <td>0.000000</td>\n",
              "      <td>0.000000</td>\n",
              "      <td>1.000000</td>\n",
              "      <td>0.000000</td>\n",
              "      <td>0.000000</td>\n",
              "      <td>1.000000</td>\n",
              "      <td>0.000000</td>\n",
              "      <td>0.000000</td>\n",
              "      <td>0.000000</td>\n",
              "      <td>0.000000</td>\n",
              "    </tr>\n",
              "    <tr>\n",
              "      <th>max</th>\n",
              "      <td>1.000000</td>\n",
              "      <td>1.000000</td>\n",
              "      <td>1.000000</td>\n",
              "      <td>1.000000</td>\n",
              "      <td>1.000000</td>\n",
              "      <td>1.000000</td>\n",
              "      <td>1.000000</td>\n",
              "      <td>1.000000</td>\n",
              "      <td>1.000000</td>\n",
              "      <td>1.000000</td>\n",
              "      <td>...</td>\n",
              "      <td>1.000000</td>\n",
              "      <td>1.000000</td>\n",
              "      <td>1.000000</td>\n",
              "      <td>1.000000</td>\n",
              "      <td>1.000000</td>\n",
              "      <td>1.000000</td>\n",
              "      <td>1.000000</td>\n",
              "      <td>1.000000</td>\n",
              "      <td>1.000000</td>\n",
              "      <td>1.000000</td>\n",
              "    </tr>\n",
              "  </tbody>\n",
              "</table>\n",
              "<p>8 rows × 101 columns</p>\n",
              "</div>"
            ],
            "text/plain": [
              "              10th,         11th,         12th,      1st-4th,      5th-6th,  \\\n",
              "count  32561.000000  32561.000000  32561.000000  32561.000000  32561.000000   \n",
              "mean       0.028654      0.036086      0.013298      0.005160      0.010227   \n",
              "std        0.166834      0.186507      0.114550      0.071646      0.100612   \n",
              "min        0.000000      0.000000      0.000000      0.000000      0.000000   \n",
              "25%        0.000000      0.000000      0.000000      0.000000      0.000000   \n",
              "50%        0.000000      0.000000      0.000000      0.000000      0.000000   \n",
              "75%        0.000000      0.000000      0.000000      0.000000      0.000000   \n",
              "max        1.000000      1.000000      1.000000      1.000000      1.000000   \n",
              "\n",
              "           7th-8th,          9th,            ?,  Adm-clerical,  \\\n",
              "count  32561.000000  32561.000000  32561.000000   32561.000000   \n",
              "mean       0.019840      0.015786      0.056386       0.115783   \n",
              "std        0.139451      0.124648      0.230670       0.319969   \n",
              "min        0.000000      0.000000      0.000000       0.000000   \n",
              "25%        0.000000      0.000000      0.000000       0.000000   \n",
              "50%        0.000000      0.000000      0.000000       0.000000   \n",
              "75%        0.000000      0.000000      0.000000       0.000000   \n",
              "max        1.000000      1.000000      1.000000       1.000000   \n",
              "\n",
              "       Amer-Indian-Eskimo,      ...       Transport-moving,  Trinadad&Tobago,  \\\n",
              "count         32561.000000      ...            32561.000000      32561.000000   \n",
              "mean              0.009551      ...                0.049046          0.000584   \n",
              "std               0.097264      ...                0.215968          0.024149   \n",
              "min               0.000000      ...                0.000000          0.000000   \n",
              "25%               0.000000      ...                0.000000          0.000000   \n",
              "50%               0.000000      ...                0.000000          0.000000   \n",
              "75%               0.000000      ...                0.000000          0.000000   \n",
              "max               1.000000      ...                1.000000          1.000000   \n",
              "\n",
              "       United-States,    Unmarried,      Vietnam,        White,      Widowed,  \\\n",
              "count    32561.000000  32561.000000  32561.000000  32561.000000  32561.000000   \n",
              "mean         0.895857      0.105832      0.002058      0.854274      0.030497   \n",
              "std          0.305451      0.307627      0.045316      0.352837      0.171952   \n",
              "min          0.000000      0.000000      0.000000      0.000000      0.000000   \n",
              "25%          1.000000      0.000000      0.000000      1.000000      0.000000   \n",
              "50%          1.000000      0.000000      0.000000      1.000000      0.000000   \n",
              "75%          1.000000      0.000000      0.000000      1.000000      0.000000   \n",
              "max          1.000000      1.000000      1.000000      1.000000      1.000000   \n",
              "\n",
              "              Wife,  Without-pay,   Yugoslavia,  \n",
              "count  32561.000000  32561.000000  32561.000000  \n",
              "mean       0.048156      0.000430      0.000491  \n",
              "std        0.214099      0.020731      0.022162  \n",
              "min        0.000000      0.000000      0.000000  \n",
              "25%        0.000000      0.000000      0.000000  \n",
              "50%        0.000000      0.000000      0.000000  \n",
              "75%        0.000000      0.000000      0.000000  \n",
              "max        1.000000      1.000000      1.000000  \n",
              "\n",
              "[8 rows x 101 columns]"
            ]
          },
          "metadata": {
            "tags": []
          },
          "execution_count": 27
        }
      ]
    },
    {
      "cell_type": "code",
      "metadata": {
        "id": "vEpqyHJvEDFV"
      },
      "source": [
        "#The data is stored in a DMatrix object \n",
        "#label is used to define our outcome variable\n",
        "dtrain=xgb.DMatrix(x_train,label=y_train)\n",
        "dtest=xgb.DMatrix(x_test)"
      ],
      "execution_count": null,
      "outputs": []
    },
    {
      "cell_type": "code",
      "metadata": {
        "id": "dC8XHLPiFaBO"
      },
      "source": [
        "#setting parameters for xgboost\n",
        "parameters={'max_depth':7, 'eta':1, 'silent':1,'objective':'binary:logistic','eval_metric':'auc','learning_rate':.05}"
      ],
      "execution_count": null,
      "outputs": []
    },
    {
      "cell_type": "code",
      "metadata": {
        "id": "Bw9eI-2gFale"
      },
      "source": [
        "#training our model \n",
        "num_round=50\n",
        "from datetime import datetime \n",
        "start = datetime.now() \n",
        "xg=xgb.train(parameters,dtrain,num_round) \n",
        "stop = datetime.now()"
      ],
      "execution_count": null,
      "outputs": []
    },
    {
      "cell_type": "code",
      "metadata": {
        "id": "PNp0k_JIFoIp"
      },
      "source": [
        "#Execution time of the model \n",
        "execution_time_xgb = stop-start \n",
        "execution_time_xgb"
      ],
      "execution_count": null,
      "outputs": []
    },
    {
      "cell_type": "code",
      "metadata": {
        "id": "P7h-yknfFp8v"
      },
      "source": [
        "#datetime.timedelta( , , ) representation => (days , seconds , microseconds) \n",
        "#now predicting our model on test set \n",
        "ypred=xg.predict(dtest) \n",
        "ypred"
      ],
      "execution_count": null,
      "outputs": []
    },
    {
      "cell_type": "code",
      "metadata": {
        "id": "IxD6NS5UFsMn"
      },
      "source": [
        "#Converting probabilities into 1 or 0  \n",
        "for i in range(0,9769): \n",
        "    if ypred[i]>=.5:       # setting threshold to .5 \n",
        "       ypred[i]=1 \n",
        "    else: \n",
        "       ypred[i]=0  "
      ],
      "execution_count": null,
      "outputs": []
    },
    {
      "cell_type": "code",
      "metadata": {
        "id": "KfwyEy3SFs4-"
      },
      "source": [
        "#calculating accuracy of our model \n",
        "from sklearn.metrics import accuracy_score \n",
        "accuracy_xgb = accuracy_score(y_test,ypred) \n",
        "accuracy_xgb\n"
      ],
      "execution_count": null,
      "outputs": []
    },
    {
      "cell_type": "code",
      "metadata": {
        "id": "0uISiIDdFvK3"
      },
      "source": [
        "train_data=lgb.Dataset(x_train,label=y_train)"
      ],
      "execution_count": null,
      "outputs": []
    },
    {
      "cell_type": "code",
      "metadata": {
        "id": "8VWBFrg8F0R3"
      },
      "source": [
        "#setting parameters for lightgbm\n",
        "param = {'num_leaves':150, 'objective':'binary','max_depth':7,'learning_rate':.05,'max_bin':200}\n",
        "param['metric'] = ['auc', 'binary_logloss']"
      ],
      "execution_count": null,
      "outputs": []
    },
    {
      "cell_type": "code",
      "metadata": {
        "id": "VkuA3hniF3bv"
      },
      "source": [
        "#Here we have set max_depth in xgb and LightGBM to 7 to have a fair comparison between the two.\n",
        "#training our model using light gbm\n",
        "num_round=50\n",
        "start=datetime.now()\n",
        "lgbm=lgb.train(param,train_data,num_round)\n",
        "stop=datetime.now()"
      ],
      "execution_count": null,
      "outputs": []
    },
    {
      "cell_type": "code",
      "metadata": {
        "id": "SJXsAeUVGCX4"
      },
      "source": [
        "#Execution time of the model\n",
        "execution_time_lgbm = stop-start\n",
        "execution_time_lgbm"
      ],
      "execution_count": null,
      "outputs": []
    },
    {
      "cell_type": "code",
      "metadata": {
        "id": "qq1P0vQlGELW"
      },
      "source": [
        "#predicting on test set\n",
        "ypred2=lgbm.predict(x_test)\n",
        "ypred2[0:5]  # showing first 5 predictions"
      ],
      "execution_count": null,
      "outputs": []
    },
    {
      "cell_type": "code",
      "metadata": {
        "id": "is-QSMuJGEvA"
      },
      "source": [
        "#converting probabilities into 0 or 1\n",
        "for i in range(0,9769):\n",
        "    if ypred2[i]>=.5:       # setting threshold to .5\n",
        "       ypred2[i]=1\n",
        "    else:  \n",
        "       ypred2[i]=0"
      ],
      "execution_count": null,
      "outputs": []
    },
    {
      "cell_type": "code",
      "metadata": {
        "id": "9tdcedjrGGXY"
      },
      "source": [
        "#calculating accuracy\n",
        "accuracy_lgbm = accuracy_score(ypred2,y_test)\n",
        "accuracy_lgbm\n",
        "y_test.value_counts()"
      ],
      "execution_count": null,
      "outputs": []
    },
    {
      "cell_type": "code",
      "metadata": {
        "id": "JR_376ThGIBp"
      },
      "source": [
        "from sklearn.metrics import roc_auc_score"
      ],
      "execution_count": null,
      "outputs": []
    },
    {
      "cell_type": "code",
      "metadata": {
        "id": "acchiX6ZGJtx"
      },
      "source": [
        "#calculating roc_auc_score for xgboost\n",
        "auc_xgb =  roc_auc_score(y_test,ypred)\n",
        "auc_xgb"
      ],
      "execution_count": null,
      "outputs": []
    },
    {
      "cell_type": "code",
      "metadata": {
        "id": "Yn5_4RjxGNKG"
      },
      "source": [
        "#calculating roc_auc_score for light gbm. \n",
        "auc_lgbm = roc_auc_score(y_test,ypred2)\n",
        "auc_lgbm comparison_dict = {'accuracy score':(accuracy_lgbm,accuracy_xgb),'auc score':(auc_lgbm,auc_xgb),'execution time':(execution_time_lgbm,execution_time_xgb)}"
      ],
      "execution_count": null,
      "outputs": []
    },
    {
      "cell_type": "code",
      "metadata": {
        "id": "Kk_Iyq8SGO2H"
      },
      "source": [
        "#Creating a dataframe ‘comparison_df’ for comparing the performance of Lightgbm and xgb. \n",
        "comparison_df = DataFrame(comparison_dict) \n",
        "comparison_df.index= ['LightGBM','xgboost'] \n",
        "comparison_df"
      ],
      "execution_count": null,
      "outputs": []
    },
    {
      "cell_type": "code",
      "metadata": {
        "id": "Ie2pt8fRJHYJ"
      },
      "source": [
        "!pip install sklearn-pandas"
      ],
      "execution_count": null,
      "outputs": []
    },
    {
      "cell_type": "code",
      "metadata": {
        "id": "SnmQ5YDkIA8o"
      },
      "source": [
        "from IPython.display import display\n",
        "from numpy.random import RandomState\n",
        "from sklearn.linear_model import LogisticRegression, LogisticRegressionCV\n",
        "from sklearn.metrics import accuracy_score, confusion_matrix, make_scorer, precision_recall_fscore_support, roc_auc_score\n",
        "from sklearn.model_selection import GridSearchCV, StratifiedKFold, train_test_split\n",
        "from sklearn.pipeline import Pipeline\n",
        "from sklearn.preprocessing import RobustScaler, StandardScaler\n",
        "from sklearn_pandas import DataFrameMapper\n",
        "\n",
        "import numpy as np\n",
        "import pandas as pd"
      ],
      "execution_count": null,
      "outputs": []
    },
    {
      "cell_type": "code",
      "metadata": {
        "id": "Tir-cm_hJRDI"
      },
      "source": [
        "rs = RandomState(130917)"
      ],
      "execution_count": null,
      "outputs": []
    },
    {
      "cell_type": "code",
      "metadata": {
        "id": "fds9z0uHJSGA"
      },
      "source": [
        "df = pd.read_csv(\"adult.data\", header=None, delimiter=r\"\\s+\")"
      ],
      "execution_count": null,
      "outputs": []
    },
    {
      "cell_type": "code",
      "metadata": {
        "id": "nOd0SbNzJWsY",
        "outputId": "d75eb922-062e-4ae6-e7f8-dd479617f34a",
        "colab": {
          "base_uri": "https://localhost:8080/",
          "height": 372
        }
      },
      "source": [
        "print(df.head())"
      ],
      "execution_count": null,
      "outputs": [
        {
          "output_type": "stream",
          "text": [
            "    0                  1        2           3    4                    5   \\\n",
            "0  39,         State-gov,   77516,  Bachelors,  13,       Never-married,   \n",
            "1  50,  Self-emp-not-inc,   83311,  Bachelors,  13,  Married-civ-spouse,   \n",
            "2  38,           Private,  215646,    HS-grad,   9,            Divorced,   \n",
            "3  53,           Private,  234721,       11th,   7,  Married-civ-spouse,   \n",
            "4  28,           Private,  338409,  Bachelors,  13,  Married-civ-spouse,   \n",
            "\n",
            "                   6               7       8        9      10  11   12  \\\n",
            "0       Adm-clerical,  Not-in-family,  White,    Male,  2174,  0,  40,   \n",
            "1    Exec-managerial,        Husband,  White,    Male,     0,  0,  13,   \n",
            "2  Handlers-cleaners,  Not-in-family,  White,    Male,     0,  0,  40,   \n",
            "3  Handlers-cleaners,        Husband,  Black,    Male,     0,  0,  40,   \n",
            "4     Prof-specialty,           Wife,  Black,  Female,     0,  0,  40,   \n",
            "\n",
            "               13     14  \n",
            "0  United-States,  <=50K  \n",
            "1  United-States,  <=50K  \n",
            "2  United-States,  <=50K  \n",
            "3  United-States,  <=50K  \n",
            "4           Cuba,  <=50K  \n"
          ],
          "name": "stdout"
        }
      ]
    },
    {
      "cell_type": "code",
      "metadata": {
        "id": "CdecJZAnJZU8"
      },
      "source": [
        "df.columns = [\n",
        "    \"Age\", \"WorkClass\", \"fnlwgt\", \"Education\", \"EducationNum\",\n",
        "    \"MaritalStatus\", \"Occupation\", \"Relationship\", \"Race\", \"Gender\",\n",
        "    \"CapitalGain\", \"CapitalLoss\", \"HoursPerWeek\", \"NativeCountry\", \"Income\"\n",
        "]"
      ],
      "execution_count": null,
      "outputs": []
    },
    {
      "cell_type": "code",
      "metadata": {
        "id": "Y-mXgn_XJb_K",
        "outputId": "4704dc45-3c4e-4c0e-b94b-f1cdab5a5a08",
        "colab": {
          "base_uri": "https://localhost:8080/",
          "height": 34
        }
      },
      "source": [
        "df.isnull().values.any()"
      ],
      "execution_count": null,
      "outputs": [
        {
          "output_type": "execute_result",
          "data": {
            "text/plain": [
              "False"
            ]
          },
          "metadata": {
            "tags": []
          },
          "execution_count": 39
        }
      ]
    },
    {
      "cell_type": "code",
      "metadata": {
        "id": "agzqNay3JeHB",
        "outputId": "cbd9f54d-e0d7-49fa-f39e-62870d0d8061",
        "colab": {
          "base_uri": "https://localhost:8080/",
          "height": 372
        }
      },
      "source": [
        "print(df.head())"
      ],
      "execution_count": null,
      "outputs": [
        {
          "output_type": "stream",
          "text": [
            "   Age          WorkClass   fnlwgt   Education EducationNum  \\\n",
            "0  39,         State-gov,   77516,  Bachelors,          13,   \n",
            "1  50,  Self-emp-not-inc,   83311,  Bachelors,          13,   \n",
            "2  38,           Private,  215646,    HS-grad,           9,   \n",
            "3  53,           Private,  234721,       11th,           7,   \n",
            "4  28,           Private,  338409,  Bachelors,          13,   \n",
            "\n",
            "         MaritalStatus          Occupation    Relationship    Race   Gender  \\\n",
            "0       Never-married,       Adm-clerical,  Not-in-family,  White,    Male,   \n",
            "1  Married-civ-spouse,    Exec-managerial,        Husband,  White,    Male,   \n",
            "2            Divorced,  Handlers-cleaners,  Not-in-family,  White,    Male,   \n",
            "3  Married-civ-spouse,  Handlers-cleaners,        Husband,  Black,    Male,   \n",
            "4  Married-civ-spouse,     Prof-specialty,           Wife,  Black,  Female,   \n",
            "\n",
            "  CapitalGain CapitalLoss HoursPerWeek   NativeCountry Income  \n",
            "0       2174,          0,          40,  United-States,  <=50K  \n",
            "1          0,          0,          13,  United-States,  <=50K  \n",
            "2          0,          0,          40,  United-States,  <=50K  \n",
            "3          0,          0,          40,  United-States,  <=50K  \n",
            "4          0,          0,          40,           Cuba,  <=50K  \n"
          ],
          "name": "stdout"
        }
      ]
    },
    {
      "cell_type": "code",
      "metadata": {
        "id": "5UEljSvtJhr3",
        "outputId": "612617b3-8d4b-4706-be4d-2b98fa2cc561",
        "colab": {
          "base_uri": "https://localhost:8080/",
          "height": 34
        }
      },
      "source": [
        "df.Income.unique()"
      ],
      "execution_count": null,
      "outputs": [
        {
          "output_type": "execute_result",
          "data": {
            "text/plain": [
              "array(['<=50K', '>50K'], dtype=object)"
            ]
          },
          "metadata": {
            "tags": []
          },
          "execution_count": 41
        }
      ]
    },
    {
      "cell_type": "code",
      "metadata": {
        "id": "OI3yM8HsJici"
      },
      "source": [
        "df[\"Income\"] = df[\"Income\"].map({ \"<=50K\": -1, \">50K\": 1 })"
      ],
      "execution_count": null,
      "outputs": []
    },
    {
      "cell_type": "code",
      "metadata": {
        "id": "OGt45qz7Jk90"
      },
      "source": [
        "y_all = df[\"Income\"].values\n",
        "df.drop(\"Income\", axis=1, inplace=True,)"
      ],
      "execution_count": null,
      "outputs": []
    },
    {
      "cell_type": "code",
      "metadata": {
        "id": "_BDnCQBnJm8F",
        "outputId": "b323ab5d-4073-4594-ab7a-70748502a567",
        "colab": {
          "base_uri": "https://localhost:8080/",
          "height": 372
        }
      },
      "source": [
        "print(df.head())"
      ],
      "execution_count": null,
      "outputs": [
        {
          "output_type": "stream",
          "text": [
            "   Age          WorkClass   fnlwgt   Education EducationNum  \\\n",
            "0  39,         State-gov,   77516,  Bachelors,          13,   \n",
            "1  50,  Self-emp-not-inc,   83311,  Bachelors,          13,   \n",
            "2  38,           Private,  215646,    HS-grad,           9,   \n",
            "3  53,           Private,  234721,       11th,           7,   \n",
            "4  28,           Private,  338409,  Bachelors,          13,   \n",
            "\n",
            "         MaritalStatus          Occupation    Relationship    Race   Gender  \\\n",
            "0       Never-married,       Adm-clerical,  Not-in-family,  White,    Male,   \n",
            "1  Married-civ-spouse,    Exec-managerial,        Husband,  White,    Male,   \n",
            "2            Divorced,  Handlers-cleaners,  Not-in-family,  White,    Male,   \n",
            "3  Married-civ-spouse,  Handlers-cleaners,        Husband,  Black,    Male,   \n",
            "4  Married-civ-spouse,     Prof-specialty,           Wife,  Black,  Female,   \n",
            "\n",
            "  CapitalGain CapitalLoss HoursPerWeek   NativeCountry  \n",
            "0       2174,          0,          40,  United-States,  \n",
            "1          0,          0,          13,  United-States,  \n",
            "2          0,          0,          40,  United-States,  \n",
            "3          0,          0,          40,  United-States,  \n",
            "4          0,          0,          40,           Cuba,  \n"
          ],
          "name": "stdout"
        }
      ]
    },
    {
      "cell_type": "code",
      "metadata": {
        "id": "6ZXSDoOBJpT7",
        "outputId": "671d9edd-bcfa-4c77-bb43-6180e95e1933",
        "colab": {
          "base_uri": "https://localhost:8080/",
          "height": 204
        }
      },
      "source": [
        "df.describe()"
      ],
      "execution_count": null,
      "outputs": [
        {
          "output_type": "execute_result",
          "data": {
            "text/html": [
              "<div>\n",
              "<style scoped>\n",
              "    .dataframe tbody tr th:only-of-type {\n",
              "        vertical-align: middle;\n",
              "    }\n",
              "\n",
              "    .dataframe tbody tr th {\n",
              "        vertical-align: top;\n",
              "    }\n",
              "\n",
              "    .dataframe thead th {\n",
              "        text-align: right;\n",
              "    }\n",
              "</style>\n",
              "<table border=\"1\" class=\"dataframe\">\n",
              "  <thead>\n",
              "    <tr style=\"text-align: right;\">\n",
              "      <th></th>\n",
              "      <th>Age</th>\n",
              "      <th>WorkClass</th>\n",
              "      <th>fnlwgt</th>\n",
              "      <th>Education</th>\n",
              "      <th>EducationNum</th>\n",
              "      <th>MaritalStatus</th>\n",
              "      <th>Occupation</th>\n",
              "      <th>Relationship</th>\n",
              "      <th>Race</th>\n",
              "      <th>Gender</th>\n",
              "      <th>CapitalGain</th>\n",
              "      <th>CapitalLoss</th>\n",
              "      <th>HoursPerWeek</th>\n",
              "      <th>NativeCountry</th>\n",
              "    </tr>\n",
              "  </thead>\n",
              "  <tbody>\n",
              "    <tr>\n",
              "      <th>count</th>\n",
              "      <td>32561</td>\n",
              "      <td>32561</td>\n",
              "      <td>32561</td>\n",
              "      <td>32561</td>\n",
              "      <td>32561</td>\n",
              "      <td>32561</td>\n",
              "      <td>32561</td>\n",
              "      <td>32561</td>\n",
              "      <td>32561</td>\n",
              "      <td>32561</td>\n",
              "      <td>32561</td>\n",
              "      <td>32561</td>\n",
              "      <td>32561</td>\n",
              "      <td>32561</td>\n",
              "    </tr>\n",
              "    <tr>\n",
              "      <th>unique</th>\n",
              "      <td>73</td>\n",
              "      <td>9</td>\n",
              "      <td>21648</td>\n",
              "      <td>16</td>\n",
              "      <td>16</td>\n",
              "      <td>7</td>\n",
              "      <td>15</td>\n",
              "      <td>6</td>\n",
              "      <td>5</td>\n",
              "      <td>2</td>\n",
              "      <td>119</td>\n",
              "      <td>92</td>\n",
              "      <td>94</td>\n",
              "      <td>42</td>\n",
              "    </tr>\n",
              "    <tr>\n",
              "      <th>top</th>\n",
              "      <td>36,</td>\n",
              "      <td>Private,</td>\n",
              "      <td>203488,</td>\n",
              "      <td>HS-grad,</td>\n",
              "      <td>9,</td>\n",
              "      <td>Married-civ-spouse,</td>\n",
              "      <td>Prof-specialty,</td>\n",
              "      <td>Husband,</td>\n",
              "      <td>White,</td>\n",
              "      <td>Male,</td>\n",
              "      <td>0,</td>\n",
              "      <td>0,</td>\n",
              "      <td>40,</td>\n",
              "      <td>United-States,</td>\n",
              "    </tr>\n",
              "    <tr>\n",
              "      <th>freq</th>\n",
              "      <td>898</td>\n",
              "      <td>22696</td>\n",
              "      <td>13</td>\n",
              "      <td>10501</td>\n",
              "      <td>10501</td>\n",
              "      <td>14976</td>\n",
              "      <td>4140</td>\n",
              "      <td>13193</td>\n",
              "      <td>27816</td>\n",
              "      <td>21790</td>\n",
              "      <td>29849</td>\n",
              "      <td>31042</td>\n",
              "      <td>15217</td>\n",
              "      <td>29170</td>\n",
              "    </tr>\n",
              "  </tbody>\n",
              "</table>\n",
              "</div>"
            ],
            "text/plain": [
              "          Age WorkClass   fnlwgt Education EducationNum        MaritalStatus  \\\n",
              "count   32561     32561    32561     32561        32561                32561   \n",
              "unique     73         9    21648        16           16                    7   \n",
              "top       36,  Private,  203488,  HS-grad,           9,  Married-civ-spouse,   \n",
              "freq      898     22696       13     10501        10501                14976   \n",
              "\n",
              "             Occupation Relationship    Race Gender CapitalGain CapitalLoss  \\\n",
              "count             32561        32561   32561  32561       32561       32561   \n",
              "unique               15            6       5      2         119          92   \n",
              "top     Prof-specialty,     Husband,  White,  Male,          0,          0,   \n",
              "freq               4140        13193   27816  21790       29849       31042   \n",
              "\n",
              "       HoursPerWeek   NativeCountry  \n",
              "count         32561           32561  \n",
              "unique           94              42  \n",
              "top             40,  United-States,  \n",
              "freq          15217           29170  "
            ]
          },
          "metadata": {
            "tags": []
          },
          "execution_count": 45
        }
      ]
    },
    {
      "cell_type": "code",
      "metadata": {
        "id": "5Vyydyc5Jrq5",
        "outputId": "20727944-c565-41cc-c81f-9774fa6afee3",
        "colab": {
          "base_uri": "https://localhost:8080/",
          "height": 1118
        }
      },
      "source": [
        "df.CapitalGain.value_counts()"
      ],
      "execution_count": null,
      "outputs": [
        {
          "output_type": "execute_result",
          "data": {
            "text/plain": [
              "0,        29849\n",
              "15024,      347\n",
              "7688,       284\n",
              "7298,       246\n",
              "99999,      159\n",
              "5178,        97\n",
              "3103,        97\n",
              "4386,        70\n",
              "5013,        69\n",
              "8614,        55\n",
              "3325,        53\n",
              "2174,        48\n",
              "10520,       43\n",
              "4064,        42\n",
              "14084,       41\n",
              "4650,        41\n",
              "3137,        37\n",
              "20051,       37\n",
              "27828,       34\n",
              "594,         34\n",
              "3908,        32\n",
              "2829,        31\n",
              "6849,        27\n",
              "13550,       27\n",
              "14344,       26\n",
              "1055,        25\n",
              "2885,        24\n",
              "3411,        24\n",
              "4787,        23\n",
              "3464,        23\n",
              "          ...  \n",
              "25124,        4\n",
              "9562,         4\n",
              "1086,         4\n",
              "7896,         3\n",
              "5721,         3\n",
              "1173,         3\n",
              "1424,         3\n",
              "2961,         3\n",
              "4687,         3\n",
              "6360,         3\n",
              "2009,         3\n",
              "2936,         3\n",
              "2993,         2\n",
              "11678,        2\n",
              "18481,        2\n",
              "2062,         2\n",
              "401,          2\n",
              "3456,         2\n",
              "41310,        2\n",
              "6723,         2\n",
              "6097,         1\n",
              "2387,         1\n",
              "1639,         1\n",
              "2538,         1\n",
              "5060,         1\n",
              "7978,         1\n",
              "4931,         1\n",
              "1111,         1\n",
              "1455,         1\n",
              "22040,        1\n",
              "Name: CapitalGain, Length: 119, dtype: int64"
            ]
          },
          "metadata": {
            "tags": []
          },
          "execution_count": 46
        }
      ]
    },
    {
      "cell_type": "code",
      "metadata": {
        "id": "nD1tTzWdJvIh",
        "outputId": "6fddb66f-c11d-4633-e5e7-0c70a05f8e67",
        "colab": {
          "base_uri": "https://localhost:8080/",
          "height": 1118
        }
      },
      "source": [
        "df.CapitalLoss.value_counts()"
      ],
      "execution_count": null,
      "outputs": [
        {
          "output_type": "execute_result",
          "data": {
            "text/plain": [
              "0,       31042\n",
              "1902,      202\n",
              "1977,      168\n",
              "1887,      159\n",
              "1485,       51\n",
              "1848,       51\n",
              "2415,       49\n",
              "1602,       47\n",
              "1740,       42\n",
              "1590,       40\n",
              "1876,       39\n",
              "1672,       34\n",
              "2258,       25\n",
              "1564,       25\n",
              "1669,       24\n",
              "2001,       24\n",
              "1741,       24\n",
              "1980,       23\n",
              "1719,       22\n",
              "1408,       21\n",
              "2051,       21\n",
              "2002,       21\n",
              "2377,       20\n",
              "1579,       20\n",
              "1974,       18\n",
              "1504,       18\n",
              "1721,       18\n",
              "2339,       17\n",
              "1628,       15\n",
              "2179,       15\n",
              "         ...  \n",
              "2457,        3\n",
              "4356,        3\n",
              "2231,        3\n",
              "3004,        2\n",
              "1816,        2\n",
              "1735,        2\n",
              "2238,        2\n",
              "1138,        2\n",
              "2352,        2\n",
              "1648,        2\n",
              "3900,        2\n",
              "810,         2\n",
              "1755,        2\n",
              "3683,        2\n",
              "3770,        2\n",
              "2754,        2\n",
              "974,         2\n",
              "2149,        2\n",
              "2282,        1\n",
              "1844,        1\n",
              "2472,        1\n",
              "2163,        1\n",
              "2489,        1\n",
              "2201,        1\n",
              "155,         1\n",
              "1539,        1\n",
              "2467,        1\n",
              "1411,        1\n",
              "1944,        1\n",
              "2080,        1\n",
              "Name: CapitalLoss, Length: 92, dtype: int64"
            ]
          },
          "metadata": {
            "tags": []
          },
          "execution_count": 47
        }
      ]
    },
    {
      "cell_type": "code",
      "metadata": {
        "id": "uOi9_eTaJxjy"
      },
      "source": [
        "df.drop(\"CapitalGain\", axis=1, inplace=True,)\n",
        "df.drop(\"CapitalLoss\", axis=1, inplace=True,)"
      ],
      "execution_count": null,
      "outputs": []
    },
    {
      "cell_type": "code",
      "metadata": {
        "id": "kv-ZHg5DJ2ID"
      },
      "source": [
        "df.Age = df.Age.astype(float)\n",
        "df.fnlwgt = df.fnlwgt.astype(float)\n",
        "df.EducationNum = df.EducationNum.astype(float)\n",
        "df.HoursPerWeek = df.HoursPerWeek.astype(float)"
      ],
      "execution_count": null,
      "outputs": []
    },
    {
      "cell_type": "code",
      "metadata": {
        "id": "DlvLkZsdKITb",
        "outputId": "786562cd-d07e-4185-c431-777b919eac70",
        "colab": {
          "base_uri": "https://localhost:8080/",
          "height": 70
        }
      },
      "source": [
        "df.WorkClass.unique()"
      ],
      "execution_count": null,
      "outputs": [
        {
          "output_type": "execute_result",
          "data": {
            "text/plain": [
              "array(['State-gov,', 'Self-emp-not-inc,', 'Private,', 'Federal-gov,',\n",
              "       'Local-gov,', '?,', 'Self-emp-inc,', 'Without-pay,',\n",
              "       'Never-worked,'], dtype=object)"
            ]
          },
          "metadata": {
            "tags": []
          },
          "execution_count": 50
        }
      ]
    },
    {
      "cell_type": "code",
      "metadata": {
        "id": "mqnbzHNMKKyb",
        "outputId": "ea87adfe-849b-4b10-880e-6979795c2a6e",
        "colab": {
          "base_uri": "https://localhost:8080/",
          "height": 87
        }
      },
      "source": [
        "df.Education.unique()"
      ],
      "execution_count": null,
      "outputs": [
        {
          "output_type": "execute_result",
          "data": {
            "text/plain": [
              "array(['Bachelors,', 'HS-grad,', '11th,', 'Masters,', '9th,',\n",
              "       'Some-college,', 'Assoc-acdm,', 'Assoc-voc,', '7th-8th,',\n",
              "       'Doctorate,', 'Prof-school,', '5th-6th,', '10th,', '1st-4th,',\n",
              "       'Preschool,', '12th,'], dtype=object)"
            ]
          },
          "metadata": {
            "tags": []
          },
          "execution_count": 51
        }
      ]
    },
    {
      "cell_type": "code",
      "metadata": {
        "id": "juNfcftmKMfX",
        "outputId": "b9432559-ee0f-45f7-f2bb-12b00c5609d8",
        "colab": {
          "base_uri": "https://localhost:8080/",
          "height": 70
        }
      },
      "source": [
        "df.MaritalStatus.unique()"
      ],
      "execution_count": null,
      "outputs": [
        {
          "output_type": "execute_result",
          "data": {
            "text/plain": [
              "array(['Never-married,', 'Married-civ-spouse,', 'Divorced,',\n",
              "       'Married-spouse-absent,', 'Separated,', 'Married-AF-spouse,',\n",
              "       'Widowed,'], dtype=object)"
            ]
          },
          "metadata": {
            "tags": []
          },
          "execution_count": 52
        }
      ]
    },
    {
      "cell_type": "code",
      "metadata": {
        "id": "Q4Wt_K8_KOey",
        "outputId": "57082b75-65da-45ed-91c6-91a15bc13439",
        "colab": {
          "base_uri": "https://localhost:8080/",
          "height": 105
        }
      },
      "source": [
        "df.Occupation.unique()"
      ],
      "execution_count": null,
      "outputs": [
        {
          "output_type": "execute_result",
          "data": {
            "text/plain": [
              "array(['Adm-clerical,', 'Exec-managerial,', 'Handlers-cleaners,',\n",
              "       'Prof-specialty,', 'Other-service,', 'Sales,', 'Craft-repair,',\n",
              "       'Transport-moving,', 'Farming-fishing,', 'Machine-op-inspct,',\n",
              "       'Tech-support,', '?,', 'Protective-serv,', 'Armed-Forces,',\n",
              "       'Priv-house-serv,'], dtype=object)"
            ]
          },
          "metadata": {
            "tags": []
          },
          "execution_count": 53
        }
      ]
    },
    {
      "cell_type": "code",
      "metadata": {
        "id": "piJCm_EwKPTZ",
        "outputId": "73bfb273-b9f8-4293-a53d-2947f4365a20",
        "colab": {
          "base_uri": "https://localhost:8080/",
          "height": 52
        }
      },
      "source": [
        "df.Relationship.unique()"
      ],
      "execution_count": null,
      "outputs": [
        {
          "output_type": "execute_result",
          "data": {
            "text/plain": [
              "array(['Not-in-family,', 'Husband,', 'Wife,', 'Own-child,', 'Unmarried,',\n",
              "       'Other-relative,'], dtype=object)"
            ]
          },
          "metadata": {
            "tags": []
          },
          "execution_count": 54
        }
      ]
    },
    {
      "cell_type": "code",
      "metadata": {
        "id": "1ewcK3TqKRM2",
        "outputId": "f0411386-0f17-41c4-bbe6-3f8e6e18a2c4",
        "colab": {
          "base_uri": "https://localhost:8080/",
          "height": 34
        }
      },
      "source": [
        "len(df.NativeCountry.unique())"
      ],
      "execution_count": null,
      "outputs": [
        {
          "output_type": "execute_result",
          "data": {
            "text/plain": [
              "42"
            ]
          },
          "metadata": {
            "tags": []
          },
          "execution_count": 55
        }
      ]
    },
    {
      "cell_type": "code",
      "metadata": {
        "id": "IGD4gYJbKWSL"
      },
      "source": [
        "df = pd.get_dummies(df, columns=[\n",
        "    \"WorkClass\", \"Education\", \"MaritalStatus\", \"Occupation\", \"Relationship\",\n",
        "    \"Race\", \"Gender\", \"NativeCountry\",\n",
        "])"
      ],
      "execution_count": null,
      "outputs": []
    },
    {
      "cell_type": "code",
      "metadata": {
        "id": "MpISN8xhKZIW",
        "outputId": "6827e098-de6a-49af-c005-fd2feed8b42c",
        "colab": {
          "base_uri": "https://localhost:8080/",
          "height": 34
        }
      },
      "source": [
        "df.shape"
      ],
      "execution_count": null,
      "outputs": [
        {
          "output_type": "execute_result",
          "data": {
            "text/plain": [
              "(32561, 106)"
            ]
          },
          "metadata": {
            "tags": []
          },
          "execution_count": 57
        }
      ]
    },
    {
      "cell_type": "code",
      "metadata": {
        "id": "vDsphuTFKctf",
        "outputId": "ca145b80-16be-48e5-aeae-002eae44c7a5",
        "colab": {
          "base_uri": "https://localhost:8080/",
          "height": 70
        }
      },
      "source": [
        "pd.value_counts(pd.Series(y_all))"
      ],
      "execution_count": null,
      "outputs": [
        {
          "output_type": "execute_result",
          "data": {
            "text/plain": [
              "-1    24720\n",
              " 1     7841\n",
              "dtype: int64"
            ]
          },
          "metadata": {
            "tags": []
          },
          "execution_count": 58
        }
      ]
    },
    {
      "cell_type": "code",
      "metadata": {
        "id": "jU9HNa9fKg5s"
      },
      "source": [
        "X_train, X_test, y_train, y_test = train_test_split(\n",
        "    df, y_all, test_size=0.25, stratify=y_all, random_state=rs,\n",
        ")"
      ],
      "execution_count": null,
      "outputs": []
    },
    {
      "cell_type": "code",
      "metadata": {
        "id": "IVyP4Q-yKvkp"
      },
      "source": [
        "standard_scaler_cols = [\"Age\", \"fnlwgt\", \"EducationNum\", \"HoursPerWeek\",]\n",
        "other_cols = list(set(df.columns) - set(standard_scaler_cols))\n",
        "mapper = DataFrameMapper(\n",
        "    [([col,], StandardScaler(),) for col in standard_scaler_cols] +\n",
        "    [(col, None,) for col in other_cols]\n",
        ")"
      ],
      "execution_count": null,
      "outputs": []
    },
    {
      "cell_type": "code",
      "metadata": {
        "id": "Amz99_ysK2Ji"
      },
      "source": [
        "clf = LogisticRegression(random_state=rs,)\n",
        "pipeline = Pipeline([\n",
        "    (\"scale\", mapper,),\n",
        "    (\"logit\", clf,)\n",
        "])"
      ],
      "execution_count": null,
      "outputs": []
    },
    {
      "cell_type": "code",
      "metadata": {
        "id": "kXuFsEn0K5Gr"
      },
      "source": [
        "strat_kfold = StratifiedKFold(10, random_state=rs,)\n",
        "estimator = GridSearchCV(\n",
        "    pipeline,\n",
        "    param_grid={\n",
        "        \"logit__C\": np.power(10, np.arange(-4.0, 5.0)),\n",
        "        \"logit__class_weight\": [\"balanced\", None,],\n",
        "    },\n",
        "    scoring=make_scorer(roc_auc_score),\n",
        "    cv=strat_kfold,\n",
        ")"
      ],
      "execution_count": null,
      "outputs": []
    },
    {
      "cell_type": "code",
      "metadata": {
        "id": "-tSZg3aZK7fh"
      },
      "source": [
        "import warnings\n",
        "warnings.filterwarnings(\"ignore\")\n",
        "estimator.fit(X_train, y_train)"
      ],
      "execution_count": null,
      "outputs": []
    }
  ]
}
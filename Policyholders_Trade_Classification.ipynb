{
  "nbformat": 4,
  "nbformat_minor": 0,
  "metadata": {
    "colab": {
      "name": "Policyholders_Trade_Classification.ipynb",
      "provenance": [],
      "collapsed_sections": [],
      "include_colab_link": true
    },
    "kernelspec": {
      "name": "python3",
      "display_name": "Python 3"
    },
    "accelerator": "GPU"
  },
  "cells": [
    {
      "cell_type": "markdown",
      "metadata": {
        "id": "view-in-github",
        "colab_type": "text"
      },
      "source": [
        "<a href=\"https://colab.research.google.com/github/sauravsingla/General/blob/master/Policyholders_Trade_Classification.ipynb\" target=\"_parent\"><img src=\"https://colab.research.google.com/assets/colab-badge.svg\" alt=\"Open In Colab\"/></a>"
      ]
    },
    {
      "cell_type": "code",
      "metadata": {
        "id": "GPuqLXEFclYP",
        "colab_type": "code",
        "colab": {}
      },
      "source": [
        "#Import packages\n",
        "import csv\n",
        "import pandas as pd\n",
        "import numpy as np\n",
        "from scipy.integrate import simps\n",
        "\n",
        "%matplotlib inline\n",
        "import matplotlib.pyplot as plt\n",
        "import matplotlib.dates as mdates\n",
        "import matplotlib as mpl"
      ],
      "execution_count": null,
      "outputs": []
    },
    {
      "cell_type": "code",
      "metadata": {
        "id": "47gmU42fB4NK",
        "colab_type": "code",
        "colab": {}
      },
      "source": [
        "#Assign colmn names\n",
        "colnames=['id', 'home', 'about', 'what','services','strategy','trade'] "
      ],
      "execution_count": null,
      "outputs": []
    },
    {
      "cell_type": "code",
      "metadata": {
        "id": "OQWq6pbUJ6DQ",
        "colab_type": "code",
        "colab": {}
      },
      "source": [
        "#Reading CSV file\n",
        "train_df = pd.read_csv('training_dataset.csv', sep=',',  names=colnames, skiprows=0, nrows=24838)"
      ],
      "execution_count": null,
      "outputs": []
    },
    {
      "cell_type": "code",
      "metadata": {
        "id": "y23qOm9IZo9d",
        "colab_type": "code",
        "colab": {}
      },
      "source": [
        "#Reading CSV file\n",
        "test_df = pd.read_csv('test_dataset.csv', sep=',',  names=colnames, skiprows=0, nrows=6203)"
      ],
      "execution_count": null,
      "outputs": []
    },
    {
      "cell_type": "code",
      "metadata": {
        "id": "njtdEe9a0RPm",
        "colab_type": "code",
        "colab": {}
      },
      "source": [
        "train_df = train_df.drop(0)"
      ],
      "execution_count": null,
      "outputs": []
    },
    {
      "cell_type": "code",
      "metadata": {
        "id": "KnfwGqGv0S6L",
        "colab_type": "code",
        "colab": {}
      },
      "source": [
        "test_df = test_df.drop(0)"
      ],
      "execution_count": null,
      "outputs": []
    },
    {
      "cell_type": "code",
      "metadata": {
        "id": "Pm586FW9cmq4",
        "colab_type": "code",
        "colab": {
          "base_uri": "https://localhost:8080/",
          "height": 197
        },
        "outputId": "d90a15fb-1878-4f03-ae8f-fde4cf0f7bcc"
      },
      "source": [
        "#Checking top 5 rows\n",
        "test_df.head(5)"
      ],
      "execution_count": null,
      "outputs": [
        {
          "output_type": "execute_result",
          "data": {
            "text/html": [
              "<div>\n",
              "<style scoped>\n",
              "    .dataframe tbody tr th:only-of-type {\n",
              "        vertical-align: middle;\n",
              "    }\n",
              "\n",
              "    .dataframe tbody tr th {\n",
              "        vertical-align: top;\n",
              "    }\n",
              "\n",
              "    .dataframe thead th {\n",
              "        text-align: right;\n",
              "    }\n",
              "</style>\n",
              "<table border=\"1\" class=\"dataframe\">\n",
              "  <thead>\n",
              "    <tr style=\"text-align: right;\">\n",
              "      <th></th>\n",
              "      <th>id</th>\n",
              "      <th>home</th>\n",
              "      <th>about</th>\n",
              "      <th>what</th>\n",
              "      <th>services</th>\n",
              "      <th>strategy</th>\n",
              "      <th>trade</th>\n",
              "    </tr>\n",
              "  </thead>\n",
              "  <tbody>\n",
              "    <tr>\n",
              "      <th>1</th>\n",
              "      <td>51564</td>\n",
              "      <td>It appears that your cart is currently empty!....</td>\n",
              "      <td>NaN</td>\n",
              "      <td>NaN</td>\n",
              "      <td>NaN</td>\n",
              "      <td>NaN</td>\n",
              "      <td>Beauty</td>\n",
              "    </tr>\n",
              "    <tr>\n",
              "      <th>2</th>\n",
              "      <td>42840</td>\n",
              "      <td>Helping You Feel Beautiful. We provide you wit...</td>\n",
              "      <td>NaN</td>\n",
              "      <td>NaN</td>\n",
              "      <td>NaN</td>\n",
              "      <td>NaN</td>\n",
              "      <td>Beauty</td>\n",
              "    </tr>\n",
              "    <tr>\n",
              "      <th>3</th>\n",
              "      <td>42943</td>\n",
              "      <td>SALE - Up to 35% off Selected Collections.* Le...</td>\n",
              "      <td>SALE - Up to 35% off Selected Collections.* Le...</td>\n",
              "      <td>NaN</td>\n",
              "      <td>NaN</td>\n",
              "      <td>NaN</td>\n",
              "      <td>Beauty</td>\n",
              "    </tr>\n",
              "    <tr>\n",
              "      <th>4</th>\n",
              "      <td>42881</td>\n",
              "      <td>Discover L'Occitane's most loved products made...</td>\n",
              "      <td>At L'OCCITANE, we show off the very best Prove...</td>\n",
              "      <td>NaN</td>\n",
              "      <td>NaN</td>\n",
              "      <td>NaN</td>\n",
              "      <td>Beauty</td>\n",
              "    </tr>\n",
              "    <tr>\n",
              "      <th>5</th>\n",
              "      <td>43083</td>\n",
              "      <td>You have no items in your shopping basket.. FR...</td>\n",
              "      <td>You have no items in your shopping basket.. FR...</td>\n",
              "      <td>NaN</td>\n",
              "      <td>NaN</td>\n",
              "      <td>NaN</td>\n",
              "      <td>Beauty</td>\n",
              "    </tr>\n",
              "  </tbody>\n",
              "</table>\n",
              "</div>"
            ],
            "text/plain": [
              "      id                                               home  \\\n",
              "1  51564  It appears that your cart is currently empty!....   \n",
              "2  42840  Helping You Feel Beautiful. We provide you wit...   \n",
              "3  42943  SALE - Up to 35% off Selected Collections.* Le...   \n",
              "4  42881  Discover L'Occitane's most loved products made...   \n",
              "5  43083  You have no items in your shopping basket.. FR...   \n",
              "\n",
              "                                               about what services strategy  \\\n",
              "1                                                NaN  NaN      NaN      NaN   \n",
              "2                                                NaN  NaN      NaN      NaN   \n",
              "3  SALE - Up to 35% off Selected Collections.* Le...  NaN      NaN      NaN   \n",
              "4  At L'OCCITANE, we show off the very best Prove...  NaN      NaN      NaN   \n",
              "5  You have no items in your shopping basket.. FR...  NaN      NaN      NaN   \n",
              "\n",
              "    trade  \n",
              "1  Beauty  \n",
              "2  Beauty  \n",
              "3  Beauty  \n",
              "4  Beauty  \n",
              "5  Beauty  "
            ]
          },
          "metadata": {
            "tags": []
          },
          "execution_count": 82
        }
      ]
    },
    {
      "cell_type": "code",
      "metadata": {
        "id": "9Y1UF9asLYWp",
        "colab_type": "code",
        "colab": {
          "base_uri": "https://localhost:8080/",
          "height": 230
        },
        "outputId": "49b153f7-226a-4fe0-83da-5324291a1084"
      },
      "source": [
        "#Checking the quality of the dataset\n",
        "test_df.info()"
      ],
      "execution_count": null,
      "outputs": [
        {
          "output_type": "stream",
          "text": [
            "<class 'pandas.core.frame.DataFrame'>\n",
            "Int64Index: 6202 entries, 1 to 6202\n",
            "Data columns (total 7 columns):\n",
            "id          6202 non-null object\n",
            "home        6202 non-null object\n",
            "about       2246 non-null object\n",
            "what        99 non-null object\n",
            "services    565 non-null object\n",
            "strategy    23 non-null object\n",
            "trade       6202 non-null object\n",
            "dtypes: object(7)\n",
            "memory usage: 387.6+ KB\n"
          ],
          "name": "stdout"
        }
      ]
    },
    {
      "cell_type": "code",
      "metadata": {
        "id": "PTFzgODlLdbR",
        "colab_type": "code",
        "colab": {
          "base_uri": "https://localhost:8080/",
          "height": 34
        },
        "outputId": "e5759c00-e3f2-446b-99a3-9f1037de319a"
      },
      "source": [
        "#Checking the dimension of the dataset\n",
        "train_df.shape"
      ],
      "execution_count": null,
      "outputs": [
        {
          "output_type": "execute_result",
          "data": {
            "text/plain": [
              "(24837, 7)"
            ]
          },
          "metadata": {
            "tags": []
          },
          "execution_count": 26
        }
      ]
    },
    {
      "cell_type": "code",
      "metadata": {
        "id": "xX6kOXGeLhwx",
        "colab_type": "code",
        "colab": {
          "base_uri": "https://localhost:8080/",
          "height": 201
        },
        "outputId": "18bf25f9-7e3d-4232-c6d4-4fbf6b8c420f"
      },
      "source": [
        "#Checking the count of the attributes\n",
        "display(train_df.describe())"
      ],
      "execution_count": null,
      "outputs": [
        {
          "output_type": "display_data",
          "data": {
            "text/html": [
              "<div>\n",
              "<style scoped>\n",
              "    .dataframe tbody tr th:only-of-type {\n",
              "        vertical-align: middle;\n",
              "    }\n",
              "\n",
              "    .dataframe tbody tr th {\n",
              "        vertical-align: top;\n",
              "    }\n",
              "\n",
              "    .dataframe thead th {\n",
              "        text-align: right;\n",
              "    }\n",
              "</style>\n",
              "<table border=\"1\" class=\"dataframe\">\n",
              "  <thead>\n",
              "    <tr style=\"text-align: right;\">\n",
              "      <th></th>\n",
              "      <th>id</th>\n",
              "      <th>home</th>\n",
              "      <th>about</th>\n",
              "      <th>what</th>\n",
              "      <th>services</th>\n",
              "      <th>strategy</th>\n",
              "      <th>trade</th>\n",
              "    </tr>\n",
              "  </thead>\n",
              "  <tbody>\n",
              "    <tr>\n",
              "      <th>count</th>\n",
              "      <td>24837</td>\n",
              "      <td>24837</td>\n",
              "      <td>8775</td>\n",
              "      <td>425</td>\n",
              "      <td>2085</td>\n",
              "      <td>75</td>\n",
              "      <td>24837</td>\n",
              "    </tr>\n",
              "    <tr>\n",
              "      <th>unique</th>\n",
              "      <td>24837</td>\n",
              "      <td>23560</td>\n",
              "      <td>8153</td>\n",
              "      <td>399</td>\n",
              "      <td>1860</td>\n",
              "      <td>66</td>\n",
              "      <td>11</td>\n",
              "    </tr>\n",
              "    <tr>\n",
              "      <th>top</th>\n",
              "      <td>14678</td>\n",
              "      <td>Never be without your favourite Boots products...</td>\n",
              "      <td>See what the NHS offers. Choose the right serv...</td>\n",
              "      <td>The Trussell Trust partners with local communi...</td>\n",
              "      <td>Never be without your favourite Boots products...</td>\n",
              "      <td>Learn about our specialist programmes for supp...</td>\n",
              "      <td>Tradesmen</td>\n",
              "    </tr>\n",
              "    <tr>\n",
              "      <th>freq</th>\n",
              "      <td>1</td>\n",
              "      <td>89</td>\n",
              "      <td>96</td>\n",
              "      <td>5</td>\n",
              "      <td>70</td>\n",
              "      <td>3</td>\n",
              "      <td>5895</td>\n",
              "    </tr>\n",
              "  </tbody>\n",
              "</table>\n",
              "</div>"
            ],
            "text/plain": [
              "           id                                               home  \\\n",
              "count   24837                                              24837   \n",
              "unique  24837                                              23560   \n",
              "top     14678  Never be without your favourite Boots products...   \n",
              "freq        1                                                 89   \n",
              "\n",
              "                                                    about  \\\n",
              "count                                                8775   \n",
              "unique                                               8153   \n",
              "top     See what the NHS offers. Choose the right serv...   \n",
              "freq                                                   96   \n",
              "\n",
              "                                                     what  \\\n",
              "count                                                 425   \n",
              "unique                                                399   \n",
              "top     The Trussell Trust partners with local communi...   \n",
              "freq                                                    5   \n",
              "\n",
              "                                                 services  \\\n",
              "count                                                2085   \n",
              "unique                                               1860   \n",
              "top     Never be without your favourite Boots products...   \n",
              "freq                                                   70   \n",
              "\n",
              "                                                 strategy      trade  \n",
              "count                                                  75      24837  \n",
              "unique                                                 66         11  \n",
              "top     Learn about our specialist programmes for supp...  Tradesmen  \n",
              "freq                                                    3       5895  "
            ]
          },
          "metadata": {
            "tags": []
          }
        }
      ]
    },
    {
      "cell_type": "markdown",
      "metadata": {
        "id": "9x_qvVN1y4H8",
        "colab_type": "text"
      },
      "source": [
        "*Tradesmen is the majority class and Beauty is the minority class. I am not performing undersampling of the majority class and oversampling of the minority class in here*"
      ]
    },
    {
      "cell_type": "code",
      "metadata": {
        "id": "iLcr8P1lLjkA",
        "colab_type": "code",
        "colab": {
          "base_uri": "https://localhost:8080/",
          "height": 230
        },
        "outputId": "35364799-b859-4cb0-a8af-e7d806d69f0c"
      },
      "source": [
        "#checking the distribution of the Target variable in training dataset\n",
        "train_df['trade'].value_counts()"
      ],
      "execution_count": null,
      "outputs": [
        {
          "output_type": "execute_result",
          "data": {
            "text/plain": [
              "Tradesmen                                     5895\n",
              "Health, Beauty And Complementary Therapies    5059\n",
              "Investment And Financial Services             4642\n",
              "Real Estate Agent                             3645\n",
              "It & Technology                               2262\n",
              "Hr And Recruitment                             966\n",
              "Marketing                                      780\n",
              "Insurance Brokers                              743\n",
              "Photography                                    556\n",
              "Beauty                                         164\n",
              "Film And Video Production                      125\n",
              "Name: trade, dtype: int64"
            ]
          },
          "metadata": {
            "tags": []
          },
          "execution_count": 28
        }
      ]
    },
    {
      "cell_type": "code",
      "metadata": {
        "id": "f3wn5XM_Z6Bv",
        "colab_type": "code",
        "colab": {
          "base_uri": "https://localhost:8080/",
          "height": 230
        },
        "outputId": "56fc4c7a-c4e9-404c-ca74-9ca88d8c7fe5"
      },
      "source": [
        "#checking the distribution of the Target variable in test dataset\n",
        "test_df['trade'].value_counts()"
      ],
      "execution_count": null,
      "outputs": [
        {
          "output_type": "execute_result",
          "data": {
            "text/plain": [
              "Tradesmen                                     1472\n",
              "Health, Beauty And Complementary Therapies    1264\n",
              "Investment And Financial Services             1160\n",
              "Real Estate Agent                              911\n",
              "It & Technology                                565\n",
              "Hr And Recruitment                             241\n",
              "Marketing                                      194\n",
              "Insurance Brokers                              185\n",
              "Photography                                    139\n",
              "Beauty                                          40\n",
              "Film And Video Production                       31\n",
              "Name: trade, dtype: int64"
            ]
          },
          "metadata": {
            "tags": []
          },
          "execution_count": 29
        }
      ]
    },
    {
      "cell_type": "markdown",
      "metadata": {
        "id": "RttcsOvnyMwW",
        "colab_type": "text"
      },
      "source": [
        "*Due to missing values in variables such as  about, what, services, strategy, I have dropped those variables*"
      ]
    },
    {
      "cell_type": "code",
      "metadata": {
        "id": "3PbriKdQL2Du",
        "colab_type": "code",
        "colab": {}
      },
      "source": [
        "train_df = train_df.drop(train_df.columns[[0, 2, 3,4,5]], axis=1)  "
      ],
      "execution_count": null,
      "outputs": []
    },
    {
      "cell_type": "code",
      "metadata": {
        "id": "DfhSnH4cZ_xt",
        "colab_type": "code",
        "colab": {}
      },
      "source": [
        "test_df = test_df.drop(test_df.columns[[0, 2, 3,4,5]], axis=1)  "
      ],
      "execution_count": null,
      "outputs": []
    },
    {
      "cell_type": "markdown",
      "metadata": {
        "id": "nEeaFaZVyrjo",
        "colab_type": "text"
      },
      "source": [
        "*Home is the independent variable and trade is the dependent variable*"
      ]
    },
    {
      "cell_type": "code",
      "metadata": {
        "id": "hjEFwNSwM2Tu",
        "colab_type": "code",
        "colab": {
          "base_uri": "https://localhost:8080/",
          "height": 167
        },
        "outputId": "e1d10673-18b0-4fed-f5d7-b1215cd1a22e"
      },
      "source": [
        "display(train_df.describe())"
      ],
      "execution_count": null,
      "outputs": [
        {
          "output_type": "display_data",
          "data": {
            "text/html": [
              "<div>\n",
              "<style scoped>\n",
              "    .dataframe tbody tr th:only-of-type {\n",
              "        vertical-align: middle;\n",
              "    }\n",
              "\n",
              "    .dataframe tbody tr th {\n",
              "        vertical-align: top;\n",
              "    }\n",
              "\n",
              "    .dataframe thead th {\n",
              "        text-align: right;\n",
              "    }\n",
              "</style>\n",
              "<table border=\"1\" class=\"dataframe\">\n",
              "  <thead>\n",
              "    <tr style=\"text-align: right;\">\n",
              "      <th></th>\n",
              "      <th>home</th>\n",
              "      <th>trade</th>\n",
              "    </tr>\n",
              "  </thead>\n",
              "  <tbody>\n",
              "    <tr>\n",
              "      <th>count</th>\n",
              "      <td>24837</td>\n",
              "      <td>24837</td>\n",
              "    </tr>\n",
              "    <tr>\n",
              "      <th>unique</th>\n",
              "      <td>23560</td>\n",
              "      <td>11</td>\n",
              "    </tr>\n",
              "    <tr>\n",
              "      <th>top</th>\n",
              "      <td>Never be without your favourite Boots products...</td>\n",
              "      <td>Tradesmen</td>\n",
              "    </tr>\n",
              "    <tr>\n",
              "      <th>freq</th>\n",
              "      <td>89</td>\n",
              "      <td>5895</td>\n",
              "    </tr>\n",
              "  </tbody>\n",
              "</table>\n",
              "</div>"
            ],
            "text/plain": [
              "                                                     home      trade\n",
              "count                                               24837      24837\n",
              "unique                                              23560         11\n",
              "top     Never be without your favourite Boots products...  Tradesmen\n",
              "freq                                                   89       5895"
            ]
          },
          "metadata": {
            "tags": []
          }
        }
      ]
    },
    {
      "cell_type": "code",
      "metadata": {
        "id": "DXn7SbOYaJk8",
        "colab_type": "code",
        "colab": {
          "base_uri": "https://localhost:8080/",
          "height": 167
        },
        "outputId": "19d05df4-5365-4aa7-d082-3225196fb2f8"
      },
      "source": [
        "display(test_df.describe())"
      ],
      "execution_count": null,
      "outputs": [
        {
          "output_type": "display_data",
          "data": {
            "text/html": [
              "<div>\n",
              "<style scoped>\n",
              "    .dataframe tbody tr th:only-of-type {\n",
              "        vertical-align: middle;\n",
              "    }\n",
              "\n",
              "    .dataframe tbody tr th {\n",
              "        vertical-align: top;\n",
              "    }\n",
              "\n",
              "    .dataframe thead th {\n",
              "        text-align: right;\n",
              "    }\n",
              "</style>\n",
              "<table border=\"1\" class=\"dataframe\">\n",
              "  <thead>\n",
              "    <tr style=\"text-align: right;\">\n",
              "      <th></th>\n",
              "      <th>home</th>\n",
              "      <th>trade</th>\n",
              "    </tr>\n",
              "  </thead>\n",
              "  <tbody>\n",
              "    <tr>\n",
              "      <th>count</th>\n",
              "      <td>6202</td>\n",
              "      <td>6202</td>\n",
              "    </tr>\n",
              "    <tr>\n",
              "      <th>unique</th>\n",
              "      <td>6016</td>\n",
              "      <td>11</td>\n",
              "    </tr>\n",
              "    <tr>\n",
              "      <th>top</th>\n",
              "      <td>Never be without your favourite Boots products...</td>\n",
              "      <td>Tradesmen</td>\n",
              "    </tr>\n",
              "    <tr>\n",
              "      <th>freq</th>\n",
              "      <td>25</td>\n",
              "      <td>1472</td>\n",
              "    </tr>\n",
              "  </tbody>\n",
              "</table>\n",
              "</div>"
            ],
            "text/plain": [
              "                                                     home      trade\n",
              "count                                                6202       6202\n",
              "unique                                               6016         11\n",
              "top     Never be without your favourite Boots products...  Tradesmen\n",
              "freq                                                   25       1472"
            ]
          },
          "metadata": {
            "tags": []
          }
        }
      ]
    },
    {
      "cell_type": "code",
      "metadata": {
        "id": "fiCTv63XNjaC",
        "colab_type": "code",
        "colab": {
          "base_uri": "https://localhost:8080/",
          "height": 197
        },
        "outputId": "88cbf223-abeb-405a-bb57-f4c00a9c0e9c"
      },
      "source": [
        "train_df.head()"
      ],
      "execution_count": null,
      "outputs": [
        {
          "output_type": "execute_result",
          "data": {
            "text/html": [
              "<div>\n",
              "<style scoped>\n",
              "    .dataframe tbody tr th:only-of-type {\n",
              "        vertical-align: middle;\n",
              "    }\n",
              "\n",
              "    .dataframe tbody tr th {\n",
              "        vertical-align: top;\n",
              "    }\n",
              "\n",
              "    .dataframe thead th {\n",
              "        text-align: right;\n",
              "    }\n",
              "</style>\n",
              "<table border=\"1\" class=\"dataframe\">\n",
              "  <thead>\n",
              "    <tr style=\"text-align: right;\">\n",
              "      <th></th>\n",
              "      <th>home</th>\n",
              "      <th>trade</th>\n",
              "    </tr>\n",
              "  </thead>\n",
              "  <tbody>\n",
              "    <tr>\n",
              "      <th>1</th>\n",
              "      <td>The home also provides specialist care for old...</td>\n",
              "      <td>Health, Beauty And Complementary Therapies</td>\n",
              "    </tr>\n",
              "    <tr>\n",
              "      <th>2</th>\n",
              "      <td>We believe in forming a long term partnership ...</td>\n",
              "      <td>Investment And Financial Services</td>\n",
              "    </tr>\n",
              "    <tr>\n",
              "      <th>3</th>\n",
              "      <td>Did you know that 4 in 5 people prefer website...</td>\n",
              "      <td>Health, Beauty And Complementary Therapies</td>\n",
              "    </tr>\n",
              "    <tr>\n",
              "      <th>4</th>\n",
              "      <td>Call Reporting &amp; Sales Management Systems. Off...</td>\n",
              "      <td>It &amp; Technology</td>\n",
              "    </tr>\n",
              "    <tr>\n",
              "      <th>5</th>\n",
              "      <td>For more information on custom carpentry, and ...</td>\n",
              "      <td>Tradesmen</td>\n",
              "    </tr>\n",
              "  </tbody>\n",
              "</table>\n",
              "</div>"
            ],
            "text/plain": [
              "                                                home  \\\n",
              "1  The home also provides specialist care for old...   \n",
              "2  We believe in forming a long term partnership ...   \n",
              "3  Did you know that 4 in 5 people prefer website...   \n",
              "4  Call Reporting & Sales Management Systems. Off...   \n",
              "5  For more information on custom carpentry, and ...   \n",
              "\n",
              "                                        trade  \n",
              "1  Health, Beauty And Complementary Therapies  \n",
              "2           Investment And Financial Services  \n",
              "3  Health, Beauty And Complementary Therapies  \n",
              "4                             It & Technology  \n",
              "5                                   Tradesmen  "
            ]
          },
          "metadata": {
            "tags": []
          },
          "execution_count": 35
        }
      ]
    },
    {
      "cell_type": "code",
      "metadata": {
        "id": "rIpwvHfPi20K",
        "colab_type": "code",
        "colab": {
          "base_uri": "https://localhost:8080/",
          "height": 34
        },
        "outputId": "0e370631-dd2b-4435-cf73-4da23fcc1f73"
      },
      "source": [
        "#feature extraction using vector\n",
        "from sklearn.feature_extraction.text import CountVectorizer\n",
        "count_vect = CountVectorizer()\n",
        "X_train_counts = count_vect.fit_transform(train_df.home)\n",
        "X_train_counts.shape"
      ],
      "execution_count": null,
      "outputs": [
        {
          "output_type": "execute_result",
          "data": {
            "text/plain": [
              "(24837, 87906)"
            ]
          },
          "metadata": {
            "tags": []
          },
          "execution_count": 37
        }
      ]
    },
    {
      "cell_type": "code",
      "metadata": {
        "id": "5lp2fQfdjFGb",
        "colab_type": "code",
        "colab": {
          "base_uri": "https://localhost:8080/",
          "height": 34
        },
        "outputId": "a59f2a96-5f5f-45d5-fa0d-bc6c3efb0dc3"
      },
      "source": [
        "#converting vector to TFIDF\n",
        "from sklearn.feature_extraction.text import TfidfTransformer\n",
        "tfidf_transformer = TfidfTransformer()\n",
        "X_train_tfidf = tfidf_transformer.fit_transform(X_train_counts)\n",
        "X_train_tfidf.shape"
      ],
      "execution_count": null,
      "outputs": [
        {
          "output_type": "execute_result",
          "data": {
            "text/plain": [
              "(24837, 87906)"
            ]
          },
          "metadata": {
            "tags": []
          },
          "execution_count": 38
        }
      ]
    },
    {
      "cell_type": "markdown",
      "metadata": {
        "id": "Kpn1GoOIzvX8",
        "colab_type": "text"
      },
      "source": [
        "*Using Naive Bayes for classification coming with accuracy of 64% on the test dataset. But, there is slight improvement in accuracy to 66% after implementing stopwords and 68% after implementing stemming*"
      ]
    },
    {
      "cell_type": "code",
      "metadata": {
        "id": "iKEzyNbWiMxt",
        "colab_type": "code",
        "colab": {}
      },
      "source": [
        "from sklearn.naive_bayes import MultinomialNB\n",
        "clf = MultinomialNB().fit(X_train_tfidf, train_df.trade)"
      ],
      "execution_count": null,
      "outputs": []
    },
    {
      "cell_type": "code",
      "metadata": {
        "id": "tkPE0H2ejZGk",
        "colab_type": "code",
        "colab": {}
      },
      "source": [
        "from sklearn.pipeline import Pipeline\n",
        "text_clf = Pipeline([('vect', CountVectorizer()), ('tfidf', TfidfTransformer()), ('clf', MultinomialNB()),])\n",
        "text_clf = text_clf.fit(train_df.home, train_df.trade)"
      ],
      "execution_count": null,
      "outputs": []
    },
    {
      "cell_type": "code",
      "metadata": {
        "id": "sDhO4TqXj5EL",
        "colab_type": "code",
        "colab": {
          "base_uri": "https://localhost:8080/",
          "height": 34
        },
        "outputId": "ed5a0c87-4f5e-46a6-9d46-fb1c9a5368f6"
      },
      "source": [
        "import numpy as np\n",
        "predicted = text_clf.predict(test_df.home)\n",
        "np.mean(predicted == test_df.trade)"
      ],
      "execution_count": null,
      "outputs": [
        {
          "output_type": "execute_result",
          "data": {
            "text/plain": [
              "0.6439858110287005"
            ]
          },
          "metadata": {
            "tags": []
          },
          "execution_count": 41
        }
      ]
    },
    {
      "cell_type": "code",
      "metadata": {
        "id": "WshnLwU_mklc",
        "colab_type": "code",
        "colab": {}
      },
      "source": [
        "from sklearn.pipeline import Pipeline\n",
        "text_clf = Pipeline([('vect', CountVectorizer(stop_words='english')), ('tfidf', TfidfTransformer()),('clf', MultinomialNB()), ])"
      ],
      "execution_count": null,
      "outputs": []
    },
    {
      "cell_type": "code",
      "metadata": {
        "id": "UYI3J_Pom5KJ",
        "colab_type": "code",
        "colab": {}
      },
      "source": [
        "text_clf = text_clf.fit(train_df.home, train_df.trade)"
      ],
      "execution_count": null,
      "outputs": []
    },
    {
      "cell_type": "code",
      "metadata": {
        "id": "bedFIcg1m9m0",
        "colab_type": "code",
        "colab": {
          "base_uri": "https://localhost:8080/",
          "height": 34
        },
        "outputId": "71036902-0db0-40e2-b3c6-d7e44f2204c9"
      },
      "source": [
        "import numpy as np\n",
        "predicted = text_clf.predict(test_df.home)\n",
        "np.mean(predicted == test_df.trade)"
      ],
      "execution_count": null,
      "outputs": [
        {
          "output_type": "execute_result",
          "data": {
            "text/plain": [
              "0.6636568848758465"
            ]
          },
          "metadata": {
            "tags": []
          },
          "execution_count": 44
        }
      ]
    },
    {
      "cell_type": "code",
      "metadata": {
        "id": "VMZNozkE-pfS",
        "colab_type": "code",
        "colab": {
          "base_uri": "https://localhost:8080/",
          "height": 70
        },
        "outputId": "ac5895ef-df1d-4771-a31b-67553946057a"
      },
      "source": [
        "#Importing nltk for stopwords\n",
        "import nltk\n",
        "nltk.download('stopwords')"
      ],
      "execution_count": null,
      "outputs": [
        {
          "output_type": "stream",
          "text": [
            "[nltk_data] Downloading package stopwords to /root/nltk_data...\n",
            "[nltk_data]   Unzipping corpora/stopwords.zip.\n"
          ],
          "name": "stdout"
        },
        {
          "output_type": "execute_result",
          "data": {
            "text/plain": [
              "True"
            ]
          },
          "metadata": {
            "tags": []
          },
          "execution_count": 46
        }
      ]
    },
    {
      "cell_type": "code",
      "metadata": {
        "id": "xtTSeELU4-WO",
        "colab_type": "code",
        "colab": {
          "base_uri": "https://localhost:8080/",
          "height": 34
        },
        "outputId": "a738d6ab-013a-40b3-cec6-2ccac71aee13"
      },
      "source": [
        "from nltk.stem.snowball import SnowballStemmer\n",
        "stemmer = SnowballStemmer(\"english\", ignore_stopwords=True)\n",
        "class StemmedCountVectorizer(CountVectorizer):\n",
        "    def build_analyzer(self):\n",
        "        analyzer = super(StemmedCountVectorizer, self).build_analyzer()\n",
        "        return lambda doc: ([stemmer.stem(w) for w in analyzer(doc)])\n",
        "stemmed_count_vect = StemmedCountVectorizer(stop_words='english')\n",
        "text_mnb_stemmed = Pipeline([('vect', stemmed_count_vect), ('tfidf', TfidfTransformer()), ('mnb', MultinomialNB(fit_prior=False)), ])\n",
        "text_mnb_stemmed = text_mnb_stemmed.fit(train_df.home, train_df.trade)\n",
        "predicted_mnb_stemmed = text_mnb_stemmed.predict(test_df.home)\n",
        "np.mean(predicted_mnb_stemmed == test_df.trade)"
      ],
      "execution_count": null,
      "outputs": [
        {
          "output_type": "execute_result",
          "data": {
            "text/plain": [
              "0.6891325378910029"
            ]
          },
          "metadata": {
            "tags": []
          },
          "execution_count": 47
        }
      ]
    },
    {
      "cell_type": "markdown",
      "metadata": {
        "id": "Sj9wuNqz0ZI9",
        "colab_type": "text"
      },
      "source": [
        "*Built model using Support Vector Machine and coming with accuracy of 76% on the test dataset and improved to 77% when used stopwords but accuracy remain to 77% after implementing stemming*"
      ]
    },
    {
      "cell_type": "code",
      "metadata": {
        "id": "y3waAbBynEwv",
        "colab_type": "code",
        "colab": {
          "base_uri": "https://localhost:8080/",
          "height": 90
        },
        "outputId": "0a75beae-a62e-4fd7-82a7-46d3021695dc"
      },
      "source": [
        "from sklearn.linear_model import SGDClassifier\n",
        "import numpy as np1\n",
        "text_clf_svm = Pipeline([('vect', CountVectorizer()), ('tfidf', TfidfTransformer()), ('clf-svm', SGDClassifier(loss='hinge', penalty='l2', alpha=1e-3, n_iter=5, random_state=42)),])\n",
        "text_clf_svm= text_clf_svm.fit(train_df.home, train_df.trade)\n",
        "predicted_svm = text_clf_svm.predict(test_df.home)\n",
        "np1.mean(predicted_svm == test_df.trade)"
      ],
      "execution_count": null,
      "outputs": [
        {
          "output_type": "stream",
          "text": [
            "/usr/local/lib/python3.6/dist-packages/sklearn/linear_model/stochastic_gradient.py:117: DeprecationWarning: n_iter parameter is deprecated in 0.19 and will be removed in 0.21. Use max_iter and tol instead.\n",
            "  DeprecationWarning)\n"
          ],
          "name": "stderr"
        },
        {
          "output_type": "execute_result",
          "data": {
            "text/plain": [
              "0.7679780715898097"
            ]
          },
          "metadata": {
            "tags": []
          },
          "execution_count": 48
        }
      ]
    },
    {
      "cell_type": "code",
      "metadata": {
        "id": "oaq4aBVhpCvV",
        "colab_type": "code",
        "colab": {
          "base_uri": "https://localhost:8080/",
          "height": 90
        },
        "outputId": "960a72a1-9f04-4b65-cf11-2d94c32dbdff"
      },
      "source": [
        "from sklearn.linear_model import SGDClassifier\n",
        "import numpy as np1\n",
        "text_clf_svm = Pipeline([('vect', CountVectorizer(stop_words='english')), ('tfidf', TfidfTransformer()), ('clf-svm', SGDClassifier(loss='hinge', penalty='l2', alpha=1e-3, n_iter=5, random_state=42)),])\n",
        "text_clf_svm= text_clf_svm.fit(train_df.home, train_df.trade)\n",
        "predicted_svm = text_clf_svm.predict(test_df.home)\n",
        "np1.mean(predicted_svm == test_df.trade)"
      ],
      "execution_count": null,
      "outputs": [
        {
          "output_type": "stream",
          "text": [
            "/usr/local/lib/python3.6/dist-packages/sklearn/linear_model/stochastic_gradient.py:117: DeprecationWarning: n_iter parameter is deprecated in 0.19 and will be removed in 0.21. Use max_iter and tol instead.\n",
            "  DeprecationWarning)\n"
          ],
          "name": "stderr"
        },
        {
          "output_type": "execute_result",
          "data": {
            "text/plain": [
              "0.77184779103515"
            ]
          },
          "metadata": {
            "tags": []
          },
          "execution_count": 49
        }
      ]
    },
    {
      "cell_type": "code",
      "metadata": {
        "id": "AD4JprKJ51EW",
        "colab_type": "code",
        "colab": {
          "base_uri": "https://localhost:8080/",
          "height": 90
        },
        "outputId": "e9c43ec7-4ab2-48a8-b07c-760c77129f97"
      },
      "source": [
        "from nltk.stem.snowball import SnowballStemmer\n",
        "stemmer = SnowballStemmer(\"english\", ignore_stopwords=True)\n",
        "class StemmedCountVectorizer(CountVectorizer):\n",
        "    def build_analyzer(self):\n",
        "        analyzer = super(StemmedCountVectorizer, self).build_analyzer()\n",
        "        return lambda doc: ([stemmer.stem(w) for w in analyzer(doc)])\n",
        "stemmed_count_vect = StemmedCountVectorizer(stop_words='english')\n",
        "text_mnb_stemmed = Pipeline([('vect', stemmed_count_vect), ('tfidf', TfidfTransformer()), ('clf-svm', SGDClassifier(loss='hinge', penalty='l2', alpha=1e-3, n_iter=5, random_state=42)), ])\n",
        "text_mnb_stemmed = text_mnb_stemmed.fit(train_df.home, train_df.trade)\n",
        "predicted_mnb_stemmed = text_mnb_stemmed.predict(test_df.home)\n",
        "np1.mean(predicted_mnb_stemmed == test_df.trade)"
      ],
      "execution_count": null,
      "outputs": [
        {
          "output_type": "stream",
          "text": [
            "/usr/local/lib/python3.6/dist-packages/sklearn/linear_model/stochastic_gradient.py:117: DeprecationWarning: n_iter parameter is deprecated in 0.19 and will be removed in 0.21. Use max_iter and tol instead.\n",
            "  DeprecationWarning)\n"
          ],
          "name": "stderr"
        },
        {
          "output_type": "execute_result",
          "data": {
            "text/plain": [
              "0.7712028377942599"
            ]
          },
          "metadata": {
            "tags": []
          },
          "execution_count": 50
        }
      ]
    },
    {
      "cell_type": "markdown",
      "metadata": {
        "id": "kYrwAQCE19vn",
        "colab_type": "text"
      },
      "source": [
        "*Using Glove embedding with CNN for text classification*"
      ]
    },
    {
      "cell_type": "code",
      "metadata": {
        "id": "zs5YFmfBYbgt",
        "colab_type": "code",
        "colab": {
          "base_uri": "https://localhost:8080/",
          "height": 836
        },
        "outputId": "22f20365-1583-4045-e46c-067dc6e31399"
      },
      "source": [
        "!pip3 install deeppavlov"
      ],
      "execution_count": null,
      "outputs": [
        {
          "output_type": "stream",
          "text": [
            "Requirement already satisfied: deeppavlov in /usr/local/lib/python3.6/dist-packages (0.2.0)\n",
            "Requirement already satisfied: pymorphy2==0.8 in /usr/local/lib/python3.6/dist-packages (from deeppavlov) (0.8)\n",
            "Requirement already satisfied: pyopenssl==18.0.0 in /usr/local/lib/python3.6/dist-packages (from deeppavlov) (18.0.0)\n",
            "Requirement already satisfied: pandas==0.23.1 in /usr/local/lib/python3.6/dist-packages (from deeppavlov) (0.23.1)\n",
            "Requirement already satisfied: flask-cors==3.0.6 in /usr/local/lib/python3.6/dist-packages (from deeppavlov) (3.0.6)\n",
            "Requirement already satisfied: rusenttokenize==0.0.4 in /usr/local/lib/python3.6/dist-packages (from deeppavlov) (0.0.4)\n",
            "Requirement already satisfied: requests==2.19.1 in /usr/local/lib/python3.6/dist-packages (from deeppavlov) (2.19.1)\n",
            "Requirement already satisfied: nltk==3.2.5 in /usr/local/lib/python3.6/dist-packages (from deeppavlov) (3.2.5)\n",
            "Requirement already satisfied: h5py==2.8.0 in /usr/local/lib/python3.6/dist-packages (from deeppavlov) (2.8.0)\n",
            "Requirement already satisfied: flask==1.0.2 in /usr/local/lib/python3.6/dist-packages (from deeppavlov) (1.0.2)\n",
            "Requirement already satisfied: scikit-learn==0.19.1 in /usr/local/lib/python3.6/dist-packages (from deeppavlov) (0.19.1)\n",
            "Requirement already satisfied: tqdm==4.23.4 in /usr/local/lib/python3.6/dist-packages (from deeppavlov) (4.23.4)\n",
            "Requirement already satisfied: pymorphy2-dicts-ru in /usr/local/lib/python3.6/dist-packages (from deeppavlov) (2.4.404381.4453942)\n",
            "Requirement already satisfied: flasgger==0.9.1 in /usr/local/lib/python3.6/dist-packages (from deeppavlov) (0.9.1)\n",
            "Requirement already satisfied: numpy==1.14.5 in /usr/local/lib/python3.6/dist-packages (from deeppavlov) (1.14.5)\n",
            "Requirement already satisfied: Cython==0.28.5 in /usr/local/lib/python3.6/dist-packages (from deeppavlov) (0.28.5)\n",
            "Requirement already satisfied: pytelegrambotapi==3.5.2 in /usr/local/lib/python3.6/dist-packages (from deeppavlov) (3.5.2)\n",
            "Requirement already satisfied: scipy==1.1.0 in /usr/local/lib/python3.6/dist-packages (from deeppavlov) (1.1.0)\n",
            "Requirement already satisfied: keras==2.2.0 in /usr/local/lib/python3.6/dist-packages (from deeppavlov) (2.2.0)\n",
            "Requirement already satisfied: overrides==1.9 in /usr/local/lib/python3.6/dist-packages (from deeppavlov) (1.9)\n",
            "Requirement already satisfied: fuzzywuzzy==0.16.0 in /usr/local/lib/python3.6/dist-packages (from deeppavlov) (0.16.0)\n",
            "Requirement already satisfied: pymorphy2-dicts<3.0,>=2.4 in /usr/local/lib/python3.6/dist-packages (from pymorphy2==0.8->deeppavlov) (2.4.393442.3710985)\n",
            "Requirement already satisfied: docopt>=0.6 in /usr/local/lib/python3.6/dist-packages (from pymorphy2==0.8->deeppavlov) (0.6.2)\n",
            "Requirement already satisfied: dawg-python>=0.7 in /usr/local/lib/python3.6/dist-packages (from pymorphy2==0.8->deeppavlov) (0.7.2)\n",
            "Requirement already satisfied: cryptography>=2.2.1 in /usr/local/lib/python3.6/dist-packages (from pyopenssl==18.0.0->deeppavlov) (2.6.1)\n",
            "Requirement already satisfied: six>=1.5.2 in /usr/local/lib/python3.6/dist-packages (from pyopenssl==18.0.0->deeppavlov) (1.11.0)\n",
            "Requirement already satisfied: pytz>=2011k in /usr/local/lib/python3.6/dist-packages (from pandas==0.23.1->deeppavlov) (2018.9)\n",
            "Requirement already satisfied: python-dateutil>=2.5.0 in /usr/local/lib/python3.6/dist-packages (from pandas==0.23.1->deeppavlov) (2.5.3)\n",
            "Requirement already satisfied: chardet<3.1.0,>=3.0.2 in /usr/local/lib/python3.6/dist-packages (from requests==2.19.1->deeppavlov) (3.0.4)\n",
            "Requirement already satisfied: idna<2.8,>=2.5 in /usr/local/lib/python3.6/dist-packages (from requests==2.19.1->deeppavlov) (2.6)\n",
            "Requirement already satisfied: certifi>=2017.4.17 in /usr/local/lib/python3.6/dist-packages (from requests==2.19.1->deeppavlov) (2019.3.9)\n",
            "Requirement already satisfied: urllib3<1.24,>=1.21.1 in /usr/local/lib/python3.6/dist-packages (from requests==2.19.1->deeppavlov) (1.22)\n",
            "Requirement already satisfied: Werkzeug>=0.14 in /usr/local/lib/python3.6/dist-packages (from flask==1.0.2->deeppavlov) (0.15.2)\n",
            "Requirement already satisfied: itsdangerous>=0.24 in /usr/local/lib/python3.6/dist-packages (from flask==1.0.2->deeppavlov) (1.1.0)\n",
            "Requirement already satisfied: click>=5.1 in /usr/local/lib/python3.6/dist-packages (from flask==1.0.2->deeppavlov) (7.0)\n",
            "Requirement already satisfied: Jinja2>=2.10 in /usr/local/lib/python3.6/dist-packages (from flask==1.0.2->deeppavlov) (2.10.1)\n",
            "Requirement already satisfied: mistune in /usr/local/lib/python3.6/dist-packages (from flasgger==0.9.1->deeppavlov) (0.8.4)\n",
            "Requirement already satisfied: jsonschema>=2.5.1 in /usr/local/lib/python3.6/dist-packages (from flasgger==0.9.1->deeppavlov) (2.6.0)\n",
            "Requirement already satisfied: PyYAML>=3.0 in /usr/local/lib/python3.6/dist-packages (from flasgger==0.9.1->deeppavlov) (3.13)\n",
            "Requirement already satisfied: keras-preprocessing==1.0.1 in /usr/local/lib/python3.6/dist-packages (from keras==2.2.0->deeppavlov) (1.0.1)\n",
            "Requirement already satisfied: keras-applications==1.0.2 in /usr/local/lib/python3.6/dist-packages (from keras==2.2.0->deeppavlov) (1.0.2)\n",
            "Requirement already satisfied: cffi!=1.11.3,>=1.8 in /usr/local/lib/python3.6/dist-packages (from cryptography>=2.2.1->pyopenssl==18.0.0->deeppavlov) (1.12.2)\n",
            "Requirement already satisfied: asn1crypto>=0.21.0 in /usr/local/lib/python3.6/dist-packages (from cryptography>=2.2.1->pyopenssl==18.0.0->deeppavlov) (0.24.0)\n",
            "Requirement already satisfied: MarkupSafe>=0.23 in /usr/local/lib/python3.6/dist-packages (from Jinja2>=2.10->flask==1.0.2->deeppavlov) (1.1.1)\n",
            "Requirement already satisfied: pycparser in /usr/local/lib/python3.6/dist-packages (from cffi!=1.11.3,>=1.8->cryptography>=2.2.1->pyopenssl==18.0.0->deeppavlov) (2.19)\n"
          ],
          "name": "stdout"
        }
      ]
    },
    {
      "cell_type": "code",
      "metadata": {
        "id": "9Ey7ROufHomQ",
        "colab_type": "code",
        "colab": {}
      },
      "source": [
        "from deeppavlov.dataset_readers.basic_classification_reader import BasicClassificationDatasetReader"
      ],
      "execution_count": null,
      "outputs": []
    },
    {
      "cell_type": "code",
      "metadata": {
        "id": "pTW33mV0HxPm",
        "colab_type": "code",
        "colab": {
          "base_uri": "https://localhost:8080/",
          "height": 72
        },
        "outputId": "1b213622-ec0c-4a63-93f1-329914880612"
      },
      "source": [
        "#Reading the test dataset and I will train model on it due to RAM constraint\n",
        "dr = BasicClassificationDatasetReader().read(\n",
        "    data_path='/content/',\n",
        "    train='test_dataset.csv',\n",
        "    x = 'home',\n",
        "    y = 'trade'\n",
        ")"
      ],
      "execution_count": null,
      "outputs": [
        {
          "output_type": "stream",
          "text": [
            "2019-04-15 10:17:19.716 WARNING in 'deeppavlov.dataset_readers.basic_classification_reader'['basic_classification_reader'] at line 95: Cannot find /content/valid.csv file\n",
            "2019-04-15 10:17:19.717 WARNING in 'deeppavlov.dataset_readers.basic_classification_reader'['basic_classification_reader'] at line 95: Cannot find /content/test.csv file\n"
          ],
          "name": "stderr"
        }
      ]
    },
    {
      "cell_type": "code",
      "metadata": {
        "id": "OeY82jHhIJWC",
        "colab_type": "code",
        "colab": {
          "base_uri": "https://localhost:8080/",
          "height": 34
        },
        "outputId": "690fab4e-23bc-4d54-e329-2a0afe531278"
      },
      "source": [
        "#Checking train/valid/test sizes\n",
        "[(k, len(dr[k])) for k in dr.keys()]"
      ],
      "execution_count": null,
      "outputs": [
        {
          "output_type": "execute_result",
          "data": {
            "text/plain": [
              "[('train', 6203), ('valid', 0), ('test', 0)]"
            ]
          },
          "metadata": {
            "tags": []
          },
          "execution_count": 86
        }
      ]
    },
    {
      "cell_type": "code",
      "metadata": {
        "id": "qsdvrjX7IN1V",
        "colab_type": "code",
        "colab": {}
      },
      "source": [
        "from deeppavlov.dataset_iterators.basic_classification_iterator import BasicClassificationDatasetIterator"
      ],
      "execution_count": null,
      "outputs": []
    },
    {
      "cell_type": "code",
      "metadata": {
        "id": "G9pANyJaIRLv",
        "colab_type": "code",
        "colab": {
          "base_uri": "https://localhost:8080/",
          "height": 54
        },
        "outputId": "c1965c56-3953-4535-870a-b0c944071a57"
      },
      "source": [
        "#Data iterator splitting train  and valid in proportion 0.8/0.2\n",
        "train_iterator = BasicClassificationDatasetIterator(\n",
        "    data=dr,\n",
        "    field_to_split='train',  # field that will be splitted\n",
        "    split_fields=['train', 'valid'],   # fields to which the fiald above will be splitted\n",
        "    split_proportions=[0.8, 0.2],  #proportions for splitting\n",
        "    split_seed=23,  # seed for splitting dataset\n",
        "    seed=42)  # seed for iteration over dataset"
      ],
      "execution_count": null,
      "outputs": [
        {
          "output_type": "stream",
          "text": [
            "2019-04-15 10:17:27.450 INFO in 'deeppavlov.dataset_iterators.basic_classification_iterator'['basic_classification_iterator'] at line 73: Splitting field <<train>> to new fields <<['train', 'valid']>>\n"
          ],
          "name": "stderr"
        }
      ]
    },
    {
      "cell_type": "code",
      "metadata": {
        "id": "48o_jGYWISm3",
        "colab_type": "code",
        "colab": {
          "base_uri": "https://localhost:8080/",
          "height": 303
        },
        "outputId": "065a93b2-0e44-4172-e5b2-d48242149da7"
      },
      "source": [
        "#Checking train instances \n",
        "x_train, y_train = train_iterator.get_instances(data_type='train')\n",
        "for x, y in list(zip(x_train, y_train))[:5]:\n",
        "    print('x:', x)\n",
        "    print('y:', y)\n",
        "    print('=================')"
      ],
      "execution_count": null,
      "outputs": [
        {
          "output_type": "stream",
          "text": [
            "x: Quality Meat Scotland. Anuga 2013 - Cologne. 2 Ballyoran Lane, Belfast, BT16 1XJ. Phone: +44 (0) 028 9048 4999. Fax: +44 (0) 028 9048 0777\n",
            "y: ['Marketing']\n",
            "=================\n",
            "x: With 35 years experience in the Roofing Industry, D J Mackay is one of Cardiff’s oldest Roofing Companies.. Over the years I have learnt a vast range of skills and knowledge which I now pass onto my team.. All members of our team keep their skills up to date by regularly attending courses on the most recent roofing developments. We all take great pride in our work, this can be seen in the continuously high standards we produce with our work.. Safety is of importance to D J Mackay Roofing and the firm is fully insured with public liability insurance.. If you are searching for a company with over three decades of experience and a professional approach to Roofing – then look no further.. Don't panic- pick up the phone and give us a call… 0800 056 0743. © 2017 mackay. All Rights Reserved. Proudly made by Digital NRG Ltd\n",
            "y: ['Tradesmen']\n",
            "=================\n",
            "x: © Bridgeview Joinery 2018\n",
            "y: ['Tradesmen']\n",
            "=================\n",
            "x: Elite Sales and Lettings Limited has been established for over 10 years and is situated in the heart of Yardley in Birmingham. However our experience of the market extends well beyond that as we have been active in the property market both in a personal capacity and through our associated network of partners across the West Midlands. We specialise in the Selling, Letting, Management, and Auction of Properties and can also arrange Mortgages. We strive to deliver a quality service which is transparent, professional, pleasant, personalised and focused to meet the individual needs of all our customers.. Marketing your property with us ensures maximum promotion of your property on all major property portals. We have invested in the latest management software which allows us to effectively manage our business ensuring complete hands on approach to all our activities. This allows us to deliver a truly transparent and alternative service.. Our website is designed to be user friendly, informative, and jargon free. We encourage communication through our website and also operate a traditional open door policy so you can visit our offices to discuss your specific housing needs.. We can help you find or rent a property that meets your needs and budget. We have an intimate and local knowledge of properties that are available to rent in Birmingham, and have a network of associates that can source properties for you immediately thus providing a one stop service. We strive to make the process of renting or buying seamless and stress free for all our customers and therefore put customer service at the forefront of all our activities.. We have a robust complaints procedure should things ever go wrong and are voluntary members of the necessary indemnity and property redress schemes .This allows for any complaints to be dealt with promptly, fairly and independently.. We are proud of our family heritage and delighted to have served Birmingham and beyond. We would welcome the opportunity to assist you with the sale of your property and show you how much the personal approach counts and how much money we can save you in comparison to other agencies.. ...Making the Right Moves!...\n",
            "y: ['Real Estate Agent']\n",
            "=================\n",
            "x: Dumfries - Vision Express. Please note, Bank Holiday opening hours may vary – please contact the store directly. Whether you want a fresh look, or freedom to be more active - there's a lens for just about everyone.. Save 20% upon presentation of your valid NUS Extra card and Vision Express voucher.. Being without your glasses can amount to losing your sight, so we appreciate how important it is to get a replacement pair or repair completed quickly.. A big welcome from all the team here at the Dumfries store. We are here to look after your every need when visiting Vision Express, whether it's for an Eye Test, Contact Lens fit, choosing a new pair of glasses or just popping in for a simple repair.. There are no active reviews yet.. All content and images © Vision Express 1988 - 2018\n",
            "y: ['Health', ' Beauty And Complementary Therapies']\n",
            "=================\n"
          ],
          "name": "stdout"
        }
      ]
    },
    {
      "cell_type": "code",
      "metadata": {
        "id": "dflWU5vIIdjp",
        "colab_type": "code",
        "colab": {
          "base_uri": "https://localhost:8080/",
          "height": 176
        },
        "outputId": "c0f77b65-2bf2-42b1-bba3-5d5c2c98630b"
      },
      "source": [
        "from deeppavlov.models.preprocessors.str_lower import StrLower"
      ],
      "execution_count": null,
      "outputs": [
        {
          "output_type": "stream",
          "text": [
            "[nltk_data] Downloading package punkt to /root/nltk_data...\n",
            "[nltk_data]   Unzipping tokenizers/punkt.zip.\n",
            "[nltk_data] Downloading package stopwords to /root/nltk_data...\n",
            "[nltk_data]   Unzipping corpora/stopwords.zip.\n",
            "[nltk_data] Downloading package perluniprops to /root/nltk_data...\n",
            "[nltk_data]   Unzipping misc/perluniprops.zip.\n",
            "[nltk_data] Downloading package nonbreaking_prefixes to\n",
            "[nltk_data]     /root/nltk_data...\n",
            "[nltk_data]   Unzipping corpora/nonbreaking_prefixes.zip.\n"
          ],
          "name": "stderr"
        }
      ]
    },
    {
      "cell_type": "code",
      "metadata": {
        "id": "JAJMurkfIfFf",
        "colab_type": "code",
        "colab": {}
      },
      "source": [
        "#Lowercase the text\n",
        "str_lower = StrLower()"
      ],
      "execution_count": null,
      "outputs": []
    },
    {
      "cell_type": "code",
      "metadata": {
        "id": "pcKra9JVIjoe",
        "colab_type": "code",
        "colab": {}
      },
      "source": [
        "from deeppavlov.models.tokenizers.nltk_moses_tokenizer import NLTKMosesTokenizer"
      ],
      "execution_count": null,
      "outputs": []
    },
    {
      "cell_type": "code",
      "metadata": {
        "id": "Wv9KHbppIoao",
        "colab_type": "code",
        "colab": {}
      },
      "source": [
        "#Generating token\n",
        "tokenizer = NLTKMosesTokenizer()"
      ],
      "execution_count": null,
      "outputs": []
    },
    {
      "cell_type": "code",
      "metadata": {
        "id": "qZbIIrQmJR96",
        "colab_type": "code",
        "colab": {}
      },
      "source": [
        "#Generating token on the training dataset-independent variable\n",
        "train_x_lower_tokenized = str_lower(tokenizer(train_iterator.get_instances(data_type='train')[0]))"
      ],
      "execution_count": null,
      "outputs": []
    },
    {
      "cell_type": "code",
      "metadata": {
        "id": "qF7fxXNVItXg",
        "colab_type": "code",
        "colab": {}
      },
      "source": [
        "from deeppavlov.core.data.simple_vocab import SimpleVocabulary"
      ],
      "execution_count": null,
      "outputs": []
    },
    {
      "cell_type": "code",
      "metadata": {
        "id": "ua7ELCXXIv7J",
        "colab_type": "code",
        "colab": {}
      },
      "source": [
        "#Initialize vocabulary to collect all appeared in the dataset classes\n",
        "classes_vocab = SimpleVocabulary(\n",
        "    save_path='./snips/classes.dict',\n",
        "    load_path='./snips/classes.dict')"
      ],
      "execution_count": null,
      "outputs": []
    },
    {
      "cell_type": "code",
      "metadata": {
        "id": "Y8EQop4GIxOX",
        "colab_type": "code",
        "colab": {
          "base_uri": "https://localhost:8080/",
          "height": 54
        },
        "outputId": "6ce78aea-c428-4e3d-b607-7eecb6e806b0"
      },
      "source": [
        "#Saving instances of the dataset classes\n",
        "classes_vocab.fit((train_iterator.get_instances(data_type='train')[1]))\n",
        "classes_vocab.save()"
      ],
      "execution_count": null,
      "outputs": [
        {
          "output_type": "stream",
          "text": [
            "2019-04-15 10:17:44.798 INFO in 'deeppavlov.core.data.simple_vocab'['simple_vocab'] at line 89: [saving vocabulary to /content/snips/classes.dict]\n"
          ],
          "name": "stderr"
        }
      ]
    },
    {
      "cell_type": "code",
      "metadata": {
        "id": "e4LiSUMzI2Og",
        "colab_type": "code",
        "colab": {
          "base_uri": "https://localhost:8080/",
          "height": 230
        },
        "outputId": "a5ccae7c-daba-4e23-f357-da57845e813b"
      },
      "source": [
        "#There are 12 classes of the target variable\n",
        "list(classes_vocab.items())"
      ],
      "execution_count": null,
      "outputs": [
        {
          "output_type": "execute_result",
          "data": {
            "text/plain": [
              "[('Tradesmen', 0),\n",
              " ('Health', 1),\n",
              " (' Beauty And Complementary Therapies', 2),\n",
              " ('Investment And Financial Services', 3),\n",
              " ('Real Estate Agent', 4),\n",
              " ('It & Technology', 5),\n",
              " ('Hr And Recruitment', 6),\n",
              " ('Marketing', 7),\n",
              " ('Insurance Brokers', 8),\n",
              " ('Photography', 9),\n",
              " ('Beauty', 10),\n",
              " ('Film And Video Production', 11)]"
            ]
          },
          "metadata": {
            "tags": []
          },
          "execution_count": 98
        }
      ]
    },
    {
      "cell_type": "code",
      "metadata": {
        "id": "6kD9QPXcI7tY",
        "colab_type": "code",
        "colab": {}
      },
      "source": [
        "#Vocabulary of textual tokens appeared 2 and more times in the dataset\n",
        "token_vocab = SimpleVocabulary(\n",
        "    save_path='./snips/tokens.dict',\n",
        "    load_path='./snips/tokens.dict',\n",
        "    min_freq=2,\n",
        "    special_tokens=('<PAD>', '<UNK>',),\n",
        "    unk_token='<UNK>')"
      ],
      "execution_count": null,
      "outputs": []
    },
    {
      "cell_type": "code",
      "metadata": {
        "id": "jUiC849XI-eg",
        "colab_type": "code",
        "colab": {
          "base_uri": "https://localhost:8080/",
          "height": 54
        },
        "outputId": "00ff4f0a-f614-44c4-c098-925a0db4ceed"
      },
      "source": [
        "token_vocab.fit(train_x_lower_tokenized)\n",
        "token_vocab.save()"
      ],
      "execution_count": null,
      "outputs": [
        {
          "output_type": "stream",
          "text": [
            "2019-04-15 10:17:47.390 INFO in 'deeppavlov.core.data.simple_vocab'['simple_vocab'] at line 89: [saving vocabulary to /content/snips/tokens.dict]\n"
          ],
          "name": "stderr"
        }
      ]
    },
    {
      "cell_type": "code",
      "metadata": {
        "id": "oZQceacnJ6I4",
        "colab_type": "code",
        "colab": {
          "base_uri": "https://localhost:8080/",
          "height": 34
        },
        "outputId": "c8948938-2676-4c29-938e-5f8a4961ae91"
      },
      "source": [
        "#Number of tokens in dictionary\n",
        "len(token_vocab)"
      ],
      "execution_count": null,
      "outputs": [
        {
          "output_type": "execute_result",
          "data": {
            "text/plain": [
              "22205"
            ]
          },
          "metadata": {
            "tags": []
          },
          "execution_count": 101
        }
      ]
    },
    {
      "cell_type": "code",
      "metadata": {
        "id": "4EvKNPrCJ98M",
        "colab_type": "code",
        "colab": {
          "base_uri": "https://localhost:8080/",
          "height": 194
        },
        "outputId": "61f6f15b-65b4-40c7-9f49-9f5767382d72"
      },
      "source": [
        "#10 most common words and number of times their appeared\n",
        "token_vocab.freqs.most_common()[:10]"
      ],
      "execution_count": null,
      "outputs": [
        {
          "output_type": "execute_result",
          "data": {
            "text/plain": [
              "[(',', 50996),\n",
              " ('.', 49078),\n",
              " ('and', 45842),\n",
              " ('the', 43201),\n",
              " ('to', 36893),\n",
              " ('of', 26755),\n",
              " ('a', 25600),\n",
              " ('..', 23927),\n",
              " ('in', 18527),\n",
              " ('we', 17874)]"
            ]
          },
          "metadata": {
            "tags": []
          },
          "execution_count": 102
        }
      ]
    },
    {
      "cell_type": "code",
      "metadata": {
        "id": "uevYA_-RKHhG",
        "colab_type": "code",
        "colab": {
          "base_uri": "https://localhost:8080/",
          "height": 34
        },
        "outputId": "f404f847-83e3-461b-c9ff-c7676ab7d199"
      },
      "source": [
        "token_ids = token_vocab(str_lower(tokenizer(['how are you'])))\n",
        "token_ids"
      ],
      "execution_count": null,
      "outputs": [
        {
          "output_type": "execute_result",
          "data": {
            "text/plain": [
              "[[82, 18, 12]]"
            ]
          },
          "metadata": {
            "tags": []
          },
          "execution_count": 103
        }
      ]
    },
    {
      "cell_type": "code",
      "metadata": {
        "id": "Roupd4lTKKRm",
        "colab_type": "code",
        "colab": {
          "base_uri": "https://localhost:8080/",
          "height": 34
        },
        "outputId": "84dc3a3f-d400-41dc-9205-e819d28a8eb2"
      },
      "source": [
        "tokenizer(token_vocab(token_ids))"
      ],
      "execution_count": null,
      "outputs": [
        {
          "output_type": "execute_result",
          "data": {
            "text/plain": [
              "['how are you']"
            ]
          },
          "metadata": {
            "tags": []
          },
          "execution_count": 104
        }
      ]
    },
    {
      "cell_type": "code",
      "metadata": {
        "id": "b0jRE7_XKPkP",
        "colab_type": "code",
        "colab": {}
      },
      "source": [
        "import numpy as np\n",
        "from deeppavlov.models.embedders.bow_embedder import BoWEmbedder"
      ],
      "execution_count": null,
      "outputs": []
    },
    {
      "cell_type": "code",
      "metadata": {
        "id": "jWKUNS82KVze",
        "colab_type": "code",
        "colab": {
          "base_uri": "https://localhost:8080/",
          "height": 34
        },
        "outputId": "924bc88b-a6eb-4b49-d355-f406547171e9"
      },
      "source": [
        "#Initialize bag-of-words embedder giving total number of tokens\n",
        "bow = BoWEmbedder(depth=token_vocab.len)\n",
        "#Indexed tokenized samples\n",
        "bow(token_vocab(str_lower(tokenizer(['how are you']))))"
      ],
      "execution_count": null,
      "outputs": [
        {
          "output_type": "execute_result",
          "data": {
            "text/plain": [
              "[array([0, 0, 0, ..., 0, 0, 0], dtype=int32)]"
            ]
          },
          "metadata": {
            "tags": []
          },
          "execution_count": 106
        }
      ]
    },
    {
      "cell_type": "code",
      "metadata": {
        "id": "XDZNYEaSKcwB",
        "colab_type": "code",
        "colab": {
          "base_uri": "https://localhost:8080/",
          "height": 34
        },
        "outputId": "bec06c90-c82e-40c5-8589-8bde6573fd04"
      },
      "source": [
        "#All 3 tokens are in the vocabulary\n",
        "sum(bow(token_vocab(str_lower(tokenizer(['how are you']))))[0])"
      ],
      "execution_count": null,
      "outputs": [
        {
          "output_type": "execute_result",
          "data": {
            "text/plain": [
              "3"
            ]
          },
          "metadata": {
            "tags": []
          },
          "execution_count": 107
        }
      ]
    },
    {
      "cell_type": "code",
      "metadata": {
        "id": "RGMK7UcwKgow",
        "colab_type": "code",
        "colab": {}
      },
      "source": [
        "from deeppavlov.models.sklearn import SklearnComponent"
      ],
      "execution_count": null,
      "outputs": []
    },
    {
      "cell_type": "code",
      "metadata": {
        "id": "bnxat8pbKnEj",
        "colab_type": "code",
        "colab": {
          "base_uri": "https://localhost:8080/",
          "height": 72
        },
        "outputId": "16fbbe97-9f69-4419-bf1c-b2eb43869e3b"
      },
      "source": [
        "#Initialize TF-IDF vectorizer sklearn component with `transform` as infer method\n",
        "tfidf = SklearnComponent(\n",
        "    model_class=\"sklearn.feature_extraction.text:TfidfVectorizer\",\n",
        "    infer_method=\"transform\",\n",
        "    save_path='./tfidf_v0.pkl',\n",
        "    load_path='./tfidf_v0.pkl',\n",
        "    mode='train')"
      ],
      "execution_count": null,
      "outputs": [
        {
          "output_type": "stream",
          "text": [
            "2019-04-15 10:17:47.587 WARNING in 'deeppavlov.models.sklearn.sklearn_component'['sklearn_component'] at line 218: Cannot load model from /content/tfidf_v0.pkl\n",
            "2019-04-15 10:17:47.590 INFO in 'deeppavlov.models.sklearn.sklearn_component'['sklearn_component'] at line 165: Initializing model sklearn.feature_extraction.text:TfidfVectorizer from scratch\n"
          ],
          "name": "stderr"
        }
      ]
    },
    {
      "cell_type": "code",
      "metadata": {
        "id": "pC0pxwVuNg-N",
        "colab_type": "code",
        "colab": {
          "base_uri": "https://localhost:8080/",
          "height": 72
        },
        "outputId": "7ebc6459-5f1e-4b6f-8f03-414568819571"
      },
      "source": [
        "#Fit on textual train instances and save it\n",
        "tfidf.fit(str_lower(train_iterator.get_instances(data_type='train')[0]))\n",
        "tfidf.save()"
      ],
      "execution_count": null,
      "outputs": [
        {
          "output_type": "stream",
          "text": [
            "2019-04-15 10:17:54.748 INFO in 'deeppavlov.models.sklearn.sklearn_component'['sklearn_component'] at line 108: Fitting model sklearn.feature_extraction.text:TfidfVectorizer\n",
            "2019-04-15 10:17:58.986 INFO in 'deeppavlov.models.sklearn.sklearn_component'['sklearn_component'] at line 240: Saving model to /content/tfidf_v0.pkl\n"
          ],
          "name": "stderr"
        }
      ]
    },
    {
      "cell_type": "code",
      "metadata": {
        "id": "-yP1iO7_QzFR",
        "colab_type": "code",
        "colab": {
          "base_uri": "https://localhost:8080/",
          "height": 34
        },
        "outputId": "9ef96485-a26a-4257-fe7e-c59cf99a0299"
      },
      "source": [
        "#Number of tokens in the TF-IDF vocabulary\n",
        "len(tfidf.model.vocabulary_)"
      ],
      "execution_count": null,
      "outputs": [
        {
          "output_type": "execute_result",
          "data": {
            "text/plain": [
              "35208"
            ]
          },
          "metadata": {
            "tags": []
          },
          "execution_count": 111
        }
      ]
    },
    {
      "cell_type": "code",
      "metadata": {
        "id": "j_blcKxjQ8WA",
        "colab_type": "code",
        "colab": {
          "base_uri": "https://localhost:8080/",
          "height": 34
        },
        "outputId": "69eb7ad2-00e7-4477-a724-71b3f6d2f8d7"
      },
      "source": [
        "from deeppavlov.models.embedders.glove_embedder import GloVeEmbedder"
      ],
      "execution_count": null,
      "outputs": [
        {
          "output_type": "stream",
          "text": [
            "paramiko missing, opening SSH/SCP/SFTP paths will be disabled.  `pip install paramiko` to suppress\n"
          ],
          "name": "stderr"
        }
      ]
    },
    {
      "cell_type": "code",
      "metadata": {
        "id": "YFu1lRyRRKHu",
        "colab_type": "code",
        "colab": {}
      },
      "source": [
        "from deeppavlov.core.data.utils import simple_download"
      ],
      "execution_count": null,
      "outputs": []
    },
    {
      "cell_type": "code",
      "metadata": {
        "id": "Z6gre-hjTlio",
        "colab_type": "code",
        "colab": {
          "base_uri": "https://localhost:8080/",
          "height": 72
        },
        "outputId": "91259d57-4439-4658-9d9e-c8a41866e579"
      },
      "source": [
        "#Downloading pretrained embedding Glove\n",
        "simple_download(url=\"http://files.deeppavlov.ai/embeddings/glove.6B.100d.txt\",destination=\"./glove.6B.100d.txt\")"
      ],
      "execution_count": null,
      "outputs": [
        {
          "output_type": "stream",
          "text": [
            "2019-04-15 10:18:00.384 INFO in 'deeppavlov.core.data.utils'['utils'] at line 63: Downloading from http://files.deeppavlov.ai/embeddings/glove.6B.100d.txt to glove.6B.100d.txt\n",
            "347MB [00:28, 12.1MB/s]\n"
          ],
          "name": "stderr"
        }
      ]
    },
    {
      "cell_type": "code",
      "metadata": {
        "id": "0sy2cah2RM5l",
        "colab_type": "code",
        "colab": {
          "base_uri": "https://localhost:8080/",
          "height": 54
        },
        "outputId": "3132509a-57e7-4043-af81-918e4de788a6"
      },
      "source": [
        "embedder = GloVeEmbedder(load_path='./glove.6B.100d.txt', dim=100, pad_zero=True)"
      ],
      "execution_count": null,
      "outputs": [
        {
          "output_type": "stream",
          "text": [
            "2019-04-15 10:18:29.161 INFO in 'deeppavlov.models.embedders.glove_embedder'['glove_embedder'] at line 52: [loading GloVe embeddings from `/content/glove.6B.100d.txt`]\n"
          ],
          "name": "stderr"
        }
      ]
    },
    {
      "cell_type": "code",
      "metadata": {
        "id": "jIRRRhTDRP3z",
        "colab_type": "code",
        "colab": {
          "base_uri": "https://localhost:8080/",
          "height": 34
        },
        "outputId": "ce108a52-d364-4ddc-a740-511563576397"
      },
      "source": [
        "# output shape is (batch_size x max_num_tokens_in_the_batch x embedding_dim)\n",
        "embedded_batch = embedder(str_lower(tokenizer(['how are you']))) \n",
        "len(embedded_batch), len(embedded_batch[0]), embedded_batch[0][0].shape"
      ],
      "execution_count": null,
      "outputs": [
        {
          "output_type": "execute_result",
          "data": {
            "text/plain": [
              "(1, 3, (100,))"
            ]
          },
          "metadata": {
            "tags": []
          },
          "execution_count": 116
        }
      ]
    },
    {
      "cell_type": "code",
      "metadata": {
        "id": "Tttn5hgMVPMG",
        "colab_type": "code",
        "colab": {
          "base_uri": "https://localhost:8080/",
          "height": 34
        },
        "outputId": "98108642-5ad8-4b99-dbdf-ed9e52f5a8d8"
      },
      "source": [
        "# output shape is (batch_size x embedding_dim)\n",
        "embedded_batch = embedder(str_lower(tokenizer(['how are you'])), mean=True) \n",
        "len(embedded_batch), embedded_batch[0].shape"
      ],
      "execution_count": null,
      "outputs": [
        {
          "output_type": "execute_result",
          "data": {
            "text/plain": [
              "(1, (100,))"
            ]
          },
          "metadata": {
            "tags": []
          },
          "execution_count": 117
        }
      ]
    },
    {
      "cell_type": "code",
      "metadata": {
        "id": "PZocJuDOVZNJ",
        "colab_type": "code",
        "colab": {}
      },
      "source": [
        "from deeppavlov.models.embedders.tfidf_weighted_embedder import TfidfWeightedEmbedder"
      ],
      "execution_count": null,
      "outputs": []
    },
    {
      "cell_type": "code",
      "metadata": {
        "id": "XxyIxQIRVg9Y",
        "colab_type": "code",
        "colab": {}
      },
      "source": [
        "weighted_embedder = TfidfWeightedEmbedder(\n",
        "    embedder=embedder,  # our GloVe embedder instance\n",
        "    tokenizer=tokenizer,  # our tokenizer instance\n",
        "    mean=True,  # to return one vector per sample\n",
        "    vectorizer=tfidf  # our TF-IDF vectorizer\n",
        ")"
      ],
      "execution_count": null,
      "outputs": []
    },
    {
      "cell_type": "code",
      "metadata": {
        "id": "9C_rWQVMVoyy",
        "colab_type": "code",
        "colab": {
          "base_uri": "https://localhost:8080/",
          "height": 34
        },
        "outputId": "7b076b90-2095-40dc-84b2-cf59f6585aea"
      },
      "source": [
        "# output shape is (batch_size x  embedding_dim)\n",
        "embedded_batch = weighted_embedder(str_lower(tokenizer(['how are you']))) \n",
        "len(embedded_batch), embedded_batch[0].shape"
      ],
      "execution_count": null,
      "outputs": [
        {
          "output_type": "execute_result",
          "data": {
            "text/plain": [
              "(1, (100,))"
            ]
          },
          "metadata": {
            "tags": []
          },
          "execution_count": 120
        }
      ]
    },
    {
      "cell_type": "markdown",
      "metadata": {
        "id": "neLMrdIMdgCu",
        "colab_type": "text"
      },
      "source": [
        "*KerasClassificationModel on GloVe embeddings*"
      ]
    },
    {
      "cell_type": "code",
      "metadata": {
        "id": "vQclg0NdZYA2",
        "colab_type": "code",
        "colab": {
          "base_uri": "https://localhost:8080/",
          "height": 34
        },
        "outputId": "7e4b01d4-14b2-4eba-efb9-6474867c103b"
      },
      "source": [
        "from deeppavlov.models.classifiers.keras_classification_model import KerasClassificationModel\n",
        "from deeppavlov.models.preprocessors.one_hotter import OneHotter\n",
        "from deeppavlov.models.classifiers.proba2labels import Proba2Labels"
      ],
      "execution_count": null,
      "outputs": [
        {
          "output_type": "stream",
          "text": [
            "Using TensorFlow backend.\n"
          ],
          "name": "stderr"
        }
      ]
    },
    {
      "cell_type": "code",
      "metadata": {
        "id": "UZCQOsaGZZci",
        "colab_type": "code",
        "colab": {
          "base_uri": "https://localhost:8080/",
          "height": 1085
        },
        "outputId": "6de675be-ebc9-4f9b-eb24-6e6fe3e5cf88"
      },
      "source": [
        "#Intialize `KerasClassificationModel` that composes CNN shallow-and-wide network (name here as`cnn_model`)\n",
        "cls = KerasClassificationModel(save_path=\"./cnn_model_v0\", \n",
        "                               load_path=\"./cnn_model_v0\", \n",
        "                               embedding_size=embedder.dim,\n",
        "                               n_classes=classes_vocab.len,\n",
        "                               model_name=\"cnn_model\",\n",
        "                               text_size=100, # number of tokens\n",
        "                               kernel_sizes_cnn=[3, 5, 7],\n",
        "                               filters_cnn=128,\n",
        "                               dense_size=100,\n",
        "                               optimizer=\"Adam\",\n",
        "                               learning_rate=0.1,\n",
        "                               learning_rate_decay=0.01,\n",
        "                               loss=\"categorical_crossentropy\")"
      ],
      "execution_count": null,
      "outputs": [
        {
          "output_type": "stream",
          "text": [
            "2019-04-15 10:19:16.89 INFO in 'deeppavlov.models.classifiers.keras_classification_model'['keras_classification_model'] at line 244: [initializing `KerasClassificationModel` from scratch as cnn_model]\n"
          ],
          "name": "stderr"
        },
        {
          "output_type": "stream",
          "text": [
            "WARNING:tensorflow:From /usr/local/lib/python3.6/dist-packages/tensorflow/python/framework/op_def_library.py:263: colocate_with (from tensorflow.python.framework.ops) is deprecated and will be removed in a future version.\n",
            "Instructions for updating:\n",
            "Colocations handled automatically by placer.\n"
          ],
          "name": "stdout"
        },
        {
          "output_type": "stream",
          "text": [
            "2019-04-15 10:19:16.868 INFO in 'deeppavlov.models.classifiers.keras_classification_model'['keras_classification_model'] at line 134: Model was successfully initialized!\n",
            "Model summary:\n",
            "__________________________________________________________________________________________________\n",
            "Layer (type)                    Output Shape         Param #     Connected to                     \n",
            "==================================================================================================\n",
            "input_1 (InputLayer)            (None, 100, 100)     0                                            \n",
            "__________________________________________________________________________________________________\n",
            "conv1d_1 (Conv1D)               (None, 100, 128)     38528       input_1[0][0]                    \n",
            "__________________________________________________________________________________________________\n",
            "conv1d_2 (Conv1D)               (None, 100, 128)     64128       input_1[0][0]                    \n",
            "__________________________________________________________________________________________________\n",
            "conv1d_3 (Conv1D)               (None, 100, 128)     89728       input_1[0][0]                    \n",
            "__________________________________________________________________________________________________\n",
            "batch_normalization_1 (BatchNor (None, 100, 128)     512         conv1d_1[0][0]                   \n",
            "__________________________________________________________________________________________________\n",
            "batch_normalization_2 (BatchNor (None, 100, 128)     512         conv1d_2[0][0]                   \n",
            "__________________________________________________________________________________________________\n",
            "batch_normalization_3 (BatchNor (None, 100, 128)     512         conv1d_3[0][0]                   \n",
            "__________________________________________________________________________________________________\n",
            "activation_1 (Activation)       (None, 100, 128)     0           batch_normalization_1[0][0]      \n",
            "__________________________________________________________________________________________________\n",
            "activation_2 (Activation)       (None, 100, 128)     0           batch_normalization_2[0][0]      \n",
            "__________________________________________________________________________________________________\n",
            "activation_3 (Activation)       (None, 100, 128)     0           batch_normalization_3[0][0]      \n",
            "__________________________________________________________________________________________________\n",
            "global_max_pooling1d_1 (GlobalM (None, 128)          0           activation_1[0][0]               \n",
            "__________________________________________________________________________________________________\n",
            "global_max_pooling1d_2 (GlobalM (None, 128)          0           activation_2[0][0]               \n",
            "__________________________________________________________________________________________________\n",
            "global_max_pooling1d_3 (GlobalM (None, 128)          0           activation_3[0][0]               \n",
            "__________________________________________________________________________________________________\n",
            "concatenate_1 (Concatenate)     (None, 384)          0           global_max_pooling1d_1[0][0]     \n",
            "                                                                 global_max_pooling1d_2[0][0]     \n",
            "                                                                 global_max_pooling1d_3[0][0]     \n",
            "__________________________________________________________________________________________________\n",
            "dropout_1 (Dropout)             (None, 384)          0           concatenate_1[0][0]              \n",
            "__________________________________________________________________________________________________\n",
            "dense_1 (Dense)                 (None, 100)          38500       dropout_1[0][0]                  \n",
            "__________________________________________________________________________________________________\n",
            "batch_normalization_4 (BatchNor (None, 100)          400         dense_1[0][0]                    \n",
            "__________________________________________________________________________________________________\n",
            "activation_4 (Activation)       (None, 100)          0           batch_normalization_4[0][0]      \n",
            "__________________________________________________________________________________________________\n",
            "dropout_2 (Dropout)             (None, 100)          0           activation_4[0][0]               \n",
            "__________________________________________________________________________________________________\n",
            "dense_2 (Dense)                 (None, 12)           1212        dropout_2[0][0]                  \n",
            "__________________________________________________________________________________________________\n",
            "batch_normalization_5 (BatchNor (None, 12)           48          dense_2[0][0]                    \n",
            "__________________________________________________________________________________________________\n",
            "activation_5 (Activation)       (None, 12)           0           batch_normalization_5[0][0]      \n",
            "==================================================================================================\n",
            "Total params: 234,080\n",
            "Trainable params: 233,088\n",
            "Non-trainable params: 992\n",
            "__________________________________________________________________________________________________\n"
          ],
          "name": "stderr"
        }
      ]
    },
    {
      "cell_type": "code",
      "metadata": {
        "id": "sVzaXo11ZgkP",
        "colab_type": "code",
        "colab": {}
      },
      "source": [
        "#KerasClassificationModel assumes one-hotted distribution of classes per sample.\n",
        "#OneHotter converts indices to one-hot vectors representation.\n",
        "#To obtain indices we can use our `classes_vocab` intialized and fitted above\n",
        "#Feature Engineering\n",
        "onehotter = OneHotter(depth=classes_vocab.len, single_vector=True)"
      ],
      "execution_count": null,
      "outputs": []
    },
    {
      "cell_type": "code",
      "metadata": {
        "id": "aXPey4UXZkws",
        "colab_type": "code",
        "colab": {
          "base_uri": "https://localhost:8080/",
          "height": 143
        },
        "outputId": "809c0a95-c659-4f7d-8261-0f3ede23f61d"
      },
      "source": [
        "#Train for 10 epochs\n",
        "for ep in range(10):\n",
        "    for x, y in train_iterator.gen_batches(batch_size=64, \n",
        "                                           data_type=\"train\"):\n",
        "        x_embed = embedder(tokenizer(str_lower(x)))\n",
        "        y_onehot = onehotter(classes_vocab(y))\n",
        "        cls.train_on_batch(x_embed, y_onehot)"
      ],
      "execution_count": null,
      "outputs": [
        {
          "output_type": "stream",
          "text": [
            "WARNING:tensorflow:From /usr/local/lib/python3.6/dist-packages/tensorflow/python/ops/math_ops.py:3066: to_int32 (from tensorflow.python.ops.math_ops) is deprecated and will be removed in a future version.\n",
            "Instructions for updating:\n",
            "Use tf.cast instead.\n",
            "WARNING:tensorflow:From /usr/local/lib/python3.6/dist-packages/tensorflow/python/ops/math_grad.py:102: div (from tensorflow.python.ops.math_ops) is deprecated and will be removed in a future version.\n",
            "Instructions for updating:\n",
            "Deprecated in favor of operator or tf.math.divide.\n"
          ],
          "name": "stdout"
        }
      ]
    },
    {
      "cell_type": "code",
      "metadata": {
        "id": "31BSf9gQZpbg",
        "colab_type": "code",
        "colab": {
          "base_uri": "https://localhost:8080/",
          "height": 54
        },
        "outputId": "6fae5cbe-d966-4dde-f279-ff48aa6b1a8a"
      },
      "source": [
        "#Save model weights and parameters\n",
        "cls.save()"
      ],
      "execution_count": null,
      "outputs": [
        {
          "output_type": "stream",
          "text": [
            "2019-04-15 10:23:34.399 INFO in 'deeppavlov.models.classifiers.keras_classification_model'['keras_classification_model'] at line 373: [saving model to /content/cnn_model_v0_opt.json]\n"
          ],
          "name": "stderr"
        }
      ]
    },
    {
      "cell_type": "code",
      "metadata": {
        "id": "eL20uVkQcX4P",
        "colab_type": "code",
        "colab": {}
      },
      "source": [
        "from deeppavlov.metrics.accuracy import sets_accuracy"
      ],
      "execution_count": null,
      "outputs": []
    },
    {
      "cell_type": "code",
      "metadata": {
        "id": "r5LHjuotcaLH",
        "colab_type": "code",
        "colab": {}
      },
      "source": [
        "#Get all train and valid data from iterator\n",
        "x_train, y_train = train_iterator.get_instances(data_type=\"train\")\n",
        "x_valid, y_valid = train_iterator.get_instances(data_type=\"valid\")"
      ],
      "execution_count": null,
      "outputs": []
    },
    {
      "cell_type": "code",
      "metadata": {
        "id": "Gtn8fVfXZur3",
        "colab_type": "code",
        "colab": {}
      },
      "source": [
        "#Infering on validation data we get probability distribution on given data.\n",
        "y_valid_pred = cls(embedder(tokenizer(str_lower(x_valid))))"
      ],
      "execution_count": null,
      "outputs": []
    },
    {
      "cell_type": "code",
      "metadata": {
        "id": "jwi56krZZxLm",
        "colab_type": "code",
        "colab": {}
      },
      "source": [
        "#To convert probability distribution to labels, \n",
        "#we first need to convert probabilities to indices,\n",
        "#and then using vocabulary `classes_vocab` convert indices to labels.\n",
        "#Proba2Labels` converts probabilities to indices and supports three different modes:\n",
        "#if `max_proba` is true, returns indices of the highest probabilities\n",
        "#if `confident_threshold` is given, returns indices with probabiltiies higher than threshold\n",
        "#if `top_n` is given, returns `top_n` indices with highest probabilities\n",
        "prob2labels = Proba2Labels(max_proba=True)"
      ],
      "execution_count": null,
      "outputs": []
    },
    {
      "cell_type": "code",
      "metadata": {
        "id": "DIY5MICwZ4PI",
        "colab_type": "code",
        "colab": {
          "base_uri": "https://localhost:8080/",
          "height": 107
        },
        "outputId": "2493cc76-b372-4707-dd86-9b25b9f6cca6"
      },
      "source": [
        "#Looking into obtained result\n",
        "print(\"Text sample: {}\".format(x_valid[0]))\n",
        "print(\"True label: {}\".format(y_valid[0]))\n",
        "print(\"Predicted probability distribution: {}\".format(dict(zip(classes_vocab.keys(), \n",
        "                                                               y_valid_pred[0]))))\n",
        "print(\"Predicted label: {}\".format(classes_vocab(prob2labels(y_valid_pred))[0]))"
      ],
      "execution_count": null,
      "outputs": [
        {
          "output_type": "stream",
          "text": [
            "Text sample: Just another WordPress site. Welcome to WordPress. This is your first post. Edit or delete it, then start writing!\n",
            "True label: ['Tradesmen']\n",
            "Predicted probability distribution: {'Tradesmen': 0.03927648067474365, 'Health': 0.0009163916110992432, ' Beauty And Complementary Therapies': 0.00106048583984375, 'Investment And Financial Services': 0.024354279041290283, 'Real Estate Agent': 0.08466535806655884, 'It & Technology': 0.9965453147888184, 'Hr And Recruitment': 0.0005005896091461182, 'Marketing': 0.004743725061416626, 'Insurance Brokers': 0.0004550516605377197, 'Photography': 0.01750969886779785, 'Beauty': 0.021246731281280518, 'Film And Video Production': 0.0035310983657836914}\n",
            "Predicted label: ['It & Technology']\n"
          ],
          "name": "stdout"
        }
      ]
    },
    {
      "cell_type": "markdown",
      "metadata": {
        "id": "iHjYa7_x7R5C",
        "colab_type": "text"
      },
      "source": [
        "*With RAM constraint, tried running CNN model on Test Dataset. Due to less observations in the test dataset. The accuracy of the model is 44%. I have also feed 100 token in the CNN. It is also the reason for the less accuracy of the model*"
      ]
    },
    {
      "cell_type": "code",
      "metadata": {
        "id": "RJcoMyZNZ7U2",
        "colab_type": "code",
        "colab": {
          "base_uri": "https://localhost:8080/",
          "height": 34
        },
        "outputId": "3034f7b2-510c-4add-eaf4-a8a1fc45506e"
      },
      "source": [
        "#Calculate sets accuracy\n",
        "sets_accuracy(y_valid, classes_vocab(prob2labels(y_valid_pred)))"
      ],
      "execution_count": null,
      "outputs": [
        {
          "output_type": "execute_result",
          "data": {
            "text/plain": [
              "0.44883158742949236"
            ]
          },
          "metadata": {
            "tags": []
          },
          "execution_count": 131
        }
      ]
    }
  ]
}
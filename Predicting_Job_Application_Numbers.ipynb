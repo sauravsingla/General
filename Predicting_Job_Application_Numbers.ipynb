{
  "nbformat": 4,
  "nbformat_minor": 0,
  "metadata": {
    "colab": {
      "name": "Predicting_Job_Application_Numbers.ipynb",
      "provenance": [],
      "collapsed_sections": [],
      "include_colab_link": true
    },
    "language_info": {
      "codemirror_mode": {
        "name": "ipython",
        "version": 3
      },
      "file_extension": ".py",
      "mimetype": "text/x-python",
      "name": "python",
      "nbconvert_exporter": "python",
      "pygments_lexer": "ipython3",
      "version": "3.6.4"
    },
    "kernelspec": {
      "name": "python3",
      "display_name": "Python 3"
    },
    "accelerator": "GPU"
  },
  "cells": [
    {
      "cell_type": "markdown",
      "metadata": {
        "id": "view-in-github",
        "colab_type": "text"
      },
      "source": [
        "<a href=\"https://colab.research.google.com/github/sauravsingla/General/blob/master/Predicting_Job_Application_Numbers.ipynb\" target=\"_parent\"><img src=\"https://colab.research.google.com/assets/colab-badge.svg\" alt=\"Open In Colab\"/></a>"
      ]
    },
    {
      "cell_type": "markdown",
      "metadata": {
        "id": "hdbbwUlo1pwH",
        "colab_type": "text"
      },
      "source": [
        "# Predicting Job Application Numbers\n",
        "\n",
        "Many of customers are small to medium sized companies (SME's) who hire infrequently.\n",
        "\n",
        "As such they are inexperienced recruiters and require some guidance through the recruiting process.\n",
        "\n",
        "One issue that these recruiters face is not knowing how many applications their job posting is likely to receive.\n",
        "\n",
        "### Question 1:\n",
        "\n",
        "Build a model to predict the total number of applications a job will receive in 6 weeks given it's features at the time of posting.\n",
        "\n",
        "Tell the customers how they could improve their job posting.\n",
        "\n",
        "### Question 2: \n",
        "\n",
        "Show which features are most important for a succesful job posting?\n",
        "\n"
      ]
    },
    {
      "cell_type": "code",
      "metadata": {
        "id": "S4pIg2K84GR1",
        "colab_type": "code",
        "colab": {
          "base_uri": "https://localhost:8080/",
          "height": 125
        },
        "outputId": "3c05d457-b09d-48e4-96d8-343e70e4d3ea"
      },
      "source": [
        "from google.colab import drive\n",
        "drive.mount('/content/drive')"
      ],
      "execution_count": null,
      "outputs": [
        {
          "output_type": "stream",
          "text": [
            "Go to this URL in a browser: https://accounts.google.com/o/oauth2/auth?client_id=947318989803-6bn6qk8qdgf4n4g3pfee6491hc0brc4i.apps.googleusercontent.com&redirect_uri=urn%3Aietf%3Awg%3Aoauth%3A2.0%3Aoob&scope=email%20https%3A%2F%2Fwww.googleapis.com%2Fauth%2Fdocs.test%20https%3A%2F%2Fwww.googleapis.com%2Fauth%2Fdrive%20https%3A%2F%2Fwww.googleapis.com%2Fauth%2Fdrive.photos.readonly%20https%3A%2F%2Fwww.googleapis.com%2Fauth%2Fpeopleapi.readonly&response_type=code\n",
            "\n",
            "Enter your authorization code:\n",
            "··········\n",
            "Mounted at /content/drive\n"
          ],
          "name": "stdout"
        }
      ]
    },
    {
      "cell_type": "code",
      "metadata": {
        "id": "G9WW-6cbcFeq",
        "colab_type": "code",
        "colab": {
          "base_uri": "https://localhost:8080/",
          "height": 2010
        },
        "outputId": "07f7770b-21db-419f-8461-414ceebd13a8"
      },
      "source": [
        "# installing fastai library\n",
        "!pip install fastai==0.7.0"
      ],
      "execution_count": null,
      "outputs": [
        {
          "output_type": "stream",
          "text": [
            "Collecting fastai==0.7.0\n",
            "\u001b[?25l  Downloading https://files.pythonhosted.org/packages/50/6d/9d0d6e17a78b0598d5e8c49a0d03ffc7ff265ae62eca3e2345fab14edb9b/fastai-0.7.0-py3-none-any.whl (112kB)\n",
            "\r\u001b[K    9% |███                             | 10kB 20.3MB/s eta 0:00:01\r\u001b[K    18% |█████▉                          | 20kB 27.1MB/s eta 0:00:01\r\u001b[K    27% |████████▊                       | 30kB 33.1MB/s eta 0:00:01\r\u001b[K    36% |███████████▋                    | 40kB 1.5MB/s eta 0:00:01\r\u001b[K    45% |██████████████▌                 | 51kB 1.8MB/s eta 0:00:01\r\u001b[K    54% |█████████████████▍              | 61kB 2.2MB/s eta 0:00:01\r\u001b[K    63% |████████████████████▍           | 71kB 2.5MB/s eta 0:00:01\r\u001b[K    72% |███████████████████████▎        | 81kB 2.0MB/s eta 0:00:01\r\u001b[K    81% |██████████████████████████▏     | 92kB 2.3MB/s eta 0:00:01\r\u001b[K    90% |█████████████████████████████   | 102kB 2.5MB/s eta 0:00:01\r\u001b[K    99% |████████████████████████████████| 112kB 2.5MB/s eta 0:00:01\r\u001b[K    100% |████████████████████████████████| 122kB 2.5MB/s \n",
            "\u001b[?25hCollecting bcolz (from fastai==0.7.0)\n",
            "\u001b[?25l  Downloading https://files.pythonhosted.org/packages/5c/4e/23942de9d5c0fb16f10335fa83e52b431bcb8c0d4a8419c9ac206268c279/bcolz-1.2.1.tar.gz (1.5MB)\n",
            "\u001b[K    100% |████████████████████████████████| 1.5MB 18.3MB/s \n",
            "\u001b[?25hRequirement already satisfied: graphviz in /usr/local/lib/python3.6/dist-packages (from fastai==0.7.0) (0.10.1)\n",
            "Requirement already satisfied: Pygments in /usr/local/lib/python3.6/dist-packages (from fastai==0.7.0) (2.1.3)\n",
            "Requirement already satisfied: tqdm in /usr/local/lib/python3.6/dist-packages (from fastai==0.7.0) (4.28.1)\n",
            "Requirement already satisfied: ipython in /usr/local/lib/python3.6/dist-packages (from fastai==0.7.0) (5.5.0)\n",
            "Requirement already satisfied: widgetsnbextension in /usr/local/lib/python3.6/dist-packages (from fastai==0.7.0) (3.4.2)\n",
            "Requirement already satisfied: testpath in /usr/local/lib/python3.6/dist-packages (from fastai==0.7.0) (0.4.2)\n",
            "Collecting sklearn-pandas (from fastai==0.7.0)\n",
            "  Downloading https://files.pythonhosted.org/packages/1f/48/4e1461d828baf41d609efaa720d20090ac6ec346b5daad3c88e243e2207e/sklearn_pandas-1.8.0-py2.py3-none-any.whl\n",
            "Collecting isoweek (from fastai==0.7.0)\n",
            "  Downloading https://files.pythonhosted.org/packages/c2/d4/fe7e2637975c476734fcbf53776e650a29680194eb0dd21dbdc020ca92de/isoweek-1.3.3-py2.py3-none-any.whl\n",
            "Requirement already satisfied: html5lib in /usr/local/lib/python3.6/dist-packages (from fastai==0.7.0) (1.0.1)\n",
            "Requirement already satisfied: jupyter in /usr/local/lib/python3.6/dist-packages (from fastai==0.7.0) (1.0.0)\n",
            "Requirement already satisfied: numpy in /usr/local/lib/python3.6/dist-packages (from fastai==0.7.0) (1.16.2)\n",
            "Requirement already satisfied: certifi in /usr/local/lib/python3.6/dist-packages (from fastai==0.7.0) (2019.3.9)\n",
            "Requirement already satisfied: bleach in /usr/local/lib/python3.6/dist-packages (from fastai==0.7.0) (3.1.0)\n",
            "Requirement already satisfied: cycler in /usr/local/lib/python3.6/dist-packages (from fastai==0.7.0) (0.10.0)\n",
            "Requirement already satisfied: jedi in /usr/local/lib/python3.6/dist-packages (from fastai==0.7.0) (0.13.3)\n",
            "Requirement already satisfied: Pillow in /usr/local/lib/python3.6/dist-packages (from fastai==0.7.0) (4.3.0)\n",
            "Requirement already satisfied: decorator in /usr/local/lib/python3.6/dist-packages (from fastai==0.7.0) (4.4.0)\n",
            "Requirement already satisfied: ipykernel in /usr/local/lib/python3.6/dist-packages (from fastai==0.7.0) (4.6.1)\n",
            "Requirement already satisfied: webencodings in /usr/local/lib/python3.6/dist-packages (from fastai==0.7.0) (0.5.1)\n",
            "Requirement already satisfied: opencv-python in /usr/local/lib/python3.6/dist-packages (from fastai==0.7.0) (3.4.5.20)\n",
            "Requirement already satisfied: torchtext in /usr/local/lib/python3.6/dist-packages (from fastai==0.7.0) (0.3.1)\n",
            "Requirement already satisfied: simplegeneric in /usr/local/lib/python3.6/dist-packages (from fastai==0.7.0) (0.8.1)\n",
            "Collecting torch<0.4 (from fastai==0.7.0)\n",
            "\u001b[?25l  Downloading https://files.pythonhosted.org/packages/5b/a5/e8b50b55b1abac9f1e3346c4242f1e42a82d368a8442cbd50c532922f6c4/torch-0.3.1-cp36-cp36m-manylinux1_x86_64.whl (496.4MB)\n",
            "\u001b[K    100% |████████████████████████████████| 496.4MB 38kB/s \n",
            "\u001b[?25hRequirement already satisfied: seaborn in /usr/local/lib/python3.6/dist-packages (from fastai==0.7.0) (0.9.0)\n",
            "Requirement already satisfied: ipython-genutils in /usr/local/lib/python3.6/dist-packages (from fastai==0.7.0) (0.2.0)\n",
            "Collecting plotnine (from fastai==0.7.0)\n",
            "\u001b[?25l  Downloading https://files.pythonhosted.org/packages/84/02/b171c828560aea3a5da1efda464230dac3ef4f4834b88e0bd52ad14a08f0/plotnine-0.5.1-py2.py3-none-any.whl (3.6MB)\n",
            "\u001b[K    100% |████████████████████████████████| 3.6MB 1.2MB/s \n",
            "\u001b[?25hRequirement already satisfied: PyYAML in /usr/local/lib/python3.6/dist-packages (from fastai==0.7.0) (3.13)\n",
            "Requirement already satisfied: scipy in /usr/local/lib/python3.6/dist-packages (from fastai==0.7.0) (1.2.1)\n",
            "Requirement already satisfied: entrypoints in /usr/local/lib/python3.6/dist-packages (from fastai==0.7.0) (0.3)\n",
            "Collecting pandas-summary (from fastai==0.7.0)\n",
            "  Downloading https://files.pythonhosted.org/packages/6b/00/f7b4d7fd901db9a79d63e88000bd1e12efba4f5fb52608f906d7fea2b18f/pandas_summary-0.0.6-py2.py3-none-any.whl\n",
            "Requirement already satisfied: pyparsing in /usr/local/lib/python3.6/dist-packages (from fastai==0.7.0) (2.4.0)\n",
            "Requirement already satisfied: ptyprocess in /usr/local/lib/python3.6/dist-packages (from fastai==0.7.0) (0.6.0)\n",
            "Requirement already satisfied: pandas in /usr/local/lib/python3.6/dist-packages (from fastai==0.7.0) (0.23.4)\n",
            "Requirement already satisfied: Jinja2 in /usr/local/lib/python3.6/dist-packages (from fastai==0.7.0) (2.10.1)\n",
            "Requirement already satisfied: torchvision in /usr/local/lib/python3.6/dist-packages (from fastai==0.7.0) (0.2.2.post3)\n",
            "Requirement already satisfied: traitlets in /usr/local/lib/python3.6/dist-packages (from fastai==0.7.0) (4.3.2)\n",
            "Requirement already satisfied: jsonschema in /usr/local/lib/python3.6/dist-packages (from fastai==0.7.0) (2.6.0)\n",
            "Requirement already satisfied: pytz in /usr/local/lib/python3.6/dist-packages (from fastai==0.7.0) (2018.9)\n",
            "Collecting feather-format (from fastai==0.7.0)\n",
            "  Downloading https://files.pythonhosted.org/packages/08/55/940b97cc6f19a19f5dab9efef2f68a0ce43a7632f858b272391f0b851a7e/feather-format-0.4.0.tar.gz\n",
            "Requirement already satisfied: ipywidgets in /usr/local/lib/python3.6/dist-packages (from fastai==0.7.0) (7.4.2)\n",
            "Requirement already satisfied: pickleshare in /usr/local/lib/python3.6/dist-packages (from fastai==0.7.0) (0.7.5)\n",
            "Requirement already satisfied: MarkupSafe in /usr/local/lib/python3.6/dist-packages (from fastai==0.7.0) (1.1.1)\n",
            "Requirement already satisfied: pyzmq in /usr/local/lib/python3.6/dist-packages (from fastai==0.7.0) (17.0.0)\n",
            "Requirement already satisfied: wcwidth in /usr/local/lib/python3.6/dist-packages (from fastai==0.7.0) (0.1.7)\n",
            "Requirement already satisfied: matplotlib in /usr/local/lib/python3.6/dist-packages (from fastai==0.7.0) (3.0.3)\n",
            "Requirement already satisfied: tornado in /usr/local/lib/python3.6/dist-packages (from fastai==0.7.0) (4.5.3)\n",
            "Requirement already satisfied: python-dateutil in /usr/local/lib/python3.6/dist-packages (from fastai==0.7.0) (2.5.3)\n",
            "Requirement already satisfied: setuptools>=18.5 in /usr/local/lib/python3.6/dist-packages (from ipython->fastai==0.7.0) (40.9.0)\n",
            "Requirement already satisfied: prompt-toolkit<2.0.0,>=1.0.4 in /usr/local/lib/python3.6/dist-packages (from ipython->fastai==0.7.0) (1.0.16)\n",
            "Requirement already satisfied: pexpect; sys_platform != \"win32\" in /usr/local/lib/python3.6/dist-packages (from ipython->fastai==0.7.0) (4.7.0)\n",
            "Requirement already satisfied: notebook>=4.4.1 in /usr/local/lib/python3.6/dist-packages (from widgetsnbextension->fastai==0.7.0) (5.2.2)\n",
            "Requirement already satisfied: scikit-learn>=0.15.0 in /usr/local/lib/python3.6/dist-packages (from sklearn-pandas->fastai==0.7.0) (0.20.3)\n",
            "Requirement already satisfied: six>=1.9 in /usr/local/lib/python3.6/dist-packages (from html5lib->fastai==0.7.0) (1.11.0)\n",
            "Requirement already satisfied: nbconvert in /usr/local/lib/python3.6/dist-packages (from jupyter->fastai==0.7.0) (5.4.1)\n",
            "Requirement already satisfied: qtconsole in /usr/local/lib/python3.6/dist-packages (from jupyter->fastai==0.7.0) (4.4.3)\n",
            "Requirement already satisfied: jupyter-console in /usr/local/lib/python3.6/dist-packages (from jupyter->fastai==0.7.0) (6.0.0)\n",
            "Requirement already satisfied: parso>=0.3.0 in /usr/local/lib/python3.6/dist-packages (from jedi->fastai==0.7.0) (0.4.0)\n",
            "Requirement already satisfied: olefile in /usr/local/lib/python3.6/dist-packages (from Pillow->fastai==0.7.0) (0.46)\n",
            "Requirement already satisfied: jupyter-client in /usr/local/lib/python3.6/dist-packages (from ipykernel->fastai==0.7.0) (5.2.4)\n",
            "Requirement already satisfied: requests in /usr/local/lib/python3.6/dist-packages (from torchtext->fastai==0.7.0) (2.18.4)\n",
            "Requirement already satisfied: statsmodels>=0.8.0 in /usr/local/lib/python3.6/dist-packages (from plotnine->fastai==0.7.0) (0.8.0)\n",
            "Collecting descartes>=1.1.0 (from plotnine->fastai==0.7.0)\n",
            "  Downloading https://files.pythonhosted.org/packages/e5/b6/1ed2eb03989ae574584664985367ba70cd9cf8b32ee8cad0e8aaeac819f3/descartes-1.1.0-py3-none-any.whl\n",
            "Requirement already satisfied: patsy>=0.4.1 in /usr/local/lib/python3.6/dist-packages (from plotnine->fastai==0.7.0) (0.5.1)\n",
            "Collecting mizani>=0.5.2 (from plotnine->fastai==0.7.0)\n",
            "\u001b[?25l  Downloading https://files.pythonhosted.org/packages/d6/57/dd70eedf5d85cb328f73bbc661b7680f15bfebb07d8dabc3bda7de9faa7c/mizani-0.5.4-py2.py3-none-any.whl (58kB)\n",
            "\u001b[K    100% |████████████████████████████████| 61kB 28.9MB/s \n",
            "\u001b[?25hCollecting pyarrow>=0.4.0 (from feather-format->fastai==0.7.0)\n",
            "\u001b[?25l  Downloading https://files.pythonhosted.org/packages/ad/25/094b122d828d24b58202712a74e661e36cd551ca62d331e388ff68bae91d/pyarrow-0.13.0-cp36-cp36m-manylinux1_x86_64.whl (48.5MB)\n",
            "\u001b[K    100% |████████████████████████████████| 48.5MB 1.1MB/s \n",
            "\u001b[?25hRequirement already satisfied: nbformat>=4.2.0 in /usr/local/lib/python3.6/dist-packages (from ipywidgets->fastai==0.7.0) (4.4.0)\n",
            "Requirement already satisfied: kiwisolver>=1.0.1 in /usr/local/lib/python3.6/dist-packages (from matplotlib->fastai==0.7.0) (1.0.1)\n",
            "Requirement already satisfied: jupyter-core in /usr/local/lib/python3.6/dist-packages (from notebook>=4.4.1->widgetsnbextension->fastai==0.7.0) (4.4.0)\n",
            "Requirement already satisfied: terminado>=0.3.3; sys_platform != \"win32\" in /usr/local/lib/python3.6/dist-packages (from notebook>=4.4.1->widgetsnbextension->fastai==0.7.0) (0.8.2)\n",
            "Requirement already satisfied: pandocfilters>=1.4.1 in /usr/local/lib/python3.6/dist-packages (from nbconvert->jupyter->fastai==0.7.0) (1.4.2)\n",
            "Requirement already satisfied: defusedxml in /usr/local/lib/python3.6/dist-packages (from nbconvert->jupyter->fastai==0.7.0) (0.5.0)\n",
            "Requirement already satisfied: mistune>=0.8.1 in /usr/local/lib/python3.6/dist-packages (from nbconvert->jupyter->fastai==0.7.0) (0.8.4)\n",
            "Requirement already satisfied: chardet<3.1.0,>=3.0.2 in /usr/local/lib/python3.6/dist-packages (from requests->torchtext->fastai==0.7.0) (3.0.4)\n",
            "Requirement already satisfied: idna<2.7,>=2.5 in /usr/local/lib/python3.6/dist-packages (from requests->torchtext->fastai==0.7.0) (2.6)\n",
            "Requirement already satisfied: urllib3<1.23,>=1.21.1 in /usr/local/lib/python3.6/dist-packages (from requests->torchtext->fastai==0.7.0) (1.22)\n",
            "Collecting palettable (from mizani>=0.5.2->plotnine->fastai==0.7.0)\n",
            "\u001b[?25l  Downloading https://files.pythonhosted.org/packages/56/8a/84537c0354f0d1f03bf644b71bf8e0a50db9c1294181905721a5f3efbf66/palettable-3.1.1-py2.py3-none-any.whl (77kB)\n",
            "\u001b[K    100% |████████████████████████████████| 81kB 34.2MB/s \n",
            "\u001b[?25hBuilding wheels for collected packages: bcolz, feather-format\n",
            "  Building wheel for bcolz (setup.py) ... \u001b[?25ldone\n",
            "\u001b[?25h  Stored in directory: /root/.cache/pip/wheels/9f/78/26/fb8c0acb91a100dc8914bf236c4eaa4b207cb876893c40b745\n",
            "  Building wheel for feather-format (setup.py) ... \u001b[?25ldone\n",
            "\u001b[?25h  Stored in directory: /root/.cache/pip/wheels/85/7d/12/2dfa5c0195f921ac935f5e8f27deada74972edc0ae9988a9c1\n",
            "Successfully built bcolz feather-format\n",
            "Installing collected packages: bcolz, sklearn-pandas, isoweek, torch, descartes, palettable, mizani, plotnine, pandas-summary, pyarrow, feather-format, fastai\n",
            "  Found existing installation: torch 1.0.1.post2\n",
            "    Uninstalling torch-1.0.1.post2:\n",
            "      Successfully uninstalled torch-1.0.1.post2\n",
            "  Found existing installation: fastai 1.0.51\n",
            "    Uninstalling fastai-1.0.51:\n",
            "      Successfully uninstalled fastai-1.0.51\n",
            "Successfully installed bcolz-1.2.1 descartes-1.1.0 fastai-0.7.0 feather-format-0.4.0 isoweek-1.3.3 mizani-0.5.4 palettable-3.1.1 pandas-summary-0.0.6 plotnine-0.5.1 pyarrow-0.13.0 sklearn-pandas-1.8.0 torch-0.3.1\n"
          ],
          "name": "stdout"
        }
      ]
    },
    {
      "cell_type": "code",
      "metadata": {
        "id": "WivrQaB51pwJ",
        "colab_type": "code",
        "colab": {}
      },
      "source": [
        "# importing libraries\n",
        "import numpy as np\n",
        "import pandas as pd\n",
        "import seaborn as sns\n",
        "\n",
        "import datetime as dt\n",
        "import datetime\n",
        "import csv\n",
        "import math\n",
        "\n",
        "import matplotlib.pyplot as plt\n",
        "%matplotlib inline\n",
        "import matplotlib.dates as mdates\n",
        "import matplotlib as mpl\n",
        "import matplotlib.mlab as mlab\n",
        "\n",
        "pd.set_option('max_columns', 50)\n",
        "mpl.rcParams['lines.linewidth'] = 2\n",
        "\n",
        "from sklearn import linear_model\n",
        "from sklearn.model_selection import train_test_split\n",
        "from sklearn.metrics import r2_score\n",
        "from sklearn.preprocessing import StandardScaler\n",
        "from sklearn.ensemble import RandomForestRegressor\n",
        "from sklearn.preprocessing import LabelEncoder\n",
        "from sklearn import metrics\n",
        "from sklearn.ensemble import RandomForestRegressor, RandomForestClassifier\n",
        "from sklearn import preprocessing\n",
        "from sklearn.metrics import accuracy_score\n",
        "from sklearn.feature_selection import SelectPercentile, f_regression\n",
        "\n",
        "from scipy.integrate import simps\n",
        "from scipy.stats import spearmanr, pearsonr\n",
        "\n",
        "from pandas_datareader import data\n",
        "from fastai.structured import add_datepart\n",
        "from fastai.imports import*\n",
        "from fastai.structured import *\n",
        "\n",
        "from pandas_summary import DataFrameSummary\n",
        "from IPython.display import display"
      ],
      "execution_count": null,
      "outputs": []
    },
    {
      "cell_type": "code",
      "metadata": {
        "id": "XcgWpRVq1pwQ",
        "colab_type": "code",
        "colab": {}
      },
      "source": [
        "# reading the dataset\n",
        "df = pd.read_csv('/content/drive/My Drive/ML2.csv', parse_dates=['date_created'])"
      ],
      "execution_count": null,
      "outputs": []
    },
    {
      "cell_type": "code",
      "metadata": {
        "id": "RlHaWgSmJPDD",
        "colab_type": "code",
        "colab": {
          "base_uri": "https://localhost:8080/",
          "height": 404
        },
        "outputId": "bb46809d-df9b-482d-ec9a-1462176f1578"
      },
      "source": [
        "# top 4 rows of the dataset\n",
        "df.head(4)"
      ],
      "execution_count": null,
      "outputs": [
        {
          "output_type": "execute_result",
          "data": {
            "text/html": [
              "<div>\n",
              "<style scoped>\n",
              "    .dataframe tbody tr th:only-of-type {\n",
              "        vertical-align: middle;\n",
              "    }\n",
              "\n",
              "    .dataframe tbody tr th {\n",
              "        vertical-align: top;\n",
              "    }\n",
              "\n",
              "    .dataframe thead th {\n",
              "        text-align: right;\n",
              "    }\n",
              "</style>\n",
              "<table border=\"1\" class=\"dataframe\">\n",
              "  <thead>\n",
              "    <tr style=\"text-align: right;\">\n",
              "      <th></th>\n",
              "      <th>job_id</th>\n",
              "      <th>job_title</th>\n",
              "      <th>no_applicants</th>\n",
              "      <th>date_created</th>\n",
              "      <th>knowledge_domain</th>\n",
              "      <th>job_description</th>\n",
              "      <th>has_formatting</th>\n",
              "      <th>featured_job</th>\n",
              "      <th>cover_letter_preference_id</th>\n",
              "      <th>has_screening_questions</th>\n",
              "      <th>external_url</th>\n",
              "      <th>postal_code</th>\n",
              "      <th>has_salary</th>\n",
              "      <th>has_skills</th>\n",
              "      <th>easy_apply</th>\n",
              "      <th>cover_letter</th>\n",
              "      <th>job_type</th>\n",
              "      <th>salary_type</th>\n",
              "      <th>salary_from_per_annum</th>\n",
              "      <th>salary_to_per_annum</th>\n",
              "      <th>eligible_uk_only</th>\n",
              "      <th>display_style</th>\n",
              "      <th>show_sponsored_links_ads</th>\n",
              "      <th>is_public</th>\n",
              "      <th>is_graduate</th>\n",
              "      <th>is_multilingual</th>\n",
              "      <th>is_exec_role</th>\n",
              "      <th>is_fulltime</th>\n",
              "      <th>is_parttime</th>\n",
              "      <th>is_branded</th>\n",
              "      <th>is_nationwide</th>\n",
              "      <th>company_type</th>\n",
              "      <th>townname</th>\n",
              "      <th>countyname</th>\n",
              "      <th>regionname</th>\n",
              "      <th>latitude</th>\n",
              "      <th>longitude</th>\n",
              "    </tr>\n",
              "  </thead>\n",
              "  <tbody>\n",
              "    <tr>\n",
              "      <th>0</th>\n",
              "      <td>32831231</td>\n",
              "      <td>Assistant Accountant - PLUS FULL STUDY SUPPORT</td>\n",
              "      <td>21</td>\n",
              "      <td>2017-07-14</td>\n",
              "      <td>Financial Services</td>\n",
              "      <td>&lt;p&gt;Assistant Accountant&lt;/p&gt; &lt;p&gt;Location: Skip...</td>\n",
              "      <td>1</td>\n",
              "      <td>0</td>\n",
              "      <td>1</td>\n",
              "      <td>0</td>\n",
              "      <td>1</td>\n",
              "      <td>BD</td>\n",
              "      <td>1</td>\n",
              "      <td>0</td>\n",
              "      <td>0</td>\n",
              "      <td>1</td>\n",
              "      <td>1</td>\n",
              "      <td>5</td>\n",
              "      <td>22000</td>\n",
              "      <td>25000</td>\n",
              "      <td>f</td>\n",
              "      <td>1</td>\n",
              "      <td>f</td>\n",
              "      <td>f</td>\n",
              "      <td>f</td>\n",
              "      <td>f</td>\n",
              "      <td>f</td>\n",
              "      <td>t</td>\n",
              "      <td>f</td>\n",
              "      <td>f</td>\n",
              "      <td>f</td>\n",
              "      <td>1</td>\n",
              "      <td>Chichester</td>\n",
              "      <td>West Sussex</td>\n",
              "      <td>South East England</td>\n",
              "      <td>50.931913</td>\n",
              "      <td>-0.900624</td>\n",
              "    </tr>\n",
              "    <tr>\n",
              "      <th>1</th>\n",
              "      <td>32197052</td>\n",
              "      <td>Credit Controller</td>\n",
              "      <td>6</td>\n",
              "      <td>2017-04-27</td>\n",
              "      <td>Financial Services</td>\n",
              "      <td>&lt;p&gt;&lt;strong&gt;Position: Credit Controller&lt;/stron...</td>\n",
              "      <td>1</td>\n",
              "      <td>0</td>\n",
              "      <td>1</td>\n",
              "      <td>0</td>\n",
              "      <td>1</td>\n",
              "      <td>M</td>\n",
              "      <td>1</td>\n",
              "      <td>0</td>\n",
              "      <td>0</td>\n",
              "      <td>1</td>\n",
              "      <td>1</td>\n",
              "      <td>5</td>\n",
              "      <td>18000</td>\n",
              "      <td>20000</td>\n",
              "      <td>f</td>\n",
              "      <td>1</td>\n",
              "      <td>f</td>\n",
              "      <td>f</td>\n",
              "      <td>f</td>\n",
              "      <td>f</td>\n",
              "      <td>f</td>\n",
              "      <td>t</td>\n",
              "      <td>f</td>\n",
              "      <td>f</td>\n",
              "      <td>f</td>\n",
              "      <td>1</td>\n",
              "      <td>Mold</td>\n",
              "      <td>Clwyd</td>\n",
              "      <td>NaN</td>\n",
              "      <td>53.172614</td>\n",
              "      <td>-3.108135</td>\n",
              "    </tr>\n",
              "    <tr>\n",
              "      <th>2</th>\n",
              "      <td>31813728</td>\n",
              "      <td>Credit Controller</td>\n",
              "      <td>8</td>\n",
              "      <td>2017-03-07</td>\n",
              "      <td>Financial Services</td>\n",
              "      <td>&lt;p&gt;THE COMPANY:&lt;br /&gt;&lt;br /&gt;Brewster Pratap ar...</td>\n",
              "      <td>0</td>\n",
              "      <td>0</td>\n",
              "      <td>1</td>\n",
              "      <td>0</td>\n",
              "      <td>1</td>\n",
              "      <td>S</td>\n",
              "      <td>1</td>\n",
              "      <td>0</td>\n",
              "      <td>0</td>\n",
              "      <td>1</td>\n",
              "      <td>1</td>\n",
              "      <td>5</td>\n",
              "      <td>19000</td>\n",
              "      <td>19000</td>\n",
              "      <td>t</td>\n",
              "      <td>1</td>\n",
              "      <td>f</td>\n",
              "      <td>f</td>\n",
              "      <td>f</td>\n",
              "      <td>f</td>\n",
              "      <td>f</td>\n",
              "      <td>t</td>\n",
              "      <td>f</td>\n",
              "      <td>f</td>\n",
              "      <td>f</td>\n",
              "      <td>1</td>\n",
              "      <td>Ashton-Under-Lyne</td>\n",
              "      <td>Lancashire</td>\n",
              "      <td>North West England</td>\n",
              "      <td>53.480309</td>\n",
              "      <td>-2.108350</td>\n",
              "    </tr>\n",
              "    <tr>\n",
              "      <th>3</th>\n",
              "      <td>32747951</td>\n",
              "      <td>Senior Credit Controller</td>\n",
              "      <td>38</td>\n",
              "      <td>2017-07-04</td>\n",
              "      <td>Financial Services</td>\n",
              "      <td>&lt;p&gt;Fantastic opportunity to join a well estab...</td>\n",
              "      <td>1</td>\n",
              "      <td>0</td>\n",
              "      <td>1</td>\n",
              "      <td>0</td>\n",
              "      <td>1</td>\n",
              "      <td>SL</td>\n",
              "      <td>1</td>\n",
              "      <td>0</td>\n",
              "      <td>0</td>\n",
              "      <td>1</td>\n",
              "      <td>1</td>\n",
              "      <td>5</td>\n",
              "      <td>27500</td>\n",
              "      <td>27500</td>\n",
              "      <td>f</td>\n",
              "      <td>1</td>\n",
              "      <td>f</td>\n",
              "      <td>f</td>\n",
              "      <td>f</td>\n",
              "      <td>f</td>\n",
              "      <td>f</td>\n",
              "      <td>t</td>\n",
              "      <td>f</td>\n",
              "      <td>f</td>\n",
              "      <td>f</td>\n",
              "      <td>1</td>\n",
              "      <td>Hayle</td>\n",
              "      <td>Cornwall</td>\n",
              "      <td>South West England</td>\n",
              "      <td>50.204081</td>\n",
              "      <td>-5.372162</td>\n",
              "    </tr>\n",
              "  </tbody>\n",
              "</table>\n",
              "</div>"
            ],
            "text/plain": [
              "     job_id                                       job_title  no_applicants  \\\n",
              "0  32831231  Assistant Accountant - PLUS FULL STUDY SUPPORT             21   \n",
              "1  32197052                               Credit Controller              6   \n",
              "2  31813728                               Credit Controller              8   \n",
              "3  32747951                        Senior Credit Controller             38   \n",
              "\n",
              "  date_created    knowledge_domain  \\\n",
              "0   2017-07-14  Financial Services   \n",
              "1   2017-04-27  Financial Services   \n",
              "2   2017-03-07  Financial Services   \n",
              "3   2017-07-04  Financial Services   \n",
              "\n",
              "                                     job_description  has_formatting  \\\n",
              "0   <p>Assistant Accountant</p> <p>Location: Skip...               1   \n",
              "1   <p><strong>Position: Credit Controller</stron...               1   \n",
              "2   <p>THE COMPANY:<br /><br />Brewster Pratap ar...               0   \n",
              "3   <p>Fantastic opportunity to join a well estab...               1   \n",
              "\n",
              "   featured_job  cover_letter_preference_id  has_screening_questions  \\\n",
              "0             0                           1                        0   \n",
              "1             0                           1                        0   \n",
              "2             0                           1                        0   \n",
              "3             0                           1                        0   \n",
              "\n",
              "   external_url postal_code  has_salary  has_skills  easy_apply  cover_letter  \\\n",
              "0             1          BD           1           0           0             1   \n",
              "1             1           M           1           0           0             1   \n",
              "2             1           S           1           0           0             1   \n",
              "3             1          SL           1           0           0             1   \n",
              "\n",
              "   job_type  salary_type  salary_from_per_annum  salary_to_per_annum  \\\n",
              "0         1            5                  22000                25000   \n",
              "1         1            5                  18000                20000   \n",
              "2         1            5                  19000                19000   \n",
              "3         1            5                  27500                27500   \n",
              "\n",
              "  eligible_uk_only  display_style show_sponsored_links_ads is_public  \\\n",
              "0                f              1                        f         f   \n",
              "1                f              1                        f         f   \n",
              "2                t              1                        f         f   \n",
              "3                f              1                        f         f   \n",
              "\n",
              "  is_graduate is_multilingual is_exec_role is_fulltime is_parttime is_branded  \\\n",
              "0           f               f            f           t           f          f   \n",
              "1           f               f            f           t           f          f   \n",
              "2           f               f            f           t           f          f   \n",
              "3           f               f            f           t           f          f   \n",
              "\n",
              "  is_nationwide  company_type           townname   countyname  \\\n",
              "0             f             1         Chichester  West Sussex   \n",
              "1             f             1               Mold        Clwyd   \n",
              "2             f             1  Ashton-Under-Lyne   Lancashire   \n",
              "3             f             1              Hayle     Cornwall   \n",
              "\n",
              "           regionname   latitude  longitude  \n",
              "0  South East England  50.931913  -0.900624  \n",
              "1                 NaN  53.172614  -3.108135  \n",
              "2  North West England  53.480309  -2.108350  \n",
              "3  South West England  50.204081  -5.372162  "
            ]
          },
          "metadata": {
            "tags": []
          },
          "execution_count": 49
        }
      ]
    },
    {
      "cell_type": "code",
      "metadata": {
        "id": "KkyhXH6idxzD",
        "colab_type": "code",
        "colab": {
          "base_uri": "https://localhost:8080/",
          "height": 763
        },
        "outputId": "f841ad95-6573-49a3-f4a9-9d8ef80a42b7"
      },
      "source": [
        "# checking the datatype of the columns\n",
        "df.info()"
      ],
      "execution_count": null,
      "outputs": [
        {
          "output_type": "stream",
          "text": [
            "<class 'pandas.core.frame.DataFrame'>\n",
            "RangeIndex: 90351 entries, 0 to 90350\n",
            "Data columns (total 37 columns):\n",
            "job_id                        90351 non-null int64\n",
            "job_title                     90351 non-null object\n",
            "no_applicants                 90351 non-null int64\n",
            "date_created                  90351 non-null datetime64[ns]\n",
            "knowledge_domain              90351 non-null object\n",
            "job_description               90351 non-null object\n",
            "has_formatting                90351 non-null int64\n",
            "featured_job                  90351 non-null int64\n",
            "cover_letter_preference_id    90351 non-null int64\n",
            "has_screening_questions       90351 non-null int64\n",
            "external_url                  90351 non-null int64\n",
            "postal_code                   71961 non-null object\n",
            "has_salary                    90351 non-null int64\n",
            "has_skills                    90351 non-null int64\n",
            "easy_apply                    90351 non-null int64\n",
            "cover_letter                  90351 non-null int64\n",
            "job_type                      90351 non-null int64\n",
            "salary_type                   90351 non-null int64\n",
            "salary_from_per_annum         90351 non-null int64\n",
            "salary_to_per_annum           90351 non-null int64\n",
            "eligible_uk_only              90351 non-null object\n",
            "display_style                 90351 non-null int64\n",
            "show_sponsored_links_ads      90351 non-null object\n",
            "is_public                     90351 non-null object\n",
            "is_graduate                   90351 non-null object\n",
            "is_multilingual               90351 non-null object\n",
            "is_exec_role                  90351 non-null object\n",
            "is_fulltime                   90351 non-null object\n",
            "is_parttime                   90351 non-null object\n",
            "is_branded                    90351 non-null object\n",
            "is_nationwide                 90351 non-null object\n",
            "company_type                  90351 non-null int64\n",
            "townname                      88251 non-null object\n",
            "countyname                    88870 non-null object\n",
            "regionname                    57745 non-null object\n",
            "latitude                      90058 non-null float64\n",
            "longitude                     90058 non-null float64\n",
            "dtypes: datetime64[ns](1), float64(2), int64(17), object(17)\n",
            "memory usage: 25.5+ MB\n"
          ],
          "name": "stdout"
        }
      ]
    },
    {
      "cell_type": "code",
      "metadata": {
        "id": "rGm5CeTIJr3M",
        "colab_type": "code",
        "colab": {
          "base_uri": "https://localhost:8080/",
          "height": 582
        },
        "outputId": "c9b0c4ad-7bcf-4829-c0f2-c8420020ec4e"
      },
      "source": [
        "# Distribution of total number of applicants\n",
        "plt.figure(figsize=(12,6))\n",
        "\n",
        "sns.distplot(df['no_applicants'],bins=20)\n",
        "\n",
        "plt.title(\"Distribution of Total Number of Applicants\")\n",
        "\n",
        "print(df['no_applicants'].describe())\n",
        "print(sum(df['no_applicants'] == 0)/float(len(df)))"
      ],
      "execution_count": null,
      "outputs": [
        {
          "output_type": "stream",
          "text": [
            "count    90351.000000\n",
            "mean        20.241469\n",
            "std         40.947716\n",
            "min          0.000000\n",
            "25%          2.000000\n",
            "50%          7.000000\n",
            "75%         21.000000\n",
            "max       1302.000000\n",
            "Name: no_applicants, dtype: float64\n",
            "0.10025345596617635\n"
          ],
          "name": "stdout"
        },
        {
          "output_type": "display_data",
          "data": {
            "image/png": "[encoded data removed]",
            "text/plain": [
              "<Figure size 864x432 with 1 Axes>"
            ]
          },
          "metadata": {
            "tags": []
          }
        }
      ]
    },
    {
      "cell_type": "code",
      "metadata": {
        "id": "KL4Q33iuKots",
        "colab_type": "code",
        "colab": {
          "base_uri": "https://localhost:8080/",
          "height": 531
        },
        "outputId": "b5df3842-a498-46b0-d013-f158490cb08e"
      },
      "source": [
        "# No of Applicants by Knowledge Domain\n",
        "plt.figure(figsize=(12,8))\n",
        "\n",
        "sns.boxplot(x='knowledge_domain',y='no_applicants',hue='cover_letter',data=df,palette='viridis')\n",
        "\n",
        "plt.ylim(0,2200)\n",
        "plt.title(\"No of Applicants by Knowledge Domain\")\n",
        "plt.ylabel(\"No of Applicants\")"
      ],
      "execution_count": null,
      "outputs": [
        {
          "output_type": "execute_result",
          "data": {
            "text/plain": [
              "Text(0, 0.5, 'No of Applicants')"
            ]
          },
          "metadata": {
            "tags": []
          },
          "execution_count": 52
        },
        {
          "output_type": "display_data",
          "data": {
            "image/png": "[encoded data removed]",
            "text/plain": [
              "<Figure size 864x576 with 1 Axes>"
            ]
          },
          "metadata": {
            "tags": []
          }
        }
      ]
    },
    {
      "cell_type": "code",
      "metadata": {
        "id": "7b5uOMZjLBh8",
        "colab_type": "code",
        "colab": {
          "base_uri": "https://localhost:8080/",
          "height": 498
        },
        "outputId": "a1e26414-adb7-4529-ca77-8e7ba53b42af"
      },
      "source": [
        "# knowledge_domain\n",
        "plt.figure(figsize=(12,6))\n",
        "\n",
        "sns.countplot(df['knowledge_domain'],palette='viridis')\n",
        "\n",
        "print(df['knowledge_domain'].describe())\n",
        "print(sum(df['knowledge_domain'] == 0)/float(len(df)))"
      ],
      "execution_count": null,
      "outputs": [
        {
          "output_type": "stream",
          "text": [
            "count                  90351\n",
            "unique                     6\n",
            "top       Financial Services\n",
            "freq                   26154\n",
            "Name: knowledge_domain, dtype: object\n",
            "0.0\n"
          ],
          "name": "stdout"
        },
        {
          "output_type": "display_data",
          "data": {
            "image/png": "[encoded data removed]",
            "text/plain": [
              "<Figure size 864x432 with 1 Axes>"
            ]
          },
          "metadata": {
            "tags": []
          }
        }
      ]
    },
    {
      "cell_type": "code",
      "metadata": {
        "id": "7uAWLbqMPRex",
        "colab_type": "code",
        "colab": {
          "base_uri": "https://localhost:8080/",
          "height": 531
        },
        "outputId": "16818bcb-0f4f-42a9-c2cd-cf09ff1474c5"
      },
      "source": [
        "# Distribution of Knowledge Domain by Eligibility to work in UK\n",
        "plt.figure(figsize=(12,8))\n",
        "\n",
        "sns.countplot(x='knowledge_domain',hue='eligible_uk_only',data=df,palette='viridis')\n",
        "\n",
        "plt.title(\"Distribution of Knowledge Domain by Eligibility to work in UK\")"
      ],
      "execution_count": null,
      "outputs": [
        {
          "output_type": "execute_result",
          "data": {
            "text/plain": [
              "Text(0.5, 1.0, 'Distribution of Knowledge Domain by Eligibility to work in UK')"
            ]
          },
          "metadata": {
            "tags": []
          },
          "execution_count": 54
        },
        {
          "output_type": "display_data",
          "data": {
            "image/png": "[encoded data removed]",
            "text/plain": [
              "<Figure size 864x576 with 1 Axes>"
            ]
          },
          "metadata": {
            "tags": []
          }
        }
      ]
    },
    {
      "cell_type": "code",
      "metadata": {
        "id": "G-_OaEadQEgx",
        "colab_type": "code",
        "colab": {
          "base_uri": "https://localhost:8080/",
          "height": 544
        },
        "outputId": "76e56a69-93a8-4788-ab09-27158aa87bc5"
      },
      "source": [
        "# Salary vs. # No of Applicants\n",
        "plt.figure(figsize=(16,8))\n",
        "\n",
        "sns.lmplot(x='salary_from_per_annum',y='no_applicants',\n",
        "           hue='eligible_uk_only',data=df,fit_reg=True,\n",
        "          scatter_kws={'alpha':0.6},size=(6))\n",
        "\n",
        "plt.legend()\n",
        "plt.ylim(0,1000)\n",
        "plt.ylabel(\"No of Applicants\")\n",
        "plt.title('# Salary vs. # No of Applicants')"
      ],
      "execution_count": null,
      "outputs": [
        {
          "output_type": "stream",
          "text": [
            "/usr/local/lib/python3.6/dist-packages/seaborn/regression.py:546: UserWarning: The `size` paramter has been renamed to `height`; please update your code.\n",
            "  warnings.warn(msg, UserWarning)\n"
          ],
          "name": "stderr"
        },
        {
          "output_type": "execute_result",
          "data": {
            "text/plain": [
              "Text(0.5, 1.0, '# Salary vs. # No of Applicants')"
            ]
          },
          "metadata": {
            "tags": []
          },
          "execution_count": 55
        },
        {
          "output_type": "display_data",
          "data": {
            "text/plain": [
              "<Figure size 1152x576 with 0 Axes>"
            ]
          },
          "metadata": {
            "tags": []
          }
        },
        {
          "output_type": "display_data",
          "data": {
            "image/png": "[encoded data removed]",
            "text/plain": [
              "<Figure size 519.625x432 with 1 Axes>"
            ]
          },
          "metadata": {
            "tags": []
          }
        }
      ]
    },
    {
      "cell_type": "code",
      "metadata": {
        "id": "hRxZ61RpeEoz",
        "colab_type": "code",
        "colab": {
          "base_uri": "https://localhost:8080/",
          "height": 34
        },
        "outputId": "e9968332-0fb8-439a-99f2-4a1a26c3f8e6"
      },
      "source": [
        "# shape of the dataset\n",
        "df.shape"
      ],
      "execution_count": null,
      "outputs": [
        {
          "output_type": "execute_result",
          "data": {
            "text/plain": [
              "(90351, 37)"
            ]
          },
          "metadata": {
            "tags": []
          },
          "execution_count": 56
        }
      ]
    },
    {
      "cell_type": "code",
      "metadata": {
        "id": "jRgaypha3Rxc",
        "colab_type": "code",
        "colab": {
          "base_uri": "https://localhost:8080/",
          "height": 692
        },
        "outputId": "cbd58c41-bf8c-44ad-ed48-eacca87ee86e"
      },
      "source": [
        "# any missing values in the columns of the dataset\n",
        "df.isnull().any()"
      ],
      "execution_count": null,
      "outputs": [
        {
          "output_type": "execute_result",
          "data": {
            "text/plain": [
              "job_id                        False\n",
              "job_title                     False\n",
              "no_applicants                 False\n",
              "date_created                  False\n",
              "knowledge_domain              False\n",
              "job_description               False\n",
              "has_formatting                False\n",
              "featured_job                  False\n",
              "cover_letter_preference_id    False\n",
              "has_screening_questions       False\n",
              "external_url                  False\n",
              "postal_code                    True\n",
              "has_salary                    False\n",
              "has_skills                    False\n",
              "easy_apply                    False\n",
              "cover_letter                  False\n",
              "job_type                      False\n",
              "salary_type                   False\n",
              "salary_from_per_annum         False\n",
              "salary_to_per_annum           False\n",
              "eligible_uk_only              False\n",
              "display_style                 False\n",
              "show_sponsored_links_ads      False\n",
              "is_public                     False\n",
              "is_graduate                   False\n",
              "is_multilingual               False\n",
              "is_exec_role                  False\n",
              "is_fulltime                   False\n",
              "is_parttime                   False\n",
              "is_branded                    False\n",
              "is_nationwide                 False\n",
              "company_type                  False\n",
              "townname                       True\n",
              "countyname                     True\n",
              "regionname                     True\n",
              "latitude                       True\n",
              "longitude                      True\n",
              "dtype: bool"
            ]
          },
          "metadata": {
            "tags": []
          },
          "execution_count": 57
        }
      ]
    },
    {
      "cell_type": "code",
      "metadata": {
        "id": "l7JrLpXq4cYm",
        "colab_type": "code",
        "colab": {
          "base_uri": "https://localhost:8080/",
          "height": 263
        },
        "outputId": "b6f53463-9153-4814-98fa-1e322c349d12"
      },
      "source": [
        "# missing column function\n",
        "def missing_zero_values_table(df):\n",
        "        zero_val = (df == 0.00).astype(int).sum(axis=0)\n",
        "        mis_val = df.isnull().sum()\n",
        "        mis_val_percent = 100 * df.isnull().sum() / len(df)\n",
        "        mz_table = pd.concat([zero_val, mis_val, mis_val_percent], axis=1)\n",
        "        mz_table = mz_table.rename(\n",
        "        columns = {0 : 'Zero Values', 1 : 'Missing Values', 2 : '% of Total Values'})\n",
        "        mz_table['Total Zero Missing Values'] = mz_table['Zero Values'] + mz_table['Missing Values']\n",
        "        mz_table['% Total Zero Missing Values'] = 100 * mz_table['Total Zero Missing Values'] / len(df)\n",
        "        mz_table['Data Type'] = df.dtypes\n",
        "        mz_table = mz_table[\n",
        "            mz_table.iloc[:,1] != 0].sort_values(\n",
        "        '% of Total Values', ascending=False).round(1)\n",
        "        print (\"Your selected dataframe has \" + str(df.shape[1]) + \" columns and \" + str(df.shape[0]) + \" Rows.\\n\"      \n",
        "            \"There are \" + str(mz_table.shape[0]) +\n",
        "              \" columns that have missing values.\")\n",
        "\n",
        "        return mz_table\n",
        "\n",
        "missing_zero_values_table(df)"
      ],
      "execution_count": null,
      "outputs": [
        {
          "output_type": "stream",
          "text": [
            "Your selected dataframe has 37 columns and 90351 Rows.\n",
            "There are 6 columns that have missing values.\n"
          ],
          "name": "stdout"
        },
        {
          "output_type": "execute_result",
          "data": {
            "text/html": [
              "<div>\n",
              "<style scoped>\n",
              "    .dataframe tbody tr th:only-of-type {\n",
              "        vertical-align: middle;\n",
              "    }\n",
              "\n",
              "    .dataframe tbody tr th {\n",
              "        vertical-align: top;\n",
              "    }\n",
              "\n",
              "    .dataframe thead th {\n",
              "        text-align: right;\n",
              "    }\n",
              "</style>\n",
              "<table border=\"1\" class=\"dataframe\">\n",
              "  <thead>\n",
              "    <tr style=\"text-align: right;\">\n",
              "      <th></th>\n",
              "      <th>Zero Values</th>\n",
              "      <th>Missing Values</th>\n",
              "      <th>% of Total Values</th>\n",
              "      <th>Total Zero Missing Values</th>\n",
              "      <th>% Total Zero Missing Values</th>\n",
              "      <th>Data Type</th>\n",
              "    </tr>\n",
              "  </thead>\n",
              "  <tbody>\n",
              "    <tr>\n",
              "      <th>regionname</th>\n",
              "      <td>0</td>\n",
              "      <td>32606</td>\n",
              "      <td>36.1</td>\n",
              "      <td>32606</td>\n",
              "      <td>36.1</td>\n",
              "      <td>object</td>\n",
              "    </tr>\n",
              "    <tr>\n",
              "      <th>postal_code</th>\n",
              "      <td>0</td>\n",
              "      <td>18390</td>\n",
              "      <td>20.4</td>\n",
              "      <td>18390</td>\n",
              "      <td>20.4</td>\n",
              "      <td>object</td>\n",
              "    </tr>\n",
              "    <tr>\n",
              "      <th>townname</th>\n",
              "      <td>0</td>\n",
              "      <td>2100</td>\n",
              "      <td>2.3</td>\n",
              "      <td>2100</td>\n",
              "      <td>2.3</td>\n",
              "      <td>object</td>\n",
              "    </tr>\n",
              "    <tr>\n",
              "      <th>countyname</th>\n",
              "      <td>0</td>\n",
              "      <td>1481</td>\n",
              "      <td>1.6</td>\n",
              "      <td>1481</td>\n",
              "      <td>1.6</td>\n",
              "      <td>object</td>\n",
              "    </tr>\n",
              "    <tr>\n",
              "      <th>latitude</th>\n",
              "      <td>0</td>\n",
              "      <td>293</td>\n",
              "      <td>0.3</td>\n",
              "      <td>293</td>\n",
              "      <td>0.3</td>\n",
              "      <td>float64</td>\n",
              "    </tr>\n",
              "    <tr>\n",
              "      <th>longitude</th>\n",
              "      <td>0</td>\n",
              "      <td>293</td>\n",
              "      <td>0.3</td>\n",
              "      <td>293</td>\n",
              "      <td>0.3</td>\n",
              "      <td>float64</td>\n",
              "    </tr>\n",
              "  </tbody>\n",
              "</table>\n",
              "</div>"
            ],
            "text/plain": [
              "             Zero Values  Missing Values  % of Total Values  \\\n",
              "regionname             0           32606               36.1   \n",
              "postal_code            0           18390               20.4   \n",
              "townname               0            2100                2.3   \n",
              "countyname             0            1481                1.6   \n",
              "latitude               0             293                0.3   \n",
              "longitude              0             293                0.3   \n",
              "\n",
              "             Total Zero Missing Values  % Total Zero Missing Values Data Type  \n",
              "regionname                       32606                         36.1    object  \n",
              "postal_code                      18390                         20.4    object  \n",
              "townname                          2100                          2.3    object  \n",
              "countyname                        1481                          1.6    object  \n",
              "latitude                           293                          0.3   float64  \n",
              "longitude                          293                          0.3   float64  "
            ]
          },
          "metadata": {
            "tags": []
          },
          "execution_count": 58
        }
      ]
    },
    {
      "cell_type": "code",
      "metadata": {
        "id": "7VROTPpDUq-Q",
        "colab_type": "code",
        "colab": {}
      },
      "source": [
        "# filling missing value columns\n",
        "df['regionname'].fillna('e',inplace=True)\n",
        "df['postal_code'].fillna('e',inplace=True)\n",
        "df['townname'].fillna('e',inplace=True)\n",
        "df['countyname'].fillna('e',inplace=True)\n",
        "\n",
        "df['latitude'].fillna(0,inplace=True)\n",
        "df['longitude'].fillna(0,inplace=True)"
      ],
      "execution_count": null,
      "outputs": []
    },
    {
      "cell_type": "code",
      "metadata": {
        "id": "C0PyQ5jTVKLz",
        "colab_type": "code",
        "colab": {
          "base_uri": "https://localhost:8080/",
          "height": 83
        },
        "outputId": "45135d5e-c6e4-472c-fc24-a77992c79267"
      },
      "source": [
        "# verifying to see any columns having missing values again\n",
        "def missing_zero_values_table(df):\n",
        "        zero_val = (df == 0.00).astype(int).sum(axis=0)\n",
        "        mis_val = df.isnull().sum()\n",
        "        mis_val_percent = 100 * df.isnull().sum() / len(df)\n",
        "        mz_table = pd.concat([zero_val, mis_val, mis_val_percent], axis=1)\n",
        "        mz_table = mz_table.rename(\n",
        "        columns = {0 : 'Zero Values', 1 : 'Missing Values', 2 : '% of Total Values'})\n",
        "        mz_table['Total Zero Missing Values'] = mz_table['Zero Values'] + mz_table['Missing Values']\n",
        "        mz_table['% Total Zero Missing Values'] = 100 * mz_table['Total Zero Missing Values'] / len(df)\n",
        "        mz_table['Data Type'] = df.dtypes\n",
        "        mz_table = mz_table[\n",
        "            mz_table.iloc[:,1] != 0].sort_values(\n",
        "        '% of Total Values', ascending=False).round(1)\n",
        "        print (\"Your selected dataframe has \" + str(df.shape[1]) + \" columns and \" + str(df.shape[0]) + \" Rows.\\n\"      \n",
        "            \"There are \" + str(mz_table.shape[0]) +\n",
        "              \" columns that have missing values.\")\n",
        "\n",
        "        return mz_table\n",
        "\n",
        "missing_zero_values_table(df)"
      ],
      "execution_count": null,
      "outputs": [
        {
          "output_type": "stream",
          "text": [
            "Your selected dataframe has 37 columns and 90351 Rows.\n",
            "There are 0 columns that have missing values.\n"
          ],
          "name": "stdout"
        },
        {
          "output_type": "execute_result",
          "data": {
            "text/html": [
              "<div>\n",
              "<style scoped>\n",
              "    .dataframe tbody tr th:only-of-type {\n",
              "        vertical-align: middle;\n",
              "    }\n",
              "\n",
              "    .dataframe tbody tr th {\n",
              "        vertical-align: top;\n",
              "    }\n",
              "\n",
              "    .dataframe thead th {\n",
              "        text-align: right;\n",
              "    }\n",
              "</style>\n",
              "<table border=\"1\" class=\"dataframe\">\n",
              "  <thead>\n",
              "    <tr style=\"text-align: right;\">\n",
              "      <th></th>\n",
              "      <th>Zero Values</th>\n",
              "      <th>Missing Values</th>\n",
              "      <th>% of Total Values</th>\n",
              "      <th>Total Zero Missing Values</th>\n",
              "      <th>% Total Zero Missing Values</th>\n",
              "      <th>Data Type</th>\n",
              "    </tr>\n",
              "  </thead>\n",
              "  <tbody>\n",
              "  </tbody>\n",
              "</table>\n",
              "</div>"
            ],
            "text/plain": [
              "Empty DataFrame\n",
              "Columns: [Zero Values, Missing Values, % of Total Values, Total Zero Missing Values, % Total Zero Missing Values, Data Type]\n",
              "Index: []"
            ]
          },
          "metadata": {
            "tags": []
          },
          "execution_count": 60
        }
      ]
    },
    {
      "cell_type": "code",
      "metadata": {
        "id": "2EVKns-LVlbb",
        "colab_type": "code",
        "colab": {
          "base_uri": "https://localhost:8080/",
          "height": 763
        },
        "outputId": "9f3091e4-455f-4dc3-ed1a-f4e25d1ede49"
      },
      "source": [
        "# checking the structure and data type\n",
        "df.info()"
      ],
      "execution_count": null,
      "outputs": [
        {
          "output_type": "stream",
          "text": [
            "<class 'pandas.core.frame.DataFrame'>\n",
            "RangeIndex: 90351 entries, 0 to 90350\n",
            "Data columns (total 37 columns):\n",
            "job_id                        90351 non-null int64\n",
            "job_title                     90351 non-null object\n",
            "no_applicants                 90351 non-null int64\n",
            "date_created                  90351 non-null datetime64[ns]\n",
            "knowledge_domain              90351 non-null object\n",
            "job_description               90351 non-null object\n",
            "has_formatting                90351 non-null int64\n",
            "featured_job                  90351 non-null int64\n",
            "cover_letter_preference_id    90351 non-null int64\n",
            "has_screening_questions       90351 non-null int64\n",
            "external_url                  90351 non-null int64\n",
            "postal_code                   90351 non-null object\n",
            "has_salary                    90351 non-null int64\n",
            "has_skills                    90351 non-null int64\n",
            "easy_apply                    90351 non-null int64\n",
            "cover_letter                  90351 non-null int64\n",
            "job_type                      90351 non-null int64\n",
            "salary_type                   90351 non-null int64\n",
            "salary_from_per_annum         90351 non-null int64\n",
            "salary_to_per_annum           90351 non-null int64\n",
            "eligible_uk_only              90351 non-null object\n",
            "display_style                 90351 non-null int64\n",
            "show_sponsored_links_ads      90351 non-null object\n",
            "is_public                     90351 non-null object\n",
            "is_graduate                   90351 non-null object\n",
            "is_multilingual               90351 non-null object\n",
            "is_exec_role                  90351 non-null object\n",
            "is_fulltime                   90351 non-null object\n",
            "is_parttime                   90351 non-null object\n",
            "is_branded                    90351 non-null object\n",
            "is_nationwide                 90351 non-null object\n",
            "company_type                  90351 non-null int64\n",
            "townname                      90351 non-null object\n",
            "countyname                    90351 non-null object\n",
            "regionname                    90351 non-null object\n",
            "latitude                      90351 non-null float64\n",
            "longitude                     90351 non-null float64\n",
            "dtypes: datetime64[ns](1), float64(2), int64(17), object(17)\n",
            "memory usage: 25.5+ MB\n"
          ],
          "name": "stdout"
        }
      ]
    },
    {
      "cell_type": "code",
      "metadata": {
        "id": "__fk71pileJe",
        "colab_type": "code",
        "colab": {
          "base_uri": "https://localhost:8080/",
          "height": 212
        },
        "outputId": "bb0313b2-0bce-4faa-d9f9-8e5b7a67e0af"
      },
      "source": [
        "# name of the columns\n",
        "df.columns"
      ],
      "execution_count": null,
      "outputs": [
        {
          "output_type": "execute_result",
          "data": {
            "text/plain": [
              "Index(['job_id', 'job_title', 'no_applicants', 'date_created',\n",
              "       'knowledge_domain', 'job_description', 'has_formatting', 'featured_job',\n",
              "       'cover_letter_preference_id', 'has_screening_questions', 'external_url',\n",
              "       'postal_code', 'has_salary', 'has_skills', 'easy_apply', 'cover_letter',\n",
              "       'job_type', 'salary_type', 'salary_from_per_annum',\n",
              "       'salary_to_per_annum', 'eligible_uk_only', 'display_style',\n",
              "       'show_sponsored_links_ads', 'is_public', 'is_graduate',\n",
              "       'is_multilingual', 'is_exec_role', 'is_fulltime', 'is_parttime',\n",
              "       'is_branded', 'is_nationwide', 'company_type', 'townname', 'countyname',\n",
              "       'regionname', 'latitude', 'longitude'],\n",
              "      dtype='object')"
            ]
          },
          "metadata": {
            "tags": []
          },
          "execution_count": 62
        }
      ]
    },
    {
      "cell_type": "code",
      "metadata": {
        "id": "p2GnWzK-5Kcd",
        "colab_type": "code",
        "colab": {
          "base_uri": "https://localhost:8080/",
          "height": 52
        },
        "outputId": "93916ad7-1505-4e53-806a-9976a8674beb"
      },
      "source": [
        "# unique values in salary\n",
        "print(df['salary_from_per_annum'].unique())\n",
        "print(df['salary_to_per_annum'].unique())"
      ],
      "execution_count": null,
      "outputs": [
        {
          "output_type": "stream",
          "text": [
            "[22000 18000 19000 ... 38097 18406 52260]\n",
            "[25000 20000 19000 ... 28772 18406 97065]\n"
          ],
          "name": "stdout"
        }
      ]
    },
    {
      "cell_type": "code",
      "metadata": {
        "id": "EYvhuHDO5dUi",
        "colab_type": "code",
        "colab": {
          "base_uri": "https://localhost:8080/",
          "height": 304
        },
        "outputId": "cffb3586-b31f-4bf0-90b8-b25937567127"
      },
      "source": [
        "# salary column distribution\n",
        "df_columns = ['salary_to_per_annum','salary_from_per_annum']\n",
        "\n",
        "print(df.shape[0])\n",
        "df.dropna(subset=df_columns,inplace=True)\n",
        "print(df.shape[0])\n",
        "\n",
        "df[df_columns].plot.hist(alpha=0.5,bins=40);"
      ],
      "execution_count": null,
      "outputs": [
        {
          "output_type": "stream",
          "text": [
            "90351\n",
            "90351\n"
          ],
          "name": "stdout"
        },
        {
          "output_type": "display_data",
          "data": {
            "image/png": "[encoded data removed]",
            "text/plain": [
              "<Figure size 432x288 with 1 Axes>"
            ]
          },
          "metadata": {
            "tags": []
          }
        }
      ]
    },
    {
      "cell_type": "code",
      "metadata": {
        "id": "IBml944k6Q9v",
        "colab_type": "code",
        "colab": {}
      },
      "source": [
        "df['salary_average'] = (df['salary_to_per_annum'] + df['salary_from_per_annum']) / 2"
      ],
      "execution_count": null,
      "outputs": []
    },
    {
      "cell_type": "code",
      "metadata": {
        "id": "ju3ccF1M6g8O",
        "colab_type": "code",
        "colab": {
          "base_uri": "https://localhost:8080/",
          "height": 197
        },
        "outputId": "44e68abb-66e6-4d37-ec7c-91b693e36fec"
      },
      "source": [
        "cols = ['salary_average','salary_to_per_annum','salary_from_per_annum']\n",
        "\n",
        "df[cols].head()"
      ],
      "execution_count": null,
      "outputs": [
        {
          "output_type": "execute_result",
          "data": {
            "text/html": [
              "<div>\n",
              "<style scoped>\n",
              "    .dataframe tbody tr th:only-of-type {\n",
              "        vertical-align: middle;\n",
              "    }\n",
              "\n",
              "    .dataframe tbody tr th {\n",
              "        vertical-align: top;\n",
              "    }\n",
              "\n",
              "    .dataframe thead th {\n",
              "        text-align: right;\n",
              "    }\n",
              "</style>\n",
              "<table border=\"1\" class=\"dataframe\">\n",
              "  <thead>\n",
              "    <tr style=\"text-align: right;\">\n",
              "      <th></th>\n",
              "      <th>salary_average</th>\n",
              "      <th>salary_to_per_annum</th>\n",
              "      <th>salary_from_per_annum</th>\n",
              "    </tr>\n",
              "  </thead>\n",
              "  <tbody>\n",
              "    <tr>\n",
              "      <th>0</th>\n",
              "      <td>23500.0</td>\n",
              "      <td>25000</td>\n",
              "      <td>22000</td>\n",
              "    </tr>\n",
              "    <tr>\n",
              "      <th>1</th>\n",
              "      <td>19000.0</td>\n",
              "      <td>20000</td>\n",
              "      <td>18000</td>\n",
              "    </tr>\n",
              "    <tr>\n",
              "      <th>2</th>\n",
              "      <td>19000.0</td>\n",
              "      <td>19000</td>\n",
              "      <td>19000</td>\n",
              "    </tr>\n",
              "    <tr>\n",
              "      <th>3</th>\n",
              "      <td>27500.0</td>\n",
              "      <td>27500</td>\n",
              "      <td>27500</td>\n",
              "    </tr>\n",
              "    <tr>\n",
              "      <th>4</th>\n",
              "      <td>37500.0</td>\n",
              "      <td>40000</td>\n",
              "      <td>35000</td>\n",
              "    </tr>\n",
              "  </tbody>\n",
              "</table>\n",
              "</div>"
            ],
            "text/plain": [
              "   salary_average  salary_to_per_annum  salary_from_per_annum\n",
              "0         23500.0                25000                  22000\n",
              "1         19000.0                20000                  18000\n",
              "2         19000.0                19000                  19000\n",
              "3         27500.0                27500                  27500\n",
              "4         37500.0                40000                  35000"
            ]
          },
          "metadata": {
            "tags": []
          },
          "execution_count": 66
        }
      ]
    },
    {
      "cell_type": "code",
      "metadata": {
        "id": "bs-P5IOF69BW",
        "colab_type": "code",
        "colab": {
          "base_uri": "https://localhost:8080/",
          "height": 34
        },
        "outputId": "176f5f27-c507-4602-9ff8-59b5aae5e31f"
      },
      "source": [
        "# dropping column\n",
        "drop_cols = ['salary_to_per_annum','salary_from_per_annum']\n",
        "df = df.drop(drop_cols, axis=1)\n",
        "\n",
        "df.shape"
      ],
      "execution_count": null,
      "outputs": [
        {
          "output_type": "execute_result",
          "data": {
            "text/plain": [
              "(90351, 36)"
            ]
          },
          "metadata": {
            "tags": []
          },
          "execution_count": 67
        }
      ]
    },
    {
      "cell_type": "code",
      "metadata": {
        "id": "Hm9X_Ly0N2l1",
        "colab_type": "code",
        "colab": {
          "base_uri": "https://localhost:8080/",
          "height": 367
        },
        "outputId": "30e97e8c-45a3-468e-9632-23012a27defa"
      },
      "source": [
        "# dropping columns\n",
        "df.drop(['job_id', 'job_description', 'latitude', 'longitude'], axis=1, inplace=True)\n",
        "\n",
        "df.head(5)"
      ],
      "execution_count": null,
      "outputs": [
        {
          "output_type": "execute_result",
          "data": {
            "text/html": [
              "<div>\n",
              "<style scoped>\n",
              "    .dataframe tbody tr th:only-of-type {\n",
              "        vertical-align: middle;\n",
              "    }\n",
              "\n",
              "    .dataframe tbody tr th {\n",
              "        vertical-align: top;\n",
              "    }\n",
              "\n",
              "    .dataframe thead th {\n",
              "        text-align: right;\n",
              "    }\n",
              "</style>\n",
              "<table border=\"1\" class=\"dataframe\">\n",
              "  <thead>\n",
              "    <tr style=\"text-align: right;\">\n",
              "      <th></th>\n",
              "      <th>job_title</th>\n",
              "      <th>no_applicants</th>\n",
              "      <th>date_created</th>\n",
              "      <th>knowledge_domain</th>\n",
              "      <th>has_formatting</th>\n",
              "      <th>featured_job</th>\n",
              "      <th>cover_letter_preference_id</th>\n",
              "      <th>has_screening_questions</th>\n",
              "      <th>external_url</th>\n",
              "      <th>postal_code</th>\n",
              "      <th>has_salary</th>\n",
              "      <th>has_skills</th>\n",
              "      <th>easy_apply</th>\n",
              "      <th>cover_letter</th>\n",
              "      <th>job_type</th>\n",
              "      <th>salary_type</th>\n",
              "      <th>eligible_uk_only</th>\n",
              "      <th>display_style</th>\n",
              "      <th>show_sponsored_links_ads</th>\n",
              "      <th>is_public</th>\n",
              "      <th>is_graduate</th>\n",
              "      <th>is_multilingual</th>\n",
              "      <th>is_exec_role</th>\n",
              "      <th>is_fulltime</th>\n",
              "      <th>is_parttime</th>\n",
              "      <th>is_branded</th>\n",
              "      <th>is_nationwide</th>\n",
              "      <th>company_type</th>\n",
              "      <th>townname</th>\n",
              "      <th>countyname</th>\n",
              "      <th>regionname</th>\n",
              "      <th>salary_average</th>\n",
              "    </tr>\n",
              "  </thead>\n",
              "  <tbody>\n",
              "    <tr>\n",
              "      <th>0</th>\n",
              "      <td>Assistant Accountant - PLUS FULL STUDY SUPPORT</td>\n",
              "      <td>21</td>\n",
              "      <td>2017-07-14</td>\n",
              "      <td>Financial Services</td>\n",
              "      <td>1</td>\n",
              "      <td>0</td>\n",
              "      <td>1</td>\n",
              "      <td>0</td>\n",
              "      <td>1</td>\n",
              "      <td>BD</td>\n",
              "      <td>1</td>\n",
              "      <td>0</td>\n",
              "      <td>0</td>\n",
              "      <td>1</td>\n",
              "      <td>1</td>\n",
              "      <td>5</td>\n",
              "      <td>f</td>\n",
              "      <td>1</td>\n",
              "      <td>f</td>\n",
              "      <td>f</td>\n",
              "      <td>f</td>\n",
              "      <td>f</td>\n",
              "      <td>f</td>\n",
              "      <td>t</td>\n",
              "      <td>f</td>\n",
              "      <td>f</td>\n",
              "      <td>f</td>\n",
              "      <td>1</td>\n",
              "      <td>Chichester</td>\n",
              "      <td>West Sussex</td>\n",
              "      <td>South East England</td>\n",
              "      <td>23500.0</td>\n",
              "    </tr>\n",
              "    <tr>\n",
              "      <th>1</th>\n",
              "      <td>Credit Controller</td>\n",
              "      <td>6</td>\n",
              "      <td>2017-04-27</td>\n",
              "      <td>Financial Services</td>\n",
              "      <td>1</td>\n",
              "      <td>0</td>\n",
              "      <td>1</td>\n",
              "      <td>0</td>\n",
              "      <td>1</td>\n",
              "      <td>M</td>\n",
              "      <td>1</td>\n",
              "      <td>0</td>\n",
              "      <td>0</td>\n",
              "      <td>1</td>\n",
              "      <td>1</td>\n",
              "      <td>5</td>\n",
              "      <td>f</td>\n",
              "      <td>1</td>\n",
              "      <td>f</td>\n",
              "      <td>f</td>\n",
              "      <td>f</td>\n",
              "      <td>f</td>\n",
              "      <td>f</td>\n",
              "      <td>t</td>\n",
              "      <td>f</td>\n",
              "      <td>f</td>\n",
              "      <td>f</td>\n",
              "      <td>1</td>\n",
              "      <td>Mold</td>\n",
              "      <td>Clwyd</td>\n",
              "      <td>e</td>\n",
              "      <td>19000.0</td>\n",
              "    </tr>\n",
              "    <tr>\n",
              "      <th>2</th>\n",
              "      <td>Credit Controller</td>\n",
              "      <td>8</td>\n",
              "      <td>2017-03-07</td>\n",
              "      <td>Financial Services</td>\n",
              "      <td>0</td>\n",
              "      <td>0</td>\n",
              "      <td>1</td>\n",
              "      <td>0</td>\n",
              "      <td>1</td>\n",
              "      <td>S</td>\n",
              "      <td>1</td>\n",
              "      <td>0</td>\n",
              "      <td>0</td>\n",
              "      <td>1</td>\n",
              "      <td>1</td>\n",
              "      <td>5</td>\n",
              "      <td>t</td>\n",
              "      <td>1</td>\n",
              "      <td>f</td>\n",
              "      <td>f</td>\n",
              "      <td>f</td>\n",
              "      <td>f</td>\n",
              "      <td>f</td>\n",
              "      <td>t</td>\n",
              "      <td>f</td>\n",
              "      <td>f</td>\n",
              "      <td>f</td>\n",
              "      <td>1</td>\n",
              "      <td>Ashton-Under-Lyne</td>\n",
              "      <td>Lancashire</td>\n",
              "      <td>North West England</td>\n",
              "      <td>19000.0</td>\n",
              "    </tr>\n",
              "    <tr>\n",
              "      <th>3</th>\n",
              "      <td>Senior Credit Controller</td>\n",
              "      <td>38</td>\n",
              "      <td>2017-07-04</td>\n",
              "      <td>Financial Services</td>\n",
              "      <td>1</td>\n",
              "      <td>0</td>\n",
              "      <td>1</td>\n",
              "      <td>0</td>\n",
              "      <td>1</td>\n",
              "      <td>SL</td>\n",
              "      <td>1</td>\n",
              "      <td>0</td>\n",
              "      <td>0</td>\n",
              "      <td>1</td>\n",
              "      <td>1</td>\n",
              "      <td>5</td>\n",
              "      <td>f</td>\n",
              "      <td>1</td>\n",
              "      <td>f</td>\n",
              "      <td>f</td>\n",
              "      <td>f</td>\n",
              "      <td>f</td>\n",
              "      <td>f</td>\n",
              "      <td>t</td>\n",
              "      <td>f</td>\n",
              "      <td>f</td>\n",
              "      <td>f</td>\n",
              "      <td>1</td>\n",
              "      <td>Hayle</td>\n",
              "      <td>Cornwall</td>\n",
              "      <td>South West England</td>\n",
              "      <td>27500.0</td>\n",
              "    </tr>\n",
              "    <tr>\n",
              "      <th>4</th>\n",
              "      <td>Management Accountant</td>\n",
              "      <td>10</td>\n",
              "      <td>2017-04-06</td>\n",
              "      <td>Financial Services</td>\n",
              "      <td>1</td>\n",
              "      <td>0</td>\n",
              "      <td>1</td>\n",
              "      <td>0</td>\n",
              "      <td>1</td>\n",
              "      <td>M</td>\n",
              "      <td>1</td>\n",
              "      <td>0</td>\n",
              "      <td>0</td>\n",
              "      <td>1</td>\n",
              "      <td>1</td>\n",
              "      <td>5</td>\n",
              "      <td>t</td>\n",
              "      <td>1</td>\n",
              "      <td>f</td>\n",
              "      <td>f</td>\n",
              "      <td>f</td>\n",
              "      <td>f</td>\n",
              "      <td>f</td>\n",
              "      <td>t</td>\n",
              "      <td>f</td>\n",
              "      <td>f</td>\n",
              "      <td>f</td>\n",
              "      <td>1</td>\n",
              "      <td>Treorchy</td>\n",
              "      <td>Mid Glamorgan</td>\n",
              "      <td>e</td>\n",
              "      <td>37500.0</td>\n",
              "    </tr>\n",
              "  </tbody>\n",
              "</table>\n",
              "</div>"
            ],
            "text/plain": [
              "                                        job_title  no_applicants date_created  \\\n",
              "0  Assistant Accountant - PLUS FULL STUDY SUPPORT             21   2017-07-14   \n",
              "1                               Credit Controller              6   2017-04-27   \n",
              "2                               Credit Controller              8   2017-03-07   \n",
              "3                        Senior Credit Controller             38   2017-07-04   \n",
              "4                           Management Accountant             10   2017-04-06   \n",
              "\n",
              "     knowledge_domain  has_formatting  featured_job  \\\n",
              "0  Financial Services               1             0   \n",
              "1  Financial Services               1             0   \n",
              "2  Financial Services               0             0   \n",
              "3  Financial Services               1             0   \n",
              "4  Financial Services               1             0   \n",
              "\n",
              "   cover_letter_preference_id  has_screening_questions  external_url  \\\n",
              "0                           1                        0             1   \n",
              "1                           1                        0             1   \n",
              "2                           1                        0             1   \n",
              "3                           1                        0             1   \n",
              "4                           1                        0             1   \n",
              "\n",
              "  postal_code  has_salary  has_skills  easy_apply  cover_letter  job_type  \\\n",
              "0          BD           1           0           0             1         1   \n",
              "1           M           1           0           0             1         1   \n",
              "2           S           1           0           0             1         1   \n",
              "3          SL           1           0           0             1         1   \n",
              "4           M           1           0           0             1         1   \n",
              "\n",
              "   salary_type eligible_uk_only  display_style show_sponsored_links_ads  \\\n",
              "0            5                f              1                        f   \n",
              "1            5                f              1                        f   \n",
              "2            5                t              1                        f   \n",
              "3            5                f              1                        f   \n",
              "4            5                t              1                        f   \n",
              "\n",
              "  is_public is_graduate is_multilingual is_exec_role is_fulltime is_parttime  \\\n",
              "0         f           f               f            f           t           f   \n",
              "1         f           f               f            f           t           f   \n",
              "2         f           f               f            f           t           f   \n",
              "3         f           f               f            f           t           f   \n",
              "4         f           f               f            f           t           f   \n",
              "\n",
              "  is_branded is_nationwide  company_type           townname     countyname  \\\n",
              "0          f             f             1         Chichester    West Sussex   \n",
              "1          f             f             1               Mold          Clwyd   \n",
              "2          f             f             1  Ashton-Under-Lyne     Lancashire   \n",
              "3          f             f             1              Hayle       Cornwall   \n",
              "4          f             f             1           Treorchy  Mid Glamorgan   \n",
              "\n",
              "           regionname  salary_average  \n",
              "0  South East England         23500.0  \n",
              "1                   e         19000.0  \n",
              "2  North West England         19000.0  \n",
              "3  South West England         27500.0  \n",
              "4                   e         37500.0  "
            ]
          },
          "metadata": {
            "tags": []
          },
          "execution_count": 68
        }
      ]
    },
    {
      "cell_type": "code",
      "metadata": {
        "id": "OFXpUFuv7r9W",
        "colab_type": "code",
        "colab": {
          "base_uri": "https://localhost:8080/",
          "height": 123
        },
        "outputId": "257f7680-e2de-41ab-8f57-325e30634e0a"
      },
      "source": [
        "# data type and their frequency\n",
        "print(\"Data types and their frequency\\n{}\".format(df.dtypes.value_counts()))"
      ],
      "execution_count": null,
      "outputs": [
        {
          "output_type": "stream",
          "text": [
            "Data types and their frequency\n",
            "object            16\n",
            "int64             14\n",
            "datetime64[ns]     1\n",
            "float64            1\n",
            "dtype: int64\n"
          ],
          "name": "stdout"
        }
      ]
    },
    {
      "cell_type": "code",
      "metadata": {
        "id": "hcuduUmQ74Gu",
        "colab_type": "code",
        "colab": {
          "base_uri": "https://localhost:8080/",
          "height": 318
        },
        "outputId": "2e7f34bb-de07-4a9a-8e57-e660d52e2f81"
      },
      "source": [
        "# object columns that contain text which need to be converted into numeric features\n",
        "object_columns_df = df.select_dtypes(include=['object'])\n",
        "\n",
        "print(object_columns_df.iloc[0])"
      ],
      "execution_count": null,
      "outputs": [
        {
          "output_type": "stream",
          "text": [
            "job_title                   Assistant Accountant - PLUS FULL STUDY SUPPORT\n",
            "knowledge_domain                                        Financial Services\n",
            "postal_code                                                             BD\n",
            "eligible_uk_only                                                         f\n",
            "show_sponsored_links_ads                                                 f\n",
            "is_public                                                                f\n",
            "is_graduate                                                              f\n",
            "is_multilingual                                                          f\n",
            "is_exec_role                                                             f\n",
            "is_fulltime                                                              t\n",
            "is_parttime                                                              f\n",
            "is_branded                                                               f\n",
            "is_nationwide                                                            f\n",
            "townname                                                        Chichester\n",
            "countyname                                                     West Sussex\n",
            "regionname                                              South East England\n",
            "Name: 0, dtype: object\n"
          ],
          "name": "stdout"
        }
      ]
    },
    {
      "cell_type": "code",
      "metadata": {
        "id": "_ypv_cVJeGtE",
        "colab_type": "code",
        "colab": {
          "base_uri": "https://localhost:8080/",
          "height": 287
        },
        "outputId": "3666cbaf-7cb4-413d-fb3d-76c0e94d7212"
      },
      "source": [
        "# descriptive statistics that summarize the central tendency, dispersion and shape of a dataset’s distribution\n",
        "df[['no_applicants', 'salary_average']].describe()"
      ],
      "execution_count": null,
      "outputs": [
        {
          "output_type": "execute_result",
          "data": {
            "text/html": [
              "<div>\n",
              "<style scoped>\n",
              "    .dataframe tbody tr th:only-of-type {\n",
              "        vertical-align: middle;\n",
              "    }\n",
              "\n",
              "    .dataframe tbody tr th {\n",
              "        vertical-align: top;\n",
              "    }\n",
              "\n",
              "    .dataframe thead th {\n",
              "        text-align: right;\n",
              "    }\n",
              "</style>\n",
              "<table border=\"1\" class=\"dataframe\">\n",
              "  <thead>\n",
              "    <tr style=\"text-align: right;\">\n",
              "      <th></th>\n",
              "      <th>no_applicants</th>\n",
              "      <th>salary_average</th>\n",
              "    </tr>\n",
              "  </thead>\n",
              "  <tbody>\n",
              "    <tr>\n",
              "      <th>count</th>\n",
              "      <td>90351.000000</td>\n",
              "      <td>90351.000000</td>\n",
              "    </tr>\n",
              "    <tr>\n",
              "      <th>mean</th>\n",
              "      <td>20.241469</td>\n",
              "      <td>31811.841806</td>\n",
              "    </tr>\n",
              "    <tr>\n",
              "      <th>std</th>\n",
              "      <td>40.947716</td>\n",
              "      <td>21014.532952</td>\n",
              "    </tr>\n",
              "    <tr>\n",
              "      <th>min</th>\n",
              "      <td>0.000000</td>\n",
              "      <td>0.000000</td>\n",
              "    </tr>\n",
              "    <tr>\n",
              "      <th>25%</th>\n",
              "      <td>2.000000</td>\n",
              "      <td>20000.000000</td>\n",
              "    </tr>\n",
              "    <tr>\n",
              "      <th>50%</th>\n",
              "      <td>7.000000</td>\n",
              "      <td>29500.000000</td>\n",
              "    </tr>\n",
              "    <tr>\n",
              "      <th>75%</th>\n",
              "      <td>21.000000</td>\n",
              "      <td>37500.000000</td>\n",
              "    </tr>\n",
              "    <tr>\n",
              "      <th>max</th>\n",
              "      <td>1302.000000</td>\n",
              "      <td>999999.000000</td>\n",
              "    </tr>\n",
              "  </tbody>\n",
              "</table>\n",
              "</div>"
            ],
            "text/plain": [
              "       no_applicants  salary_average\n",
              "count   90351.000000    90351.000000\n",
              "mean       20.241469    31811.841806\n",
              "std        40.947716    21014.532952\n",
              "min         0.000000        0.000000\n",
              "25%         2.000000    20000.000000\n",
              "50%         7.000000    29500.000000\n",
              "75%        21.000000    37500.000000\n",
              "max      1302.000000   999999.000000"
            ]
          },
          "metadata": {
            "tags": []
          },
          "execution_count": 71
        }
      ]
    },
    {
      "cell_type": "code",
      "metadata": {
        "id": "USb0qaOYDa-Y",
        "colab_type": "code",
        "colab": {
          "base_uri": "https://localhost:8080/",
          "height": 315
        },
        "outputId": "c2878688-b15c-42bf-a869-8017199a4258"
      },
      "source": [
        "# no of applicants distribution\n",
        "fig, ax = plt.subplots()\n",
        "\n",
        "df['no_applicants'].hist(color='#A9C5D3', edgecolor='black', grid=False)\n",
        "\n",
        "ax.set_title('No of Applicants Histogram', fontsize=12)\n",
        "ax.set_xlabel('no_applicants', fontsize=12)\n",
        "ax.set_ylabel('Frequency', fontsize=12)"
      ],
      "execution_count": null,
      "outputs": [
        {
          "output_type": "execute_result",
          "data": {
            "text/plain": [
              "Text(0, 0.5, 'Frequency')"
            ]
          },
          "metadata": {
            "tags": []
          },
          "execution_count": 72
        },
        {
          "output_type": "display_data",
          "data": {
            "image/png": "[encoded data removed]",
            "text/plain": [
              "<Figure size 432x288 with 1 Axes>"
            ]
          },
          "metadata": {
            "tags": []
          }
        }
      ]
    },
    {
      "cell_type": "code",
      "metadata": {
        "id": "KPrP4CDv83FX",
        "colab_type": "code",
        "colab": {
          "base_uri": "https://localhost:8080/",
          "height": 123
        },
        "outputId": "0578cd6f-846a-4687-867a-b2fdc49dc03e"
      },
      "source": [
        "#  take a 4-Quantile or a quartile based adaptive binning scheme\n",
        "quantile_list = [0, .25, .5, .75, 1.]\n",
        "quantiles = df['salary_average'].quantile(quantile_list)\n",
        "\n",
        "quantiles"
      ],
      "execution_count": null,
      "outputs": [
        {
          "output_type": "execute_result",
          "data": {
            "text/plain": [
              "0.00         0.0\n",
              "0.25     20000.0\n",
              "0.50     29500.0\n",
              "0.75     37500.0\n",
              "1.00    999999.0\n",
              "Name: salary_average, dtype: float64"
            ]
          },
          "metadata": {
            "tags": []
          },
          "execution_count": 73
        }
      ]
    },
    {
      "cell_type": "code",
      "metadata": {
        "id": "RSK1_iWkE8d_",
        "colab_type": "code",
        "colab": {
          "base_uri": "https://localhost:8080/",
          "height": 315
        },
        "outputId": "d0c6415b-4bb4-42fb-bb8a-f13896aefb11"
      },
      "source": [
        "#  visualize these quantiles in the original distribution histogram\n",
        "fig, ax = plt.subplots()\n",
        "\n",
        "df['salary_average'].hist(bins=30, color='#A9C5D3', edgecolor='black', grid=False)\n",
        "for quantile in quantiles:\n",
        "    qvl = plt.axvline(quantile, color='r')\n",
        "    \n",
        "ax.legend([qvl], ['Quantiles'], fontsize=10)\n",
        "ax.set_title('Salary Average', fontsize=12)\n",
        "ax.set_xlabel('Salary Average', fontsize=12)\n",
        "ax.set_ylabel('Frequency', fontsize=12)"
      ],
      "execution_count": null,
      "outputs": [
        {
          "output_type": "execute_result",
          "data": {
            "text/plain": [
              "Text(0, 0.5, 'Frequency')"
            ]
          },
          "metadata": {
            "tags": []
          },
          "execution_count": 74
        },
        {
          "output_type": "display_data",
          "data": {
            "image/png": "[encoded data removed]",
            "text/plain": [
              "<Figure size 432x288 with 1 Axes>"
            ]
          },
          "metadata": {
            "tags": []
          }
        }
      ]
    },
    {
      "cell_type": "code",
      "metadata": {
        "id": "ldESrlaCF7XR",
        "colab_type": "code",
        "colab": {
          "base_uri": "https://localhost:8080/",
          "height": 367
        },
        "outputId": "c7661e9f-fabd-4df2-a4a4-cb71f7360f43"
      },
      "source": [
        "# Binning numerical columns\n",
        "df['CatSalary_average'] = pd.qcut(df.salary_average, q=4, labels=False )\n",
        "\n",
        "df.head()"
      ],
      "execution_count": null,
      "outputs": [
        {
          "output_type": "execute_result",
          "data": {
            "text/html": [
              "<div>\n",
              "<style scoped>\n",
              "    .dataframe tbody tr th:only-of-type {\n",
              "        vertical-align: middle;\n",
              "    }\n",
              "\n",
              "    .dataframe tbody tr th {\n",
              "        vertical-align: top;\n",
              "    }\n",
              "\n",
              "    .dataframe thead th {\n",
              "        text-align: right;\n",
              "    }\n",
              "</style>\n",
              "<table border=\"1\" class=\"dataframe\">\n",
              "  <thead>\n",
              "    <tr style=\"text-align: right;\">\n",
              "      <th></th>\n",
              "      <th>job_title</th>\n",
              "      <th>no_applicants</th>\n",
              "      <th>date_created</th>\n",
              "      <th>knowledge_domain</th>\n",
              "      <th>has_formatting</th>\n",
              "      <th>featured_job</th>\n",
              "      <th>cover_letter_preference_id</th>\n",
              "      <th>has_screening_questions</th>\n",
              "      <th>external_url</th>\n",
              "      <th>postal_code</th>\n",
              "      <th>has_salary</th>\n",
              "      <th>has_skills</th>\n",
              "      <th>easy_apply</th>\n",
              "      <th>cover_letter</th>\n",
              "      <th>job_type</th>\n",
              "      <th>salary_type</th>\n",
              "      <th>eligible_uk_only</th>\n",
              "      <th>display_style</th>\n",
              "      <th>show_sponsored_links_ads</th>\n",
              "      <th>is_public</th>\n",
              "      <th>is_graduate</th>\n",
              "      <th>is_multilingual</th>\n",
              "      <th>is_exec_role</th>\n",
              "      <th>is_fulltime</th>\n",
              "      <th>is_parttime</th>\n",
              "      <th>is_branded</th>\n",
              "      <th>is_nationwide</th>\n",
              "      <th>company_type</th>\n",
              "      <th>townname</th>\n",
              "      <th>countyname</th>\n",
              "      <th>regionname</th>\n",
              "      <th>salary_average</th>\n",
              "      <th>CatSalary_average</th>\n",
              "    </tr>\n",
              "  </thead>\n",
              "  <tbody>\n",
              "    <tr>\n",
              "      <th>0</th>\n",
              "      <td>Assistant Accountant - PLUS FULL STUDY SUPPORT</td>\n",
              "      <td>21</td>\n",
              "      <td>2017-07-14</td>\n",
              "      <td>Financial Services</td>\n",
              "      <td>1</td>\n",
              "      <td>0</td>\n",
              "      <td>1</td>\n",
              "      <td>0</td>\n",
              "      <td>1</td>\n",
              "      <td>BD</td>\n",
              "      <td>1</td>\n",
              "      <td>0</td>\n",
              "      <td>0</td>\n",
              "      <td>1</td>\n",
              "      <td>1</td>\n",
              "      <td>5</td>\n",
              "      <td>f</td>\n",
              "      <td>1</td>\n",
              "      <td>f</td>\n",
              "      <td>f</td>\n",
              "      <td>f</td>\n",
              "      <td>f</td>\n",
              "      <td>f</td>\n",
              "      <td>t</td>\n",
              "      <td>f</td>\n",
              "      <td>f</td>\n",
              "      <td>f</td>\n",
              "      <td>1</td>\n",
              "      <td>Chichester</td>\n",
              "      <td>West Sussex</td>\n",
              "      <td>South East England</td>\n",
              "      <td>23500.0</td>\n",
              "      <td>1</td>\n",
              "    </tr>\n",
              "    <tr>\n",
              "      <th>1</th>\n",
              "      <td>Credit Controller</td>\n",
              "      <td>6</td>\n",
              "      <td>2017-04-27</td>\n",
              "      <td>Financial Services</td>\n",
              "      <td>1</td>\n",
              "      <td>0</td>\n",
              "      <td>1</td>\n",
              "      <td>0</td>\n",
              "      <td>1</td>\n",
              "      <td>M</td>\n",
              "      <td>1</td>\n",
              "      <td>0</td>\n",
              "      <td>0</td>\n",
              "      <td>1</td>\n",
              "      <td>1</td>\n",
              "      <td>5</td>\n",
              "      <td>f</td>\n",
              "      <td>1</td>\n",
              "      <td>f</td>\n",
              "      <td>f</td>\n",
              "      <td>f</td>\n",
              "      <td>f</td>\n",
              "      <td>f</td>\n",
              "      <td>t</td>\n",
              "      <td>f</td>\n",
              "      <td>f</td>\n",
              "      <td>f</td>\n",
              "      <td>1</td>\n",
              "      <td>Mold</td>\n",
              "      <td>Clwyd</td>\n",
              "      <td>e</td>\n",
              "      <td>19000.0</td>\n",
              "      <td>0</td>\n",
              "    </tr>\n",
              "    <tr>\n",
              "      <th>2</th>\n",
              "      <td>Credit Controller</td>\n",
              "      <td>8</td>\n",
              "      <td>2017-03-07</td>\n",
              "      <td>Financial Services</td>\n",
              "      <td>0</td>\n",
              "      <td>0</td>\n",
              "      <td>1</td>\n",
              "      <td>0</td>\n",
              "      <td>1</td>\n",
              "      <td>S</td>\n",
              "      <td>1</td>\n",
              "      <td>0</td>\n",
              "      <td>0</td>\n",
              "      <td>1</td>\n",
              "      <td>1</td>\n",
              "      <td>5</td>\n",
              "      <td>t</td>\n",
              "      <td>1</td>\n",
              "      <td>f</td>\n",
              "      <td>f</td>\n",
              "      <td>f</td>\n",
              "      <td>f</td>\n",
              "      <td>f</td>\n",
              "      <td>t</td>\n",
              "      <td>f</td>\n",
              "      <td>f</td>\n",
              "      <td>f</td>\n",
              "      <td>1</td>\n",
              "      <td>Ashton-Under-Lyne</td>\n",
              "      <td>Lancashire</td>\n",
              "      <td>North West England</td>\n",
              "      <td>19000.0</td>\n",
              "      <td>0</td>\n",
              "    </tr>\n",
              "    <tr>\n",
              "      <th>3</th>\n",
              "      <td>Senior Credit Controller</td>\n",
              "      <td>38</td>\n",
              "      <td>2017-07-04</td>\n",
              "      <td>Financial Services</td>\n",
              "      <td>1</td>\n",
              "      <td>0</td>\n",
              "      <td>1</td>\n",
              "      <td>0</td>\n",
              "      <td>1</td>\n",
              "      <td>SL</td>\n",
              "      <td>1</td>\n",
              "      <td>0</td>\n",
              "      <td>0</td>\n",
              "      <td>1</td>\n",
              "      <td>1</td>\n",
              "      <td>5</td>\n",
              "      <td>f</td>\n",
              "      <td>1</td>\n",
              "      <td>f</td>\n",
              "      <td>f</td>\n",
              "      <td>f</td>\n",
              "      <td>f</td>\n",
              "      <td>f</td>\n",
              "      <td>t</td>\n",
              "      <td>f</td>\n",
              "      <td>f</td>\n",
              "      <td>f</td>\n",
              "      <td>1</td>\n",
              "      <td>Hayle</td>\n",
              "      <td>Cornwall</td>\n",
              "      <td>South West England</td>\n",
              "      <td>27500.0</td>\n",
              "      <td>1</td>\n",
              "    </tr>\n",
              "    <tr>\n",
              "      <th>4</th>\n",
              "      <td>Management Accountant</td>\n",
              "      <td>10</td>\n",
              "      <td>2017-04-06</td>\n",
              "      <td>Financial Services</td>\n",
              "      <td>1</td>\n",
              "      <td>0</td>\n",
              "      <td>1</td>\n",
              "      <td>0</td>\n",
              "      <td>1</td>\n",
              "      <td>M</td>\n",
              "      <td>1</td>\n",
              "      <td>0</td>\n",
              "      <td>0</td>\n",
              "      <td>1</td>\n",
              "      <td>1</td>\n",
              "      <td>5</td>\n",
              "      <td>t</td>\n",
              "      <td>1</td>\n",
              "      <td>f</td>\n",
              "      <td>f</td>\n",
              "      <td>f</td>\n",
              "      <td>f</td>\n",
              "      <td>f</td>\n",
              "      <td>t</td>\n",
              "      <td>f</td>\n",
              "      <td>f</td>\n",
              "      <td>f</td>\n",
              "      <td>1</td>\n",
              "      <td>Treorchy</td>\n",
              "      <td>Mid Glamorgan</td>\n",
              "      <td>e</td>\n",
              "      <td>37500.0</td>\n",
              "      <td>2</td>\n",
              "    </tr>\n",
              "  </tbody>\n",
              "</table>\n",
              "</div>"
            ],
            "text/plain": [
              "                                        job_title  no_applicants date_created  \\\n",
              "0  Assistant Accountant - PLUS FULL STUDY SUPPORT             21   2017-07-14   \n",
              "1                               Credit Controller              6   2017-04-27   \n",
              "2                               Credit Controller              8   2017-03-07   \n",
              "3                        Senior Credit Controller             38   2017-07-04   \n",
              "4                           Management Accountant             10   2017-04-06   \n",
              "\n",
              "     knowledge_domain  has_formatting  featured_job  \\\n",
              "0  Financial Services               1             0   \n",
              "1  Financial Services               1             0   \n",
              "2  Financial Services               0             0   \n",
              "3  Financial Services               1             0   \n",
              "4  Financial Services               1             0   \n",
              "\n",
              "   cover_letter_preference_id  has_screening_questions  external_url  \\\n",
              "0                           1                        0             1   \n",
              "1                           1                        0             1   \n",
              "2                           1                        0             1   \n",
              "3                           1                        0             1   \n",
              "4                           1                        0             1   \n",
              "\n",
              "  postal_code  has_salary  has_skills  easy_apply  cover_letter  job_type  \\\n",
              "0          BD           1           0           0             1         1   \n",
              "1           M           1           0           0             1         1   \n",
              "2           S           1           0           0             1         1   \n",
              "3          SL           1           0           0             1         1   \n",
              "4           M           1           0           0             1         1   \n",
              "\n",
              "   salary_type eligible_uk_only  display_style show_sponsored_links_ads  \\\n",
              "0            5                f              1                        f   \n",
              "1            5                f              1                        f   \n",
              "2            5                t              1                        f   \n",
              "3            5                f              1                        f   \n",
              "4            5                t              1                        f   \n",
              "\n",
              "  is_public is_graduate is_multilingual is_exec_role is_fulltime is_parttime  \\\n",
              "0         f           f               f            f           t           f   \n",
              "1         f           f               f            f           t           f   \n",
              "2         f           f               f            f           t           f   \n",
              "3         f           f               f            f           t           f   \n",
              "4         f           f               f            f           t           f   \n",
              "\n",
              "  is_branded is_nationwide  company_type           townname     countyname  \\\n",
              "0          f             f             1         Chichester    West Sussex   \n",
              "1          f             f             1               Mold          Clwyd   \n",
              "2          f             f             1  Ashton-Under-Lyne     Lancashire   \n",
              "3          f             f             1              Hayle       Cornwall   \n",
              "4          f             f             1           Treorchy  Mid Glamorgan   \n",
              "\n",
              "           regionname  salary_average  CatSalary_average  \n",
              "0  South East England         23500.0                  1  \n",
              "1                   e         19000.0                  0  \n",
              "2  North West England         19000.0                  0  \n",
              "3  South West England         27500.0                  1  \n",
              "4                   e         37500.0                  2  "
            ]
          },
          "metadata": {
            "tags": []
          },
          "execution_count": 75
        }
      ]
    },
    {
      "cell_type": "code",
      "metadata": {
        "id": "EQeIzW3iOgDE",
        "colab_type": "code",
        "colab": {
          "base_uri": "https://localhost:8080/",
          "height": 197
        },
        "outputId": "2c12ef4d-21e1-49ae-cb71-a9d2cbd26afc"
      },
      "source": [
        "# viewing salary columns\n",
        "cols = ['salary_average','CatSalary_average']\n",
        "\n",
        "df[cols].head()"
      ],
      "execution_count": null,
      "outputs": [
        {
          "output_type": "execute_result",
          "data": {
            "text/html": [
              "<div>\n",
              "<style scoped>\n",
              "    .dataframe tbody tr th:only-of-type {\n",
              "        vertical-align: middle;\n",
              "    }\n",
              "\n",
              "    .dataframe tbody tr th {\n",
              "        vertical-align: top;\n",
              "    }\n",
              "\n",
              "    .dataframe thead th {\n",
              "        text-align: right;\n",
              "    }\n",
              "</style>\n",
              "<table border=\"1\" class=\"dataframe\">\n",
              "  <thead>\n",
              "    <tr style=\"text-align: right;\">\n",
              "      <th></th>\n",
              "      <th>salary_average</th>\n",
              "      <th>CatSalary_average</th>\n",
              "    </tr>\n",
              "  </thead>\n",
              "  <tbody>\n",
              "    <tr>\n",
              "      <th>0</th>\n",
              "      <td>23500.0</td>\n",
              "      <td>1</td>\n",
              "    </tr>\n",
              "    <tr>\n",
              "      <th>1</th>\n",
              "      <td>19000.0</td>\n",
              "      <td>0</td>\n",
              "    </tr>\n",
              "    <tr>\n",
              "      <th>2</th>\n",
              "      <td>19000.0</td>\n",
              "      <td>0</td>\n",
              "    </tr>\n",
              "    <tr>\n",
              "      <th>3</th>\n",
              "      <td>27500.0</td>\n",
              "      <td>1</td>\n",
              "    </tr>\n",
              "    <tr>\n",
              "      <th>4</th>\n",
              "      <td>37500.0</td>\n",
              "      <td>2</td>\n",
              "    </tr>\n",
              "  </tbody>\n",
              "</table>\n",
              "</div>"
            ],
            "text/plain": [
              "   salary_average  CatSalary_average\n",
              "0         23500.0                  1\n",
              "1         19000.0                  0\n",
              "2         19000.0                  0\n",
              "3         27500.0                  1\n",
              "4         37500.0                  2"
            ]
          },
          "metadata": {
            "tags": []
          },
          "execution_count": 76
        }
      ]
    },
    {
      "cell_type": "code",
      "metadata": {
        "id": "ipFslyTYbIqa",
        "colab_type": "code",
        "colab": {}
      },
      "source": [
        "df['log_salary'] = np.log((1+ df['salary_average']))"
      ],
      "execution_count": null,
      "outputs": []
    },
    {
      "cell_type": "code",
      "metadata": {
        "id": "I5CFhoFkbUQX",
        "colab_type": "code",
        "colab": {
          "base_uri": "https://localhost:8080/",
          "height": 197
        },
        "outputId": "8a9fe520-697f-4358-81c9-f3e49010d354"
      },
      "source": [
        "# viewing salary columns\n",
        "cols = ['salary_average','CatSalary_average','log_salary']\n",
        "\n",
        "df[cols].head()"
      ],
      "execution_count": null,
      "outputs": [
        {
          "output_type": "execute_result",
          "data": {
            "text/html": [
              "<div>\n",
              "<style scoped>\n",
              "    .dataframe tbody tr th:only-of-type {\n",
              "        vertical-align: middle;\n",
              "    }\n",
              "\n",
              "    .dataframe tbody tr th {\n",
              "        vertical-align: top;\n",
              "    }\n",
              "\n",
              "    .dataframe thead th {\n",
              "        text-align: right;\n",
              "    }\n",
              "</style>\n",
              "<table border=\"1\" class=\"dataframe\">\n",
              "  <thead>\n",
              "    <tr style=\"text-align: right;\">\n",
              "      <th></th>\n",
              "      <th>salary_average</th>\n",
              "      <th>CatSalary_average</th>\n",
              "      <th>log_salary</th>\n",
              "    </tr>\n",
              "  </thead>\n",
              "  <tbody>\n",
              "    <tr>\n",
              "      <th>0</th>\n",
              "      <td>23500.0</td>\n",
              "      <td>1</td>\n",
              "      <td>10.064798</td>\n",
              "    </tr>\n",
              "    <tr>\n",
              "      <th>1</th>\n",
              "      <td>19000.0</td>\n",
              "      <td>0</td>\n",
              "      <td>9.852247</td>\n",
              "    </tr>\n",
              "    <tr>\n",
              "      <th>2</th>\n",
              "      <td>19000.0</td>\n",
              "      <td>0</td>\n",
              "      <td>9.852247</td>\n",
              "    </tr>\n",
              "    <tr>\n",
              "      <th>3</th>\n",
              "      <td>27500.0</td>\n",
              "      <td>1</td>\n",
              "      <td>10.221978</td>\n",
              "    </tr>\n",
              "    <tr>\n",
              "      <th>4</th>\n",
              "      <td>37500.0</td>\n",
              "      <td>2</td>\n",
              "      <td>10.532123</td>\n",
              "    </tr>\n",
              "  </tbody>\n",
              "</table>\n",
              "</div>"
            ],
            "text/plain": [
              "   salary_average  CatSalary_average  log_salary\n",
              "0         23500.0                  1   10.064798\n",
              "1         19000.0                  0    9.852247\n",
              "2         19000.0                  0    9.852247\n",
              "3         27500.0                  1   10.221978\n",
              "4         37500.0                  2   10.532123"
            ]
          },
          "metadata": {
            "tags": []
          },
          "execution_count": 78
        }
      ]
    },
    {
      "cell_type": "code",
      "metadata": {
        "id": "DjatE_B0eSu7",
        "colab_type": "code",
        "colab": {
          "base_uri": "https://localhost:8080/",
          "height": 70
        },
        "outputId": "a8da277b-1960-4cb0-a81c-12e87d3ed33a"
      },
      "source": [
        "# value count of the column\n",
        "df['eligible_uk_only'].value_counts()"
      ],
      "execution_count": null,
      "outputs": [
        {
          "output_type": "execute_result",
          "data": {
            "text/plain": [
              "f    53130\n",
              "t    37221\n",
              "Name: eligible_uk_only, dtype: int64"
            ]
          },
          "metadata": {
            "tags": []
          },
          "execution_count": 79
        }
      ]
    },
    {
      "cell_type": "code",
      "metadata": {
        "id": "_grs03yMRyhE",
        "colab_type": "code",
        "colab": {
          "base_uri": "https://localhost:8080/",
          "height": 87
        },
        "outputId": "c2cba756-cd17-4a0a-e125-56ad16b8f9c0"
      },
      "source": [
        "# value count of the column\n",
        "df['salary_type'].value_counts()"
      ],
      "execution_count": null,
      "outputs": [
        {
          "output_type": "execute_result",
          "data": {
            "text/plain": [
              "5    77496\n",
              "1     9493\n",
              "2     3362\n",
              "Name: salary_type, dtype: int64"
            ]
          },
          "metadata": {
            "tags": []
          },
          "execution_count": 80
        }
      ]
    },
    {
      "cell_type": "code",
      "metadata": {
        "id": "mpghvkyLRCBw",
        "colab_type": "code",
        "colab": {
          "base_uri": "https://localhost:8080/",
          "height": 194
        },
        "outputId": "95e32e17-f32c-409b-a68b-14f0d173416d"
      },
      "source": [
        "df.columns"
      ],
      "execution_count": null,
      "outputs": [
        {
          "output_type": "execute_result",
          "data": {
            "text/plain": [
              "Index(['job_title', 'no_applicants', 'date_created', 'knowledge_domain',\n",
              "       'has_formatting', 'featured_job', 'cover_letter_preference_id',\n",
              "       'has_screening_questions', 'external_url', 'postal_code', 'has_salary',\n",
              "       'has_skills', 'easy_apply', 'cover_letter', 'job_type', 'salary_type',\n",
              "       'eligible_uk_only', 'display_style', 'show_sponsored_links_ads',\n",
              "       'is_public', 'is_graduate', 'is_multilingual', 'is_exec_role',\n",
              "       'is_fulltime', 'is_parttime', 'is_branded', 'is_nationwide',\n",
              "       'company_type', 'townname', 'countyname', 'regionname',\n",
              "       'salary_average', 'CatSalary_average', 'log_salary'],\n",
              "      dtype='object')"
            ]
          },
          "metadata": {
            "tags": []
          },
          "execution_count": 81
        }
      ]
    },
    {
      "cell_type": "code",
      "metadata": {
        "id": "8PAH--hschBO",
        "colab_type": "code",
        "colab": {
          "base_uri": "https://localhost:8080/",
          "height": 708
        },
        "outputId": "5c3d5f7a-5290-4217-f3b8-4948fc2fe44b"
      },
      "source": [
        "# Statistical Summary of the target variable\n",
        "print(\"no_applicants Statistical Summary:\\n\")\n",
        "print(df['no_applicants'].describe())\n",
        "print(\"Median no_applicants:\", df['no_applicants'].median(axis = 0))\n",
        "print('Skewness:',df['no_applicants'].skew())\n",
        "skew = df['no_applicants'].skew()\n",
        "\n",
        "# mean distribution\n",
        "mu = df['no_applicants'].mean()\n",
        "\n",
        "# std distribution\n",
        "sigma = df['no_applicants'].std()\n",
        "num_bins = 40\n",
        "\n",
        "# Histogram of SalesPrice\n",
        "plt.figure(figsize=(11, 6))\n",
        "n, bins, patches = plt.hist(df['no_applicants'], num_bins, normed=1,edgecolor = 'black', lw = 1, alpha = .40)\n",
        "\n",
        "# Normal Distribution\n",
        "y = mlab.normpdf(bins, mu, sigma)\n",
        "plt.plot(bins, y, 'r--', linewidth=2)\n",
        "plt.xlabel('no_applicants')\n",
        "plt.ylabel('Probability density')\n",
        "\n",
        "plt.title(r'$\\mathrm{Histogram\\ of\\ no_applicants:}\\ \\mu=%.3f,\\ \\sigma=%.3f$'%(mu,sigma))\n",
        "plt.grid(True)\n",
        "\n",
        "#fig.tight_layout()\n",
        "plt.show()"
      ],
      "execution_count": null,
      "outputs": [
        {
          "output_type": "stream",
          "text": [
            "no_applicants Statistical Summary:\n",
            "\n",
            "count    90351.000000\n",
            "mean        20.241469\n",
            "std         40.947716\n",
            "min          0.000000\n",
            "25%          2.000000\n",
            "50%          7.000000\n",
            "75%         21.000000\n",
            "max       1302.000000\n",
            "Name: no_applicants, dtype: float64\n",
            "Median no_applicants: 7.0\n",
            "Skewness: 7.028666559797019\n"
          ],
          "name": "stdout"
        },
        {
          "output_type": "stream",
          "text": [
            "/usr/local/lib/python3.6/dist-packages/matplotlib/axes/_axes.py:6521: MatplotlibDeprecationWarning: \n",
            "The 'normed' kwarg was deprecated in Matplotlib 2.1 and will be removed in 3.1. Use 'density' instead.\n",
            "  alternative=\"'density'\", removal=\"3.1\")\n",
            "/usr/local/lib/python3.6/dist-packages/ipykernel_launcher.py:19: MatplotlibDeprecationWarning: scipy.stats.norm.pdf\n"
          ],
          "name": "stderr"
        },
        {
          "output_type": "display_data",
          "data": {
            "image/png": "[encoded data removed]",
            "text/plain": [
              "<Figure size 792x432 with 1 Axes>"
            ]
          },
          "metadata": {
            "tags": []
          }
        }
      ]
    },
    {
      "cell_type": "code",
      "metadata": {
        "id": "lBA9OFhRcpOu",
        "colab_type": "code",
        "colab": {
          "base_uri": "https://localhost:8080/",
          "height": 495
        },
        "outputId": "7fd6d41e-8ad0-4acf-cd82-fb708934aa2e"
      },
      "source": [
        "# normalised target variable\n",
        "no_applicants_norm = np.log1p(df['no_applicants'])\n",
        "\n",
        "# Mean distribution\n",
        "mu = no_applicants_norm.mean()\n",
        "\n",
        "# Standard distribution\n",
        "sigma = no_applicants_norm.std()\n",
        "num_bins = 40\n",
        "plt.figure(figsize=(11, 6))\n",
        "n, bins, patches = plt.hist(no_applicants_norm, num_bins, normed=1, edgecolor = 'black', lw = 1,alpha = .40)\n",
        "\n",
        "y = mlab.normpdf(bins, mu, sigma)\n",
        "plt.plot(bins, y, 'r--', linewidth=2)\n",
        "plt.xlabel('no_applicants')\n",
        "plt.ylabel('Probability density')\n",
        "\n",
        "plt.title(r'$\\mathrm{Histogram\\ of\\ no_applicants:}\\ \\mu=%.3f,\\ \\sigma=%.3f$'%(mu,sigma))\n",
        "plt.grid(True)\n",
        "\n",
        "#fig.tight_layout()\n",
        "plt.show()"
      ],
      "execution_count": null,
      "outputs": [
        {
          "output_type": "stream",
          "text": [
            "/usr/local/lib/python3.6/dist-packages/matplotlib/axes/_axes.py:6521: MatplotlibDeprecationWarning: \n",
            "The 'normed' kwarg was deprecated in Matplotlib 2.1 and will be removed in 3.1. Use 'density' instead.\n",
            "  alternative=\"'density'\", removal=\"3.1\")\n",
            "/usr/local/lib/python3.6/dist-packages/ipykernel_launcher.py:12: MatplotlibDeprecationWarning: scipy.stats.norm.pdf\n",
            "  if sys.path[0] == '':\n"
          ],
          "name": "stderr"
        },
        {
          "output_type": "display_data",
          "data": {
            "image/png": "[encoded data removed]",
            "text/plain": [
              "<Figure size 792x432 with 1 Axes>"
            ]
          },
          "metadata": {
            "tags": []
          }
        }
      ]
    },
    {
      "cell_type": "code",
      "metadata": {
        "id": "PAikvJDMdCVs",
        "colab_type": "code",
        "colab": {}
      },
      "source": [
        "df['no_applicants_norm'] = no_applicants_norm"
      ],
      "execution_count": null,
      "outputs": []
    },
    {
      "cell_type": "code",
      "metadata": {
        "id": "4mW5fNCGdJWv",
        "colab_type": "code",
        "colab": {
          "base_uri": "https://localhost:8080/",
          "height": 197
        },
        "outputId": "bc8a58a6-f94b-471d-844a-a05b4ae8d1ca"
      },
      "source": [
        "# viewing target columns\n",
        "cols = ['no_applicants','no_applicants_norm']\n",
        "\n",
        "df[cols].head()"
      ],
      "execution_count": null,
      "outputs": [
        {
          "output_type": "execute_result",
          "data": {
            "text/html": [
              "<div>\n",
              "<style scoped>\n",
              "    .dataframe tbody tr th:only-of-type {\n",
              "        vertical-align: middle;\n",
              "    }\n",
              "\n",
              "    .dataframe tbody tr th {\n",
              "        vertical-align: top;\n",
              "    }\n",
              "\n",
              "    .dataframe thead th {\n",
              "        text-align: right;\n",
              "    }\n",
              "</style>\n",
              "<table border=\"1\" class=\"dataframe\">\n",
              "  <thead>\n",
              "    <tr style=\"text-align: right;\">\n",
              "      <th></th>\n",
              "      <th>no_applicants</th>\n",
              "      <th>no_applicants_norm</th>\n",
              "    </tr>\n",
              "  </thead>\n",
              "  <tbody>\n",
              "    <tr>\n",
              "      <th>0</th>\n",
              "      <td>21</td>\n",
              "      <td>3.091042</td>\n",
              "    </tr>\n",
              "    <tr>\n",
              "      <th>1</th>\n",
              "      <td>6</td>\n",
              "      <td>1.945910</td>\n",
              "    </tr>\n",
              "    <tr>\n",
              "      <th>2</th>\n",
              "      <td>8</td>\n",
              "      <td>2.197225</td>\n",
              "    </tr>\n",
              "    <tr>\n",
              "      <th>3</th>\n",
              "      <td>38</td>\n",
              "      <td>3.663562</td>\n",
              "    </tr>\n",
              "    <tr>\n",
              "      <th>4</th>\n",
              "      <td>10</td>\n",
              "      <td>2.397895</td>\n",
              "    </tr>\n",
              "  </tbody>\n",
              "</table>\n",
              "</div>"
            ],
            "text/plain": [
              "   no_applicants  no_applicants_norm\n",
              "0             21            3.091042\n",
              "1              6            1.945910\n",
              "2              8            2.197225\n",
              "3             38            3.663562\n",
              "4             10            2.397895"
            ]
          },
          "metadata": {
            "tags": []
          },
          "execution_count": 85
        }
      ]
    },
    {
      "cell_type": "code",
      "metadata": {
        "id": "wswHqBPXf8G9",
        "colab_type": "code",
        "colab": {}
      },
      "source": [
        "# Encode data\n",
        "df['is_nationwide'] = df['is_nationwide'].map({'f':0,'t':1})\n",
        "df['is_branded'] = df['is_branded'].map({'f':0,'t':1})\n",
        "df['is_parttime'] = df['is_parttime'].map({'f':0,'t':1})\n",
        "df['is_fulltime'] = df['is_fulltime'].map({'f':0,'t':1})\n",
        "df['is_exec_role'] = df['is_exec_role'].map({'f':0,'t':1})\n",
        "df['is_multilingual'] = df['is_multilingual'].map({'f':0,'t':1})\n",
        "df['is_public'] = df['is_public'].map({'f':0,'t':1})\n",
        "df['is_graduate'] = df['is_graduate'].map({'f':0,'t':1})\n",
        "df['show_sponsored_links_ads'] = df['show_sponsored_links_ads'].map({'f':0,'t':1})\n",
        "df['eligible_uk_only'] = df['eligible_uk_only'].map({'f':0,'t':1})"
      ],
      "execution_count": null,
      "outputs": []
    },
    {
      "cell_type": "code",
      "metadata": {
        "id": "etDTpFQsclb_",
        "colab_type": "code",
        "colab": {
          "base_uri": "https://localhost:8080/",
          "height": 227
        },
        "outputId": "a3e7fc3f-87bf-4ab8-bda0-294110638448"
      },
      "source": [
        "df.head(2)"
      ],
      "execution_count": null,
      "outputs": [
        {
          "output_type": "execute_result",
          "data": {
            "text/html": [
              "<div>\n",
              "<style scoped>\n",
              "    .dataframe tbody tr th:only-of-type {\n",
              "        vertical-align: middle;\n",
              "    }\n",
              "\n",
              "    .dataframe tbody tr th {\n",
              "        vertical-align: top;\n",
              "    }\n",
              "\n",
              "    .dataframe thead th {\n",
              "        text-align: right;\n",
              "    }\n",
              "</style>\n",
              "<table border=\"1\" class=\"dataframe\">\n",
              "  <thead>\n",
              "    <tr style=\"text-align: right;\">\n",
              "      <th></th>\n",
              "      <th>job_title</th>\n",
              "      <th>no_applicants</th>\n",
              "      <th>date_created</th>\n",
              "      <th>knowledge_domain</th>\n",
              "      <th>has_formatting</th>\n",
              "      <th>featured_job</th>\n",
              "      <th>cover_letter_preference_id</th>\n",
              "      <th>has_screening_questions</th>\n",
              "      <th>external_url</th>\n",
              "      <th>postal_code</th>\n",
              "      <th>has_salary</th>\n",
              "      <th>has_skills</th>\n",
              "      <th>easy_apply</th>\n",
              "      <th>cover_letter</th>\n",
              "      <th>job_type</th>\n",
              "      <th>salary_type</th>\n",
              "      <th>eligible_uk_only</th>\n",
              "      <th>display_style</th>\n",
              "      <th>show_sponsored_links_ads</th>\n",
              "      <th>is_public</th>\n",
              "      <th>is_graduate</th>\n",
              "      <th>is_multilingual</th>\n",
              "      <th>is_exec_role</th>\n",
              "      <th>is_fulltime</th>\n",
              "      <th>is_parttime</th>\n",
              "      <th>is_branded</th>\n",
              "      <th>is_nationwide</th>\n",
              "      <th>company_type</th>\n",
              "      <th>townname</th>\n",
              "      <th>countyname</th>\n",
              "      <th>regionname</th>\n",
              "      <th>salary_average</th>\n",
              "      <th>CatSalary_average</th>\n",
              "      <th>log_salary</th>\n",
              "      <th>no_applicants_norm</th>\n",
              "    </tr>\n",
              "  </thead>\n",
              "  <tbody>\n",
              "    <tr>\n",
              "      <th>0</th>\n",
              "      <td>Assistant Accountant - PLUS FULL STUDY SUPPORT</td>\n",
              "      <td>21</td>\n",
              "      <td>2017-07-14</td>\n",
              "      <td>Financial Services</td>\n",
              "      <td>1</td>\n",
              "      <td>0</td>\n",
              "      <td>1</td>\n",
              "      <td>0</td>\n",
              "      <td>1</td>\n",
              "      <td>BD</td>\n",
              "      <td>1</td>\n",
              "      <td>0</td>\n",
              "      <td>0</td>\n",
              "      <td>1</td>\n",
              "      <td>1</td>\n",
              "      <td>5</td>\n",
              "      <td>0</td>\n",
              "      <td>1</td>\n",
              "      <td>0</td>\n",
              "      <td>0</td>\n",
              "      <td>0</td>\n",
              "      <td>0</td>\n",
              "      <td>0</td>\n",
              "      <td>1</td>\n",
              "      <td>0</td>\n",
              "      <td>0</td>\n",
              "      <td>0</td>\n",
              "      <td>1</td>\n",
              "      <td>Chichester</td>\n",
              "      <td>West Sussex</td>\n",
              "      <td>South East England</td>\n",
              "      <td>23500.0</td>\n",
              "      <td>1</td>\n",
              "      <td>10.064798</td>\n",
              "      <td>3.091042</td>\n",
              "    </tr>\n",
              "    <tr>\n",
              "      <th>1</th>\n",
              "      <td>Credit Controller</td>\n",
              "      <td>6</td>\n",
              "      <td>2017-04-27</td>\n",
              "      <td>Financial Services</td>\n",
              "      <td>1</td>\n",
              "      <td>0</td>\n",
              "      <td>1</td>\n",
              "      <td>0</td>\n",
              "      <td>1</td>\n",
              "      <td>M</td>\n",
              "      <td>1</td>\n",
              "      <td>0</td>\n",
              "      <td>0</td>\n",
              "      <td>1</td>\n",
              "      <td>1</td>\n",
              "      <td>5</td>\n",
              "      <td>0</td>\n",
              "      <td>1</td>\n",
              "      <td>0</td>\n",
              "      <td>0</td>\n",
              "      <td>0</td>\n",
              "      <td>0</td>\n",
              "      <td>0</td>\n",
              "      <td>1</td>\n",
              "      <td>0</td>\n",
              "      <td>0</td>\n",
              "      <td>0</td>\n",
              "      <td>1</td>\n",
              "      <td>Mold</td>\n",
              "      <td>Clwyd</td>\n",
              "      <td>e</td>\n",
              "      <td>19000.0</td>\n",
              "      <td>0</td>\n",
              "      <td>9.852247</td>\n",
              "      <td>1.945910</td>\n",
              "    </tr>\n",
              "  </tbody>\n",
              "</table>\n",
              "</div>"
            ],
            "text/plain": [
              "                                        job_title  no_applicants date_created  \\\n",
              "0  Assistant Accountant - PLUS FULL STUDY SUPPORT             21   2017-07-14   \n",
              "1                               Credit Controller              6   2017-04-27   \n",
              "\n",
              "     knowledge_domain  has_formatting  featured_job  \\\n",
              "0  Financial Services               1             0   \n",
              "1  Financial Services               1             0   \n",
              "\n",
              "   cover_letter_preference_id  has_screening_questions  external_url  \\\n",
              "0                           1                        0             1   \n",
              "1                           1                        0             1   \n",
              "\n",
              "  postal_code  has_salary  has_skills  easy_apply  cover_letter  job_type  \\\n",
              "0          BD           1           0           0             1         1   \n",
              "1           M           1           0           0             1         1   \n",
              "\n",
              "   salary_type  eligible_uk_only  display_style  show_sponsored_links_ads  \\\n",
              "0            5                 0              1                         0   \n",
              "1            5                 0              1                         0   \n",
              "\n",
              "   is_public  is_graduate  is_multilingual  is_exec_role  is_fulltime  \\\n",
              "0          0            0                0             0            1   \n",
              "1          0            0                0             0            1   \n",
              "\n",
              "   is_parttime  is_branded  is_nationwide  company_type    townname  \\\n",
              "0            0           0              0             1  Chichester   \n",
              "1            0           0              0             1        Mold   \n",
              "\n",
              "    countyname          regionname  salary_average  CatSalary_average  \\\n",
              "0  West Sussex  South East England         23500.0                  1   \n",
              "1        Clwyd                   e         19000.0                  0   \n",
              "\n",
              "   log_salary  no_applicants_norm  \n",
              "0   10.064798            3.091042  \n",
              "1    9.852247            1.945910  "
            ]
          },
          "metadata": {
            "tags": []
          },
          "execution_count": 89
        }
      ]
    },
    {
      "cell_type": "code",
      "metadata": {
        "id": "iJkeo6vdBCEl",
        "colab_type": "code",
        "colab": {
          "base_uri": "https://localhost:8080/",
          "height": 212
        },
        "outputId": "3c0396be-283c-4502-fd33-34ae1155b934"
      },
      "source": [
        "df.columns"
      ],
      "execution_count": null,
      "outputs": [
        {
          "output_type": "execute_result",
          "data": {
            "text/plain": [
              "Index(['job_title', 'no_applicants', 'date_created', 'knowledge_domain',\n",
              "       'has_formatting', 'featured_job', 'cover_letter_preference_id',\n",
              "       'has_screening_questions', 'external_url', 'postal_code', 'has_salary',\n",
              "       'has_skills', 'easy_apply', 'cover_letter', 'job_type', 'salary_type',\n",
              "       'eligible_uk_only', 'display_style', 'show_sponsored_links_ads',\n",
              "       'is_public', 'is_graduate', 'is_multilingual', 'is_exec_role',\n",
              "       'is_fulltime', 'is_parttime', 'is_branded', 'is_nationwide',\n",
              "       'company_type', 'townname', 'countyname', 'regionname',\n",
              "       'salary_average', 'CatSalary_average', 'log_salary',\n",
              "       'no_applicants_norm'],\n",
              "      dtype='object')"
            ]
          },
          "metadata": {
            "tags": []
          },
          "execution_count": 90
        }
      ]
    },
    {
      "cell_type": "code",
      "metadata": {
        "id": "G_zYBoE5GaGd",
        "colab_type": "code",
        "colab": {}
      },
      "source": [
        "# creating function for feature engineering on date column\n",
        "def add_datepart(df, fldname, drop=True):\n",
        "    fld = df[fldname]\n",
        "    if not np.issubdtype(fld.dtype, np.datetime64):\n",
        "        df[fldname] = fld = pd.to_datetime(fld, \n",
        "                                     infer_datetime_format=True)\n",
        "    targ_pre = re.sub('[Dd]ate$', '', fldname)\n",
        "    for n in ('Year', 'Month', 'Week', 'Day', 'Dayofweek', \n",
        "            'Dayofyear', 'Is_month_end', 'Is_month_start', \n",
        "            'Is_quarter_end', 'Is_quarter_start', 'Is_year_end', \n",
        "            'Is_year_start'):\n",
        "        df[targ_pre+n] = getattr(fld.dt,n.lower())\n",
        "    df[targ_pre+'Elapsed'] = fld.astype(np.int64) // 10**9\n",
        "    if drop: df.drop(fldname, axis=1, inplace=True)"
      ],
      "execution_count": null,
      "outputs": []
    },
    {
      "cell_type": "code",
      "metadata": {
        "id": "1FFSM8zGINaj",
        "colab_type": "code",
        "colab": {
          "base_uri": "https://localhost:8080/",
          "height": 1118
        },
        "outputId": "f19cd5a0-bf30-4452-a941-cb14c5f5182e"
      },
      "source": [
        "fld = df.date_created\n",
        "fld.dt.year"
      ],
      "execution_count": null,
      "outputs": [
        {
          "output_type": "execute_result",
          "data": {
            "text/plain": [
              "0        2017\n",
              "1        2017\n",
              "2        2017\n",
              "3        2017\n",
              "4        2017\n",
              "5        2017\n",
              "6        2017\n",
              "7        2017\n",
              "8        2017\n",
              "9        2017\n",
              "10       2017\n",
              "11       2017\n",
              "12       2017\n",
              "13       2017\n",
              "14       2017\n",
              "15       2017\n",
              "16       2017\n",
              "17       2017\n",
              "18       2017\n",
              "19       2017\n",
              "20       2017\n",
              "21       2017\n",
              "22       2017\n",
              "23       2017\n",
              "24       2017\n",
              "25       2017\n",
              "26       2017\n",
              "27       2017\n",
              "28       2017\n",
              "29       2017\n",
              "         ... \n",
              "90321    2017\n",
              "90322    2017\n",
              "90323    2017\n",
              "90324    2017\n",
              "90325    2017\n",
              "90326    2017\n",
              "90327    2017\n",
              "90328    2017\n",
              "90329    2017\n",
              "90330    2017\n",
              "90331    2017\n",
              "90332    2017\n",
              "90333    2017\n",
              "90334    2017\n",
              "90335    2017\n",
              "90336    2017\n",
              "90337    2017\n",
              "90338    2017\n",
              "90339    2017\n",
              "90340    2017\n",
              "90341    2017\n",
              "90342    2017\n",
              "90343    2017\n",
              "90344    2017\n",
              "90345    2017\n",
              "90346    2017\n",
              "90347    2017\n",
              "90348    2017\n",
              "90349    2017\n",
              "90350    2017\n",
              "Name: date_created, Length: 90351, dtype: int64"
            ]
          },
          "metadata": {
            "tags": []
          },
          "execution_count": 92
        }
      ]
    },
    {
      "cell_type": "code",
      "metadata": {
        "id": "P8YQVD7vI0ph",
        "colab_type": "code",
        "colab": {}
      },
      "source": [
        "# calling date function\n",
        "add_datepart(df, 'date_created')"
      ],
      "execution_count": null,
      "outputs": []
    },
    {
      "cell_type": "code",
      "metadata": {
        "id": "MM0MZ_piGflw",
        "colab_type": "code",
        "colab": {
          "base_uri": "https://localhost:8080/",
          "height": 283
        },
        "outputId": "c732a4f6-e51d-4d88-daf6-143f844f1a5a"
      },
      "source": [
        "df.columns"
      ],
      "execution_count": null,
      "outputs": [
        {
          "output_type": "execute_result",
          "data": {
            "text/plain": [
              "Index(['job_title', 'no_applicants', 'knowledge_domain', 'has_formatting',\n",
              "       'featured_job', 'cover_letter_preference_id', 'has_screening_questions',\n",
              "       'external_url', 'postal_code', 'has_salary', 'has_skills', 'easy_apply',\n",
              "       'cover_letter', 'job_type', 'salary_type', 'eligible_uk_only',\n",
              "       'display_style', 'show_sponsored_links_ads', 'is_public', 'is_graduate',\n",
              "       'is_multilingual', 'is_exec_role', 'is_fulltime', 'is_parttime',\n",
              "       'is_branded', 'is_nationwide', 'company_type', 'townname', 'countyname',\n",
              "       'regionname', 'salary_average', 'CatSalary_average', 'log_salary',\n",
              "       'no_applicants_norm', 'date_createdYear', 'date_createdMonth',\n",
              "       'date_createdWeek', 'date_createdDay', 'date_createdDayofweek',\n",
              "       'date_createdDayofyear', 'date_createdIs_month_end',\n",
              "       'date_createdIs_month_start', 'date_createdIs_quarter_end',\n",
              "       'date_createdIs_quarter_start', 'date_createdIs_year_end',\n",
              "       'date_createdIs_year_start', 'date_createdElapsed'],\n",
              "      dtype='object')"
            ]
          },
          "metadata": {
            "tags": []
          },
          "execution_count": 94
        }
      ]
    },
    {
      "cell_type": "code",
      "metadata": {
        "id": "ohCBhhSUJTwJ",
        "colab_type": "code",
        "colab": {
          "base_uri": "https://localhost:8080/",
          "height": 227
        },
        "outputId": "59338fc5-63ff-45be-b106-4bf6d79c2cf5"
      },
      "source": [
        "df.head(2)"
      ],
      "execution_count": null,
      "outputs": [
        {
          "output_type": "execute_result",
          "data": {
            "text/html": [
              "<div>\n",
              "<style scoped>\n",
              "    .dataframe tbody tr th:only-of-type {\n",
              "        vertical-align: middle;\n",
              "    }\n",
              "\n",
              "    .dataframe tbody tr th {\n",
              "        vertical-align: top;\n",
              "    }\n",
              "\n",
              "    .dataframe thead th {\n",
              "        text-align: right;\n",
              "    }\n",
              "</style>\n",
              "<table border=\"1\" class=\"dataframe\">\n",
              "  <thead>\n",
              "    <tr style=\"text-align: right;\">\n",
              "      <th></th>\n",
              "      <th>job_title</th>\n",
              "      <th>no_applicants</th>\n",
              "      <th>knowledge_domain</th>\n",
              "      <th>has_formatting</th>\n",
              "      <th>featured_job</th>\n",
              "      <th>cover_letter_preference_id</th>\n",
              "      <th>has_screening_questions</th>\n",
              "      <th>external_url</th>\n",
              "      <th>postal_code</th>\n",
              "      <th>has_salary</th>\n",
              "      <th>has_skills</th>\n",
              "      <th>easy_apply</th>\n",
              "      <th>cover_letter</th>\n",
              "      <th>job_type</th>\n",
              "      <th>salary_type</th>\n",
              "      <th>eligible_uk_only</th>\n",
              "      <th>display_style</th>\n",
              "      <th>show_sponsored_links_ads</th>\n",
              "      <th>is_public</th>\n",
              "      <th>is_graduate</th>\n",
              "      <th>is_multilingual</th>\n",
              "      <th>is_exec_role</th>\n",
              "      <th>is_fulltime</th>\n",
              "      <th>is_parttime</th>\n",
              "      <th>is_branded</th>\n",
              "      <th>is_nationwide</th>\n",
              "      <th>company_type</th>\n",
              "      <th>townname</th>\n",
              "      <th>countyname</th>\n",
              "      <th>regionname</th>\n",
              "      <th>salary_average</th>\n",
              "      <th>CatSalary_average</th>\n",
              "      <th>log_salary</th>\n",
              "      <th>no_applicants_norm</th>\n",
              "      <th>date_createdYear</th>\n",
              "      <th>date_createdMonth</th>\n",
              "      <th>date_createdWeek</th>\n",
              "      <th>date_createdDay</th>\n",
              "      <th>date_createdDayofweek</th>\n",
              "      <th>date_createdDayofyear</th>\n",
              "      <th>date_createdIs_month_end</th>\n",
              "      <th>date_createdIs_month_start</th>\n",
              "      <th>date_createdIs_quarter_end</th>\n",
              "      <th>date_createdIs_quarter_start</th>\n",
              "      <th>date_createdIs_year_end</th>\n",
              "      <th>date_createdIs_year_start</th>\n",
              "      <th>date_createdElapsed</th>\n",
              "    </tr>\n",
              "  </thead>\n",
              "  <tbody>\n",
              "    <tr>\n",
              "      <th>0</th>\n",
              "      <td>Assistant Accountant - PLUS FULL STUDY SUPPORT</td>\n",
              "      <td>21</td>\n",
              "      <td>Financial Services</td>\n",
              "      <td>1</td>\n",
              "      <td>0</td>\n",
              "      <td>1</td>\n",
              "      <td>0</td>\n",
              "      <td>1</td>\n",
              "      <td>BD</td>\n",
              "      <td>1</td>\n",
              "      <td>0</td>\n",
              "      <td>0</td>\n",
              "      <td>1</td>\n",
              "      <td>1</td>\n",
              "      <td>5</td>\n",
              "      <td>0</td>\n",
              "      <td>1</td>\n",
              "      <td>0</td>\n",
              "      <td>0</td>\n",
              "      <td>0</td>\n",
              "      <td>0</td>\n",
              "      <td>0</td>\n",
              "      <td>1</td>\n",
              "      <td>0</td>\n",
              "      <td>0</td>\n",
              "      <td>0</td>\n",
              "      <td>1</td>\n",
              "      <td>Chichester</td>\n",
              "      <td>West Sussex</td>\n",
              "      <td>South East England</td>\n",
              "      <td>23500.0</td>\n",
              "      <td>1</td>\n",
              "      <td>10.064798</td>\n",
              "      <td>3.091042</td>\n",
              "      <td>2017</td>\n",
              "      <td>7</td>\n",
              "      <td>28</td>\n",
              "      <td>14</td>\n",
              "      <td>4</td>\n",
              "      <td>195</td>\n",
              "      <td>False</td>\n",
              "      <td>False</td>\n",
              "      <td>False</td>\n",
              "      <td>False</td>\n",
              "      <td>False</td>\n",
              "      <td>False</td>\n",
              "      <td>1499990400</td>\n",
              "    </tr>\n",
              "    <tr>\n",
              "      <th>1</th>\n",
              "      <td>Credit Controller</td>\n",
              "      <td>6</td>\n",
              "      <td>Financial Services</td>\n",
              "      <td>1</td>\n",
              "      <td>0</td>\n",
              "      <td>1</td>\n",
              "      <td>0</td>\n",
              "      <td>1</td>\n",
              "      <td>M</td>\n",
              "      <td>1</td>\n",
              "      <td>0</td>\n",
              "      <td>0</td>\n",
              "      <td>1</td>\n",
              "      <td>1</td>\n",
              "      <td>5</td>\n",
              "      <td>0</td>\n",
              "      <td>1</td>\n",
              "      <td>0</td>\n",
              "      <td>0</td>\n",
              "      <td>0</td>\n",
              "      <td>0</td>\n",
              "      <td>0</td>\n",
              "      <td>1</td>\n",
              "      <td>0</td>\n",
              "      <td>0</td>\n",
              "      <td>0</td>\n",
              "      <td>1</td>\n",
              "      <td>Mold</td>\n",
              "      <td>Clwyd</td>\n",
              "      <td>e</td>\n",
              "      <td>19000.0</td>\n",
              "      <td>0</td>\n",
              "      <td>9.852247</td>\n",
              "      <td>1.945910</td>\n",
              "      <td>2017</td>\n",
              "      <td>4</td>\n",
              "      <td>17</td>\n",
              "      <td>27</td>\n",
              "      <td>3</td>\n",
              "      <td>117</td>\n",
              "      <td>False</td>\n",
              "      <td>False</td>\n",
              "      <td>False</td>\n",
              "      <td>False</td>\n",
              "      <td>False</td>\n",
              "      <td>False</td>\n",
              "      <td>1493251200</td>\n",
              "    </tr>\n",
              "  </tbody>\n",
              "</table>\n",
              "</div>"
            ],
            "text/plain": [
              "                                        job_title  no_applicants  \\\n",
              "0  Assistant Accountant - PLUS FULL STUDY SUPPORT             21   \n",
              "1                               Credit Controller              6   \n",
              "\n",
              "     knowledge_domain  has_formatting  featured_job  \\\n",
              "0  Financial Services               1             0   \n",
              "1  Financial Services               1             0   \n",
              "\n",
              "   cover_letter_preference_id  has_screening_questions  external_url  \\\n",
              "0                           1                        0             1   \n",
              "1                           1                        0             1   \n",
              "\n",
              "  postal_code  has_salary  has_skills  easy_apply  cover_letter  job_type  \\\n",
              "0          BD           1           0           0             1         1   \n",
              "1           M           1           0           0             1         1   \n",
              "\n",
              "   salary_type  eligible_uk_only  display_style  show_sponsored_links_ads  \\\n",
              "0            5                 0              1                         0   \n",
              "1            5                 0              1                         0   \n",
              "\n",
              "   is_public  is_graduate  is_multilingual  is_exec_role  is_fulltime  \\\n",
              "0          0            0                0             0            1   \n",
              "1          0            0                0             0            1   \n",
              "\n",
              "   is_parttime  is_branded  is_nationwide  company_type    townname  \\\n",
              "0            0           0              0             1  Chichester   \n",
              "1            0           0              0             1        Mold   \n",
              "\n",
              "    countyname          regionname  salary_average  CatSalary_average  \\\n",
              "0  West Sussex  South East England         23500.0                  1   \n",
              "1        Clwyd                   e         19000.0                  0   \n",
              "\n",
              "   log_salary  no_applicants_norm  date_createdYear  date_createdMonth  \\\n",
              "0   10.064798            3.091042              2017                  7   \n",
              "1    9.852247            1.945910              2017                  4   \n",
              "\n",
              "   date_createdWeek  date_createdDay  date_createdDayofweek  \\\n",
              "0                28               14                      4   \n",
              "1                17               27                      3   \n",
              "\n",
              "   date_createdDayofyear  date_createdIs_month_end  \\\n",
              "0                    195                     False   \n",
              "1                    117                     False   \n",
              "\n",
              "   date_createdIs_month_start  date_createdIs_quarter_end  \\\n",
              "0                       False                       False   \n",
              "1                       False                       False   \n",
              "\n",
              "   date_createdIs_quarter_start  date_createdIs_year_end  \\\n",
              "0                         False                    False   \n",
              "1                         False                    False   \n",
              "\n",
              "   date_createdIs_year_start  date_createdElapsed  \n",
              "0                      False           1499990400  \n",
              "1                      False           1493251200  "
            ]
          },
          "metadata": {
            "tags": []
          },
          "execution_count": 95
        }
      ]
    },
    {
      "cell_type": "code",
      "metadata": {
        "id": "geKSmpCWhqG4",
        "colab_type": "code",
        "colab": {
          "base_uri": "https://localhost:8080/",
          "height": 141
        },
        "outputId": "6f970fa3-7daa-446a-99c0-66e22905de92"
      },
      "source": [
        "# value count of the column\n",
        "df['knowledge_domain'].value_counts()"
      ],
      "execution_count": null,
      "outputs": [
        {
          "output_type": "execute_result",
          "data": {
            "text/plain": [
              "Financial Services        26154\n",
              "Health And Social Care    15849\n",
              "Administration            14388\n",
              "Information Technology    13433\n",
              "Education                 13427\n",
              "Human Resources            7100\n",
              "Name: knowledge_domain, dtype: int64"
            ]
          },
          "metadata": {
            "tags": []
          },
          "execution_count": 96
        }
      ]
    },
    {
      "cell_type": "code",
      "metadata": {
        "id": "yAvw_51hk0_r",
        "colab_type": "code",
        "colab": {}
      },
      "source": [
        "# dummy encoding done on 5 values out of 6 values\n",
        "df['Financial Services'] = pd.get_dummies(df['knowledge_domain'])['Financial Services']\n",
        "df['Administration'] = pd.get_dummies(df['knowledge_domain'])['Administration']\n",
        "df['Health And Social Care'] = pd.get_dummies(df['knowledge_domain'])['Health And Social Care']\n",
        "df['Education'] = pd.get_dummies(df['knowledge_domain'])['Education']\n",
        "df['Information Technology'] = pd.get_dummies(df['knowledge_domain'])['Information Technology']"
      ],
      "execution_count": null,
      "outputs": []
    },
    {
      "cell_type": "code",
      "metadata": {
        "id": "gUWdaa985-Ps",
        "colab_type": "code",
        "colab": {}
      },
      "source": [
        "df = df.drop(['knowledge_domain'], axis=1)"
      ],
      "execution_count": null,
      "outputs": []
    },
    {
      "cell_type": "code",
      "metadata": {
        "id": "2Dr-v3JMU20m",
        "colab_type": "code",
        "colab": {
          "base_uri": "https://localhost:8080/",
          "height": 306
        },
        "outputId": "2eeac935-d7ee-4e0a-9cf3-8fa56515f5c3"
      },
      "source": [
        "df.head(2)"
      ],
      "execution_count": null,
      "outputs": [
        {
          "output_type": "execute_result",
          "data": {
            "text/html": [
              "<div>\n",
              "<style scoped>\n",
              "    .dataframe tbody tr th:only-of-type {\n",
              "        vertical-align: middle;\n",
              "    }\n",
              "\n",
              "    .dataframe tbody tr th {\n",
              "        vertical-align: top;\n",
              "    }\n",
              "\n",
              "    .dataframe thead th {\n",
              "        text-align: right;\n",
              "    }\n",
              "</style>\n",
              "<table border=\"1\" class=\"dataframe\">\n",
              "  <thead>\n",
              "    <tr style=\"text-align: right;\">\n",
              "      <th></th>\n",
              "      <th>job_title</th>\n",
              "      <th>no_applicants</th>\n",
              "      <th>has_formatting</th>\n",
              "      <th>featured_job</th>\n",
              "      <th>cover_letter_preference_id</th>\n",
              "      <th>has_screening_questions</th>\n",
              "      <th>external_url</th>\n",
              "      <th>postal_code</th>\n",
              "      <th>has_salary</th>\n",
              "      <th>has_skills</th>\n",
              "      <th>easy_apply</th>\n",
              "      <th>cover_letter</th>\n",
              "      <th>job_type</th>\n",
              "      <th>salary_type</th>\n",
              "      <th>eligible_uk_only</th>\n",
              "      <th>display_style</th>\n",
              "      <th>show_sponsored_links_ads</th>\n",
              "      <th>is_public</th>\n",
              "      <th>is_graduate</th>\n",
              "      <th>is_multilingual</th>\n",
              "      <th>is_exec_role</th>\n",
              "      <th>is_fulltime</th>\n",
              "      <th>is_parttime</th>\n",
              "      <th>is_branded</th>\n",
              "      <th>is_nationwide</th>\n",
              "      <th>...</th>\n",
              "      <th>townname</th>\n",
              "      <th>countyname</th>\n",
              "      <th>regionname</th>\n",
              "      <th>salary_average</th>\n",
              "      <th>CatSalary_average</th>\n",
              "      <th>log_salary</th>\n",
              "      <th>no_applicants_norm</th>\n",
              "      <th>date_createdYear</th>\n",
              "      <th>date_createdMonth</th>\n",
              "      <th>date_createdWeek</th>\n",
              "      <th>date_createdDay</th>\n",
              "      <th>date_createdDayofweek</th>\n",
              "      <th>date_createdDayofyear</th>\n",
              "      <th>date_createdIs_month_end</th>\n",
              "      <th>date_createdIs_month_start</th>\n",
              "      <th>date_createdIs_quarter_end</th>\n",
              "      <th>date_createdIs_quarter_start</th>\n",
              "      <th>date_createdIs_year_end</th>\n",
              "      <th>date_createdIs_year_start</th>\n",
              "      <th>date_createdElapsed</th>\n",
              "      <th>Financial Services</th>\n",
              "      <th>Administration</th>\n",
              "      <th>Health And Social Care</th>\n",
              "      <th>Education</th>\n",
              "      <th>Information Technology</th>\n",
              "    </tr>\n",
              "  </thead>\n",
              "  <tbody>\n",
              "    <tr>\n",
              "      <th>0</th>\n",
              "      <td>Assistant Accountant - PLUS FULL STUDY SUPPORT</td>\n",
              "      <td>21</td>\n",
              "      <td>1</td>\n",
              "      <td>0</td>\n",
              "      <td>1</td>\n",
              "      <td>0</td>\n",
              "      <td>1</td>\n",
              "      <td>BD</td>\n",
              "      <td>1</td>\n",
              "      <td>0</td>\n",
              "      <td>0</td>\n",
              "      <td>1</td>\n",
              "      <td>1</td>\n",
              "      <td>5</td>\n",
              "      <td>0</td>\n",
              "      <td>1</td>\n",
              "      <td>0</td>\n",
              "      <td>0</td>\n",
              "      <td>0</td>\n",
              "      <td>0</td>\n",
              "      <td>0</td>\n",
              "      <td>1</td>\n",
              "      <td>0</td>\n",
              "      <td>0</td>\n",
              "      <td>0</td>\n",
              "      <td>...</td>\n",
              "      <td>Chichester</td>\n",
              "      <td>West Sussex</td>\n",
              "      <td>South East England</td>\n",
              "      <td>23500.0</td>\n",
              "      <td>1</td>\n",
              "      <td>10.064798</td>\n",
              "      <td>3.091042</td>\n",
              "      <td>2017</td>\n",
              "      <td>7</td>\n",
              "      <td>28</td>\n",
              "      <td>14</td>\n",
              "      <td>4</td>\n",
              "      <td>195</td>\n",
              "      <td>False</td>\n",
              "      <td>False</td>\n",
              "      <td>False</td>\n",
              "      <td>False</td>\n",
              "      <td>False</td>\n",
              "      <td>False</td>\n",
              "      <td>1499990400</td>\n",
              "      <td>1</td>\n",
              "      <td>0</td>\n",
              "      <td>0</td>\n",
              "      <td>0</td>\n",
              "      <td>0</td>\n",
              "    </tr>\n",
              "    <tr>\n",
              "      <th>1</th>\n",
              "      <td>Credit Controller</td>\n",
              "      <td>6</td>\n",
              "      <td>1</td>\n",
              "      <td>0</td>\n",
              "      <td>1</td>\n",
              "      <td>0</td>\n",
              "      <td>1</td>\n",
              "      <td>M</td>\n",
              "      <td>1</td>\n",
              "      <td>0</td>\n",
              "      <td>0</td>\n",
              "      <td>1</td>\n",
              "      <td>1</td>\n",
              "      <td>5</td>\n",
              "      <td>0</td>\n",
              "      <td>1</td>\n",
              "      <td>0</td>\n",
              "      <td>0</td>\n",
              "      <td>0</td>\n",
              "      <td>0</td>\n",
              "      <td>0</td>\n",
              "      <td>1</td>\n",
              "      <td>0</td>\n",
              "      <td>0</td>\n",
              "      <td>0</td>\n",
              "      <td>...</td>\n",
              "      <td>Mold</td>\n",
              "      <td>Clwyd</td>\n",
              "      <td>e</td>\n",
              "      <td>19000.0</td>\n",
              "      <td>0</td>\n",
              "      <td>9.852247</td>\n",
              "      <td>1.945910</td>\n",
              "      <td>2017</td>\n",
              "      <td>4</td>\n",
              "      <td>17</td>\n",
              "      <td>27</td>\n",
              "      <td>3</td>\n",
              "      <td>117</td>\n",
              "      <td>False</td>\n",
              "      <td>False</td>\n",
              "      <td>False</td>\n",
              "      <td>False</td>\n",
              "      <td>False</td>\n",
              "      <td>False</td>\n",
              "      <td>1493251200</td>\n",
              "      <td>1</td>\n",
              "      <td>0</td>\n",
              "      <td>0</td>\n",
              "      <td>0</td>\n",
              "      <td>0</td>\n",
              "    </tr>\n",
              "  </tbody>\n",
              "</table>\n",
              "<p>2 rows × 51 columns</p>\n",
              "</div>"
            ],
            "text/plain": [
              "                                        job_title  no_applicants  \\\n",
              "0  Assistant Accountant - PLUS FULL STUDY SUPPORT             21   \n",
              "1                               Credit Controller              6   \n",
              "\n",
              "   has_formatting  featured_job  cover_letter_preference_id  \\\n",
              "0               1             0                           1   \n",
              "1               1             0                           1   \n",
              "\n",
              "   has_screening_questions  external_url postal_code  has_salary  has_skills  \\\n",
              "0                        0             1          BD           1           0   \n",
              "1                        0             1           M           1           0   \n",
              "\n",
              "   easy_apply  cover_letter  job_type  salary_type  eligible_uk_only  \\\n",
              "0           0             1         1            5                 0   \n",
              "1           0             1         1            5                 0   \n",
              "\n",
              "   display_style  show_sponsored_links_ads  is_public  is_graduate  \\\n",
              "0              1                         0          0            0   \n",
              "1              1                         0          0            0   \n",
              "\n",
              "   is_multilingual  is_exec_role  is_fulltime  is_parttime  is_branded  \\\n",
              "0                0             0            1            0           0   \n",
              "1                0             0            1            0           0   \n",
              "\n",
              "   is_nationwide           ...              townname   countyname  \\\n",
              "0              0           ...            Chichester  West Sussex   \n",
              "1              0           ...                  Mold        Clwyd   \n",
              "\n",
              "           regionname salary_average  CatSalary_average  log_salary  \\\n",
              "0  South East England        23500.0                  1   10.064798   \n",
              "1                   e        19000.0                  0    9.852247   \n",
              "\n",
              "   no_applicants_norm  date_createdYear  date_createdMonth  date_createdWeek  \\\n",
              "0            3.091042              2017                  7                28   \n",
              "1            1.945910              2017                  4                17   \n",
              "\n",
              "   date_createdDay  date_createdDayofweek  date_createdDayofyear  \\\n",
              "0               14                      4                    195   \n",
              "1               27                      3                    117   \n",
              "\n",
              "   date_createdIs_month_end  date_createdIs_month_start  \\\n",
              "0                     False                       False   \n",
              "1                     False                       False   \n",
              "\n",
              "   date_createdIs_quarter_end  date_createdIs_quarter_start  \\\n",
              "0                       False                         False   \n",
              "1                       False                         False   \n",
              "\n",
              "   date_createdIs_year_end  date_createdIs_year_start  date_createdElapsed  \\\n",
              "0                    False                      False           1499990400   \n",
              "1                    False                      False           1493251200   \n",
              "\n",
              "   Financial Services  Administration  Health And Social Care  Education  \\\n",
              "0                   1               0                       0          0   \n",
              "1                   1               0                       0          0   \n",
              "\n",
              "   Information Technology  \n",
              "0                       0  \n",
              "1                       0  \n",
              "\n",
              "[2 rows x 51 columns]"
            ]
          },
          "metadata": {
            "tags": []
          },
          "execution_count": 100
        }
      ]
    },
    {
      "cell_type": "code",
      "metadata": {
        "id": "0zmI4nw_vXRH",
        "colab_type": "code",
        "colab": {}
      },
      "source": [
        "# dummy encoding\n",
        "df['salary_type_1'] = pd.get_dummies(df['salary_type'])[1]\n",
        "df['salary_type_2'] = pd.get_dummies(df['salary_type'])[2]"
      ],
      "execution_count": null,
      "outputs": []
    },
    {
      "cell_type": "code",
      "metadata": {
        "id": "h0WHHosNwJOR",
        "colab_type": "code",
        "colab": {}
      },
      "source": [
        "# dropping the original column\n",
        "df = df.drop(['salary_type'], axis=1)"
      ],
      "execution_count": null,
      "outputs": []
    },
    {
      "cell_type": "code",
      "metadata": {
        "id": "8rRdTHMUV_MJ",
        "colab_type": "code",
        "colab": {
          "base_uri": "https://localhost:8080/",
          "height": 306
        },
        "outputId": "7fe7909a-0c29-4c0b-9b77-51640dedd564"
      },
      "source": [
        "df.head(2)"
      ],
      "execution_count": null,
      "outputs": [
        {
          "output_type": "execute_result",
          "data": {
            "text/html": [
              "<div>\n",
              "<style scoped>\n",
              "    .dataframe tbody tr th:only-of-type {\n",
              "        vertical-align: middle;\n",
              "    }\n",
              "\n",
              "    .dataframe tbody tr th {\n",
              "        vertical-align: top;\n",
              "    }\n",
              "\n",
              "    .dataframe thead th {\n",
              "        text-align: right;\n",
              "    }\n",
              "</style>\n",
              "<table border=\"1\" class=\"dataframe\">\n",
              "  <thead>\n",
              "    <tr style=\"text-align: right;\">\n",
              "      <th></th>\n",
              "      <th>job_title</th>\n",
              "      <th>no_applicants</th>\n",
              "      <th>has_formatting</th>\n",
              "      <th>featured_job</th>\n",
              "      <th>cover_letter_preference_id</th>\n",
              "      <th>has_screening_questions</th>\n",
              "      <th>external_url</th>\n",
              "      <th>postal_code</th>\n",
              "      <th>has_salary</th>\n",
              "      <th>has_skills</th>\n",
              "      <th>easy_apply</th>\n",
              "      <th>cover_letter</th>\n",
              "      <th>job_type</th>\n",
              "      <th>eligible_uk_only</th>\n",
              "      <th>display_style</th>\n",
              "      <th>show_sponsored_links_ads</th>\n",
              "      <th>is_public</th>\n",
              "      <th>is_graduate</th>\n",
              "      <th>is_multilingual</th>\n",
              "      <th>is_exec_role</th>\n",
              "      <th>is_fulltime</th>\n",
              "      <th>is_parttime</th>\n",
              "      <th>is_branded</th>\n",
              "      <th>is_nationwide</th>\n",
              "      <th>company_type</th>\n",
              "      <th>...</th>\n",
              "      <th>regionname</th>\n",
              "      <th>salary_average</th>\n",
              "      <th>CatSalary_average</th>\n",
              "      <th>log_salary</th>\n",
              "      <th>no_applicants_norm</th>\n",
              "      <th>date_createdYear</th>\n",
              "      <th>date_createdMonth</th>\n",
              "      <th>date_createdWeek</th>\n",
              "      <th>date_createdDay</th>\n",
              "      <th>date_createdDayofweek</th>\n",
              "      <th>date_createdDayofyear</th>\n",
              "      <th>date_createdIs_month_end</th>\n",
              "      <th>date_createdIs_month_start</th>\n",
              "      <th>date_createdIs_quarter_end</th>\n",
              "      <th>date_createdIs_quarter_start</th>\n",
              "      <th>date_createdIs_year_end</th>\n",
              "      <th>date_createdIs_year_start</th>\n",
              "      <th>date_createdElapsed</th>\n",
              "      <th>Financial Services</th>\n",
              "      <th>Administration</th>\n",
              "      <th>Health And Social Care</th>\n",
              "      <th>Education</th>\n",
              "      <th>Information Technology</th>\n",
              "      <th>salary_type_1</th>\n",
              "      <th>salary_type_2</th>\n",
              "    </tr>\n",
              "  </thead>\n",
              "  <tbody>\n",
              "    <tr>\n",
              "      <th>0</th>\n",
              "      <td>Assistant Accountant - PLUS FULL STUDY SUPPORT</td>\n",
              "      <td>21</td>\n",
              "      <td>1</td>\n",
              "      <td>0</td>\n",
              "      <td>1</td>\n",
              "      <td>0</td>\n",
              "      <td>1</td>\n",
              "      <td>BD</td>\n",
              "      <td>1</td>\n",
              "      <td>0</td>\n",
              "      <td>0</td>\n",
              "      <td>1</td>\n",
              "      <td>1</td>\n",
              "      <td>0</td>\n",
              "      <td>1</td>\n",
              "      <td>0</td>\n",
              "      <td>0</td>\n",
              "      <td>0</td>\n",
              "      <td>0</td>\n",
              "      <td>0</td>\n",
              "      <td>1</td>\n",
              "      <td>0</td>\n",
              "      <td>0</td>\n",
              "      <td>0</td>\n",
              "      <td>1</td>\n",
              "      <td>...</td>\n",
              "      <td>South East England</td>\n",
              "      <td>23500.0</td>\n",
              "      <td>1</td>\n",
              "      <td>10.064798</td>\n",
              "      <td>3.091042</td>\n",
              "      <td>2017</td>\n",
              "      <td>7</td>\n",
              "      <td>28</td>\n",
              "      <td>14</td>\n",
              "      <td>4</td>\n",
              "      <td>195</td>\n",
              "      <td>False</td>\n",
              "      <td>False</td>\n",
              "      <td>False</td>\n",
              "      <td>False</td>\n",
              "      <td>False</td>\n",
              "      <td>False</td>\n",
              "      <td>1499990400</td>\n",
              "      <td>1</td>\n",
              "      <td>0</td>\n",
              "      <td>0</td>\n",
              "      <td>0</td>\n",
              "      <td>0</td>\n",
              "      <td>0</td>\n",
              "      <td>0</td>\n",
              "    </tr>\n",
              "    <tr>\n",
              "      <th>1</th>\n",
              "      <td>Credit Controller</td>\n",
              "      <td>6</td>\n",
              "      <td>1</td>\n",
              "      <td>0</td>\n",
              "      <td>1</td>\n",
              "      <td>0</td>\n",
              "      <td>1</td>\n",
              "      <td>M</td>\n",
              "      <td>1</td>\n",
              "      <td>0</td>\n",
              "      <td>0</td>\n",
              "      <td>1</td>\n",
              "      <td>1</td>\n",
              "      <td>0</td>\n",
              "      <td>1</td>\n",
              "      <td>0</td>\n",
              "      <td>0</td>\n",
              "      <td>0</td>\n",
              "      <td>0</td>\n",
              "      <td>0</td>\n",
              "      <td>1</td>\n",
              "      <td>0</td>\n",
              "      <td>0</td>\n",
              "      <td>0</td>\n",
              "      <td>1</td>\n",
              "      <td>...</td>\n",
              "      <td>e</td>\n",
              "      <td>19000.0</td>\n",
              "      <td>0</td>\n",
              "      <td>9.852247</td>\n",
              "      <td>1.945910</td>\n",
              "      <td>2017</td>\n",
              "      <td>4</td>\n",
              "      <td>17</td>\n",
              "      <td>27</td>\n",
              "      <td>3</td>\n",
              "      <td>117</td>\n",
              "      <td>False</td>\n",
              "      <td>False</td>\n",
              "      <td>False</td>\n",
              "      <td>False</td>\n",
              "      <td>False</td>\n",
              "      <td>False</td>\n",
              "      <td>1493251200</td>\n",
              "      <td>1</td>\n",
              "      <td>0</td>\n",
              "      <td>0</td>\n",
              "      <td>0</td>\n",
              "      <td>0</td>\n",
              "      <td>0</td>\n",
              "      <td>0</td>\n",
              "    </tr>\n",
              "  </tbody>\n",
              "</table>\n",
              "<p>2 rows × 52 columns</p>\n",
              "</div>"
            ],
            "text/plain": [
              "                                        job_title  no_applicants  \\\n",
              "0  Assistant Accountant - PLUS FULL STUDY SUPPORT             21   \n",
              "1                               Credit Controller              6   \n",
              "\n",
              "   has_formatting  featured_job  cover_letter_preference_id  \\\n",
              "0               1             0                           1   \n",
              "1               1             0                           1   \n",
              "\n",
              "   has_screening_questions  external_url postal_code  has_salary  has_skills  \\\n",
              "0                        0             1          BD           1           0   \n",
              "1                        0             1           M           1           0   \n",
              "\n",
              "   easy_apply  cover_letter  job_type  eligible_uk_only  display_style  \\\n",
              "0           0             1         1                 0              1   \n",
              "1           0             1         1                 0              1   \n",
              "\n",
              "   show_sponsored_links_ads  is_public  is_graduate  is_multilingual  \\\n",
              "0                         0          0            0                0   \n",
              "1                         0          0            0                0   \n",
              "\n",
              "   is_exec_role  is_fulltime  is_parttime  is_branded  is_nationwide  \\\n",
              "0             0            1            0           0              0   \n",
              "1             0            1            0           0              0   \n",
              "\n",
              "   company_type      ...                regionname salary_average  \\\n",
              "0             1      ...        South East England        23500.0   \n",
              "1             1      ...                         e        19000.0   \n",
              "\n",
              "  CatSalary_average  log_salary  no_applicants_norm  date_createdYear  \\\n",
              "0                 1   10.064798            3.091042              2017   \n",
              "1                 0    9.852247            1.945910              2017   \n",
              "\n",
              "   date_createdMonth  date_createdWeek  date_createdDay  \\\n",
              "0                  7                28               14   \n",
              "1                  4                17               27   \n",
              "\n",
              "   date_createdDayofweek  date_createdDayofyear  date_createdIs_month_end  \\\n",
              "0                      4                    195                     False   \n",
              "1                      3                    117                     False   \n",
              "\n",
              "   date_createdIs_month_start  date_createdIs_quarter_end  \\\n",
              "0                       False                       False   \n",
              "1                       False                       False   \n",
              "\n",
              "   date_createdIs_quarter_start  date_createdIs_year_end  \\\n",
              "0                         False                    False   \n",
              "1                         False                    False   \n",
              "\n",
              "   date_createdIs_year_start  date_createdElapsed  Financial Services  \\\n",
              "0                      False           1499990400                   1   \n",
              "1                      False           1493251200                   1   \n",
              "\n",
              "   Administration  Health And Social Care  Education  Information Technology  \\\n",
              "0               0                       0          0                       0   \n",
              "1               0                       0          0                       0   \n",
              "\n",
              "   salary_type_1  salary_type_2  \n",
              "0              0              0  \n",
              "1              0              0  \n",
              "\n",
              "[2 rows x 52 columns]"
            ]
          },
          "metadata": {
            "tags": []
          },
          "execution_count": 103
        }
      ]
    },
    {
      "cell_type": "code",
      "metadata": {
        "id": "aUn_GgBtW4bF",
        "colab_type": "code",
        "colab": {
          "base_uri": "https://localhost:8080/",
          "height": 336
        },
        "outputId": "64a40a64-2a09-4ed4-b123-6335c3fac3b3"
      },
      "source": [
        "df.columns"
      ],
      "execution_count": null,
      "outputs": [
        {
          "output_type": "execute_result",
          "data": {
            "text/plain": [
              "Index(['job_title', 'no_applicants', 'has_formatting', 'featured_job',\n",
              "       'cover_letter_preference_id', 'has_screening_questions', 'external_url',\n",
              "       'postal_code', 'has_salary', 'has_skills', 'easy_apply', 'cover_letter',\n",
              "       'job_type', 'eligible_uk_only', 'display_style',\n",
              "       'show_sponsored_links_ads', 'is_public', 'is_graduate',\n",
              "       'is_multilingual', 'is_exec_role', 'is_fulltime', 'is_parttime',\n",
              "       'is_branded', 'is_nationwide', 'company_type', 'townname', 'countyname',\n",
              "       'regionname', 'salary_average', 'CatSalary_average', 'log_salary',\n",
              "       'no_applicants_norm', 'date_createdYear', 'date_createdMonth',\n",
              "       'date_createdWeek', 'date_createdDay', 'date_createdDayofweek',\n",
              "       'date_createdDayofyear', 'date_createdIs_month_end',\n",
              "       'date_createdIs_month_start', 'date_createdIs_quarter_end',\n",
              "       'date_createdIs_quarter_start', 'date_createdIs_year_end',\n",
              "       'date_createdIs_year_start', 'date_createdElapsed',\n",
              "       'Financial Services', 'Administration', 'Health And Social Care',\n",
              "       'Education', 'Information Technology', 'salary_type_1',\n",
              "       'salary_type_2'],\n",
              "      dtype='object')"
            ]
          },
          "metadata": {
            "tags": []
          },
          "execution_count": 104
        }
      ]
    },
    {
      "cell_type": "code",
      "metadata": {
        "id": "a-yj2P53iPGf",
        "colab_type": "code",
        "colab": {}
      },
      "source": [
        "# dummy encoding\n",
        "df['is_nationwide_0'] = pd.get_dummies(df['is_nationwide'])[0]\n",
        "df['is_branded_0'] = pd.get_dummies(df['is_branded'])[0]\n",
        "df['is_parttime_0'] = pd.get_dummies(df['is_parttime'])[0]\n",
        "df['is_fulltime_0'] = pd.get_dummies(df['is_fulltime'])[0]\n",
        "df['is_exec_role_0'] = pd.get_dummies(df['is_exec_role'])[0]\n",
        "df['is_multilingual_0'] = pd.get_dummies(df['is_multilingual'])[0]\n",
        "df['is_public_0'] = pd.get_dummies(df['is_public'])[0]\n",
        "df['is_graduate_0'] = pd.get_dummies(df['is_graduate'])[0]\n",
        "df['show_sponsored_links_ads_0'] = pd.get_dummies(df['show_sponsored_links_ads'])[0]\n",
        "df['eligible_uk_only_0'] = pd.get_dummies(df['eligible_uk_only'])[0]"
      ],
      "execution_count": null,
      "outputs": []
    },
    {
      "cell_type": "code",
      "metadata": {
        "id": "axprdbWgjT-k",
        "colab_type": "code",
        "colab": {}
      },
      "source": [
        "# dropping the original column\n",
        "df = df.drop(['is_nationwide','is_branded', 'is_parttime', 'is_fulltime', 'is_exec_role',\n",
        "             'is_multilingual','is_public', 'is_graduate', 'show_sponsored_links_ads',\n",
        "             'eligible_uk_only'], axis=1)"
      ],
      "execution_count": null,
      "outputs": []
    },
    {
      "cell_type": "code",
      "metadata": {
        "id": "9daUOv9Gj9WH",
        "colab_type": "code",
        "colab": {
          "base_uri": "https://localhost:8080/",
          "height": 318
        },
        "outputId": "2839fb4c-4a51-4791-df92-e3aabb545ab7"
      },
      "source": [
        "df.columns"
      ],
      "execution_count": null,
      "outputs": [
        {
          "output_type": "execute_result",
          "data": {
            "text/plain": [
              "Index(['job_title', 'no_applicants', 'has_formatting', 'featured_job',\n",
              "       'cover_letter_preference_id', 'has_screening_questions', 'external_url',\n",
              "       'postal_code', 'has_salary', 'has_skills', 'easy_apply', 'cover_letter',\n",
              "       'job_type', 'display_style', 'company_type', 'townname', 'countyname',\n",
              "       'regionname', 'salary_average', 'CatSalary_average', 'log_salary',\n",
              "       'no_applicants_norm', 'date_createdYear', 'date_createdMonth',\n",
              "       'date_createdWeek', 'date_createdDay', 'date_createdDayofweek',\n",
              "       'date_createdDayofyear', 'date_createdIs_month_end',\n",
              "       'date_createdIs_month_start', 'date_createdIs_quarter_end',\n",
              "       'date_createdIs_quarter_start', 'date_createdIs_year_end',\n",
              "       'date_createdIs_year_start', 'date_createdElapsed',\n",
              "       'Financial Services', 'Administration', 'Health And Social Care',\n",
              "       'Education', 'Information Technology', 'salary_type_1', 'salary_type_2',\n",
              "       'is_nationwide_0', 'is_branded_0', 'is_parttime_0', 'is_fulltime_0',\n",
              "       'is_exec_role_0', 'is_multilingual_0', 'is_public_0', 'is_graduate_0',\n",
              "       'show_sponsored_links_ads_0', 'eligible_uk_only_0'],\n",
              "      dtype='object')"
            ]
          },
          "metadata": {
            "tags": []
          },
          "execution_count": 108
        }
      ]
    },
    {
      "cell_type": "code",
      "metadata": {
        "id": "BdpbNCyAjK2e",
        "colab_type": "code",
        "colab": {
          "base_uri": "https://localhost:8080/",
          "height": 141
        },
        "outputId": "a9cbdcd4-80a2-4b44-c0a3-e456b6262d57"
      },
      "source": [
        "print(\"Data types and their frequency\\n{}\".format(df.dtypes.value_counts()))"
      ],
      "execution_count": null,
      "outputs": [
        {
          "output_type": "stream",
          "text": [
            "Data types and their frequency\n",
            "int64      21\n",
            "uint8      17\n",
            "bool        6\n",
            "object      5\n",
            "float64     3\n",
            "dtype: int64\n"
          ],
          "name": "stdout"
        }
      ]
    },
    {
      "cell_type": "code",
      "metadata": {
        "id": "UinnZT1x-St0",
        "colab_type": "code",
        "colab": {
          "base_uri": "https://localhost:8080/",
          "height": 123
        },
        "outputId": "bc7a0187-ea79-4451-96ba-79f9f6f92966"
      },
      "source": [
        "object_columns_df = df.select_dtypes(include=['object'])\n",
        "print(object_columns_df.iloc[0])"
      ],
      "execution_count": null,
      "outputs": [
        {
          "output_type": "stream",
          "text": [
            "job_title      Assistant Accountant - PLUS FULL STUDY SUPPORT\n",
            "postal_code                                                BD\n",
            "townname                                           Chichester\n",
            "countyname                                        West Sussex\n",
            "regionname                                 South East England\n",
            "Name: 0, dtype: object\n"
          ],
          "name": "stdout"
        }
      ]
    },
    {
      "cell_type": "code",
      "metadata": {
        "id": "M7pKb5AP_wRF",
        "colab_type": "code",
        "colab": {
          "base_uri": "https://localhost:8080/",
          "height": 407
        },
        "outputId": "4618ed22-89b4-4254-955b-cc3a8d3ada59"
      },
      "source": [
        "int_columns_df = df.select_dtypes(include=['int64'])\n",
        "print(int_columns_df.iloc[0])"
      ],
      "execution_count": null,
      "outputs": [
        {
          "output_type": "stream",
          "text": [
            "no_applicants                         21\n",
            "has_formatting                         1\n",
            "featured_job                           0\n",
            "cover_letter_preference_id             1\n",
            "has_screening_questions                0\n",
            "external_url                           1\n",
            "has_salary                             1\n",
            "has_skills                             0\n",
            "easy_apply                             0\n",
            "cover_letter                           1\n",
            "job_type                               1\n",
            "display_style                          1\n",
            "company_type                           1\n",
            "CatSalary_average                      1\n",
            "date_createdYear                    2017\n",
            "date_createdMonth                      7\n",
            "date_createdWeek                      28\n",
            "date_createdDay                       14\n",
            "date_createdDayofweek                  4\n",
            "date_createdDayofyear                195\n",
            "date_createdElapsed           1499990400\n",
            "Name: 0, dtype: int64\n"
          ],
          "name": "stdout"
        }
      ]
    },
    {
      "cell_type": "code",
      "metadata": {
        "id": "yEOb6GSS-uPR",
        "colab_type": "code",
        "colab": {
          "base_uri": "https://localhost:8080/",
          "height": 4781
        },
        "outputId": "48b7aaef-9a71-4d45-edf8-aab063e99251"
      },
      "source": [
        "cols = ['job_title', 'postal_code','townname', 'countyname', 'regionname']\n",
        "for name in cols:\n",
        "    print(name,':')\n",
        "    print(df[name].value_counts(),'\\n')"
      ],
      "execution_count": null,
      "outputs": [
        {
          "output_type": "stream",
          "text": [
            "job_title :\n",
            "Management Accountant                                                                   2151\n",
            "Accounts Assistant                                                                      2148\n",
            "Credit Controller                                                                       1496\n",
            "Finance Manager                                                                         1485\n",
            "Customer Service Advisor                                                                1261\n",
            "Financial Controller                                                                    1215\n",
            "Administrator                                                                           1097\n",
            "Assistant Accountant                                                                     971\n",
            "Purchase Ledger Clerk                                                                    927\n",
            "Sales Administrator                                                                      823\n",
            "Financial Accountant                                                                     784\n",
            "Finance Analyst                                                                          605\n",
            "Assistant Management Accountant                                                          599\n",
            "Support Worker                                                                           585\n",
            "Paraplanner                                                                              479\n",
            "Registered Nurse                                                                         458\n",
            "HR Advisor                                                                               439\n",
            "Receptionist                                                                             420\n",
            "Bookkeeper                                                                               402\n",
            "Customer Service Administrator                                                           401\n",
            "Accountant                                                                               397\n",
            "Science Teacher                                                                          370\n",
            "Maths Teacher                                                                            364\n",
            "HR Manager                                                                               359\n",
            "English Teacher                                                                          348\n",
            "Business Analyst                                                                         332\n",
            "Home Manager                                                                             329\n",
            "Office Administrator                                                                     327\n",
            "Accounts Senior                                                                          323\n",
            "Staff Nurse                                                                              300\n",
            "                                                                                        ... \n",
            "Administrator (IT Department)                                                              1\n",
            "Finnish Speaking Customer Service - Athens                                                 1\n",
            "Part-time Assistant Accountant                                                             1\n",
            "MDT and M&M Lead                                                                           1\n",
            "Credit Controller - Birchwood - Great Business / Team                                      1\n",
            "Senior C# Developer x 3                                                                    1\n",
            "Care Assistant (Nights)                                                                    1\n",
            "Recruitment Consultancy - Graduate, Trainee, Entry Level Recruitment Consultant            1\n",
            "Senior .NET Developer- C#, ASP.NET, MVC, SQL, Finance                                      1\n",
            "GRADUATE TRAINEE RECRUITMENT CONSULTANT                                                    1\n",
            "Web Developer - C#.NET, MVC, Angularjs, Digital x3                                         1\n",
            "Senior Developer, Warrington, £40,000 - £50,000                                            1\n",
            "Senior Regulatory Affairs Manager - OTC                                                    1\n",
            "Full Stack Web Developer - PHP- London -£50k                                               1\n",
            "Maths Teacher - Thurrock Essex - September 2017                                            1\n",
            "3x Business System Analyst - Sunderland - Permanent - £35,000-50,000 p.a. + Benefits       1\n",
            "Recruitment Consultant - Trainee Headhunter needed for Tier One Investment Banks           1\n",
            "NAV Development Manager- London- £50,000                                                   1\n",
            "Live in Care Worker                                                                        1\n",
            "Financial Accountant - Basingstoke                                                         1\n",
            "Support Worker - Waking Nights                                                             1\n",
            "Paraplanner - Suffolk or Essex                                                             1\n",
            "Siebel Development Manager / Lead                                                          1\n",
            "Nurse - Endoscopy Unit Lead - Peterborough                                                 1\n",
            "Senior Accountant Newly Qualified role                                                     1\n",
            "Year 1/ Year 2/ Year 3 Teacher                                                             1\n",
            "C# Microservices Developer, TDD - GAIN Finance                                             1\n",
            "Recruitment Consultant with Polish                                                         1\n",
            "1st Class Graduate Credit Controller                                                       1\n",
            "Web Developer - C# / .Net - Royston, Hertfordshire - £35k                                  1\n",
            "Name: job_title, Length: 33791, dtype: int64 \n",
            "\n",
            "postal_code :\n",
            "e           18390\n",
            "M            3203\n",
            "EC           2543\n",
            "B            2294\n",
            "LS           1583\n",
            "RG           1483\n",
            "BS           1441\n",
            "S            1280\n",
            "GU           1232\n",
            "CV           1224\n",
            "E            1191\n",
            "SW           1062\n",
            "WC           1024\n",
            "WA            986\n",
            "NG            976\n",
            "RH            969\n",
            "W             958\n",
            "SK            912\n",
            "OX            888\n",
            "PE            881\n",
            "CM            850\n",
            "PO            827\n",
            "CB            824\n",
            "EH            823\n",
            "SO            821\n",
            "NN            814\n",
            "BN            793\n",
            "SE            793\n",
            "GL            783\n",
            "N             777\n",
            "            ...  \n",
            "HA5 1AA         1\n",
            "MK18            1\n",
            "NG18 2AH        1\n",
            "DA8 3HH         1\n",
            "KT6 7PZ         1\n",
            "E16 1AH         1\n",
            "SW19 4JS        1\n",
            "PE1 3NG         1\n",
            "UB6 7LH         1\n",
            "W1B 3AG         1\n",
            "LU4 9BA         1\n",
            "SK12 1SH        1\n",
            "HP19 8RY        1\n",
            "BT2 8LE         1\n",
            "YO11 2NP        1\n",
            "BH19 1PR        1\n",
            "PE1 1QL         1\n",
            "SE1 3HN         1\n",
            "S80 3LR         1\n",
            "WD25 8HL        1\n",
            "PE13 1RD        1\n",
            "HP9 2PJ         1\n",
            "CF3 2PX         1\n",
            "W1T 3BL         1\n",
            "CT2 8AN         1\n",
            "CR9 1HT         1\n",
            "CH3 7AP         1\n",
            "CF23            1\n",
            "AL3 4EL         1\n",
            "CB4 0WH         1\n",
            "Name: postal_code, Length: 5352, dtype: int64 \n",
            "\n",
            "townname :\n",
            "Tredegar               8821\n",
            "Treorchy               3261\n",
            "East Molesey           2800\n",
            "Enniskillen            2435\n",
            "e                      2100\n",
            "East Grinstead         1755\n",
            "Royston                1685\n",
            "Omagh                  1649\n",
            "Leek                   1550\n",
            "Bognor Regis           1543\n",
            "Llandinam              1325\n",
            "Chertsey               1250\n",
            "Taynuilt               1147\n",
            "Inverness              1122\n",
            "Manchester             1021\n",
            "Littleborough           983\n",
            "Ashton-Under-Lyne       959\n",
            "Alston                  887\n",
            "Crickhowell             803\n",
            "Haverhill               787\n",
            "Lincoln                 761\n",
            "Penzance                757\n",
            "Tonbridge               697\n",
            "Salford                 678\n",
            "Coleford                650\n",
            "Milnthorpe              635\n",
            "Shifnal                 634\n",
            "Crawley                 625\n",
            "Barnard Castle          602\n",
            "Leeds                   533\n",
            "                       ... \n",
            "Southwold                 1\n",
            "Gainsborough              1\n",
            "Shildon                   1\n",
            "Shetland                  1\n",
            "Oxted                     1\n",
            "Guisborough               1\n",
            "Beckenham                 1\n",
            "Willenhall                1\n",
            "Leiston                   1\n",
            "Biggar                    1\n",
            "Crowborough               1\n",
            "Torpoint                  1\n",
            "Munlochy                  1\n",
            "Pontypool                 1\n",
            "Bridlington               1\n",
            "Weybridge                 1\n",
            "Northolt                  1\n",
            "Stourport-On-Severn       1\n",
            "Evesham                   1\n",
            "Carrickfergus             1\n",
            "Cairndow                  1\n",
            "Wetherby                  1\n",
            "Nelson                    1\n",
            "Southwell                 1\n",
            "Horncastle                1\n",
            "Pulborough                1\n",
            "Wishaw                    1\n",
            "HIGH PEAK                 1\n",
            "Worksop                   1\n",
            "Hawick                    1\n",
            "Name: townname, Length: 844, dtype: int64 \n",
            "\n",
            "countyname :\n",
            "Gwent                 9214\n",
            "Lancashire            5603\n",
            "Surrey                4420\n",
            "West Sussex           4245\n",
            "Mid Glamorgan         3606\n",
            "Powys                 2767\n",
            "Cornwall              2614\n",
            "Cumbria               2596\n",
            "County Fermanagh      2435\n",
            "Hertfordshire         2254\n",
            "Kent                  2052\n",
            "Staffordshire         1879\n",
            "Suffolk               1744\n",
            "County Tyrone         1653\n",
            "Shropshire            1649\n",
            "Cheshire              1595\n",
            "Devon                 1558\n",
            "West Yorkshire        1518\n",
            "e                     1481\n",
            "West Midlands         1457\n",
            "Dorset                1427\n",
            "Inverness-Shire       1353\n",
            "County Durham         1331\n",
            "Wiltshire             1259\n",
            "Lincolnshire          1256\n",
            "Argyll                1225\n",
            "Somerset              1217\n",
            "Derbyshire            1183\n",
            "Dyfed                 1148\n",
            "Essex                 1093\n",
            "                      ... \n",
            "North Humberside       253\n",
            "Kirkcudbrightshire     236\n",
            "South Glamorgan        190\n",
            "West Lothian           183\n",
            "West Glamorgan         182\n",
            "Cambridgeshire         156\n",
            "Peeblesshire           155\n",
            "Selkirkshire           155\n",
            "Ayrshire               151\n",
            "County Antrim          142\n",
            "Herefordshire          137\n",
            "Wigtownshire           130\n",
            "Warwickshire           110\n",
            "Kincardineshire         93\n",
            "East Lothian            82\n",
            "County Armagh           81\n",
            "Middlesex               75\n",
            "Angus                   68\n",
            "County Derry            50\n",
            "Isle Of Wight           45\n",
            "South Humberside        38\n",
            "Roxburghshire           26\n",
            "Morayshire              24\n",
            "Dunbartonshire          15\n",
            "Berwickshire            15\n",
            "Rutland                 12\n",
            "Kinross-shire            9\n",
            "Channel Islands          6\n",
            "Clackmannanshire         4\n",
            "Shetland Islands         1\n",
            "Name: countyname, Length: 93, dtype: int64 \n",
            "\n",
            "regionname :\n",
            "e                           32606\n",
            "South East England          19654\n",
            "North West England          10295\n",
            "South West England           9564\n",
            "West Midlands (Region)       5879\n",
            "East Midlands                3710\n",
            "North East England           3107\n",
            "Yorkshire and Humberside     2829\n",
            "East Anglia                  2707\n",
            "Name: regionname, dtype: int64 \n",
            "\n"
          ],
          "name": "stdout"
        }
      ]
    },
    {
      "cell_type": "code",
      "metadata": {
        "id": "xVkONiOTkkJV",
        "colab_type": "code",
        "colab": {
          "base_uri": "https://localhost:8080/",
          "height": 1118
        },
        "outputId": "19d48617-181e-46e4-a660-cf06c02b7a96"
      },
      "source": [
        "cols = ['has_formatting', 'featured_job',\n",
        "       'cover_letter_preference_id', 'has_screening_questions', 'external_url',\n",
        "        'has_salary', 'has_skills', 'easy_apply', 'cover_letter',\n",
        "       'job_type', 'display_style', 'company_type']\n",
        "\n",
        "for name in cols:\n",
        "    print(name,':')\n",
        "    print(df[name].value_counts(),'\\n')"
      ],
      "execution_count": null,
      "outputs": [
        {
          "output_type": "stream",
          "text": [
            "has_formatting :\n",
            "1    59863\n",
            "0    30488\n",
            "Name: has_formatting, dtype: int64 \n",
            "\n",
            "featured_job :\n",
            "0    83609\n",
            "1     6742\n",
            "Name: featured_job, dtype: int64 \n",
            "\n",
            "cover_letter_preference_id :\n",
            "1    74542\n",
            "3    15235\n",
            "2      574\n",
            "Name: cover_letter_preference_id, dtype: int64 \n",
            "\n",
            "has_screening_questions :\n",
            "0    79819\n",
            "1    10532\n",
            "Name: has_screening_questions, dtype: int64 \n",
            "\n",
            "external_url :\n",
            "1    90351\n",
            "Name: external_url, dtype: int64 \n",
            "\n",
            "has_salary :\n",
            "1    88199\n",
            "0     2152\n",
            "Name: has_salary, dtype: int64 \n",
            "\n",
            "has_skills :\n",
            "0    90351\n",
            "Name: has_skills, dtype: int64 \n",
            "\n",
            "easy_apply :\n",
            "0    82941\n",
            "1     7410\n",
            "Name: easy_apply, dtype: int64 \n",
            "\n",
            "cover_letter :\n",
            "1    75116\n",
            "0    15235\n",
            "Name: cover_letter, dtype: int64 \n",
            "\n",
            "job_type :\n",
            "1    90348\n",
            "2        2\n",
            "4        1\n",
            "Name: job_type, dtype: int64 \n",
            "\n",
            "display_style :\n",
            "1    79847\n",
            "2     6742\n",
            "0     3762\n",
            "Name: display_style, dtype: int64 \n",
            "\n",
            "company_type :\n",
            "1    84752\n",
            "2     5477\n",
            "3      122\n",
            "Name: company_type, dtype: int64 \n",
            "\n"
          ],
          "name": "stdout"
        }
      ]
    },
    {
      "cell_type": "code",
      "metadata": {
        "id": "s3fDJBdQlE5g",
        "colab_type": "code",
        "colab": {}
      },
      "source": [
        "# dummy encoding\n",
        "df['has_formatting_0'] = pd.get_dummies(df['has_formatting'])[0]\n",
        "df['featured_job_0'] = pd.get_dummies(df['featured_job'])[0]\n",
        "df['cover_letter_preference_id_1'] = pd.get_dummies(df['cover_letter_preference_id'])[1]\n",
        "df['cover_letter_preference_id_2'] = pd.get_dummies(df['cover_letter_preference_id'])[2]\n",
        "df['has_screening_questions_0'] = pd.get_dummies(df['has_screening_questions'])[0]\n",
        "df['has_salary_0'] = pd.get_dummies(df['has_salary'])[0]\n",
        "df['easy_apply_0'] = pd.get_dummies(df['easy_apply'])[0]\n",
        "df['cover_letter_0'] = pd.get_dummies(df['cover_letter'])[0]\n",
        "df['job_type_1'] = pd.get_dummies(df['job_type'])[1]\n",
        "df['job_type_2'] = pd.get_dummies(df['job_type'])[2]\n",
        "df['display_style_1'] = pd.get_dummies(df['display_style'])[1]\n",
        "df['display_style_2'] = pd.get_dummies(df['display_style'])[2]\n",
        "df['company_type_1'] = pd.get_dummies(df['company_type'])[1]\n",
        "df['company_type_2'] = pd.get_dummies(df['company_type'])[2]"
      ],
      "execution_count": null,
      "outputs": []
    },
    {
      "cell_type": "code",
      "metadata": {
        "id": "narSrxMXmpRd",
        "colab_type": "code",
        "colab": {}
      },
      "source": [
        "# dropping the original column\n",
        "df = df.drop(['has_formatting', 'featured_job',\n",
        "       'cover_letter_preference_id', 'has_screening_questions', \n",
        "        'has_salary', 'easy_apply', 'cover_letter',\n",
        "       'job_type', 'display_style', 'company_type'], axis=1)"
      ],
      "execution_count": null,
      "outputs": []
    },
    {
      "cell_type": "code",
      "metadata": {
        "id": "nS5mO1CYm5Br",
        "colab_type": "code",
        "colab": {
          "base_uri": "https://localhost:8080/",
          "height": 256
        },
        "outputId": "800b26c8-e359-43f5-ea9e-51be858a0de3"
      },
      "source": [
        "df.head(2)"
      ],
      "execution_count": null,
      "outputs": [
        {
          "output_type": "execute_result",
          "data": {
            "text/html": [
              "<div>\n",
              "<style scoped>\n",
              "    .dataframe tbody tr th:only-of-type {\n",
              "        vertical-align: middle;\n",
              "    }\n",
              "\n",
              "    .dataframe tbody tr th {\n",
              "        vertical-align: top;\n",
              "    }\n",
              "\n",
              "    .dataframe thead th {\n",
              "        text-align: right;\n",
              "    }\n",
              "</style>\n",
              "<table border=\"1\" class=\"dataframe\">\n",
              "  <thead>\n",
              "    <tr style=\"text-align: right;\">\n",
              "      <th></th>\n",
              "      <th>job_title</th>\n",
              "      <th>no_applicants</th>\n",
              "      <th>external_url</th>\n",
              "      <th>postal_code</th>\n",
              "      <th>has_skills</th>\n",
              "      <th>townname</th>\n",
              "      <th>countyname</th>\n",
              "      <th>regionname</th>\n",
              "      <th>salary_average</th>\n",
              "      <th>CatSalary_average</th>\n",
              "      <th>log_salary</th>\n",
              "      <th>no_applicants_norm</th>\n",
              "      <th>date_createdYear</th>\n",
              "      <th>date_createdMonth</th>\n",
              "      <th>date_createdWeek</th>\n",
              "      <th>date_createdDay</th>\n",
              "      <th>date_createdDayofweek</th>\n",
              "      <th>date_createdDayofyear</th>\n",
              "      <th>date_createdIs_month_end</th>\n",
              "      <th>date_createdIs_month_start</th>\n",
              "      <th>date_createdIs_quarter_end</th>\n",
              "      <th>date_createdIs_quarter_start</th>\n",
              "      <th>date_createdIs_year_end</th>\n",
              "      <th>date_createdIs_year_start</th>\n",
              "      <th>date_createdElapsed</th>\n",
              "      <th>...</th>\n",
              "      <th>salary_type_2</th>\n",
              "      <th>is_nationwide_0</th>\n",
              "      <th>is_branded_0</th>\n",
              "      <th>is_parttime_0</th>\n",
              "      <th>is_fulltime_0</th>\n",
              "      <th>is_exec_role_0</th>\n",
              "      <th>is_multilingual_0</th>\n",
              "      <th>is_public_0</th>\n",
              "      <th>is_graduate_0</th>\n",
              "      <th>show_sponsored_links_ads_0</th>\n",
              "      <th>eligible_uk_only_0</th>\n",
              "      <th>has_formatting_0</th>\n",
              "      <th>featured_job_0</th>\n",
              "      <th>cover_letter_preference_id_1</th>\n",
              "      <th>cover_letter_preference_id_2</th>\n",
              "      <th>has_screening_questions_0</th>\n",
              "      <th>has_salary_0</th>\n",
              "      <th>easy_apply_0</th>\n",
              "      <th>cover_letter_0</th>\n",
              "      <th>job_type_1</th>\n",
              "      <th>job_type_2</th>\n",
              "      <th>display_style_1</th>\n",
              "      <th>display_style_2</th>\n",
              "      <th>company_type_1</th>\n",
              "      <th>company_type_2</th>\n",
              "    </tr>\n",
              "  </thead>\n",
              "  <tbody>\n",
              "    <tr>\n",
              "      <th>0</th>\n",
              "      <td>Assistant Accountant - PLUS FULL STUDY SUPPORT</td>\n",
              "      <td>21</td>\n",
              "      <td>1</td>\n",
              "      <td>BD</td>\n",
              "      <td>0</td>\n",
              "      <td>Chichester</td>\n",
              "      <td>West Sussex</td>\n",
              "      <td>South East England</td>\n",
              "      <td>23500.0</td>\n",
              "      <td>1</td>\n",
              "      <td>10.064798</td>\n",
              "      <td>3.091042</td>\n",
              "      <td>2017</td>\n",
              "      <td>7</td>\n",
              "      <td>28</td>\n",
              "      <td>14</td>\n",
              "      <td>4</td>\n",
              "      <td>195</td>\n",
              "      <td>False</td>\n",
              "      <td>False</td>\n",
              "      <td>False</td>\n",
              "      <td>False</td>\n",
              "      <td>False</td>\n",
              "      <td>False</td>\n",
              "      <td>1499990400</td>\n",
              "      <td>...</td>\n",
              "      <td>0</td>\n",
              "      <td>1</td>\n",
              "      <td>1</td>\n",
              "      <td>1</td>\n",
              "      <td>0</td>\n",
              "      <td>1</td>\n",
              "      <td>1</td>\n",
              "      <td>1</td>\n",
              "      <td>1</td>\n",
              "      <td>1</td>\n",
              "      <td>1</td>\n",
              "      <td>0</td>\n",
              "      <td>1</td>\n",
              "      <td>1</td>\n",
              "      <td>0</td>\n",
              "      <td>1</td>\n",
              "      <td>0</td>\n",
              "      <td>1</td>\n",
              "      <td>0</td>\n",
              "      <td>1</td>\n",
              "      <td>0</td>\n",
              "      <td>1</td>\n",
              "      <td>0</td>\n",
              "      <td>1</td>\n",
              "      <td>0</td>\n",
              "    </tr>\n",
              "    <tr>\n",
              "      <th>1</th>\n",
              "      <td>Credit Controller</td>\n",
              "      <td>6</td>\n",
              "      <td>1</td>\n",
              "      <td>M</td>\n",
              "      <td>0</td>\n",
              "      <td>Mold</td>\n",
              "      <td>Clwyd</td>\n",
              "      <td>e</td>\n",
              "      <td>19000.0</td>\n",
              "      <td>0</td>\n",
              "      <td>9.852247</td>\n",
              "      <td>1.945910</td>\n",
              "      <td>2017</td>\n",
              "      <td>4</td>\n",
              "      <td>17</td>\n",
              "      <td>27</td>\n",
              "      <td>3</td>\n",
              "      <td>117</td>\n",
              "      <td>False</td>\n",
              "      <td>False</td>\n",
              "      <td>False</td>\n",
              "      <td>False</td>\n",
              "      <td>False</td>\n",
              "      <td>False</td>\n",
              "      <td>1493251200</td>\n",
              "      <td>...</td>\n",
              "      <td>0</td>\n",
              "      <td>1</td>\n",
              "      <td>1</td>\n",
              "      <td>1</td>\n",
              "      <td>0</td>\n",
              "      <td>1</td>\n",
              "      <td>1</td>\n",
              "      <td>1</td>\n",
              "      <td>1</td>\n",
              "      <td>1</td>\n",
              "      <td>1</td>\n",
              "      <td>0</td>\n",
              "      <td>1</td>\n",
              "      <td>1</td>\n",
              "      <td>0</td>\n",
              "      <td>1</td>\n",
              "      <td>0</td>\n",
              "      <td>1</td>\n",
              "      <td>0</td>\n",
              "      <td>1</td>\n",
              "      <td>0</td>\n",
              "      <td>1</td>\n",
              "      <td>0</td>\n",
              "      <td>1</td>\n",
              "      <td>0</td>\n",
              "    </tr>\n",
              "  </tbody>\n",
              "</table>\n",
              "<p>2 rows × 56 columns</p>\n",
              "</div>"
            ],
            "text/plain": [
              "                                        job_title  no_applicants  \\\n",
              "0  Assistant Accountant - PLUS FULL STUDY SUPPORT             21   \n",
              "1                               Credit Controller              6   \n",
              "\n",
              "   external_url postal_code  has_skills    townname   countyname  \\\n",
              "0             1          BD           0  Chichester  West Sussex   \n",
              "1             1           M           0        Mold        Clwyd   \n",
              "\n",
              "           regionname  salary_average  CatSalary_average  log_salary  \\\n",
              "0  South East England         23500.0                  1   10.064798   \n",
              "1                   e         19000.0                  0    9.852247   \n",
              "\n",
              "   no_applicants_norm  date_createdYear  date_createdMonth  date_createdWeek  \\\n",
              "0            3.091042              2017                  7                28   \n",
              "1            1.945910              2017                  4                17   \n",
              "\n",
              "   date_createdDay  date_createdDayofweek  date_createdDayofyear  \\\n",
              "0               14                      4                    195   \n",
              "1               27                      3                    117   \n",
              "\n",
              "   date_createdIs_month_end  date_createdIs_month_start  \\\n",
              "0                     False                       False   \n",
              "1                     False                       False   \n",
              "\n",
              "   date_createdIs_quarter_end  date_createdIs_quarter_start  \\\n",
              "0                       False                         False   \n",
              "1                       False                         False   \n",
              "\n",
              "   date_createdIs_year_end  date_createdIs_year_start  date_createdElapsed  \\\n",
              "0                    False                      False           1499990400   \n",
              "1                    False                      False           1493251200   \n",
              "\n",
              "        ...        salary_type_2  is_nationwide_0  is_branded_0  \\\n",
              "0       ...                    0                1             1   \n",
              "1       ...                    0                1             1   \n",
              "\n",
              "   is_parttime_0  is_fulltime_0  is_exec_role_0  is_multilingual_0  \\\n",
              "0              1              0               1                  1   \n",
              "1              1              0               1                  1   \n",
              "\n",
              "   is_public_0  is_graduate_0  show_sponsored_links_ads_0  eligible_uk_only_0  \\\n",
              "0            1              1                           1                   1   \n",
              "1            1              1                           1                   1   \n",
              "\n",
              "   has_formatting_0  featured_job_0  cover_letter_preference_id_1  \\\n",
              "0                 0               1                             1   \n",
              "1                 0               1                             1   \n",
              "\n",
              "   cover_letter_preference_id_2  has_screening_questions_0  has_salary_0  \\\n",
              "0                             0                          1             0   \n",
              "1                             0                          1             0   \n",
              "\n",
              "   easy_apply_0  cover_letter_0  job_type_1  job_type_2  display_style_1  \\\n",
              "0             1               0           1           0                1   \n",
              "1             1               0           1           0                1   \n",
              "\n",
              "   display_style_2  company_type_1  company_type_2  \n",
              "0                0               1               0  \n",
              "1                0               1               0  \n",
              "\n",
              "[2 rows x 56 columns]"
            ]
          },
          "metadata": {
            "tags": []
          },
          "execution_count": 117
        }
      ]
    },
    {
      "cell_type": "code",
      "metadata": {
        "id": "SNmViA3oDCRY",
        "colab_type": "code",
        "colab": {
          "base_uri": "https://localhost:8080/",
          "height": 1101
        },
        "outputId": "c45cc2d9-3a4f-4820-8535-0ddc61746535"
      },
      "source": [
        "df.info()"
      ],
      "execution_count": null,
      "outputs": [
        {
          "output_type": "stream",
          "text": [
            "<class 'pandas.core.frame.DataFrame'>\n",
            "Int64Index: 90351 entries, 0 to 90350\n",
            "Data columns (total 56 columns):\n",
            "job_title                       90351 non-null object\n",
            "no_applicants                   90351 non-null int64\n",
            "external_url                    90351 non-null int64\n",
            "postal_code                     90351 non-null object\n",
            "has_skills                      90351 non-null int64\n",
            "townname                        90351 non-null object\n",
            "countyname                      90351 non-null object\n",
            "regionname                      90351 non-null object\n",
            "salary_average                  90351 non-null float64\n",
            "CatSalary_average               90351 non-null int64\n",
            "log_salary                      90351 non-null float64\n",
            "no_applicants_norm              90351 non-null float64\n",
            "date_createdYear                90351 non-null int64\n",
            "date_createdMonth               90351 non-null int64\n",
            "date_createdWeek                90351 non-null int64\n",
            "date_createdDay                 90351 non-null int64\n",
            "date_createdDayofweek           90351 non-null int64\n",
            "date_createdDayofyear           90351 non-null int64\n",
            "date_createdIs_month_end        90351 non-null bool\n",
            "date_createdIs_month_start      90351 non-null bool\n",
            "date_createdIs_quarter_end      90351 non-null bool\n",
            "date_createdIs_quarter_start    90351 non-null bool\n",
            "date_createdIs_year_end         90351 non-null bool\n",
            "date_createdIs_year_start       90351 non-null bool\n",
            "date_createdElapsed             90351 non-null int64\n",
            "Financial Services              90351 non-null uint8\n",
            "Administration                  90351 non-null uint8\n",
            "Health And Social Care          90351 non-null uint8\n",
            "Education                       90351 non-null uint8\n",
            "Information Technology          90351 non-null uint8\n",
            "salary_type_1                   90351 non-null uint8\n",
            "salary_type_2                   90351 non-null uint8\n",
            "is_nationwide_0                 90351 non-null uint8\n",
            "is_branded_0                    90351 non-null uint8\n",
            "is_parttime_0                   90351 non-null uint8\n",
            "is_fulltime_0                   90351 non-null uint8\n",
            "is_exec_role_0                  90351 non-null uint8\n",
            "is_multilingual_0               90351 non-null uint8\n",
            "is_public_0                     90351 non-null uint8\n",
            "is_graduate_0                   90351 non-null uint8\n",
            "show_sponsored_links_ads_0      90351 non-null uint8\n",
            "eligible_uk_only_0              90351 non-null uint8\n",
            "has_formatting_0                90351 non-null uint8\n",
            "featured_job_0                  90351 non-null uint8\n",
            "cover_letter_preference_id_1    90351 non-null uint8\n",
            "cover_letter_preference_id_2    90351 non-null uint8\n",
            "has_screening_questions_0       90351 non-null uint8\n",
            "has_salary_0                    90351 non-null uint8\n",
            "easy_apply_0                    90351 non-null uint8\n",
            "cover_letter_0                  90351 non-null uint8\n",
            "job_type_1                      90351 non-null uint8\n",
            "job_type_2                      90351 non-null uint8\n",
            "display_style_1                 90351 non-null uint8\n",
            "display_style_2                 90351 non-null uint8\n",
            "company_type_1                  90351 non-null uint8\n",
            "company_type_2                  90351 non-null uint8\n",
            "dtypes: bool(6), float64(3), int64(11), object(5), uint8(31)\n",
            "memory usage: 17.0+ MB\n"
          ],
          "name": "stdout"
        }
      ]
    },
    {
      "cell_type": "code",
      "metadata": {
        "id": "8ta3HUa3jbl3",
        "colab_type": "code",
        "colab": {}
      },
      "source": [
        "# Categorical boolean mask\n",
        "categorical_feature_mask = df.dtypes==object\n",
        "\n",
        "# filter categorical columns using mask and turn it into a list\n",
        "categorical_cols = df.columns[categorical_feature_mask].tolist()"
      ],
      "execution_count": null,
      "outputs": []
    },
    {
      "cell_type": "code",
      "metadata": {
        "id": "FMFgkpnVjjZA",
        "colab_type": "code",
        "colab": {}
      },
      "source": [
        "# import labelencoder\n",
        "from sklearn.preprocessing import LabelEncoder\n",
        "\n",
        "# instantiate labelencoder object\n",
        "le = LabelEncoder()"
      ],
      "execution_count": null,
      "outputs": []
    },
    {
      "cell_type": "code",
      "metadata": {
        "id": "V5GNIGkSjqc-",
        "colab_type": "code",
        "colab": {
          "base_uri": "https://localhost:8080/",
          "height": 347
        },
        "outputId": "74f48792-78bd-4619-e8a0-39a17e234f39"
      },
      "source": [
        "# apply le on categorical feature columns\n",
        "df[categorical_cols] = df[categorical_cols].apply(lambda col: le.fit_transform(col))\n",
        "df[categorical_cols].head(10)"
      ],
      "execution_count": null,
      "outputs": [
        {
          "output_type": "execute_result",
          "data": {
            "text/html": [
              "<div>\n",
              "<style scoped>\n",
              "    .dataframe tbody tr th:only-of-type {\n",
              "        vertical-align: middle;\n",
              "    }\n",
              "\n",
              "    .dataframe tbody tr th {\n",
              "        vertical-align: top;\n",
              "    }\n",
              "\n",
              "    .dataframe thead th {\n",
              "        text-align: right;\n",
              "    }\n",
              "</style>\n",
              "<table border=\"1\" class=\"dataframe\">\n",
              "  <thead>\n",
              "    <tr style=\"text-align: right;\">\n",
              "      <th></th>\n",
              "      <th>job_title</th>\n",
              "      <th>postal_code</th>\n",
              "      <th>townname</th>\n",
              "      <th>countyname</th>\n",
              "      <th>regionname</th>\n",
              "    </tr>\n",
              "  </thead>\n",
              "  <tbody>\n",
              "    <tr>\n",
              "      <th>0</th>\n",
              "      <td>2667</td>\n",
              "      <td>271</td>\n",
              "      <td>176</td>\n",
              "      <td>87</td>\n",
              "      <td>4</td>\n",
              "    </tr>\n",
              "    <tr>\n",
              "      <th>1</th>\n",
              "      <td>6517</td>\n",
              "      <td>2507</td>\n",
              "      <td>507</td>\n",
              "      <td>14</td>\n",
              "      <td>8</td>\n",
              "    </tr>\n",
              "    <tr>\n",
              "      <th>2</th>\n",
              "      <td>6517</td>\n",
              "      <td>3819</td>\n",
              "      <td>30</td>\n",
              "      <td>47</td>\n",
              "      <td>3</td>\n",
              "    </tr>\n",
              "    <tr>\n",
              "      <th>3</th>\n",
              "      <td>27533</td>\n",
              "      <td>4122</td>\n",
              "      <td>352</td>\n",
              "      <td>15</td>\n",
              "      <td>5</td>\n",
              "    </tr>\n",
              "    <tr>\n",
              "      <th>4</th>\n",
              "      <td>17799</td>\n",
              "      <td>2507</td>\n",
              "      <td>754</td>\n",
              "      <td>52</td>\n",
              "      <td>8</td>\n",
              "    </tr>\n",
              "    <tr>\n",
              "      <th>5</th>\n",
              "      <td>17799</td>\n",
              "      <td>1356</td>\n",
              "      <td>267</td>\n",
              "      <td>80</td>\n",
              "      <td>4</td>\n",
              "    </tr>\n",
              "    <tr>\n",
              "      <th>6</th>\n",
              "      <td>11051</td>\n",
              "      <td>5351</td>\n",
              "      <td>753</td>\n",
              "      <td>35</td>\n",
              "      <td>8</td>\n",
              "    </tr>\n",
              "    <tr>\n",
              "      <th>7</th>\n",
              "      <td>28643</td>\n",
              "      <td>3709</td>\n",
              "      <td>472</td>\n",
              "      <td>5</td>\n",
              "      <td>4</td>\n",
              "    </tr>\n",
              "    <tr>\n",
              "      <th>8</th>\n",
              "      <td>6209</td>\n",
              "      <td>1251</td>\n",
              "      <td>193</td>\n",
              "      <td>23</td>\n",
              "      <td>3</td>\n",
              "    </tr>\n",
              "    <tr>\n",
              "      <th>9</th>\n",
              "      <td>1178</td>\n",
              "      <td>5101</td>\n",
              "      <td>727</td>\n",
              "      <td>2</td>\n",
              "      <td>8</td>\n",
              "    </tr>\n",
              "  </tbody>\n",
              "</table>\n",
              "</div>"
            ],
            "text/plain": [
              "   job_title  postal_code  townname  countyname  regionname\n",
              "0       2667          271       176          87           4\n",
              "1       6517         2507       507          14           8\n",
              "2       6517         3819        30          47           3\n",
              "3      27533         4122       352          15           5\n",
              "4      17799         2507       754          52           8\n",
              "5      17799         1356       267          80           4\n",
              "6      11051         5351       753          35           8\n",
              "7      28643         3709       472           5           4\n",
              "8       6209         1251       193          23           3\n",
              "9       1178         5101       727           2           8"
            ]
          },
          "metadata": {
            "tags": []
          },
          "execution_count": 122
        }
      ]
    },
    {
      "cell_type": "code",
      "metadata": {
        "id": "6tYB2-Bwj0Ob",
        "colab_type": "code",
        "colab": {
          "base_uri": "https://localhost:8080/",
          "height": 1030
        },
        "outputId": "8ddb2ac8-1ae6-4843-b67d-767f4e20acee"
      },
      "source": [
        "df.dtypes"
      ],
      "execution_count": null,
      "outputs": [
        {
          "output_type": "execute_result",
          "data": {
            "text/plain": [
              "job_title                         int64\n",
              "no_applicants                     int64\n",
              "external_url                      int64\n",
              "postal_code                       int64\n",
              "has_skills                        int64\n",
              "townname                          int64\n",
              "countyname                        int64\n",
              "regionname                        int64\n",
              "salary_average                  float64\n",
              "CatSalary_average                 int64\n",
              "log_salary                      float64\n",
              "no_applicants_norm              float64\n",
              "date_createdYear                  int64\n",
              "date_createdMonth                 int64\n",
              "date_createdWeek                  int64\n",
              "date_createdDay                   int64\n",
              "date_createdDayofweek             int64\n",
              "date_createdDayofyear             int64\n",
              "date_createdIs_month_end           bool\n",
              "date_createdIs_month_start         bool\n",
              "date_createdIs_quarter_end         bool\n",
              "date_createdIs_quarter_start       bool\n",
              "date_createdIs_year_end            bool\n",
              "date_createdIs_year_start          bool\n",
              "date_createdElapsed               int64\n",
              "Financial Services                uint8\n",
              "Administration                    uint8\n",
              "Health And Social Care            uint8\n",
              "Education                         uint8\n",
              "Information Technology            uint8\n",
              "salary_type_1                     uint8\n",
              "salary_type_2                     uint8\n",
              "is_nationwide_0                   uint8\n",
              "is_branded_0                      uint8\n",
              "is_parttime_0                     uint8\n",
              "is_fulltime_0                     uint8\n",
              "is_exec_role_0                    uint8\n",
              "is_multilingual_0                 uint8\n",
              "is_public_0                       uint8\n",
              "is_graduate_0                     uint8\n",
              "show_sponsored_links_ads_0        uint8\n",
              "eligible_uk_only_0                uint8\n",
              "has_formatting_0                  uint8\n",
              "featured_job_0                    uint8\n",
              "cover_letter_preference_id_1      uint8\n",
              "cover_letter_preference_id_2      uint8\n",
              "has_screening_questions_0         uint8\n",
              "has_salary_0                      uint8\n",
              "easy_apply_0                      uint8\n",
              "cover_letter_0                    uint8\n",
              "job_type_1                        uint8\n",
              "job_type_2                        uint8\n",
              "display_style_1                   uint8\n",
              "display_style_2                   uint8\n",
              "company_type_1                    uint8\n",
              "company_type_2                    uint8\n",
              "dtype: object"
            ]
          },
          "metadata": {
            "tags": []
          },
          "execution_count": 124
        }
      ]
    },
    {
      "cell_type": "code",
      "metadata": {
        "id": "vSp0ZBhgnjOW",
        "colab_type": "code",
        "colab": {
          "base_uri": "https://localhost:8080/",
          "height": 354
        },
        "outputId": "9722e883-fe3d-4696-dc24-89536fc451ca"
      },
      "source": [
        "df.columns"
      ],
      "execution_count": null,
      "outputs": [
        {
          "output_type": "execute_result",
          "data": {
            "text/plain": [
              "Index(['job_title', 'no_applicants', 'external_url', 'postal_code',\n",
              "       'has_skills', 'townname', 'countyname', 'regionname', 'salary_average',\n",
              "       'CatSalary_average', 'log_salary', 'no_applicants_norm',\n",
              "       'date_createdYear', 'date_createdMonth', 'date_createdWeek',\n",
              "       'date_createdDay', 'date_createdDayofweek', 'date_createdDayofyear',\n",
              "       'date_createdIs_month_end', 'date_createdIs_month_start',\n",
              "       'date_createdIs_quarter_end', 'date_createdIs_quarter_start',\n",
              "       'date_createdIs_year_end', 'date_createdIs_year_start',\n",
              "       'date_createdElapsed', 'Financial Services', 'Administration',\n",
              "       'Health And Social Care', 'Education', 'Information Technology',\n",
              "       'salary_type_1', 'salary_type_2', 'is_nationwide_0', 'is_branded_0',\n",
              "       'is_parttime_0', 'is_fulltime_0', 'is_exec_role_0', 'is_multilingual_0',\n",
              "       'is_public_0', 'is_graduate_0', 'show_sponsored_links_ads_0',\n",
              "       'eligible_uk_only_0', 'has_formatting_0', 'featured_job_0',\n",
              "       'cover_letter_preference_id_1', 'cover_letter_preference_id_2',\n",
              "       'has_screening_questions_0', 'has_salary_0', 'easy_apply_0',\n",
              "       'cover_letter_0', 'job_type_1', 'job_type_2', 'display_style_1',\n",
              "       'display_style_2', 'company_type_1', 'company_type_2'],\n",
              "      dtype='object')"
            ]
          },
          "metadata": {
            "tags": []
          },
          "execution_count": 125
        }
      ]
    },
    {
      "cell_type": "code",
      "metadata": {
        "id": "OWx9CwcSz3mA",
        "colab_type": "code",
        "colab": {}
      },
      "source": [
        "x = df[['job_title', 'external_url', 'postal_code',\n",
        "       'has_skills', 'townname', 'countyname', 'regionname', 'salary_average',\n",
        "       'CatSalary_average', 'log_salary', \n",
        "       'date_createdYear', 'date_createdMonth', 'date_createdWeek',\n",
        "       'date_createdDay', 'date_createdDayofweek', 'date_createdDayofyear',\n",
        "       'date_createdIs_month_end', 'date_createdIs_month_start',\n",
        "       'date_createdIs_quarter_end', 'date_createdIs_quarter_start',\n",
        "       'date_createdIs_year_end', 'date_createdIs_year_start',\n",
        "       'date_createdElapsed', 'Financial Services', 'Administration',\n",
        "       'Health And Social Care', 'Education', 'Information Technology',\n",
        "       'salary_type_1', 'salary_type_2', 'is_nationwide_0', 'is_branded_0',\n",
        "       'is_parttime_0', 'is_fulltime_0', 'is_exec_role_0', 'is_multilingual_0',\n",
        "       'is_public_0', 'is_graduate_0', 'show_sponsored_links_ads_0',\n",
        "       'eligible_uk_only_0', 'has_formatting_0', 'featured_job_0',\n",
        "       'cover_letter_preference_id_1', 'cover_letter_preference_id_2',\n",
        "       'has_screening_questions_0', 'has_salary_0', 'easy_apply_0',\n",
        "       'cover_letter_0', 'job_type_1', 'job_type_2', 'display_style_1',\n",
        "       'display_style_2', 'company_type_1', 'company_type_2']]\n",
        "\n",
        "y = df['no_applicants']"
      ],
      "execution_count": null,
      "outputs": []
    },
    {
      "cell_type": "code",
      "metadata": {
        "id": "_hqgo0RO0P_N",
        "colab_type": "code",
        "colab": {}
      },
      "source": [
        "x_train,x_test,y_train, y_test = train_test_split(x, y, test_size=0.2, random_state=42)"
      ],
      "execution_count": null,
      "outputs": []
    },
    {
      "cell_type": "code",
      "metadata": {
        "id": "z-yrjVH60VUG",
        "colab_type": "code",
        "colab": {
          "base_uri": "https://localhost:8080/",
          "height": 34
        },
        "outputId": "7619d2a7-3dd2-467b-94ad-413ccfb59871"
      },
      "source": [
        "y_test.count()"
      ],
      "execution_count": null,
      "outputs": [
        {
          "output_type": "execute_result",
          "data": {
            "text/plain": [
              "18071"
            ]
          },
          "metadata": {
            "tags": []
          },
          "execution_count": 152
        }
      ]
    },
    {
      "cell_type": "code",
      "metadata": {
        "id": "Xzyw92UO0ZNs",
        "colab_type": "code",
        "colab": {
          "base_uri": "https://localhost:8080/",
          "height": 354
        },
        "outputId": "1ca85b07-3546-413e-e4d2-bbf1fcb289df"
      },
      "source": [
        "x_test.columns"
      ],
      "execution_count": null,
      "outputs": [
        {
          "output_type": "execute_result",
          "data": {
            "text/plain": [
              "Index(['job_title', 'external_url', 'postal_code', 'has_skills', 'townname',\n",
              "       'countyname', 'regionname', 'salary_average', 'CatSalary_average',\n",
              "       'log_salary', 'date_createdYear', 'date_createdMonth',\n",
              "       'date_createdWeek', 'date_createdDay', 'date_createdDayofweek',\n",
              "       'date_createdDayofyear', 'date_createdIs_month_end',\n",
              "       'date_createdIs_month_start', 'date_createdIs_quarter_end',\n",
              "       'date_createdIs_quarter_start', 'date_createdIs_year_end',\n",
              "       'date_createdIs_year_start', 'date_createdElapsed',\n",
              "       'Financial Services', 'Administration', 'Health And Social Care',\n",
              "       'Education', 'Information Technology', 'salary_type_1', 'salary_type_2',\n",
              "       'is_nationwide_0', 'is_branded_0', 'is_parttime_0', 'is_fulltime_0',\n",
              "       'is_exec_role_0', 'is_multilingual_0', 'is_public_0', 'is_graduate_0',\n",
              "       'show_sponsored_links_ads_0', 'eligible_uk_only_0', 'has_formatting_0',\n",
              "       'featured_job_0', 'cover_letter_preference_id_1',\n",
              "       'cover_letter_preference_id_2', 'has_screening_questions_0',\n",
              "       'has_salary_0', 'easy_apply_0', 'cover_letter_0', 'job_type_1',\n",
              "       'job_type_2', 'display_style_1', 'display_style_2', 'company_type_1',\n",
              "       'company_type_2'],\n",
              "      dtype='object')"
            ]
          },
          "metadata": {
            "tags": []
          },
          "execution_count": 153
        }
      ]
    },
    {
      "cell_type": "code",
      "metadata": {
        "id": "8KQxvj_T0dsm",
        "colab_type": "code",
        "colab": {
          "base_uri": "https://localhost:8080/",
          "height": 70
        },
        "outputId": "08240474-3b4a-4f93-f6ab-eae1ab1290a7"
      },
      "source": [
        "reg = linear_model.LinearRegression(normalize=True)\n",
        "lasso = linear_model.Lasso(normalize=True)\n",
        "reg.fit(x_train,y_train)\n",
        "lasso.fit(x_train,y_train)"
      ],
      "execution_count": null,
      "outputs": [
        {
          "output_type": "execute_result",
          "data": {
            "text/plain": [
              "Lasso(alpha=1.0, copy_X=True, fit_intercept=True, max_iter=1000,\n",
              "   normalize=True, positive=False, precompute=False, random_state=None,\n",
              "   selection='cyclic', tol=0.0001, warm_start=False)"
            ]
          },
          "metadata": {
            "tags": []
          },
          "execution_count": 154
        }
      ]
    },
    {
      "cell_type": "code",
      "metadata": {
        "id": "JQsaMztY1jOi",
        "colab_type": "code",
        "colab": {
          "base_uri": "https://localhost:8080/",
          "height": 158
        },
        "outputId": "d8fdd45c-d416-4055-f8f6-4a60a92ce157"
      },
      "source": [
        "reg.coef_"
      ],
      "execution_count": null,
      "outputs": [
        {
          "output_type": "execute_result",
          "data": {
            "text/plain": [
              "array([-2.67404e-04,  1.37235e+15,  1.12129e-03,  7.53243e+13,  3.04317e-03,  5.45120e-02,  6.45510e-01,\n",
              "       -3.41836e-05, -1.04185e+00,  2.47966e+00, -2.20203e+13, -1.48194e+01,  4.01001e+08, -4.87526e-01,\n",
              "        5.72858e+07,  2.97667e+09,  1.18663e+00,  1.16179e+00, -3.29185e+00,  5.43808e+00,  1.61750e+12,\n",
              "       -2.08520e+10, -3.51152e+04, -2.42712e+00,  2.89921e+01, -2.19734e+01, -2.68763e+01, -1.37515e+01,\n",
              "       -4.39829e+00,  2.98467e+00, -5.17628e+01, -5.28177e+11, -5.28894e+00,  2.61827e+00,  2.36460e+00,\n",
              "        9.04687e+00, -7.73765e+00, -2.03003e+00,  1.15756e+00,  1.13060e+00, -3.82136e-01,  9.24562e+11,\n",
              "        1.99789e+12,  1.99789e+12, -1.73951e+00,  1.05561e+01, -7.57223e+00,  1.99789e+12,  3.71316e+01,\n",
              "        4.52444e+01, -1.29445e+00,  9.24562e+11, -3.65950e+00, -3.26280e+00])"
            ]
          },
          "metadata": {
            "tags": []
          },
          "execution_count": 155
        }
      ]
    },
    {
      "cell_type": "code",
      "metadata": {
        "id": "IS-LdsF21l-x",
        "colab_type": "code",
        "colab": {
          "base_uri": "https://localhost:8080/",
          "height": 70
        },
        "outputId": "3cc568ad-1248-4809-e923-0e39467abe5a"
      },
      "source": [
        "lasso.coef_"
      ],
      "execution_count": null,
      "outputs": [
        {
          "output_type": "execute_result",
          "data": {
            "text/plain": [
              "array([-0.,  0.,  0.,  0.,  0.,  0.,  0., -0., -0.,  0.,  0.,  0.,  0.,  0., -0.,  0.,  0.,  0., -0.,  0.,\n",
              "        0.,  0.,  0.,  0.,  0., -0., -0., -0., -0., -0., -0.,  0.,  0.,  0.,  0.,  0.,  0.,  0., -0.,  0.,\n",
              "       -0., -0., -0.,  0., -0., -0., -0.,  0., -0.,  0., -0.,  0., -0.,  0.])"
            ]
          },
          "metadata": {
            "tags": []
          },
          "execution_count": 156
        }
      ]
    },
    {
      "cell_type": "code",
      "metadata": {
        "id": "59AAfWPb1qT3",
        "colab_type": "code",
        "colab": {}
      },
      "source": [
        "pred = reg.predict(x_test)\n",
        "pred_train = reg.predict(x_train)\n",
        "\n",
        "lpred = lasso.predict(x_test)\n",
        "lpred_train = lasso.predict(x_train)"
      ],
      "execution_count": null,
      "outputs": []
    },
    {
      "cell_type": "code",
      "metadata": {
        "id": "rBV-Vhli1un9",
        "colab_type": "code",
        "colab": {
          "base_uri": "https://localhost:8080/",
          "height": 286
        },
        "outputId": "6bf0e6be-e326-47a7-b4b8-451a25d7816c"
      },
      "source": [
        "LRerror = y_test - pred\n",
        "plt.scatter(y_test, LRerror)\n",
        "#plt.ylim(-400,400)\n",
        "#plt.xlim(0,450)"
      ],
      "execution_count": null,
      "outputs": [
        {
          "output_type": "execute_result",
          "data": {
            "text/plain": [
              "<matplotlib.collections.PathCollection at 0x7fe4d50a7978>"
            ]
          },
          "metadata": {
            "tags": []
          },
          "execution_count": 158
        },
        {
          "output_type": "display_data",
          "data": {
            "image/png": "[encoded data removed]",
            "text/plain": [
              "<Figure size 432x288 with 1 Axes>"
            ]
          },
          "metadata": {
            "tags": []
          }
        }
      ]
    },
    {
      "cell_type": "code",
      "metadata": {
        "id": "b7xUVKH41yce",
        "colab_type": "code",
        "colab": {
          "base_uri": "https://localhost:8080/",
          "height": 286
        },
        "outputId": "6bcf73ff-bab3-47c2-e4f4-108819f9b9d2"
      },
      "source": [
        "LSerror = y_test - lpred\n",
        "plt.scatter(y_test, LSerror)\n",
        "plt.ylim(-400,400)\n",
        "plt.xlim(0,450)"
      ],
      "execution_count": null,
      "outputs": [
        {
          "output_type": "execute_result",
          "data": {
            "text/plain": [
              "(0, 450)"
            ]
          },
          "metadata": {
            "tags": []
          },
          "execution_count": 159
        },
        {
          "output_type": "display_data",
          "data": {
            "image/png": "[encoded data removed]",
            "text/plain": [
              "<Figure size 432x288 with 1 Axes>"
            ]
          },
          "metadata": {
            "tags": []
          }
        }
      ]
    },
    {
      "cell_type": "code",
      "metadata": {
        "id": "veRvshVj12UN",
        "colab_type": "code",
        "colab": {}
      },
      "source": [
        "testScore = r2_score(y_pred=pred,y_true=y_test)\n",
        "trainScore = r2_score(y_pred=pred_train,y_true=y_train)\n",
        "\n",
        "ltestScore = r2_score(y_pred=lpred,y_true=y_test)\n",
        "ltrainScore = r2_score(y_pred=lpred_train,y_true=y_train)"
      ],
      "execution_count": null,
      "outputs": []
    },
    {
      "cell_type": "code",
      "metadata": {
        "id": "I1MzwvjM175O",
        "colab_type": "code",
        "colab": {
          "base_uri": "https://localhost:8080/",
          "height": 107
        },
        "outputId": "90db5e3c-f98c-4946-c821-a103a88c1bf7"
      },
      "source": [
        "lrResults = pd.DataFrame()\n",
        "\n",
        "lrResults['Score'] = [trainScore,testScore]\n",
        "lrResults['Step'] = ['train','test']\n",
        "\n",
        "lrResults"
      ],
      "execution_count": null,
      "outputs": [
        {
          "output_type": "execute_result",
          "data": {
            "text/html": [
              "<div>\n",
              "<style scoped>\n",
              "    .dataframe tbody tr th:only-of-type {\n",
              "        vertical-align: middle;\n",
              "    }\n",
              "\n",
              "    .dataframe tbody tr th {\n",
              "        vertical-align: top;\n",
              "    }\n",
              "\n",
              "    .dataframe thead th {\n",
              "        text-align: right;\n",
              "    }\n",
              "</style>\n",
              "<table border=\"1\" class=\"dataframe\">\n",
              "  <thead>\n",
              "    <tr style=\"text-align: right;\">\n",
              "      <th></th>\n",
              "      <th>Score</th>\n",
              "      <th>Step</th>\n",
              "    </tr>\n",
              "  </thead>\n",
              "  <tbody>\n",
              "    <tr>\n",
              "      <th>0</th>\n",
              "      <td>0.119451</td>\n",
              "      <td>train</td>\n",
              "    </tr>\n",
              "    <tr>\n",
              "      <th>1</th>\n",
              "      <td>0.125744</td>\n",
              "      <td>test</td>\n",
              "    </tr>\n",
              "  </tbody>\n",
              "</table>\n",
              "</div>"
            ],
            "text/plain": [
              "      Score   Step\n",
              "0  0.119451  train\n",
              "1  0.125744   test"
            ]
          },
          "metadata": {
            "tags": []
          },
          "execution_count": 161
        }
      ]
    },
    {
      "cell_type": "code",
      "metadata": {
        "id": "uebnA1pK1_tz",
        "colab_type": "code",
        "colab": {
          "base_uri": "https://localhost:8080/",
          "height": 107
        },
        "outputId": "d11ec35c-9338-4fdf-e8d6-1bfed1433c05"
      },
      "source": [
        "lassoResults = pd.DataFrame()\n",
        "\n",
        "lassoResults['Score'] = [ltrainScore,ltestScore]\n",
        "lassoResults['Step'] = ['train','test']\n",
        "\n",
        "lassoResults"
      ],
      "execution_count": null,
      "outputs": [
        {
          "output_type": "execute_result",
          "data": {
            "text/html": [
              "<div>\n",
              "<style scoped>\n",
              "    .dataframe tbody tr th:only-of-type {\n",
              "        vertical-align: middle;\n",
              "    }\n",
              "\n",
              "    .dataframe tbody tr th {\n",
              "        vertical-align: top;\n",
              "    }\n",
              "\n",
              "    .dataframe thead th {\n",
              "        text-align: right;\n",
              "    }\n",
              "</style>\n",
              "<table border=\"1\" class=\"dataframe\">\n",
              "  <thead>\n",
              "    <tr style=\"text-align: right;\">\n",
              "      <th></th>\n",
              "      <th>Score</th>\n",
              "      <th>Step</th>\n",
              "    </tr>\n",
              "  </thead>\n",
              "  <tbody>\n",
              "    <tr>\n",
              "      <th>0</th>\n",
              "      <td>0.000000e+00</td>\n",
              "      <td>train</td>\n",
              "    </tr>\n",
              "    <tr>\n",
              "      <th>1</th>\n",
              "      <td>-1.288900e-07</td>\n",
              "      <td>test</td>\n",
              "    </tr>\n",
              "  </tbody>\n",
              "</table>\n",
              "</div>"
            ],
            "text/plain": [
              "          Score   Step\n",
              "0  0.000000e+00  train\n",
              "1 -1.288900e-07   test"
            ]
          },
          "metadata": {
            "tags": []
          },
          "execution_count": 162
        }
      ]
    },
    {
      "cell_type": "code",
      "metadata": {
        "id": "JTNnOAzs2EGl",
        "colab_type": "code",
        "colab": {
          "base_uri": "https://localhost:8080/",
          "height": 312
        },
        "outputId": "de2a0af9-9fe9-4902-b35d-6b1a1ec69d13"
      },
      "source": [
        "sns.pointplot(y=lrResults['Score'],x=lrResults['Step'])\n",
        "\n",
        "plt.ylim([-.1,1])\n",
        "plt.title('R^2 Scores')"
      ],
      "execution_count": null,
      "outputs": [
        {
          "output_type": "execute_result",
          "data": {
            "text/plain": [
              "Text(0.5, 1.0, 'R^2 Scores')"
            ]
          },
          "metadata": {
            "tags": []
          },
          "execution_count": 163
        },
        {
          "output_type": "display_data",
          "data": {
            "image/png": "[encoded data removed]",
            "text/plain": [
              "<Figure size 432x288 with 1 Axes>"
            ]
          },
          "metadata": {
            "tags": []
          }
        }
      ]
    },
    {
      "cell_type": "code",
      "metadata": {
        "id": "mEvQjh5M2Kcm",
        "colab_type": "code",
        "colab": {
          "base_uri": "https://localhost:8080/",
          "height": 70
        },
        "outputId": "4b931fc3-c0f0-41d9-e88e-d7d930c935c8"
      },
      "source": [
        "rf = RandomForestRegressor(n_estimators=500,min_samples_split=10)\n",
        "\n",
        "rf.fit(x_train,y_train)\n",
        "\n",
        "RandomForestRegressor(bootstrap=True, criterion='mse', max_depth=None,\n",
        "           max_features='auto', max_leaf_nodes=None,\n",
        "           min_impurity_split=1e-07, min_samples_leaf=1,\n",
        "           min_samples_split=10, min_weight_fraction_leaf=0.0,\n",
        "           n_estimators=500, n_jobs=1, oob_score=False, random_state=None,\n",
        "           verbose=0, warm_start=False)\n",
        "\n",
        "predicted_train = rf.predict(x_train)\n",
        "predicted_test = rf.predict(x_test)\n",
        "\n",
        "test_score = r2_score(y_test, predicted_test)\n",
        "spearman = spearmanr(y_test, predicted_test)\n",
        "pearson = pearsonr(y_test, predicted_test)\n",
        "\n",
        "print(\"Test data R-2 score: {}\".format(test_score))\n",
        "print(\"Test data Spearman correlation: {}\".format(spearman[0]))\n",
        "print(\"Test data Pearson correlation: {}\".format(pearson[0]))"
      ],
      "execution_count": null,
      "outputs": [
        {
          "output_type": "stream",
          "text": [
            "Test data R-2 score: 0.5724319525769485\n",
            "Test data Spearman correlation: 0.8389156969525909\n",
            "Test data Pearson correlation: 0.7568531407358647\n"
          ],
          "name": "stdout"
        }
      ]
    },
    {
      "cell_type": "code",
      "metadata": {
        "id": "WtMMWbwu2ZgN",
        "colab_type": "code",
        "colab": {
          "base_uri": "https://localhost:8080/",
          "height": 87
        },
        "outputId": "1948d01b-5bd6-42cf-b756-be877a5849cf"
      },
      "source": [
        "train_score = r2_score(y_train, predicted_train)\n",
        "spearmanTrain = spearmanr(y_train, predicted_train)\n",
        "pearsonTrain = pearsonr(y_train, predicted_train)\n",
        "\n",
        "print(' ')\n",
        "\n",
        "print(\"Train data R-2 score: {}\".format(train_score))\n",
        "print(\"Train data Spearman correlation: {}\".format(spearmanTrain[0]))\n",
        "print(\"Train data Pearson correlation: {}\".format(pearsonTrain[0]))"
      ],
      "execution_count": null,
      "outputs": [
        {
          "output_type": "stream",
          "text": [
            " \n",
            "Train data R-2 score: 0.8323929052902822\n",
            "Train data Spearman correlation: 0.932620158925729\n",
            "Train data Pearson correlation: 0.9200499588081661\n"
          ],
          "name": "stdout"
        }
      ]
    },
    {
      "cell_type": "code",
      "metadata": {
        "id": "TgU0ptnfeLXa",
        "colab_type": "code",
        "colab": {
          "base_uri": "https://localhost:8080/",
          "height": 107
        },
        "outputId": "a21eb14b-bf3e-457b-cbc3-96df78d6e145"
      },
      "source": [
        "RFperf = pd.DataFrame()\n",
        "\n",
        "RFperf['Score'] = [train_score,test_score]\n",
        "RFperf['Step'] = ['train','test']\n",
        "\n",
        "RFperf"
      ],
      "execution_count": null,
      "outputs": [
        {
          "output_type": "execute_result",
          "data": {
            "text/html": [
              "<div>\n",
              "<style scoped>\n",
              "    .dataframe tbody tr th:only-of-type {\n",
              "        vertical-align: middle;\n",
              "    }\n",
              "\n",
              "    .dataframe tbody tr th {\n",
              "        vertical-align: top;\n",
              "    }\n",
              "\n",
              "    .dataframe thead th {\n",
              "        text-align: right;\n",
              "    }\n",
              "</style>\n",
              "<table border=\"1\" class=\"dataframe\">\n",
              "  <thead>\n",
              "    <tr style=\"text-align: right;\">\n",
              "      <th></th>\n",
              "      <th>Score</th>\n",
              "      <th>Step</th>\n",
              "    </tr>\n",
              "  </thead>\n",
              "  <tbody>\n",
              "    <tr>\n",
              "      <th>0</th>\n",
              "      <td>0.832393</td>\n",
              "      <td>train</td>\n",
              "    </tr>\n",
              "    <tr>\n",
              "      <th>1</th>\n",
              "      <td>0.572432</td>\n",
              "      <td>test</td>\n",
              "    </tr>\n",
              "  </tbody>\n",
              "</table>\n",
              "</div>"
            ],
            "text/plain": [
              "      Score   Step\n",
              "0  0.832393  train\n",
              "1  0.572432   test"
            ]
          },
          "metadata": {
            "tags": []
          },
          "execution_count": 166
        }
      ]
    },
    {
      "cell_type": "code",
      "metadata": {
        "id": "XHhdU1nr2nmn",
        "colab_type": "code",
        "colab": {
          "base_uri": "https://localhost:8080/",
          "height": 294
        },
        "outputId": "e35ff4e3-6182-4134-dc9e-e39c3e56ef64"
      },
      "source": [
        "sns.pointplot(y=RFperf['Score'],x=RFperf['Step'],color='Red')\n",
        "\n",
        "plt.ylim([-.1,1])\n",
        "plt.title('R^2 Scores')\n",
        "plt.savefig('RFScores.png',bbox_inches='tight')"
      ],
      "execution_count": null,
      "outputs": [
        {
          "output_type": "display_data",
          "data": {
            "image/png": "[encoded data removed]",
            "text/plain": [
              "<Figure size 432x288 with 1 Axes>"
            ]
          },
          "metadata": {
            "tags": []
          }
        }
      ]
    },
    {
      "cell_type": "code",
      "metadata": {
        "id": "JsB8iUGO2tm9",
        "colab_type": "code",
        "colab": {
          "base_uri": "https://localhost:8080/",
          "height": 497
        },
        "outputId": "b0e1473d-0422-4cd3-8a77-4caa8a660439"
      },
      "source": [
        "# Important Variables\n",
        "predicted_test = rf.predict(x_test)\n",
        "\n",
        "fI = pd.DataFrame()\n",
        "fI['Variable'] = list(x_train.columns)\n",
        "fI['Importance'] = rf.feature_importances_\n",
        "fI.sort_values(by='Importance',ascending=False)[0:15]"
      ],
      "execution_count": null,
      "outputs": [
        {
          "output_type": "execute_result",
          "data": {
            "text/html": [
              "<div>\n",
              "<style scoped>\n",
              "    .dataframe tbody tr th:only-of-type {\n",
              "        vertical-align: middle;\n",
              "    }\n",
              "\n",
              "    .dataframe tbody tr th {\n",
              "        vertical-align: top;\n",
              "    }\n",
              "\n",
              "    .dataframe thead th {\n",
              "        text-align: right;\n",
              "    }\n",
              "</style>\n",
              "<table border=\"1\" class=\"dataframe\">\n",
              "  <thead>\n",
              "    <tr style=\"text-align: right;\">\n",
              "      <th></th>\n",
              "      <th>Variable</th>\n",
              "      <th>Importance</th>\n",
              "    </tr>\n",
              "  </thead>\n",
              "  <tbody>\n",
              "    <tr>\n",
              "      <th>0</th>\n",
              "      <td>job_title</td>\n",
              "      <td>0.252673</td>\n",
              "    </tr>\n",
              "    <tr>\n",
              "      <th>24</th>\n",
              "      <td>Administration</td>\n",
              "      <td>0.162091</td>\n",
              "    </tr>\n",
              "    <tr>\n",
              "      <th>2</th>\n",
              "      <td>postal_code</td>\n",
              "      <td>0.074639</td>\n",
              "    </tr>\n",
              "    <tr>\n",
              "      <th>5</th>\n",
              "      <td>countyname</td>\n",
              "      <td>0.072813</td>\n",
              "    </tr>\n",
              "    <tr>\n",
              "      <th>9</th>\n",
              "      <td>log_salary</td>\n",
              "      <td>0.070309</td>\n",
              "    </tr>\n",
              "    <tr>\n",
              "      <th>7</th>\n",
              "      <td>salary_average</td>\n",
              "      <td>0.067832</td>\n",
              "    </tr>\n",
              "    <tr>\n",
              "      <th>4</th>\n",
              "      <td>townname</td>\n",
              "      <td>0.048672</td>\n",
              "    </tr>\n",
              "    <tr>\n",
              "      <th>13</th>\n",
              "      <td>date_createdDay</td>\n",
              "      <td>0.033251</td>\n",
              "    </tr>\n",
              "    <tr>\n",
              "      <th>23</th>\n",
              "      <td>Financial Services</td>\n",
              "      <td>0.029776</td>\n",
              "    </tr>\n",
              "    <tr>\n",
              "      <th>22</th>\n",
              "      <td>date_createdElapsed</td>\n",
              "      <td>0.023987</td>\n",
              "    </tr>\n",
              "    <tr>\n",
              "      <th>15</th>\n",
              "      <td>date_createdDayofyear</td>\n",
              "      <td>0.023416</td>\n",
              "    </tr>\n",
              "    <tr>\n",
              "      <th>14</th>\n",
              "      <td>date_createdDayofweek</td>\n",
              "      <td>0.017247</td>\n",
              "    </tr>\n",
              "    <tr>\n",
              "      <th>12</th>\n",
              "      <td>date_createdWeek</td>\n",
              "      <td>0.012122</td>\n",
              "    </tr>\n",
              "    <tr>\n",
              "      <th>6</th>\n",
              "      <td>regionname</td>\n",
              "      <td>0.012021</td>\n",
              "    </tr>\n",
              "    <tr>\n",
              "      <th>37</th>\n",
              "      <td>is_graduate_0</td>\n",
              "      <td>0.009545</td>\n",
              "    </tr>\n",
              "  </tbody>\n",
              "</table>\n",
              "</div>"
            ],
            "text/plain": [
              "                 Variable  Importance\n",
              "0               job_title    0.252673\n",
              "24         Administration    0.162091\n",
              "2             postal_code    0.074639\n",
              "5              countyname    0.072813\n",
              "9              log_salary    0.070309\n",
              "7          salary_average    0.067832\n",
              "4                townname    0.048672\n",
              "13        date_createdDay    0.033251\n",
              "23     Financial Services    0.029776\n",
              "22    date_createdElapsed    0.023987\n",
              "15  date_createdDayofyear    0.023416\n",
              "14  date_createdDayofweek    0.017247\n",
              "12       date_createdWeek    0.012122\n",
              "6              regionname    0.012021\n",
              "37          is_graduate_0    0.009545"
            ]
          },
          "metadata": {
            "tags": []
          },
          "execution_count": 168
        }
      ]
    },
    {
      "cell_type": "code",
      "metadata": {
        "id": "_dgSNCCR29i4",
        "colab_type": "code",
        "colab": {
          "base_uri": "https://localhost:8080/",
          "height": 283
        },
        "outputId": "2c652942-7085-46f7-b57d-76821a5dfc38"
      },
      "source": [
        "# Top variables for successful job posting\n",
        "topVars= list(fI.sort_values(by='Importance',ascending=False)[0:15]['Variable'])\n",
        "\n",
        "topVars"
      ],
      "execution_count": null,
      "outputs": [
        {
          "output_type": "execute_result",
          "data": {
            "text/plain": [
              "['job_title',\n",
              " 'Administration',\n",
              " 'postal_code',\n",
              " 'countyname',\n",
              " 'log_salary',\n",
              " 'salary_average',\n",
              " 'townname',\n",
              " 'date_createdDay',\n",
              " 'Financial Services',\n",
              " 'date_createdElapsed',\n",
              " 'date_createdDayofyear',\n",
              " 'date_createdDayofweek',\n",
              " 'date_createdWeek',\n",
              " 'regionname',\n",
              " 'is_graduate_0']"
            ]
          },
          "metadata": {
            "tags": []
          },
          "execution_count": 169
        }
      ]
    },
    {
      "cell_type": "code",
      "metadata": {
        "id": "STUYREd63Din",
        "colab_type": "code",
        "colab": {}
      },
      "source": [
        "x = df[topVars]\n",
        "x_train,x_test,y_train, y_test = train_test_split(x, y, test_size=0.3,random_state=50)"
      ],
      "execution_count": null,
      "outputs": []
    },
    {
      "cell_type": "code",
      "metadata": {
        "id": "BgHNfPK23HbB",
        "colab_type": "code",
        "colab": {
          "base_uri": "https://localhost:8080/",
          "height": 123
        },
        "outputId": "b316b81d-e76a-40dc-cbb4-d2cafc0f535d"
      },
      "source": [
        "rf = RandomForestRegressor(n_estimators=500,min_samples_split=15)\n",
        "\n",
        "rf.fit(x_train,y_train)\n",
        "\n",
        "RandomForestRegressor(bootstrap=True, criterion='mse', max_depth=None,\n",
        "           max_features='auto', max_leaf_nodes=None,\n",
        "           min_impurity_split=1e-07, min_samples_leaf=1,\n",
        "           min_samples_split=15, min_weight_fraction_leaf=0.0,\n",
        "           n_estimators=500, n_jobs=1, oob_score=False, random_state=None,\n",
        "           verbose=0, warm_start=False)"
      ],
      "execution_count": null,
      "outputs": [
        {
          "output_type": "execute_result",
          "data": {
            "text/plain": [
              "RandomForestRegressor(bootstrap=True, criterion='mse', max_depth=None,\n",
              "           max_features='auto', max_leaf_nodes=None,\n",
              "           min_impurity_decrease=0.0, min_impurity_split=1e-07,\n",
              "           min_samples_leaf=1, min_samples_split=15,\n",
              "           min_weight_fraction_leaf=0.0, n_estimators=500, n_jobs=1,\n",
              "           oob_score=False, random_state=None, verbose=0, warm_start=False)"
            ]
          },
          "metadata": {
            "tags": []
          },
          "execution_count": 171
        }
      ]
    },
    {
      "cell_type": "code",
      "metadata": {
        "id": "9G27bx2m3OSr",
        "colab_type": "code",
        "colab": {
          "base_uri": "https://localhost:8080/",
          "height": 141
        },
        "outputId": "811ead82-2366-4d7b-858d-b97ae11f6c76"
      },
      "source": [
        "predicted_train = rf.predict(x_train)\n",
        "predicted_test = rf.predict(x_test)\n",
        "\n",
        "test_score = r2_score(y_test, predicted_test)\n",
        "spearman = spearmanr(y_test, predicted_test)\n",
        "pearson = pearsonr(y_test, predicted_test)\n",
        "\n",
        "print(\"Test data R-2 score: {}\".format(test_score))\n",
        "print(\"Test data Spearman correlation: {}\".format(spearman[0]))\n",
        "print(\"Test data Pearson correlation: {}\".format(pearson[0]))\n",
        "\n",
        "train_score = r2_score(y_train, predicted_train)\n",
        "spearmanTrain = spearmanr(y_train, predicted_train)\n",
        "pearsonTrain = pearsonr(y_train, predicted_train)\n",
        "\n",
        "print(' ')\n",
        "\n",
        "print(\"Train data R-2 score: {}\".format(train_score))\n",
        "print(\"Train data Spearman correlation: {}\".format(spearmanTrain[0]))\n",
        "print(\"Train data Pearson correlation: {}\".format(pearsonTrain[0]))"
      ],
      "execution_count": null,
      "outputs": [
        {
          "output_type": "stream",
          "text": [
            "Test data R-2 score: 0.527787514175442\n",
            "Test data Spearman correlation: 0.8186147972870987\n",
            "Test data Pearson correlation: 0.7275317108249446\n",
            " \n",
            "Train data R-2 score: 0.7807492522963456\n",
            "Train data Spearman correlation: 0.9065414977034124\n",
            "Train data Pearson correlation: 0.8916680548211198\n"
          ],
          "name": "stdout"
        }
      ]
    },
    {
      "cell_type": "code",
      "metadata": {
        "id": "19LnZARuSrpu",
        "colab_type": "code",
        "colab": {}
      },
      "source": [
        "x = df[['job_title', 'external_url', 'postal_code',\n",
        "       'has_skills', 'townname', 'countyname', 'regionname', 'salary_average',\n",
        "       'CatSalary_average', 'log_salary', \n",
        "       'date_createdYear', 'date_createdMonth', 'date_createdWeek',\n",
        "       'date_createdDay', 'date_createdDayofweek', 'date_createdDayofyear',\n",
        "       'date_createdIs_month_end', 'date_createdIs_month_start',\n",
        "       'date_createdIs_quarter_end', 'date_createdIs_quarter_start',\n",
        "       'date_createdIs_year_end', 'date_createdIs_year_start',\n",
        "       'date_createdElapsed', 'Financial Services', 'Administration',\n",
        "       'Health And Social Care', 'Education', 'Information Technology',\n",
        "       'salary_type_1', 'salary_type_2', 'is_nationwide_0', 'is_branded_0',\n",
        "       'is_parttime_0', 'is_fulltime_0', 'is_exec_role_0', 'is_multilingual_0',\n",
        "       'is_public_0', 'is_graduate_0', 'show_sponsored_links_ads_0',\n",
        "       'eligible_uk_only_0', 'has_formatting_0', 'featured_job_0',\n",
        "       'cover_letter_preference_id_1', 'cover_letter_preference_id_2',\n",
        "       'has_screening_questions_0', 'has_salary_0', 'easy_apply_0',\n",
        "       'cover_letter_0', 'job_type_1', 'job_type_2', 'display_style_1',\n",
        "       'display_style_2', 'company_type_1', 'company_type_2']]\n",
        "\n",
        "y = df['no_applicants']"
      ],
      "execution_count": null,
      "outputs": []
    },
    {
      "cell_type": "code",
      "metadata": {
        "id": "ix2sPGZuOP0b",
        "colab_type": "code",
        "colab": {
          "base_uri": "https://localhost:8080/",
          "height": 250
        },
        "outputId": "906b4fd6-68a6-4002-ddee-fcc362d9a0c9"
      },
      "source": [
        "# f_regression: Used only for numeric targets and based on linear regression performance.\n",
        "# f_classif: Used only for categorical targets, based on Analysis of Variance (ANOVA) statistical test.\n",
        "# chi2: Performs the chi-square statistic for categorical targets, which is less sensible to the nonlinear relationship between the predictive variable and its target.\n",
        "\n",
        "# Instantiate object\n",
        "selector_f = SelectPercentile(f_regression, percentile=20)\n",
        "\n",
        "# Fit and transform\n",
        "x_best = selector_f.fit_transform(x, y)"
      ],
      "execution_count": null,
      "outputs": [
        {
          "output_type": "stream",
          "text": [
            "/usr/local/lib/python3.6/dist-packages/sklearn/feature_selection/univariate_selection.py:299: RuntimeWarning: divide by zero encountered in true_divide\n",
            "  corr /= X_norms\n",
            "/usr/local/lib/python3.6/dist-packages/sklearn/feature_selection/univariate_selection.py:299: RuntimeWarning: invalid value encountered in true_divide\n",
            "  corr /= X_norms\n",
            "/usr/local/lib/python3.6/dist-packages/sklearn/feature_selection/univariate_selection.py:304: RuntimeWarning: invalid value encountered in true_divide\n",
            "  F = corr ** 2 / (1 - corr ** 2) * degrees_of_freedom\n",
            "/usr/local/lib/python3.6/dist-packages/scipy/stats/_distn_infrastructure.py:877: RuntimeWarning: invalid value encountered in greater\n",
            "  return (self.a < x) & (x < self.b)\n",
            "/usr/local/lib/python3.6/dist-packages/scipy/stats/_distn_infrastructure.py:877: RuntimeWarning: invalid value encountered in less\n",
            "  return (self.a < x) & (x < self.b)\n",
            "/usr/local/lib/python3.6/dist-packages/scipy/stats/_distn_infrastructure.py:1831: RuntimeWarning: invalid value encountered in less_equal\n",
            "  cond2 = cond0 & (x <= self.a)\n"
          ],
          "name": "stderr"
        }
      ]
    },
    {
      "cell_type": "code",
      "metadata": {
        "id": "59JNH980OTXE",
        "colab_type": "code",
        "colab": {
          "base_uri": "https://localhost:8080/",
          "height": 265
        },
        "outputId": "4a299375-3ff4-473f-ccdc-3c2aab38df1c"
      },
      "source": [
        "# In choosing the percentile cutoff, I took a Pareto 80/20 approach and selected the top 20% best, associated features.\n",
        "# However, I will review the F-score and p-values to confirm that 20% is an appropriate percentile \n",
        "# to exclude a feature from participating in the learning process.\n",
        "support = np.asarray(selector_f.get_support())\n",
        "\n",
        "# Enable scientific notation\n",
        "pd.set_option('display.float_format', '{:.2e}'.format)\n",
        "\n",
        "# Column names of top 20%\n",
        "features = np.asarray(x.columns.values)\n",
        "features_with_support = features[support]\n",
        "\n",
        "# f-scores of top 20%\n",
        "fscores = np.asarray(selector_f.scores_)\n",
        "fscores_with_support = fscores[support]\n",
        "\n",
        "# p-values of top 20%\n",
        "pvalues = np.asarray(selector_f.pvalues_)\n",
        "pvalues_with_support = pvalues[support]\n",
        "\n",
        "# Dataframe of top 20%\n",
        "top20 = pd.DataFrame({'F-score':fscores_with_support,\n",
        "                      'p-value':pvalues_with_support},\n",
        "                     index = features_with_support)\n",
        "\n",
        "# top20.index.name = 'Feature'\n",
        "print('Top 20% best associated features to No of Applicants\\nNumber of features:',len(features_with_support))\n",
        "print(top20.sort_values(by = 'p-value', ascending = 'True'))"
      ],
      "execution_count": null,
      "outputs": [
        {
          "output_type": "stream",
          "text": [
            "Top 20% best associated features to No of Applicants\n",
            "Number of features: 11\n",
            "                        F-score   p-value\n",
            "job_title              1.79e+03  0.00e+00\n",
            "CatSalary_average      2.02e+03  0.00e+00\n",
            "Administration         1.46e+04  0.00e+00\n",
            "Health And Social Care 3.01e+03  0.00e+00\n",
            "Education              2.61e+03  0.00e+00\n",
            "Information Technology 1.07e+03 7.75e-234\n",
            "is_public_0            1.01e+03 2.26e-219\n",
            "salary_type_1          5.74e+02 1.57e-126\n",
            "salary_average         5.42e+02 1.40e-119\n",
            "easy_apply_0           4.77e+02 2.25e-105\n",
            "salary_type_2          3.59e+02  5.50e-80\n"
          ],
          "name": "stdout"
        }
      ]
    },
    {
      "cell_type": "code",
      "metadata": {
        "id": "lpdbbkGeU3o1",
        "colab_type": "code",
        "colab": {
          "base_uri": "https://localhost:8080/",
          "height": 905
        },
        "outputId": "61b5e648-49c2-4d92-fcfc-68518e3d79a4"
      },
      "source": [
        "# Correlations to Applicants\n",
        "corr = df.select_dtypes(include = ['float64', 'int64','uint8']).iloc[:, 1:].corr()\n",
        "cor_dict = corr['no_applicants'].to_dict()\n",
        "del cor_dict['no_applicants']\n",
        "\n",
        "print(\"List the numerical features in decending order by their correlation with No of Applicants:\\n\")\n",
        "\n",
        "for ele in sorted(cor_dict.items(), key = lambda x: -abs(x[1])):\n",
        "   print (\"{0}: \\t{1}\".format(*ele))"
      ],
      "execution_count": null,
      "outputs": [
        {
          "output_type": "stream",
          "text": [
            "List the numerical features in decending order by their correlation with No of Applicants:\n",
            "\n",
            "external_url: \tnan\n",
            "no_applicants_norm: \t0.6902935239348625\n",
            "salary_average: \t-0.07723695365442694\n",
            "postal_code: \t0.039515181686315855\n",
            "has_skills: \tnan\n",
            "Administration: \t0.3726842210298569\n",
            "Health And Social Care: \t-0.17967841013354516\n",
            "Education: \t-0.1674721605768262\n",
            "CatSalary_average: \t-0.14774008845719525\n",
            "Information Technology: \t-0.10830703853012097\n",
            "is_public_0: \t0.10489115328939154\n",
            "salary_type_1: \t-0.07948009865956157\n",
            "easy_apply_0: \t-0.07243586650191994\n",
            "salary_type_2: \t-0.06294365404577308\n",
            "Financial Services: \t0.047205951172525545\n",
            "regionname: \t0.04382262720261869\n",
            "is_exec_role_0: \t0.037662859602163375\n",
            "townname: \t0.03729051303686408\n",
            "has_salary_0: \t-0.036597224561561476\n",
            "is_nationwide_0: \t-0.03202254334323491\n",
            "has_formatting_0: \t-0.02930722501723824\n",
            "cover_letter_preference_id_1: \t-0.02821993707931655\n",
            "cover_letter_preference_id_2: \t0.02714930417873402\n",
            "cover_letter_0: \t0.022875432882520724\n",
            "eligible_uk_only_0: \t0.016707328159146016\n",
            "company_type_2: \t0.01608597475525794\n",
            "is_parttime_0: \t0.01426929581755549\n",
            "company_type_1: \t-0.014259224869857232\n",
            "date_createdWeek: \t0.01370638754800149\n",
            "date_createdElapsed: \t0.013101818025754637\n",
            "date_createdDayofyear: \t0.013101818025754428\n",
            "date_createdMonth: \t0.012371424293101245\n",
            "countyname: \t0.008931619999742145\n",
            "has_screening_questions_0: \t-0.008659502534356676\n",
            "is_multilingual_0: \t0.005452287941360514\n",
            "date_createdDayofweek: \t-0.002179566345659344\n",
            "display_style_2: \t0.0017393976947901021\n",
            "log_salary: \t0.0008995914648809365\n",
            "date_createdYear: \tnan\n",
            "date_createdDay: \t0.004431917015508938\n",
            "is_branded_0: \tnan\n",
            "is_fulltime_0: \t0.010295926053930737\n",
            "is_graduate_0: \t0.006636572178350964\n",
            "featured_job_0: \t-0.0017393976947900698\n",
            "job_type_2: \t0.0015234262657790123\n",
            "show_sponsored_links_ads_0: \t-0.0004734768736354283\n",
            "job_type_1: \t-0.0004351053788288507\n",
            "display_style_1: \t-0.0004052797581725546\n"
          ],
          "name": "stdout"
        }
      ]
    },
    {
      "cell_type": "code",
      "metadata": {
        "id": "I-aXMRacWyTD",
        "colab_type": "code",
        "colab": {
          "base_uri": "https://localhost:8080/",
          "height": 725
        },
        "outputId": "34f3dc76-ad70-473f-d6b2-329c4f680898"
      },
      "source": [
        "# Feature-to-Feature Correlation\n",
        "corr = df.drop('no_applicants', axis=1).corr() \n",
        "plt.figure(figsize=(12, 10))\n",
        "\n",
        "sns.heatmap(corr[(corr >= 0.5) | (corr <= -0.4)], \n",
        "            cmap='RdYlGn', vmax=1.0, vmin=-1.0, linewidths=0.1,\n",
        "            annot=True, annot_kws={\"size\": 8}, square=True);"
      ],
      "execution_count": null,
      "outputs": [
        {
          "output_type": "display_data",
          "data": {
            "image/png": "[encoded data removed]",
            "text/plain": [
              "<Figure size 864x720 with 2 Axes>"
            ]
          },
          "metadata": {
            "tags": []
          }
        }
      ]
    },
    {
      "cell_type": "code",
      "metadata": {
        "id": "ps4kDGbLYDvm",
        "colab_type": "code",
        "colab": {
          "base_uri": "https://localhost:8080/",
          "height": 700
        },
        "outputId": "d4408f17-0363-4841-cb98-27310e5f3220"
      },
      "source": [
        "best_feat = df[features_with_support]\n",
        "corr =best_feat.corr() \n",
        "plt.figure(figsize=(12, 10))\n",
        "\n",
        "sns.heatmap(corr[(corr >= 0.7) | (corr <= -0.7)], \n",
        "            cmap='coolwarm', vmax=1.0, vmin=-1.0, linewidths=0.1,\n",
        "            annot=True, annot_kws={\"size\": 8}, square=True);"
      ],
      "execution_count": null,
      "outputs": [
        {
          "output_type": "display_data",
          "data": {
            "image/png": "[encoded data removed]",
            "text/plain": [
              "<Figure size 864x720 with 2 Axes>"
            ]
          },
          "metadata": {
            "tags": []
          }
        }
      ]
    },
    {
      "cell_type": "code",
      "metadata": {
        "id": "5rf-NiyXZHXB",
        "colab_type": "code",
        "colab": {
          "base_uri": "https://localhost:8080/",
          "height": 230
        },
        "outputId": "e920ab76-ad4d-4a72-f7be-5f150382a5a2"
      },
      "source": [
        "# Correlations to no of applicants\n",
        "from scipy import stats\n",
        "print('Correlation to No of Applicants')\n",
        "print('job_title:',stats.pearsonr(best_feat['job_title'],df['no_applicants'])[0])\n",
        "print('CatSalary_average:',stats.pearsonr(best_feat['CatSalary_average'],df['no_applicants'])[0])\n",
        "print('Administration:',stats.pearsonr(best_feat['Administration'],df['no_applicants'])[0])\n",
        "print('Health And Social Care:',stats.pearsonr(best_feat['Health And Social Care'],df['no_applicants'])[0])\n",
        "print('Education:',stats.pearsonr(best_feat['Education'],df['no_applicants'])[0])\n",
        "print('Information Technology:',stats.pearsonr(best_feat['Information Technology'],df['no_applicants'])[0])\n",
        "print('is_public_0:',stats.pearsonr(best_feat['is_public_0'],df['no_applicants'])[0])\n",
        "print('salary_type_1:',stats.pearsonr(best_feat['salary_type_1'],df['no_applicants'])[0])\n",
        "print('salary_average:',stats.pearsonr(best_feat['salary_average'],df['no_applicants'])[0])\n",
        "print('easy_apply_0:',stats.pearsonr(best_feat['easy_apply_0'],df['no_applicants'])[0])\n",
        "print('salary_type_2:',stats.pearsonr(best_feat['salary_type_2'],df['no_applicants'])[0])      "
      ],
      "execution_count": null,
      "outputs": [
        {
          "output_type": "stream",
          "text": [
            "Correlation to No of Applicants\n",
            "job_title: -0.13924178148365332\n",
            "CatSalary_average: -0.14774008845714873\n",
            "Administration: 0.3726842210295858\n",
            "Health And Social Care: -0.17967841013381225\n",
            "Education: -0.16747216057671424\n",
            "Information Technology: -0.10830703852996094\n",
            "is_public_0: 0.10489115328932604\n",
            "salary_type_1: -0.07948009865953526\n",
            "salary_average: -0.0772369536544085\n",
            "easy_apply_0: -0.07243586650188177\n",
            "salary_type_2: -0.06294365404575583\n"
          ],
          "name": "stdout"
        }
      ]
    },
    {
      "cell_type": "code",
      "metadata": {
        "id": "kka4pexkQIRq",
        "colab_type": "code",
        "colab": {
          "base_uri": "https://localhost:8080/",
          "height": 105
        },
        "outputId": "c4706ba6-a8a4-4dcf-f7a8-ab0ac738e1f0"
      },
      "source": [
        "# most correlated features to No of Applicants have been identified. I will feed these features into a Random Forest Regressor\n",
        "# Random Forest Regression with Best Features\n",
        "# Split\n",
        "# Create matrix of best x features\n",
        "X_best = df[['job_title', 'CatSalary_average', 'Administration',\n",
        "             'Health And Social Care', 'Education', 'Information Technology', 'is_public_0', \n",
        "             'salary_type_1', 'salary_average', 'easy_apply_0', 'salary_type_2']]\n",
        "\n",
        "# Create array of target variable\n",
        "y = df['no_applicants']\n",
        "\n",
        "# Split training data into train and test sets\n",
        "X_train, X_test, y_train, y_test = train_test_split(X_best,y, test_size = .20,random_state = 101)\n",
        "\n",
        "# Fit\n",
        "rforest = RandomForestRegressor(n_estimators = 300, random_state = 0) \n",
        "rforest.fit(X_best,y)\n",
        "\n",
        "# Predict\n",
        "y_pred_rforest = rforest.predict(X_test)\n",
        "\n",
        "# Score It\n",
        "print('Random Forest Regression Performance')\n",
        "print('MAE',metrics.mean_absolute_error(y_test, y_pred_rforest))\n",
        "print('MSE',metrics.mean_squared_error(y_test, y_pred_rforest))\n",
        "print('RMSE',np.sqrt(metrics.mean_squared_error(y_test, y_pred_rforest)))\n",
        "print('R^2 =',metrics.explained_variance_score(y_test,y_pred_rforest))"
      ],
      "execution_count": null,
      "outputs": [
        {
          "output_type": "stream",
          "text": [
            "Random Forest Regression Performance\n",
            "MAE 7.297573787005417\n",
            "MSE 338.1496875820841\n",
            "RMSE 18.38884682578231\n",
            "R^2 = 0.8145206650288483\n"
          ],
          "name": "stdout"
        }
      ]
    },
    {
      "cell_type": "code",
      "metadata": {
        "id": "Lx2ZrEvWZ6T4",
        "colab_type": "code",
        "colab": {}
      },
      "source": [
        "x = df[['job_title', 'external_url', 'postal_code',\n",
        "       'has_skills', 'townname', 'countyname', 'regionname', 'salary_average',\n",
        "       'CatSalary_average', 'log_salary', \n",
        "       'date_createdYear', 'date_createdMonth', 'date_createdWeek',\n",
        "       'date_createdDay', 'date_createdDayofweek', 'date_createdDayofyear',\n",
        "       'date_createdIs_month_end', 'date_createdIs_month_start',\n",
        "       'date_createdIs_quarter_end', 'date_createdIs_quarter_start',\n",
        "       'date_createdIs_year_end', 'date_createdIs_year_start',\n",
        "       'date_createdElapsed', 'Financial Services', 'Administration',\n",
        "       'Health And Social Care', 'Education', 'Information Technology',\n",
        "       'salary_type_1', 'salary_type_2', 'is_nationwide_0', 'is_branded_0',\n",
        "       'is_parttime_0', 'is_fulltime_0', 'is_exec_role_0', 'is_multilingual_0',\n",
        "       'is_public_0', 'is_graduate_0', 'show_sponsored_links_ads_0',\n",
        "       'eligible_uk_only_0', 'has_formatting_0', 'featured_job_0',\n",
        "       'cover_letter_preference_id_1', 'cover_letter_preference_id_2',\n",
        "       'has_screening_questions_0', 'has_salary_0', 'easy_apply_0',\n",
        "       'cover_letter_0', 'job_type_1', 'job_type_2', 'display_style_1',\n",
        "       'display_style_2', 'company_type_1', 'company_type_2']]\n",
        "\n",
        "y = df['no_applicants_norm']"
      ],
      "execution_count": null,
      "outputs": []
    },
    {
      "cell_type": "code",
      "metadata": {
        "id": "LZslPOeRxoAB",
        "colab_type": "code",
        "colab": {
          "base_uri": "https://localhost:8080/",
          "height": 250
        },
        "outputId": "473fe5af-9edf-4066-a9cd-8554ad85c8ad"
      },
      "source": [
        "# f_regression: Used only for numeric targets and based on linear regression performance.\n",
        "# f_classif: Used only for categorical targets, based on Analysis of Variance (ANOVA) statistical test.\n",
        "# chi2: Performs the chi-square statistic for categorical targets, which is less sensible to the nonlinear relationship between the predictive variable and its target.\n",
        "\n",
        "# Instantiate object\n",
        "selector_f = SelectPercentile(f_regression, percentile=20)\n",
        "\n",
        "# Fit and transform\n",
        "x_best = selector_f.fit_transform(x, y)"
      ],
      "execution_count": null,
      "outputs": [
        {
          "output_type": "stream",
          "text": [
            "/usr/local/lib/python3.6/dist-packages/sklearn/feature_selection/univariate_selection.py:299: RuntimeWarning: divide by zero encountered in true_divide\n",
            "  corr /= X_norms\n",
            "/usr/local/lib/python3.6/dist-packages/sklearn/feature_selection/univariate_selection.py:299: RuntimeWarning: invalid value encountered in true_divide\n",
            "  corr /= X_norms\n",
            "/usr/local/lib/python3.6/dist-packages/sklearn/feature_selection/univariate_selection.py:304: RuntimeWarning: invalid value encountered in true_divide\n",
            "  F = corr ** 2 / (1 - corr ** 2) * degrees_of_freedom\n",
            "/usr/local/lib/python3.6/dist-packages/scipy/stats/_distn_infrastructure.py:877: RuntimeWarning: invalid value encountered in greater\n",
            "  return (self.a < x) & (x < self.b)\n",
            "/usr/local/lib/python3.6/dist-packages/scipy/stats/_distn_infrastructure.py:877: RuntimeWarning: invalid value encountered in less\n",
            "  return (self.a < x) & (x < self.b)\n",
            "/usr/local/lib/python3.6/dist-packages/scipy/stats/_distn_infrastructure.py:1831: RuntimeWarning: invalid value encountered in less_equal\n",
            "  cond2 = cond0 & (x <= self.a)\n"
          ],
          "name": "stderr"
        }
      ]
    },
    {
      "cell_type": "code",
      "metadata": {
        "id": "DZkDS8hCxs18",
        "colab_type": "code",
        "colab": {
          "base_uri": "https://localhost:8080/",
          "height": 265
        },
        "outputId": "714a5af7-2539-492b-f3b6-6c162909a534"
      },
      "source": [
        "# In choosing the percentile cutoff, I took a Pareto 80/20 approach and selected the top 20% best, associated features.\n",
        "# However, I will review the F-score and p-values to confirm that 20% is an appropriate percentile \n",
        "# to exclude a feature from participating in the learning process.\n",
        "support = np.asarray(selector_f.get_support())\n",
        "\n",
        "# Enable scientific notation\n",
        "pd.set_option('display.float_format', '{:.2e}'.format)\n",
        "\n",
        "# Column names of top 20%\n",
        "features = np.asarray(x.columns.values)\n",
        "features_with_support = features[support]\n",
        "\n",
        "# f-scores of top 20%\n",
        "fscores = np.asarray(selector_f.scores_)\n",
        "fscores_with_support = fscores[support]\n",
        "\n",
        "# p-values of top 20%\n",
        "pvalues = np.asarray(selector_f.pvalues_)\n",
        "pvalues_with_support = pvalues[support]\n",
        "\n",
        "# Dataframe of top 20%\n",
        "top20 = pd.DataFrame({'F-score':fscores_with_support,\n",
        "                      'p-value':pvalues_with_support},\n",
        "                     index = features_with_support)\n",
        "\n",
        "# top20.index.name = 'Feature'\n",
        "print('Top 20% best associated features to No of Applicants\\nNumber of features:',len(features_with_support))\n",
        "print(top20.sort_values(by = 'p-value', ascending = 'True'))"
      ],
      "execution_count": null,
      "outputs": [
        {
          "output_type": "stream",
          "text": [
            "Top 20% best associated features to No of Applicants\n",
            "Number of features: 11\n",
            "                        F-score   p-value\n",
            "job_title              7.27e+03  0.00e+00\n",
            "CatSalary_average      4.98e+03  0.00e+00\n",
            "Financial Services     5.03e+03  0.00e+00\n",
            "Administration         1.99e+04  0.00e+00\n",
            "Health And Social Care 1.27e+04  0.00e+00\n",
            "Education              1.03e+04  0.00e+00\n",
            "salary_type_1          2.45e+03  0.00e+00\n",
            "is_public_0            1.03e+04  0.00e+00\n",
            "easy_apply_0           1.59e+03  0.00e+00\n",
            "Information Technology 1.15e+03 4.94e-251\n",
            "salary_average         7.79e+02 8.76e-171\n"
          ],
          "name": "stdout"
        }
      ]
    },
    {
      "cell_type": "code",
      "metadata": {
        "id": "_tar7wyLx1Nt",
        "colab_type": "code",
        "colab": {
          "base_uri": "https://localhost:8080/",
          "height": 105
        },
        "outputId": "3f056e23-609a-41a6-cdc3-174f4bb6a746"
      },
      "source": [
        "# most correlated features to No of Applicants have been identified. I will feed these features into a Random Forest Regressor\n",
        "# Random Forest Regression with Best Features\n",
        "# Split\n",
        "# Create matrix of best x features\n",
        "X_best = df[['job_title', 'CatSalary_average', 'Financial Services',\n",
        "             'Administration', 'Health And Social Care', 'Education', 'salary_type_1', \n",
        "             'is_public_0', 'easy_apply_0', 'Information Technology', 'salary_average']]\n",
        "\n",
        "# Create array of target variable\n",
        "y = df['no_applicants_norm']\n",
        "\n",
        "# Split training data into train and test sets\n",
        "X_train, X_test, y_train, y_test = train_test_split(X_best,y, test_size = .20,random_state = 101)\n",
        "\n",
        "# Fit\n",
        "rforest = RandomForestRegressor(n_estimators = 300, random_state = 0) \n",
        "rforest.fit(X_best,y)\n",
        "\n",
        "# Predict\n",
        "y_pred_rforest = rforest.predict(X_test)\n",
        "\n",
        "# Score It\n",
        "print('Random Forest Regression Performance')\n",
        "print('MAE',metrics.mean_absolute_error(y_test, y_pred_rforest))\n",
        "print('MSE',metrics.mean_squared_error(y_test, y_pred_rforest))\n",
        "print('RMSE',np.sqrt(metrics.mean_squared_error(y_test, y_pred_rforest)))\n",
        "print('R^2 =',metrics.explained_variance_score(y_test,y_pred_rforest))"
      ],
      "execution_count": null,
      "outputs": [
        {
          "output_type": "stream",
          "text": [
            "Random Forest Regression Performance\n",
            "MAE 0.334648788058988\n",
            "MSE 0.21259673164201137\n",
            "RMSE 0.4610821311241755\n",
            "R^2 = 0.8794569850468941\n"
          ],
          "name": "stdout"
        }
      ]
    }
  ]
}
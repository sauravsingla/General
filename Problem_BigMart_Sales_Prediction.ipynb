{
  "nbformat": 4,
  "nbformat_minor": 0,
  "metadata": {
    "colab": {
      "name": "Problem_BigMart_Sales_Prediction.ipynb",
      "provenance": [],
      "collapsed_sections": [],
      "include_colab_link": true
    },
    "kernelspec": {
      "name": "python2",
      "display_name": "Python 2"
    },
    "accelerator": "GPU"
  },
  "cells": [
    {
      "cell_type": "markdown",
      "metadata": {
        "id": "view-in-github",
        "colab_type": "text"
      },
      "source": [
        "<a href=\"https://colab.research.google.com/github/sauravsingla/General/blob/master/Problem_BigMart_Sales_Prediction.ipynb\" target=\"_parent\"><img src=\"https://colab.research.google.com/assets/colab-badge.svg\" alt=\"Open In Colab\"/></a>"
      ]
    },
    {
      "cell_type": "code",
      "metadata": {
        "id": "Q_MxG8nB9Zum"
      },
      "source": [
        "import pandas as pd\n",
        "import numpy as np\n",
        "\n",
        "#Read files:\n",
        "train = pd.read_csv(\"Train_UWu5bXk.csv\")\n",
        "test = pd.read_csv(\"Test_u94Q5KV.csv\")"
      ],
      "execution_count": null,
      "outputs": []
    },
    {
      "cell_type": "code",
      "metadata": {
        "id": "2-Z8RVgP9ple",
        "outputId": "8fc7d67d-02c7-40af-dee9-f5bb16bb72df",
        "colab": {
          "base_uri": "https://localhost:8080/",
          "height": 34
        }
      },
      "source": [
        "train['source']='train'\n",
        "test['source']='test'\n",
        "data = pd.concat([train, test],ignore_index=True)\n",
        "print train.shape, test.shape, data.shape"
      ],
      "execution_count": null,
      "outputs": [
        {
          "output_type": "stream",
          "text": [
            "(8523, 13) (5681, 12) (14204, 13)\n"
          ],
          "name": "stdout"
        }
      ]
    },
    {
      "cell_type": "code",
      "metadata": {
        "id": "wpB6Ztqd96cG",
        "outputId": "c49e5e8c-8650-4874-b9ab-8ed292b820b8",
        "colab": {
          "base_uri": "https://localhost:8080/",
          "height": 255
        }
      },
      "source": [
        "data.apply(lambda x: sum(x.isnull()))"
      ],
      "execution_count": null,
      "outputs": [
        {
          "output_type": "execute_result",
          "data": {
            "text/plain": [
              "Item_Fat_Content                0\n",
              "Item_Identifier                 0\n",
              "Item_MRP                        0\n",
              "Item_Outlet_Sales            5681\n",
              "Item_Type                       0\n",
              "Item_Visibility                 0\n",
              "Item_Weight                  2439\n",
              "Outlet_Establishment_Year       0\n",
              "Outlet_Identifier               0\n",
              "Outlet_Location_Type            0\n",
              "Outlet_Size                  4016\n",
              "Outlet_Type                     0\n",
              "source                          0\n",
              "dtype: int64"
            ]
          },
          "metadata": {
            "tags": []
          },
          "execution_count": 4
        }
      ]
    },
    {
      "cell_type": "code",
      "metadata": {
        "id": "rtzMCGL398tg",
        "outputId": "e4c41e63-79a0-46ad-9d11-04aabfc1cfd6",
        "colab": {
          "base_uri": "https://localhost:8080/",
          "height": 297
        }
      },
      "source": [
        "data.describe()"
      ],
      "execution_count": null,
      "outputs": [
        {
          "output_type": "execute_result",
          "data": {
            "text/html": [
              "<div>\n",
              "<style scoped>\n",
              "    .dataframe tbody tr th:only-of-type {\n",
              "        vertical-align: middle;\n",
              "    }\n",
              "\n",
              "    .dataframe tbody tr th {\n",
              "        vertical-align: top;\n",
              "    }\n",
              "\n",
              "    .dataframe thead th {\n",
              "        text-align: right;\n",
              "    }\n",
              "</style>\n",
              "<table border=\"1\" class=\"dataframe\">\n",
              "  <thead>\n",
              "    <tr style=\"text-align: right;\">\n",
              "      <th></th>\n",
              "      <th>Item_MRP</th>\n",
              "      <th>Item_Outlet_Sales</th>\n",
              "      <th>Item_Visibility</th>\n",
              "      <th>Item_Weight</th>\n",
              "      <th>Outlet_Establishment_Year</th>\n",
              "    </tr>\n",
              "  </thead>\n",
              "  <tbody>\n",
              "    <tr>\n",
              "      <th>count</th>\n",
              "      <td>14204.000000</td>\n",
              "      <td>8523.000000</td>\n",
              "      <td>14204.000000</td>\n",
              "      <td>11765.000000</td>\n",
              "      <td>14204.000000</td>\n",
              "    </tr>\n",
              "    <tr>\n",
              "      <th>mean</th>\n",
              "      <td>141.004977</td>\n",
              "      <td>2181.288914</td>\n",
              "      <td>0.065953</td>\n",
              "      <td>12.792854</td>\n",
              "      <td>1997.830681</td>\n",
              "    </tr>\n",
              "    <tr>\n",
              "      <th>std</th>\n",
              "      <td>62.086938</td>\n",
              "      <td>1706.499616</td>\n",
              "      <td>0.051459</td>\n",
              "      <td>4.652502</td>\n",
              "      <td>8.371664</td>\n",
              "    </tr>\n",
              "    <tr>\n",
              "      <th>min</th>\n",
              "      <td>31.290000</td>\n",
              "      <td>33.290000</td>\n",
              "      <td>0.000000</td>\n",
              "      <td>4.555000</td>\n",
              "      <td>1985.000000</td>\n",
              "    </tr>\n",
              "    <tr>\n",
              "      <th>25%</th>\n",
              "      <td>94.012000</td>\n",
              "      <td>834.247400</td>\n",
              "      <td>0.027036</td>\n",
              "      <td>8.710000</td>\n",
              "      <td>1987.000000</td>\n",
              "    </tr>\n",
              "    <tr>\n",
              "      <th>50%</th>\n",
              "      <td>142.247000</td>\n",
              "      <td>1794.331000</td>\n",
              "      <td>0.054021</td>\n",
              "      <td>12.600000</td>\n",
              "      <td>1999.000000</td>\n",
              "    </tr>\n",
              "    <tr>\n",
              "      <th>75%</th>\n",
              "      <td>185.855600</td>\n",
              "      <td>3101.296400</td>\n",
              "      <td>0.094037</td>\n",
              "      <td>16.750000</td>\n",
              "      <td>2004.000000</td>\n",
              "    </tr>\n",
              "    <tr>\n",
              "      <th>max</th>\n",
              "      <td>266.888400</td>\n",
              "      <td>13086.964800</td>\n",
              "      <td>0.328391</td>\n",
              "      <td>21.350000</td>\n",
              "      <td>2009.000000</td>\n",
              "    </tr>\n",
              "  </tbody>\n",
              "</table>\n",
              "</div>"
            ],
            "text/plain": [
              "           Item_MRP  Item_Outlet_Sales  Item_Visibility   Item_Weight  \\\n",
              "count  14204.000000        8523.000000     14204.000000  11765.000000   \n",
              "mean     141.004977        2181.288914         0.065953     12.792854   \n",
              "std       62.086938        1706.499616         0.051459      4.652502   \n",
              "min       31.290000          33.290000         0.000000      4.555000   \n",
              "25%       94.012000         834.247400         0.027036      8.710000   \n",
              "50%      142.247000        1794.331000         0.054021     12.600000   \n",
              "75%      185.855600        3101.296400         0.094037     16.750000   \n",
              "max      266.888400       13086.964800         0.328391     21.350000   \n",
              "\n",
              "       Outlet_Establishment_Year  \n",
              "count               14204.000000  \n",
              "mean                 1997.830681  \n",
              "std                     8.371664  \n",
              "min                  1985.000000  \n",
              "25%                  1987.000000  \n",
              "50%                  1999.000000  \n",
              "75%                  2004.000000  \n",
              "max                  2009.000000  "
            ]
          },
          "metadata": {
            "tags": []
          },
          "execution_count": 5
        }
      ]
    },
    {
      "cell_type": "code",
      "metadata": {
        "id": "_OaG9ooe-A3E",
        "outputId": "1031d302-f1e7-4792-d7da-d6d400be6f43",
        "colab": {
          "base_uri": "https://localhost:8080/",
          "height": 255
        }
      },
      "source": [
        "data.apply(lambda x: len(x.unique()))"
      ],
      "execution_count": null,
      "outputs": [
        {
          "output_type": "execute_result",
          "data": {
            "text/plain": [
              "Item_Fat_Content                 5\n",
              "Item_Identifier               1559\n",
              "Item_MRP                      8052\n",
              "Item_Outlet_Sales             3494\n",
              "Item_Type                       16\n",
              "Item_Visibility              13006\n",
              "Item_Weight                    416\n",
              "Outlet_Establishment_Year        9\n",
              "Outlet_Identifier               10\n",
              "Outlet_Location_Type             3\n",
              "Outlet_Size                      4\n",
              "Outlet_Type                      4\n",
              "source                           2\n",
              "dtype: int64"
            ]
          },
          "metadata": {
            "tags": []
          },
          "execution_count": 6
        }
      ]
    },
    {
      "cell_type": "code",
      "metadata": {
        "id": "SBcf2JGT-FHd",
        "outputId": "35687525-5c5c-47ec-c532-302853e13f3a",
        "colab": {
          "base_uri": "https://localhost:8080/",
          "height": 799
        }
      },
      "source": [
        "#Filter categorical variables\n",
        "categorical_columns = [x for x in data.dtypes.index if data.dtypes[x]=='object']\n",
        "#Exclude ID cols and source:\n",
        "categorical_columns = [x for x in categorical_columns if x not in ['Item_Identifier','Outlet_Identifier','source']]\n",
        "#Print frequency of categories\n",
        "for col in categorical_columns:\n",
        "    print '\\nFrequency of Categories for varible %s'%col\n",
        "    print data[col].value_counts()"
      ],
      "execution_count": null,
      "outputs": [
        {
          "output_type": "stream",
          "text": [
            "\n",
            "Frequency of Categories for varible Item_Fat_Content\n",
            "Low Fat    8485\n",
            "Regular    4824\n",
            "LF          522\n",
            "reg         195\n",
            "low fat     178\n",
            "Name: Item_Fat_Content, dtype: int64\n",
            "\n",
            "Frequency of Categories for varible Item_Type\n",
            "Fruits and Vegetables    2013\n",
            "Snack Foods              1989\n",
            "Household                1548\n",
            "Frozen Foods             1426\n",
            "Dairy                    1136\n",
            "Baking Goods             1086\n",
            "Canned                   1084\n",
            "Health and Hygiene        858\n",
            "Meat                      736\n",
            "Soft Drinks               726\n",
            "Breads                    416\n",
            "Hard Drinks               362\n",
            "Others                    280\n",
            "Starchy Foods             269\n",
            "Breakfast                 186\n",
            "Seafood                    89\n",
            "Name: Item_Type, dtype: int64\n",
            "\n",
            "Frequency of Categories for varible Outlet_Location_Type\n",
            "Tier 3    5583\n",
            "Tier 2    4641\n",
            "Tier 1    3980\n",
            "Name: Outlet_Location_Type, dtype: int64\n",
            "\n",
            "Frequency of Categories for varible Outlet_Size\n",
            "Medium    4655\n",
            "Small     3980\n",
            "High      1553\n",
            "Name: Outlet_Size, dtype: int64\n",
            "\n",
            "Frequency of Categories for varible Outlet_Type\n",
            "Supermarket Type1    9294\n",
            "Grocery Store        1805\n",
            "Supermarket Type3    1559\n",
            "Supermarket Type2    1546\n",
            "Name: Outlet_Type, dtype: int64\n"
          ],
          "name": "stdout"
        }
      ]
    },
    {
      "cell_type": "code",
      "metadata": {
        "id": "rTqtNM4j-JD1",
        "outputId": "2027aa13-d611-44c6-8d6a-ca9243fdccd0",
        "colab": {
          "base_uri": "https://localhost:8080/",
          "height": 51
        }
      },
      "source": [
        "#Determine the average weight per item:\n",
        "item_avg_weight = data.pivot_table(values='Item_Weight', index='Item_Identifier')\n",
        "\n",
        "#Get a boolean variable specifying missing Item_Weight values\n",
        "miss_bool = data['Item_Weight'].isnull() \n",
        "\n",
        "#Impute data and check #missing values before and after imputation to confirm\n",
        "print 'Orignal #missing: %d'% sum(miss_bool)\n",
        "\n",
        "data.loc[miss_bool,'Item_Weight'] = data.loc[miss_bool,'Item_Identifier'].apply(lambda x: item_avg_weight.loc[x])\n",
        "print 'Final #missing: %d'% sum(data['Item_Weight'].isnull())\n",
        "\n"
      ],
      "execution_count": null,
      "outputs": [
        {
          "output_type": "stream",
          "text": [
            "Orignal #missing: 2439\n",
            "Final #missing: 0\n"
          ],
          "name": "stdout"
        }
      ]
    },
    {
      "cell_type": "code",
      "metadata": {
        "id": "RdR_qyNM-YRN",
        "outputId": "d939bf79-90c4-4dbd-8185-3c8a3607081d",
        "colab": {
          "base_uri": "https://localhost:8080/",
          "height": 224
        }
      },
      "source": [
        "#Import mode function:\n",
        "from scipy.stats import mode\n",
        "\n",
        "#Determing the mode for each\n",
        "outlet_size_mode = data.pivot_table(values='Outlet_Size', columns='Outlet_Type',aggfunc=(lambda x:mode(x).mode[0]) )\n",
        "print 'Mode for each Outlet_Type:'\n",
        "print outlet_size_mode\n",
        "\n",
        "#Get a boolean variable specifying missing Item_Weight values\n",
        "miss_bool = data['Outlet_Size'].isnull() \n",
        "\n",
        "#Impute data and check #missing values before and after imputation to confirm\n",
        "print '\\nOrignal #missing: %d'% sum(miss_bool)\n",
        "data.loc[miss_bool,'Outlet_Size'] = data.loc[miss_bool,'Outlet_Type'].apply(lambda x: outlet_size_mode[x])\n",
        "print sum(data['Outlet_Size'].isnull())"
      ],
      "execution_count": null,
      "outputs": [
        {
          "output_type": "stream",
          "text": [
            "/usr/local/lib/python2.7/dist-packages/scipy/stats/stats.py:245: RuntimeWarning: The input array could not be properly checked for nan values. nan values will be ignored.\n",
            "  \"values. nan values will be ignored.\", RuntimeWarning)\n"
          ],
          "name": "stderr"
        },
        {
          "output_type": "stream",
          "text": [
            "Mode for each Outlet_Type:\n",
            "Outlet_Type Grocery Store Supermarket Type1 Supermarket Type2  \\\n",
            "Outlet_Size         Small             Small            Medium   \n",
            "\n",
            "Outlet_Type Supermarket Type3  \n",
            "Outlet_Size            Medium  \n",
            "\n",
            "Orignal #missing: 4016\n",
            "0\n"
          ],
          "name": "stdout"
        }
      ]
    },
    {
      "cell_type": "code",
      "metadata": {
        "id": "RUyPo_4P-hN9",
        "outputId": "9257ab4e-bf06-4aa5-c0c7-0f9c82d6d77e",
        "colab": {
          "base_uri": "https://localhost:8080/",
          "height": 204
        }
      },
      "source": [
        "data.pivot_table(values='Item_Outlet_Sales',index='Outlet_Type')"
      ],
      "execution_count": null,
      "outputs": [
        {
          "output_type": "execute_result",
          "data": {
            "text/html": [
              "<div>\n",
              "<style scoped>\n",
              "    .dataframe tbody tr th:only-of-type {\n",
              "        vertical-align: middle;\n",
              "    }\n",
              "\n",
              "    .dataframe tbody tr th {\n",
              "        vertical-align: top;\n",
              "    }\n",
              "\n",
              "    .dataframe thead th {\n",
              "        text-align: right;\n",
              "    }\n",
              "</style>\n",
              "<table border=\"1\" class=\"dataframe\">\n",
              "  <thead>\n",
              "    <tr style=\"text-align: right;\">\n",
              "      <th></th>\n",
              "      <th>Item_Outlet_Sales</th>\n",
              "    </tr>\n",
              "    <tr>\n",
              "      <th>Outlet_Type</th>\n",
              "      <th></th>\n",
              "    </tr>\n",
              "  </thead>\n",
              "  <tbody>\n",
              "    <tr>\n",
              "      <th>Grocery Store</th>\n",
              "      <td>339.828500</td>\n",
              "    </tr>\n",
              "    <tr>\n",
              "      <th>Supermarket Type1</th>\n",
              "      <td>2316.181148</td>\n",
              "    </tr>\n",
              "    <tr>\n",
              "      <th>Supermarket Type2</th>\n",
              "      <td>1995.498739</td>\n",
              "    </tr>\n",
              "    <tr>\n",
              "      <th>Supermarket Type3</th>\n",
              "      <td>3694.038558</td>\n",
              "    </tr>\n",
              "  </tbody>\n",
              "</table>\n",
              "</div>"
            ],
            "text/plain": [
              "                   Item_Outlet_Sales\n",
              "Outlet_Type                         \n",
              "Grocery Store             339.828500\n",
              "Supermarket Type1        2316.181148\n",
              "Supermarket Type2        1995.498739\n",
              "Supermarket Type3        3694.038558"
            ]
          },
          "metadata": {
            "tags": []
          },
          "execution_count": 10
        }
      ]
    },
    {
      "cell_type": "code",
      "metadata": {
        "id": "u_yYc_oY_4jk",
        "outputId": "5e08ead3-acb3-438b-84f1-272905aa5ef0",
        "colab": {
          "base_uri": "https://localhost:8080/",
          "height": 51
        }
      },
      "source": [
        "#Determine average visibility of a product\n",
        "visibility_avg = data.pivot_table(values='Item_Visibility', index='Item_Identifier')\n",
        "\n",
        "#Impute 0 values with mean visibility of that product:\n",
        "miss_bool = (data['Item_Visibility'] == 0)\n",
        "\n",
        "print 'Number of 0 values initially: %d'%sum(miss_bool)\n",
        "\n",
        "data.loc[miss_bool,'Item_Visibility'] = data.loc[miss_bool,'Item_Identifier'].apply(lambda x: visibility_avg.loc[x])\n",
        "print 'Number of 0 values after modification: %d'%sum(data['Item_Visibility'] == 0)\n"
      ],
      "execution_count": null,
      "outputs": [
        {
          "output_type": "stream",
          "text": [
            "Number of 0 values initially: 879\n",
            "Number of 0 values after modification: 0\n"
          ],
          "name": "stdout"
        }
      ]
    },
    {
      "cell_type": "code",
      "metadata": {
        "id": "ZIkC3ZorMprR"
      },
      "source": [
        "#Determine another variable with means ratio\n",
        "data['Item_Visibility_MeanRatio'] = data.apply(lambda x: x['Item_Visibility']/visibility_avg[x['Item_Identifier']], axis=1)\n",
        "print data['Item_Visibility_MeanRatio'].describe()"
      ],
      "execution_count": null,
      "outputs": []
    },
    {
      "cell_type": "code",
      "metadata": {
        "id": "q08uWJYOOj7h",
        "outputId": "fe4d0f9b-f473-4a4f-e200-b05305985ca4",
        "colab": {
          "base_uri": "https://localhost:8080/",
          "height": 85
        }
      },
      "source": [
        "#Get the first two characters of ID:\n",
        "data['Item_Type_Combined'] = data['Item_Identifier'].apply(lambda x: x[0:2])\n",
        "#Rename them to more intuitive categories:\n",
        "data['Item_Type_Combined'] = data['Item_Type_Combined'].map({'FD':'Food',\n",
        "                                                             'NC':'Non-Consumable',\n",
        "                                                             'DR':'Drinks'})\n",
        "data['Item_Type_Combined'].value_counts()"
      ],
      "execution_count": null,
      "outputs": [
        {
          "output_type": "execute_result",
          "data": {
            "text/plain": [
              "Food              10201\n",
              "Non-Consumable     2686\n",
              "Drinks             1317\n",
              "Name: Item_Type_Combined, dtype: int64"
            ]
          },
          "metadata": {
            "tags": []
          },
          "execution_count": 14
        }
      ]
    },
    {
      "cell_type": "code",
      "metadata": {
        "id": "dDZmKMBGOqto",
        "outputId": "779e3c9e-204f-4531-a84b-10b8a4154c71",
        "colab": {
          "base_uri": "https://localhost:8080/",
          "height": 170
        }
      },
      "source": [
        "#Years:\n",
        "data['Outlet_Years'] = 2013 - data['Outlet_Establishment_Year']\n",
        "data['Outlet_Years'].describe()"
      ],
      "execution_count": null,
      "outputs": [
        {
          "output_type": "execute_result",
          "data": {
            "text/plain": [
              "count    14204.000000\n",
              "mean        15.169319\n",
              "std          8.371664\n",
              "min          4.000000\n",
              "25%          9.000000\n",
              "50%         14.000000\n",
              "75%         26.000000\n",
              "max         28.000000\n",
              "Name: Outlet_Years, dtype: float64"
            ]
          },
          "metadata": {
            "tags": []
          },
          "execution_count": 15
        }
      ]
    },
    {
      "cell_type": "code",
      "metadata": {
        "id": "45jgM9MsO-oo",
        "outputId": "29b6814e-e126-4ac7-d3f2-ccbc5f720b3f",
        "colab": {
          "base_uri": "https://localhost:8080/",
          "height": 221
        }
      },
      "source": [
        "#Change categories of low fat:\n",
        "print 'Original Categories:'\n",
        "print data['Item_Fat_Content'].value_counts()\n",
        "\n",
        "print '\\nModified Categories:'\n",
        "data['Item_Fat_Content'] = data['Item_Fat_Content'].replace({'LF':'Low Fat',\n",
        "                                                             'reg':'Regular',\n",
        "                                                             'low fat':'Low Fat'})\n",
        "print data['Item_Fat_Content'].value_counts()"
      ],
      "execution_count": null,
      "outputs": [
        {
          "output_type": "stream",
          "text": [
            "Original Categories:\n",
            "Low Fat    8485\n",
            "Regular    4824\n",
            "LF          522\n",
            "reg         195\n",
            "low fat     178\n",
            "Name: Item_Fat_Content, dtype: int64\n",
            "\n",
            "Modified Categories:\n",
            "Low Fat    9185\n",
            "Regular    5019\n",
            "Name: Item_Fat_Content, dtype: int64\n"
          ],
          "name": "stdout"
        }
      ]
    },
    {
      "cell_type": "code",
      "metadata": {
        "id": "iSNNLF0bPGZ_",
        "outputId": "5e142973-0e6b-43cf-9b1d-30830df67002",
        "colab": {
          "base_uri": "https://localhost:8080/",
          "height": 85
        }
      },
      "source": [
        "#Mark non-consumables as separate category in low_fat:\n",
        "data.loc[data['Item_Type_Combined']==\"Non-Consumable\",'Item_Fat_Content'] = \"Non-Edible\"\n",
        "data['Item_Fat_Content'].value_counts()"
      ],
      "execution_count": null,
      "outputs": [
        {
          "output_type": "execute_result",
          "data": {
            "text/plain": [
              "Low Fat       6499\n",
              "Regular       5019\n",
              "Non-Edible    2686\n",
              "Name: Item_Fat_Content, dtype: int64"
            ]
          },
          "metadata": {
            "tags": []
          },
          "execution_count": 18
        }
      ]
    },
    {
      "cell_type": "code",
      "metadata": {
        "id": "m5pTQhGjPOGZ"
      },
      "source": [
        "#Import library:\n",
        "from sklearn.preprocessing import LabelEncoder\n",
        "le = LabelEncoder()\n",
        "#New variable for outlet\n",
        "data['Outlet'] = le.fit_transform(data['Outlet_Identifier'])\n",
        "var_mod = ['Item_Fat_Content','Outlet_Location_Type','Outlet_Size','Item_Type_Combined','Outlet_Type','Outlet']\n",
        "le = LabelEncoder()\n",
        "for i in var_mod:\n",
        "    data[i] = le.fit_transform(data[i])"
      ],
      "execution_count": null,
      "outputs": []
    },
    {
      "cell_type": "code",
      "metadata": {
        "id": "dIeHgp7tPTGn"
      },
      "source": [
        "#One Hot Coding:\n",
        "data = pd.get_dummies(data, columns=['Item_Fat_Content','Outlet_Location_Type','Outlet_Size','Outlet_Type',\n",
        "                              'Item_Type_Combined','Outlet'])"
      ],
      "execution_count": null,
      "outputs": []
    },
    {
      "cell_type": "code",
      "metadata": {
        "id": "q9j6SJ96PVsQ",
        "outputId": "fefa5232-7a87-4092-d2f2-6e0bb0414285",
        "colab": {
          "base_uri": "https://localhost:8080/",
          "height": 646
        }
      },
      "source": [
        "data.dtypes"
      ],
      "execution_count": null,
      "outputs": [
        {
          "output_type": "execute_result",
          "data": {
            "text/plain": [
              "Item_Identifier               object\n",
              "Item_MRP                     float64\n",
              "Item_Outlet_Sales            float64\n",
              "Item_Type                     object\n",
              "Item_Visibility              float64\n",
              "Item_Weight                  float64\n",
              "Outlet_Establishment_Year      int64\n",
              "Outlet_Identifier             object\n",
              "source                        object\n",
              "Outlet_Years                   int64\n",
              "Item_Fat_Content_0             uint8\n",
              "Item_Fat_Content_1             uint8\n",
              "Item_Fat_Content_2             uint8\n",
              "Outlet_Location_Type_0         uint8\n",
              "Outlet_Location_Type_1         uint8\n",
              "Outlet_Location_Type_2         uint8\n",
              "Outlet_Size_0                  uint8\n",
              "Outlet_Size_1                  uint8\n",
              "Outlet_Size_2                  uint8\n",
              "Outlet_Type_0                  uint8\n",
              "Outlet_Type_1                  uint8\n",
              "Outlet_Type_2                  uint8\n",
              "Outlet_Type_3                  uint8\n",
              "Item_Type_Combined_0           uint8\n",
              "Item_Type_Combined_1           uint8\n",
              "Item_Type_Combined_2           uint8\n",
              "Outlet_0                       uint8\n",
              "Outlet_1                       uint8\n",
              "Outlet_2                       uint8\n",
              "Outlet_3                       uint8\n",
              "Outlet_4                       uint8\n",
              "Outlet_5                       uint8\n",
              "Outlet_6                       uint8\n",
              "Outlet_7                       uint8\n",
              "Outlet_8                       uint8\n",
              "Outlet_9                       uint8\n",
              "dtype: object"
            ]
          },
          "metadata": {
            "tags": []
          },
          "execution_count": 21
        }
      ]
    },
    {
      "cell_type": "code",
      "metadata": {
        "id": "lYRwZbo3PwPS",
        "outputId": "c62aeb83-e596-4932-c171-ad22773eef50",
        "colab": {
          "base_uri": "https://localhost:8080/",
          "height": 359
        }
      },
      "source": [
        "data[['Item_Fat_Content_0','Item_Fat_Content_1','Item_Fat_Content_2']].head(10)"
      ],
      "execution_count": null,
      "outputs": [
        {
          "output_type": "execute_result",
          "data": {
            "text/html": [
              "<div>\n",
              "<style scoped>\n",
              "    .dataframe tbody tr th:only-of-type {\n",
              "        vertical-align: middle;\n",
              "    }\n",
              "\n",
              "    .dataframe tbody tr th {\n",
              "        vertical-align: top;\n",
              "    }\n",
              "\n",
              "    .dataframe thead th {\n",
              "        text-align: right;\n",
              "    }\n",
              "</style>\n",
              "<table border=\"1\" class=\"dataframe\">\n",
              "  <thead>\n",
              "    <tr style=\"text-align: right;\">\n",
              "      <th></th>\n",
              "      <th>Item_Fat_Content_0</th>\n",
              "      <th>Item_Fat_Content_1</th>\n",
              "      <th>Item_Fat_Content_2</th>\n",
              "    </tr>\n",
              "  </thead>\n",
              "  <tbody>\n",
              "    <tr>\n",
              "      <th>0</th>\n",
              "      <td>1</td>\n",
              "      <td>0</td>\n",
              "      <td>0</td>\n",
              "    </tr>\n",
              "    <tr>\n",
              "      <th>1</th>\n",
              "      <td>0</td>\n",
              "      <td>0</td>\n",
              "      <td>1</td>\n",
              "    </tr>\n",
              "    <tr>\n",
              "      <th>2</th>\n",
              "      <td>1</td>\n",
              "      <td>0</td>\n",
              "      <td>0</td>\n",
              "    </tr>\n",
              "    <tr>\n",
              "      <th>3</th>\n",
              "      <td>0</td>\n",
              "      <td>0</td>\n",
              "      <td>1</td>\n",
              "    </tr>\n",
              "    <tr>\n",
              "      <th>4</th>\n",
              "      <td>0</td>\n",
              "      <td>1</td>\n",
              "      <td>0</td>\n",
              "    </tr>\n",
              "    <tr>\n",
              "      <th>5</th>\n",
              "      <td>0</td>\n",
              "      <td>0</td>\n",
              "      <td>1</td>\n",
              "    </tr>\n",
              "    <tr>\n",
              "      <th>6</th>\n",
              "      <td>0</td>\n",
              "      <td>0</td>\n",
              "      <td>1</td>\n",
              "    </tr>\n",
              "    <tr>\n",
              "      <th>7</th>\n",
              "      <td>1</td>\n",
              "      <td>0</td>\n",
              "      <td>0</td>\n",
              "    </tr>\n",
              "    <tr>\n",
              "      <th>8</th>\n",
              "      <td>0</td>\n",
              "      <td>0</td>\n",
              "      <td>1</td>\n",
              "    </tr>\n",
              "    <tr>\n",
              "      <th>9</th>\n",
              "      <td>0</td>\n",
              "      <td>0</td>\n",
              "      <td>1</td>\n",
              "    </tr>\n",
              "  </tbody>\n",
              "</table>\n",
              "</div>"
            ],
            "text/plain": [
              "   Item_Fat_Content_0  Item_Fat_Content_1  Item_Fat_Content_2\n",
              "0                   1                   0                   0\n",
              "1                   0                   0                   1\n",
              "2                   1                   0                   0\n",
              "3                   0                   0                   1\n",
              "4                   0                   1                   0\n",
              "5                   0                   0                   1\n",
              "6                   0                   0                   1\n",
              "7                   1                   0                   0\n",
              "8                   0                   0                   1\n",
              "9                   0                   0                   1"
            ]
          },
          "metadata": {
            "tags": []
          },
          "execution_count": 22
        }
      ]
    },
    {
      "cell_type": "code",
      "metadata": {
        "id": "45H-eiERQXdx"
      },
      "source": [
        "#Drop the columns which have been converted to different types:\n",
        "data.drop(['Item_Type','Outlet_Establishment_Year'],axis=1,inplace=True)\n",
        "\n",
        "#Divide into test and train:\n",
        "train = data.loc[data['source']==\"train\"]\n",
        "test = data.loc[data['source']==\"test\"]"
      ],
      "execution_count": null,
      "outputs": []
    },
    {
      "cell_type": "code",
      "metadata": {
        "id": "VAs9ofjaQY3g"
      },
      "source": [
        "#Drop unnecessary columns:\n",
        "test.drop(['Item_Outlet_Sales','source'],axis=1,inplace=True)\n",
        "train.drop(['source'],axis=1,inplace=True)"
      ],
      "execution_count": null,
      "outputs": []
    },
    {
      "cell_type": "code",
      "metadata": {
        "id": "pr7sxBmZW1kw"
      },
      "source": [
        "#Export files as modified versions:\n",
        "train.to_csv(\"train_modified.csv\",index=False)\n",
        "test.to_csv(\"test_modified.csv\",index=False)"
      ],
      "execution_count": null,
      "outputs": []
    },
    {
      "cell_type": "code",
      "metadata": {
        "id": "LaZJSU6YXLqv"
      },
      "source": [
        "#Mean based:\n",
        "mean_sales = train['Item_Outlet_Sales'].mean()\n",
        "\n",
        "#Define a dataframe with IDs for submission:\n",
        "base1 = test[['Item_Identifier','Outlet_Identifier']]\n",
        "base1['Item_Outlet_Sales'] = mean_sales\n",
        "\n",
        "#Export submission file\n",
        "base1.to_csv(\"alg0.csv\",index=False)"
      ],
      "execution_count": null,
      "outputs": []
    },
    {
      "cell_type": "code",
      "metadata": {
        "id": "-wwqRKYDXV3C"
      },
      "source": [
        "#Define target and ID columns:\n",
        "target = 'Item_Outlet_Sales'\n",
        "IDcol = ['Item_Identifier','Outlet_Identifier']\n",
        "from sklearn import cross_validation, metrics\n",
        "def modelfit(alg, dtrain, dtest, predictors, target, IDcol, filename):\n",
        "    #Fit the algorithm on the data\n",
        "    alg.fit(dtrain[predictors], dtrain[target])\n",
        "        \n",
        "    #Predict training set:\n",
        "    dtrain_predictions = alg.predict(dtrain[predictors])\n",
        "\n",
        "    #Perform cross-validation:\n",
        "    cv_score = cross_validation.cross_val_score(alg, dtrain[predictors], dtrain[target], cv=20, scoring='mean_squared_error')\n",
        "    cv_score = np.sqrt(np.abs(cv_score))\n",
        "    \n",
        "    #Print model report:\n",
        "    print (\"\\nModel Report\")\n",
        "    print (\"RMSE : %.4g\") % np.sqrt(metrics.mean_squared_error(dtrain[target].values, dtrain_predictions))\n",
        "    print (\"CV Score : Mean - %.4g | Std - %.4g | Min - %.4g | Max - %.4g\") % (np.mean(cv_score),np.std(cv_score),np.min(cv_score),np.max(cv_score))\n",
        "    \n",
        "    #Predict on testing data:\n",
        "    dtest[target] = alg.predict(dtest[predictors])\n",
        "    \n",
        "    #Export submission file:\n",
        "    IDcol.append(target)\n",
        "    submission = pd.DataFrame({ x: dtest[x] for x in IDcol})\n",
        "    submission.to_csv(filename, index=False)"
      ],
      "execution_count": null,
      "outputs": []
    },
    {
      "cell_type": "code",
      "metadata": {
        "id": "J2WEgxIpbaLE"
      },
      "source": [
        "from sklearn.linear_model import LinearRegression, Ridge, Lasso\n",
        "predictors = [x for x in train.columns if x not in [target]+IDcol]\n",
        "# print predictors\n",
        "alg1 = LinearRegression(normalize=True)\n",
        "modelfit(alg1, train, test, predictors, target, IDcol, 'alg1.csv')\n",
        "coef1 = pd.Series(alg1.coef_, predictors).sort_values()\n",
        "coef1.plot(kind='bar', title='Model Coefficients')"
      ],
      "execution_count": null,
      "outputs": []
    },
    {
      "cell_type": "code",
      "metadata": {
        "id": "PGuahzC9hQ7-"
      },
      "source": [
        "predictors = [x for x in train.columns if x not in [target]+IDcol]\n",
        "alg2 = Ridge(alpha=0.05,normalize=True)\n",
        "modelfit(alg2, train, test, predictors, target, IDcol, 'alg2.csv')\n",
        "coef2 = pd.Series(alg2.coef_, predictors).sort_values()\n",
        "coef2.plot(kind='bar', title='Model Coefficients')"
      ],
      "execution_count": null,
      "outputs": []
    },
    {
      "cell_type": "code",
      "metadata": {
        "id": "TSMVgXk4hUsV"
      },
      "source": [
        "from sklearn.tree import DecisionTreeRegressor\n",
        "predictors = [x for x in train.columns if x not in [target]+IDcol]\n",
        "alg3 = DecisionTreeRegressor(max_depth=15, min_samples_leaf=100)\n",
        "modelfit(alg3, train, test, predictors, target, IDcol, 'alg3.csv')\n",
        "coef3 = pd.Series(alg3.feature_importances_, predictors).sort_values(ascending=False)\n",
        "coef3.plot(kind='bar', title='Feature Importances')"
      ],
      "execution_count": null,
      "outputs": []
    }
  ]
}
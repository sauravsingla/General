{
  "nbformat": 4,
  "nbformat_minor": 0,
  "metadata": {
    "colab": {
      "name": "Problem_Genetic.ipynb",
      "provenance": [],
      "collapsed_sections": [],
      "include_colab_link": true
    },
    "kernelspec": {
      "name": "python2",
      "display_name": "Python 2"
    },
    "accelerator": "GPU"
  },
  "cells": [
    {
      "cell_type": "markdown",
      "metadata": {
        "id": "view-in-github",
        "colab_type": "text"
      },
      "source": [
        "<a href=\"https://colab.research.google.com/github/sauravsingla/General/blob/master/Problem_Genetic.ipynb\" target=\"_parent\"><img src=\"https://colab.research.google.com/assets/colab-badge.svg\" alt=\"Open In Colab\"/></a>"
      ]
    },
    {
      "cell_type": "code",
      "metadata": {
        "id": "exRXpb0HlPBj",
        "outputId": "e7f4001b-0230-411b-8718-81b0ad13241c",
        "colab": {
          "base_uri": "https://localhost:8080/",
          "height": 768
        }
      },
      "source": [
        "# installing DEAP, update_checker and tqdm \n",
        "\n",
        "!pip install deap update_checker tqdm\n",
        "\n",
        "# installling TPOT \n",
        "\n",
        "!pip install tpot"
      ],
      "execution_count": null,
      "outputs": [
        {
          "output_type": "stream",
          "text": [
            "Collecting deap\n",
            "  Using cached https://files.pythonhosted.org/packages/af/29/e7f2ecbe02997b16a768baed076f5fc4781d7057cd5d9adf7c94027845ba/deap-1.2.2.tar.gz\n",
            "Collecting update_checker\n",
            "  Using cached https://files.pythonhosted.org/packages/17/c9/ab11855af164d03be0ff4fddd4c46a5bd44799a9ecc1770e01a669c21168/update_checker-0.16-py2.py3-none-any.whl\n",
            "Requirement already satisfied: tqdm in /usr/local/lib/python2.7/dist-packages (4.28.1)\n",
            "Requirement already satisfied: requests>=2.3.0 in /usr/local/lib/python2.7/dist-packages (from update_checker) (2.18.4)\n",
            "Requirement already satisfied: idna<2.7,>=2.5 in /usr/local/lib/python2.7/dist-packages (from requests>=2.3.0->update_checker) (2.6)\n",
            "Requirement already satisfied: urllib3<1.23,>=1.21.1 in /usr/local/lib/python2.7/dist-packages (from requests>=2.3.0->update_checker) (1.22)\n",
            "Requirement already satisfied: certifi>=2017.4.17 in /usr/local/lib/python2.7/dist-packages (from requests>=2.3.0->update_checker) (2018.11.29)\n",
            "Requirement already satisfied: chardet<3.1.0,>=3.0.2 in /usr/local/lib/python2.7/dist-packages (from requests>=2.3.0->update_checker) (3.0.4)\n",
            "Building wheels for collected packages: deap\n",
            "  Building wheel for deap (setup.py) ... \u001b[?25ldone\n",
            "\u001b[?25h  Stored in directory: /root/.cache/pip/wheels/22/ea/bf/dc7c8a2262025a0ab5da9ef02282c198be88902791ca0c6658\n",
            "Successfully built deap\n",
            "Installing collected packages: deap, update-checker\n",
            "Successfully installed deap-1.2.2 update-checker-0.16\n",
            "Collecting tpot\n",
            "  Using cached https://files.pythonhosted.org/packages/c5/6c/f1806e5b31d65a195bcd94fd80079318d5a9e54c2239b395404c25496792/TPOT-0.9.5.tar.gz\n",
            "Requirement already satisfied: numpy>=1.12.1 in /usr/local/lib/python2.7/dist-packages (from tpot) (1.14.6)\n",
            "Requirement already satisfied: scipy>=0.19.0 in /usr/local/lib/python2.7/dist-packages (from tpot) (1.1.0)\n",
            "Requirement already satisfied: scikit-learn>=0.18.1 in /usr/local/lib/python2.7/dist-packages (from tpot) (0.20.2)\n",
            "Requirement already satisfied: deap>=1.0 in /usr/local/lib/python2.7/dist-packages (from tpot) (1.2.2)\n",
            "Requirement already satisfied: update_checker>=0.16 in /usr/local/lib/python2.7/dist-packages (from tpot) (0.16)\n",
            "Requirement already satisfied: tqdm>=4.11.2 in /usr/local/lib/python2.7/dist-packages (from tpot) (4.28.1)\n",
            "Collecting stopit>=1.1.1 (from tpot)\n",
            "  Using cached https://files.pythonhosted.org/packages/35/58/e8bb0b0fb05baf07bbac1450c447d753da65f9701f551dca79823ce15d50/stopit-1.1.2.tar.gz\n",
            "Requirement already satisfied: pandas>=0.20.2 in /usr/local/lib/python2.7/dist-packages (from tpot) (0.22.0)\n",
            "Requirement already satisfied: requests>=2.3.0 in /usr/local/lib/python2.7/dist-packages (from update_checker>=0.16->tpot) (2.18.4)\n",
            "Requirement already satisfied: pytz>=2011k in /usr/local/lib/python2.7/dist-packages (from pandas>=0.20.2->tpot) (2018.9)\n",
            "Requirement already satisfied: python-dateutil in /usr/local/lib/python2.7/dist-packages (from pandas>=0.20.2->tpot) (2.5.3)\n",
            "Requirement already satisfied: idna<2.7,>=2.5 in /usr/local/lib/python2.7/dist-packages (from requests>=2.3.0->update_checker>=0.16->tpot) (2.6)\n",
            "Requirement already satisfied: urllib3<1.23,>=1.21.1 in /usr/local/lib/python2.7/dist-packages (from requests>=2.3.0->update_checker>=0.16->tpot) (1.22)\n",
            "Requirement already satisfied: certifi>=2017.4.17 in /usr/local/lib/python2.7/dist-packages (from requests>=2.3.0->update_checker>=0.16->tpot) (2018.11.29)\n",
            "Requirement already satisfied: chardet<3.1.0,>=3.0.2 in /usr/local/lib/python2.7/dist-packages (from requests>=2.3.0->update_checker>=0.16->tpot) (3.0.4)\n",
            "Requirement already satisfied: six>=1.5 in /usr/local/lib/python2.7/dist-packages (from python-dateutil->pandas>=0.20.2->tpot) (1.11.0)\n",
            "Building wheels for collected packages: tpot, stopit\n",
            "  Building wheel for tpot (setup.py) ... \u001b[?25ldone\n",
            "\u001b[?25h  Stored in directory: /root/.cache/pip/wheels/97/86/27/698a1366f854d2344fd0f7ee9ef57c8044ec02f182c8a0431e\n",
            "  Building wheel for stopit (setup.py) ... \u001b[?25ldone\n",
            "\u001b[?25h  Stored in directory: /root/.cache/pip/wheels/3c/85/2b/2580190404636bfc63e8de3dff629c03bb795021e1983a6cc7\n",
            "Successfully built tpot stopit\n",
            "Installing collected packages: stopit, tpot\n",
            "Successfully installed stopit-1.1.2 tpot-0.9.5\n"
          ],
          "name": "stdout"
        }
      ]
    },
    {
      "cell_type": "code",
      "metadata": {
        "id": "4IheayYulcdR"
      },
      "source": [
        "import numpy as np \n",
        "import pandas as pd \n",
        "import matplotlib.pyplot as plt \n",
        "%matplotlib inline \n",
        "from sklearn import preprocessing \n",
        "from sklearn.metrics import mean_squared_error "
      ],
      "execution_count": null,
      "outputs": []
    },
    {
      "cell_type": "code",
      "metadata": {
        "id": "ia1Mcs_MlhGw"
      },
      "source": [
        "#Read files:\n",
        "train = pd.read_csv(\"Train_UWu5bXk.csv\")\n",
        "test = pd.read_csv(\"Test_u94Q5KV.csv\")"
      ],
      "execution_count": null,
      "outputs": []
    },
    {
      "cell_type": "code",
      "metadata": {
        "id": "er_V66kElqfg",
        "outputId": "685ca5fc-dfc3-47b7-839c-f76a16005f18",
        "colab": {
          "base_uri": "https://localhost:8080/",
          "height": 105
        }
      },
      "source": [
        "# preprocessing\n",
        "\n",
        "### mean imputations \n",
        "train['Item_Weight'].fillna((train['Item_Weight'].mean()), inplace=True)\n",
        "test['Item_Weight'].fillna((test['Item_Weight'].mean()), inplace=True)\n",
        "\n",
        "### reducing fat content to only two categories \n",
        "train['Item_Fat_Content'] = train['Item_Fat_Content'].replace(['low fat','LF'], ['Low Fat','Low Fat']) \n",
        "train['Item_Fat_Content'] = train['Item_Fat_Content'].replace(['reg'], ['Regular']) \n",
        "test['Item_Fat_Content'] = test['Item_Fat_Content'].replace(['low fat','LF'], ['Low Fat','Low Fat']) \n",
        "test['Item_Fat_Content'] = test['Item_Fat_Content'].replace(['reg'], ['Regular'])\n",
        "\n",
        "## for calculating establishment year\n",
        "train['Outlet_Establishment_Year'] = 2013 - train['Outlet_Establishment_Year'] \n",
        "test['Outlet_Establishment_Year'] = 2013 - test['Outlet_Establishment_Year']\n",
        "\n",
        "### missing values for size\n",
        "train['Outlet_Size'].fillna('Small',inplace=True)\n",
        "test['Outlet_Size'].fillna('Small',inplace=True)\n",
        "\n",
        "### label encoding cate. var.\n",
        "col = ['Outlet_Size','Outlet_Location_Type','Outlet_Type','Item_Fat_Content']\n",
        "test['Item_Outlet_Sales'] = 0\n",
        "combi = train.append(test)\n",
        "number = preprocessing.LabelEncoder() \n",
        "for i in col:\n",
        " combi[i] = number.fit_transform(combi[i].astype('str'))\n",
        " combi[i] = combi[i].astype('int')\n",
        "train = combi[:train.shape[0]]\n",
        "test = combi[train.shape[0]:]\n",
        "test.drop('Item_Outlet_Sales',axis=1,inplace=True)\n",
        "\n"
      ],
      "execution_count": null,
      "outputs": [
        {
          "output_type": "stream",
          "text": [
            "/usr/local/lib/python2.7/dist-packages/ipykernel_launcher.py:28: SettingWithCopyWarning: \n",
            "A value is trying to be set on a copy of a slice from a DataFrame\n",
            "\n",
            "See the caveats in the documentation: http://pandas.pydata.org/pandas-docs/stable/indexing.html#indexing-view-versus-copy\n"
          ],
          "name": "stderr"
        }
      ]
    },
    {
      "cell_type": "code",
      "metadata": {
        "id": "3dEbVqP2oIQX"
      },
      "source": [
        "## removing id variables \n",
        "tpot_train = train.drop(['Outlet_Identifier','Item_Type','Item_Identifier'],axis=1)\n",
        "tpot_test = test.drop(['Outlet_Identifier','Item_Type','Item_Identifier'],axis=1)\n",
        "target = tpot_train['Item_Outlet_Sales']\n",
        "tpot_train.drop('Item_Outlet_Sales',axis=1,inplace=True)"
      ],
      "execution_count": null,
      "outputs": []
    },
    {
      "cell_type": "code",
      "metadata": {
        "id": "O6NKEAD9oONR"
      },
      "source": [
        "# finally building model using tpot library\n",
        "from tpot import TPOTRegressor\n",
        "from sklearn.cross_validation import train_test_split\n",
        "X_train, X_test, y_train, y_test = train_test_split(tpot_train, target,\n",
        " train_size=0.75, test_size=0.25)"
      ],
      "execution_count": null,
      "outputs": []
    },
    {
      "cell_type": "code",
      "metadata": {
        "id": "qWQRDOKFpEDY"
      },
      "source": [
        "tpot = TPOTRegressor(generations=5, population_size=50, verbosity=2)\n",
        "tpot.fit(X_train, y_train)\n",
        "print(tpot.score(X_test, y_test))\n",
        "tpot.export('tpot_boston_pipeline.py')"
      ],
      "execution_count": null,
      "outputs": []
    },
    {
      "cell_type": "code",
      "metadata": {
        "id": "67kEvaQRpGrR"
      },
      "source": [
        "## predicting using tpot optimised pipeline\n",
        "tpot_pred = tpot.predict(tpot_test)\n",
        "sub1 = pd.DataFrame(data=tpot_pred)\n",
        "#sub1.index = np.arange(0, len(test)+1)\n",
        "sub1 = sub1.rename(columns = {'0':'Item_Outlet_Sales'})\n",
        "sub1['Item_Identifier'] = test['Item_Identifier']\n",
        "sub1['Outlet_Identifier'] = test['Outlet_Identifier']\n",
        "sub1.columns = ['Item_Outlet_Sales','Item_Identifier','Outlet_Identifier']\n",
        "sub1 = sub1[['Item_Identifier','Outlet_Identifier','Item_Outlet_Sales']]\n",
        "sub1.to_csv('tpot.csv',index=False)"
      ],
      "execution_count": null,
      "outputs": []
    }
  ]
}